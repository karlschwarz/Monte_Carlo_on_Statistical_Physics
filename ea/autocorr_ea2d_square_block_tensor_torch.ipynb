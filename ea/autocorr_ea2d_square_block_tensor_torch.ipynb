{
 "cells": [
  {
   "cell_type": "markdown",
   "id": "5d35b836-5328-4744-9b2f-8c6aebbcfe4c",
   "metadata": {},
   "source": [
    "# Estimation of Autocorrelation Function (Block Tensor)\n",
    "\n",
    "## (2d EA Square)"
   ]
  },
  {
   "cell_type": "markdown",
   "id": "46228eaf-c21b-4313-a491-a72905c47874",
   "metadata": {},
   "source": [
    "\\begin{align}\n",
    "H = -\\sum_{<ij>}J_{ij}s_{i}s_{j} - \\sum_{i}h_{i}s_{i},\n",
    "\\end{align}\n",
    "where \n",
    "\\begin{align}\n",
    "    &J_{ij}\\sim Bern([-1, 1], 1/2),\\\\\n",
    "    &s_{i} \\in \\{-1, 1\\}.\n",
    "\\end{align}\n",
    "Here we set $h_{i} =0$. In the quench limit, we set\n",
    "\\begin{align}\n",
    "    &J_{ij} = 1 \\textit{ if $i$ is odd,}\\\\\n",
    "    &J_{ij} = -1 \\textit{ if $i$ is even,}\n",
    "\\end{align}"
   ]
  },
  {
   "cell_type": "markdown",
   "id": "dc255ab8-40f6-4297-b17f-48f0235ac97e",
   "metadata": {},
   "source": [
    "   * - * - * - *\n",
    " -1|   | -1|   |\n",
    "   * - * - * - *\n",
    " -1|   | -1|   |\n",
    "   * - * - * - *\n",
    " -1|   | -1|   |\n",
    "   * - * - * - *"
   ]
  },
  {
   "cell_type": "markdown",
   "id": "f83991c2-da63-4b57-a4a7-fca17a0db463",
   "metadata": {},
   "source": [
    "\\begin{align}\n",
    "q_{ea} = \\sum_{i}s_{i}^{\\alpha}s_{i}^{\\beta},&\\\\\n",
    "<q_{ea}> = \\sum_{i}m_{i}^{\\alpha}m_{i}^{\\beta} = \\sum_{i}m_{i}^{2}&\n",
    "\\end{align}\n",
    "two copies $\\alpha$ and $\\beta$ are independent;"
   ]
  },
  {
   "cell_type": "code",
   "execution_count": 115,
   "id": "8ae5030b-dde4-4917-ad46-78433133e95c",
   "metadata": {
    "tags": []
   },
   "outputs": [],
   "source": [
    "import numpy as np\n",
    "import numba as nb"
   ]
  },
  {
   "cell_type": "code",
   "execution_count": 111,
   "id": "b3d57783-ab70-476f-8783-78a004130bf1",
   "metadata": {},
   "outputs": [],
   "source": [
    "import csv\n",
    "import pickle\n",
    "import time\n",
    "from tqdm.auto import trange"
   ]
  },
  {
   "cell_type": "code",
   "execution_count": 5,
   "id": "5e9753aa-6fdf-4815-ab5a-3ad1ba5505f7",
   "metadata": {},
   "outputs": [],
   "source": [
    "import seaborn as sns"
   ]
  },
  {
   "cell_type": "code",
   "execution_count": 6,
   "id": "9e91ea08-44ab-4791-bd72-994434ca7a70",
   "metadata": {},
   "outputs": [],
   "source": [
    "import matplotlib.pyplot as plt"
   ]
  },
  {
   "cell_type": "code",
   "execution_count": 7,
   "id": "3a347563-5814-4982-abaa-d418339f059e",
   "metadata": {},
   "outputs": [],
   "source": [
    "types_corr_k_steps_est = nb.types.Tuple((nb.float64, nb.float64, nb.float64[:]))(nb.float64[:], nb.int64)\n",
    "@nb.cfunc(types_corr_k_steps_est, parallel=True)\n",
    "def corr_k_step_est_float(sample_array, k_steps_max):\n",
    "    \"\"\"\n",
    "    Args:\n",
    "        mc_list: (np.array)\n",
    "        k_steps: (int)\n",
    "    Return:\n",
    "        corr_coef: (float)\n",
    "    \"\"\"\n",
    "    sample_len = len(sample_array)\n",
    "    num_i_steps = sample_len - k_steps_max\n",
    "    q_mean = np.mean(sample_array[:num_i_steps])\n",
    "    q_square_mean = np.mean(np.square(sample_array[:num_i_steps]))\n",
    "    qqk_sum = np.zeros(k_steps_max)\n",
    "    for i in range(num_i_steps):\n",
    "        samples_k_sub = sample_array[i:i+k_steps_max+1]\n",
    "        for j in range(1, k_steps_max+1):\n",
    "            qqk_sum[j-1] += (samples_k_sub[0] * samples_k_sub[j])\n",
    "    qqk_array = qqk_sum / num_i_steps\n",
    "    return (q_mean, q_square_mean, qqk_array)"
   ]
  },
  {
   "cell_type": "code",
   "execution_count": 8,
   "id": "7841599f-0c6e-44d3-b8af-36c9ff06ecca",
   "metadata": {},
   "outputs": [],
   "source": [
    "types_corr_k_steps_est = nb.types.Tuple((nb.float64, nb.float64, nb.float64[:]))(nb.int32[:], nb.int64)\n",
    "@nb.cfunc(types_corr_k_steps_est, parallel=True)\n",
    "def corr_k_step_est_int(sample_array, k_steps_max):\n",
    "    \"\"\"\n",
    "    Args:\n",
    "        mc_list: (np.array)\n",
    "        k_steps: (int)\n",
    "    Return:\n",
    "        corr_coef: (float)\n",
    "    \"\"\"\n",
    "    sample_len = len(sample_array)\n",
    "    num_i_steps = sample_len - k_steps_max\n",
    "    q_mean = np.mean(sample_array[:num_i_steps])\n",
    "    q_square_mean = np.mean(np.square(sample_array[:num_i_steps]))\n",
    "    qqk_sum = np.zeros(k_steps_max)\n",
    "    for i in range(num_i_steps):\n",
    "        samples_k_sub = sample_array[i:i+k_steps_max+1]\n",
    "        for j in range(1, k_steps_max+1):\n",
    "            qqk_sum[j-1] += (samples_k_sub[0] * samples_k_sub[j])\n",
    "    qqk_array = qqk_sum / num_i_steps\n",
    "    return (q_mean, q_square_mean, qqk_array)"
   ]
  },
  {
   "cell_type": "code",
   "execution_count": 9,
   "id": "99117e3e-4d2c-4e04-9edb-db91ef96ad78",
   "metadata": {},
   "outputs": [],
   "source": [
    "@nb.njit(parallel=True)\n",
    "def autocorr_mc_mean_est(mc_array, k_steps_max):\n",
    "    m_times = mc_array.shape[0]\n",
    "    qqk_mean_mc, qqk_mean_std_mc = np.zeros(k_steps_max), np.zeros(k_steps_max)\n",
    "    q_mean_array, q_square_mean_array, qqk_double_array = np.zeros(m_times), np.zeros(m_times), np.zeros((m_times, k_steps_max))\n",
    "    for i in range(m_times):\n",
    "        q_mean, q_square_mean, qqk_array = corr_k_step_est_float(mc_array[i], k_steps_max)\n",
    "        q_mean_array[i] = q_mean\n",
    "        q_square_mean_array[i] = q_square_mean\n",
    "        qqk_double_array[i] = qqk_array\n",
    "    for i in range(k_steps_max):\n",
    "        qqk_mean_mc_i = np.mean(qqk_double_array[:, i])\n",
    "        qqk_mean_std_mc_i = np.std(qqk_double_array[:, i])\n",
    "        qqk_mean_mc[i] = qqk_mean_mc_i\n",
    "        qqk_mean_std_mc[i] = qqk_mean_std_mc_i / np.sqrt(m_times)\n",
    "    ####################################################\n",
    "    q_mean_mc = np.mean(q_mean_array)\n",
    "    q_mean_std_mc = np.std(q_mean_array) / np.sqrt(m_times)\n",
    "    q_square_mean_mc = np.mean(q_square_mean_array)\n",
    "    q_square_mean_std_mc = np.std(q_square_mean_array) / np.sqrt(m_times)\n",
    "    ####################################################\n",
    "    q_mean = (q_mean_mc, q_mean_std_mc)\n",
    "    q_square_mean = (q_square_mean_mc, q_square_mean_std_mc)\n",
    "    qqk_mean = (qqk_mean_mc, qqk_mean_std_mc)\n",
    "    ####################################################\n",
    "    autocorr_mc = (qqk_mean_mc - q_mean_mc ** 2) / (q_square_mean_mc - q_mean_mc ** 2) \n",
    "    return autocorr_mc, q_mean, q_square_mean, qqk_mean"
   ]
  },
  {
   "cell_type": "code",
   "execution_count": 10,
   "id": "13791c7d-5533-4d4e-be5b-f8a29428d471",
   "metadata": {},
   "outputs": [],
   "source": [
    "@nb.njit(parallel=True)\n",
    "def autocorr_mc_std_est(mc_array, k_steps_max):\n",
    "    m_times = mc_array.shape[0]\n",
    "    qqk_mean_mc, qqk_mean_std_mc = np.zeros(k_steps_max), np.zeros(k_steps_max)\n",
    "    q_mean_array, q_square_mean_array, qqk_double_array = np.zeros((m_times, 1)), np.zeros((m_times, 1)), np.zeros((m_times, k_steps_max))\n",
    "    autocorr_mc_mean, autocorr_mc_std = np.zeros(k_steps_max), np.zeros(k_steps_max)\n",
    "    for i in range(m_times):\n",
    "        q_mean, q_square_mean, qqk_array = corr_k_step_est_float(mc_array[i], k_steps_max)\n",
    "        q_mean_array[i] = q_mean\n",
    "        q_square_mean_array[i] = q_square_mean\n",
    "        qqk_double_array[i] = qqk_array        \n",
    "    ####################################################\n",
    "    autocorr_mc_array = (qqk_double_array - q_mean_array ** 2) / (q_square_mean_array - q_mean_array ** 2)\n",
    "    q_mean_mc = np.mean(q_mean_array)\n",
    "    q_square_mean_mc = np.mean(q_square_mean_array)\n",
    "    qqk_mc = np.mean(qqk_double_array)\n",
    "    for j in range(k_steps_max):\n",
    "        autocorr_mc_mean[j] = np.mean(autocorr_mc_array[:, j])\n",
    "        autocorr_mc_std[j] = np.std(autocorr_mc_array[:, j]) / np.sqrt(m_times)\n",
    "    return autocorr_mc_mean, autocorr_mc_std"
   ]
  },
  {
   "cell_type": "code",
   "execution_count": 11,
   "id": "16c2f462-4a4d-4376-81ef-7c46a39b2230",
   "metadata": {},
   "outputs": [],
   "source": [
    "def autocorr_time_est(autocorr_fun_list, t_trunc):\n",
    "    num_steps = len(autocorr_fun_list)\n",
    "    coeff_auto = np.polyfit(np.arange(num_steps), np.log(autocorr_fun_list), 1)\n",
    "    k, b = coeff_auto\n",
    "    auto_time_up = 1 / k * np.exp(k * t_trunc + b)\n",
    "    auto_time_down = 1 / k\n",
    "    autocorr_time = auto_time_up - auto_time_down  \n",
    "    return autocorr_time"
   ]
  },
  {
   "cell_type": "code",
   "execution_count": 12,
   "id": "836b9290-a2de-44ef-8d5a-53892e86c6ef",
   "metadata": {},
   "outputs": [],
   "source": [
    "def autocorr_mean_std_est(file, shape, steps):\n",
    "    with open(file, 'rb') as file:\n",
    "        ea2d_dict = pickle.load(file)\n",
    "        q_ea2d = ea2d_dict['q_history']\n",
    "    q_ea2d = q_ea2d.reshape(shape)\n",
    "    q_mean = np.mean(q_ea2d)\n",
    "    autocorr_q_ea2d_mean, _, _, _ = autocorr_mc_mean_est(q_ea2d, steps)\n",
    "    _, autocorr_q_ea2d_std = autocorr_mc_std_est(q_ea2d, steps)\n",
    "    return q_mean, autocorr_q_ea2d_mean, autocorr_q_ea2d_std"
   ]
  },
  {
   "cell_type": "code",
   "execution_count": 13,
   "id": "0e7c8cff-2389-46e4-8aac-c81ccf82f8c1",
   "metadata": {},
   "outputs": [],
   "source": [
    "def autocorr_est(file_list, shape, steps):\n",
    "    q_mean_list, autocorr_mean_list, autocorr_std_list = [], [], []\n",
    "    for file in file_list:\n",
    "        q_mean, autocorr_mean_i, autocorr_std_i = autocorr_mean_std_est(file, shape, steps)\n",
    "        q_mean_list.append(q_mean)\n",
    "        autocorr_mean_list.append(autocorr_mean_i)\n",
    "        autocorr_std_list.append(autocorr_std_i)\n",
    "    return q_mean_list, autocorr_mean_list, autocorr_std_list"
   ]
  },
  {
   "cell_type": "markdown",
   "id": "a72ee466-cb2c-4851-82be-8696db0831da",
   "metadata": {
    "tags": []
   },
   "source": [
    "-----------\n",
    "### Size = 4"
   ]
  },
  {
   "cell_type": "code",
   "execution_count": 14,
   "id": "6f63ee48-0d6b-4550-9554-71423461304d",
   "metadata": {},
   "outputs": [],
   "source": [
    "with open('./data_2d_ea/ea_square_size_4/ea_square_size_4_beta_5.000_h_0.000_50E4_frust_tensor_torch_v4.pkl', 'rb') as file:\n",
    "    data_dict = pickle.load(file)\n",
    "    q_ea2d_4_v4 = data_dict['q_list']"
   ]
  },
  {
   "cell_type": "code",
   "execution_count": 15,
   "id": "cd0352e4-d15f-4e96-bc73-f5917ed069fc",
   "metadata": {},
   "outputs": [],
   "source": [
    "with open('./data_2d_ea/ea_square_size_4/ea_square_size_4_beta_5.000_h_0.000_50E4_frust_tensor_torch_v5.pkl', 'rb') as file:\n",
    "    data_dict = pickle.load(file)\n",
    "    q_ea2d_4_v5 = data_dict['q_list']"
   ]
  },
  {
   "cell_type": "code",
   "execution_count": 16,
   "id": "77e6c8ef-d6c9-4fc7-84be-41c7f5c4c670",
   "metadata": {},
   "outputs": [
    {
     "data": {
      "text/plain": [
       "<AxesSubplot:ylabel='Count'>"
      ]
     },
     "execution_count": 16,
     "metadata": {},
     "output_type": "execute_result"
    },
    {
     "data": {
      "image/png": "[encoded data removed]",
      "text/plain": [
       "<Figure size 432x288 with 1 Axes>"
      ]
     },
     "metadata": {
      "needs_background": "light"
     },
     "output_type": "display_data"
    }
   ],
   "source": [
    "sns.histplot(q_ea2d_4_v5)"
   ]
  },
  {
   "cell_type": "code",
   "execution_count": 17,
   "id": "1e630b95-e248-4b67-bba2-86adc57c25b5",
   "metadata": {},
   "outputs": [],
   "source": [
    "with open('./data_2d_ea/ea_square_size_4/ea_square_size_4_beta_5.000_h_0.000_50E4_frust_tensor_torch_v7.pkl', 'rb') as file:\n",
    "    data_dict = pickle.load(file)\n",
    "    q_ea2d_4_v7 = data_dict['q_list']"
   ]
  },
  {
   "cell_type": "code",
   "execution_count": 18,
   "id": "81ed6d7b-51df-4f53-83b4-ee3536a25d26",
   "metadata": {},
   "outputs": [],
   "source": [
    "with open('./data_2d_ea/ea_square_size_4/ea_square_size_4_beta_5.000_h_0.000_50E4_frust_tensor_torch_v8.pkl', 'rb') as file:\n",
    "    data_dict = pickle.load(file)\n",
    "    q_ea2d_4_v8 = data_dict['q_list']"
   ]
  },
  {
   "cell_type": "code",
   "execution_count": 19,
   "id": "67fb2570-99d6-44be-bc70-9db2a15a84c0",
   "metadata": {},
   "outputs": [],
   "source": [
    "q_ea2d_4_v4 = np.reshape(q_ea2d_4_v4, (500, 1000))\n",
    "q_ea2d_4_v5 = np.reshape(q_ea2d_4_v8, (500, 1000))\n",
    "q_ea2d_4_v7 = np.reshape(q_ea2d_4_v7, (500, 1000))\n",
    "q_ea2d_4_v8 = np.reshape(q_ea2d_4_v8, (500, 1000))"
   ]
  },
  {
   "cell_type": "code",
   "execution_count": 20,
   "id": "4340fe2e-e728-4505-8c19-ff94449624f8",
   "metadata": {},
   "outputs": [],
   "source": [
    "q_ea2d_4 = np.concatenate((q_ea2d_4_v4, q_ea2d_4_v5, \n",
    "                           q_ea2d_4_v7, q_ea2d_4_v8), axis=0)"
   ]
  },
  {
   "cell_type": "code",
   "execution_count": 21,
   "id": "fb46011b-478f-40a0-b345-05c788120739",
   "metadata": {},
   "outputs": [
    {
     "data": {
      "text/plain": [
       "(2000, 1000)"
      ]
     },
     "execution_count": 21,
     "metadata": {},
     "output_type": "execute_result"
    }
   ],
   "source": [
    "q_ea2d_4.shape"
   ]
  },
  {
   "cell_type": "code",
   "execution_count": 22,
   "id": "2dd1e4b2-2043-44c9-8168-6d9c8ac96673",
   "metadata": {},
   "outputs": [
    {
     "name": "stdout",
     "output_type": "stream",
     "text": [
      "17.14626455307007\n"
     ]
    }
   ],
   "source": [
    "time_start = time.time()\n",
    "autocorr_q_ea2d_4_mean, _, _, _ = autocorr_mc_mean_est(q_ea2d_4, 100)\n",
    "_, autocorr_q_ea2d_4_std = autocorr_mc_std_est(q_ea2d_4, 100)\n",
    "time_end = time.time()\n",
    "print(time_end-time_start)"
   ]
  },
  {
   "cell_type": "code",
   "execution_count": 23,
   "id": "04853ca8-747f-4a86-853c-211b0a384bb8",
   "metadata": {},
   "outputs": [],
   "source": [
    "autocorr_q_ea2d_4_mean = np.insert(autocorr_q_ea2d_4_mean, 0, 1)\n",
    "autocorr_q_ea2d_4_std = np.insert(autocorr_q_ea2d_4_std, 0, 0)"
   ]
  },
  {
   "cell_type": "code",
   "execution_count": 24,
   "id": "1bd9e87f-5202-4fe4-9e59-5224d889f7ac",
   "metadata": {},
   "outputs": [
    {
     "data": {
      "text/plain": [
       "<matplotlib.legend.Legend at 0x7fd214300730>"
      ]
     },
     "execution_count": 24,
     "metadata": {},
     "output_type": "execute_result"
    },
    {
     "data": {
      "image/png": "[encoded data removed]",
      "text/plain": [
       "<Figure size 432x288 with 1 Axes>"
      ]
     },
     "metadata": {
      "needs_background": "light"
     },
     "output_type": "display_data"
    }
   ],
   "source": [
    "plt.errorbar(x=range(101), y=autocorr_q_ea2d_4_mean, yerr=autocorr_q_ea2d_4_std, \n",
    "             fmt='-o', capsize=3, elinewidth=2, label='size=4')\n",
    "plt.yscale(\"log\")\n",
    "plt.ylim(10**-3)\n",
    "plt.xlabel(r'$\\tau$ [Evolution steps]', fontsize=15)\n",
    "plt.ylabel(r'$A_{|q|}$', fontsize=15)\n",
    "plt.title(\"2D EA, Square, Beta=5, Block Tensor\")\n",
    "plt.legend()"
   ]
  },
  {
   "cell_type": "code",
   "execution_count": 25,
   "id": "e5d6944a-fad4-4d45-aad0-ac20e8f14557",
   "metadata": {},
   "outputs": [],
   "source": [
    "q_abs_mean_4 = np.mean(np.abs(q_ea2d_4))"
   ]
  },
  {
   "cell_type": "code",
   "execution_count": 26,
   "id": "6712ee5b-754e-47b4-83e6-021962903c5d",
   "metadata": {},
   "outputs": [],
   "source": [
    "q_ea2d_4_mean = np.mean(autocorr_q_ea2d_4_mean)"
   ]
  },
  {
   "cell_type": "code",
   "execution_count": 27,
   "id": "be3b13b0-8ae5-4916-9f12-1ba5f4927b25",
   "metadata": {},
   "outputs": [
    {
     "name": "stdout",
     "output_type": "stream",
     "text": [
      "q order of size 4 is: 0.034.\n"
     ]
    }
   ],
   "source": [
    "print(f\"q order of size 4 is: {q_ea2d_4_mean:.3f}.\")"
   ]
  },
  {
   "cell_type": "code",
   "execution_count": 28,
   "id": "04faae92-8624-4109-9460-3a40b8349f1f",
   "metadata": {},
   "outputs": [],
   "source": [
    "autocorr_time_size_4 = np.sum(autocorr_q_ea2d_4_mean) - 1/2"
   ]
  },
  {
   "cell_type": "code",
   "execution_count": 29,
   "id": "528492f9-a60b-4e70-800d-ca3c56c60523",
   "metadata": {},
   "outputs": [
    {
     "name": "stdout",
     "output_type": "stream",
     "text": [
      "autocorr time of size 4 is: 2.903.\n"
     ]
    }
   ],
   "source": [
    "print(f\"autocorr time of size 4 is: {autocorr_time_size_4:.3f}.\")"
   ]
  },
  {
   "cell_type": "code",
   "execution_count": 30,
   "id": "5fcbdb07-f892-4ee3-ae88-ecafa9f0fcfe",
   "metadata": {},
   "outputs": [],
   "source": [
    "autocorr_time_size_4 = autocorr_time_est(autocorr_q_ea2d_4_mean[:10], 1000)"
   ]
  },
  {
   "cell_type": "code",
   "execution_count": 31,
   "id": "5023f3e4-3e51-4cdc-9dc1-8315465330e0",
   "metadata": {},
   "outputs": [
    {
     "name": "stdout",
     "output_type": "stream",
     "text": [
      "autocorr time of size 4 is: 2.759.\n"
     ]
    }
   ],
   "source": [
    "print(f\"autocorr time of size 4 is: {autocorr_time_size_4:.3f}.\")"
   ]
  },
  {
   "cell_type": "markdown",
   "id": "400c1af8-cc91-41c5-802f-c853965e7e3f",
   "metadata": {},
   "source": [
    "-----------------------------\n",
    "### Size = 8"
   ]
  },
  {
   "cell_type": "code",
   "execution_count": 32,
   "id": "349ae846-6ee2-4c2f-9701-7fb097a3c9e0",
   "metadata": {},
   "outputs": [],
   "source": [
    "with open('./data_2d_ea/ea_square_size_8/ea_square_size_8_beta_5.000_h_0.000_23E4_frust_tensor_torch_v0.pkl', 'rb') as file:\n",
    "    q_ea2d_8_v0 = pickle.load(file)"
   ]
  },
  {
   "cell_type": "code",
   "execution_count": 33,
   "id": "33c325d0-2d9d-47d2-a87e-057962800989",
   "metadata": {},
   "outputs": [],
   "source": [
    "with open('./data_2d_ea/ea_square_size_8/ea_square_size_8_beta_5.000_h_0.000_23E4_frust_tensor_torch_v1.pkl', 'rb') as file:\n",
    "    q_ea2d_8_v1 = pickle.load(file)"
   ]
  },
  {
   "cell_type": "code",
   "execution_count": 34,
   "id": "23b2e6e5-78e8-4c03-bd25-ec2d92dd079f",
   "metadata": {},
   "outputs": [],
   "source": [
    "with open('./data_2d_ea/ea_square_size_8/ea_square_size_8_beta_5.000_h_0.000_23E4_frust_tensor_torch_v2.pkl', 'rb') as file:\n",
    "    q_ea2d_8_v2 = pickle.load(file)"
   ]
  },
  {
   "cell_type": "code",
   "execution_count": 35,
   "id": "6981ced7-442c-4cb0-9f96-b9a3281fa492",
   "metadata": {},
   "outputs": [],
   "source": [
    "with open('./data_2d_ea/ea_square_size_8/ea_square_size_8_beta_5.000_h_0.000_23E4_frust_tensor_torch_v3.pkl', 'rb') as file:\n",
    "    q_ea2d_8_v3 = pickle.load(file)"
   ]
  },
  {
   "cell_type": "code",
   "execution_count": 36,
   "id": "028fce36-f9c1-4b63-8743-bc6e68459058",
   "metadata": {},
   "outputs": [],
   "source": [
    "with open('./data_2d_ea/ea_square_size_8/ea_square_size_8_beta_5.000_h_0.000_23E4_frust_tensor_torch_v4.pkl', 'rb') as file:\n",
    "    q_ea2d_8_v4 = pickle.load(file)"
   ]
  },
  {
   "cell_type": "code",
   "execution_count": 37,
   "id": "5e14e56f-c20a-4329-97c9-09ab53e13af2",
   "metadata": {},
   "outputs": [],
   "source": [
    "with open('./data_2d_ea/ea_square_size_8/ea_square_size_8_beta_5.000_h_0.000_23E4_frust_tensor_torch_v5.pkl', 'rb') as file:\n",
    "    q_ea2d_8_v5 = pickle.load(file)"
   ]
  },
  {
   "cell_type": "code",
   "execution_count": 38,
   "id": "1ec22ace-3bc1-4280-ae87-40dc01015246",
   "metadata": {},
   "outputs": [],
   "source": [
    "with open('./data_2d_ea/ea_square_size_8/ea_square_size_8_beta_5.000_h_0.000_23E4_frust_tensor_torch_v6.pkl', 'rb') as file:\n",
    "    q_ea2d_8_v6 = pickle.load(file)"
   ]
  },
  {
   "cell_type": "code",
   "execution_count": 39,
   "id": "e1f6eb46-b886-44f3-83f7-e7da21aa4b2f",
   "metadata": {},
   "outputs": [],
   "source": [
    "with open('./data_2d_ea/ea_square_size_8/ea_square_size_8_beta_5.000_h_0.000_23E4_frust_tensor_torch_v7.pkl', 'rb') as file:\n",
    "    q_ea2d_8_v7 = pickle.load(file)"
   ]
  },
  {
   "cell_type": "code",
   "execution_count": 40,
   "id": "b8b244d5-4f31-467d-92a2-39c928446b1f",
   "metadata": {},
   "outputs": [],
   "source": [
    "with open('./data_2d_ea/ea_square_size_8/ea_square_size_8_beta_5.000_h_0.000_10E4_frust_tensor_torch_v10.pkl', 'rb') as file:\n",
    "    q_ea2d_8_v10 = pickle.load(file)"
   ]
  },
  {
   "cell_type": "code",
   "execution_count": 41,
   "id": "5948c294-5e0c-4982-81ed-d926ec79fe39",
   "metadata": {},
   "outputs": [],
   "source": [
    "with open('./data_2d_ea/ea_square_size_8/ea_square_size_8_beta_5.000_h_0.000_10E4_frust_tensor_torch_v11.pkl', 'rb') as file:\n",
    "    q_ea2d_8_v11 = pickle.load(file)"
   ]
  },
  {
   "cell_type": "code",
   "execution_count": 42,
   "id": "d6faaaf0-f7fb-4121-8f09-1088e768c7b1",
   "metadata": {},
   "outputs": [],
   "source": [
    "with open('./data_2d_ea/ea_square_size_8/ea_square_size_8_beta_5.000_h_0.000_10E4_frust_tensor_torch_v13.pkl', 'rb') as file:\n",
    "    q_ea2d_8_v13 = pickle.load(file)"
   ]
  },
  {
   "cell_type": "code",
   "execution_count": 43,
   "id": "c1bec5b9-efcd-4091-9419-2a23216129d0",
   "metadata": {},
   "outputs": [],
   "source": [
    "with open('./data_2d_ea/ea_square_size_8/ea_square_size_8_beta_5.000_h_0.000_10E4_frust_tensor_torch_v14.pkl', 'rb') as file:\n",
    "    q_ea2d_8_v14 = pickle.load(file)"
   ]
  },
  {
   "cell_type": "code",
   "execution_count": 44,
   "id": "220f5ddd-7634-4f7b-9fca-da67f8dc2f4e",
   "metadata": {},
   "outputs": [],
   "source": [
    "with open('./data_2d_ea/ea_square_size_8/ea_square_size_8_beta_5.000_h_0.000_10E4_frust_tensor_torch_v15.pkl', 'rb') as file:\n",
    "    q_ea2d_8_v15 = pickle.load(file)"
   ]
  },
  {
   "cell_type": "code",
   "execution_count": 45,
   "id": "e0992ddb-056b-4851-8030-1b78d56ac718",
   "metadata": {},
   "outputs": [],
   "source": [
    "q_ea2d_8_v0 = np.reshape(q_ea2d_8_v0, (230, 1000))\n",
    "q_ea2d_8_v1 = np.reshape(q_ea2d_8_v1, (230, 1000))\n",
    "q_ea2d_8_v2 = np.reshape(q_ea2d_8_v2, (230, 1000))\n",
    "q_ea2d_8_v3 = np.reshape(q_ea2d_8_v3, (230, 1000))\n",
    "q_ea2d_8_v4 = np.reshape(q_ea2d_8_v4, (230, 1000))\n",
    "q_ea2d_8_v5 = np.reshape(q_ea2d_8_v5, (230, 1000))\n",
    "q_ea2d_8_v6 = np.reshape(q_ea2d_8_v6, (230, 1000))\n",
    "q_ea2d_8_v7 = np.reshape(q_ea2d_8_v7, (230, 1000))\n",
    "q_ea2d_8_v10 = np.reshape(q_ea2d_8_v10, (100, 1000))\n",
    "q_ea2d_8_v11 = np.reshape(q_ea2d_8_v11, (100, 1000))\n",
    "q_ea2d_8_v13 = np.reshape(q_ea2d_8_v13, (100, 1000))\n",
    "q_ea2d_8_v14 = np.reshape(q_ea2d_8_v14, (100, 1000))\n",
    "q_ea2d_8_v15 = np.reshape(q_ea2d_8_v15, (100, 1000))"
   ]
  },
  {
   "cell_type": "code",
   "execution_count": 46,
   "id": "2ae93839-99a5-4f80-ac21-231f76d53721",
   "metadata": {},
   "outputs": [],
   "source": [
    "q_ea2d_8 = np.concatenate((#q_ea2d_8_v0, \n",
    "                           q_ea2d_8_v1,\n",
    "                           q_ea2d_8_v2,\n",
    "                           q_ea2d_8_v3,\n",
    "                           q_ea2d_8_v4,\n",
    "                           q_ea2d_8_v5,\n",
    "                           q_ea2d_8_v6,\n",
    "                           q_ea2d_8_v7, \n",
    "                           q_ea2d_8_v10,\n",
    "                           q_ea2d_8_v11, \n",
    "                           q_ea2d_8_v13, \n",
    "                           q_ea2d_8_v14, \n",
    "                           q_ea2d_8_v15), axis=0)"
   ]
  },
  {
   "cell_type": "code",
   "execution_count": 47,
   "id": "2d06ffe8-f922-4807-8615-7ba18e5c417b",
   "metadata": {},
   "outputs": [
    {
     "name": "stdout",
     "output_type": "stream",
     "text": [
      "3.256087064743042\n"
     ]
    }
   ],
   "source": [
    "time_start = time.time()\n",
    "autocorr_q_ea2d_8_mean, _, _, _ = autocorr_mc_mean_est(q_ea2d_8, 100)\n",
    "_, autocorr_q_ea2d_8_std = autocorr_mc_std_est(q_ea2d_8, 100)\n",
    "time_end = time.time()\n",
    "print(time_end-time_start)"
   ]
  },
  {
   "cell_type": "code",
   "execution_count": 271,
   "id": "f0ef17a2-31a4-4719-8afb-46d60143c170",
   "metadata": {},
   "outputs": [
    {
     "data": {
      "text/plain": [
       "4.166666666666666"
      ]
     },
     "execution_count": 271,
     "metadata": {},
     "output_type": "execute_result"
    }
   ],
   "source": [
    "15 / 100 / 3600 * 10000 * 10"
   ]
  },
  {
   "cell_type": "code",
   "execution_count": 272,
   "id": "02d22977-3a5b-4ea8-bafb-1fccf5426a45",
   "metadata": {},
   "outputs": [
    {
     "data": {
      "text/plain": [
       "3.0611111111111113"
      ]
     },
     "execution_count": 272,
     "metadata": {},
     "output_type": "execute_result"
    }
   ],
   "source": [
    "110.2 / 100 / 3600 * 10000"
   ]
  },
  {
   "cell_type": "code",
   "execution_count": 48,
   "id": "20fbfe80-7353-4272-8b65-0c5bb7bd70f6",
   "metadata": {},
   "outputs": [],
   "source": [
    "autocorr_q_ea2d_8_mean = np.insert(autocorr_q_ea2d_8_mean, 0, 1)"
   ]
  },
  {
   "cell_type": "code",
   "execution_count": 49,
   "id": "da9c5160-4a7e-40ad-9974-5cfe3cb0c36e",
   "metadata": {},
   "outputs": [],
   "source": [
    "autocorr_q_ea2d_8_std = np.insert(autocorr_q_ea2d_8_std, 0, 0)"
   ]
  },
  {
   "cell_type": "code",
   "execution_count": 50,
   "id": "f6617d91-52bd-41c4-ba5a-5a947770acb8",
   "metadata": {},
   "outputs": [
    {
     "data": {
      "text/plain": [
       "<matplotlib.legend.Legend at 0x7fd1f6462410>"
      ]
     },
     "execution_count": 50,
     "metadata": {},
     "output_type": "execute_result"
    },
    {
     "data": {
      "image/png": "[encoded data removed]",
      "text/plain": [
       "<Figure size 432x288 with 1 Axes>"
      ]
     },
     "metadata": {
      "needs_background": "light"
     },
     "output_type": "display_data"
    }
   ],
   "source": [
    "plt.errorbar(x=range(101), y=autocorr_q_ea2d_8_mean, yerr=autocorr_q_ea2d_8_std, \n",
    "             fmt='-o', capsize=3, elinewidth=2, label='size=8')\n",
    "plt.yscale(\"log\")\n",
    "plt.ylim(10**-3)\n",
    "plt.xlabel(r'$\\tau$ [Evolution Steps]', fontsize=15)\n",
    "plt.ylabel(r'$A_{|q|}$', fontsize=15)\n",
    "plt.title(\"2D EA, Square, Beta=5, Block Tensor\")\n",
    "plt.legend()"
   ]
  },
  {
   "cell_type": "code",
   "execution_count": 51,
   "id": "20f07ea6-dbdd-43d0-a078-35986f4d31e5",
   "metadata": {},
   "outputs": [],
   "source": [
    "q_abs_mean_8 = np.mean(np.abs(q_ea2d_8))"
   ]
  },
  {
   "cell_type": "code",
   "execution_count": 52,
   "id": "76d254dc-ef1b-4bd0-9b2f-741128c26f78",
   "metadata": {},
   "outputs": [],
   "source": [
    "autocorr_time_size_8 = np.sum(autocorr_q_ea2d_8_mean) - 1/2"
   ]
  },
  {
   "cell_type": "code",
   "execution_count": 53,
   "id": "424cd1d3-2037-4ccd-9aa2-faacfad5414e",
   "metadata": {},
   "outputs": [
    {
     "name": "stdout",
     "output_type": "stream",
     "text": [
      "autocorr time of size 4 is: 5.081.\n"
     ]
    }
   ],
   "source": [
    "print(f\"autocorr time of size 4 is: {autocorr_time_size_8:.3f}.\")"
   ]
  },
  {
   "cell_type": "code",
   "execution_count": 54,
   "id": "76dacfb0-dfeb-412d-b783-75922c7fe582",
   "metadata": {},
   "outputs": [],
   "source": [
    "autocorr_time_size_8 = autocorr_time_est(autocorr_q_ea2d_8_mean[:5], 1000)"
   ]
  },
  {
   "cell_type": "code",
   "execution_count": 55,
   "id": "50d627b0-ecc0-4c3a-85da-2ee7539ea079",
   "metadata": {},
   "outputs": [
    {
     "name": "stdout",
     "output_type": "stream",
     "text": [
      "autocorr time of size 4 is: 4.960.\n"
     ]
    }
   ],
   "source": [
    "print(f\"autocorr time of size 4 is: {autocorr_time_size_8:.3f}.\")"
   ]
  },
  {
   "cell_type": "markdown",
   "id": "bbaca771-38f6-4238-ab13-8db5c5526ad0",
   "metadata": {},
   "source": [
    "-----------\n",
    "### Size = 16"
   ]
  },
  {
   "cell_type": "code",
   "execution_count": 57,
   "id": "ec4a66d4-6dfe-47e7-8955-cbcf6af533e1",
   "metadata": {},
   "outputs": [],
   "source": [
    "with open('./data_2d_ea/ea_square_size_16_v4/ea_square_size_16_beta_5.000_h_0.000_15E4_frust_tensor_torch_v0.pkl', 'rb') as file:\n",
    "    data_dict = pickle.load(file)\n",
    "    q_ea2d_16_15E4_v0 = data_dict['q_list']"
   ]
  },
  {
   "cell_type": "code",
   "execution_count": 58,
   "id": "fbe1ee7a-77bf-476b-b9f4-4a0054910344",
   "metadata": {},
   "outputs": [],
   "source": [
    "with open('./data_2d_ea/ea_square_size_16_v4/ea_square_size_16_beta_5.000_h_0.000_15E4_frust_tensor_torch_v1.pkl', 'rb') as file:\n",
    "    data_dict = pickle.load(file)\n",
    "    q_ea2d_16_15E4_v1 = data_dict['q_list']"
   ]
  },
  {
   "cell_type": "code",
   "execution_count": 59,
   "id": "4bb112b9-5287-4ae4-8a5a-b5c4c613888f",
   "metadata": {},
   "outputs": [],
   "source": [
    "with open('./data_2d_ea/ea_square_size_16_v4/ea_square_size_16_beta_5.000_h_0.000_15E4_frust_tensor_torch_v2.pkl', 'rb') as file:\n",
    "    data_dict = pickle.load(file)\n",
    "    q_ea2d_16_15E4_v2 = data_dict['q_list']"
   ]
  },
  {
   "cell_type": "code",
   "execution_count": 60,
   "id": "66fb7dee-a0b8-43be-a0a8-8e0ce01bf463",
   "metadata": {},
   "outputs": [],
   "source": [
    "with open('./data_2d_ea/ea_square_size_16_v4/ea_square_size_16_beta_5.000_h_0.000_15E4_frust_tensor_torch_v3.pkl', 'rb') as file:\n",
    "    data_dict = pickle.load(file)\n",
    "    q_ea2d_16_15E4_v3 = data_dict['q_list']"
   ]
  },
  {
   "cell_type": "code",
   "execution_count": 61,
   "id": "13dc1791-e5a4-45d1-9a1d-3b30eee9547b",
   "metadata": {},
   "outputs": [],
   "source": [
    "with open('./data_2d_ea/ea_square_size_16_v4/ea_square_size_16_beta_5.000_h_0.000_15E4_frust_tensor_torch_v4.pkl', 'rb') as file:\n",
    "    data_dict = pickle.load(file)\n",
    "    q_ea2d_16_15E4_v4 = data_dict['q_list']"
   ]
  },
  {
   "cell_type": "code",
   "execution_count": 62,
   "id": "360ce91e-7d61-4590-87ee-ac6a74b873cb",
   "metadata": {},
   "outputs": [],
   "source": [
    "q_ea2d_16_15E4_v0 = np.reshape(q_ea2d_16_15E4_v0, (150, 1000))\n",
    "q_ea2d_16_15E4_v1 = np.reshape(q_ea2d_16_15E4_v1, (150, 1000))\n",
    "q_ea2d_16_15E4_v2 = np.reshape(q_ea2d_16_15E4_v2, (150, 1000))\n",
    "q_ea2d_16_15E4_v3 = np.reshape(q_ea2d_16_15E4_v3, (150, 1000))\n",
    "q_ea2d_16_15E4_v4 = np.reshape(q_ea2d_16_15E4_v4, (150, 1000))"
   ]
  },
  {
   "cell_type": "code",
   "execution_count": 63,
   "id": "5ccdf5d6-9717-4e6c-954c-40738ca2d25a",
   "metadata": {},
   "outputs": [],
   "source": [
    "q_ea2d_16_v20 = np.concatenate((q_ea2d_16_15E4_v0,\n",
    "                                q_ea2d_16_15E4_v1,\n",
    "                                q_ea2d_16_15E4_v2, \n",
    "                                q_ea2d_16_15E4_v3), axis=0)"
   ]
  },
  {
   "cell_type": "code",
   "execution_count": 64,
   "id": "99930c14-8879-4180-be66-6c21924e38c5",
   "metadata": {},
   "outputs": [],
   "source": [
    "with open('./data_2d_ea/ea_square_size_16_v3/ea_square_size_16_beta_5.000_h_0.000_8E4_frust_tensor_torch_v1.pkl', 'rb') as file:\n",
    "    q_ea2d_16_8E4_v1 = pickle.load(file)"
   ]
  },
  {
   "cell_type": "code",
   "execution_count": 65,
   "id": "42aced85-dc36-4c72-93ba-358339cd8f05",
   "metadata": {},
   "outputs": [],
   "source": [
    "with open('./data_2d_ea/ea_square_size_16_v3/ea_square_size_16_beta_5.000_h_0.000_8E4_frust_tensor_torch_v2.pkl', 'rb') as file:\n",
    "    q_ea2d_16_8E4_v2 = pickle.load(file)"
   ]
  },
  {
   "cell_type": "code",
   "execution_count": 66,
   "id": "c580d150-d1f7-49f5-942e-466a3b77ab93",
   "metadata": {},
   "outputs": [],
   "source": [
    "q_ea2d_16_8E4_v1 = np.reshape(q_ea2d_16_8E4_v1, (20, 1000))\n",
    "q_ea2d_16_8E4_v2 = np.reshape(q_ea2d_16_8E4_v2, (20, 1000))"
   ]
  },
  {
   "cell_type": "code",
   "execution_count": 67,
   "id": "0b022e59-8317-4a68-92a9-c873bd9e00eb",
   "metadata": {},
   "outputs": [],
   "source": [
    "q_ea2d_16_v19 = np.concatenate((q_ea2d_16_8E4_v1, q_ea2d_16_8E4_v2), axis=0)"
   ]
  },
  {
   "cell_type": "code",
   "execution_count": 68,
   "id": "6b8061b6-0ade-47db-b81a-1100e7272e65",
   "metadata": {},
   "outputs": [],
   "source": [
    "with open('./data_2d_ea/ea_square_size_16_v2/ea_square_size_16_beta_5.000_h_0.000_15E3_frust_tensor_torch_v8.pkl', 'rb') as file:\n",
    "    q_ea2d_16_15e3_v0 = pickle.load(file)"
   ]
  },
  {
   "cell_type": "code",
   "execution_count": 69,
   "id": "801be772-6913-4cd2-9474-f8aa8ed80474",
   "metadata": {},
   "outputs": [],
   "source": [
    "with open('./data_2d_ea/ea_square_size_16_v2/ea_square_size_16_beta_5.000_h_0.000_15E3_frust_tensor_torch_v10.pkl', 'rb') as file:\n",
    "    q_ea2d_16_15e3_v1 = pickle.load(file)"
   ]
  },
  {
   "cell_type": "code",
   "execution_count": 70,
   "id": "5116a374-9946-44b9-87ba-83522ffc6ec0",
   "metadata": {},
   "outputs": [],
   "source": [
    "with open('./data_2d_ea/ea_square_size_16_v2/ea_square_size_16_beta_5.000_h_0.000_15E3_frust_tensor_torch_v12.pkl', 'rb') as file:\n",
    "    q_ea2d_16_15e3_v2 = pickle.load(file)"
   ]
  },
  {
   "cell_type": "code",
   "execution_count": 71,
   "id": "a8ba76ff-ce89-4c2b-b67b-bf97c4281ae9",
   "metadata": {},
   "outputs": [],
   "source": [
    "with open('./data_2d_ea/ea_square_size_16_v2/ea_square_size_16_beta_5.000_h_0.000_15E3_frust_tensor_torch_v13.pkl', 'rb') as file:\n",
    "    q_ea2d_16_15e3_v3 = pickle.load(file)"
   ]
  },
  {
   "cell_type": "code",
   "execution_count": 72,
   "id": "1a07789b-e506-454d-8946-87e8ea9c82ba",
   "metadata": {},
   "outputs": [],
   "source": [
    "with open('./data_2d_ea/ea_square_size_16_v2/ea_square_size_16_beta_5.000_h_0.000_15E3_frust_tensor_torch_v14.pkl', 'rb') as file:\n",
    "    q_ea2d_16_15e3_v4 = pickle.load(file)"
   ]
  },
  {
   "cell_type": "code",
   "execution_count": 73,
   "id": "ba1f20c4-beaa-4c73-b72d-a89c01d1b612",
   "metadata": {},
   "outputs": [],
   "source": [
    "q_ea2d_16_15e3_v0 = np.reshape(q_ea2d_16_15e3_v0, (15, 1000))\n",
    "q_ea2d_16_15e3_v1 = np.reshape(q_ea2d_16_15e3_v1, (15, 1000))\n",
    "q_ea2d_16_15e3_v2 = np.reshape(q_ea2d_16_15e3_v2, (15, 1000))\n",
    "q_ea2d_16_15e3_v3 = np.reshape(q_ea2d_16_15e3_v3, (15, 1000))\n",
    "q_ea2d_16_15e3_v4 = np.reshape(q_ea2d_16_15e3_v4, (15, 1000))"
   ]
  },
  {
   "cell_type": "code",
   "execution_count": 74,
   "id": "86a3cf44-d965-4644-9ac7-eea517d6928b",
   "metadata": {},
   "outputs": [],
   "source": [
    "q_ea2d_16_v18 = np.concatenate((q_ea2d_16_15e3_v0, \n",
    "                                q_ea2d_16_15e3_v1, \n",
    "                                q_ea2d_16_15e3_v2, \n",
    "                                q_ea2d_16_15e3_v3, \n",
    "                                q_ea2d_16_15e3_v4), axis=0)"
   ]
  },
  {
   "cell_type": "code",
   "execution_count": 75,
   "id": "a97989be-18a0-4668-92ba-7768095ec251",
   "metadata": {},
   "outputs": [],
   "source": [
    "with open('./data_2d_ea/ea_square_size_16_v2/ea_square_size_16_beta_5.000_h_0.000_6E4_frust_tensor_torch_v0.pkl', 'rb') as file:\n",
    "    q_ea2d_16_v0 = pickle.load(file)"
   ]
  },
  {
   "cell_type": "code",
   "execution_count": 76,
   "id": "f16e5525-2225-4f7a-97bb-723d3bbfe03a",
   "metadata": {},
   "outputs": [],
   "source": [
    "with open('./data_2d_ea/ea_square_size_16_v2/ea_square_size_16_beta_5.000_h_0.000_6E4_frust_tensor_torch_v1.pkl', 'rb') as file:\n",
    "    q_ea2d_16_v1 = pickle.load(file)"
   ]
  },
  {
   "cell_type": "code",
   "execution_count": 124,
   "id": "5ad756a0-760c-4943-8f1c-f1a2c2296740",
   "metadata": {},
   "outputs": [],
   "source": [
    "with open('./data_2d_ea/ea_square_size_16_v2/ea_square_size_16_beta_5.000_h_0.000_6E4_frust_tensor_torch_v2.pkl', 'rb') as file:\n",
    "    q_ea2d_16_v2 = pickle.load(file)"
   ]
  },
  {
   "cell_type": "code",
   "execution_count": 78,
   "id": "23129cbd-dd55-459d-b3ec-6cd2eeecef0d",
   "metadata": {},
   "outputs": [],
   "source": [
    "with open('./data_2d_ea/ea_square_size_16_v2/ea_square_size_16_beta_5.000_h_0.000_6E4_frust_tensor_torch_v3.pkl', 'rb') as file:\n",
    "    q_ea2d_16_v3 = pickle.load(file)"
   ]
  },
  {
   "cell_type": "code",
   "execution_count": 79,
   "id": "067775d6-838c-4eb2-bb78-1b1675769bc2",
   "metadata": {},
   "outputs": [],
   "source": [
    "with open('./data_2d_ea/ea_square_size_16_v2/ea_square_size_16_beta_5.000_h_0.000_6E4_frust_tensor_torch_v4.pkl', 'rb') as file:\n",
    "    q_ea2d_16_v4 = pickle.load(file)"
   ]
  },
  {
   "cell_type": "code",
   "execution_count": 80,
   "id": "2813782e-b0aa-4f88-bd51-c0ae44dbac0d",
   "metadata": {},
   "outputs": [],
   "source": [
    "with open('./data_2d_ea/ea_square_size_16_v2/ea_square_size_16_beta_5.000_h_0.000_6E4_frust_tensor_torch_v5.pkl', 'rb') as file:\n",
    "    q_ea2d_16_v5 = pickle.load(file)"
   ]
  },
  {
   "cell_type": "code",
   "execution_count": 81,
   "id": "d17beddd-6f5c-49ac-9212-8c07b661f5ad",
   "metadata": {},
   "outputs": [],
   "source": [
    "with open('./data_2d_ea/ea_square_size_16_v2/ea_square_size_16_beta_5.000_h_0.000_3E4_frust_tensor_torch_v6.pkl', 'rb') as file:\n",
    "    q_ea2d_16_v6 = pickle.load(file)"
   ]
  },
  {
   "cell_type": "code",
   "execution_count": 82,
   "id": "54e2c54b-f7e1-4e5d-a80b-e753ddde5138",
   "metadata": {},
   "outputs": [],
   "source": [
    "with open('./data_2d_ea/ea_square_size_16_v2/ea_square_size_16_beta_5.000_h_0.000_3E4_frust_tensor_torch_v7.pkl', 'rb') as file:\n",
    "    q_ea2d_16_v7 = pickle.load(file)"
   ]
  },
  {
   "cell_type": "code",
   "execution_count": 83,
   "id": "0409bd03-ad6b-4a27-be70-2f9d8d42edaa",
   "metadata": {},
   "outputs": [],
   "source": [
    "with open('./data_2d_ea/ea_square_size_16_v2/ea_square_size_16_beta_5.000_h_0.000_3E4_frust_tensor_torch_v9.pkl', 'rb') as file:\n",
    "    q_ea2d_16_v9 = pickle.load(file)"
   ]
  },
  {
   "cell_type": "code",
   "execution_count": 84,
   "id": "204e6a56-7b71-43cd-ba8f-09b41ef766af",
   "metadata": {},
   "outputs": [],
   "source": [
    "with open('./data_2d_ea/ea_square_size_16_v2/ea_square_size_16_beta_5.000_h_0.000_3E4_frust_tensor_torch_v10.pkl', 'rb') as file:\n",
    "    q_ea2d_16_v10 = pickle.load(file)"
   ]
  },
  {
   "cell_type": "code",
   "execution_count": 85,
   "id": "657ee493-9845-462f-9f7f-409b30c43e25",
   "metadata": {},
   "outputs": [],
   "source": [
    "with open('./data_2d_ea/ea_square_size_16_v2/ea_square_size_16_beta_5.000_h_0.000_3E4_frust_tensor_torch_v11.pkl', 'rb') as file:\n",
    "    q_ea2d_16_v11 = pickle.load(file)"
   ]
  },
  {
   "cell_type": "code",
   "execution_count": 86,
   "id": "c1cc5f0a-83d3-4b46-a036-77c734580bdb",
   "metadata": {},
   "outputs": [],
   "source": [
    "with open('./data_2d_ea/ea_square_size_16_v2/ea_square_size_16_beta_5.000_h_0.000_8E4_frust_tensor_torch_v13.pkl', 'rb') as file:\n",
    "    q_ea2d_16_v13 = pickle.load(file)"
   ]
  },
  {
   "cell_type": "code",
   "execution_count": 87,
   "id": "73509ac3-df64-42e7-bb6c-dee7e510c1cf",
   "metadata": {},
   "outputs": [],
   "source": [
    "with open('./data_2d_ea/ea_square_size_16_v2/ea_square_size_16_beta_5.000_h_0.000_8E4_frust_tensor_torch_v16.pkl', 'rb') as file:\n",
    "    q_ea2d_16_v16 = pickle.load(file)"
   ]
  },
  {
   "cell_type": "code",
   "execution_count": 126,
   "id": "d5b0f8e8-71bc-4cf5-8cbf-842ab2b3bdc9",
   "metadata": {},
   "outputs": [],
   "source": [
    "with open('./data_2d_ea/ea_square_size_16_v2/ea_square_size_16_beta_5.000_h_0.000_8E4_frust_tensor_torch_v17.pkl', 'rb') as file:\n",
    "    q_ea2d_16_v17 = pickle.load(file)"
   ]
  },
  {
   "cell_type": "code",
   "execution_count": 89,
   "id": "a5f978f5-23a5-402f-9d04-ad9528be39c0",
   "metadata": {},
   "outputs": [],
   "source": [
    "q_ea2d_16_v0 = np.array(q_ea2d_16_v0).reshape((60, 1000))\n",
    "q_ea2d_16_v1 = np.array(q_ea2d_16_v1).reshape((60, 1000))\n",
    "q_ea2d_16_v2 = np.array(q_ea2d_16_v2).reshape((60, 1000))\n",
    "q_ea2d_16_v3 = np.array(q_ea2d_16_v2).reshape((60, 1000))\n",
    "q_ea2d_16_v4 = np.array(q_ea2d_16_v4).reshape((60, 1000))\n",
    "q_ea2d_16_v5 = np.array(q_ea2d_16_v5).reshape((60, 1000))\n",
    "q_ea2d_16_v6 = np.array(q_ea2d_16_v6).reshape((30, 1000))\n",
    "q_ea2d_16_v7 = np.array(q_ea2d_16_v7).reshape((30, 1000))\n",
    "#q_ea2d_16_v8 = np.array(q_ea2d_16_v8).reshape((50, 600))\n",
    "q_ea2d_16_v9 = np.array(q_ea2d_16_v9).reshape((30, 1000))\n",
    "q_ea2d_16_v10 = np.array(q_ea2d_16_v10).reshape((30, 1000))\n",
    "q_ea2d_16_v11 = np.array(q_ea2d_16_v11).reshape((30, 1000))\n",
    "q_ea2d_16_v13 = np.array(q_ea2d_16_v13).reshape((80, 1000))\n",
    "q_ea2d_16_v16 = np.array(q_ea2d_16_v16).reshape((80, 1000))\n",
    "q_ea2d_16_v17 = np.array(q_ea2d_16_v17).reshape((80, 1000))"
   ]
  },
  {
   "cell_type": "code",
   "execution_count": 90,
   "id": "1f27b1f2-3980-4aea-a2ee-d9d83529fe4e",
   "metadata": {},
   "outputs": [],
   "source": [
    "q_ea2d_16 = np.concatenate((#q_ea2d_16_v0, \n",
    "                            q_ea2d_16_v1,\n",
    "                            #q_ea2d_16_v2,\n",
    "                            q_ea2d_16_v3,\n",
    "                            q_ea2d_16_v4,\n",
    "                            q_ea2d_16_v5, \n",
    "                            q_ea2d_16_v6,\n",
    "                            q_ea2d_16_v7,\n",
    "                            #q_ea2d_16_v9, \n",
    "                            q_ea2d_16_v10, \n",
    "                            q_ea2d_16_v11, \n",
    "                            q_ea2d_16_v13, \n",
    "                            q_ea2d_16_v16,\n",
    "                            q_ea2d_16_v17,\n",
    "                            q_ea2d_16_v18, \n",
    "                            q_ea2d_16_v19, \n",
    "                            q_ea2d_16_v20,), axis=0)"
   ]
  },
  {
   "cell_type": "code",
   "execution_count": 91,
   "id": "38e56aec-d66e-4793-a2a8-392cd667b254",
   "metadata": {},
   "outputs": [
    {
     "data": {
      "text/plain": [
       "(1315, 1000)"
      ]
     },
     "execution_count": 91,
     "metadata": {},
     "output_type": "execute_result"
    }
   ],
   "source": [
    "q_ea2d_16.shape"
   ]
  },
  {
   "cell_type": "code",
   "execution_count": 92,
   "id": "33674d70-43f3-46ba-a8da-f921ad57d08b",
   "metadata": {},
   "outputs": [
    {
     "name": "stdout",
     "output_type": "stream",
     "text": [
      "2.1065876483917236\n"
     ]
    }
   ],
   "source": [
    "time_start = time.time()\n",
    "autocorr_q_ea2d_16_mean, _, _, _ = autocorr_mc_mean_est(q_ea2d_16, 100)\n",
    "_, autocorr_q_ea2d_16_std = autocorr_mc_std_est(q_ea2d_16, 100)\n",
    "time_end = time.time()\n",
    "print(time_end-time_start)"
   ]
  },
  {
   "cell_type": "code",
   "execution_count": 93,
   "id": "ecaebcda-ce06-4af0-85b1-5cef544a8fd3",
   "metadata": {},
   "outputs": [],
   "source": [
    "autocorr_q_ea2d_16_mean = np.insert(autocorr_q_ea2d_16_mean, 0, 1)\n",
    "autocorr_q_ea2d_16_std = np.insert(autocorr_q_ea2d_16_std, 0, 0)"
   ]
  },
  {
   "cell_type": "code",
   "execution_count": 109,
   "id": "f105e1b8-c5b6-41e4-849e-c1d0eb9ee5c8",
   "metadata": {},
   "outputs": [
    {
     "data": {
      "text/plain": [
       "<matplotlib.legend.Legend at 0x7fd1f654df00>"
      ]
     },
     "execution_count": 109,
     "metadata": {},
     "output_type": "execute_result"
    },
    {
     "data": {
      "image/png": "[encoded data removed]",
      "text/plain": [
       "<Figure size 432x288 with 1 Axes>"
      ]
     },
     "metadata": {
      "needs_background": "light"
     },
     "output_type": "display_data"
    }
   ],
   "source": [
    "plt.errorbar(x=range(101), y=autocorr_q_ea2d_16_mean, yerr=autocorr_q_ea2d_16_std, \n",
    "             fmt='-o', capsize=3, elinewidth=2, label='size=16')\n",
    "plt.yscale(\"log\")\n",
    "plt.ylim(10**-2.8)\n",
    "plt.xlabel(r'$\\tau$ [Evolution steps]', fontsize=15)\n",
    "plt.ylabel(r'$A_{|q|}$', fontsize=15)\n",
    "plt.title(\"2D EA, Square, Beta=5, Block Tensor\")\n",
    "plt.legend()"
   ]
  },
  {
   "cell_type": "code",
   "execution_count": 95,
   "id": "7d1c03fa-b84a-4e9a-ba4f-5e45e5f24828",
   "metadata": {},
   "outputs": [],
   "source": [
    "q_abs_mean_16 = np.mean(np.abs(q_ea2d_16))"
   ]
  },
  {
   "cell_type": "code",
   "execution_count": 96,
   "id": "3b60677e-5b3b-457e-bd47-b84ae7aba2e2",
   "metadata": {},
   "outputs": [],
   "source": [
    "autocorr_time_size_16 = np.sum(autocorr_q_ea2d_16_mean) - 1/2"
   ]
  },
  {
   "cell_type": "code",
   "execution_count": 97,
   "id": "361a413a-14b9-4ec6-8d98-1216a26eb00e",
   "metadata": {},
   "outputs": [
    {
     "name": "stdout",
     "output_type": "stream",
     "text": [
      "autocorr time of size 16 is: 8.510.\n"
     ]
    }
   ],
   "source": [
    "print(f\"autocorr time of size 16 is: {autocorr_time_size_16:.3f}.\")"
   ]
  },
  {
   "cell_type": "code",
   "execution_count": 98,
   "id": "2dbfa5e8-f4b3-491b-9738-52f6f59d442e",
   "metadata": {},
   "outputs": [],
   "source": [
    "autocorr_time_size_16 = autocorr_time_est(autocorr_q_ea2d_16_mean[:10], 1000)"
   ]
  },
  {
   "cell_type": "code",
   "execution_count": 99,
   "id": "b4b2cfca-1f1b-4df1-927d-641127417b44",
   "metadata": {},
   "outputs": [
    {
     "name": "stdout",
     "output_type": "stream",
     "text": [
      "autocorr time of size 16 is: 9.286.\n"
     ]
    }
   ],
   "source": [
    "print(f\"autocorr time of size 16 is: {autocorr_time_size_16:.3f}.\")"
   ]
  },
  {
   "cell_type": "markdown",
   "id": "f626947f-d89b-4535-a5d3-dd942a51123e",
   "metadata": {},
   "source": [
    "-----------\n",
    "### Size = 32"
   ]
  },
  {
   "cell_type": "code",
   "execution_count": 118,
   "id": "d182780d-eb24-45a9-ac70-fb24e1e2d7ef",
   "metadata": {},
   "outputs": [],
   "source": [
    "with open('./data_2d_ea/ea_square_size_32_tensor/ea_square_size_32_beta_5.000_h_0.000_5E4_frust_tensor_torch_v0.pkl', 'rb') as file:\n",
    "    data_dict = pickle.load(file)\n",
    "    q_ea2d_32_v0 = data_dict['q_list']"
   ]
  },
  {
   "cell_type": "code",
   "execution_count": 120,
   "id": "27e56255-11ce-4f89-8501-d714b68ef1f1",
   "metadata": {},
   "outputs": [],
   "source": [
    "with open('./data_2d_ea/ea_square_size_32_tensor/ea_square_size_32_beta_5.000_h_0.000_5E4_frust_tensor_torch_v1.pkl', 'rb') as file:\n",
    "    data_dict = pickle.load(file)\n",
    "    q_ea2d_32_v1 = data_dict['q_list']"
   ]
  },
  {
   "cell_type": "code",
   "execution_count": 122,
   "id": "16810738-f131-4151-aa2c-574d8e8c030f",
   "metadata": {},
   "outputs": [],
   "source": [
    "with open('./data_2d_ea/ea_square_size_32_tensor/ea_square_size_32_beta_5.000_h_0.000_5E4_frust_tensor_torch_v2.pkl', 'rb') as file:\n",
    "    data_dict = pickle.load(file)\n",
    "    q_ea2d_32_v2 = data_dict['q_list']"
   ]
  },
  {
   "cell_type": "code",
   "execution_count": 128,
   "id": "26e96d6e-a80a-4c83-8ce6-507c408b2fef",
   "metadata": {},
   "outputs": [],
   "source": [
    "with open('./data_2d_ea/ea_square_size_32_tensor/ea_square_size_32_beta_5.000_h_0.000_5E4_frust_tensor_torch_v3.pkl', 'rb') as file:\n",
    "    data_dict = pickle.load(file)\n",
    "    q_ea2d_32_v3 = data_dict['q_list']"
   ]
  },
  {
   "cell_type": "code",
   "execution_count": 130,
   "id": "0b7dc1c8-f4a9-4f9a-b498-ce2617c81fbc",
   "metadata": {},
   "outputs": [],
   "source": [
    "with open('./data_2d_ea/ea_square_size_32_tensor/ea_square_size_32_beta_5.000_h_0.000_5E4_frust_tensor_torch_v4.pkl', 'rb') as file:\n",
    "    data_dict = pickle.load(file)\n",
    "    q_ea2d_32_v4 = data_dict['q_list']"
   ]
  },
  {
   "cell_type": "code",
   "execution_count": 132,
   "id": "e6af4e28-95d6-4dab-9f7c-2f08f83dfe8b",
   "metadata": {},
   "outputs": [],
   "source": [
    "with open('./data_2d_ea/ea_square_size_32_tensor/ea_square_size_32_beta_5.000_h_0.000_5E4_frust_tensor_torch_v5.pkl', 'rb') as file:\n",
    "    data_dict = pickle.load(file)\n",
    "    q_ea2d_32_v5 = data_dict['q_list']"
   ]
  },
  {
   "cell_type": "code",
   "execution_count": 134,
   "id": "e46a32b9-de88-4a82-80b2-c1d0c402fcdd",
   "metadata": {},
   "outputs": [],
   "source": [
    "with open('./data_2d_ea/ea_square_size_32_tensor/ea_square_size_32_beta_5.000_h_0.000_5E4_frust_tensor_torch_v6.pkl', 'rb') as file:\n",
    "    data_dict = pickle.load(file)\n",
    "    q_ea2d_32_v6 = data_dict['q_list']"
   ]
  },
  {
   "cell_type": "code",
   "execution_count": 135,
   "id": "e5a4aefd-8732-4c1b-9c17-c5bdd12d7103",
   "metadata": {},
   "outputs": [
    {
     "data": {
      "text/plain": [
       "<AxesSubplot:ylabel='Count'>"
      ]
     },
     "execution_count": 135,
     "metadata": {},
     "output_type": "execute_result"
    },
    {
     "data": {
      "image/png": "[encoded data removed]",
      "text/plain": [
       "<Figure size 432x288 with 1 Axes>"
      ]
     },
     "metadata": {
      "needs_background": "light"
     },
     "output_type": "display_data"
    }
   ],
   "source": [
    "sns.histplot(q_ea2d_32_v6)"
   ]
  },
  {
   "cell_type": "code",
   "execution_count": 203,
   "id": "d6c51ac8-390b-49be-a0b5-e6ffcd99ad45",
   "metadata": {},
   "outputs": [],
   "source": [
    "m_abs_2dising_32_j_pos = np.abs(m_2dising_32_j_pos)"
   ]
  },
  {
   "cell_type": "code",
   "execution_count": 204,
   "id": "30de56d7-fb70-43b1-9ee9-ca2570fafb0e",
   "metadata": {},
   "outputs": [],
   "source": [
    "m_abs_2dising_32_j_pos_mean = np.mean(m_abs_2dising_32_j_pos)"
   ]
  },
  {
   "cell_type": "code",
   "execution_count": 205,
   "id": "cde57177-0aaa-47e8-aa22-65250db94ee4",
   "metadata": {},
   "outputs": [
    {
     "name": "stdout",
     "output_type": "stream",
     "text": [
      "|m| of size 32 is: 0.654.\n"
     ]
    }
   ],
   "source": [
    "print(f\"|m| of size 32 is: {m_abs_2dising_32_j_pos_mean:.3f}.\")"
   ]
  },
  {
   "cell_type": "code",
   "execution_count": 206,
   "id": "cd8f8700-3a76-4960-8970-0e0cd348a41d",
   "metadata": {},
   "outputs": [],
   "source": [
    "m_abs_2dising_32_j_pos = m_abs_2dising_32_j_pos.reshape((10000, 2500))"
   ]
  },
  {
   "cell_type": "code",
   "execution_count": 207,
   "id": "bf7a8624-1777-451b-8b6b-60097f18c241",
   "metadata": {},
   "outputs": [
    {
     "name": "stdout",
     "output_type": "stream",
     "text": [
      "33.3617057800293\n"
     ]
    }
   ],
   "source": [
    "time_start = time.time()\n",
    "autocorr_m_abs_2dising_32_j_pos_mean, _, _, _ = autocorr_mc_mean_est(m_abs_2dising_32_j_pos, 250)\n",
    "_, autocorr_m_abs_2dising_32_j_pos_std = autocorr_mc_std_est(m_abs_2dising_32_j_pos, 250)\n",
    "time_end = time.time()\n",
    "print(time_end-time_start)"
   ]
  },
  {
   "cell_type": "code",
   "execution_count": 208,
   "id": "27f15d3e-104d-4c26-aca8-524c092b4caf",
   "metadata": {},
   "outputs": [],
   "source": [
    "autocorr_m_abs_2dising_32_j_pos_mean = np.insert(autocorr_m_abs_2dising_32_j_pos_mean, 0, 1)"
   ]
  },
  {
   "cell_type": "code",
   "execution_count": 209,
   "id": "15f8f704-23db-443d-9440-542653dc9b45",
   "metadata": {},
   "outputs": [],
   "source": [
    "autocorr_m_abs_2dising_32_j_pos_std = np.insert(autocorr_m_abs_2dising_32_j_pos_std, 0, 0)"
   ]
  },
  {
   "cell_type": "code",
   "execution_count": 210,
   "id": "20da1d72-60e6-4dd4-a122-a532d7e6f7bd",
   "metadata": {},
   "outputs": [
    {
     "data": {
      "text/plain": [
       "<matplotlib.legend.Legend at 0x7fa4fd5bdf90>"
      ]
     },
     "execution_count": 210,
     "metadata": {},
     "output_type": "execute_result"
    },
    {
     "data": {
      "image/png": "[encoded data removed]",
      "text/plain": [
       "<Figure size 432x288 with 1 Axes>"
      ]
     },
     "metadata": {
      "needs_background": "light"
     },
     "output_type": "display_data"
    }
   ],
   "source": [
    "plt.errorbar(x=range(251), y=autocorr_m_abs_2dising_32_j_pos_mean, yerr=autocorr_m_abs_2dising_32_j_pos_std, \n",
    "             fmt='-o', capsize=3, elinewidth=2, label='size=32')\n",
    "plt.yscale(\"log\")\n",
    "plt.ylim(10**-3)\n",
    "plt.xlabel(r'$\\tau$ [MC steps]', fontsize=15)\n",
    "plt.ylabel(r'$A_{|M|}$', fontsize=15)\n",
    "plt.title(\"2D Ising (Square, J>0, T=2.269) Metropolis\")\n",
    "plt.legend()"
   ]
  },
  {
   "cell_type": "code",
   "execution_count": 211,
   "id": "3ca6e8ef-5aaf-40ef-a8a4-2d8286883542",
   "metadata": {},
   "outputs": [],
   "source": [
    "autocorr_time_size_32 = np.sum(autocorr_m_abs_2dising_32_j_pos_mean) - 1/2"
   ]
  },
  {
   "cell_type": "code",
   "execution_count": 212,
   "id": "1837acdd-839f-4fa6-b811-3e6ea6554dca",
   "metadata": {},
   "outputs": [
    {
     "name": "stdout",
     "output_type": "stream",
     "text": [
      "autocorr time of size 32 is: 128.648.\n"
     ]
    }
   ],
   "source": [
    "print(f\"autocorr time of size 32 is: {autocorr_time_size_32:.3f}.\")"
   ]
  },
  {
   "cell_type": "code",
   "execution_count": 252,
   "id": "3aaee9db-6084-4b48-97a3-177137654b05",
   "metadata": {},
   "outputs": [],
   "source": [
    "autocorr_time_size_32 = autocorr_time_est(autocorr_m_abs_2dising_32_j_pos_mean, 1000000)"
   ]
  },
  {
   "cell_type": "code",
   "execution_count": 253,
   "id": "63c3159f-c703-4ea8-bb04-c758a65f147c",
   "metadata": {},
   "outputs": [
    {
     "data": {
      "text/plain": [
       "184.98876527261083"
      ]
     },
     "execution_count": 253,
     "metadata": {},
     "output_type": "execute_result"
    }
   ],
   "source": [
    "autocorr_time_size_32"
   ]
  },
  {
   "cell_type": "code",
   "execution_count": 224,
   "id": "8f384455-d61c-469d-99e5-993ce95682a5",
   "metadata": {},
   "outputs": [
    {
     "data": {
      "text/plain": [
       "17.729166666666668"
      ]
     },
     "execution_count": 224,
     "metadata": {},
     "output_type": "execute_result"
    }
   ],
   "source": [
    "42.550/100/ 3600 * 10000 * 15"
   ]
  },
  {
   "cell_type": "code",
   "execution_count": 225,
   "id": "ebf03528-22cb-40de-8a03-7f0b2f5e2c85",
   "metadata": {},
   "outputs": [
    {
     "data": {
      "text/plain": [
       "3.76025"
      ]
     },
     "execution_count": 225,
     "metadata": {},
     "output_type": "execute_result"
    }
   ],
   "source": [
    "135.369 / 100 / 3600 * 10000"
   ]
  },
  {
   "cell_type": "markdown",
   "id": "6a8d08f3-91a8-4139-88f1-d6699c11b1ca",
   "metadata": {},
   "source": [
    "--------------\n",
    "#### Summary"
   ]
  },
  {
   "cell_type": "code",
   "execution_count": 112,
   "id": "e1fc154e-ad4b-4c85-a160-8606fe0c9d8a",
   "metadata": {},
   "outputs": [
    {
     "data": {
      "text/plain": [
       "<matplotlib.legend.Legend at 0x7fd1fb379fc0>"
      ]
     },
     "execution_count": 112,
     "metadata": {},
     "output_type": "execute_result"
    },
    {
     "data": {
      "image/png": "[encoded data removed]",
      "text/plain": [
       "<Figure size 432x288 with 1 Axes>"
      ]
     },
     "metadata": {
      "needs_background": "light"
     },
     "output_type": "display_data"
    }
   ],
   "source": [
    "plt.errorbar(x=range(101), y=autocorr_q_ea2d_4_mean, yerr=autocorr_q_ea2d_4_std, \n",
    "             fmt='-o', capsize=3, elinewidth=2, label='size=4')\n",
    "plt.errorbar(x=range(101), y=autocorr_q_ea2d_8_mean, yerr=autocorr_q_ea2d_8_std, \n",
    "             fmt='-o', capsize=3, elinewidth=2, label='size=8')\n",
    "plt.errorbar(x=range(101), y=autocorr_q_ea2d_16_mean, yerr=autocorr_q_ea2d_8_std, \n",
    "             fmt='-o', capsize=3, elinewidth=2, label='size=16')\n",
    "#plt.errorbar(x=range(251), y=autocorr_m_abs_2dising_32_j_pos_mean, yerr=autocorr_m_abs_2dising_32_j_pos_std, \n",
    " #            fmt='-o', capsize=3, elinewidth=2, label='size=32')\n",
    "plt.yscale(\"log\")\n",
    "plt.ylim(10**-2.5, 1.1)\n",
    "plt.xlabel(r'$\\tau$ [Evolution steps]', fontsize=15)\n",
    "plt.ylabel(r'$A_{|M|}$', fontsize=15)\n",
    "plt.title(\"EA 2D Beta=5, Block Tensor\")\n",
    "plt.legend()"
   ]
  },
  {
   "cell_type": "markdown",
   "id": "47b4ed99-ea08-4f38-a199-0dd6f04d051f",
   "metadata": {
    "tags": []
   },
   "source": [
    "### Size effect and Dynamical Exponent"
   ]
  },
  {
   "cell_type": "code",
   "execution_count": 101,
   "id": "3261959c-0141-4de6-835c-21c96fe28441",
   "metadata": {},
   "outputs": [],
   "source": [
    "#size_array = np.array([4, 8, 16, 32])\n",
    "size_array = np.array([4, 8, 16])"
   ]
  },
  {
   "cell_type": "code",
   "execution_count": 102,
   "id": "4edd450f-7610-4f02-983b-7ad826cbfc8e",
   "metadata": {},
   "outputs": [],
   "source": [
    "autocorr_fun_array = np.array([q_abs_mean_4, \n",
    "                               q_abs_mean_8,\n",
    "                               q_abs_mean_16,])"
   ]
  },
  {
   "cell_type": "code",
   "execution_count": 103,
   "id": "a64d4e21-e1f4-47c4-80fb-05b6de7f35be",
   "metadata": {},
   "outputs": [
    {
     "data": {
      "text/plain": [
       "Text(0.5, 1.0, 'Size Effect on 2D Square EA')"
      ]
     },
     "execution_count": 103,
     "metadata": {},
     "output_type": "execute_result"
    },
    {
     "data": {
      "image/png": "[encoded data removed]",
      "text/plain": [
       "<Figure size 432x288 with 1 Axes>"
      ]
     },
     "metadata": {
      "needs_background": "light"
     },
     "output_type": "display_data"
    }
   ],
   "source": [
    "plt.plot(size_array, autocorr_fun_array, '-o', markersize=9)\n",
    "plt.xscale('log')\n",
    "plt.yscale('log')\n",
    "plt.xlabel(\"Size\", fontsize=15)\n",
    "plt.ylabel(\"|q|\", fontsize=15)\n",
    "plt.title(\"Size Effect on 2D Square EA\")"
   ]
  },
  {
   "cell_type": "code",
   "execution_count": 104,
   "id": "5221f856-fe79-4da8-b6f1-c7c6a926089b",
   "metadata": {},
   "outputs": [],
   "source": [
    "autocorr_time_array = np.array([autocorr_time_size_4, \n",
    "                                autocorr_time_size_8,\n",
    "                                autocorr_time_size_16,])# autocorr_time_size_32])"
   ]
  },
  {
   "cell_type": "code",
   "execution_count": 105,
   "id": "e594db3b-227e-48c1-8c31-fbc1b3eda66a",
   "metadata": {},
   "outputs": [],
   "source": [
    "index_metropolis, bias = np.polyfit(np.log(size_array), np.log(autocorr_time_array), 1)"
   ]
  },
  {
   "cell_type": "code",
   "execution_count": 106,
   "id": "bc0237e6-d364-4718-9b13-8a4b61bc2b51",
   "metadata": {},
   "outputs": [
    {
     "name": "stdout",
     "output_type": "stream",
     "text": [
      "index of Block Tensor is about: 0.875.\n"
     ]
    }
   ],
   "source": [
    "print(f\"index of Block Tensor is about: {index_metropolis:.3f}.\")"
   ]
  },
  {
   "cell_type": "code",
   "execution_count": 107,
   "id": "739d1735-df79-4b6d-adf8-56c9a264588d",
   "metadata": {},
   "outputs": [
    {
     "name": "stdout",
     "output_type": "stream",
     "text": [
      "Constant is: 1.228.\n"
     ]
    }
   ],
   "source": [
    "print(f\"Constant is: {np.exp(-bias):.3f}.\")"
   ]
  },
  {
   "cell_type": "code",
   "execution_count": 108,
   "id": "45ba1f1d-5583-43ce-8973-4da7fc0e2379",
   "metadata": {},
   "outputs": [
    {
     "data": {
      "text/plain": [
       "Text(0.5, 1.0, 'Block Tensor, EA, Square, Beta=5, Z=0.875')"
      ]
     },
     "execution_count": 108,
     "metadata": {},
     "output_type": "execute_result"
    },
    {
     "data": {
      "image/png": "[encoded data removed]",
      "text/plain": [
       "<Figure size 432x288 with 1 Axes>"
      ]
     },
     "metadata": {
      "needs_background": "light"
     },
     "output_type": "display_data"
    }
   ],
   "source": [
    "plt.plot(np.log(size_array), index_metropolis*np.log(size_array) + bias, linewidth=3)\n",
    "plt.plot(np.log(size_array), np.log(autocorr_time_array), 'o', markersize=15)\n",
    "plt.xlabel(\"Size\", fontsize=15)\n",
    "plt.ylabel(\"Autocorr Time\", fontsize=15)\n",
    "plt.title(\"Block Tensor, EA, Square, Beta=5, Z=0.875\")"
   ]
  },
  {
   "cell_type": "markdown",
   "id": "864075af-d106-46f5-8eea-85f45b500d2e",
   "metadata": {},
   "source": [
    "-----------------------------------------"
   ]
  },
  {
   "cell_type": "code",
   "execution_count": 114,
   "id": "a6dad3d5-5d29-498b-8a41-e48ac3b98e1a",
   "metadata": {},
   "outputs": [
    {
     "data": {
      "text/plain": [
       "3.2219926385284996"
      ]
     },
     "execution_count": 114,
     "metadata": {},
     "output_type": "execute_result"
    }
   ],
   "source": [
    "np.exp(1.17)"
   ]
  },
  {
   "cell_type": "code",
   "execution_count": null,
   "id": "2a41b066-e0b9-439e-90d5-127059e11190",
   "metadata": {},
   "outputs": [],
   "source": []
  }
 ],
 "metadata": {
  "kernelspec": {
   "display_name": "Python 3 (ipykernel)",
   "language": "python",
   "name": "python3"
  },
  "language_info": {
   "codemirror_mode": {
    "name": "ipython",
    "version": 3
   },
   "file_extension": ".py",
   "mimetype": "text/x-python",
   "name": "python",
   "nbconvert_exporter": "python",
   "pygments_lexer": "ipython3",
   "version": "3.10.5"
  }
 },
 "nbformat": 4,
 "nbformat_minor": 5
}
