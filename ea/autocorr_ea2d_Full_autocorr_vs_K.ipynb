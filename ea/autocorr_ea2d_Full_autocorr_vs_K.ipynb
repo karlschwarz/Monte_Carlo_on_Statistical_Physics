{
 "cells": [
  {
   "cell_type": "markdown",
   "id": "5d35b836-5328-4744-9b2f-8c6aebbcfe4c",
   "metadata": {},
   "source": [
    "# Autocorr Time vs K (2D Square EA [J, -J, 1/2])"
   ]
  },
  {
   "cell_type": "code",
   "execution_count": 1,
   "id": "5e4bf66b-8f2f-44a5-83c6-40f30b777227",
   "metadata": {},
   "outputs": [],
   "source": [
    "from autocorr_utils import *"
   ]
  },
  {
   "cell_type": "markdown",
   "id": "59684609-302b-4ae1-8c95-8b70dba52c77",
   "metadata": {
    "tags": []
   },
   "source": [
    "----------------------------------\n",
    "## Size = 8, Full Lattice, Exact Tensor"
   ]
  },
  {
   "cell_type": "markdown",
   "id": "a055cb1e-052f-4650-9d22-74aff9ad092d",
   "metadata": {},
   "source": [
    "---------------------------------\n",
    "### Beta = 0.5"
   ]
  },
  {
   "cell_type": "code",
   "execution_count": 2,
   "id": "dedf6c90-cb8a-4ed0-be67-82019116cbbd",
   "metadata": {},
   "outputs": [],
   "source": [
    "with open('../data_2d_ea/autocorr_vs_K/full_lattice/ea_square_size_8/j_seed_0/ea_square_size_8_beta_0.500_4E3_m_tensor_torch_v1.pkl', 'rb') as file:\n",
    "    data_dict = pickle.load(file)\n",
    "    q_ea2d_beta_0_v1 = data_dict['q_list']"
   ]
  },
  {
   "cell_type": "code",
   "execution_count": 3,
   "id": "b2789ab1-ef7d-462b-ae82-ac883d63c906",
   "metadata": {},
   "outputs": [],
   "source": [
    "with open('../data_2d_ea/autocorr_vs_K/full_lattice/ea_square_size_8/j_seed_0/ea_square_size_8_beta_0.500_4E3_m_tensor_torch_v2.pkl', 'rb') as file:\n",
    "    data_dict = pickle.load(file)\n",
    "    q_ea2d_beta_0_v2 = data_dict['q_list']"
   ]
  },
  {
   "cell_type": "code",
   "execution_count": 4,
   "id": "eee14c92-4884-4f31-bb6b-bc341a7757f5",
   "metadata": {},
   "outputs": [],
   "source": [
    "with open('../data_2d_ea/autocorr_vs_K/full_lattice/ea_square_size_8/j_seed_0/ea_square_size_8_beta_0.500_4E3_m_tensor_torch_v3.pkl', 'rb') as file:\n",
    "    data_dict = pickle.load(file)\n",
    "    q_ea2d_beta_0_v3 = data_dict['q_list']"
   ]
  },
  {
   "cell_type": "code",
   "execution_count": 5,
   "id": "5314738b-6a96-4798-86bf-911c56dba4ec",
   "metadata": {},
   "outputs": [],
   "source": [
    "with open('../data_2d_ea/autocorr_vs_K/full_lattice/ea_square_size_8/j_seed_0/ea_square_size_8_beta_0.500_4E3_m_tensor_torch_v4.pkl', 'rb') as file:\n",
    "    data_dict = pickle.load(file)\n",
    "    q_ea2d_beta_0_v4 = data_dict['q_list']"
   ]
  },
  {
   "cell_type": "code",
   "execution_count": 6,
   "id": "fe7a5ab0-67b4-4ef6-b280-0a8032c00a44",
   "metadata": {},
   "outputs": [],
   "source": [
    "with open('../data_2d_ea/autocorr_vs_K/full_lattice/ea_square_size_8/j_seed_0/ea_square_size_8_beta_0.500_4E3_m_tensor_torch_v5.pkl', 'rb') as file:\n",
    "    data_dict = pickle.load(file)\n",
    "    q_ea2d_beta_0_v5 = data_dict['q_list']"
   ]
  },
  {
   "cell_type": "code",
   "execution_count": 7,
   "id": "ea4c26b8-6da8-4099-a3fe-b000b2c895f2",
   "metadata": {},
   "outputs": [],
   "source": [
    "q_ea2d_beta_0_v1 = np.array(q_ea2d_beta_0_v1).reshape((80, 1000))\n",
    "q_ea2d_beta_0_v2 = np.array(q_ea2d_beta_0_v2).reshape((80, 1000))\n",
    "q_ea2d_beta_0_v3 = np.array(q_ea2d_beta_0_v3).reshape((80, 1000))\n",
    "q_ea2d_beta_0_v4 = np.array(q_ea2d_beta_0_v4).reshape((80, 1000))\n",
    "q_ea2d_beta_0_v5 = np.array(q_ea2d_beta_0_v5).reshape((80, 1000))"
   ]
  },
  {
   "cell_type": "code",
   "execution_count": 8,
   "id": "2cc7dff0-af58-443f-9bff-4ed6b669d061",
   "metadata": {},
   "outputs": [
    {
     "data": {
      "text/plain": [
       "<AxesSubplot:ylabel='Count'>"
      ]
     },
     "execution_count": 8,
     "metadata": {},
     "output_type": "execute_result"
    },
    {
     "data": {
      "image/png": "[encoded data removed]",
      "text/plain": [
       "<Figure size 432x288 with 1 Axes>"
      ]
     },
     "metadata": {
      "needs_background": "light"
     },
     "output_type": "display_data"
    }
   ],
   "source": [
    "sns.histplot(np.reshape(q_ea2d_beta_0_v1, -1))"
   ]
  },
  {
   "cell_type": "code",
   "execution_count": 9,
   "id": "f5eeecc2-a028-44ae-8446-f23b5b0fe5f9",
   "metadata": {},
   "outputs": [],
   "source": [
    "q_ea2d_beta_0_tensor = np.concatenate([q_ea2d_beta_0_v1, q_ea2d_beta_0_v2, \n",
    "                                       q_ea2d_beta_0_v3, q_ea2d_beta_0_v4, \n",
    "                                       q_ea2d_beta_0_v5], axis=0)"
   ]
  },
  {
   "cell_type": "code",
   "execution_count": 10,
   "id": "d364a83d-2ed9-4d73-8700-1542e3af1a96",
   "metadata": {},
   "outputs": [],
   "source": [
    "autocorr_q_ea2d_beta_0_tensor_mean, autocorr_q_ea2d_beta_0_tensor_std = autocorr_est_combine(q_ea2d_beta_0_tensor, (400, 1000), steps=100)"
   ]
  },
  {
   "cell_type": "code",
   "execution_count": 11,
   "id": "c88ab54c-1279-4725-b7bd-ddc795f7b376",
   "metadata": {},
   "outputs": [],
   "source": [
    "beta = 0.5\n",
    "title_str = f\"2D EA, Beta={beta}, Full Lattice, Exact\""
   ]
  },
  {
   "cell_type": "code",
   "execution_count": 12,
   "id": "3c527baf-b4b0-472d-ac94-dbee7146f058",
   "metadata": {},
   "outputs": [
    {
     "data": {
      "image/png": "[encoded data removed]",
      "text/plain": [
       "<Figure size 432x288 with 1 Axes>"
      ]
     },
     "metadata": {
      "needs_background": "light"
     },
     "output_type": "display_data"
    }
   ],
   "source": [
    "errbar_plot(autocorr_q_ea2d_beta_0_tensor_mean, autocorr_q_ea2d_beta_0_tensor_std, beta, title_str)"
   ]
  },
  {
   "cell_type": "code",
   "execution_count": 13,
   "id": "1ea7a0d3-4b79-4dde-b57d-4e5e39b22e3a",
   "metadata": {},
   "outputs": [],
   "source": [
    "autocorr_time_beta_0_tensor = np.sum(autocorr_q_ea2d_beta_0_tensor_mean) - 1/2"
   ]
  },
  {
   "cell_type": "code",
   "execution_count": 14,
   "id": "f15f1239-e82c-4bee-8e41-32d9f9f4e6e0",
   "metadata": {},
   "outputs": [
    {
     "data": {
      "text/plain": [
       "0.48446905721231515"
      ]
     },
     "execution_count": 14,
     "metadata": {},
     "output_type": "execute_result"
    }
   ],
   "source": [
    "autocorr_time_beta_0_tensor"
   ]
  },
  {
   "cell_type": "markdown",
   "id": "0e458a47-8ad0-43d5-99ab-4c74f5ff7529",
   "metadata": {},
   "source": [
    "--------------------------------------\n",
    "### Beta = 0.75"
   ]
  },
  {
   "cell_type": "code",
   "execution_count": 23,
   "id": "a6d7bcb5-e19a-4be9-8c7f-9a462b61ebfa",
   "metadata": {},
   "outputs": [],
   "source": [
    "with open('../data_2d_ea/autocorr_vs_K/full_lattice/ea_square_size_8/j_seed_0/ea_square_size_8_beta_0.750_4E3_m_tensor_torch_v1.pkl', 'rb') as file:\n",
    "    data_dict = pickle.load(file)\n",
    "    q_ea2d_beta_1_v1 = data_dict['q_list']"
   ]
  },
  {
   "cell_type": "code",
   "execution_count": 24,
   "id": "50567872-da8a-4e96-a0d8-42d3f62089b1",
   "metadata": {},
   "outputs": [],
   "source": [
    "with open('../data_2d_ea/autocorr_vs_K/full_lattice/ea_square_size_8/j_seed_0/ea_square_size_8_beta_0.750_4E3_m_tensor_torch_v2.pkl', 'rb') as file:\n",
    "    data_dict = pickle.load(file)\n",
    "    q_ea2d_beta_1_v2 = data_dict['q_list']"
   ]
  },
  {
   "cell_type": "code",
   "execution_count": 25,
   "id": "65178230-1b9e-4b49-9cc5-7f8f8a27dae0",
   "metadata": {},
   "outputs": [],
   "source": [
    "with open('../data_2d_ea/autocorr_vs_K/full_lattice/ea_square_size_8/j_seed_0/ea_square_size_8_beta_0.750_4E3_m_tensor_torch_v3.pkl', 'rb') as file:\n",
    "    data_dict = pickle.load(file)\n",
    "    q_ea2d_beta_1_v3 = data_dict['q_list']"
   ]
  },
  {
   "cell_type": "code",
   "execution_count": 26,
   "id": "abbe7cc3-12af-4532-9777-28ca57053c7a",
   "metadata": {},
   "outputs": [],
   "source": [
    "with open('../data_2d_ea/autocorr_vs_K/full_lattice/ea_square_size_8/j_seed_0/ea_square_size_8_beta_0.750_4E3_m_tensor_torch_v4.pkl', 'rb') as file:\n",
    "    data_dict = pickle.load(file)\n",
    "    q_ea2d_beta_1_v4 = data_dict['q_list']"
   ]
  },
  {
   "cell_type": "code",
   "execution_count": 27,
   "id": "36e6967b-1199-4588-b890-4fa2afdd8d67",
   "metadata": {},
   "outputs": [],
   "source": [
    "with open('../data_2d_ea/autocorr_vs_K/full_lattice/ea_square_size_8/j_seed_0/ea_square_size_8_beta_0.750_4E3_m_tensor_torch_v5.pkl', 'rb') as file:\n",
    "    data_dict = pickle.load(file)\n",
    "    q_ea2d_beta_1_v5 = data_dict['q_list']"
   ]
  },
  {
   "cell_type": "code",
   "execution_count": 29,
   "id": "3c514860-4961-4766-abff-67b545cecc61",
   "metadata": {},
   "outputs": [],
   "source": [
    "q_ea2d_beta_1_v1 = np.array(q_ea2d_beta_1_v1).reshape((80, 1000))\n",
    "q_ea2d_beta_1_v2 = np.array(q_ea2d_beta_1_v2).reshape((80, 1000))\n",
    "q_ea2d_beta_1_v3 = np.array(q_ea2d_beta_1_v3).reshape((80, 1000))\n",
    "q_ea2d_beta_1_v4 = np.array(q_ea2d_beta_1_v4).reshape((80, 1000))\n",
    "q_ea2d_beta_1_v5 = np.array(q_ea2d_beta_1_v5).reshape((80, 1000))"
   ]
  },
  {
   "cell_type": "code",
   "execution_count": 30,
   "id": "fa57a2fb-9592-4010-9290-891182d0c06e",
   "metadata": {},
   "outputs": [],
   "source": [
    "q_ea2d_beta_1_tensor = np.concatenate([q_ea2d_beta_1_v1, q_ea2d_beta_1_v2, \n",
    "                                       q_ea2d_beta_1_v3, q_ea2d_beta_1_v4, \n",
    "                                       q_ea2d_beta_1_v5], axis=0)"
   ]
  },
  {
   "cell_type": "code",
   "execution_count": 31,
   "id": "f7dbfb7e-b701-4c8b-874d-b2d494a98da8",
   "metadata": {},
   "outputs": [
    {
     "data": {
      "text/plain": [
       "<AxesSubplot:ylabel='Count'>"
      ]
     },
     "execution_count": 31,
     "metadata": {},
     "output_type": "execute_result"
    },
    {
     "data": {
      "image/png": "[encoded data removed]",
      "text/plain": [
       "<Figure size 432x288 with 1 Axes>"
      ]
     },
     "metadata": {
      "needs_background": "light"
     },
     "output_type": "display_data"
    }
   ],
   "source": [
    "sns.histplot(np.reshape(q_ea2d_beta_1_tensor, -1))"
   ]
  },
  {
   "cell_type": "code",
   "execution_count": 32,
   "id": "290143b8-cc3c-4040-b2b8-36d7d7589b17",
   "metadata": {},
   "outputs": [],
   "source": [
    "autocorr_q_ea2d_beta_1_tensor_mean, autocorr_q_ea2d_beta_1_tensor_std = autocorr_est_combine(q_ea2d_beta_1_tensor, (400, 1000), steps=100)"
   ]
  },
  {
   "cell_type": "code",
   "execution_count": 36,
   "id": "e387fcfd-7bbf-4864-9890-100e2f10528e",
   "metadata": {},
   "outputs": [],
   "source": [
    "autocorr_time_beta_1_tensor = np.sum(autocorr_q_ea2d_beta_1_tensor_mean) - 1/2"
   ]
  },
  {
   "cell_type": "code",
   "execution_count": 37,
   "id": "366e5bf0-15c2-47f3-8017-b75a76073b5d",
   "metadata": {},
   "outputs": [
    {
     "data": {
      "text/plain": [
       "0.5126793351146772"
      ]
     },
     "execution_count": 37,
     "metadata": {},
     "output_type": "execute_result"
    }
   ],
   "source": [
    "autocorr_time_beta_1_tensor"
   ]
  },
  {
   "cell_type": "markdown",
   "id": "5798a12c-496b-44d3-8cc0-928d141f8829",
   "metadata": {},
   "source": [
    "----------------------------\n",
    "### Beta = 1.0"
   ]
  },
  {
   "cell_type": "code",
   "execution_count": 43,
   "id": "4998fb26-c5cb-4b4c-b323-d7a8d14e6eb6",
   "metadata": {},
   "outputs": [],
   "source": [
    "with open('../data_2d_ea/autocorr_vs_K/full_lattice/ea_square_size_8/j_seed_0/ea_square_size_8_beta_1.000_4E3_m_tensor_torch_v1.pkl', 'rb') as file:\n",
    "    data_dict = pickle.load(file)\n",
    "    q_ea2d_beta_2_v1 = data_dict['q_list']"
   ]
  },
  {
   "cell_type": "code",
   "execution_count": 44,
   "id": "3976aba5-6d69-4589-bde5-6768cefcf3ff",
   "metadata": {},
   "outputs": [],
   "source": [
    "with open('../data_2d_ea/autocorr_vs_K/full_lattice/ea_square_size_8/j_seed_0/ea_square_size_8_beta_1.000_4E3_m_tensor_torch_v2.pkl', 'rb') as file:\n",
    "    data_dict = pickle.load(file)\n",
    "    q_ea2d_beta_2_v2 = data_dict['q_list']"
   ]
  },
  {
   "cell_type": "code",
   "execution_count": 45,
   "id": "74555e91-3c2d-498f-85cd-6d2c10d6b7a8",
   "metadata": {},
   "outputs": [],
   "source": [
    "with open('../data_2d_ea/autocorr_vs_K/full_lattice/ea_square_size_8/j_seed_0/ea_square_size_8_beta_1.000_4E3_m_tensor_torch_v3.pkl', 'rb') as file:\n",
    "    data_dict = pickle.load(file)\n",
    "    q_ea2d_beta_2_v3 = data_dict['q_list']"
   ]
  },
  {
   "cell_type": "code",
   "execution_count": 46,
   "id": "e918381e-1a6c-4874-bda6-527d813b1313",
   "metadata": {},
   "outputs": [],
   "source": [
    "with open('../data_2d_ea/autocorr_vs_K/full_lattice/ea_square_size_8/j_seed_0/ea_square_size_8_beta_1.000_4E3_m_tensor_torch_v4.pkl', 'rb') as file:\n",
    "    data_dict = pickle.load(file)\n",
    "    q_ea2d_beta_2_v4 = data_dict['q_list']"
   ]
  },
  {
   "cell_type": "code",
   "execution_count": 47,
   "id": "17dc1db3-8ce8-49ac-8c0a-5361674441fb",
   "metadata": {},
   "outputs": [],
   "source": [
    "with open('../data_2d_ea/autocorr_vs_K/full_lattice/ea_square_size_8/j_seed_0/ea_square_size_8_beta_1.000_4E3_m_tensor_torch_v5.pkl', 'rb') as file:\n",
    "    data_dict = pickle.load(file)\n",
    "    q_ea2d_beta_2_v5 = data_dict['q_list']"
   ]
  },
  {
   "cell_type": "code",
   "execution_count": 48,
   "id": "7dffd502-381e-48e7-acdb-d07135d4a002",
   "metadata": {},
   "outputs": [],
   "source": [
    "q_ea2d_beta_2_v1 = np.array(q_ea2d_beta_2_v1).reshape((80, 1000))\n",
    "q_ea2d_beta_2_v2 = np.array(q_ea2d_beta_2_v2).reshape((80, 1000))\n",
    "q_ea2d_beta_2_v3 = np.array(q_ea2d_beta_2_v3).reshape((80, 1000))\n",
    "q_ea2d_beta_2_v4 = np.array(q_ea2d_beta_2_v4).reshape((80, 1000))\n",
    "q_ea2d_beta_2_v5 = np.array(q_ea2d_beta_2_v5).reshape((80, 1000))"
   ]
  },
  {
   "cell_type": "code",
   "execution_count": 52,
   "id": "20083394-aa02-4d09-903b-c3f883048eab",
   "metadata": {},
   "outputs": [],
   "source": [
    "q_ea2d_beta_2_tensor = np.concatenate([q_ea2d_beta_2_v1, q_ea2d_beta_2_v2, \n",
    "                                       q_ea2d_beta_2_v3, q_ea2d_beta_2_v4, \n",
    "                                       q_ea2d_beta_2_v5], axis=0)"
   ]
  },
  {
   "cell_type": "code",
   "execution_count": 55,
   "id": "538827d1-c5ef-42f3-be6a-e795a37f609f",
   "metadata": {},
   "outputs": [],
   "source": [
    "autocorr_q_ea2d_beta_2_tensor_mean, autocorr_q_ea2d_beta_2_tensor_std = autocorr_est_combine(q_ea2d_beta_2_tensor, (400, 1000), steps=100)"
   ]
  },
  {
   "cell_type": "code",
   "execution_count": 56,
   "id": "8833cfc8-4211-4a5e-b885-03e628cdc849",
   "metadata": {},
   "outputs": [],
   "source": [
    "beta = 1.00\n",
    "title_str = f\"2D EA, Beta={beta}, Full Lattice, Exact\""
   ]
  },
  {
   "cell_type": "code",
   "execution_count": 57,
   "id": "9e675bdc-0c58-4777-9d52-bd581c8bdbd9",
   "metadata": {},
   "outputs": [
    {
     "data": {
      "image/png": "[encoded data removed]",
      "text/plain": [
       "<Figure size 432x288 with 1 Axes>"
      ]
     },
     "metadata": {
      "needs_background": "light"
     },
     "output_type": "display_data"
    }
   ],
   "source": [
    "errbar_plot(autocorr_q_ea2d_beta_2_tensor_mean, autocorr_q_ea2d_beta_2_tensor_std, beta, title_str)"
   ]
  },
  {
   "cell_type": "code",
   "execution_count": 58,
   "id": "98fe3a42-5b94-4b8b-b195-c877ee103f37",
   "metadata": {},
   "outputs": [],
   "source": [
    "autocorr_time_beta_2_tensor = np.sum(autocorr_q_ea2d_beta_2_tensor_mean) - 1/2"
   ]
  },
  {
   "cell_type": "code",
   "execution_count": 59,
   "id": "7464cf30-3a00-4295-a436-eec765496fa7",
   "metadata": {},
   "outputs": [
    {
     "data": {
      "text/plain": [
       "0.4875900715057768"
      ]
     },
     "execution_count": 59,
     "metadata": {},
     "output_type": "execute_result"
    }
   ],
   "source": [
    "autocorr_time_beta_2_tensor"
   ]
  },
  {
   "cell_type": "markdown",
   "id": "e256bece-4ed3-41d8-b68c-bb09438d4dba",
   "metadata": {},
   "source": [
    "-----------------------\n",
    "### Beta = 1.25"
   ]
  },
  {
   "cell_type": "code",
   "execution_count": 60,
   "id": "37927910-9b73-4aec-8fe6-a66c2e9e5fc2",
   "metadata": {},
   "outputs": [],
   "source": [
    "with open('../data_2d_ea/autocorr_vs_K/full_lattice/ea_square_size_8/j_seed_0/ea_square_size_8_beta_1.250_4E3_m_tensor_torch_v1.pkl', 'rb') as file:\n",
    "    data_dict = pickle.load(file)\n",
    "    q_ea2d_beta_3_v1 = data_dict['q_list']"
   ]
  },
  {
   "cell_type": "code",
   "execution_count": 61,
   "id": "a2f716b9-cd4c-40df-b16c-661c61f49262",
   "metadata": {},
   "outputs": [],
   "source": [
    "with open('../data_2d_ea/autocorr_vs_K/full_lattice/ea_square_size_8/j_seed_0/ea_square_size_8_beta_1.250_4E3_m_tensor_torch_v2.pkl', 'rb') as file:\n",
    "    data_dict = pickle.load(file)\n",
    "    q_ea2d_beta_3_v2 = data_dict['q_list']"
   ]
  },
  {
   "cell_type": "code",
   "execution_count": 62,
   "id": "fa627a9f-2f39-4dd1-94f7-70844137c5b1",
   "metadata": {},
   "outputs": [],
   "source": [
    "with open('../data_2d_ea/autocorr_vs_K/full_lattice/ea_square_size_8/j_seed_0/ea_square_size_8_beta_1.250_4E3_m_tensor_torch_v3.pkl', 'rb') as file:\n",
    "    data_dict = pickle.load(file)\n",
    "    q_ea2d_beta_3_v3 = data_dict['q_list']"
   ]
  },
  {
   "cell_type": "code",
   "execution_count": 63,
   "id": "6202e413-05b3-4cff-849a-5ae61194607d",
   "metadata": {},
   "outputs": [],
   "source": [
    "with open('../data_2d_ea/autocorr_vs_K/full_lattice/ea_square_size_8/j_seed_0/ea_square_size_8_beta_1.250_4E3_m_tensor_torch_v4.pkl', 'rb') as file:\n",
    "    data_dict = pickle.load(file)\n",
    "    q_ea2d_beta_3_v4 = data_dict['q_list']"
   ]
  },
  {
   "cell_type": "code",
   "execution_count": 64,
   "id": "ff12edbf-4c03-4d48-98fa-044b1724fdca",
   "metadata": {},
   "outputs": [],
   "source": [
    "with open('../data_2d_ea/autocorr_vs_K/full_lattice/ea_square_size_8/j_seed_0/ea_square_size_8_beta_1.250_4E3_m_tensor_torch_v5.pkl', 'rb') as file:\n",
    "    data_dict = pickle.load(file)\n",
    "    q_ea2d_beta_3_v5 = data_dict['q_list']"
   ]
  },
  {
   "cell_type": "code",
   "execution_count": 65,
   "id": "1a890d25-1b7e-4744-8543-96237c5d7e41",
   "metadata": {},
   "outputs": [],
   "source": [
    "q_ea2d_beta_3_v1 = np.array(q_ea2d_beta_3_v1).reshape((80, 1000))\n",
    "q_ea2d_beta_3_v2 = np.array(q_ea2d_beta_3_v2).reshape((80, 1000))\n",
    "q_ea2d_beta_3_v3 = np.array(q_ea2d_beta_3_v3).reshape((80, 1000))\n",
    "q_ea2d_beta_3_v4 = np.array(q_ea2d_beta_3_v4).reshape((80, 1000))\n",
    "q_ea2d_beta_3_v5 = np.array(q_ea2d_beta_3_v5).reshape((80, 1000))"
   ]
  },
  {
   "cell_type": "code",
   "execution_count": 66,
   "id": "4e7194c0-294b-4af0-916e-c98477a9df79",
   "metadata": {},
   "outputs": [],
   "source": [
    "q_ea2d_beta_3_tensor = np.concatenate([q_ea2d_beta_3_v1, q_ea2d_beta_3_v2, \n",
    "                                       q_ea2d_beta_3_v3, q_ea2d_beta_3_v4, \n",
    "                                       q_ea2d_beta_3_v5], axis=0)"
   ]
  },
  {
   "cell_type": "code",
   "execution_count": 67,
   "id": "25cd2aa1-c05c-4563-b50e-34a68c1cac19",
   "metadata": {},
   "outputs": [],
   "source": [
    "autocorr_q_ea2d_beta_3_tensor_mean, autocorr_q_ea2d_beta_3_tensor_std = autocorr_est_combine(q_ea2d_beta_3_tensor, (400, 1000), steps=100)"
   ]
  },
  {
   "cell_type": "code",
   "execution_count": 68,
   "id": "6ae753cc-69cc-4dbc-9f5a-a804c38d86b4",
   "metadata": {},
   "outputs": [],
   "source": [
    "beta = 1.25\n",
    "title_str = f\"2D EA, Beta={beta}, Full Lattice, Exact\""
   ]
  },
  {
   "cell_type": "code",
   "execution_count": 69,
   "id": "0db385cc-7a43-46fc-8a72-533940973236",
   "metadata": {},
   "outputs": [
    {
     "data": {
      "image/png": "[encoded data removed]",
      "text/plain": [
       "<Figure size 432x288 with 1 Axes>"
      ]
     },
     "metadata": {
      "needs_background": "light"
     },
     "output_type": "display_data"
    }
   ],
   "source": [
    "errbar_plot(autocorr_q_ea2d_beta_3_tensor_mean, autocorr_q_ea2d_beta_3_tensor_std, beta, title_str)"
   ]
  },
  {
   "cell_type": "code",
   "execution_count": 70,
   "id": "c4316651-95e6-4987-951f-ba2d4af89e3e",
   "metadata": {},
   "outputs": [],
   "source": [
    "autocorr_time_beta_3_tensor = np.sum(autocorr_q_ea2d_beta_3_tensor_mean) - 1/2"
   ]
  },
  {
   "cell_type": "code",
   "execution_count": 71,
   "id": "34646917-490f-452b-9f7d-e7c2ea0424e0",
   "metadata": {},
   "outputs": [
    {
     "data": {
      "text/plain": [
       "0.4893498059366176"
      ]
     },
     "execution_count": 71,
     "metadata": {},
     "output_type": "execute_result"
    }
   ],
   "source": [
    "autocorr_time_beta_3_tensor"
   ]
  },
  {
   "cell_type": "markdown",
   "id": "16892f26-471f-462e-8835-821ad40c55d9",
   "metadata": {},
   "source": [
    "-----------------------\n",
    "### Beta = 1.5"
   ]
  },
  {
   "cell_type": "code",
   "execution_count": 72,
   "id": "1b4ca6c7-182a-412a-beea-888fc018e790",
   "metadata": {},
   "outputs": [],
   "source": [
    "with open('../data_2d_ea/autocorr_vs_K/full_lattice/ea_square_size_8/j_seed_0/ea_square_size_8_beta_1.500_4E3_m_tensor_torch_v1.pkl', 'rb') as file:\n",
    "    data_dict = pickle.load(file)\n",
    "    q_ea2d_beta_4_v1 = data_dict['q_list']"
   ]
  },
  {
   "cell_type": "code",
   "execution_count": 73,
   "id": "69187c14-e632-4ac2-8040-bfc91d04d5fe",
   "metadata": {},
   "outputs": [],
   "source": [
    "with open('../data_2d_ea/autocorr_vs_K/full_lattice/ea_square_size_8/j_seed_0/ea_square_size_8_beta_1.500_4E3_m_tensor_torch_v2.pkl', 'rb') as file:\n",
    "    data_dict = pickle.load(file)\n",
    "    q_ea2d_beta_4_v2 = data_dict['q_list']"
   ]
  },
  {
   "cell_type": "code",
   "execution_count": 74,
   "id": "50844654-8dc8-4a1f-b19e-e2e04ac3d08f",
   "metadata": {},
   "outputs": [],
   "source": [
    "with open('../data_2d_ea/autocorr_vs_K/full_lattice/ea_square_size_8/j_seed_0/ea_square_size_8_beta_1.500_4E3_m_tensor_torch_v3.pkl', 'rb') as file:\n",
    "    data_dict = pickle.load(file)\n",
    "    q_ea2d_beta_4_v3 = data_dict['q_list']"
   ]
  },
  {
   "cell_type": "code",
   "execution_count": 75,
   "id": "cba4dbc1-a4d1-4b96-a483-3e434cc6e257",
   "metadata": {},
   "outputs": [],
   "source": [
    "with open('../data_2d_ea/autocorr_vs_K/full_lattice/ea_square_size_8/j_seed_0/ea_square_size_8_beta_1.500_4E3_m_tensor_torch_v4.pkl', 'rb') as file:\n",
    "    data_dict = pickle.load(file)\n",
    "    q_ea2d_beta_4_v4 = data_dict['q_list']"
   ]
  },
  {
   "cell_type": "code",
   "execution_count": 76,
   "id": "0b922b31-d1d4-4e11-a8d2-694aedc43ede",
   "metadata": {},
   "outputs": [],
   "source": [
    "with open('../data_2d_ea/autocorr_vs_K/full_lattice/ea_square_size_8/j_seed_0/ea_square_size_8_beta_1.500_4E3_m_tensor_torch_v5.pkl', 'rb') as file:\n",
    "    data_dict = pickle.load(file)\n",
    "    q_ea2d_beta_4_v5 = data_dict['q_list']"
   ]
  },
  {
   "cell_type": "code",
   "execution_count": 77,
   "id": "19d18eea-1a2d-4629-af69-7652f4a1a5d1",
   "metadata": {},
   "outputs": [],
   "source": [
    "q_ea2d_beta_4_v1 = np.array(q_ea2d_beta_4_v1).reshape((80, 1000))\n",
    "q_ea2d_beta_4_v2 = np.array(q_ea2d_beta_4_v2).reshape((80, 1000))\n",
    "q_ea2d_beta_4_v3 = np.array(q_ea2d_beta_4_v3).reshape((80, 1000))\n",
    "q_ea2d_beta_4_v4 = np.array(q_ea2d_beta_4_v4).reshape((80, 1000))\n",
    "q_ea2d_beta_4_v5 = np.array(q_ea2d_beta_4_v5).reshape((80, 1000))"
   ]
  },
  {
   "cell_type": "code",
   "execution_count": 78,
   "id": "ea678d57-51f1-4be7-8042-fc0bb5e28fb0",
   "metadata": {},
   "outputs": [],
   "source": [
    "autocorr_q_ea2d_beta_4_tensor_mean, autocorr_q_ea2d_beta_4_tensor_std = autocorr_est_combine(q_ea2d_beta_4_tensor, (400, 1000), steps=100)"
   ]
  },
  {
   "cell_type": "code",
   "execution_count": 79,
   "id": "2c830404-d8ca-4007-88b8-c8d15bdd9b41",
   "metadata": {},
   "outputs": [],
   "source": [
    "beta = 1.5\n",
    "title_str = f\"2D EA, Beta={beta}, Full Lattice, Exact\""
   ]
  },
  {
   "cell_type": "code",
   "execution_count": 80,
   "id": "ce5ca4c9-74d4-47e7-87ea-531a347b07f0",
   "metadata": {},
   "outputs": [
    {
     "data": {
      "image/png": "[encoded data removed]",
      "text/plain": [
       "<Figure size 432x288 with 1 Axes>"
      ]
     },
     "metadata": {
      "needs_background": "light"
     },
     "output_type": "display_data"
    }
   ],
   "source": [
    "errbar_plot(autocorr_q_ea2d_beta_3_tensor_mean, autocorr_q_ea2d_beta_4_tensor_std, beta, title_str)"
   ]
  },
  {
   "cell_type": "code",
   "execution_count": 81,
   "id": "37ea55c4-6727-47de-85ee-8e459fc3b80a",
   "metadata": {},
   "outputs": [],
   "source": [
    "autocorr_time_beta_4_tensor = np.sum(autocorr_q_ea2d_beta_4_tensor_mean) - 1/2"
   ]
  },
  {
   "cell_type": "code",
   "execution_count": 82,
   "id": "11289fed-d456-41bf-9901-c96461ae000d",
   "metadata": {},
   "outputs": [
    {
     "data": {
      "text/plain": [
       "0.5126793351146772"
      ]
     },
     "execution_count": 82,
     "metadata": {},
     "output_type": "execute_result"
    }
   ],
   "source": [
    "autocorr_time_beta_4_tensor"
   ]
  },
  {
   "cell_type": "markdown",
   "id": "0742742d-a416-48cd-b98c-cdb392f9efdd",
   "metadata": {},
   "source": [
    "---------------------------\n",
    "### Summary"
   ]
  },
  {
   "cell_type": "code",
   "execution_count": 116,
   "id": "ceeef490-e899-4713-ad0e-e5277602a7e5",
   "metadata": {},
   "outputs": [],
   "source": [
    "beta_list = [0.5, 0.75, 1, 1.25, 1.5]\n",
    "autocorr_time_full_list = [autocorr_time_beta_0_tensor, autocorr_time_beta_1_tensor, \n",
    "                           autocorr_time_beta_2_tensor, autocorr_time_beta_3_tensor, \n",
    "                           autocorr_time_beta_3_tensor]"
   ]
  },
  {
   "cell_type": "markdown",
   "id": "5f6f0afe-2f00-4b94-95d7-bd995461d0f0",
   "metadata": {},
   "source": [
    "--------------------\n",
    "## Metropolis (size = 8)"
   ]
  },
  {
   "cell_type": "code",
   "execution_count": 87,
   "id": "9ac99143-e9c9-44a7-8f35-3efd33aeef3c",
   "metadata": {},
   "outputs": [],
   "source": [
    "with open('../data_2d_ea/autocorr_vs_K/full_lattice_metro/ea_square_size_8_metropolis/ea_square_beta_0.500_q_1E7_metropolis.pkl', 'rb') as file:\n",
    "    data_dict = pickle.load(file)\n",
    "    q_ea2d_beta_0_metro = data_dict['q_history']"
   ]
  },
  {
   "cell_type": "code",
   "execution_count": 88,
   "id": "66087d3a-dbe9-44da-8fe4-1b55d4c480f4",
   "metadata": {},
   "outputs": [
    {
     "data": {
      "text/plain": [
       "<AxesSubplot:ylabel='Count'>"
      ]
     },
     "execution_count": 88,
     "metadata": {},
     "output_type": "execute_result"
    },
    {
     "data": {
      "image/png": "[encoded data removed]",
      "text/plain": [
       "<Figure size 432x288 with 1 Axes>"
      ]
     },
     "metadata": {
      "needs_background": "light"
     },
     "output_type": "display_data"
    }
   ],
   "source": [
    "sns.histplot(np.reshape(q_ea2d_beta_0_metro, -1)[:100000])"
   ]
  },
  {
   "cell_type": "code",
   "execution_count": 89,
   "id": "54ac56b6-8cdf-431e-be35-47b70269442b",
   "metadata": {},
   "outputs": [],
   "source": [
    "with open('../data_2d_ea/autocorr_vs_K/full_lattice_metro/ea_square_size_8_metropolis/ea_square_beta_0.750_q_1E7_metropolis.pkl', 'rb') as file:\n",
    "    data_dict = pickle.load(file)\n",
    "    q_ea2d_beta_1_metro = data_dict['q_history']"
   ]
  },
  {
   "cell_type": "code",
   "execution_count": 90,
   "id": "d1513f49-d29d-43ae-9c5e-c5e47e69da5d",
   "metadata": {},
   "outputs": [],
   "source": [
    "with open('../data_2d_ea/autocorr_vs_K/full_lattice_metro/ea_square_size_8_metropolis/ea_square_beta_1.000_q_1E7_metropolis.pkl', 'rb') as file:\n",
    "    data_dict = pickle.load(file)\n",
    "    q_ea2d_beta_2_metro = data_dict['q_history']"
   ]
  },
  {
   "cell_type": "code",
   "execution_count": 91,
   "id": "6c405e4a-dbc1-4ebc-8d40-aa6bd3ed0e9a",
   "metadata": {},
   "outputs": [],
   "source": [
    "with open('../data_2d_ea/autocorr_vs_K/full_lattice_metro/ea_square_size_8_metropolis/ea_square_beta_1.250_q_1E7_metropolis.pkl', 'rb') as file:\n",
    "    data_dict = pickle.load(file)\n",
    "    q_ea2d_beta_3_metro = data_dict['q_history']"
   ]
  },
  {
   "cell_type": "code",
   "execution_count": 92,
   "id": "9949c7f6-0953-4dcf-811e-cdd90d2e31e1",
   "metadata": {},
   "outputs": [],
   "source": [
    "with open('../data_2d_ea/autocorr_vs_K/full_lattice_metro/ea_square_size_8_metropolis/ea_square_beta_1.500_q_1E7_metropolis.pkl', 'rb') as file:\n",
    "    data_dict = pickle.load(file)\n",
    "    q_ea2d_beta_4_metro = data_dict['q_history']"
   ]
  },
  {
   "cell_type": "code",
   "execution_count": 93,
   "id": "d8d187ce-0854-456f-ae6a-c5b22bd14ec2",
   "metadata": {},
   "outputs": [
    {
     "data": {
      "text/plain": [
       "<AxesSubplot:ylabel='Count'>"
      ]
     },
     "execution_count": 93,
     "metadata": {},
     "output_type": "execute_result"
    },
    {
     "data": {
      "image/png": "[encoded data removed]",
      "text/plain": [
       "<Figure size 432x288 with 1 Axes>"
      ]
     },
     "metadata": {
      "needs_background": "light"
     },
     "output_type": "display_data"
    }
   ],
   "source": [
    "sns.histplot(np.reshape(q_ea2d_beta_4_metro[:10000], -1))"
   ]
  },
  {
   "cell_type": "code",
   "execution_count": 94,
   "id": "391749f8-d5c5-4096-82fe-066308d4f944",
   "metadata": {},
   "outputs": [],
   "source": [
    "q_ea2d_beta_0_metro = np.array(q_ea2d_beta_0_metro).reshape((10000, 1000))"
   ]
  },
  {
   "cell_type": "code",
   "execution_count": 95,
   "id": "32820be1-069b-4c14-a8be-9963d3aacea6",
   "metadata": {},
   "outputs": [],
   "source": [
    "q_ea2d_beta_1_metro = np.array(q_ea2d_beta_1_metro).reshape((10000, 1000))"
   ]
  },
  {
   "cell_type": "code",
   "execution_count": 96,
   "id": "2f8c8098-31b9-4559-b368-fcad128d3668",
   "metadata": {},
   "outputs": [],
   "source": [
    "q_ea2d_beta_2_metro = np.array(q_ea2d_beta_2_metro).reshape((10000, 1000))"
   ]
  },
  {
   "cell_type": "code",
   "execution_count": 97,
   "id": "7f53c916-b422-4cdb-9de4-66248d85fedd",
   "metadata": {},
   "outputs": [],
   "source": [
    "q_ea2d_beta_3_metro = np.array(q_ea2d_beta_3_metro).reshape((10000, 1000))"
   ]
  },
  {
   "cell_type": "code",
   "execution_count": 98,
   "id": "6d36fdfc-639d-4a0d-95c3-67614bdc9ce3",
   "metadata": {},
   "outputs": [],
   "source": [
    "q_ea2d_beta_4_metro = np.array(q_ea2d_beta_4_metro).reshape((10000, 1000))"
   ]
  },
  {
   "cell_type": "code",
   "execution_count": 99,
   "id": "dbe84cd0-ae74-46ee-9bcf-a718409ad909",
   "metadata": {},
   "outputs": [],
   "source": [
    "autocorr_q_ea2d_beta_0_metro_mean, autocorr_q_ea2d_beta_0_metro_std = autocorr_est_combine(q_ea2d_beta_0_metro, (10000, 1000), steps=100)"
   ]
  },
  {
   "cell_type": "code",
   "execution_count": 100,
   "id": "f7058d72-139f-4cda-9b9a-78d6868bf0a4",
   "metadata": {},
   "outputs": [],
   "source": [
    "autocorr_q_ea2d_beta_1_metro_mean, autocorr_q_ea2d_beta_1_metro_std = autocorr_est_combine(q_ea2d_beta_1_metro, (10000, 1000), steps=100)"
   ]
  },
  {
   "cell_type": "code",
   "execution_count": 101,
   "id": "7a0f53b8-21eb-44e6-b030-8493b8786e8e",
   "metadata": {},
   "outputs": [],
   "source": [
    "autocorr_q_ea2d_beta_2_metro_mean, autocorr_q_ea2d_beta_2_metro_std = autocorr_est_combine(q_ea2d_beta_2_metro, (10000, 1000), steps=100)"
   ]
  },
  {
   "cell_type": "code",
   "execution_count": 102,
   "id": "26dffecc-eaf6-41bd-8207-6cccd67bde06",
   "metadata": {},
   "outputs": [],
   "source": [
    "autocorr_q_ea2d_beta_3_metro_mean, autocorr_q_ea2d_beta_3_metro_std = autocorr_est_combine(q_ea2d_beta_3_metro, (10000, 1000), steps=100)"
   ]
  },
  {
   "cell_type": "code",
   "execution_count": 103,
   "id": "1fc64e38-aa40-4798-9393-6a42da11407c",
   "metadata": {},
   "outputs": [],
   "source": [
    "autocorr_q_ea2d_beta_4_metro_mean, autocorr_q_ea2d_beta_4_metro_std = autocorr_est_combine(q_ea2d_beta_4_metro, (10000, 1000), steps=100)"
   ]
  },
  {
   "cell_type": "code",
   "execution_count": 111,
   "id": "2fe51adf-22f0-42d7-85ee-2581ab914341",
   "metadata": {},
   "outputs": [],
   "source": [
    "autocorr_time_beta_0_metro = autocorr_time_est(autocorr_q_ea2d_beta_0_metro_mean[:20])\n",
    "autocorr_time_beta_1_metro = autocorr_time_est(autocorr_q_ea2d_beta_1_metro_mean)\n",
    "autocorr_time_beta_2_metro = autocorr_time_est(autocorr_q_ea2d_beta_2_metro_mean)\n",
    "autocorr_time_beta_3_metro = autocorr_time_est(autocorr_q_ea2d_beta_3_metro_mean)\n",
    "autocorr_time_beta_4_metro = autocorr_time_est(autocorr_q_ea2d_beta_4_metro_mean)"
   ]
  },
  {
   "cell_type": "markdown",
   "id": "4b999119-d19d-45c8-8ada-3c2f91dab4f5",
   "metadata": {},
   "source": [
    "## Summary"
   ]
  },
  {
   "cell_type": "code",
   "execution_count": 117,
   "id": "29873cdc-bec4-4deb-8ce8-a858c671218f",
   "metadata": {},
   "outputs": [],
   "source": [
    "beta_list = [0.5, 0.75, 1, 1.25, 1.5]\n",
    "autocorr_time_metro_list = [autocorr_time_beta_0_metro, autocorr_time_beta_1_metro, \n",
    "                            autocorr_time_beta_2_metro, autocorr_time_beta_3_metro, \n",
    "                            autocorr_time_beta_4_metro]"
   ]
  },
  {
   "cell_type": "code",
   "execution_count": 118,
   "id": "abebf2c8-e1d0-42ab-a581-2bda2aab65d6",
   "metadata": {},
   "outputs": [],
   "source": [
    "index_metro, bias_metro = np.polyfit(beta_list, np.log(autocorr_time_metro_list), 1)"
   ]
  },
  {
   "cell_type": "code",
   "execution_count": null,
   "id": "81e8e682-bc55-4f79-8403-817ad6cdd744",
   "metadata": {},
   "outputs": [],
   "source": [
    "index_full, bias_full = np.polyfit(beta_list, np.log(autocorr_time_full_list), 1)"
   ]
  },
  {
   "cell_type": "code",
   "execution_count": null,
   "id": "0f4a8c24-0ea2-44c2-ba4f-d0a42e9bc742",
   "metadata": {},
   "outputs": [
    {
     "data": {
      "text/plain": [
       "Text(0.5, 1.0, '2D (J, -J, 1/2) EA (Size=8)')"
      ]
     },
     "execution_count": 121,
     "metadata": {},
     "output_type": "execute_result"
    },
    {
     "data": {
      "image/png": "[encoded data removed]",
      "text/plain": [
       "<Figure size 432x288 with 1 Axes>"
      ]
     },
     "metadata": {
      "needs_background": "light"
     },
     "output_type": "display_data"
    }
   ],
   "source": [
    "plt.plot(beta_list, np.exp(index_metro*np.array(beta_list) + bias_metro), linewidth=3)\n",
    "plt.plot(beta_list, autocorr_time_metro_list, 'x', markersize=11, label='Metropolis')\n",
    "plt.plot(beta_list, autocorr_time_full_list, 'o', markersize=11, label='Tensor(Full Lattice)')\n",
    "plt.plot(beta_list, np.exp(index_full*np.array(beta_list) + bias_full), linewidth=3)\n",
    "plt.yscale('log')\n",
    "plt.xlabel(\"K\", fontsize=13)\n",
    "plt.ylabel(\"Autocorr Time\", fontsize=13)\n",
    "plt.legend()\n",
    "plt.title(\"2D (J, -J, 1/2) EA (Size=8)\", fontsize=15)"
   ]
  }
 ],
 "metadata": {
  "kernelspec": {
   "display_name": "Python 3 (ipykernel)",
   "language": "python",
   "name": "python3"
  },
  "language_info": {
   "codemirror_mode": {
    "name": "ipython",
    "version": 3
   },
   "file_extension": ".py",
   "mimetype": "text/x-python",
   "name": "python",
   "nbconvert_exporter": "python",
   "pygments_lexer": "ipython3",
   "version": "3.10.5"
  }
 },
 "nbformat": 4,
 "nbformat_minor": 5
}
