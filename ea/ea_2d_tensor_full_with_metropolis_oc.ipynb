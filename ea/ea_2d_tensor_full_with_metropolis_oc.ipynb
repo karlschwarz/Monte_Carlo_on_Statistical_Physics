{
 "cells": [
  {
   "cell_type": "markdown",
   "id": "a5f72cb5-87df-473f-8c83-0c0e2de56345",
   "metadata": {},
   "source": [
    "# Full Grid Evolution by Tensor Contraction\n",
    "## Proposal is estimated by Tensor Contraction\n",
    "### 2D EA (J, -J, 1/2)"
   ]
  },
  {
   "cell_type": "code",
   "execution_count": 2,
   "id": "49cf671c-3ed7-4a23-b0cf-ececd6c2469a",
   "metadata": {},
   "outputs": [],
   "source": [
    "import torch\n",
    "import numpy as np\n",
    "import numba as nb\n",
    "from scipy.linalg import sqrtm"
   ]
  },
  {
   "cell_type": "code",
   "execution_count": 3,
   "id": "b7b5f80b-3614-49fe-9cbb-1c12ed130cc6",
   "metadata": {},
   "outputs": [],
   "source": [
    "import math\n",
    "import time\n",
    "from tqdm.auto import trange"
   ]
  },
  {
   "cell_type": "code",
   "execution_count": 4,
   "id": "60edfa72-dadd-4d67-baad-a2f5c2b9933b",
   "metadata": {},
   "outputs": [],
   "source": [
    "from collections import defaultdict\n",
    "import copy\n",
    "import pickle\n",
    "import seaborn as sns\n",
    "import matplotlib.pyplot as plt\n",
    "import os"
   ]
  },
  {
   "cell_type": "markdown",
   "id": "e7e20c5d-e76c-45e2-8475-27ed2e13b1da",
   "metadata": {},
   "source": [
    "---------------------------------\n",
    "### Full grid"
   ]
  },
  {
   "cell_type": "code",
   "execution_count": 5,
   "id": "6cd9a149-e237-4e47-aa48-af9739dddaf9",
   "metadata": {},
   "outputs": [],
   "source": [
    "def j_matrix_init():\n",
    "    global j_matrix\n",
    "    #np.random.seed(1288688)\n",
    "    j_matrix = np.zeros((dims[0], dims[1], 4), dtype=np.int8)\n",
    "    for i in range(dims[0]):\n",
    "        for j in range(dims[1]):\n",
    "            j_matrix[i][j] = (-1) ** np.random.binomial(1, 1/2, 4)\n",
    "    for i in range(dims[0]):\n",
    "        for j in range(dims[1]):\n",
    "            j_matrix[i][j][3] = j_matrix[(i-1)%dims[0]][j][1]\n",
    "            j_matrix[i][j][0] = j_matrix[i][(j-1)%dims[1]][2]"
   ]
  },
  {
   "cell_type": "code",
   "execution_count": 6,
   "id": "edc86baa-38d5-4fb7-9f21-de95c4f5a9b7",
   "metadata": {},
   "outputs": [],
   "source": [
    "def j_pos_one_matrix_init():\n",
    "    global j_matrix\n",
    "    j_matrix = np.ones((dims[0], dims[1], 4), dtype=np.float64)"
   ]
  },
  {
   "cell_type": "code",
   "execution_count": 7,
   "id": "e98aaeb6-cca0-440f-ab42-c3c794329d9d",
   "metadata": {},
   "outputs": [],
   "source": [
    "def j_neg_one_matrix_init():\n",
    "    global j_matrix\n",
    "    j_matrix = -1 * np.ones((dims[0], dims[1], 4), dtype=np.float64)    "
   ]
  },
  {
   "cell_type": "code",
   "execution_count": 8,
   "id": "27eb06b4-f890-46e8-9eb8-6494d28379a1",
   "metadata": {},
   "outputs": [],
   "source": [
    "def j_matrix_frust_init():\n",
    "    global j_matrix\n",
    "    j_matrix = np.ones((dims[0], dims[1], 4), dtype=np.int8)\n",
    "    for i in range(dims[0]):\n",
    "        for j in range(dims[1]):\n",
    "            if j % 2 != 0:\n",
    "                j_matrix[i][j][1] = -1\n",
    "                j_matrix[i][j][3] = -1\n",
    "    for i in range(dims[0]):\n",
    "        for j in range(dims[1]):\n",
    "            j_matrix[i][j][3] = j_matrix[(i-1)%dims[0]][j][1]\n",
    "            j_matrix[i][j][0] = j_matrix[i][(j-1)%dims[1]][2]"
   ]
  },
  {
   "cell_type": "code",
   "execution_count": 9,
   "id": "06f3b652-f839-486e-873f-b04af7a8ee8f",
   "metadata": {},
   "outputs": [],
   "source": [
    "def B_tensor_prepare(j_vec):\n",
    "    B_list = []\n",
    "    for jj in j_vec:\n",
    "        if jj == 1:\n",
    "            B_list.append(B_pos)\n",
    "        else:\n",
    "            B_list.append(B_neg)\n",
    "    return B_list"
   ]
  },
  {
   "cell_type": "code",
   "execution_count": 10,
   "id": "8e31a892-c23f-4563-8be0-5575d20f3bde",
   "metadata": {},
   "outputs": [],
   "source": [
    "def bdy_vector_prepare(grid, id_loc, pos_index):\n",
    "    \"\"\"\n",
    "    Args:\n",
    "        grid: (np.array)\n",
    "        id_loc: (tuple)\n",
    "        pos_index: (int) \n",
    "        \n",
    "    Returns:\n",
    "        bdy_vector: (np.array)\n",
    "    \"\"\"\n",
    "    id_row, id_col = id_loc\n",
    "    if grid[id_row][id_col] == 1:\n",
    "        if j_matrix[id_row][id_col][pos_index] == 1:\n",
    "            bdy_vector = spin_pos_up\n",
    "        else:\n",
    "            bdy_vector = spin_neg_up\n",
    "    else:\n",
    "        if j_matrix[id_row][id_col][pos_index] == 1:\n",
    "            bdy_vector = spin_pos_down\n",
    "        else:\n",
    "            bdy_vector = spin_neg_down\n",
    "    return bdy_vector"
   ]
  },
  {
   "cell_type": "code",
   "execution_count": 11,
   "id": "81136e51-ea93-4ef5-9f2c-5733834df6e7",
   "metadata": {},
   "outputs": [],
   "source": [
    "def parameters_init(dims_init, beta_init, h_init):\n",
    "    global grid_1, grid_2, dims, beta, h\n",
    "    #np.random.seed(314)\n",
    "    #np.random.seed(181)\n",
    "    #np.random.seed(0)\n",
    "    dims = (nb.int64(dims_init[0]), nb.int64(dims_init[1]))\n",
    "    beta, h = nb.float64(beta_init), nb.float64(h_init)\n",
    "    grid_1 = np.reshape(np.random.choice([nb.int8(-1), nb.int8(1)], \n",
    "                                         size=dims_init[0]*dims_init[1]), dims_init)\n",
    "    grid_2 = np.reshape(np.random.choice([nb.int8(-1), nb.int8(1)], \n",
    "                                         size=dims_init[0]*dims_init[1]), dims_init)"
   ]
  },
  {
   "cell_type": "code",
   "execution_count": 12,
   "id": "94dcadc5-88e5-4c97-9626-855974b0c3c0",
   "metadata": {},
   "outputs": [],
   "source": [
    "global grid_1, grid_2, dims, beta, j_matrix, h"
   ]
  },
  {
   "cell_type": "code",
   "execution_count": 13,
   "id": "cef6bc9e-b72e-42b2-b689-841893586083",
   "metadata": {},
   "outputs": [],
   "source": [
    "dims_init = (4, 4)\n",
    "#dims_init = (8, 8)\n",
    "#dims_init = (16, 16)\n",
    "#dims_init = (32, 32)\n",
    "#dims_init = (64, 64)\n",
    "#beta_init, h_init = np.log(1 + np.sqrt(2)) / 2, 0\n",
    "beta_init, h_init = 5, 0\n",
    "parameters_init(dims_init, beta_init, h_init)"
   ]
  },
  {
   "cell_type": "code",
   "execution_count": 14,
   "id": "86125031-11b1-4377-8bc1-ea4bb49a500a",
   "metadata": {},
   "outputs": [],
   "source": [
    "j_matrix_frust_init()\n",
    "#j_matrix_init()\n",
    "#j_neg_one_matrix_init()\n",
    "#j_pos_one_matrix_init()"
   ]
  },
  {
   "cell_type": "code",
   "execution_count": 15,
   "id": "9f867352-5680-4883-9a99-c69cdef88e69",
   "metadata": {},
   "outputs": [],
   "source": [
    "my_device = torch.device('cuda:5') if torch.cuda.is_available() else torch.device('cpu')"
   ]
  },
  {
   "cell_type": "code",
   "execution_count": 16,
   "id": "2b7216d0-562c-4b00-83ab-b9217013b6c3",
   "metadata": {},
   "outputs": [],
   "source": [
    "def node_tensor_create(my_device=my_device):\n",
    "    I_1, I_2, I_3, I_4, I_up, I_down = copy_tensor_create(my_device)\n",
    "    B_pos = torch.tensor(sqrtm(np.array([[np.exp(beta),np.exp(-beta)], \n",
    "                                         [np.exp(-beta),np.exp(beta)]])), \n",
    "                         dtype=torch.complex128, device=my_device)\n",
    "    B_neg = torch.tensor(sqrtm(np.array([[np.exp(-beta),np.exp(beta)], \n",
    "                                         [np.exp(beta),np.exp(-beta)]])), \n",
    "                         dtype=torch.complex128, device=my_device)\n",
    "    spin_up = torch.tensor([1, 0], dtype=torch.complex128, device=my_device)\n",
    "    spin_down = torch.tensor([0, 1], dtype=torch.complex128, device=my_device)\n",
    "    spin_pos_up = torch.einsum(\"i, ij -> j\", [spin_up, B_pos])\n",
    "    spin_pos_down = torch.einsum(\"i, ij -> j\", [spin_down, B_pos])\n",
    "    spin_neg_up = torch.einsum(\"i, ij -> j\", [spin_up, B_neg])\n",
    "    spin_neg_down = torch.einsum(\"i, ij -> j\", [spin_down, B_neg])\n",
    "    return B_pos, B_neg, spin_pos_up, spin_pos_down, spin_neg_up, spin_neg_down"
   ]
  },
  {
   "cell_type": "code",
   "execution_count": 17,
   "id": "87a71799-33a4-4d1c-be4d-d5003fc2f3b7",
   "metadata": {},
   "outputs": [],
   "source": [
    "def copy_tensor_create(my_device=my_device):\n",
    "    I_2_array = np.zeros((2, 2))\n",
    "    I_3_array = np.zeros((2, 2, 2))\n",
    "    I_4_array = np.zeros((2, 2, 2, 2))\n",
    "    I_up_array = np.zeros((2, 2, 2, 2))\n",
    "    I_down_array = np.zeros((2, 2, 2, 2))\n",
    "    for i in range(2):\n",
    "        if i == 0:\n",
    "            I_2_array[i, i] = np.exp(beta * h)\n",
    "            I_3_array[i, i, i] = np.exp(beta * h)\n",
    "            I_4_array[i, i, i, i] = np.exp(beta * h)\n",
    "        else:\n",
    "            I_2_array[i, i] = np.exp(-beta * h)\n",
    "            I_3_array[i, i, i] = np.exp(-beta * h)\n",
    "            I_4_array[i, i, i, i] = np.exp(-beta * h)\n",
    "    I_up_array[0][0][0][0] = np.exp(beta * h)\n",
    "    I_down_array[1][1][1][1] = np.exp(-beta * h)\n",
    "    I_1 = torch.tensor([np.exp(beta * h), np.exp(-beta * h)], dtype=torch.complex128, device=my_device)\n",
    "    I_2 = torch.tensor(I_2_array, dtype=torch.complex128, device=my_device)\n",
    "    I_3 = torch.tensor(I_3_array, dtype=torch.complex128, device=my_device)\n",
    "    I_4 = torch.tensor(I_4_array, dtype=torch.complex128, device=my_device)\n",
    "    I_up = torch.tensor(I_up_array, dtype=torch.complex128, device=my_device)\n",
    "    I_down = torch.tensor(I_down_array, dtype=torch.complex128, device=my_device)\n",
    "    return I_1, I_2, I_3, I_4, I_up, I_down"
   ]
  },
  {
   "cell_type": "code",
   "execution_count": 18,
   "id": "e165ebf3-9001-404b-9f56-39ffb7a523c0",
   "metadata": {},
   "outputs": [],
   "source": [
    "def row_tensor_mpo_create(row_id):\n",
    "    row_tensor_mpo = []\n",
    "    for col_id in range(dims[1]):\n",
    "        B_list = []\n",
    "        j_vec = j_matrix[row_id][col_id]\n",
    "        for jj in j_vec:\n",
    "            if jj == 1:\n",
    "                B_list.append(B_pos)\n",
    "            else:\n",
    "                B_list.append(B_neg)\n",
    "        B_list.append(I_4)\n",
    "        A_4_i = torch.einsum(\"ij, kl, mn, pq, jlnq -> ikmp\", B_list)\n",
    "        A_4_i = A_4_i / A_4_i.norm()\n",
    "        row_tensor_mpo.append(A_4_i)\n",
    "    return row_tensor_mpo"
   ]
  },
  {
   "cell_type": "code",
   "execution_count": 19,
   "id": "11653704-8102-4ca0-8718-cee6abd9280c",
   "metadata": {},
   "outputs": [],
   "source": [
    "def up_row_tensor_mps_create():\n",
    "    row_tensor_mps = []\n",
    "    j_vec_left = [j_matrix[0][0][1], j_matrix[0][0][2]]\n",
    "    j_vec_right = [j_matrix[0][-1][0], j_matrix[0][-1][1]]\n",
    "    B_list_left = [B_pos if j_vec_left[0] == 1 else B_neg, B_pos if j_vec_left[1] == 1 else B_neg, I_2]\n",
    "    B_list_right = [B_pos if j_vec_right[0] == 1 else B_neg, B_pos if j_vec_right[1] == 1 else B_neg, I_2]\n",
    "    A_2_left = torch.einsum(\"ij, kl, jl -> ik\", B_list_left)\n",
    "    A_2_left /= A_2_left.norm()\n",
    "    A_2_right = torch.einsum(\"ij, kl, jl -> ik\", B_list_right)\n",
    "    A_2_right /= A_2_right.norm()\n",
    "    A_2_left = A_2_left.view((1, 2, 2, 1)).contiguous()\n",
    "    A_2_right = A_2_right.view((2, 2, 1, 1)).contiguous()\n",
    "    row_tensor_mps.append(A_2_left)\n",
    "    for col_id in range(1, dims[1]-1):\n",
    "        B_list = []\n",
    "        j_vec = j_matrix[0][col_id]\n",
    "        for jj in j_vec:\n",
    "            if jj == 1:\n",
    "                B_list.append(B_pos)\n",
    "            else:\n",
    "                B_list.append(B_neg)\n",
    "        B_list.append(I_4)\n",
    "        A_4_i = torch.einsum(\"ij, kl, mn, pq, jlnq -> ikmp\", B_list)\n",
    "        A_4_i = A_4_i / A_4_i.norm()\n",
    "        row_tensor_mps.append(A_4_i)\n",
    "    row_tensor_mps.append(A_2_right)\n",
    "    return row_tensor_mps"
   ]
  },
  {
   "cell_type": "code",
   "execution_count": 20,
   "id": "3bf75c41-82ae-4ea1-9824-e9f003780612",
   "metadata": {},
   "outputs": [],
   "source": [
    "def down_row_tensor_mps_create():\n",
    "    row_tensor_mps = []\n",
    "    j_vec_left = [j_matrix[dims[0]-1][0][2], j_matrix[dims[1]-1][0][3]]\n",
    "    j_vec_right = [j_matrix[dims[0]-1][-1][0], j_matrix[dims[1]-1][-1][3]]\n",
    "    B_list_left = [B_pos if j_vec_left[0] == 1 else B_neg, B_pos if j_vec_left[1] == 1 else B_neg, I_2]\n",
    "    B_list_right = [B_pos if j_vec_right[0] == 1 else B_neg, B_pos if j_vec_right[1] == 1 else B_neg, I_2]\n",
    "    A_2_left = torch.einsum(\"ij, kl, jl -> ik\", B_list_left)\n",
    "    A_2_left /= A_2_left.norm()\n",
    "    A_2_right = torch.einsum(\"ij, kl, jl -> ik\", B_list_right)\n",
    "    A_2_right /= A_2_right.norm()\n",
    "    A_2_left = A_2_left.view((1, 1, 2, 2)).contiguous()\n",
    "    A_2_right = A_2_right.view((2, 1, 1, 2)).contiguous()\n",
    "    row_tensor_mps.append(A_2_left)\n",
    "    for col_id in range(1, dims[1]-1):\n",
    "        B_list = []\n",
    "        j_vec = j_matrix[dims[0]-1][col_id]\n",
    "        for jj in j_vec:\n",
    "            if jj == 1:\n",
    "                B_list.append(B_pos)\n",
    "            else:\n",
    "                B_list.append(B_neg)\n",
    "        B_list.append(I_4)\n",
    "        A_4_i = torch.einsum(\"ij, kl, mn, pq, jlnq -> ikmp\", B_list)\n",
    "        A_4_i = A_4_i / A_4_i.norm()\n",
    "        row_tensor_mps.append(A_4_i)\n",
    "    row_tensor_mps.append(A_2_right)\n",
    "    return row_tensor_mps"
   ]
  },
  {
   "cell_type": "code",
   "execution_count": 21,
   "id": "6a7d5cbc-917c-4210-96d1-eed6e78083a7",
   "metadata": {},
   "outputs": [],
   "source": [
    "def tensor_mpo_create():\n",
    "    tensor_mpo = []\n",
    "    up_row_tensor_mps = up_row_tensor_mps_create()\n",
    "    tensor_mpo.append(up_row_tensor_mps)\n",
    "    for row_id in range(1, dims[0]-1):\n",
    "        row_tensor_mpo_i = row_tensor_mpo_create(row_id)\n",
    "        tensor_mpo.append(row_tensor_mpo_i)\n",
    "    down_row_tensor_mps = down_row_tensor_mps_create()\n",
    "    tensor_mpo.append(down_row_tensor_mps)\n",
    "    return tensor_mpo"
   ]
  },
  {
   "cell_type": "code",
   "execution_count": 22,
   "id": "3da30a19-e194-407e-a252-9d299b8bb210",
   "metadata": {},
   "outputs": [],
   "source": [
    "global I_1, I_2, I_3, I_4, I_up, I_down"
   ]
  },
  {
   "cell_type": "code",
   "execution_count": 23,
   "id": "bc7c8474-d64b-4371-9dbd-058d4588d826",
   "metadata": {},
   "outputs": [],
   "source": [
    "global B_pos, B_neg, spin_pos_up, spin_pos_down, spin_neg_up, spin_neg_down, dummy_vector"
   ]
  },
  {
   "cell_type": "code",
   "execution_count": 24,
   "id": "532d506c-ce4b-40b6-ac4d-89288d601528",
   "metadata": {},
   "outputs": [],
   "source": [
    "global tensor_mpo"
   ]
  },
  {
   "cell_type": "code",
   "execution_count": 25,
   "id": "fb49e39d-ff45-46c9-bfeb-5674d0ce33a3",
   "metadata": {},
   "outputs": [],
   "source": [
    "def tensors_init(my_device=my_device):\n",
    "    global I_1, I_2, I_3, I_4, I_up, I_down\n",
    "    global B_pos, B_neg, spin_pos_up, spin_pos_down, spin_neg_up, spin_neg_down, dummy_vector\n",
    "    global tensor_mpo\n",
    "    I_1, I_2, I_3, I_4, I_up, I_down = copy_tensor_create(my_device)\n",
    "    B_pos, B_neg, spin_pos_up, spin_pos_down, spin_neg_up, spin_neg_down = node_tensor_create(my_device)\n",
    "    tensor_mpo = tensor_mpo_create()\n",
    "    dummy_vector = torch.tensor([1], dtype=torch.float32, device=my_device)"
   ]
  },
  {
   "cell_type": "code",
   "execution_count": 26,
   "id": "21fc9937-ab21-4aba-87ab-e9d15f9c65ad",
   "metadata": {},
   "outputs": [],
   "source": [
    "tensors_init()"
   ]
  },
  {
   "cell_type": "code",
   "execution_count": 27,
   "id": "ea624e44-f967-4085-af19-27abc83c708c",
   "metadata": {},
   "outputs": [],
   "source": [
    "def row_up_mps_create(grid, mpo_base):\n",
    "    row_up_mps = []\n",
    "    for i in range(dims[1]):\n",
    "        tuple_up_bdy = (dims[0]-1, i)\n",
    "        up_bdy_vector = bdy_vector_prepare(grid, tuple_up_bdy, 1)\n",
    "        tensor_up_mps = torch.einsum(\"ijkl, l -> ijk\", [mpo_base[i], up_bdy_vector])\n",
    "        tensor_up_mps = tensor_up_mps / tensor_up_mps.norm()\n",
    "        row_up_mps.append(tensor_up_mps)\n",
    "    return row_up_mps"
   ]
  },
  {
   "cell_type": "code",
   "execution_count": 28,
   "id": "03d5b201-34a2-4701-b3fe-ee7b7a64855d",
   "metadata": {},
   "outputs": [],
   "source": [
    "def row_down_mps_create(grid, id_row):\n",
    "    mpo_i = tensor_mpo[id_row]\n",
    "    row_down_mps = []\n",
    "    for i in range(dims[1]):\n",
    "        tuple_down_bdy = (id_row+1, i)\n",
    "        down_bdy_vector = bdy_vector_prepare(grid, tuple_down_bdy, 3)\n",
    "        tensor_down_mps = torch.einsum(\"ijkl, j -> ikl\", [mpo_i[i], down_bdy_vector])     \n",
    "        tensor_down_mps = tensor_down_mps / tensor_down_mps.norm()\n",
    "        row_down_mps.append(tensor_down_mps)                           \n",
    "    return row_down_mps"
   ]
  },
  {
   "cell_type": "code",
   "execution_count": 29,
   "id": "536f1adc-dd27-4c4d-82b9-cc962cabaaa6",
   "metadata": {
    "tags": []
   },
   "outputs": [],
   "source": [
    "def eat(mpo_up, mpo_down):\n",
    "    return [torch.einsum(\"ijkl, abcj-> iabkcl\", mpo_up[i], mpo_down[i]).contiguous().view(mpo_up[i].shape[0] * mpo_down[i].shape[0], 2, -1, 2) \n",
    "            for i in range(len(mpo_up))]     "
   ]
  },
  {
   "cell_type": "code",
   "execution_count": 30,
   "id": "75fc9175-7663-4df4-b691-094884fc2488",
   "metadata": {},
   "outputs": [],
   "source": [
    "def eat_with_norm(mpo_up, mpo_down):\n",
    "    mpo_list = []\n",
    "    for i in range(len(mpo_up)):\n",
    "        mpo_i = torch.einsum(\"ijkl, abcj-> iabkcl\", mpo_up[i], mpo_down[i]).contiguous().view(mpo_up[i].shape[0] * mpo_down[i].shape[0], \n",
    "                                                                                              mpo_down[i].shape[1], -1, mpo_up[i].shape[3])\n",
    "        mpo_i = mpo_i / mpo_i.norm()\n",
    "        mpo_list.append(mpo_i)\n",
    "    return mpo_list"
   ]
  },
  {
   "cell_type": "code",
   "execution_count": 55,
   "id": "744157d5-ebfe-4de1-ac19-dfbd00fafc61",
   "metadata": {},
   "outputs": [],
   "source": [
    "def compress(mps, chi):\n",
    "    \"\"\"\n",
    "    This function comes from Prof. Pan Zhang's github. \n",
    "    https://github.com/QuantumBFS/SSSS/blob/master/2_tensor_network/tensor_contraction_simple.ipynb\n",
    "    Note: This function is extended to complex field.\n",
    "    \"\"\"\n",
    "    residual = 0\n",
    "    for i in range(len(mps)-1): # From left to right, sweep once doing qr decompositions\n",
    "        mps_i = torch.permute(mps[i], (0, 1, 3, 2))\n",
    "        Q, R = torch.qr(mps_i.contiguous().view(mps_i.shape[0]*mps_i.shape[1]*mps_i.shape[2], -1))\n",
    "        mps_i = torch.permute(Q.contiguous().view(mps_i.shape[0], mps_i.shape[1], mps_i.shape[2], -1), (0, 1, 3, 2))\n",
    "        mps[i] = mps_i.contiguous()\n",
    "        mps[i+1] = torch.einsum(\"ij, jabc->iabc\", [R, mps[i+1]])\n",
    "    for i in range(len(mps) - 1, 0, -1): # From right to left, sweep onece using svd on the tensor merged from two consecutive tensors.\n",
    "        mps_ij = torch.einsum(\"ijkl, kabc->ijlabc\", mps[i-1], mps[i]).view(mps[i-1].shape[3]*mps[i-1].shape[0]*mps[i-1].shape[1], \n",
    "                                                                           mps[i].shape[1]*mps[i].shape[2]*mps[i].shape[3])\n",
    "        [U, s, V]=torch.svd(mps_ij.contiguous())\n",
    "        s = s.to(dtype=torch.complex128)\n",
    "        err = 1 - torch.sum(torch.abs(s[:chi])) / torch.sum(torch.abs(s))\n",
    "        mps[i] = torch.conj(V[:, :chi]).t().contiguous().view(-1, mps[i].shape[1], mps[i].shape[2], mps[i].shape[3])\n",
    "        mps[i-1] = (U[:, :chi]@torch.diag(s[:chi])).contiguous().view(mps[i-1].shape[0], mps[i-1].shape[1], -1, mps[i-1].shape[3])\n",
    "        tnorm = mps[i-1].norm()\n",
    "        mps[i-1] /= tnorm\n",
    "        residual += math.log(tnorm)\n",
    "    return residual, mps, err"
   ]
  },
  {
   "cell_type": "code",
   "execution_count": 32,
   "id": "49dd986e-97a8-4d0f-b268-0f9c67df7c52",
   "metadata": {},
   "outputs": [],
   "source": [
    "def compress_without_trunc(mps):\n",
    "    \"\"\"\n",
    "    This function comes from Prof. Pan Zhang's github. \n",
    "    https://github.com/QuantumBFS/SSSS/blob/master/2_tensor_network/tensor_contraction_simple.ipynb\n",
    "    Note: This function is extended to complex field.\n",
    "    \"\"\"\n",
    "    residual = 0\n",
    "    for i in range(len(mps)-1): # From left to right, sweep once doing qr decompositions\n",
    "        mps_i = torch.permute(mps[i], (0, 1, 3, 2))\n",
    "        Q, R = torch.qr(mps_i.contiguous().view(mps_i.shape[0]*mps_i.shape[1]*mps_i.shape[2], -1))\n",
    "        mps_i = torch.permute(Q.contiguous().view(mps_i.shape[0], mps_i.shape[1], mps_i.shape[2], -1), (0, 1, 3, 2))\n",
    "        mps[i] = mps_i.contiguous()\n",
    "        mps[i+1] = torch.einsum(\"ij, jabc->iabc\", [R, mps[i+1]])\n",
    "    #for i in range(len(mps) - 1, 0, -1): # From right to left, sweep onece using svd on the tensor merged from two consecutive tensors.\n",
    "    #    mps_ij = torch.einsum(\"ijkl, kabc->ijlabc\", mps[i-1], mps[i]).view(4 * mps[i-1].shape[0], \n",
    "    #                                                                       4 * mps[i].shape[2])\n",
    "    #    [U, s, V]=torch.svd(mps_ij.contiguous())\n",
    "    #    s = s.to(dtype=torch.complex128)\n",
    "    #    mps[i] = torch.conj(V).t().contiguous().view(-1, 2, mps[i].shape[2], 2)\n",
    "    #    U_reshaped = (U@torch.diag(s)).contiguous().view(mps[i-1].shape[0], 2, 2, -1)\n",
    "    #    mps[i-1] = torch.permute(U_reshaped, (0, 1, 3, 2)).contiguous()\n",
    "    #    tnorm = mps[i-1].norm()\n",
    "    #    mps[i-1] /= tnorm\n",
    "    #    residual += math.log(tnorm)\n",
    "    return residual, mps    "
   ]
  },
  {
   "cell_type": "code",
   "execution_count": 33,
   "id": "2cf86238-03ad-41c0-b859-6b553ddfde4e",
   "metadata": {},
   "outputs": [],
   "source": [
    "def contract_up_to_down(bond_dim=20):\n",
    "    stack_mpo = []\n",
    "    mpo_orig = tensor_mpo[0]\n",
    "    stack_mpo.append(mpo_orig)\n",
    "    for i in range(1, dims[0]-1):\n",
    "        row_tensor_mpo_i = tensor_mpo[i]\n",
    "        mpo_orig = eat_with_norm(mpo_orig, row_tensor_mpo_i)\n",
    "        #_, mpo_orig, err = compress(mpo_orig, bond_dim)\n",
    "        #_, mpo_orig = compress_without_trunc(mpo_orig)\n",
    "        stack_mpo.append(mpo_orig)\n",
    "    return stack_mpo"
   ]
  },
  {
   "cell_type": "code",
   "execution_count": 34,
   "id": "e472201f-429e-4652-95b2-f45005119c2b",
   "metadata": {
    "tags": []
   },
   "outputs": [],
   "source": [
    "def row_sampling(grid, id_row, mps_base, row_down_mps, my_device=my_device):\n",
    "    stack_contract = []\n",
    "    tensor_start = torch.einsum(\"ijk, lmj -> ilkm\", [mps_base[-1], row_down_mps[-1]])\n",
    "    tensor_start = tensor_start / tensor_start.norm()\n",
    "    stack_contract.append(tensor_start)\n",
    "    for i in range(len(mps_base)-2, 0, -1):\n",
    "        tensor_i = torch.einsum(\"ijk, lmj -> ilkm\", [mps_base[i], row_down_mps[i]])\n",
    "        tensor_i = tensor_i / tensor_i.norm()\n",
    "        tensor_start = torch.einsum(\"ijkl, klmn -> ijmn\", [tensor_i, tensor_start])\n",
    "        tensor_start = tensor_start / tensor_start.norm()\n",
    "        stack_contract.append(tensor_start)\n",
    "    ### Samping the head of the row\n",
    "    id_tensor = 0\n",
    "    tuple_down_bdy = (id_row+1, 0)\n",
    "    down_bdy_vector = bdy_vector_prepare(grid, tuple_down_bdy, 3)\n",
    "    j_vector = j_matrix[id_row][0]\n",
    "    B_left, B_down, B_right, B_up = B_tensor_prepare(j_vector)\n",
    "    tensor_right = stack_contract.pop()\n",
    "    tensor_right = torch.einsum(\"ijkl, mj -> imkl \", [tensor_right, B_right])\n",
    "    tensor_down = torch.einsum(\"ij, j -> i\", [B_down, down_bdy_vector])\n",
    "    tensor_left = B_left\n",
    "    tensor_up = mps_base[id_tensor]\n",
    "    tensor_up = torch.einsum(\"ijk, jl -> ilk\", [tensor_up, B_up])\n",
    "    ### tensor_up shape lk\n",
    "    tensor_up_right = torch.einsum(\"ijk, klim -> jlm\", [tensor_up, tensor_right])\n",
    "    z_four_edge = torch.einsum(\"mi, jlm, o -> ijlo\", [tensor_left, tensor_up_right, tensor_down])\n",
    "    z_up = torch.einsum(\"ijkl, ijkl -> \", [z_four_edge, I_up])\n",
    "    z_down = torch.einsum(\"ijkl, ijkl -> \", [z_four_edge, I_down])\n",
    "    z = z_up + z_down\n",
    "    prob_up_real, prob_down_real = z_up.real / z.real, z_down.real / z.real\n",
    "    prob_tensor, site = (prob_up_real, prob_down_real), (id_row, 0)\n",
    "    grid, spin_vector = mh_prop_tensor(grid, site, prob_tensor)\n",
    "    #print(z)\n",
    "    #print(prob_up_real)\n",
    "    tensor_up = torch.einsum(\"ijk, j -> ik\", [tensor_up, spin_vector])\n",
    "    tensor_up = tensor_up / tensor_up.norm()\n",
    "    id_tensor += 1\n",
    "    tuple_right_bdy = (id_row, 0)\n",
    "    right_bdy_vector = bdy_vector_prepare(grid, tuple_right_bdy, 0)\n",
    "    ### Sampling the body of the row\n",
    "    for i in range(1, dims[1]-1):\n",
    "        j_vector = j_matrix[id_row][i]\n",
    "        tuple_left_bdy = (id_row, i-1)\n",
    "        tuple_down_bdy = (id_row+1, i)\n",
    "        left_bdy_vector = bdy_vector_prepare(grid, tuple_left_bdy, 2)\n",
    "        down_bdy_vector = bdy_vector_prepare(grid, tuple_down_bdy, 3)\n",
    "        B_left, B_down, B_right, B_up = B_tensor_prepare(j_vector)\n",
    "        tensor_right = stack_contract.pop()\n",
    "        tensor_right = torch.einsum(\"ijkl, mj -> imkl\", [tensor_right, B_right])\n",
    "        tensor_left = torch.einsum(\"ij, j -> i\", [B_left, left_bdy_vector])\n",
    "        tensor_up = torch.einsum(\"ij, jkl, km -> iml\", [tensor_up, mps_base[id_tensor], B_up])\n",
    "        tensor_up_right = torch.einsum(\"ijk, klim, m -> jl\", [tensor_up, tensor_right, \n",
    "                                                              right_bdy_vector])\n",
    "        tensor_down = torch.einsum(\"ij, j -> i\", [B_down, down_bdy_vector])\n",
    "        z_four_edge = torch.einsum(\"ij, k, l -> ijkl\", [tensor_up_right, tensor_down, tensor_left])\n",
    "        z_up = torch.einsum(\"ijkl, ijkl -> \", [z_four_edge, I_up])\n",
    "        z_down = torch.einsum(\"ijkl, ijkl -> \", [z_four_edge, I_down])\n",
    "        z = z_up + z_down\n",
    "        prob_up_real, prob_down_real = z_up.real / z.real, z_down.real / z.real\n",
    "        prob_tensor, site = (prob_up_real, prob_down_real), (id_row, i)\n",
    "        grid, spin_vector = mh_prop_tensor(grid, site, prob_tensor)\n",
    "        #print(z)\n",
    "        #print(prob_up_real)\n",
    "        #print(z_up/z)\n",
    "        tensor_up = torch.einsum(\"ijk, j -> ik\", [tensor_up, spin_vector])\n",
    "        tensor_up = tensor_up / tensor_up.norm()\n",
    "        id_tensor += 1\n",
    "    ### Sampling the end of the row\n",
    "    j_vec = j_matrix[id_row][dims[1]-1]\n",
    "    B_left, B_down, B_right, B_up = B_tensor_prepare(j_vec)\n",
    "    tuple_left_bdy = (id_row, dims[1]-2)\n",
    "    tuple_down_bdy = (id_row+1, dims[1]-1)\n",
    "    tuple_right_bdy = (id_row, 0)\n",
    "    left_bdy_vector = bdy_vector_prepare(grid, tuple_left_bdy, 2)\n",
    "    down_bdy_vector = bdy_vector_prepare(grid, tuple_down_bdy, 3)\n",
    "    right_bdy_vector = bdy_vector_prepare(grid, tuple_right_bdy, 0)\n",
    "    tensor_right = torch.einsum(\"ij, j -> i\", [B_right, right_bdy_vector])\n",
    "    tensor_down = torch.einsum(\"ij, j -> i\", [B_down, down_bdy_vector])\n",
    "    tensor_left = torch.einsum(\"ij, j -> i\", [B_left, left_bdy_vector])\n",
    "    tensor_up = torch.einsum(\"ij, jli, lm -> m\", [tensor_up, mps_base[id_tensor], B_up])\n",
    "    z_four_edge = torch.einsum(\"i, j, k, l -> ijkl\", [tensor_up, tensor_right, tensor_down, tensor_left])\n",
    "    z_up = torch.einsum(\"ijkl, ijkl -> \", [z_four_edge, I_up])\n",
    "    z_down = torch.einsum(\"ijkl, ijkl -> \", [z_four_edge, I_down])\n",
    "    z = z_up + z_down\n",
    "    prob_up_real, prob_down_real = z_up.real / z.real, z_down.real / z.real\n",
    "    prob_tensor, site = (prob_up_real, prob_down_real), (id_row, dims[1]-1)\n",
    "    grid, _ = mh_prop_tensor(grid, site, prob_tensor)\n",
    "    #print(z)\n",
    "    #print(prob_up_real)\n",
    "    #print(z_up/z)\n",
    "    return grid"
   ]
  },
  {
   "cell_type": "code",
   "execution_count": 35,
   "id": "9ab2dfe9-4dfb-4bfe-bd25-15ce437cb29b",
   "metadata": {},
   "outputs": [],
   "source": [
    "def down_row_sampling(grid, mps_base, my_device=my_device):\n",
    "    id_row = dims[0] - 1\n",
    "    stack_contract = []\n",
    "    tensor_start = torch.einsum(\"ijkl, mlnj -> imkn\", [mps_base[-1], tensor_mpo[-1][-1]])\n",
    "    tensor_start = tensor_start / tensor_start.norm()\n",
    "    ### tensor_start shape il\n",
    "    stack_contract.append(tensor_start)\n",
    "    for i in range(dims[1]-2, 0, -1):\n",
    "        tensor_i = torch.einsum(\"ijkl, mlnj -> imkn\", [mps_base[i], tensor_mpo[-1][i]])\n",
    "        tensor_i = tensor_i / tensor_i.norm()\n",
    "        tensor_start = torch.einsum(\"ijkl, klmn -> ijmn\", [tensor_i, tensor_start])\n",
    "        tensor_start = tensor_start / tensor_start.norm()\n",
    "        stack_contract.append(tensor_start)\n",
    "    ### Samping the head of the row\n",
    "    id_tensor = 0\n",
    "    j_vector = j_matrix[id_row][id_tensor]\n",
    "    B_left, B_down, B_right, B_up = B_tensor_prepare(j_vector)\n",
    "    stack_contract.pop()\n",
    "    tensor_up = mps_base[id_tensor]\n",
    "    tensor_up = torch.einsum(\"ijkl, jm -> imkl\", [tensor_up, B_up])\n",
    "    ### tensor_up shape lk\n",
    "    #print(z)\n",
    "    #print(prob_up_real)\n",
    "    tuple_up_bdy = (dims[0]-1, 0)\n",
    "    prob_tensor, site = (1/2, 1/2), (id_row, 0)\n",
    "    prob_rand = np.random.random()\n",
    "    grid, spin_vector = mh_prop_tensor(grid, site, prob_tensor)\n",
    "    spin_vector_up = dummy_vector\n",
    "    tensor_up = torch.einsum(\"ijkl, j, l -> ik\", [tensor_up, spin_vector, spin_vector_up])\n",
    "    tensor_up = tensor_up / tensor_up.norm()\n",
    "    id_tensor += 1\n",
    "    tuple_right_bdy = (id_row, 0)\n",
    "    right_bdy_vector = bdy_vector_prepare(grid, tuple_right_bdy, 0)\n",
    "    ### Sampling the body of the row\n",
    "    for i in range(1, dims[1]-1):\n",
    "        j_vector = j_matrix[id_row][i]\n",
    "        tuple_left_bdy = (id_row, i-1)\n",
    "        left_bdy_vector = bdy_vector_prepare(grid, tuple_left_bdy, 2)\n",
    "        B_left, B_down, B_right, B_up = B_tensor_prepare(j_vector)\n",
    "        tensor_right = stack_contract.pop()\n",
    "        tensor_right = torch.einsum(\"ijkl, mj -> imkl\", [tensor_right, B_right])\n",
    "        tensor_left = torch.einsum(\"ij, j -> i\", [B_left, left_bdy_vector])\n",
    "        tensor_up = torch.einsum(\"ij, jklm, ko -> iolm\", [tensor_up, mps_base[id_tensor], B_up])\n",
    "        tensor_up_right = torch.einsum(\"ijkl, kmio, o -> jlm\", [tensor_up, tensor_right, \n",
    "                                                                right_bdy_vector])\n",
    "        tensor_down = B_down\n",
    "        z_four_edge = torch.einsum(\"ijl, jk, m -> iklm\", [tensor_up_right, tensor_down, tensor_left])\n",
    "        z_up = torch.einsum(\"ijkl, ijkl -> \", [z_four_edge, I_up])\n",
    "        z_down = torch.einsum(\"ijkl, ijkl -> \", [z_four_edge, I_down])\n",
    "        z = z_up + z_down\n",
    "        prob_up_real = z_up.real / z.real\n",
    "        prob_down_real = z_down.real / z.real\n",
    "        #print(z)\n",
    "        #print(prob_up_real)\n",
    "        #print(z_up/z)\n",
    "        tuple_up_bdy, site = (dims[0]-1, i), (id_row, i)\n",
    "        prob_tensor = (prob_up_real, prob_down_real)\n",
    "        grid, spin_vector = mh_prop_tensor(grid, site, prob_tensor)\n",
    "        #spin_vector_up = bdy_vector_prepare(grid, tuple_up_bdy, 1) \n",
    "        tensor_up = torch.einsum(\"ijkl, j, l -> ik\", [tensor_up, spin_vector, spin_vector_up])\n",
    "        tensor_up = tensor_up / tensor_up.norm()\n",
    "        id_tensor += 1\n",
    "    ### Sampling the end of the row\n",
    "    j_vec = j_matrix[id_row][dims[1]-1]\n",
    "    B_left, B_down, B_right, B_up = B_tensor_prepare(j_vec)\n",
    "    tuple_left_bdy = (id_row, dims[1]-2)\n",
    "    tuple_right_bdy = (id_row, 0)\n",
    "    left_bdy_vector = bdy_vector_prepare(grid, tuple_left_bdy, 2)\n",
    "    right_bdy_vector = bdy_vector_prepare(grid, tuple_right_bdy, 0)\n",
    "    tensor_right = torch.einsum(\"ij, j -> i\", [B_right, right_bdy_vector])\n",
    "    tensor_down = B_down\n",
    "    tensor_left = torch.einsum(\"ij, j -> i\", [B_left, left_bdy_vector])\n",
    "    tensor_up = torch.einsum(\"ij, jlik, lm -> mk\", [tensor_up, mps_base[id_tensor], B_up])\n",
    "    z_four_edge = torch.einsum(\"im, j, mk, l -> ijkl\", [tensor_up, tensor_right, tensor_down, tensor_left])\n",
    "    z_up = torch.einsum(\"ijkl, ijkl -> \", [z_four_edge, I_up])\n",
    "    z_down = torch.einsum(\"ijkl, ijkl -> \", [z_four_edge, I_down])\n",
    "    z = z_up + z_down\n",
    "    prob_up_real, prob_down_real = z_up.real / z.real, z_down.real / z.real\n",
    "    site = (id_row, dims[1]-1)\n",
    "    prob_tensor = (prob_up_real, prob_down_real)\n",
    "    grid, _ = mh_prop_tensor(grid, site, prob_tensor)\n",
    "    #print(z)\n",
    "    #print(prob_up_real)\n",
    "    #print(z_up/z)\n",
    "    return grid"
   ]
  },
  {
   "cell_type": "code",
   "execution_count": 36,
   "id": "4ec3f390-b245-4e54-bda2-92908cb05fc6",
   "metadata": {},
   "outputs": [],
   "source": [
    "def mps_contract(mps_up, mps_down):\n",
    "    tensor_start = torch.einsum(\"ijk, lmj -> ilkm\", [mps_up[0], mps_down[0]])\n",
    "    tensor_start = torch.squeeze(tensor_start)\n",
    "    for i in range(1, len(mps_up)-1):\n",
    "        tensor_i = torch.einsum(\"ijk, lmj -> ilkm\", [mps_up[i], mps_down[i]])\n",
    "        tensor_start = torch.einsum(\"ij, ijkl -> kl\", [tensor_start, tensor_i])\n",
    "    tensor_end = torch.einsum(\"iml, jkm -> ijlk\", [mps_up[-1], mps_down[-1]])\n",
    "    tensor_end = torch.squeeze(tensor_end)\n",
    "    z = torch.einsum(\"ij, ij -> \", [tensor_start, tensor_end])\n",
    "    return z"
   ]
  },
  {
   "cell_type": "code",
   "execution_count": 37,
   "id": "194098b5-110f-4a4f-8416-dfa1671175ae",
   "metadata": {},
   "outputs": [],
   "source": [
    "def prob_process(prob_tensor, epsilon):\n",
    "    prob_up_tensor, prob_down_tensor = prob_tensor\n",
    "    if prob_up_tensor < epsilon:\n",
    "        prob_up_tensor, prob_down_tensor = epsilon, 1 - epsilon\n",
    "    elif prob_down_tensor < epsilon:\n",
    "        prob_up_tensor, prob_down_tensor = 1 - epsilon, epsilon\n",
    "    prob_tensor = (prob_up_tensor, prob_down_tensor)\n",
    "    return prob_tensor"
   ]
  },
  {
   "cell_type": "code",
   "execution_count": 38,
   "id": "e2ce9efc-6762-4f71-b2cb-0e0f7d2d15d0",
   "metadata": {
    "tags": []
   },
   "outputs": [],
   "source": [
    "def base_row_sampling(grid):\n",
    "    id_row = 0\n",
    "    base_row_mps = row_down_mps_create(grid, id_row)\n",
    "    stack_contract, up_bdy_vector_list = [], []\n",
    "    tuple_up_bdy = (dims[0]-1, dims[1]-1)\n",
    "    #up_bdy_vector = bdy_vector_prepare(grid, tuple_up_bdy, 1)\n",
    "    up_bdy_vector = dummy_vector\n",
    "    tensor_start = torch.einsum(\"ijk, k -> ij\", [base_row_mps[-1], up_bdy_vector])\n",
    "    ### tensor_start shape i\n",
    "    id_tensor = -2\n",
    "    stack_contract.append(tensor_start)\n",
    "    up_bdy_vector_list.append(up_bdy_vector)\n",
    "    for i in range(dims[1]-2, 0, -1):\n",
    "        #tuple_up_bdy = (dims[0]-1, i)\n",
    "        #up_bdy_vector = bdy_vector_prepare(grid, tuple_up_bdy, 1)\n",
    "        tensor_i = torch.einsum(\"ijk, k -> ij\", [base_row_mps[id_tensor], up_bdy_vector])\n",
    "        tensor_start = torch.einsum(\"ik, kl -> il\", [tensor_i, tensor_start])\n",
    "        stack_contract.append(tensor_start)\n",
    "        #up_bdy_vector_list.append(up_bdy_vector)\n",
    "        id_tensor -= 1\n",
    "    ### Samping the head of the row\n",
    "    id_tensor = 0\n",
    "    j_vector = j_matrix[id_row][0]\n",
    "    B_left, B_down, B_right, B_up = B_tensor_prepare(j_vector)\n",
    "    tuple_down_bdy = (1, 0)\n",
    "    #tuple_up_bdy = (dims[0]-1, 0)\n",
    "    down_bdy_vector = bdy_vector_prepare(grid, tuple_down_bdy, 3)\n",
    "    #up_bdy_vector = bdy_vector_prepare(grid, tuple_up_bdy, 1)\n",
    "    tensor_right = stack_contract.pop()\n",
    "    tensor_right = torch.einsum(\"il, mi -> ml\", [tensor_right, B_right])\n",
    "    tensor_down = torch.einsum(\"ij, j -> i\", [B_down, down_bdy_vector])\n",
    "    tensor_left = B_left\n",
    "    tensor_up = torch.einsum(\"ij, j -> i\", [B_up, up_bdy_vector])\n",
    "    z_four_edge = torch.einsum(\"i, jl, k, lm -> ijkm\", [tensor_up, tensor_right, tensor_down, tensor_left])\n",
    "    z_up = torch.einsum(\"ijkl, ijkl -> \", [z_four_edge, I_up])\n",
    "    z_down = torch.einsum(\"ijkl, ijkl -> \", [z_four_edge, I_down])\n",
    "    prob_up_real = z_up.real / (z_up.real + z_down.real)\n",
    "    prob_down_real = z_down.real / (z_up.real + z_down.real)\n",
    "    prob_tensor, site = (prob_up_real, prob_down_real), (id_row, 0)\n",
    "    #print(prob_up)\n",
    "    #print(z_up + z_down)\n",
    "    grid, _ = mh_prop_tensor(grid, site, prob_tensor)\n",
    "    tuple_right_bdy = (0, 0)\n",
    "    right_bdy_vector = bdy_vector_prepare(grid, tuple_right_bdy, 0)\n",
    "    for i in range(1, dims[1]-1):\n",
    "        j_vector = j_matrix[id_row][i]\n",
    "        B_left, B_down, B_right, B_up = B_tensor_prepare(j_vector)\n",
    "        #up_bdy_vector = up_bdy_vector_list.pop()\n",
    "        tuple_left_bdy = (0, i-1)\n",
    "        left_bdy_vector = bdy_vector_prepare(grid, tuple_left_bdy, 2)\n",
    "        tuple_down_bdy = (1, i)\n",
    "        down_bdy_vector = bdy_vector_prepare(grid, tuple_down_bdy, 3)\n",
    "        tensor_right = stack_contract.pop()\n",
    "        tensor_right = torch.einsum(\"ij, mi, j -> m\", [tensor_right, B_right, right_bdy_vector])\n",
    "        tensor_left = torch.einsum(\"ij, i -> j\", [B_left, left_bdy_vector])\n",
    "        tensor_up = torch.einsum(\"i, ij -> j\", [up_bdy_vector, B_up])\n",
    "        tensor_down = torch.einsum(\"ij, i -> j\", [B_down, down_bdy_vector])\n",
    "        z_four_edge = torch.einsum(\"i, j, m, n -> ijmn\", [tensor_up, tensor_right, tensor_down, tensor_left])\n",
    "        z_up = torch.einsum(\"ijkl, ijkl -> \", [z_four_edge, I_up])\n",
    "        z_down = torch.einsum(\"ijkl, ijkl -> \", [z_four_edge, I_down])\n",
    "        prob_up_real = z_up.real / (z_up.real + z_down.real)\n",
    "        prob_down_real = z_down.real / (z_up.real + z_down.real)\n",
    "        prob_tensor, site = (prob_up_real, prob_down_real), (id_row, i)\n",
    "        #print(prob_up)\n",
    "        #print(z_up + z_down)\n",
    "        grid, _ = mh_prop_tensor(grid, site, prob_tensor)\n",
    "    ### Sampling the end of the row\n",
    "    j_vector = j_matrix[0][dims[1]-1]\n",
    "    B_left, B_down, B_right, B_up = B_tensor_prepare(j_vector)\n",
    "    tuple_left_bdy = (0, dims[1]-2)\n",
    "    left_bdy_vector = bdy_vector_prepare(grid, tuple_left_bdy, 2)\n",
    "    #up_bdy_vector = up_bdy_vector_list.pop()\n",
    "    tuple_down_bdy = (1, dims[1]-1)\n",
    "    tuple_right_bdy = (0, 0)\n",
    "    down_bdy_vector = bdy_vector_prepare(grid, tuple_down_bdy, 3)\n",
    "    right_bdy_vector = bdy_vector_prepare(grid, tuple_right_bdy, 0)\n",
    "    tensor_right = torch.einsum(\"j, ij -> i\", [right_bdy_vector, B_right])\n",
    "    tensor_down = torch.einsum(\"ij, j -> i\", [B_down, down_bdy_vector])\n",
    "    tensor_left = torch.einsum(\"ij, j -> i\", [B_left, left_bdy_vector])\n",
    "    tensor_up = torch.einsum(\"j, ij -> i\", [up_bdy_vector, B_up])\n",
    "    z_four_edge = torch.einsum(\"i, j, k, l -> ijkl\", [tensor_up, tensor_right, tensor_down, tensor_left])\n",
    "    z_up = torch.einsum(\"ijkl, ijkl -> \", [z_four_edge, I_up])\n",
    "    z_down = torch.einsum(\"ijkl, ijkl -> \", [z_four_edge, I_down])\n",
    "    prob_up_real = z_up.real / (z_up.real+z_down.real)\n",
    "    prob_down_real = z_down.real / (z_up.real+z_down.real)\n",
    "    prob_tensor, site = (prob_up_real, prob_down_real), (id_row, dims[1]-1)\n",
    "    grid, _ = mh_prop_tensor(grid, site, prob_tensor)\n",
    "    return grid"
   ]
  },
  {
   "cell_type": "code",
   "execution_count": 39,
   "id": "64ac2e9b-9da2-4c5c-a585-b6e313494810",
   "metadata": {},
   "outputs": [],
   "source": [
    "def mh_prop_tensor(grid, site, prob_tensor):\n",
    "    epsilon = 1e-10\n",
    "    prob_tensor = prob_process(prob_tensor, epsilon)\n",
    "    prob_tensor = (1/2, 1/2)\n",
    "    prob_up_tensor, prob_down_tensor = prob_tensor  \n",
    "    prob_rand = np.random.random()\n",
    "    if prob_rand < prob_up_tensor:\n",
    "        if grid[site[0]][site[1]] != 1:\n",
    "            E_up = energy_compute_site(1, site, grid)\n",
    "            target_factor = np.exp(-2*beta*E_up)\n",
    "            #prob_up_tensor, prob_down_tensor = prob_up_tensor + epsilon, prob_down_tensor - epsilon\n",
    "            prob_accept = target_factor * prob_down_tensor / prob_up_tensor\n",
    "            if prob_down_tensor == 0:\n",
    "                prob_down_tensor += epsilon\n",
    "            prob_rand_accept = np.random.random()\n",
    "            #print(f'prob_accept: {prob_accept}')\n",
    "            if prob_rand_accept < prob_accept:\n",
    "                grid[site[0]][site[1]] = 1\n",
    "                spin_vector = torch.tensor([1, 0], dtype=torch.complex128, device=my_device)\n",
    "            else:\n",
    "                spin_vector = torch.tensor([0, 1], dtype=torch.complex128, device=my_device)\n",
    "        else:\n",
    "            spin_vector = torch.tensor([1, 0], dtype=torch.complex128, device=my_device)\n",
    "    else:\n",
    "        if grid[site[0]][site[1]] != -1:\n",
    "            E_down = energy_compute_site(-1, site, grid)\n",
    "            target_factor = np.exp(-2*beta*E_down)\n",
    "            #prob_up_tensor, prob_down_tensor = prob_up_tensor - epsilon, prob_down_tensor + epsilon\n",
    "            prob_accept = target_factor * prob_up_tensor / prob_down_tensor\n",
    "            if prob_up_tensor == 0:\n",
    "                prob_up_tensor += epsilon\n",
    "            prob_rand_accept = np.random.random()\n",
    "            #print(f'prob_accept: {prob_accept}')\n",
    "            if prob_rand_accept < prob_accept:\n",
    "                grid[site[0]][site[1]] = -1\n",
    "                spin_vector = torch.tensor([0, 1], dtype=torch.complex128, device=my_device)\n",
    "            else:\n",
    "                spin_vector = torch.tensor([1, 0], dtype=torch.complex128, device=my_device)\n",
    "        else:\n",
    "            spin_vector = torch.tensor([0, 1], dtype=torch.complex128, device=my_device) \n",
    "    return grid, spin_vector"
   ]
  },
  {
   "cell_type": "code",
   "execution_count": 40,
   "id": "23e6caae-304c-48a8-936c-5c6fe5a95180",
   "metadata": {},
   "outputs": [],
   "source": [
    "types_neibor_get_triangle_func = nb.types.UniTuple(nb.types.UniTuple(nb.int8, 2), 4)(nb.types.UniTuple(nb.int8, 2))\n",
    "@nb.cfunc(types_neibor_get_triangle_func)\n",
    "def neibor_get_square(id_grid):\n",
    "    height, width = dims\n",
    "    height_index, width_index = id_grid\n",
    "    l_neibor = (height_index, (width_index - 1) % width)\n",
    "    r_neibor = (height_index, (width_index + 1) % width)\n",
    "    u_neibor = ((height_index - 1) % height, width_index)\n",
    "    d_neibor = ((height_index + 1) % height, width_index)\n",
    "    return (l_neibor, d_neibor, r_neibor, u_neibor)"
   ]
  },
  {
   "cell_type": "code",
   "execution_count": 41,
   "id": "64036d4a-6aaa-4dd4-97ab-3e120570e859",
   "metadata": {},
   "outputs": [],
   "source": [
    "def full_sampling_one_step(grid, bond_dim=20):\n",
    "    stack_mpo = contract_up_to_down(bond_dim)\n",
    "    mpo_base = stack_mpo.pop()\n",
    "    grid = down_row_sampling(grid, mpo_base)\n",
    "    for i in range(dims[0]-2, 0, -1):\n",
    "        mpo_base = stack_mpo.pop()\n",
    "        mps_base = row_up_mps_create(grid, mpo_base)\n",
    "        row_down_mps_i = row_down_mps_create(grid, i)\n",
    "        grid = row_sampling(grid, i, mps_base, row_down_mps_i)\n",
    "    grid = base_row_sampling(grid)\n",
    "    return grid"
   ]
  },
  {
   "cell_type": "code",
   "execution_count": 42,
   "id": "074ed07a-0e81-4524-bfda-bcd0efdea537",
   "metadata": {},
   "outputs": [],
   "source": [
    "@nb.njit(nb.float32(nb.int8[:, :]))\n",
    "def energy_compute_grids(grids):\n",
    "    energy_total = 0\n",
    "    for ii in range(dims[0]):\n",
    "        for jj in range(dims[1]):\n",
    "            id_neibors = neibor_get_square((nb.int8(ii), nb.int8(jj)))\n",
    "            j_vector = j_matrix[ii][jj]\n",
    "            for i, ij in enumerate(id_neibors):\n",
    "                j = j_vector[i]\n",
    "                energy_ij = -1/2 * j * grids[ij[0]][ij[1]] * grids[ii][jj]\n",
    "                energy_total += energy_ij\n",
    "            ### compute the energy of external field\n",
    "            energy_total += -h * grids[ii][jj]\n",
    "    energy_per_spin = energy_total / (dims[0] * dims[1])\n",
    "    return energy_per_spin"
   ]
  },
  {
   "cell_type": "code",
   "execution_count": 43,
   "id": "392f3c1f-3cd0-41e2-b5c2-6b94e4959830",
   "metadata": {},
   "outputs": [],
   "source": [
    "@nb.njit(nb.float32(nb.int8, nb.types.UniTuple(nb.int8, 2), nb.int8[:, :]))\n",
    "def energy_compute_site(site_spin, site, grid):\n",
    "    energy_total = 0\n",
    "    id_row, id_col = site\n",
    "    id_neibors = neibor_get_square((nb.int8(id_row), nb.int8(id_col)))\n",
    "    j_vector = j_matrix[id_row][id_col]\n",
    "    for ii, ij in enumerate(id_neibors):\n",
    "        j = j_vector[ii]\n",
    "        energy_ij = -j * site_spin * grid[ij[0]][ij[1]]\n",
    "        energy_total += energy_ij\n",
    "        ### compute the energy of external field\n",
    "    return energy_total"
   ]
  },
  {
   "cell_type": "code",
   "execution_count": 44,
   "id": "404c1533-f9de-4a31-b9a1-06682e8c5290",
   "metadata": {},
   "outputs": [],
   "source": [
    "@nb.njit(nb.float32(nb.int8[:, :]))\n",
    "def magnet_grids(grids):\n",
    "    m_mean = np.mean(grids)\n",
    "    return m_mean"
   ]
  },
  {
   "cell_type": "code",
   "execution_count": 45,
   "id": "697f61da-6aab-4b4d-b5bf-04e4d583d7c3",
   "metadata": {},
   "outputs": [],
   "source": [
    "@nb.njit(nb.float64(nb.int8[:, :]))\n",
    "def magnet_subgrids(grid):\n",
    "    m_1, m_2 = 0, 0\n",
    "    for i in range(dims[0]):\n",
    "        for j in range(dims[1]):\n",
    "            if (j + i) % 2 == 0:\n",
    "                m_1 += grid[i][j]\n",
    "            else:\n",
    "                m_2 += grid[i][j]\n",
    "    m_abs_per_spin = np.abs(m_1 - m_2) / (dims[0] * dims[1])\n",
    "    return m_abs_per_spin"
   ]
  },
  {
   "cell_type": "code",
   "execution_count": 46,
   "id": "8274f390-578d-4016-bf9d-982161959531",
   "metadata": {},
   "outputs": [],
   "source": [
    "def full_evv_m(grid_1, num_steps, bond_dim=20):\n",
    "    #grid_list = []\n",
    "    magnet_list_1, magnet_list_2 = [], []\n",
    "    energy_list_1, energy_list_2 = [], []\n",
    "    for i in trange(num_steps):\n",
    "        energy_per_spin_1 = energy_compute_grids(grid_1)\n",
    "        magnet_per_spin_1 = magnet_grids(grid_1)\n",
    "        magnet_list_1.append(magnet_per_spin_1)\n",
    "        energy_list_1.append(energy_per_spin_1)\n",
    "        grid_1 = full_sampling_one_step(grid_1)\n",
    "    energy_per_spin_1 = energy_compute_grids(grid_1)\n",
    "    magnet_per_spin_1 = magnet_grids(grid_1)\n",
    "    magnet_list_1.append(magnet_per_spin_1)\n",
    "    energy_list_1.append(energy_per_spin_1)\n",
    "    return grid_1, magnet_list_1, energy_list_1"
   ]
  },
  {
   "cell_type": "code",
   "execution_count": 47,
   "id": "594f085f-23e8-4505-ba3c-ecc2ee884874",
   "metadata": {
    "tags": []
   },
   "outputs": [],
   "source": [
    "def full_evv(grid_1, grid_2, num_steps, bond_dim=20):\n",
    "    #grid_list = []\n",
    "    magnet_list_1, magnet_list_2 = [], []\n",
    "    energy_list_1, energy_list_2 = [], []\n",
    "    q_list = []\n",
    "    for i in trange(num_steps):\n",
    "        energy_per_spin_1 = energy_compute_grids(grid_1)\n",
    "        energy_per_spin_2 = energy_compute_grids(grid_2)\n",
    "        magnet_per_spin_1 = magnet_grids(grid_1)\n",
    "        magnet_per_spin_2 = magnet_grids(grid_2)\n",
    "        magnet_list_1.append(magnet_per_spin_1)\n",
    "        magnet_list_2.append(magnet_per_spin_2)\n",
    "        energy_list_1.append(energy_per_spin_1)\n",
    "        energy_list_2.append(energy_per_spin_2)\n",
    "        grid_1 = full_sampling_one_step(grid_1, bond_dim)\n",
    "        grid_2 = full_sampling_one_step(grid_2, bond_dim)\n",
    "        grid_1_vector = np.reshape(grid_1, -1)\n",
    "        grid_2_vector = np.reshape(grid_2, -1)\n",
    "        q_i = np.dot(grid_1_vector, grid_2_vector) / (dims[0] * dims[1])\n",
    "        q_list.append(q_i)\n",
    "    energy_per_spin_1 = energy_compute_grids(grid_1)\n",
    "    energy_per_spin_2 = energy_compute_grids(grid_2)\n",
    "    magnet_per_spin_1 = magnet_grids(grid_1)\n",
    "    magnet_per_spin_2 = magnet_grids(grid_2)\n",
    "    magnet_list_1.append(magnet_per_spin_1)\n",
    "    magnet_list_2.append(magnet_per_spin_2)\n",
    "    energy_list_1.append(energy_per_spin_1)\n",
    "    energy_list_2.append(energy_per_spin_2)\n",
    "    return grid_1, grid_2, magnet_list_1, magnet_list_2, energy_list_1, energy_list_2, q_list"
   ]
  },
  {
   "cell_type": "code",
   "execution_count": 48,
   "id": "efff414a-e4b2-4a10-9282-9ed2f173c602",
   "metadata": {},
   "outputs": [],
   "source": [
    "def spin_viz(grid, figsize=(10, 10), save=False, folder_name=None):\n",
    "    fig = plt.figure(figsize=figsize)\n",
    "    x, y = np.meshgrid(np.arange(0, dims[0]), np.arange(0, dims[1]))\n",
    "    u = np.cos(grid*np.pi/2)\n",
    "    v = np.sin(grid*np.pi/2)\n",
    "    q = plt.quiver(x, y, u, v)\n",
    "    plt.axis('off')\n",
    "    plt.title('T={:.3f}, spins={}'.format(1/beta, dims), fontsize=20)\n",
    "    if save and step is not None:\n",
    "        plt.savefig(f'./{folder_name}/config_plot_step_{step}.pdf', dpi=100)\n",
    "        plt.close(fig)"
   ]
  },
  {
   "cell_type": "markdown",
   "id": "3cf6f9e5-9ff5-4705-b586-370ac3ffaf6b",
   "metadata": {},
   "source": [
    "------------------\n",
    "### T=1/5, Size = 4"
   ]
  },
  {
   "cell_type": "code",
   "execution_count": 49,
   "id": "e8e5949f-a7df-4f11-9052-0c884ace3b7d",
   "metadata": {
    "tags": []
   },
   "outputs": [
    {
     "data": {
      "image/png": "[encoded data removed]",
      "text/plain": [
       "<Figure size 720x720 with 1 Axes>"
      ]
     },
     "metadata": {
      "needs_background": "light"
     },
     "output_type": "display_data"
    }
   ],
   "source": [
    "spin_viz(grid_1)"
   ]
  },
  {
   "cell_type": "code",
   "execution_count": 50,
   "id": "43038686-bc36-4e93-a2ca-cf3fa940b181",
   "metadata": {},
   "outputs": [
    {
     "data": {
      "application/vnd.jupyter.widget-view+json": {
       "model_id": "e15712025042439597622357d326a91e",
       "version_major": 2,
       "version_minor": 0
      },
      "text/plain": [
       "  0%|          | 0/5000 [00:00<?, ?it/s]"
      ]
     },
     "metadata": {},
     "output_type": "display_data"
    }
   ],
   "source": [
    "num_steps = 5000\n",
    "bond_dim = 20\n",
    "_, m_history_1, energy_history_1 = full_evv_m(grid_1, num_steps, bond_dim)"
   ]
  },
  {
   "cell_type": "code",
   "execution_count": 51,
   "id": "f915974d-f66b-49ed-a690-ae3246983eca",
   "metadata": {},
   "outputs": [
    {
     "data": {
      "text/plain": [
       "[<matplotlib.lines.Line2D at 0x7ff8c0268c70>]"
      ]
     },
     "execution_count": 51,
     "metadata": {},
     "output_type": "execute_result"
    },
    {
     "data": {
      "image/png": "[encoded data removed]",
      "text/plain": [
       "<Figure size 432x288 with 1 Axes>"
      ]
     },
     "metadata": {
      "needs_background": "light"
     },
     "output_type": "display_data"
    }
   ],
   "source": [
    "plt.plot(energy_history_1)"
   ]
  },
  {
   "cell_type": "code",
   "execution_count": 52,
   "id": "76eba8a7-e4d6-4ee7-a757-b7a2dfab602b",
   "metadata": {},
   "outputs": [],
   "source": [
    "m_mean = np.mean(m_history_1)"
   ]
  },
  {
   "cell_type": "code",
   "execution_count": 54,
   "id": "3a731c15-5de7-4330-973b-e117a87c4d3b",
   "metadata": {},
   "outputs": [
    {
     "name": "stdout",
     "output_type": "stream",
     "text": [
      "mean of m is: 0.000.\n"
     ]
    }
   ],
   "source": [
    "print(f\"mean of m is: {m_mean:.3f}.\")"
   ]
  },
  {
   "cell_type": "markdown",
   "id": "6e06df7e-8166-42f6-8b08-43bc25913d53",
   "metadata": {},
   "source": [
    "-----\n",
    "### T = 0.2, Size = 8"
   ]
  },
  {
   "cell_type": "code",
   "execution_count": 51,
   "id": "3809dbc5-eb03-4aaa-b8ca-02686d67afbe",
   "metadata": {},
   "outputs": [
    {
     "data": {
      "image/png": "[encoded data removed]",
      "text/plain": [
       "<Figure size 720x720 with 1 Axes>"
      ]
     },
     "metadata": {
      "needs_background": "light"
     },
     "output_type": "display_data"
    }
   ],
   "source": [
    "spin_viz(grid_1)"
   ]
  },
  {
   "cell_type": "code",
   "execution_count": 58,
   "id": "a3709d14-12be-43bf-95e1-bebd8255376f",
   "metadata": {
    "tags": []
   },
   "outputs": [
    {
     "data": {
      "application/vnd.jupyter.widget-view+json": {
       "model_id": "c7735c411eb147e098b2cc6c45d08a7e",
       "version_major": 2,
       "version_minor": 0
      },
      "text/plain": [
       "  0%|          | 0/10000 [00:00<?, ?it/s]"
      ]
     },
     "metadata": {},
     "output_type": "display_data"
    },
    {
     "name": "stdout",
     "output_type": "stream",
     "text": [
      "Time used for 1E5 steps is: 889.1795947551727.\n"
     ]
    }
   ],
   "source": [
    "### Burning-in stage\n",
    "time_start = time.time()\n",
    "num_steps = 10000\n",
    "bond_dim = 200\n",
    "grid_1, m_history_1, energy_history_1 = full_evv_m(grid_1, num_steps, bond_dim)\n",
    "time_end = time.time()\n",
    "print(f\"Time used for 1E5 steps is: {time_end-time_start}.\")"
   ]
  },
  {
   "cell_type": "code",
   "execution_count": 59,
   "id": "527936e9-eef3-4396-afce-e657ab55d393",
   "metadata": {},
   "outputs": [
    {
     "data": {
      "text/plain": [
       "[<matplotlib.lines.Line2D at 0x7fa39027b970>]"
      ]
     },
     "execution_count": 59,
     "metadata": {},
     "output_type": "execute_result"
    },
    {
     "data": {
      "image/png": "[encoded data removed]",
      "text/plain": [
       "<Figure size 432x288 with 1 Axes>"
      ]
     },
     "metadata": {
      "needs_background": "light"
     },
     "output_type": "display_data"
    }
   ],
   "source": [
    "plt.plot(energy_history_1)"
   ]
  },
  {
   "cell_type": "code",
   "execution_count": 60,
   "id": "aa38f26d-ab63-4df4-9fc2-7d831dfcaae0",
   "metadata": {},
   "outputs": [],
   "source": [
    "m_mean = np.mean(m_history_1)"
   ]
  },
  {
   "cell_type": "code",
   "execution_count": 61,
   "id": "fdda0ae6-a107-43a9-9c2c-b1be40528b57",
   "metadata": {},
   "outputs": [
    {
     "name": "stdout",
     "output_type": "stream",
     "text": [
      "abs mean of m is: -0.025.\n"
     ]
    }
   ],
   "source": [
    "print(f\"abs mean of m is: {m_mean:.3f}.\")"
   ]
  },
  {
   "cell_type": "markdown",
   "id": "ef82a7ab-0b10-4a9e-b98a-9cd773c32da0",
   "metadata": {},
   "source": [
    "-----------------"
   ]
  }
 ],
 "metadata": {
  "kernelspec": {
   "display_name": "Python 3 (ipykernel)",
   "language": "python",
   "name": "python3"
  },
  "language_info": {
   "codemirror_mode": {
    "name": "ipython",
    "version": 3
   },
   "file_extension": ".py",
   "mimetype": "text/x-python",
   "name": "python",
   "nbconvert_exporter": "python",
   "pygments_lexer": "ipython3",
   "version": "3.10.5"
  }
 },
 "nbformat": 4,
 "nbformat_minor": 5
}
