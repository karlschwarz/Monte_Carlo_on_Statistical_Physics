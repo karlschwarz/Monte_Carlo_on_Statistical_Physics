{
 "cells": [
  {
   "cell_type": "markdown",
   "id": "a5f72cb5-87df-473f-8c83-0c0e2de56345",
   "metadata": {
    "tags": []
   },
   "source": [
    "# Full Lattice Evolution by Tensor Contraction\n",
    "## Proposal Distribution is estimated by Tensor Contraction\n",
    "### 3D EA (J, -J, 1/2)"
   ]
  },
  {
   "cell_type": "code",
   "execution_count": 1,
   "id": "49cf671c-3ed7-4a23-b0cf-ececd6c2469a",
   "metadata": {},
   "outputs": [],
   "source": [
    "import torch\n",
    "import numpy as np\n",
    "import numba as nb\n",
    "from scipy.linalg import sqrtm"
   ]
  },
  {
   "cell_type": "code",
   "execution_count": 2,
   "id": "b7b5f80b-3614-49fe-9cbb-1c12ed130cc6",
   "metadata": {},
   "outputs": [],
   "source": [
    "import math\n",
    "import time\n",
    "from tqdm.auto import trange"
   ]
  },
  {
   "cell_type": "code",
   "execution_count": 3,
   "id": "60edfa72-dadd-4d67-baad-a2f5c2b9933b",
   "metadata": {},
   "outputs": [],
   "source": [
    "from collections import defaultdict\n",
    "import copy\n",
    "import pickle\n",
    "import seaborn as sns\n",
    "import matplotlib.pyplot as plt\n",
    "import os"
   ]
  },
  {
   "cell_type": "markdown",
   "id": "e7e20c5d-e76c-45e2-8475-27ed2e13b1da",
   "metadata": {},
   "source": [
    "---------------------------------\n",
    "### Full grid"
   ]
  },
  {
   "cell_type": "code",
   "execution_count": 4,
   "id": "6cd9a149-e237-4e47-aa48-af9739dddaf9",
   "metadata": {},
   "outputs": [],
   "source": [
    "def j_matrix_2d():\n",
    "    num_j = 6\n",
    "    j_matrix = np.zeros((dims[1], dims[2], num_j), dtype=np.int8)\n",
    "    for i in range(dims[1]):\n",
    "        for j in range(dims[2]):\n",
    "            j_matrix[i][j] = (-1) ** np.random.binomial(1, 1/2, num_j)\n",
    "    for i in range(dims[1]):\n",
    "        for j in range(dims[2]):\n",
    "            j_matrix[i][j][3] = j_matrix[(i-1)%dims[1]][j][1]\n",
    "            j_matrix[i][j][0] = j_matrix[i][(j-1)%dims[2]][2]    \n",
    "    return j_matrix"
   ]
  },
  {
   "cell_type": "code",
   "execution_count": 5,
   "id": "395ec4bb-e5b9-4c6f-a925-4617b11fa95b",
   "metadata": {},
   "outputs": [],
   "source": [
    "def j_matrix_3d():\n",
    "    global j_matrix_list\n",
    "    j_matrix_list = []\n",
    "    num_layers = dims[0]\n",
    "    j_matrix = j_matrix_2d()\n",
    "    j_matrix_list.append(j_matrix)\n",
    "    j_matrix = j_matrix_2d()\n",
    "    for i in range(dims[1]):\n",
    "        for j in range(dims[2]):\n",
    "            j_matrix[i][j][-2] = j_matrix_list[-1][i][j][-2]\n",
    "    j_matrix_list.append(j_matrix)\n",
    "    for _ in range(2, num_layers):\n",
    "        j_matrix = j_matrix_2d()\n",
    "        for i in range(dims[1]):\n",
    "            for j in range(dims[2]):\n",
    "                j_matrix[i][j][-2] = j_matrix_list[-1][i][j][-1]\n",
    "        j_matrix_list.append(j_matrix)"
   ]
  },
  {
   "cell_type": "code",
   "execution_count": 6,
   "id": "edc86baa-38d5-4fb7-9f21-de95c4f5a9b7",
   "metadata": {},
   "outputs": [],
   "source": [
    "def j_pos_one_matrix_init():\n",
    "    global j_matrix\n",
    "    j_matrix = np.ones((dims[0], dims[1], 4), dtype=np.float64)"
   ]
  },
  {
   "cell_type": "code",
   "execution_count": 7,
   "id": "e98aaeb6-cca0-440f-ab42-c3c794329d9d",
   "metadata": {},
   "outputs": [],
   "source": [
    "def j_neg_one_matrix_init():\n",
    "    global j_matrix\n",
    "    j_matrix = -1 * np.ones((dims[0], dims[1], 4), dtype=np.float64)    "
   ]
  },
  {
   "cell_type": "code",
   "execution_count": 8,
   "id": "27eb06b4-f890-46e8-9eb8-6494d28379a1",
   "metadata": {},
   "outputs": [],
   "source": [
    "def j_matrix_frust_init():\n",
    "    global j_matrix\n",
    "    j_matrix = np.ones((dims[0], dims[1], 4), dtype=np.int8)\n",
    "    for i in range(dims[0]):\n",
    "        for j in range(dims[1]):\n",
    "            if j % 2 != 0:\n",
    "                j_matrix[i][j][1] = -1\n",
    "                j_matrix[i][j][3] = -1\n",
    "    for i in range(dims[0]):\n",
    "        for j in range(dims[1]):\n",
    "            j_matrix[i][j][3] = j_matrix[(i-1)%dims[0]][j][1]\n",
    "            j_matrix[i][j][0] = j_matrix[i][(j-1)%dims[1]][2]"
   ]
  },
  {
   "cell_type": "code",
   "execution_count": 9,
   "id": "06f3b652-f839-486e-873f-b04af7a8ee8f",
   "metadata": {},
   "outputs": [],
   "source": [
    "def B_tensor_prepare(j_vec):\n",
    "    B_list = []\n",
    "    for jj in j_vec:\n",
    "        if jj == 1:\n",
    "            B_list.append(B_pos)\n",
    "        else:\n",
    "            B_list.append(B_neg)\n",
    "    return B_list"
   ]
  },
  {
   "cell_type": "code",
   "execution_count": 10,
   "id": "0868b432-f813-4b51-8b34-6a2d8f7d9d61",
   "metadata": {},
   "outputs": [],
   "source": [
    "def bdy_vector_prepare(subgrid, j_matrix, id_loc, pos_index):\n",
    "    \"\"\"\n",
    "    Args:\n",
    "        grid: (np.array)\n",
    "        id_loc: (tuple)\n",
    "        pos_index: (int) \n",
    "        \n",
    "    Returns:\n",
    "        bdy_vector: (np.array)\n",
    "    \"\"\"\n",
    "    id_row, id_col = id_loc\n",
    "    if subgrid[id_row][id_col] == 1:\n",
    "        if j_matrix[id_row][id_col][pos_index] == 1:\n",
    "            bdy_vector = spin_pos_up\n",
    "        else:\n",
    "            bdy_vector = spin_neg_up\n",
    "    else:\n",
    "        if j_matrix[id_row][id_col][pos_index] == 1:\n",
    "            bdy_vector = spin_pos_down\n",
    "        else:\n",
    "            bdy_vector = spin_neg_down\n",
    "    return bdy_vector"
   ]
  },
  {
   "cell_type": "code",
   "execution_count": 11,
   "id": "81136e51-ea93-4ef5-9f2c-5733834df6e7",
   "metadata": {},
   "outputs": [],
   "source": [
    "def parameters_init(dims_init, beta_init, h_init):\n",
    "    global subgrid_1, subgrid_2, grid_3d, dims, beta, h\n",
    "    dims = (nb.int64(dims_init[0]), nb.int64(dims_init[1]), nb.int64(dims_init[2]))\n",
    "    beta, h = nb.float64(beta_init), nb.float64(h_init)\n",
    "    subgrid_1 = np.reshape(np.random.choice(\n",
    "        [nb.int8(-1), nb.int8(1)], \n",
    "        dims_init[1]*dims_init[2]\n",
    "        ), (dims_init[1], dims[2]))\n",
    "    subgrid_2 = np.reshape(np.random.choice(\n",
    "        [nb.int8(-1), nb.int8(1)], \n",
    "        dims_init[1]*dims_init[2]\n",
    "        ), (dims_init[1], dims[2]))\n",
    "    grid_3d = np.reshape(np.random.choice([nb.int8(-1), nb.int8(1)], \n",
    "                                           size=dims_init[0]*dims_init[1]*dims_init[2]), \n",
    "                         dims_init)\n",
    "    #grid_2_new = np.reshape(np.random.choice([nb.int8(-1), nb.int8(1)], \n",
    "    #                                          size=dims_init[0]*dims_init[1]*dims_init[2]), \n",
    "    #                        dims_init)"
   ]
  },
  {
   "cell_type": "code",
   "execution_count": 12,
   "id": "94dcadc5-88e5-4c97-9626-855974b0c3c0",
   "metadata": {},
   "outputs": [],
   "source": [
    "global subgrid_1, subgrid_2, grid_3d\n",
    "global dims, beta, j_matrix_list, h"
   ]
  },
  {
   "cell_type": "code",
   "execution_count": 13,
   "id": "cef6bc9e-b72e-42b2-b689-841893586083",
   "metadata": {},
   "outputs": [],
   "source": [
    "#dims_init = (4, 4, 4)\n",
    "#dims_init = (8, 8, 8)\n",
    "dims_init = (10, 10, 10)\n",
    "#dims_init = (16, 16, 16)\n",
    "#dims_init = (32, 32)\n",
    "#dims_init = (64, 64)\n",
    "#beta_init, h_init = np.log(1 + np.sqrt(2)) / 2, 0\n",
    "beta_init, h_init = 4, 0\n",
    "parameters_init(dims_init, beta_init, h_init)"
   ]
  },
  {
   "cell_type": "code",
   "execution_count": 14,
   "id": "86125031-11b1-4377-8bc1-ea4bb49a500a",
   "metadata": {},
   "outputs": [],
   "source": [
    "j_matrix_3d()\n",
    "#j_matrix_frust_init()\n",
    "#j_matrix_init()\n",
    "#j_neg_one_matrix_init()\n",
    "#j_pos_one_matrix_init()"
   ]
  },
  {
   "cell_type": "code",
   "execution_count": 15,
   "id": "9f867352-5680-4883-9a99-c69cdef88e69",
   "metadata": {},
   "outputs": [],
   "source": [
    "my_device = torch.device('cuda:1') if torch.cuda.is_available() else torch.device('cpu')"
   ]
  },
  {
   "cell_type": "code",
   "execution_count": 16,
   "id": "2b7216d0-562c-4b00-83ab-b9217013b6c3",
   "metadata": {},
   "outputs": [],
   "source": [
    "def node_tensor_create(my_device=my_device):\n",
    "    B_pos = torch.tensor(sqrtm(np.array([[np.exp(beta),np.exp(-beta)], \n",
    "                                         [np.exp(-beta),np.exp(beta)]])), \n",
    "                         dtype=torch.complex128, device=my_device)\n",
    "    B_neg = torch.tensor(sqrtm(np.array([[np.exp(-beta),np.exp(beta)], \n",
    "                                         [np.exp(beta),np.exp(-beta)]])), \n",
    "                         dtype=torch.complex128, device=my_device)\n",
    "    spin_up = torch.tensor([1, 0], dtype=torch.complex128, device=my_device)\n",
    "    spin_down = torch.tensor([0, 1], dtype=torch.complex128, device=my_device)\n",
    "    spin_pos_up = torch.einsum(\"i, ij -> j\", [spin_up, B_pos])\n",
    "    spin_pos_down = torch.einsum(\"i, ij -> j\", [spin_down, B_pos])\n",
    "    spin_neg_up = torch.einsum(\"i, ij -> j\", [spin_up, B_neg])\n",
    "    spin_neg_down = torch.einsum(\"i, ij -> j\", [spin_down, B_neg])\n",
    "    return B_pos, B_neg, spin_pos_up, spin_pos_down, spin_neg_up, spin_neg_down"
   ]
  },
  {
   "cell_type": "code",
   "execution_count": 17,
   "id": "87a71799-33a4-4d1c-be4d-d5003fc2f3b7",
   "metadata": {},
   "outputs": [],
   "source": [
    "def copy_tensor_create(my_device=my_device):\n",
    "    I_2_array = np.zeros((2, 2))\n",
    "    I_3_array = np.zeros((2, 2, 2))\n",
    "    I_4_array = np.zeros((2, 2, 2, 2))\n",
    "    I_5_array = np.zeros((2, 2, 2, 2, 2))\n",
    "    I_6_array = np.zeros((2, 2, 2, 2, 2, 2))\n",
    "    I_2_up_array = np.zeros((2, 2))\n",
    "    I_2_down_array = np.zeros((2, 2))\n",
    "    I_3_up_array = np.zeros((2, 2, 2))\n",
    "    I_3_down_array = np.zeros((2, 2, 2))\n",
    "    I_up_array = np.zeros((2, 2, 2, 2))\n",
    "    I_down_array = np.zeros((2, 2, 2, 2))\n",
    "    I_4_up_array = np.zeros((2, 2, 2, 2))\n",
    "    I_4_down_array = np.zeros((2, 2, 2, 2))    \n",
    "    I_5_up_array = np.zeros((2, 2, 2, 2, 2))\n",
    "    I_5_down_array = np.zeros((2, 2, 2, 2, 2))\n",
    "    I_6_up_array = np.zeros((2, 2, 2, 2, 2, 2))\n",
    "    I_6_down_array = np.zeros((2, 2, 2, 2, 2, 2))\n",
    "    for i in range(2):\n",
    "        if i == 0:\n",
    "            I_2_array[i, i] = np.exp(beta * h)\n",
    "            I_3_array[i, i, i] = np.exp(beta * h)\n",
    "            I_4_array[i, i, i, i] = np.exp(beta * h)\n",
    "            I_5_array[i, i, i, i, i] = np.exp(beta * h)\n",
    "            I_6_array[i, i, i, i, i, i] = np.exp(beta * h)\n",
    "        else:\n",
    "            I_2_array[i, i] = np.exp(-beta * h)\n",
    "            I_3_array[i, i, i] = np.exp(-beta * h)\n",
    "            I_4_array[i, i, i, i] = np.exp(-beta * h)\n",
    "            I_5_array[i, i, i, i, i] = np.exp(-beta * h)\n",
    "            I_6_array[i, i, i, i, i, i] = np.exp(-beta * h)\n",
    "    I_up_array[0][0][0][0] = np.exp(beta * h)\n",
    "    I_down_array[1][1][1][1] = np.exp(-beta * h)\n",
    "    I_3_up_array[0][0][0] = np.exp(beta * h)\n",
    "    I_3_down_array[1][1][1] = np.exp(-beta * h)\n",
    "    I_2_up_array[0][0] = np.exp(beta * h)\n",
    "    I_2_down_array[1][1] = np.exp(-beta * h)\n",
    "    I_4_up_array[0][0][0][0] = np.exp(beta * h)\n",
    "    I_4_down_array[1][1][1][1] = np.exp(-beta * h)    \n",
    "    I_5_up_array[0][0][0][0][0] = np.exp(beta * h)\n",
    "    I_5_down_array[1][1][1][1][1] = np.exp(-beta * h)    \n",
    "    I_6_up_array[0][0][0][0][0][0] = np.exp(beta * h)\n",
    "    I_6_down_array[1][1][1][1][1][1] = np.exp(-beta * h)\n",
    "    I_1 = torch.tensor([np.exp(beta * h), np.exp(-beta * h)], dtype=torch.complex128, device=my_device)\n",
    "    I_2 = torch.tensor(I_2_array, dtype=torch.complex128, device=my_device)\n",
    "    I_3 = torch.tensor(I_3_array, dtype=torch.complex128, device=my_device)\n",
    "    I_4 = torch.tensor(I_4_array, dtype=torch.complex128, device=my_device)\n",
    "    I_5 = torch.tensor(I_5_array, dtype=torch.complex128, device=my_device)\n",
    "    I_6 = torch.tensor(I_6_array, dtype=torch.complex128, device=my_device)\n",
    "    I_up = torch.tensor(I_up_array, dtype=torch.complex128, device=my_device)\n",
    "    I_down = torch.tensor(I_down_array, dtype=torch.complex128, device=my_device)\n",
    "    I_3_up = torch.tensor(I_3_up_array, dtype=torch.complex128, device=my_device)\n",
    "    I_3_down = torch.tensor(I_3_down_array, dtype=torch.complex128, device=my_device)\n",
    "    I_2_up = torch.tensor(I_2_up_array, dtype=torch.complex128, device=my_device)\n",
    "    I_2_down = torch.tensor(I_2_down_array, dtype=torch.complex128, device=my_device)\n",
    "    I_4_up = torch.tensor(I_4_up_array, dtype=torch.complex128, device=my_device)\n",
    "    I_4_down = torch.tensor(I_4_down_array, dtype=torch.complex128, device=my_device)\n",
    "    I_5_up = torch.tensor(I_5_up_array, dtype=torch.complex128, device=my_device)\n",
    "    I_5_down = torch.tensor(I_5_down_array, dtype=torch.complex128, device=my_device)\n",
    "    I_6_up = torch.tensor(I_6_up_array, dtype=torch.complex128, device=my_device)\n",
    "    I_6_down = torch.tensor(I_6_down_array, dtype=torch.complex128, device=my_device)\n",
    "    return I_2, I_3, I_4, I_5, I_6, I_up, I_down, I_3_up, I_3_down, I_2_up, I_2_down, I_4_up, I_4_down, I_5_up, I_5_down, I_6_up, I_6_down"
   ]
  },
  {
   "cell_type": "code",
   "execution_count": 18,
   "id": "e165ebf3-9001-404b-9f56-39ffb7a523c0",
   "metadata": {},
   "outputs": [],
   "source": [
    "def row_tensor_mpo_bulk_layer_create(j_matrix, row_id):\n",
    "    row_tensor_mpo = []\n",
    "    B_list_left, B_list_right = [], []\n",
    "    j_vec_left = [j_matrix[row_id][0][1], j_matrix[row_id][0][2], j_matrix[row_id][0][3], \n",
    "                  j_matrix[row_id][0][4], j_matrix[row_id][0][5]]\n",
    "    j_vec_right = [j_matrix[row_id][-1][0], j_matrix[row_id][-1][1], j_matrix[row_id][-1][3], \n",
    "                   j_matrix[row_id][-1][4], j_matrix[row_id][-1][5]]\n",
    "    for jj in j_vec_left:\n",
    "        if jj == 1:\n",
    "            B_list_left.append(B_pos)\n",
    "        else:\n",
    "            B_list_left.append(B_neg)\n",
    "    B_list_left.append(I_5)\n",
    "    for jj in j_vec_right:\n",
    "        if jj == 1:\n",
    "            B_list_right.append(B_pos)\n",
    "        else:\n",
    "            B_list_right.append(B_neg)\n",
    "    B_list_right.append(I_5)\n",
    "    A_5_left = torch.einsum(\"ij, kl, mn, op, qv, jlnpv -> ikmoq\", B_list_left)\n",
    "    A_5_right = torch.einsum(\"ij, kl, mn, op, qv, jlnpv -> ikmoq\", B_list_right)    \n",
    "    A_5_left = A_5_left.view([1, 2, 2, 2, 2, 2]).contiguous()\n",
    "    A_5_right = A_5_right.view([2, 2, 1, 2, 2, 2]).contiguous()\n",
    "    row_tensor_mpo.append(A_5_left)\n",
    "    for col_id in range(1, dims[1]-1):\n",
    "        B_list = []\n",
    "        j_vec = j_matrix[row_id][col_id]\n",
    "        for jj in j_vec:\n",
    "            if jj == 1:\n",
    "                B_list.append(B_pos)\n",
    "            else:\n",
    "                B_list.append(B_neg)\n",
    "        B_list.append(I_6)\n",
    "        A_6_i = torch.einsum(\"ij, kl, mn, op, qv, rs, jlnpvs -> ikmoqr\", B_list)\n",
    "        #A_6_i = A_6_i / A_6_i.norm()\n",
    "        row_tensor_mpo.append(A_6_i)\n",
    "    row_tensor_mpo.append(A_5_right)\n",
    "    return row_tensor_mpo"
   ]
  },
  {
   "cell_type": "code",
   "execution_count": 19,
   "id": "abcefc94-1e09-4f2c-aa22-a7b47a6b54e2",
   "metadata": {},
   "outputs": [],
   "source": [
    "def row_tensor_mpo_bdy_layer_create(j_matrix, row_id):\n",
    "    row_tensor_mpo = []\n",
    "    B_list_left, B_list_right = [], []\n",
    "    j_vec_left = [j_matrix[row_id][0][1], j_matrix[row_id][0][2], j_matrix[row_id][0][3], \n",
    "                  j_matrix[row_id][0][4]]\n",
    "    j_vec_right = [j_matrix[row_id][-1][0], j_matrix[row_id][-1][1], j_matrix[row_id][-1][3], \n",
    "                   j_matrix[row_id][-1][4]]\n",
    "    for jj in j_vec_left:\n",
    "        if jj == 1:\n",
    "            B_list_left.append(B_pos)\n",
    "        else:\n",
    "            B_list_left.append(B_neg)\n",
    "    B_list_left.append(I_4)\n",
    "    for jj in j_vec_right:\n",
    "        if jj == 1:\n",
    "            B_list_right.append(B_pos)\n",
    "        else:\n",
    "            B_list_right.append(B_neg)\n",
    "    B_list_right.append(I_4)\n",
    "    A_4_left = torch.einsum(\"ij, kl, mn, op, jlnp -> ikmo\", B_list_left)\n",
    "    A_4_right = torch.einsum(\"ij, kl, mn, op, jlnp -> ikmo\", B_list_right)    \n",
    "    A_4_left = A_4_left.view([1, 2, 2, 2, 2]).contiguous()\n",
    "    A_4_right = A_4_right.view([2, 2, 1, 2, 2]).contiguous()\n",
    "    row_tensor_mpo.append(A_4_left)\n",
    "    for col_id in range(1, dims[2]-1):\n",
    "        B_list = []\n",
    "        j_vec = j_matrix[row_id][col_id][:5]\n",
    "        for jj in j_vec:\n",
    "            if jj == 1:\n",
    "                B_list.append(B_pos)\n",
    "            else:\n",
    "                B_list.append(B_neg)\n",
    "        B_list.append(I_5)\n",
    "        A_5_i = torch.einsum(\"ij, kl, mn, op, qv, jlnpv -> ikmoq\", B_list)\n",
    "        #A_5_i = A_5_i / A_5_i.norm()\n",
    "        row_tensor_mpo.append(A_5_i)\n",
    "    row_tensor_mpo.append(A_4_right)\n",
    "    return row_tensor_mpo"
   ]
  },
  {
   "cell_type": "code",
   "execution_count": 20,
   "id": "aab35ef4-d690-4f0b-ba29-171992f24a05",
   "metadata": {},
   "outputs": [],
   "source": [
    "def up_row_tensor_mps_bulk_layer_create(j_matrix):\n",
    "    row_tensor_mps = []\n",
    "    j_vec_left = [j_matrix[0][0][1], j_matrix[0][0][2], \n",
    "                  j_matrix[0][0][4], j_matrix[0][0][5]]\n",
    "    j_vec_right = [j_matrix[0][-1][0], j_matrix[0][-1][1], \n",
    "                   j_matrix[0][-1][4], j_matrix[0][-1][5]]\n",
    "    B_list_left = [B_pos if j_vec_left[0] == 1 else B_neg, B_pos if j_vec_left[1] == 1 else B_neg, \n",
    "                   B_pos if j_vec_left[2] == 1 else B_neg, B_pos if j_vec_left[3] == 1 else B_neg, I_4]\n",
    "    B_list_right = [B_pos if j_vec_right[0] == 1 else B_neg, B_pos if j_vec_right[1] == 1 else B_neg, \n",
    "                    B_pos if j_vec_right[2] == 1 else B_neg, B_pos if j_vec_right[3] == 1 else B_neg, I_4]\n",
    "    A_4_left = torch.einsum(\"ij, kl, mn, op, jlnp -> ikmo\", B_list_left)\n",
    "    A_4_left /= A_4_left.norm()\n",
    "    A_4_right = torch.einsum(\"ij, kl, mn, op, jlnp -> ikmo\", B_list_right)\n",
    "    A_4_right /= A_4_right.norm()\n",
    "    A_4_left = A_4_left.view((1, 2, 2, 1, 2, 2)).contiguous()\n",
    "    A_4_right = A_4_right.view((2, 2, 1, 1, 2, 2)).contiguous()\n",
    "    row_tensor_mps.append(A_4_left)\n",
    "    for col_id in range(1, dims[2]-1):\n",
    "        j_vec = j_matrix[0][col_id]\n",
    "        B_list = []\n",
    "        j_vec = [j_vec[0], j_vec[1], j_vec[2], j_vec[4], j_vec[5]]\n",
    "        for jj in j_vec:\n",
    "            if jj == 1:\n",
    "                B_list.append(B_pos)\n",
    "            else:\n",
    "                B_list.append(B_neg)\n",
    "        B_list.append(I_5)\n",
    "        A_5_i = torch.einsum(\"ij, kl, mn, op, qr, jlnpr -> ikmoq\", B_list)\n",
    "        A_5_i = A_5_i / A_5_i.norm()\n",
    "        A_5_i = A_5_i.view([2, 2, 2, 1, 2, 2])\n",
    "        row_tensor_mps.append(A_5_i)\n",
    "    row_tensor_mps.append(A_4_right)\n",
    "    return row_tensor_mps"
   ]
  },
  {
   "cell_type": "code",
   "execution_count": 21,
   "id": "4d3f07ef-dfb4-411d-bd0c-c28d23fb8021",
   "metadata": {},
   "outputs": [],
   "source": [
    "def up_row_tensor_mps_bdy_layer_create(j_matrix):\n",
    "    row_tensor_mps = []\n",
    "    j_vec_left = [j_matrix[0][0][1], j_matrix[0][0][2], j_matrix[0][0][4]]\n",
    "    j_vec_right = [j_matrix[0][-1][0], j_matrix[0][-1][1], j_matrix[0][-1][4]]\n",
    "    B_list_left = [B_pos if j_vec_left[0] == 1 else B_neg, B_pos if j_vec_left[1] == 1 else B_neg, \n",
    "                   B_pos if j_vec_left[2] == 1 else B_neg, I_3]\n",
    "    B_list_right = [B_pos if j_vec_right[0] == 1 else B_neg, B_pos if j_vec_right[1] == 1 else B_neg,\n",
    "                    B_pos if j_vec_right[2] == 1 else B_neg, I_3]\n",
    "    A_3_left = torch.einsum(\"ij, kl, mn, jln -> ikm\", B_list_left)\n",
    "    A_3_left /= A_3_left.norm()\n",
    "    A_3_right = torch.einsum(\"ij, kl, mn, jln -> ikm\", B_list_right)\n",
    "    A_3_right /= A_3_right.norm()\n",
    "    A_3_left = A_3_left.view((1, 2, 2, 1, 2)).contiguous()\n",
    "    A_3_right = A_3_right.view((2, 2, 1, 1, 2)).contiguous()\n",
    "    row_tensor_mps.append(A_3_left)\n",
    "    for col_id in range(1, dims[2]-1):\n",
    "        j_vec = j_matrix[0][col_id]\n",
    "        B_list = []\n",
    "        j_vec = [j_vec[0], j_vec[1], j_vec[2], j_vec[4]]\n",
    "        for jj in j_vec:\n",
    "            if jj == 1:\n",
    "                B_list.append(B_pos)\n",
    "            else:\n",
    "                B_list.append(B_neg)\n",
    "        B_list.append(I_4)\n",
    "        A_4_i = torch.einsum(\"ij, kl, mn, op, jlnp -> ikmo\", B_list)\n",
    "        A_4_i = A_4_i / A_4_i.norm()\n",
    "        A_4_i = A_4_i.view([2, 2, 2, 1, 2])\n",
    "        row_tensor_mps.append(A_4_i)\n",
    "    row_tensor_mps.append(A_3_right)\n",
    "    return row_tensor_mps"
   ]
  },
  {
   "cell_type": "code",
   "execution_count": 22,
   "id": "157fe97c-0603-4c16-be35-b78d13267f05",
   "metadata": {},
   "outputs": [],
   "source": [
    "def down_row_tensor_mps_bulk_layer_create(j_matrix):\n",
    "    row_tensor_mps = []\n",
    "    j_vec_left = [j_matrix[dims[1]-1][0][2], j_matrix[dims[1]-1][0][3], \n",
    "                  j_matrix[dims[1]-1][0][4], j_matrix[dims[1]-1][0][5]]\n",
    "    j_vec_right = [j_matrix[dims[1]-1][-1][0], j_matrix[dims[1]-1][-1][3], \n",
    "                   j_matrix[dims[1]-1][-1][4], j_matrix[dims[1]-1][-1][5]]\n",
    "    B_list_left = [B_pos if j_vec_left[0] == 1 else B_neg, B_pos if j_vec_left[1] == 1 else B_neg, \n",
    "                   B_pos if j_vec_left[2] == 1 else B_neg, B_pos if j_vec_left[3] == 1 else B_neg, I_4]\n",
    "    B_list_right = [B_pos if j_vec_right[0] == 1 else B_neg, B_pos if j_vec_right[1] == 1 else B_neg, \n",
    "                    B_pos if j_vec_right[2] == 1 else B_neg, B_pos if j_vec_right[3] == 1 else B_neg, I_4]\n",
    "    A_4_left = torch.einsum(\"ij, kl, mn, op, jlnp -> ikmo\", B_list_left)\n",
    "    A_4_left /= A_4_left.norm()\n",
    "    A_4_right = torch.einsum(\"ij, kl, mn, op, jlnp -> ikmo\", B_list_right)\n",
    "    A_4_right /= A_4_right.norm()\n",
    "    A_4_left = A_4_left.view((1, 1, 2, 2, 2, 2)).contiguous()\n",
    "    A_4_right = A_4_right.view((2, 1, 1, 2, 2, 2)).contiguous()\n",
    "    row_tensor_mps.append(A_4_left)\n",
    "    for col_id in range(1, dims[2]-1):\n",
    "        j_vec = j_matrix[dims[1]-1][col_id]\n",
    "        B_list = []\n",
    "        j_vec = [j_vec[0], j_vec[2], j_vec[3], j_vec[4], j_vec[5]]\n",
    "        for jj in j_vec:\n",
    "            if jj == 1:\n",
    "                B_list.append(B_pos)\n",
    "            else:\n",
    "                B_list.append(B_neg)\n",
    "        B_list.append(I_5)\n",
    "        A_5_i = torch.einsum(\"ij, kl, mn, op, qr, jlnpr -> ikmoq\", B_list)\n",
    "        A_5_i = A_5_i / A_5_i.norm()\n",
    "        A_5_i = A_5_i.view([2, 1, 2, 2, 2, 2])\n",
    "        row_tensor_mps.append(A_5_i)\n",
    "    row_tensor_mps.append(A_4_right)\n",
    "    return row_tensor_mps"
   ]
  },
  {
   "cell_type": "code",
   "execution_count": 23,
   "id": "4cc2d580-97e3-4962-b933-a728023cd4fc",
   "metadata": {},
   "outputs": [],
   "source": [
    "def down_row_tensor_mps_bdy_layer_create(j_matrix):\n",
    "    row_tensor_mps = []\n",
    "    j_vec_left = [j_matrix[dims[1]-1][0][2], j_matrix[dims[1]-1][0][3], \n",
    "                  j_matrix[dims[1]-1][0][4]]\n",
    "    j_vec_right = [j_matrix[dims[1]-1][-1][0], j_matrix[dims[1]-1][-1][3], \n",
    "                   j_matrix[dims[1]-1][-1][4]]\n",
    "    B_list_left = [B_pos if j_vec_left[0] == 1 else B_neg, B_pos if j_vec_left[1] == 1 else B_neg, \n",
    "                   B_pos if j_vec_left[2] == 1 else B_neg, I_3]\n",
    "    B_list_right = [B_pos if j_vec_right[0] == 1 else B_neg, B_pos if j_vec_right[1] == 1 else B_neg, \n",
    "                    B_pos if j_vec_right[2] == 1 else B_neg, I_3]\n",
    "    A_3_left = torch.einsum(\"ij, kl, mn, jln -> ikm\", B_list_left)\n",
    "    A_3_left /= A_3_left.norm()\n",
    "    A_3_right = torch.einsum(\"ij, kl, mn, jln -> ikm\", B_list_right)\n",
    "    A_3_right /= A_3_right.norm()\n",
    "    A_3_left = A_3_left.view((1, 1, 2, 2, 2)).contiguous()\n",
    "    A_3_right = A_3_right.view((2, 1, 1, 2, 2)).contiguous()\n",
    "    row_tensor_mps.append(A_3_left)\n",
    "    for col_id in range(1, dims[1]-1):\n",
    "        j_vec = j_matrix[dims[1]-1][col_id]\n",
    "        B_list = []\n",
    "        j_vec = [j_vec[0], j_vec[2], j_vec[3], j_vec[4]]\n",
    "        for jj in j_vec:\n",
    "            if jj == 1:\n",
    "                B_list.append(B_pos)\n",
    "            else:\n",
    "                B_list.append(B_neg)\n",
    "        B_list.append(I_4)\n",
    "        A_4_i = torch.einsum(\"ij, kl, mn, op, jlnp -> ikmo\", B_list)\n",
    "        A_4_i = A_4_i / A_4_i.norm()\n",
    "        A_4_i = A_4_i.view([2, 1, 2, 2, 2])\n",
    "        row_tensor_mps.append(A_4_i)\n",
    "    row_tensor_mps.append(A_3_right)\n",
    "    return row_tensor_mps"
   ]
  },
  {
   "cell_type": "code",
   "execution_count": 24,
   "id": "11653704-8102-4ca0-8718-cee6abd9280c",
   "metadata": {},
   "outputs": [],
   "source": [
    "def up_row_tensor_mps_create(j_matrix):\n",
    "    row_tensor_mps = []\n",
    "    j_vec_left = [j_matrix[0][0][1], j_matrix[0][0][2]]\n",
    "    j_vec_right = [j_matrix[0][-1][0], j_matrix[0][-1][1]]\n",
    "    B_list_left = [B_pos if j_vec_left[0] == 1 else B_neg, B_pos if j_vec_left[1] == 1 else B_neg, I_2]\n",
    "    B_list_right = [B_pos if j_vec_right[0] == 1 else B_neg, B_pos if j_vec_right[1] == 1 else B_neg, I_2]\n",
    "    A_2_left = torch.einsum(\"ij, kl, jl -> ik\", B_list_left)\n",
    "    A_2_left /= A_2_left.norm()\n",
    "    A_2_right = torch.einsum(\"ij, kl, jl -> ik\", B_list_right)\n",
    "    A_2_right /= A_2_right.norm()\n",
    "    A_2_left = A_2_left.view((1, 2, 2, 1)).contiguous()\n",
    "    A_2_right = A_2_right.view((2, 2, 1, 1)).contiguous()\n",
    "    row_tensor_mps.append(A_2_left)\n",
    "    for col_id in range(1, dims[1]-1):\n",
    "        j_vec = j_matrix[0][col_id]\n",
    "        B_list = []\n",
    "        j_vec = [j_vec[0], j_vec[1], j_vec[2]]\n",
    "        for jj in j_vec:\n",
    "            if jj == 1:\n",
    "                B_list.append(B_pos)\n",
    "            else:\n",
    "                B_list.append(B_neg)\n",
    "        B_list.append(I_3)\n",
    "        A_3_i = torch.einsum(\"ij, kl, mn, jln -> ikm\", B_list)\n",
    "        A_3_i = A_3_i / A_3_i.norm()\n",
    "        A_3_i = A_3_i.view([2, 2, 2, 1])\n",
    "        row_tensor_mps.append(A_3_i)\n",
    "    row_tensor_mps.append(A_2_right)\n",
    "    return row_tensor_mps"
   ]
  },
  {
   "cell_type": "code",
   "execution_count": 25,
   "id": "3bf75c41-82ae-4ea1-9824-e9f003780612",
   "metadata": {},
   "outputs": [],
   "source": [
    "def down_row_tensor_mps_create(j_matrix):\n",
    "    row_tensor_mps = []\n",
    "    j_vec_left = [j_matrix[dims[1]-1][0][2], j_matrix[dims[1]-1][0][3]]\n",
    "    j_vec_right = [j_matrix[dims[1]-1][-1][0], j_matrix[dims[1]-1][-1][3]]\n",
    "    B_list_left = [B_pos if j_vec_left[0] == 1 else B_neg, B_pos if j_vec_left[1] == 1 else B_neg, I_2]\n",
    "    B_list_right = [B_pos if j_vec_right[0] == 1 else B_neg, B_pos if j_vec_right[1] == 1 else B_neg, I_2]\n",
    "    A_2_left = torch.einsum(\"ij, kl, jl -> ik\", B_list_left)\n",
    "    A_2_left /= A_2_left.norm()\n",
    "    A_2_right = torch.einsum(\"ij, kl, jl -> ik\", B_list_right)\n",
    "    A_2_right /= A_2_right.norm()\n",
    "    A_2_left = A_2_left.view((1, 1, 2, 2)).contiguous()\n",
    "    A_2_right = A_2_right.view((2, 1, 1, 2)).contiguous()\n",
    "    row_tensor_mps.append(A_2_left)\n",
    "    for col_id in range(1, dims[1]-1):\n",
    "        j_vec = j_matrix[dims[1]-1][col_id]\n",
    "        B_list = []\n",
    "        j_vec = [j_vec[0], j_vec[2], j_vec[3]]\n",
    "        for jj in j_vec:\n",
    "            if jj == 1:\n",
    "                B_list.append(B_pos)\n",
    "            else:\n",
    "                B_list.append(B_neg)\n",
    "        B_list.append(I_3)\n",
    "        A_3_i = torch.einsum(\"ij, kl, mn, jln -> ikm\", B_list)\n",
    "        A_3_i = A_3_i / A_3_i.norm()\n",
    "        A_3_i = A_3_i.view([2, 1, 2, 2])\n",
    "        row_tensor_mps.append(A_3_i)\n",
    "    row_tensor_mps.append(A_2_right)\n",
    "    return row_tensor_mps"
   ]
  },
  {
   "cell_type": "code",
   "execution_count": 26,
   "id": "eb22ab94-0160-4d63-8b96-b9d7ac0530cf",
   "metadata": {},
   "outputs": [],
   "source": [
    "def tensor_mpo_bulk_layer_create(j_matrix):\n",
    "    tensor_mpo_bulk_layers = []\n",
    "    up_row_tensor_bulk_layer_mps = up_row_tensor_mps_bulk_layer_create(j_matrix)\n",
    "    tensor_mpo_bulk_layers.append(up_row_tensor_bulk_layer_mps)\n",
    "    for row_id in range(1, dims[1]-1):\n",
    "        row_tensor_bulk_layer_mpo_i = row_tensor_mpo_bulk_layer_create(j_matrix, row_id)\n",
    "        tensor_mpo_bulk_layers.append(row_tensor_bulk_layer_mpo_i)\n",
    "    down_row_tensor_bulk_layer_mps = down_row_tensor_mps_bulk_layer_create(j_matrix)\n",
    "    tensor_mpo_bulk_layers.append(down_row_tensor_bulk_layer_mps)\n",
    "    return tensor_mpo_bulk_layers"
   ]
  },
  {
   "cell_type": "code",
   "execution_count": 27,
   "id": "37a10e7d-aa50-436f-9c82-b151905527cb",
   "metadata": {},
   "outputs": [],
   "source": [
    "def tensor_mps_bdy_layer_create(j_matrix):\n",
    "    tensor_mpo_bdy_layers = []\n",
    "    up_row_tensor_bdy_layer_mps = up_row_tensor_mps_bdy_layer_create(j_matrix)\n",
    "    tensor_mpo_bdy_layers.append(up_row_tensor_bdy_layer_mps)\n",
    "    for row_id in range(1, dims[1]-1):\n",
    "        row_tensor_bdy_layer_mpo_i = row_tensor_mpo_bdy_layer_create(j_matrix, row_id)\n",
    "        tensor_mpo_bdy_layers.append(row_tensor_bdy_layer_mpo_i)\n",
    "    down_row_tensor_bdy_layer_mps = down_row_tensor_mps_bdy_layer_create(j_matrix)\n",
    "    tensor_mpo_bdy_layers.append(down_row_tensor_bdy_layer_mps)\n",
    "    return tensor_mpo_bdy_layers"
   ]
  },
  {
   "cell_type": "code",
   "execution_count": 28,
   "id": "7bdf9daa-7e49-4553-8a18-0b85e050a00d",
   "metadata": {},
   "outputs": [],
   "source": [
    "def tensor_mpo_3d_create():\n",
    "    tensor_bulk_list = []\n",
    "    num_layers = dims[0]\n",
    "    j_matrix_up = j_matrix_list[0]\n",
    "    tensor_mpo_bdy_layers_up = tensor_mps_bdy_layer_create(j_matrix_up)\n",
    "    tensor_bulk_list.append(tensor_mpo_bdy_layers_up)\n",
    "    for i in range(1, num_layers-1):\n",
    "        j_matrix = j_matrix_list[i]\n",
    "        tensor_mpo_bulk_layer = tensor_mpo_bulk_layer_create(j_matrix)\n",
    "        tensor_bulk_list.append(tensor_mpo_bulk_layer)\n",
    "    j_matrix_down = j_matrix_list[-1]\n",
    "    tensor_mpo_bdy_layers_down = tensor_mps_bdy_layer_create(j_matrix_down)\n",
    "    tensor_bulk_list.append(tensor_mpo_bdy_layers_down)\n",
    "    return tensor_bulk_list"
   ]
  },
  {
   "cell_type": "code",
   "execution_count": 29,
   "id": "cdd388e0-a478-4c08-9e18-c91d6b519ca1",
   "metadata": {},
   "outputs": [],
   "source": [
    "def row_tensor_mpo_create(j_matrix, row_id):\n",
    "    row_tensor_mpo = []\n",
    "    B_list_left, B_list_right = [], []\n",
    "    j_vec_left = [j_matrix[row_id][0][1], j_matrix[row_id][0][2], j_matrix[row_id][0][3]]\n",
    "    j_vec_right = [j_matrix[row_id][-1][0], j_matrix[row_id][-1][1], j_matrix[row_id][-1][3]]\n",
    "    for jj in j_vec_left:\n",
    "        if jj == 1:\n",
    "            B_list_left.append(B_pos)\n",
    "        else:\n",
    "            B_list_left.append(B_neg)\n",
    "    B_list_left.append(I_3)\n",
    "    for jj in j_vec_right:\n",
    "        if jj == 1:\n",
    "            B_list_right.append(B_pos)\n",
    "        else:\n",
    "            B_list_right.append(B_neg)\n",
    "    B_list_right.append(I_3)\n",
    "    A_3_left = torch.einsum(\"ij, kl, mn, jln -> ikm\", B_list_left)\n",
    "    A_3_right = torch.einsum(\"ij, kl, mn, jln -> ikm\", B_list_right)    \n",
    "    A_3_left = A_3_left.view([1, 2, 2, 2]).contiguous()\n",
    "    A_3_right = A_3_right.view([2, 2, 1, 2]).contiguous()\n",
    "    row_tensor_mpo.append(A_3_left)\n",
    "    for col_id in range(1, dims[1]-1):\n",
    "        B_list = []\n",
    "        j_vec = j_matrix[row_id][col_id][:4]\n",
    "        for jj in j_vec:\n",
    "            if jj == 1:\n",
    "                B_list.append(B_pos)\n",
    "            else:\n",
    "                B_list.append(B_neg)\n",
    "        B_list.append(I_4)\n",
    "        A_4_i = torch.einsum(\"ij, kl, mn, pq, jlnq -> ikmp\", B_list)\n",
    "        A_4_i = A_4_i / A_4_i.norm()\n",
    "        row_tensor_mpo.append(A_4_i)\n",
    "    row_tensor_mpo.append(A_3_right)\n",
    "    return row_tensor_mpo"
   ]
  },
  {
   "cell_type": "code",
   "execution_count": 30,
   "id": "6a7d5cbc-917c-4210-96d1-eed6e78083a7",
   "metadata": {},
   "outputs": [],
   "source": [
    "def tensor_mpo_create(j_matrix):\n",
    "    tensor_mpo = []\n",
    "    up_row_tensor_mps = up_row_tensor_mps_create(j_matrix)\n",
    "    tensor_mpo.append(up_row_tensor_mps)\n",
    "    for row_id in range(1, dims[0]-1):\n",
    "        row_tensor_mpo_i = row_tensor_mpo_create(j_matrix, row_id)\n",
    "        tensor_mpo.append(row_tensor_mpo_i)\n",
    "    down_row_tensor_mps = down_row_tensor_mps_create(j_matrix)\n",
    "    tensor_mpo.append(down_row_tensor_mps)\n",
    "    return tensor_mpo"
   ]
  },
  {
   "cell_type": "code",
   "execution_count": 31,
   "id": "3da30a19-e194-407e-a252-9d299b8bb210",
   "metadata": {},
   "outputs": [],
   "source": [
    "global I_2, I_3, I_4, I_up, I_down, I_3_up, I_3_down, I_2_up, I_2_down, I_5, I_6\n",
    "global I_4_up, I_4_down, I_5_up, I_5_down, I_6_up, I_6_down"
   ]
  },
  {
   "cell_type": "code",
   "execution_count": 32,
   "id": "bc7c8474-d64b-4371-9dbd-058d4588d826",
   "metadata": {},
   "outputs": [],
   "source": [
    "global B_pos, B_neg, spin_pos_up, spin_pos_down, spin_neg_up, spin_neg_down"
   ]
  },
  {
   "cell_type": "code",
   "execution_count": 33,
   "id": "532d506c-ce4b-40b6-ac4d-89288d601528",
   "metadata": {},
   "outputs": [],
   "source": [
    "global tensor_bulk_list\n",
    "global tensor_mpo"
   ]
  },
  {
   "cell_type": "code",
   "execution_count": 34,
   "id": "fb49e39d-ff45-46c9-bfeb-5674d0ce33a3",
   "metadata": {},
   "outputs": [],
   "source": [
    "def tensors_init(my_device=my_device):\n",
    "    global I_2, I_3, I_4, I_up, I_down, I_3_up, I_3_down, I_2_up, I_2_down, I_5, I_6\n",
    "    global I_4_up, I_4_down, I_5_up, I_5_down, I_6_up, I_6_down\n",
    "    global B_pos, B_neg, spin_pos_up, spin_pos_down, spin_neg_up, spin_neg_down\n",
    "    global tensor_mpo, tensor_bulk_list\n",
    "    I_2, I_3, I_4, I_5, I_6, I_up, I_down, I_3_up, I_3_down, I_2_up, I_2_down, I_4_up, I_4_down, I_5_up, I_5_down, I_6_up, I_6_down = copy_tensor_create(my_device)\n",
    "    B_pos, B_neg, spin_pos_up, spin_pos_down, spin_neg_up, spin_neg_down = node_tensor_create(my_device)\n",
    "    #tensor_mpo = tensor_mpo_create(j_matrix_list[1])\n",
    "    tensor_bulk_list = tensor_mpo_3d_create()"
   ]
  },
  {
   "cell_type": "code",
   "execution_count": 35,
   "id": "1a5d396a-35f7-4631-a41d-9741dbe6c771",
   "metadata": {},
   "outputs": [],
   "source": [
    "parameters_init(dims_init, beta_init, h_init)"
   ]
  },
  {
   "cell_type": "code",
   "execution_count": 36,
   "id": "01833fe6-17b0-4f33-868b-51ac8273baff",
   "metadata": {},
   "outputs": [],
   "source": [
    "tensors_init()"
   ]
  },
  {
   "cell_type": "code",
   "execution_count": 37,
   "id": "bfd0c98d-7251-48ee-b673-8a441544b943",
   "metadata": {},
   "outputs": [],
   "source": [
    "def bulk_mpo_to_mps(grid, layer_id, mpo_bulk):\n",
    "    subgrid_left = grid[layer_id-1]\n",
    "    subgrid_right = grid[layer_id+1]\n",
    "    j_matrix_left = j_matrix_list[layer_id-1]\n",
    "    j_matrix_right = j_matrix_list[layer_id+1]\n",
    "    layer_mpo_list = []\n",
    "    for id_row in range(dims[1]):\n",
    "        layer_mpo = []\n",
    "        for id_col in range(dims[2]):\n",
    "            tensor_site = mpo_bulk[id_row][id_col]\n",
    "            id_loc = (id_row, id_col)\n",
    "            if layer_id - 1 != 0:\n",
    "                left_vector = bdy_vector_prepare(subgrid_left, j_matrix_left, id_loc, 5)\n",
    "            else:\n",
    "                left_vector = bdy_vector_prepare(subgrid_left, j_matrix_left, id_loc, 4)  \n",
    "            right_vector = bdy_vector_prepare(subgrid_right, j_matrix_right, id_loc, 4)\n",
    "            #print(left_vector.size(), right_vector.size(), tensor_site.size())\n",
    "            tensor_contracted = torch.einsum(\"m, n, ijklmn -> ijkl\", [left_vector, \n",
    "                                                                      right_vector, \n",
    "                                                                      tensor_site])\n",
    "            layer_mpo.append(tensor_contracted)\n",
    "        layer_mpo_list.append(layer_mpo)\n",
    "    return layer_mpo_list"
   ]
  },
  {
   "cell_type": "code",
   "execution_count": 38,
   "id": "994c9078-0c54-4922-940d-7b362fbe2293",
   "metadata": {},
   "outputs": [],
   "source": [
    "def left_bdy_mpo_to_mps(grid, mpo_bulk):\n",
    "    subgrid_right = grid[1]\n",
    "    j_matrix_right = j_matrix_list[1]\n",
    "    layer_mpo_list = []\n",
    "    for id_row in range(dims[1]):\n",
    "        layer_mpo = []\n",
    "        for id_col in range(dims[2]):\n",
    "            tensor_site = mpo_bulk[id_row][id_col]\n",
    "            id_loc = (id_row, id_col)\n",
    "            right_vector = bdy_vector_prepare(subgrid_right, j_matrix_right, id_loc, 4)\n",
    "            tensor_contracted = torch.einsum(\"ijklm, m -> ijkl\", [tensor_site, \n",
    "                                                                  right_vector])\n",
    "            layer_mpo.append(tensor_contracted)\n",
    "        layer_mpo_list.append(layer_mpo)\n",
    "    return layer_mpo_list"
   ]
  },
  {
   "cell_type": "code",
   "execution_count": 39,
   "id": "c32711b6-e3da-4884-ba81-0c3a2e3db925",
   "metadata": {},
   "outputs": [],
   "source": [
    "def right_bdy_mpo_to_mps(grid, mpo_bulk):\n",
    "    subgrid_left = grid[dims[0]-2]\n",
    "    j_matrix_left = j_matrix_list[dims[0]-2]\n",
    "    layer_mpo_list = []\n",
    "    for id_row in range(dims[1]):\n",
    "        layer_mpo = []\n",
    "        for id_col in range(dims[2]):\n",
    "            tensor_site = mpo_bulk[id_row][id_col]\n",
    "            id_loc = (id_row, id_col)\n",
    "            if dims[0] - 2 != 0:\n",
    "                left_vector = bdy_vector_prepare(subgrid_left, j_matrix_left, id_loc, 5)\n",
    "            else:\n",
    "                left_vector = bdy_vector_prepare(subgrid_left, j_matrix_left, id_loc, 4)\n",
    "            tensor_contracted = torch.einsum(\"ijklm, m -> ijkl\", [tensor_site, \n",
    "                                                                  left_vector])\n",
    "            layer_mpo.append(tensor_contracted)\n",
    "        layer_mpo_list.append(layer_mpo)\n",
    "    return layer_mpo_list"
   ]
  },
  {
   "cell_type": "code",
   "execution_count": 40,
   "id": "6861deb8-256e-438e-9988-67a71e4a7821",
   "metadata": {},
   "outputs": [],
   "source": [
    "def row_up_mpo_to_mps_create(mpo_base):\n",
    "    row_up_mps = []\n",
    "    for i in range(dims[2]):\n",
    "        tensor_up_mps = torch.squeeze(mpo_base[i])\n",
    "        row_up_mps.append(tensor_up_mps)\n",
    "    return row_up_mps"
   ]
  },
  {
   "cell_type": "code",
   "execution_count": 41,
   "id": "03d5b201-34a2-4701-b3fe-ee7b7a64855d",
   "metadata": {},
   "outputs": [],
   "source": [
    "def row_down_mps_create(subgrid, j_matrix, tensor_mpo, id_row):\n",
    "    mpo_i = tensor_mpo[id_row]\n",
    "    row_down_mps = []\n",
    "    for i in range(dims[2]):\n",
    "        tuple_down_bdy = (id_row+1, i)\n",
    "        down_bdy_vector = bdy_vector_prepare(subgrid, j_matrix, tuple_down_bdy, 3)\n",
    "        tensor_down_mps = torch.einsum(\"ijkl, j -> ikl\", [mpo_i[i], down_bdy_vector])     \n",
    "        tensor_down_mps = tensor_down_mps / tensor_down_mps.norm()\n",
    "        tensor_down_mps = torch.squeeze(tensor_down_mps)\n",
    "        row_down_mps.append(tensor_down_mps)                           \n",
    "    return row_down_mps"
   ]
  },
  {
   "cell_type": "code",
   "execution_count": 42,
   "id": "536f1adc-dd27-4c4d-82b9-cc962cabaaa6",
   "metadata": {
    "tags": []
   },
   "outputs": [],
   "source": [
    "def eat(mpo_up, mpo_down):\n",
    "    return [torch.einsum(\"ijkl, abcj-> iabkcl\", mpo_up[i], mpo_down[i]).contiguous().view(mpo_up[i].shape[0] * mpo_down[i].shape[0], \n",
    "                                                                                          mpo_down[i].shape[1], -1, mpo_up[i].shape[3]) \n",
    "            for i in range(len(mpo_up))]     "
   ]
  },
  {
   "cell_type": "code",
   "execution_count": 43,
   "id": "75fc9175-7663-4df4-b691-094884fc2488",
   "metadata": {},
   "outputs": [],
   "source": [
    "def eat_with_norm(mpo_up, mpo_down):\n",
    "    mpo_list = []\n",
    "    for i in range(len(mpo_up)):\n",
    "        mpo_i = torch.einsum(\"ijkl, abcj-> iabkcl\", mpo_up[i], mpo_down[i]).contiguous().view(mpo_up[i].shape[0] * mpo_down[i].shape[0], \n",
    "                                                                                              mpo_down[i].shape[1], -1, mpo_up[i].shape[3])\n",
    "        mpo_i = mpo_i / mpo_i.norm()\n",
    "        mpo_list.append(mpo_i)\n",
    "    return mpo_list"
   ]
  },
  {
   "cell_type": "code",
   "execution_count": 44,
   "id": "744157d5-ebfe-4de1-ac19-dfbd00fafc61",
   "metadata": {},
   "outputs": [],
   "source": [
    "def compress(mps, chi):\n",
    "    \"\"\"\n",
    "    This function comes from Prof. Pan Zhang's github. \n",
    "    https://github.com/QuantumBFS/SSSS/blob/master/2_tensor_network/tensor_contraction_simple.ipynb\n",
    "    Note: This function is extended to complex field.\n",
    "    \"\"\"\n",
    "    residual = 0\n",
    "    for i in range(len(mps)-1): # From left to right, sweep once doing qr decompositions\n",
    "        mps_i = torch.permute(mps[i], (0, 1, 3, 2))\n",
    "        Q, R = torch.qr(mps_i.contiguous().view(mps_i.shape[0]*mps_i.shape[1]*mps_i.shape[2], -1))\n",
    "        mps_i = torch.permute(Q.contiguous().view(mps_i.shape[0], mps_i.shape[1], mps_i.shape[2], -1), (0, 1, 3, 2))\n",
    "        mps[i] = mps_i.contiguous()\n",
    "        mps[i+1] = torch.einsum(\"ij, jabc->iabc\", [R, mps[i+1]])\n",
    "    for i in range(len(mps) - 1, 0, -1): # From right to left, sweep onece using svd on the tensor merged from two consecutive tensors.\n",
    "        mps_ij = torch.einsum(\"ijkl, kabc->ijlabc\", mps[i-1], mps[i]).view(mps[i-1].shape[3]*mps[i-1].shape[0]*mps[i-1].shape[1], \n",
    "                                                                           mps[i].shape[1]*mps[i].shape[2]*mps[i].shape[3])\n",
    "        [U, s, V]=torch.svd(mps_ij.contiguous())\n",
    "        s = s.to(dtype=torch.complex128)\n",
    "        mps[i] = torch.conj(V[:, :chi]).t().contiguous().view(-1, mps[i].shape[1], mps[i].shape[2], mps[i].shape[3])\n",
    "        U_reshaped = (U[:, :chi]@torch.diag(s[:chi])).contiguous().view(mps[i-1].shape[0], mps[i-1].shape[1], mps[i-1].shape[3], -1)\n",
    "        mps[i-1] = torch.permute(U_reshaped, (0, 1, 3, 2)).contiguous()        \n",
    "        tnorm = mps[i-1].norm()\n",
    "        mps[i-1] /= tnorm\n",
    "        residual += math.log(tnorm)\n",
    "    return residual, mps"
   ]
  },
  {
   "cell_type": "code",
   "execution_count": 45,
   "id": "49dd986e-97a8-4d0f-b268-0f9c67df7c52",
   "metadata": {},
   "outputs": [],
   "source": [
    "def compress_without_trunc(mps):\n",
    "    \"\"\"\n",
    "    This function comes from Prof. Pan Zhang's github. \n",
    "    https://github.com/QuantumBFS/SSSS/blob/master/2_tensor_network/tensor_contraction_simple.ipynb\n",
    "    Note: This function is extended to complex field.\n",
    "    \"\"\"\n",
    "    residual = 0\n",
    "    for i in range(len(mps)-1): # From left to right, sweep once doing qr decompositions\n",
    "        mps_i = torch.permute(mps[i], (0, 1, 3, 2))\n",
    "        Q, R = torch.qr(mps_i.contiguous().view(mps_i.shape[0]*mps_i.shape[1]*mps_i.shape[2], -1))\n",
    "        mps_i = torch.permute(Q.contiguous().view(mps_i.shape[0], mps_i.shape[1], mps_i.shape[2], -1), (0, 1, 3, 2))\n",
    "        mps[i] = mps_i.contiguous()\n",
    "        mps[i+1] = torch.einsum(\"ij, jabc->iabc\", [R, mps[i+1]])\n",
    "    return residual, mps    "
   ]
  },
  {
   "cell_type": "code",
   "execution_count": 46,
   "id": "2cf86238-03ad-41c0-b859-6b553ddfde4e",
   "metadata": {},
   "outputs": [],
   "source": [
    "def contract_up_to_down(tensor_mpo, bond_dim=20):\n",
    "    stack_mpo = []\n",
    "    mpo_orig = tensor_mpo[0]\n",
    "    stack_mpo.append(mpo_orig)\n",
    "    for i in range(1, dims[1]-1):\n",
    "        row_tensor_mpo_i = tensor_mpo[i]\n",
    "        mpo_orig = eat_with_norm(mpo_orig, row_tensor_mpo_i)\n",
    "        #_, mpo_orig = compress(mpo_orig, bond_dim)\n",
    "        #_, mpo_orig = compress_without_trunc(mpo_orig)\n",
    "        stack_mpo.append(mpo_orig)\n",
    "    return stack_mpo"
   ]
  },
  {
   "cell_type": "code",
   "execution_count": 47,
   "id": "e472201f-429e-4652-95b2-f45005119c2b",
   "metadata": {
    "tags": []
   },
   "outputs": [],
   "source": [
    "def row_sampling(j_matrix, grid_new, grid_old, id_row, mps_base, \n",
    "                 row_down_mps_new, row_down_mps_old, prob_list, id_layer, \n",
    "                 my_device=my_device):\n",
    "    stack_contract_new, stack_contract_old = [], []\n",
    "    tensor_start_new = torch.einsum(\"ij, lj -> il\", [mps_base[-1], row_down_mps_new[-1]])\n",
    "    tensor_start_old = torch.einsum(\"ij, lj -> il\", [mps_base[-1], row_down_mps_old[-1]])\n",
    "    tensor_start_new = tensor_start_new / tensor_start_new.norm()\n",
    "    tensor_start_old = tensor_start_old / tensor_start_old.norm()\n",
    "    stack_contract_new.append(tensor_start_new)\n",
    "    stack_contract_old.append(tensor_start_old)\n",
    "    for i in range(len(mps_base)-2, 0, -1):\n",
    "        tensor_i_new = torch.einsum(\"ijk, lmj -> ilkm\", [mps_base[i], row_down_mps_new[i]])\n",
    "        tensor_i_new = tensor_i_new / tensor_i_new.norm()\n",
    "        tensor_i_old = torch.einsum(\"ijk, lmj -> ilkm\", [mps_base[i], row_down_mps_old[i]])\n",
    "        tensor_i_old = tensor_i_old / tensor_i_old.norm()\n",
    "        tensor_start_new = torch.einsum(\"ijkl, kl -> ij\", [tensor_i_new, tensor_start_new])\n",
    "        tensor_start_new = tensor_start_new / tensor_start_new.norm()\n",
    "        tensor_start_old = torch.einsum(\"ijkl, kl -> ij\", [tensor_i_old, tensor_start_old])\n",
    "        tensor_start_old = tensor_start_old / tensor_start_old.norm()\n",
    "        stack_contract_new.append(tensor_start_new)\n",
    "        stack_contract_old.append(tensor_start_old)\n",
    "    ### Samping the head of the row\n",
    "    id_tensor = 0\n",
    "    tuple_down_bdy = (id_row+1, 0)\n",
    "    down_bdy_vector_new = bdy_vector_prepare(grid_new, j_matrix, tuple_down_bdy, 3)\n",
    "    down_bdy_vector_old = bdy_vector_prepare(grid_old, j_matrix, tuple_down_bdy, 3)\n",
    "    j_vector = j_matrix[id_row][0][:4]\n",
    "    _, B_down, B_right, B_up = B_tensor_prepare(j_vector)\n",
    "    tensor_right_new = stack_contract_new.pop()\n",
    "    tensor_right_old = stack_contract_old.pop()\n",
    "    tensor_right_new = torch.einsum(\"ij, mj -> im \", [tensor_right_new, B_right])\n",
    "    tensor_right_old = torch.einsum(\"ij, mj -> im \", [tensor_right_old, B_right])\n",
    "    tensor_down_new = torch.einsum(\"ij, j -> i\", [B_down, down_bdy_vector_new])\n",
    "    tensor_down_old = torch.einsum(\"ij, j -> i\", [B_down, down_bdy_vector_old])\n",
    "    tensor_up = mps_base[id_tensor]\n",
    "    tensor_up = torch.einsum(\"jk, jl -> lk\", [tensor_up, B_up])\n",
    "    ### tensor_up shape lk\n",
    "    tensor_up_right_new = torch.einsum(\"ij, jm -> im\", [tensor_up, tensor_right_new])\n",
    "    tensor_up_right_old = torch.einsum(\"ij, jm -> im\", [tensor_up, tensor_right_old])\n",
    "    ########################################################################################\n",
    "    id_loc = [id_row, id_tensor]\n",
    "    bdy_vector_list = layer_vector_create(id_loc, id_layer)\n",
    "    if id_layer == 0 or id_layer == dims[0] - 1:\n",
    "        z_four_edge_new = torch.einsum(\"ij, k, l -> ijkl\", [tensor_up_right_new, tensor_down_new, \n",
    "                                                            bdy_vector_list[0]])\n",
    "        z_four_edge_old = torch.einsum(\"ij, k, l -> ijkl\", [tensor_up_right_old, tensor_down_old, \n",
    "                                                            bdy_vector_list[0]])\n",
    "        z_up_new = torch.einsum(\"ijkl, ijkl -> \", [z_four_edge_new, I_4_up])\n",
    "        z_down_new = torch.einsum(\"ijkl, ijkl -> \", [z_four_edge_new, I_4_down])\n",
    "        z_up_old = torch.einsum(\"ijkl, ijkl -> \", [z_four_edge_old, I_4_up])\n",
    "        z_down_old = torch.einsum(\"ijkl, ijkl -> \", [z_four_edge_old, I_4_down])\n",
    "    else:\n",
    "        z_five_edge_new = torch.einsum(\"ij, k, l, m -> ijklm\", [tensor_up_right_new, tensor_down_new, \n",
    "                                                                bdy_vector_list[0], bdy_vector_list[1]])\n",
    "        z_five_edge_old = torch.einsum(\"ij, k, l, m -> ijklm\", [tensor_up_right_old, tensor_down_old, \n",
    "                                                                bdy_vector_list[0], bdy_vector_list[1]])\n",
    "        z_up_new = torch.einsum(\"ijklm, ijklm -> \", [z_five_edge_new, I_5_up])\n",
    "        z_down_new = torch.einsum(\"ijklm, ijklm -> \", [z_five_edge_new, I_5_down])\n",
    "        z_up_old = torch.einsum(\"ijklm, ijklm -> \", [z_five_edge_old, I_5_up])\n",
    "        z_down_old = torch.einsum(\"ijklm, ijklm -> \", [z_five_edge_old, I_5_down])        \n",
    "    ########################################################################################\n",
    "    z_new = z_up_new + z_down_new\n",
    "    z_old = z_up_old + z_down_old\n",
    "    prob_up_real_new, prob_down_real_new = z_up_new.real / z_new.real, z_down_new.real / z_new.real\n",
    "    prob_up_real_old, prob_down_real_old = z_up_old.real / z_old.real, z_down_old.real / z_old.real\n",
    "    prob_new, site = (prob_up_real_new, prob_down_real_new), (id_row, 0)\n",
    "    prob_old = (prob_up_real_old, prob_down_real_old)\n",
    "    prob_tensor = (prob_new, prob_old)\n",
    "    grid_new, spin_vector_new, spin_vector_old, prob_list = mh_prop_tensor(grid_new, grid_old, site, \n",
    "                                                                           prob_tensor, prob_list)     \n",
    "    #print(z)\n",
    "    #print(prob_up_real)\n",
    "    tensor_up_new = torch.einsum(\"ij, i -> j\", [tensor_up, spin_vector_new])\n",
    "    tensor_up_old = torch.einsum(\"ij, i -> j\", [tensor_up, spin_vector_old])\n",
    "    tensor_up_new = tensor_up_new / tensor_up_new.norm()\n",
    "    tensor_up_old = tensor_up_old / tensor_up_old.norm()\n",
    "    id_tensor += 1\n",
    "    tuple_right_bdy = (id_row, 0)\n",
    "    ### Sampling the body of the row\n",
    "    for i in range(1, dims[2]-1):\n",
    "        j_vector = j_matrix[id_row][i][:4]\n",
    "        tuple_left_bdy = (id_row, i-1)\n",
    "        tuple_down_bdy = (id_row+1, i)\n",
    "        left_bdy_vector_new = bdy_vector_prepare(grid_new, j_matrix, tuple_left_bdy, 2)\n",
    "        left_bdy_vector_old = bdy_vector_prepare(grid_old, j_matrix, tuple_left_bdy, 2)\n",
    "        down_bdy_vector_new = bdy_vector_prepare(grid_new, j_matrix, tuple_down_bdy, 3)\n",
    "        down_bdy_vector_old = bdy_vector_prepare(grid_old, j_matrix, tuple_down_bdy, 3)                                                \n",
    "        B_left, B_down, B_right, B_up = B_tensor_prepare(j_vector)\n",
    "        tensor_right_new = stack_contract_new.pop()\n",
    "        tensor_right_old = stack_contract_old.pop()\n",
    "        tensor_right_new = torch.einsum(\"ij, mj -> im\", [tensor_right_new, B_right])\n",
    "        tensor_right_old = torch.einsum(\"ij, mj -> im\", [tensor_right_old, B_right])\n",
    "        tensor_left_new = torch.einsum(\"ij, j -> i\", [B_left, left_bdy_vector_new])\n",
    "        tensor_left_old = torch.einsum(\"ij, j -> i\", [B_left, left_bdy_vector_old])\n",
    "        tensor_up_new = torch.einsum(\"i, ikl, km -> ml\", [tensor_up_new, mps_base[id_tensor], B_up])\n",
    "        tensor_up_old = torch.einsum(\"i, ikl, km -> ml\", [tensor_up_old, mps_base[id_tensor], B_up])\n",
    "        tensor_up_right_new = torch.einsum(\"ij, jl -> il\", [tensor_up_new, tensor_right_new])\n",
    "        tensor_up_right_old = torch.einsum(\"ij, jl -> il\", [tensor_up_old, tensor_right_old])\n",
    "        tensor_down_new = torch.einsum(\"ij, j -> i\", [B_down, down_bdy_vector_new])\n",
    "        tensor_down_old = torch.einsum(\"ij, j -> i\", [B_down, down_bdy_vector_old])\n",
    "        ##########################################################################################################\n",
    "        id_loc = [id_row, i]\n",
    "        bdy_vector_list = layer_vector_create(id_loc, id_layer)\n",
    "        if id_layer == 0 or id_layer == dims[0] - 1:\n",
    "            z_five_edge_new = torch.einsum(\"ij, k, l, m -> ijklm\", [tensor_up_right_new, tensor_down_new, tensor_left_new, \n",
    "                                                                    bdy_vector_list[0]])\n",
    "            z_five_edge_old = torch.einsum(\"ij, k, l, m -> ijklm\", [tensor_up_right_old, tensor_down_old, tensor_left_old, \n",
    "                                                                    bdy_vector_list[0]])    \n",
    "            z_up_new = torch.einsum(\"ijklm, ijklm -> \", [z_five_edge_new, I_5_up])\n",
    "            z_down_new = torch.einsum(\"ijklm, ijklm -> \", [z_five_edge_new, I_5_down])\n",
    "            z_up_old = torch.einsum(\"ijklm, ijklm -> \", [z_five_edge_old, I_5_up])\n",
    "            z_down_old = torch.einsum(\"ijklm, ijklm -> \", [z_five_edge_old, I_5_down])\n",
    "        else:\n",
    "            z_six_edge_new = torch.einsum(\"ij, k, l, m, n -> ijklmn\", [tensor_up_right_new, tensor_down_new, tensor_left_new, \n",
    "                                                                        bdy_vector_list[0], bdy_vector_list[1]])\n",
    "            z_six_edge_old = torch.einsum(\"ij, k, l, m, n -> ijklmn\", [tensor_up_right_old, tensor_down_old, tensor_left_old, \n",
    "                                                                        bdy_vector_list[0], bdy_vector_list[1]])    \n",
    "            z_up_new = torch.einsum(\"ijklmn, ijklmn -> \", [z_six_edge_new, I_6_up])\n",
    "            z_down_new = torch.einsum(\"ijklmn, ijklmn -> \", [z_six_edge_new, I_6_down])\n",
    "            z_up_old = torch.einsum(\"ijklmn, ijklmn -> \", [z_six_edge_old, I_6_up])\n",
    "            z_down_old = torch.einsum(\"ijklmn, ijklmn -> \", [z_six_edge_old, I_6_down])            \n",
    "        ##########################################################################################################\n",
    "        z_new = z_up_new + z_down_new\n",
    "        z_old = z_up_old + z_down_old\n",
    "        prob_up_real_new, prob_down_real_new = z_up_new.real / z_new.real, z_down_new.real / z_new.real\n",
    "        prob_up_real_old, prob_down_real_old = z_up_old.real / z_old.real, z_down_old.real / z_old.real\n",
    "        prob_new, prob_old = (prob_up_real_new, prob_down_real_new), (prob_up_real_old, prob_down_real_old)\n",
    "        site = (id_row, i)\n",
    "        prob_tensor = (prob_new, prob_old)\n",
    "        grid_new, spin_vector_new, spin_vector_old, prob_list = mh_prop_tensor(grid_new, grid_old, site, \n",
    "                                                                               prob_tensor, prob_list)     \n",
    "        #print(z)\n",
    "        #print(prob_up_real)\n",
    "        #print(z_up/z)\n",
    "        tensor_up_new = torch.einsum(\"ij, i -> j\", [tensor_up_new, spin_vector_new])\n",
    "        tensor_up_old = torch.einsum(\"ij, i -> j\", [tensor_up_old, spin_vector_old])\n",
    "        tensor_up_new = tensor_up_new / tensor_up_new.norm()\n",
    "        tensor_up_old = tensor_up_old / tensor_up_old.norm()\n",
    "        id_tensor += 1\n",
    "    ### Sampling the end of the row\n",
    "    j_vec = j_matrix[id_row][dims[2]-1][:4]\n",
    "    B_left, B_down, B_right, B_up = B_tensor_prepare(j_vec)\n",
    "    tuple_left_bdy = (id_row, dims[2]-2)\n",
    "    tuple_down_bdy = (id_row+1, dims[2]-1)\n",
    "    left_bdy_vector_new = bdy_vector_prepare(grid_new, j_matrix, tuple_left_bdy, 2)\n",
    "    left_bdy_vector_old = bdy_vector_prepare(grid_old, j_matrix, tuple_left_bdy, 2)\n",
    "    down_bdy_vector_new = bdy_vector_prepare(grid_new, j_matrix, tuple_down_bdy, 3)\n",
    "    down_bdy_vector_old = bdy_vector_prepare(grid_old, j_matrix, tuple_down_bdy, 3)    \n",
    "    tensor_down_new = torch.einsum(\"ij, j -> i\", [B_down, down_bdy_vector_new])\n",
    "    tensor_down_old = torch.einsum(\"ij, j -> i\", [B_down, down_bdy_vector_old])\n",
    "    tensor_left_new = torch.einsum(\"ij, j -> i\", [B_left, left_bdy_vector_new])\n",
    "    tensor_left_old = torch.einsum(\"ij, j -> i\", [B_left, left_bdy_vector_old])\n",
    "    tensor_up_new = torch.einsum(\"i, ij, jl -> l\", [tensor_up_new, mps_base[id_tensor], B_up])\n",
    "    tensor_up_old = torch.einsum(\"i, ij, jl -> l\", [tensor_up_old, mps_base[id_tensor], B_up])\n",
    "    ############################################################################################\n",
    "    id_loc = [id_row, dims[2]-1]\n",
    "    bdy_vector_list = layer_vector_create(id_loc, id_layer)    \n",
    "    if id_layer == 0 or id_layer == dims[0] - 1:\n",
    "        z_four_edge_new = torch.einsum(\"i, j, k, l -> ijkl\", [tensor_up_new, tensor_down_new, \n",
    "                                                              tensor_left_new, bdy_vector_list[0]])\n",
    "        z_four_edge_old = torch.einsum(\"i, j, k, l -> ijkl\", [tensor_up_old, tensor_down_old, \n",
    "                                                              tensor_left_old, bdy_vector_list[0]])\n",
    "        z_up_new = torch.einsum(\"ijkl, ijkl -> \", [z_four_edge_new, I_4_up])\n",
    "        z_down_new = torch.einsum(\"ijkl, ijkl -> \", [z_four_edge_new, I_4_down])\n",
    "        z_up_old = torch.einsum(\"ijkl, ijkl -> \", [z_four_edge_old, I_4_up])\n",
    "        z_down_old = torch.einsum(\"ijkl, ijkl -> \", [z_four_edge_old, I_4_down])\n",
    "    else:\n",
    "        z_five_edge_new = torch.einsum(\"i, j, k, l, m -> ijklm\", [tensor_up_new, tensor_down_new, \n",
    "                                                                  tensor_left_new, bdy_vector_list[0], \n",
    "                                                                  bdy_vector_list[1]])\n",
    "        z_five_edge_old = torch.einsum(\"i, j, k, l, m -> ijklm\", [tensor_up_old, tensor_down_old, \n",
    "                                                                  tensor_left_old, bdy_vector_list[0], \n",
    "                                                                  bdy_vector_list[1]])\n",
    "        z_up_new = torch.einsum(\"ijklm, ijklm -> \", [z_five_edge_new, I_5_up])\n",
    "        z_down_new = torch.einsum(\"ijklm, ijklm -> \", [z_five_edge_new, I_5_down])\n",
    "        z_up_old = torch.einsum(\"ijklm, ijklm -> \", [z_five_edge_old, I_5_up])\n",
    "        z_down_old = torch.einsum(\"ijklm, ijklm -> \", [z_five_edge_old, I_5_down])        \n",
    "    ############################################################################################\n",
    "    z_new = z_up_new + z_down_new\n",
    "    z_old = z_up_old + z_down_old\n",
    "    prob_up_real_new, prob_down_real_new = z_up_new.real / z_new.real, z_down_new.real / z_new.real\n",
    "    prob_up_real_old, prob_down_real_old = z_up_old.real / z_old.real, z_down_old.real / z_old.real\n",
    "    prob_new, site = (prob_up_real_new, prob_down_real_new), (id_row, dims[1]-1)\n",
    "    prob_old = (prob_up_real_old, prob_down_real_old)\n",
    "    prob_tensor = (prob_new, prob_old)\n",
    "    grid_new, _, _, prob_list = mh_prop_tensor(grid_new, grid_old, site, \n",
    "                                               prob_tensor, prob_list)    \n",
    "    #print(z)\n",
    "    #print(prob_up_real)\n",
    "    #print(z_up/z)\n",
    "    return grid_new, prob_list"
   ]
  },
  {
   "cell_type": "code",
   "execution_count": 48,
   "id": "b2d3d382-1a78-4171-a296-33653c37a49a",
   "metadata": {},
   "outputs": [],
   "source": [
    "def mh_prop_tensor(grid_new, grid_old, site, prob_tensor, prob_list, my_device=my_device):\n",
    "    prob_tensor_new, prob_tensor_old = prob_tensor  \n",
    "    prob_list_new, prob_list_old = prob_list\n",
    "    prob_rand = np.random.random()\n",
    "    if prob_rand < prob_tensor_new[0]:\n",
    "        spin_vector_new = torch.tensor([1, 0], dtype=torch.complex128, device=my_device)\n",
    "        spin_new = 1\n",
    "        prob_list_new.append(prob_tensor_new[0])\n",
    "    else:\n",
    "        spin_vector_new = torch.tensor([0, 1], dtype=torch.complex128, device=my_device)\n",
    "        spin_new = -1\n",
    "        prob_list_new.append(prob_tensor_new[1])\n",
    "    grid_new[site[0]][site[1]] = spin_new\n",
    "    if grid_old[site[0]][site[1]] == 1:\n",
    "        spin_vector_old = torch.tensor([1, 0], dtype=torch.complex128, device=my_device)\n",
    "        prob_list_old.append(prob_tensor_old[0])\n",
    "    else:\n",
    "        spin_vector_old = torch.tensor([0, 1], dtype=torch.complex128, device=my_device)\n",
    "        prob_list_old.append(prob_tensor_old[1])        \n",
    "    prob_list = (prob_list_new, prob_list_old)\n",
    "    return grid_new, spin_vector_new, spin_vector_old, prob_list"
   ]
  },
  {
   "cell_type": "code",
   "execution_count": 49,
   "id": "c86ef655-c750-44c7-97b2-bedf374f0523",
   "metadata": {},
   "outputs": [],
   "source": [
    "def layer_vector_create(id_loc, id_layer):\n",
    "    j_matrix = j_matrix_list[id_layer]\n",
    "    j_vector = j_matrix[id_loc[0]][id_loc[1]] \n",
    "    B_left, B_down, B_right, B_up, B_left_layer, B_right_layer = B_tensor_prepare(j_vector)\n",
    "    bdy_vector_list = []\n",
    "    if id_layer == 0:\n",
    "        pos_index = 4 \n",
    "        subgrid = grid_3d[id_layer+1]\n",
    "        j_matrix = j_matrix_list[id_layer+1]\n",
    "        right_vector = bdy_vector_prepare(subgrid, j_matrix, id_loc, pos_index)\n",
    "        B_layer = B_left_layer\n",
    "        right_vector = torch.einsum(\"ij, j -> i\", [B_layer, right_vector])\n",
    "        bdy_vector_list.append(right_vector)\n",
    "    elif id_layer == dims[0] - 1:\n",
    "        if id_layer - 1 == 0:\n",
    "            pos_index = 4\n",
    "        else:\n",
    "            pos_index = 5\n",
    "        subgrid = grid_3d[id_layer-1]\n",
    "        j_matrix = j_matrix_list[id_layer-1]\n",
    "        left_vector = bdy_vector_prepare(subgrid, j_matrix, id_loc, pos_index)\n",
    "        B_layer = B_left_layer\n",
    "        left_vector = torch.einsum(\"ij, j -> i\", [B_layer, left_vector])\n",
    "        bdy_vector_list.append(left_vector)\n",
    "    else:\n",
    "        if id_layer - 1 == 0:\n",
    "            pos_index_left = 4\n",
    "        else:\n",
    "            pos_index_left = 5\n",
    "        pos_index_right = 4\n",
    "        subgrid_left = grid_3d[id_layer-1]\n",
    "        subgrid_right = grid_3d[id_layer+1]\n",
    "        j_matrix_left = j_matrix_list[id_layer-1]\n",
    "        j_matrix_right = j_matrix_list[id_layer+1]\n",
    "        left_vector = bdy_vector_prepare(subgrid_left, j_matrix_left, \n",
    "                                         id_loc, pos_index_left)\n",
    "        right_vector = bdy_vector_prepare(subgrid_right, j_matrix_right, \n",
    "                                          id_loc, pos_index_right)     \n",
    "        left_vector = torch.einsum(\"ij, j -> i\", [B_left_layer, left_vector])\n",
    "        right_vector = torch.einsum(\"ij, j -> i\", [B_right_layer, right_vector])        \n",
    "        bdy_vector_list += [left_vector, right_vector]\n",
    "    return bdy_vector_list"
   ]
  },
  {
   "cell_type": "code",
   "execution_count": 50,
   "id": "21000282-3cdc-47e2-baf6-b4b465b30533",
   "metadata": {},
   "outputs": [],
   "source": [
    "def down_row_sampling(j_matrix, grid_new, grid_old, tensor_mpo, mpo_base, prob_list, id_layer, my_device=my_device):\n",
    "    id_row = dims[1] - 1\n",
    "    stack_contract = []\n",
    "    tensor_start = torch.einsum(\"ijkl, mlnj -> imkn\", [mpo_base[-1], tensor_mpo[-1][-1]])\n",
    "    tensor_start = torch.squeeze(tensor_start)\n",
    "    tensor_start = tensor_start / tensor_start.norm()\n",
    "    #print(tensor_start.shape)\n",
    "    ### tensor_start shape il\n",
    "    stack_contract.append(tensor_start)\n",
    "    for i in range(dims[1]-2, 0, -1):\n",
    "        tensor_i = torch.einsum(\"ijkl, mlnj -> imkn\", [mpo_base[i], tensor_mpo[-1][i]])\n",
    "        tensor_i = torch.squeeze(tensor_i)\n",
    "        tensor_i = tensor_i / tensor_i.norm()\n",
    "        tensor_start = torch.einsum(\"ijkl, kl -> ij\", [tensor_i, tensor_start])\n",
    "        tensor_start = tensor_start / tensor_start.norm()\n",
    "        stack_contract.append(tensor_start)\n",
    "    ##########################################################\n",
    "    ### Samping the head of the row\n",
    "    id_tensor = 0\n",
    "    id_loc = [id_row, id_tensor]\n",
    "    bdy_vector_list = layer_vector_create(id_loc, id_layer)\n",
    "    #################################################################\n",
    "    #################################################################\n",
    "    j_vector = j_matrix[id_row][id_tensor][:4]\n",
    "    B_left, B_down, B_right, B_up = B_tensor_prepare(j_vector)\n",
    "    tensor_right = stack_contract.pop()\n",
    "    tensor_right = torch.einsum(\"ij, jl -> il\", [tensor_right, B_right])\n",
    "    tensor_up = mpo_base[id_tensor]\n",
    "    tensor_up = torch.einsum(\"ijkl, jm -> imkl\", [tensor_up, B_up])\n",
    "    tensor_up = torch.squeeze(tensor_up)    \n",
    "    ###################################################################\n",
    "    tensors_list = bdy_vector_list + [tensor_right, tensor_up]\n",
    "    if id_layer == 0 or id_layer == dims[0] - 1:\n",
    "        z_three = torch.einsum(\"k, ij, li -> klj\", tensors_list)\n",
    "        z_up = torch.einsum(\"ijk, ijk -> \", [z_three, I_3_up])\n",
    "        z_down = torch.einsum(\"ijk, ijk -> \", [z_three, I_3_down])\n",
    "    else:\n",
    "        z_four = torch.einsum(\"k, m, ij, li -> kmlj\", tensors_list)\n",
    "        z_up = torch.einsum(\"ijkl, ijkl -> \", [z_four, I_up])\n",
    "        z_down = torch.einsum(\"ijkl, ijkl -> \", [z_four, I_down])\n",
    "    #print(z_up.real + z_down.real)\n",
    "    prob_up = z_up.real / (z_up.real + z_down.real)\n",
    "    prob_down = z_down.real / (z_up.real + z_down.real)\n",
    "    ###################################################################\n",
    "    ### tensor_up shape lk\n",
    "    #print(z)\n",
    "    #print(prob_up_real)\n",
    "    prob_new, prob_old, site = (prob_up, prob_down), (prob_up, prob_down), (id_row, 0)\n",
    "    prob_tensor = (prob_new, prob_old)\n",
    "    grid_new, spin_vector_new, spin_vector_old, prob_list = mh_prop_tensor(grid_new, grid_old, site, \n",
    "                                                                           prob_tensor, prob_list) \n",
    "    tensor_up_new = torch.einsum(\"ij, i -> j\", [tensor_up, spin_vector_new])\n",
    "    tensor_up_old = torch.einsum(\"ij, i -> j\", [tensor_up, spin_vector_old])    \n",
    "    tensor_up_new = tensor_up_new / tensor_up_new.norm()\n",
    "    tensor_up_old = tensor_up_old / tensor_up_old.norm()\n",
    "    id_tensor += 1\n",
    "    ### Sampling the body of the row\n",
    "    for i in range(1, dims[2]-1):\n",
    "        j_vector = j_matrix[id_row][i][:4]\n",
    "        tuple_left_bdy = (id_row, i-1)\n",
    "        left_bdy_vector_new = bdy_vector_prepare(grid_new, j_matrix, tuple_left_bdy, 2)\n",
    "        left_bdy_vector_old = bdy_vector_prepare(grid_old, j_matrix, tuple_left_bdy, 2)\n",
    "        B_left, B_down, B_right, B_up = B_tensor_prepare(j_vector)\n",
    "        tensor_right = stack_contract.pop()\n",
    "        tensor_right = torch.einsum(\"ij, mj -> im\", [tensor_right, B_right])\n",
    "        tensor_left_new = torch.einsum(\"ij, j -> i\", [B_left, left_bdy_vector_new])\n",
    "        tensor_left_old = torch.einsum(\"ij, j -> i\", [B_left, left_bdy_vector_old])\n",
    "        tensor_up_new = torch.einsum(\"i, iklm, ko -> olm\", [tensor_up_new, mpo_base[id_tensor], B_up])\n",
    "        tensor_up_new = torch.squeeze(tensor_up_new)\n",
    "        tensor_up_old = torch.einsum(\"i, iklm, ko -> olm\", [tensor_up_old, mpo_base[id_tensor], B_up])\n",
    "        tensor_up_old = torch.squeeze(tensor_up_old)\n",
    "        tensor_up_right_new = torch.einsum(\"ij, jm -> im\", [tensor_up_new, tensor_right])\n",
    "        tensor_up_right_old = torch.einsum(\"ij, jm -> im\", [tensor_up_old, tensor_right])\n",
    "        #######################################################################################\n",
    "        id_loc = (id_row, i)\n",
    "        bdy_vector_list = layer_vector_create(id_loc, id_layer)\n",
    "        if id_layer == 0 or id_layer == dims[0] - 1:\n",
    "            z_four_edge_new = torch.einsum(\"ij, k, l -> ijkl\", [tensor_up_right_new, tensor_left_new, \n",
    "                                                                bdy_vector_list[0]])\n",
    "            z_four_edge_old = torch.einsum(\"ij, k, l -> ijkl\", [tensor_up_right_old, tensor_left_old, \n",
    "                                                                bdy_vector_list[0]])\n",
    "            z_up_new = torch.einsum(\"ijkl, ijkl -> \", [z_four_edge_new, I_4_up])\n",
    "            z_down_new = torch.einsum(\"ijkl, ijkl -> \", [z_four_edge_new, I_4_down])\n",
    "            z_up_old = torch.einsum(\"ijkl, ijkl -> \", [z_four_edge_old, I_4_up])\n",
    "            z_down_old = torch.einsum(\"ijkl, ijkl -> \", [z_four_edge_old, I_4_down])\n",
    "        else:\n",
    "            z_five_edge_new = torch.einsum(\"ij, k, l, m -> ijklm\", [tensor_up_right_new, tensor_left_new, \n",
    "                                                                    bdy_vector_list[0], bdy_vector_list[1]])\n",
    "            z_five_edge_old = torch.einsum(\"ij, k, l, m -> ijklm\", [tensor_up_right_old, tensor_left_old, \n",
    "                                                                    bdy_vector_list[0], bdy_vector_list[1]])\n",
    "            z_up_new = torch.einsum(\"ijklm, ijklm -> \", [z_five_edge_new, I_5_up])\n",
    "            z_down_new = torch.einsum(\"ijklm, ijklm -> \", [z_five_edge_new, I_5_down])\n",
    "            z_up_old = torch.einsum(\"ijklm, ijklm -> \", [z_five_edge_old, I_5_up])\n",
    "            z_down_old = torch.einsum(\"ijklm, ijklm -> \", [z_five_edge_old, I_5_down])            \n",
    "        #######################################################################################\n",
    "        z_new = z_up_new + z_down_new\n",
    "        z_old = z_up_old + z_down_old\n",
    "        prob_up_new, prob_down_new = z_up_new.real / z_new.real, z_down_new.real / z_new.real\n",
    "        prob_up_old, prob_down_old = z_up_old.real / z_old.real, z_down_old.real / z_old.real\n",
    "        #print(z)\n",
    "        #print(prob_up_real)\n",
    "        #print(z_up/z)\n",
    "        tuple_up_bdy, site = (dims[1]-1, i), (id_row, i)\n",
    "        prob_new = (prob_up_new, prob_down_new)\n",
    "        prob_old = (prob_up_old, prob_down_old)\n",
    "        prob_tensor = (prob_new, prob_old)\n",
    "        grid_new, spin_vector_new, spin_vector_old, prob_list = mh_prop_tensor(grid_new, grid_old, site, \n",
    "                                                                               prob_tensor, prob_list)\n",
    "        tensor_up_new = torch.einsum(\"ij, i -> j\", [tensor_up_new, spin_vector_new])\n",
    "        tensor_up_old = torch.einsum(\"ij, i -> j\", [tensor_up_old, spin_vector_old])\n",
    "        tensor_up_new = tensor_up_new / tensor_up_new.norm()\n",
    "        tensor_up_old = tensor_up_old / tensor_up_old.norm()\n",
    "        id_tensor += 1\n",
    "    ### Sampling the end of the row\n",
    "    j_vec = j_matrix[id_row][dims[2]-1][:4]\n",
    "    B_left, B_down, _, B_up = B_tensor_prepare(j_vec)\n",
    "    tuple_left_bdy = (id_row, dims[2]-2)\n",
    "    left_bdy_vector_new = bdy_vector_prepare(grid_new, j_matrix, tuple_left_bdy, 2)\n",
    "    left_bdy_vector_old = bdy_vector_prepare(grid_old, j_matrix, tuple_left_bdy, 2)\n",
    "    tensor_left_new = torch.einsum(\"ij, j -> i\", [B_left, left_bdy_vector_new])\n",
    "    tensor_left_old = torch.einsum(\"ij, j -> i\", [B_left, left_bdy_vector_old])\n",
    "    tensor_up_new = torch.einsum(\"i, ijkl, jm -> mkl\", [tensor_up_new, mpo_base[id_tensor], B_up])\n",
    "    tensor_up_new = torch.squeeze(tensor_up_new)\n",
    "    tensor_up_old = torch.einsum(\"i, ijkl, jm -> mkl\", [tensor_up_old, mpo_base[id_tensor], B_up])\n",
    "    tensor_up_old = torch.squeeze(tensor_up_old)\n",
    "    ################################################################################################\n",
    "    id_loc = (id_row, dims[2]-1)\n",
    "    bdy_vector_list = layer_vector_create(id_loc, id_layer)\n",
    "    if id_layer == 0 or id_layer == dims[0] - 1:\n",
    "        z_three_edge_new = torch.einsum(\"i, j, l -> ijl\", [tensor_up_new, tensor_left_new, \n",
    "                                                           bdy_vector_list[0]])\n",
    "        z_three_edge_old = torch.einsum(\"i, j, l -> ijl\", [tensor_up_old, tensor_left_old, \n",
    "                                                           bdy_vector_list[0]])\n",
    "        z_up_new = torch.einsum(\"ijk, ijk -> \", [z_three_edge_new, I_3_up])\n",
    "        z_down_new = torch.einsum(\"ijk, ijk -> \", [z_three_edge_new, I_3_down])\n",
    "        z_up_old = torch.einsum(\"ijk, ijk -> \", [z_three_edge_old, I_3_up])\n",
    "        z_down_old = torch.einsum(\"ijk, ijk -> \", [z_three_edge_old, I_3_down])\n",
    "    else:\n",
    "        z_four_edge_new = torch.einsum(\"i, j, l, m -> ijlm\", [tensor_up_new, tensor_left_new, \n",
    "                                                              bdy_vector_list[0], bdy_vector_list[1]])\n",
    "        z_four_edge_old = torch.einsum(\"i, j, l, m -> ijlm\", [tensor_up_old, tensor_left_old, \n",
    "                                                              bdy_vector_list[0], bdy_vector_list[1]])\n",
    "        z_up_new = torch.einsum(\"ijkl, ijkl -> \", [z_four_edge_new, I_4_up])\n",
    "        z_down_new = torch.einsum(\"ijkl, ijkl -> \", [z_four_edge_new, I_4_down])\n",
    "        z_up_old = torch.einsum(\"ijkl, ijkl -> \", [z_four_edge_old, I_4_up])\n",
    "        z_down_old = torch.einsum(\"ijkl, ijkl -> \", [z_four_edge_old, I_4_down])\n",
    "    ###############################################################################################\n",
    "    z_new = z_up_new + z_down_new\n",
    "    z_old = z_up_old + z_down_old\n",
    "    prob_up_real_new, prob_down_real_new = z_up_new.real / z_new.real, z_down_new.real / z_new.real\n",
    "    prob_up_real_old, prob_down_real_old = z_up_old.real / z_old.real, z_down_old.real / z_old.real\n",
    "    prob_new = (prob_up_real_new, prob_down_real_new)\n",
    "    prob_old = (prob_up_real_old, prob_down_real_old)\n",
    "    prob_tensor = (prob_new, prob_old)\n",
    "    site = (id_row, dims[1]-1)\n",
    "    grid_new, _, _, prob_list = mh_prop_tensor(grid_new, grid_old, site, prob_tensor, prob_list)\n",
    "    #print(z)\n",
    "    #print(prob_up_real)\n",
    "    #print(z_up/z)\n",
    "    return grid_new, prob_list"
   ]
  },
  {
   "cell_type": "code",
   "execution_count": 51,
   "id": "4ec3f390-b245-4e54-bda2-92908cb05fc6",
   "metadata": {},
   "outputs": [],
   "source": [
    "def mps_contract(mps_up, mps_down):\n",
    "    tensor_start = torch.einsum(\"ijk, lmj -> ilkm\", [mps_up[0], mps_down[0]])\n",
    "    tensor_start = torch.squeeze(tensor_start)\n",
    "    for i in range(1, len(mps_up)-1):\n",
    "        tensor_i = torch.einsum(\"ijk, lmj -> ilkm\", [mps_up[i], mps_down[i]])\n",
    "        tensor_start = torch.einsum(\"ij, ijkl -> kl\", [tensor_start, tensor_i])\n",
    "    tensor_end = torch.einsum(\"iml, jkm -> ijlk\", [mps_up[-1], mps_down[-1]])\n",
    "    tensor_end = torch.squeeze(tensor_end)\n",
    "    z = torch.einsum(\"ij, ij -> \", [tensor_start, tensor_end])\n",
    "    return z"
   ]
  },
  {
   "cell_type": "code",
   "execution_count": 52,
   "id": "194098b5-110f-4a4f-8416-dfa1671175ae",
   "metadata": {},
   "outputs": [],
   "source": [
    "def prob_process(prob_tensor, epsilon):\n",
    "    prob_up_tensor, prob_down_tensor = prob_tensor\n",
    "    if prob_up_tensor < epsilon:\n",
    "        prob_up_tensor, prob_down_tensor = epsilon, 1 - epsilon\n",
    "    elif prob_down_tensor < epsilon:\n",
    "        prob_up_tensor, prob_down_tensor = 1 - epsilon, epsilon\n",
    "    prob_tensor = (prob_up_tensor, prob_down_tensor)\n",
    "    return prob_tensor"
   ]
  },
  {
   "cell_type": "code",
   "execution_count": 53,
   "id": "e2ce9efc-6762-4f71-b2cb-0e0f7d2d15d0",
   "metadata": {
    "tags": []
   },
   "outputs": [],
   "source": [
    "def base_row_sampling(j_matrix, grid_new, grid_old, tensor_mpo, prob_list, id_layer):\n",
    "    id_row = 0\n",
    "    base_row_mps_new = row_down_mps_create(grid_new, j_matrix, tensor_mpo, id_row)\n",
    "    base_row_mps_old = row_down_mps_create(grid_old, j_matrix, tensor_mpo, id_row)\n",
    "    stack_contract_new, stack_contract_old = [], []\n",
    "    tuple_up_bdy = (dims[0]-1, dims[1]-1)\n",
    "    #up_bdy_vector = bdy_vector_prepare(grid, tuple_up_bdy, 1)\n",
    "    tensor_start_new = torch.squeeze(base_row_mps_new[-1])\n",
    "    tensor_start_old = torch.squeeze(base_row_mps_old[-1])\n",
    "    #tensor_start = torch.einsum(\"ijk, k -> ij\", [base_row_mps[-1], up_bdy_vector])\n",
    "    ### tensor_start shape i\n",
    "    id_tensor = -2\n",
    "    stack_contract_new.append(tensor_start_new)\n",
    "    stack_contract_old.append(tensor_start_old)\n",
    "    for i in range(dims[2]-2, 0, -1):\n",
    "        #tuple_up_bdy = (dims[0]-1, i)\n",
    "        #up_bdy_vector = bdy_vector_prepare(grid, tuple_up_bdy, 1)\n",
    "        tensor_i_new = torch.squeeze(base_row_mps_new[id_tensor])\n",
    "        tensor_i_old = torch.squeeze(base_row_mps_old[id_tensor])\n",
    "        tensor_start_new = torch.einsum(\"ik, k -> i\", [tensor_i_new, tensor_start_new])\n",
    "        tensor_start_old = torch.einsum(\"ik, k -> i\", [tensor_i_old, tensor_start_old])\n",
    "        stack_contract_new.append(tensor_start_new)\n",
    "        stack_contract_old.append(tensor_start_old)\n",
    "        id_tensor -= 1\n",
    "    ### Samping the head of the row\n",
    "    id_tensor = 0\n",
    "    j_vector = j_matrix[id_row][0][:4]\n",
    "    _, B_down, B_right, B_up = B_tensor_prepare(j_vector)\n",
    "    tuple_down_bdy = (1, 0)\n",
    "    down_bdy_vector_new = bdy_vector_prepare(grid_new, j_matrix, tuple_down_bdy, 3)\n",
    "    down_bdy_vector_old = bdy_vector_prepare(grid_old, j_matrix, tuple_down_bdy, 3)\n",
    "    tensor_right_new = stack_contract_new.pop()\n",
    "    tensor_right_old = stack_contract_old.pop()\n",
    "    tensor_right_new = torch.einsum(\"i, mi -> m\", [tensor_right_new, B_right])\n",
    "    tensor_right_old = torch.einsum(\"i, mi -> m\", [tensor_right_old, B_right])\n",
    "    tensor_down_new = torch.einsum(\"ij, j -> i\", [B_down, down_bdy_vector_new])\n",
    "    tensor_down_old = torch.einsum(\"ij, j -> i\", [B_down, down_bdy_vector_old])\n",
    "    #####################################################################################\n",
    "    id_loc = (id_row, id_tensor)\n",
    "    bdy_vector_list = layer_vector_create(id_loc, id_layer)    \n",
    "    if id_layer == 0 or id_layer == dims[0] - 1:\n",
    "        z_three_edge_new = torch.einsum(\"i, j, k -> ijk\", [tensor_right_new, tensor_down_new, \n",
    "                                                           bdy_vector_list[0]])\n",
    "        z_three_edge_old = torch.einsum(\"i, j, k -> ijk\", [tensor_right_old, tensor_down_old, \n",
    "                                                           bdy_vector_list[0]])\n",
    "        z_up_new = torch.einsum(\"ijk, ijk -> \", [z_three_edge_new, I_3_up])\n",
    "        z_down_new = torch.einsum(\"ijk, ijk -> \", [z_three_edge_new, I_3_down])\n",
    "        z_up_old = torch.einsum(\"ijk, ijk -> \", [z_three_edge_old, I_3_up])  \n",
    "        z_down_old = torch.einsum(\"ijk, ijk -> \", [z_three_edge_old, I_3_down])\n",
    "    else:\n",
    "        z_four_edge_new = torch.einsum(\"i, j, k, l -> ijkl\", [tensor_right_new, tensor_down_new, \n",
    "                                                              bdy_vector_list[0], bdy_vector_list[1]])\n",
    "        z_four_edge_old = torch.einsum(\"i, j, k, l -> ijkl\", [tensor_right_old, tensor_down_old, \n",
    "                                                              bdy_vector_list[0], bdy_vector_list[1]])\n",
    "        z_up_new = torch.einsum(\"ijkl, ijkl -> \", [z_four_edge_new, I_4_up])\n",
    "        z_down_new = torch.einsum(\"ijkl, ijkl -> \", [z_four_edge_new, I_4_down])\n",
    "        z_up_old = torch.einsum(\"ijkl, ijkl -> \", [z_four_edge_old, I_4_up])  \n",
    "        z_down_old = torch.einsum(\"ijkl, ijkl -> \", [z_four_edge_old, I_4_down])        \n",
    "    #####################################################################################\n",
    "    prob_up_real_new = z_up_new.real / (z_up_new.real + z_down_new.real)\n",
    "    prob_down_real_new = z_down_new.real / (z_up_new.real + z_down_new.real)\n",
    "    prob_new = [prob_up_real_new, prob_down_real_new]\n",
    "    prob_up_real_old = z_up_old.real / (z_up_old.real + z_down_old.real)  \n",
    "    prob_down_real_old = z_down_old.real / (z_up_old.real + z_down_old.real)\n",
    "    prob_old = [prob_up_real_old, prob_down_real_old]\n",
    "    prob_tensor, site = [prob_new, prob_old], (id_row, 0)\n",
    "    grid_new, spin_vector_new, spin_vector_old, prob_list = mh_prop_tensor(grid_new, grid_old, site, prob_tensor, prob_list)\n",
    "    #print(prob_up)\n",
    "    #print(z_up + z_down)\n",
    "    for i in range(1, dims[2]-1):\n",
    "        j_vector = j_matrix[id_row][i][:4]\n",
    "        B_left, B_down, B_right, B_up = B_tensor_prepare(j_vector)\n",
    "        #up_bdy_vector = up_bdy_vector_list.pop()\n",
    "        tuple_left_bdy = (0, i-1)\n",
    "        left_bdy_vector_new = bdy_vector_prepare(grid_new, j_matrix, tuple_left_bdy, 2)\n",
    "        left_bdy_vector_old = bdy_vector_prepare(grid_old, j_matrix, tuple_left_bdy, 2)\n",
    "        tuple_down_bdy = (1, i)\n",
    "        down_bdy_vector_new = bdy_vector_prepare(grid_new, j_matrix, tuple_down_bdy, 3)\n",
    "        down_bdy_vector_old = bdy_vector_prepare(grid_old, j_matrix, tuple_down_bdy, 3)\n",
    "        tensor_right_new = stack_contract_new.pop()\n",
    "        tensor_right_old = stack_contract_old.pop()\n",
    "        tensor_right_new = torch.einsum(\"i, mi -> m\", [tensor_right_new, B_right])\n",
    "        tensor_right_old = torch.einsum(\"i, mi -> m\", [tensor_right_old, B_right])\n",
    "        tensor_left_new = torch.einsum(\"ij, i -> j\", [B_left, left_bdy_vector_new])\n",
    "        tensor_left_old = torch.einsum(\"ij, i -> j\", [B_left, left_bdy_vector_old])\n",
    "        tensor_down_new = torch.einsum(\"ij, i -> j\", [B_down, down_bdy_vector_new])\n",
    "        tensor_down_old = torch.einsum(\"ij, i -> j\", [B_down, down_bdy_vector_old])\n",
    "        #########################################################################################################\n",
    "        id_loc = (id_row, i)\n",
    "        bdy_vector_list = layer_vector_create(id_loc, id_layer)    \n",
    "        if id_layer == 0 or id_layer == dims[0] - 1:\n",
    "            z_four_edge_new = torch.einsum(\"i, j, k, l -> ijkl\", [tensor_right_new, tensor_down_new, \n",
    "                                                                  tensor_left_new, bdy_vector_list[0]])\n",
    "            z_four_edge_old = torch.einsum(\"i, j, k, l -> ijkl\", [tensor_right_old, tensor_down_old, \n",
    "                                                                  tensor_left_old, bdy_vector_list[0]])\n",
    "            z_up_new = torch.einsum(\"ijkl, ijkl -> \", [z_four_edge_new, I_4_up])\n",
    "            z_down_new = torch.einsum(\"ijkl, ijkl -> \", [z_four_edge_new, I_4_down])\n",
    "            z_up_old = torch.einsum(\"ijkl, ijkl -> \", [z_four_edge_old, I_4_up])  \n",
    "            z_down_old = torch.einsum(\"ijkl, ijkl -> \", [z_four_edge_old, I_4_down])\n",
    "        else:\n",
    "            z_five_edge_new = torch.einsum(\"i, j, k, l, m -> ijklm\", [tensor_right_new, tensor_down_new, tensor_left_new,\n",
    "                                                                      bdy_vector_list[0], bdy_vector_list[1]])\n",
    "            z_five_edge_old = torch.einsum(\"i, j, k, l, m -> ijklm\", [tensor_right_old, tensor_down_old, tensor_left_old,\n",
    "                                                                      bdy_vector_list[0], bdy_vector_list[1]])\n",
    "            z_up_new = torch.einsum(\"ijklm, ijklm -> \", [z_five_edge_new, I_5_up])\n",
    "            z_down_new = torch.einsum(\"ijklm, ijklm -> \", [z_five_edge_new, I_5_down])\n",
    "            z_up_old = torch.einsum(\"ijklm, ijklm -> \", [z_five_edge_old, I_5_up])  \n",
    "            z_down_old = torch.einsum(\"ijklm, ijklm -> \", [z_five_edge_old, I_5_down])          \n",
    "        #########################################################################################################\n",
    "        prob_up_real_new = z_up_new.real / (z_up_new.real + z_down_new.real)\n",
    "        prob_down_real_new = z_down_new.real / (z_up_new.real + z_down_new.real)\n",
    "        prob_up_real_old = z_up_old.real / (z_up_old.real + z_down_old.real)\n",
    "        prob_down_real_old = z_down_old.real / (z_up_old.real + z_down_old.real)\n",
    "        prob_new = [prob_up_real_new, prob_down_real_new]  \n",
    "        prob_old = [prob_up_real_old, prob_down_real_old]\n",
    "        prob_tensor, site = [prob_new, prob_old], (id_row, i)\n",
    "        grid_new, spin_vector_new, spin_vector_old, prob_list = mh_prop_tensor(grid_new, grid_old, site, prob_tensor, prob_list)\n",
    "        #print(prob_up)\n",
    "        #print(prob_up)\n",
    "        #print(z_up + z_down)\n",
    "    ### Sampling the end of the row\n",
    "    j_vector = j_matrix[0][dims[2]-1][:4]\n",
    "    B_left, B_down, _, _ = B_tensor_prepare(j_vector)\n",
    "    tuple_left_bdy = (0, dims[2]-2)\n",
    "    left_bdy_vector_new = bdy_vector_prepare(grid_new, j_matrix, tuple_left_bdy, 2)\n",
    "    left_bdy_vector_old = bdy_vector_prepare(grid_old, j_matrix, tuple_left_bdy, 2)\n",
    "    #up_bdy_vector = up_bdy_vector_list.pop()\n",
    "    tuple_down_bdy = (1, dims[2]-1)\n",
    "    tuple_right_bdy = (0, 0)\n",
    "    down_bdy_vector_new = bdy_vector_prepare(grid_new, j_matrix, tuple_down_bdy, 3)\n",
    "    down_bdy_vector_old = bdy_vector_prepare(grid_old, j_matrix, tuple_down_bdy, 3)\n",
    "    tensor_down_new = torch.einsum(\"ij, j -> i\", [B_down, down_bdy_vector_new])\n",
    "    tensor_down_old = torch.einsum(\"ij, j -> i\", [B_down, down_bdy_vector_old])\n",
    "    tensor_left_new = torch.einsum(\"ij, j -> i\", [B_left, left_bdy_vector_new])\n",
    "    tensor_left_old = torch.einsum(\"ij, j -> i\", [B_left, left_bdy_vector_old])\n",
    "    ############################################################################################\n",
    "    id_loc = (id_row, dims[2]-1)\n",
    "    bdy_vector_list = layer_vector_create(id_loc, id_layer)    \n",
    "    if id_layer == 0 or id_layer == dims[0] - 1:\n",
    "        z_three_edge_new = torch.einsum(\"i, j, k -> ijk\", [tensor_down_new, tensor_left_new, \n",
    "                                                           bdy_vector_list[0]])\n",
    "        z_three_edge_old = torch.einsum(\"i, j, k -> ijk\", [tensor_down_old, tensor_left_old, \n",
    "                                                           bdy_vector_list[0]])\n",
    "        z_up_new = torch.einsum(\"ijk, ijk -> \", [z_three_edge_new, I_3_up])\n",
    "        z_down_new = torch.einsum(\"ijk, ijk -> \", [z_three_edge_new, I_3_down])\n",
    "        z_up_old = torch.einsum(\"ijk, ijk -> \", [z_three_edge_old, I_3_up])\n",
    "        z_down_old = torch.einsum(\"ijk, ijk -> \", [z_three_edge_old, I_3_down])\n",
    "    else:\n",
    "        z_four_edge_new = torch.einsum(\"i, j, k, l -> ijkl\", [tensor_down_new, tensor_left_new, \n",
    "                                                              bdy_vector_list[0], bdy_vector_list[1]])\n",
    "        z_four_edge_old = torch.einsum(\"i, j, k, l -> ijkl\", [tensor_down_old, tensor_left_old, \n",
    "                                                              bdy_vector_list[0], bdy_vector_list[1]])\n",
    "        z_up_new = torch.einsum(\"ijkl, ijkl -> \", [z_four_edge_new, I_4_up])\n",
    "        z_down_new = torch.einsum(\"ijkl, ijkl -> \", [z_four_edge_new, I_4_down])\n",
    "        z_up_old = torch.einsum(\"ijkl, ijkl -> \", [z_four_edge_old, I_4_up])\n",
    "        z_down_old = torch.einsum(\"ijkl, ijkl -> \", [z_four_edge_old, I_4_down])        \n",
    "    ###########################################################################################\n",
    "    prob_up_real_new = z_up_new.real / (z_up_new.real+z_down_new.real)\n",
    "    prob_down_real_new = z_down_new.real / (z_up_new.real+z_down_new.real)\n",
    "    prob_up_real_old = z_up_old.real / (z_up_old.real+z_down_old.real)\n",
    "    prob_down_real_old = z_down_old.real / (z_up_old.real+z_down_old.real)\n",
    "    prob_new = [prob_up_real_new, prob_down_real_new]  \n",
    "    prob_old = [prob_up_real_old, prob_down_real_old]\n",
    "    prob_tensor, site = [prob_new, prob_old], (id_row, dims[2]-1)\n",
    "    grid_new, _, _, prob_list = mh_prop_tensor(grid_new, grid_old, site, prob_tensor, prob_list)\n",
    "    return grid_new, prob_list"
   ]
  },
  {
   "cell_type": "code",
   "execution_count": 54,
   "id": "23e6caae-304c-48a8-936c-5c6fe5a95180",
   "metadata": {},
   "outputs": [],
   "source": [
    "#types_neibor_get = nb.types.Tuple((nb.types.UniTuple(nb.types.UniTuple(nb.int8, 2), 4), nb.int8))(nb.types.UniTuple(nb.int8, 2))\n",
    "#@nb.cfunc(types_neibor_get)\n",
    "def neibor_get(j_matrix, id_grid):\n",
    "    height, width = dims[1], dims[2]\n",
    "    height_index, width_index = id_grid\n",
    "    j_vector = j_matrix[height_index][width_index]\n",
    "    l_neibor = (height_index, width_index-1)\n",
    "    d_neibor = (height_index+1, width_index)                    \n",
    "    r_neibor = (height_index, width_index+1)\n",
    "    u_neibor = (height_index-1, width_index)\n",
    "    jl, jd, jr, ju = j_vector[0], j_vector[1], j_vector[2], j_vector[3]\n",
    "    if height_index == 0:\n",
    "        if width_index == 0:\n",
    "            neibors_tuple = ((d_neibor, r_neibor, (0, 0), (0, 0)), 2)\n",
    "            j_tuple = (jd, jr, 0, 0)\n",
    "        elif width_index == dims[2] - 1:\n",
    "            neibors_tuple = ((l_neibor, d_neibor, (0, 0), (0, 0)), 2)\n",
    "            j_tuple = (jl, jd, 0, 0)\n",
    "        else:\n",
    "            neibors_tuple = ((l_neibor, d_neibor, r_neibor, (0, 0)), 3)\n",
    "            j_tuple = (jl, jd, jr, 0)\n",
    "    elif height_index == dims[1] - 1:\n",
    "        if width_index == 0:\n",
    "            neibors_tuple = ((r_neibor, u_neibor, (0, 0), (0, 0)), 2)\n",
    "            j_tuple = (jr, ju, 0, 0)\n",
    "        elif width_index == dims[2] - 1:\n",
    "            neibors_tuple = ((l_neibor, u_neibor, (0, 0), (0, 0)), 2)\n",
    "            j_tuple = (jl, ju, 0, 0)\n",
    "        else:\n",
    "            neibors_tuple = ((l_neibor, r_neibor, u_neibor, (0, 0)), 3)\n",
    "            j_tuple = (jl, jr, ju, 0)\n",
    "    else:\n",
    "        if width_index == 0:\n",
    "            neibors_tuple = ((d_neibor, r_neibor, u_neibor, (0, 0)), 3)\n",
    "            j_tuple = (jd, jr, ju, 0)\n",
    "        elif width_index == dims[2] - 1:\n",
    "            neibors_tuple = ((l_neibor, d_neibor, u_neibor, (0, 0)), 3)\n",
    "            j_tuple = (jl, jd, ju, 0)\n",
    "        else:\n",
    "            neibors_tuple = ((l_neibor, d_neibor, r_neibor, u_neibor), 4)\n",
    "            j_tuple = (jl, jd, jr, ju)\n",
    "    return neibors_tuple, j_tuple"
   ]
  },
  {
   "cell_type": "code",
   "execution_count": 55,
   "id": "0ebe5b7e-a3c9-46f8-ba81-741ae166c51e",
   "metadata": {},
   "outputs": [],
   "source": [
    "def full_sampling_one_step(j_matrix, grid_new, grid_old, tensor_mpo, id_layer, bond_dim=20):\n",
    "    stack_mps = contract_up_to_down(tensor_mpo, bond_dim)\n",
    "    mps_base = stack_mps.pop()\n",
    "    prob_list = [[], []]\n",
    "    grid_new, prob_list = down_row_sampling(j_matrix, grid_new, grid_old, \n",
    "                                            tensor_mpo, mps_base, prob_list, id_layer)\n",
    "    for i in range(dims[1]-2, 0, -1):\n",
    "        mpo_base = stack_mps.pop()\n",
    "        mps_base = row_up_mpo_to_mps_create(mpo_base)\n",
    "        row_down_mps_i_new = row_down_mps_create(grid_new, j_matrix, tensor_mpo, i)\n",
    "        row_down_mps_i_old = row_down_mps_create(grid_old, j_matrix, tensor_mpo, i)\n",
    "        grid_new, prob_list = row_sampling(j_matrix, grid_new, grid_old, i, mps_base, \n",
    "                                           row_down_mps_i_new, row_down_mps_i_old, prob_list, id_layer)\n",
    "    grid_new, prob_list = base_row_sampling(j_matrix, grid_new, grid_old, tensor_mpo, prob_list, id_layer)\n",
    "    return grid_new, prob_list"
   ]
  },
  {
   "cell_type": "code",
   "execution_count": 56,
   "id": "2c46d193-8e6c-4e41-af77-09ec551933c4",
   "metadata": {},
   "outputs": [],
   "source": [
    "#types_energy_diff = nb.int32(nb.int8[:, :], nb.int8[:, :])\n",
    "def energy_diff_3d(subgrid_new, subgrid_old, j_matrix, id_layer):\n",
    "    e_new = energy_compute_grid_3d(subgrid_new, j_matrix, id_layer)\n",
    "    e_old = energy_compute_grid_3d(subgrid_old, j_matrix, id_layer)\n",
    "    e_diff = e_new - e_old\n",
    "    return e_diff"
   ]
  },
  {
   "cell_type": "code",
   "execution_count": 57,
   "id": "cd155c09-5b8b-4d2c-a2f6-06e13c0a8005",
   "metadata": {},
   "outputs": [],
   "source": [
    "def mh_accept_3d(subgrid_new, subgrid_old, j_matrix, prob_list, id_layer):\n",
    "    prob_new, prob_old = prob_list\n",
    "    assert len(prob_new) == len(prob_old), \"the result is wrong!\"\n",
    "    prob_new_array, prob_old_array = torch.tensor(prob_new), torch.tensor(prob_old)\n",
    "    e_diff = energy_diff_3d(subgrid_new, subgrid_old, j_matrix, id_layer) * dims[1] * dims[2]\n",
    "    e_eff = torch.sum(torch.log(prob_old_array)-torch.log(prob_new_array)).cpu() - beta * e_diff\n",
    "    prob_acc = np.exp(e_eff)\n",
    "    rand_prob = np.random.random()\n",
    "    if rand_prob < prob_acc:\n",
    "        subgrid_old = subgrid_new.copy()\n",
    "    #print(prob_acc)\n",
    "    return subgrid_old, prob_acc"
   ]
  },
  {
   "cell_type": "code",
   "execution_count": 58,
   "id": "392f3c1f-3cd0-41e2-b5c2-6b94e4959830",
   "metadata": {},
   "outputs": [],
   "source": [
    "#types_energy_compute_one_grid = nb.int32(nb.int8[:, :], nb.types.UniTuple(nb.int8, 2), nb.int8)\n",
    "#@nb.njit(types_energy_compute_one_grid)\n",
    "def energy_compute_site(subgrid, j_matrix, id_grid, id_spin):\n",
    "    energy_one_site = 0\n",
    "    (id_neibors, num_neibors), j_tuple = neibor_get(j_matrix, id_grid)\n",
    "    id_row, id_col = id_grid     \n",
    "    for i in range(num_neibors):\n",
    "        neibor = id_neibors[i]\n",
    "        energy_one_site += -j_tuple[i] * subgrid[neibor[0]][neibor[1]] * id_spin\n",
    "    energy_one_site += -h * id_spin\n",
    "    return energy_one_site"
   ]
  },
  {
   "cell_type": "code",
   "execution_count": 59,
   "id": "adcd2f54-2fb4-418f-b9b2-79293c66bc83",
   "metadata": {},
   "outputs": [],
   "source": [
    "#@nb.njit(nb.float32(nb.int8[:, :]))\n",
    "def energy_compute_grid(subgrid, j_matrix):\n",
    "    energy_total = 0\n",
    "    for ii in range(dims[1]):\n",
    "        for jj in range(dims[2]):\n",
    "            (id_neibors, num_neibors), j_tuple = neibor_get(j_matrix, (nb.int8(ii), nb.int8(jj)))\n",
    "            for k in range(num_neibors):\n",
    "                ij = id_neibors[k]\n",
    "                energy_ij = -1/2 * j_tuple[k] * subgrid[ij[0]][ij[1]] * subgrid[ii][jj]\n",
    "                energy_total += energy_ij\n",
    "            ### compute the energy of external field\n",
    "            energy_total += -h * subgrid[ii][jj]\n",
    "    print(energy_total)\n",
    "    energy_per_spin = energy_total / (dims[1] * dims[2])\n",
    "    return energy_per_spin"
   ]
  },
  {
   "cell_type": "code",
   "execution_count": 60,
   "id": "c9f6ed77-6aae-4a26-882b-971cd9e1eb68",
   "metadata": {},
   "outputs": [],
   "source": [
    "def energy_compute_grid_3d(subgrid, j_matrix, id_layer):\n",
    "    energy_total = 0\n",
    "    for ii in range(dims[1]):\n",
    "        for jj in range(dims[2]):\n",
    "            (id_neibors, num_neibors), j_tuple = neibor_get(j_matrix, (nb.int8(ii), nb.int8(jj)))\n",
    "            for k in range(num_neibors):\n",
    "                ij = id_neibors[k]\n",
    "                energy_ij = -1/2 * j_tuple[k] * subgrid[ij[0]][ij[1]] * subgrid[ii][jj]\n",
    "                energy_total += energy_ij\n",
    "            if id_layer == 0:\n",
    "                energy_total += -j_matrix[ii][jj][-2] * grid_3d[id_layer+1][ii][jj] * subgrid[ii][jj]\n",
    "                #print(id_layer)\n",
    "            elif id_layer == dims[0] - 1:\n",
    "                energy_total += -j_matrix[ii][jj][-2] * grid_3d[id_layer-1][ii][jj] * subgrid[ii][jj]\n",
    "                #print(id_layer)\n",
    "            else:\n",
    "                energy_total += -j_matrix[ii][jj][-2] * grid_3d[id_layer-1][ii][jj] * subgrid[ii][jj]\n",
    "                energy_total += -j_matrix[ii][jj][-1] * grid_3d[id_layer+1][ii][jj] * subgrid[ii][jj]\n",
    "                #print(id_layer)\n",
    "            ### compute the energy of external field\n",
    "            energy_total += -h * subgrid[ii][jj]\n",
    "    energy_per_spin = energy_total / (dims[1] * dims[2])\n",
    "    return energy_per_spin"
   ]
  },
  {
   "cell_type": "code",
   "execution_count": 61,
   "id": "c9dde1c0-bed2-4fca-8cee-4be98290e243",
   "metadata": {},
   "outputs": [],
   "source": [
    "def energy_one_layer(subgrid, j_matrix, id_layer):\n",
    "    energy_total = 0\n",
    "    for ii in range(dims[1]):\n",
    "        for jj in range(dims[2]):\n",
    "            (id_neibors, num_neibors), j_tuple = neibor_get(j_matrix, (nb.int8(ii), nb.int8(jj)))\n",
    "            for k in range(num_neibors):\n",
    "                ij = id_neibors[k]\n",
    "                energy_ij = -1 / 2 * j_tuple[k] * subgrid[ij[0]][ij[1]] * subgrid[ii][jj]\n",
    "                energy_total += energy_ij\n",
    "            if id_layer == 0:\n",
    "                energy_total += -j_matrix[ii][jj][-2] * grid_3d[id_layer+1][ii][jj] * subgrid[ii][jj] / 2\n",
    "                #print(id_layer)\n",
    "            elif id_layer == dims[0] - 1:\n",
    "                energy_total += -j_matrix[ii][jj][-2] * grid_3d[id_layer-1][ii][jj] * subgrid[ii][jj] / 2\n",
    "                #print(id_layer)\n",
    "            else:\n",
    "                energy_total += -j_matrix[ii][jj][-2] * grid_3d[id_layer-1][ii][jj] * subgrid[ii][jj] / 2\n",
    "                energy_total += -j_matrix[ii][jj][-1] * grid_3d[id_layer+1][ii][jj] * subgrid[ii][jj] / 2\n",
    "                #print(id_layer)\n",
    "            ### compute the energy of external field\n",
    "            energy_total += -h * subgrid[ii][jj]\n",
    "    return energy_total"
   ]
  },
  {
   "cell_type": "code",
   "execution_count": 62,
   "id": "ed8114fe-aef9-473a-a542-c1bfa6ef251e",
   "metadata": {},
   "outputs": [],
   "source": [
    "def energy_total(grid_3d):\n",
    "    num_layer = dims[0]\n",
    "    energy_total = 0\n",
    "    for i in range(num_layer):\n",
    "        j_matrix = j_matrix_list[i]\n",
    "        subgrid = grid_3d[i]\n",
    "        energy_total += energy_one_layer(subgrid, j_matrix, i)\n",
    "    return energy_total"
   ]
  },
  {
   "cell_type": "code",
   "execution_count": 63,
   "id": "404c1533-f9de-4a31-b9a1-06682e8c5290",
   "metadata": {},
   "outputs": [],
   "source": [
    "#@nb.njit(nb.float32(nb.int8[:, :]))\n",
    "def magnet_grid(subgrid):\n",
    "    m_mean = np.mean(subgrid)\n",
    "    return m_mean"
   ]
  },
  {
   "cell_type": "code",
   "execution_count": 64,
   "id": "697f61da-6aab-4b4d-b5bf-04e4d583d7c3",
   "metadata": {},
   "outputs": [],
   "source": [
    "#@nb.njit(nb.float64(nb.int8[:, :]))\n",
    "def magnet_subgrids(subgrid):\n",
    "    m_1, m_2 = 0, 0\n",
    "    for i in range(dims[1]):\n",
    "        for j in range(dims[2]):\n",
    "            if (j + i) % 2 == 0:\n",
    "                m_1 += subgrid[i][j]\n",
    "            else:\n",
    "                m_2 += subgrid[i][j]\n",
    "    m_abs_per_spin = np.abs(m_1 - m_2) / (dims[1] * dims[2])\n",
    "    return m_abs_per_spin"
   ]
  },
  {
   "cell_type": "code",
   "execution_count": 65,
   "id": "8274f390-578d-4016-bf9d-982161959531",
   "metadata": {},
   "outputs": [],
   "source": [
    "def full_evv(grid, j_matrix, id_layer, subgrid_new, subgrid_old, tensor_mpo, num_steps, bond_dim=20):\n",
    "    magnet_list, energy_list, prob_acc_list = [], [], []\n",
    "    for i in trange(num_steps):\n",
    "        energy_per_spin = energy_compute_grid_3d(grid, subgrid_old, j_matrix, id_layer)\n",
    "        magnet_per_spin = magnet_grids(subgrid_old)\n",
    "        magnet_list.append(magnet_per_spin)\n",
    "        energy_list.append(energy_per_spin)\n",
    "        grid_new, prob_list = full_sampling_one_step(j_matrix, subgrid_new, subgrid_old, \n",
    "                                                     tensor_mpo, bond_dim)\n",
    "        grid_old, prob_acc = mh_accept_3d(grid, subgrid_new, subgrid_old, j_matrix, prob_list, id_layer)\n",
    "        prob_acc_list.append(prob_acc)\n",
    "    #energy_per_spin = energy_compute_grid(grid_old, j_matrix)\n",
    "    #magnet_per_spin = magnet_grids(grid_old)\n",
    "    #magnet_list.append(magnet_per_spin)\n",
    "    #energy_list.append(energy_per_spin)\n",
    "    return grid_old, magnet_list, energy_list, prob_acc_list"
   ]
  },
  {
   "cell_type": "code",
   "execution_count": 66,
   "id": "d3974411-aea7-466b-b33a-2773d785633c",
   "metadata": {},
   "outputs": [],
   "source": [
    "def full_evv_3d_onestep(grid_3d, bond_dim=20):\n",
    "    num_layers = dims[0]\n",
    "    j_matrix = j_matrix_list[0]\n",
    "    prob_acc_list = []\n",
    "    tensor_mpo_left_bdy = left_bdy_mpo_to_mps(grid_3d, tensor_bulk_list[0])\n",
    "    grid_new, prob_list = full_sampling_one_step(j_matrix_list[0], subgrid_1, \n",
    "                                                 grid_3d[0], tensor_mpo_left_bdy, 0)\n",
    "    grid_old, prob_acc = mh_accept_3d(grid_new, grid_3d[0], \n",
    "                                      j_matrix_list[0], prob_list, 0)\n",
    "    prob_acc_list += [prob_acc]\n",
    "    grid_3d[0] = grid_old.copy()\n",
    "    for i in range(1, num_layers-1):\n",
    "        j_matrix = j_matrix_list[i]\n",
    "        tensor_mpo_bulk_i = bulk_mpo_to_mps(grid_3d, i, tensor_bulk_list[i])\n",
    "        grid_new, prob_list = full_sampling_one_step(j_matrix_list[i], subgrid_1, \n",
    "                                                     grid_3d[i], tensor_mpo_bulk_i, i)\n",
    "        grid_old, prob_acc = mh_accept_3d(grid_new, grid_3d[i], \n",
    "                                          j_matrix_list[i], prob_list, i)        \n",
    "        prob_acc_list += [prob_acc]\n",
    "        grid_3d[i] = grid_old.copy()\n",
    "    j_matrix_right = j_matrix_list[-1]\n",
    "    tensor_mpo_right_bdy = right_bdy_mpo_to_mps(grid_3d, tensor_bulk_list[-1])\n",
    "    grid_new, prob_list = full_sampling_one_step(j_matrix_list[-1], subgrid_1, \n",
    "                                                 grid_3d[-1], tensor_mpo_right_bdy, \n",
    "                                                 num_layers-1)\n",
    "    grid_old, prob_acc = mh_accept_3d(grid_new, grid_3d[-1], \n",
    "                                      j_matrix_list[-1], prob_list, \n",
    "                                      num_layers-1)        \n",
    "    prob_acc_list += [prob_acc]\n",
    "    grid_3d[-1] = grid_old.copy()\n",
    "    return grid_3d, prob_acc_list"
   ]
  },
  {
   "cell_type": "code",
   "execution_count": 67,
   "id": "537f6bbe-cedf-4adf-beda-9afcf88ca079",
   "metadata": {},
   "outputs": [],
   "source": [
    "def full_evv_3d(grid_3d, num_steps, bond_dim=20):\n",
    "    magnet_list, energy_list, prob_acc_list = [], [], []\n",
    "    for i in trange(num_steps):\n",
    "        energy_per_spin = energy_total(grid_3d) / (dims[0] * dims[1] * dims[2])\n",
    "        magnet_per_spin = magnet_grid(grid_3d)\n",
    "        magnet_list.append(magnet_per_spin)\n",
    "        energy_list.append(energy_per_spin)\n",
    "        grid_3d, prob_acc = full_evv_3d_onestep(grid_3d, bond_dim)\n",
    "        prob_acc_list += prob_acc\n",
    "    energy_per_spin = energy_total(grid_3d) / (dims[0] * dims[1] * dims[2])\n",
    "    magnet_per_spin = magnet_grid(grid_3d)\n",
    "    magnet_list.append(magnet_per_spin)\n",
    "    energy_list.append(energy_per_spin)\n",
    "    #return grid_old, magnet_list, energy_list\n",
    "    return grid_3d, energy_list, magnet_list, prob_acc_list"
   ]
  },
  {
   "cell_type": "code",
   "execution_count": 68,
   "id": "a612fd54-aefc-444d-b14a-8165b74efd5b",
   "metadata": {},
   "outputs": [],
   "source": [
    "def full_evv_3d_test(grid_3d, num_steps, bond_dim=20):\n",
    "    magnet_list, energy_list, prob_acc_list = [], [], []\n",
    "    grid_3d_list = []\n",
    "    for i in trange(num_steps):\n",
    "        energy_per_spin = energy_total(grid_3d) / (dims[0] * dims[1] * dims[2])\n",
    "        magnet_per_spin = magnet_grid(grid_3d)\n",
    "        magnet_list.append(magnet_per_spin)\n",
    "        energy_list.append(energy_per_spin)\n",
    "        grid_3d, prob_acc = full_evv_3d_onestep(grid_3d, bond_dim)\n",
    "        grid_3d_list.append(grid_3d.copy())\n",
    "        prob_acc_list += prob_acc\n",
    "    energy_per_spin = energy_total(grid_3d) / (dims[0] * dims[1] * dims[2])\n",
    "    magnet_per_spin = magnet_grid(grid_3d)\n",
    "    magnet_list.append(magnet_per_spin)\n",
    "    energy_list.append(energy_per_spin)\n",
    "    #return grid_old, magnet_list, energy_list\n",
    "    return grid_3d, energy_list, magnet_list, prob_acc_list, grid_3d_list"
   ]
  },
  {
   "cell_type": "code",
   "execution_count": 69,
   "id": "594f085f-23e8-4505-ba3c-ecc2ee884874",
   "metadata": {
    "tags": []
   },
   "outputs": [],
   "source": [
    "def full_evv_3d_q(grid_1_list, grid_2_list, num_steps, bond_dim=20):\n",
    "    #grid_list = []\n",
    "    grid_1_new, grid_1_old = grid_1_list\n",
    "    grid_2_new, grid_2_old = grid_2_list\n",
    "    magnet_list_1, magnet_list_2 = [], []\n",
    "    energy_list_1, energy_list_2 = [], []\n",
    "    prob_acc_1_list, prob_acc_2_list = [], []\n",
    "    q_list = []\n",
    "    for i in trange(num_steps):\n",
    "        energy_per_spin_1 = energy_compute_grid(grid_1_old)\n",
    "        energy_per_spin_2 = energy_compute_grid(grid_2_old)\n",
    "        magnet_per_spin_1 = magnet_grids(grid_1_old)\n",
    "        magnet_per_spin_2 = magnet_grids(grid_2_old)\n",
    "        magnet_list_1.append(magnet_per_spin_1)\n",
    "        magnet_list_2.append(magnet_per_spin_2)\n",
    "        energy_list_1.append(energy_per_spin_1)\n",
    "        energy_list_2.append(energy_per_spin_2)\n",
    "        grid_1_new, prob_list_1 = full_sampling_one_step(grid_1_new, grid_1_old, bond_dim)\n",
    "        grid_1_old, prob_acc_1 = mh_accept(grid_1_new, grid_1_old, prob_list_1)\n",
    "        grid_2_new, prob_list_2 = full_sampling_one_step(grid_2_new, grid_2_old, bond_dim)\n",
    "        grid_2_old, prob_acc_2 = mh_accept(grid_2_new, grid_2_old, prob_list_2)\n",
    "        grid_1_vector = np.reshape(grid_1_old, -1)\n",
    "        grid_2_vector = np.reshape(grid_2_old, -1)\n",
    "        q_i = np.dot(grid_1_vector, grid_2_vector) / (dims[0] * dims[1])\n",
    "        q_list.append(q_i)\n",
    "        prob_acc_1_list.append(prob_acc_1)\n",
    "        prob_acc_2_list.append(prob_acc_2)\n",
    "    energy_per_spin_1 = energy_compute_grid(grid_1_old)\n",
    "    energy_per_spin_2 = energy_compute_grid(grid_2_old)\n",
    "    magnet_per_spin_1 = magnet_grids(grid_1_old)\n",
    "    magnet_per_spin_2 = magnet_grids(grid_2_old)\n",
    "    magnet_list_1.append(magnet_per_spin_1)\n",
    "    magnet_list_2.append(magnet_per_spin_2)\n",
    "    energy_list_1.append(energy_per_spin_1)\n",
    "    energy_list_2.append(energy_per_spin_2)\n",
    "    return grid_1_old, grid_2_old, magnet_list_1, magnet_list_2, energy_list_1, energy_list_2, prob_acc_1_list, prob_acc_2_list, q_list"
   ]
  },
  {
   "cell_type": "code",
   "execution_count": 70,
   "id": "efff414a-e4b2-4a10-9282-9ed2f173c602",
   "metadata": {},
   "outputs": [],
   "source": [
    "def spin_viz(grid, figsize=(10, 10), save=False, folder_name=None):\n",
    "    fig = plt.figure(figsize=figsize)\n",
    "    x, y = np.meshgrid(np.arange(0, dims[0]), np.arange(0, dims[1]))\n",
    "    u = np.cos(grid*np.pi/2)\n",
    "    v = np.sin(grid*np.pi/2)\n",
    "    q = plt.quiver(x, y, u, v)\n",
    "    plt.axis('off')\n",
    "    plt.title('T={:.3f}, spins={}'.format(1/beta, dims), fontsize=20)\n",
    "    if save and step is not None:\n",
    "        plt.savefig(f'./{folder_name}/config_plot_step_{step}.pdf', dpi=100)\n",
    "        plt.close(fig)"
   ]
  },
  {
   "cell_type": "markdown",
   "id": "3cf6f9e5-9ff5-4705-b586-370ac3ffaf6b",
   "metadata": {},
   "source": [
    "------------------\n",
    "### 3D, T = 4, Linear Size = 4"
   ]
  },
  {
   "cell_type": "code",
   "execution_count": 71,
   "id": "e8e5949f-a7df-4f11-9052-0c884ace3b7d",
   "metadata": {
    "tags": []
   },
   "outputs": [
    {
     "data": {
      "image/png": "[encoded data removed]",
      "text/plain": [
       "<Figure size 720x720 with 1 Axes>"
      ]
     },
     "metadata": {
      "needs_background": "light"
     },
     "output_type": "display_data"
    }
   ],
   "source": [
    "spin_viz(grid_3d[0])"
   ]
  },
  {
   "cell_type": "code",
   "execution_count": 74,
   "id": "43038686-bc36-4e93-a2ca-cf3fa940b181",
   "metadata": {},
   "outputs": [
    {
     "data": {
      "application/vnd.jupyter.widget-view+json": {
       "model_id": "8c81a7cc06ac4d1fa72664a365a37001",
       "version_major": 2,
       "version_minor": 0
      },
      "text/plain": [
       "  0%|          | 0/100 [00:00<?, ?it/s]"
      ]
     },
     "metadata": {},
     "output_type": "display_data"
    },
    {
     "name": "stdout",
     "output_type": "stream",
     "text": [
      "running time is: 8.75996208190918.\n"
     ]
    }
   ],
   "source": [
    "num_steps = 100\n",
    "time_start = time.time()\n",
    "grid_3d, e_history, m_history, prob_list = full_evv_3d(grid_3d, num_steps)\n",
    "time_end = time.time()\n",
    "print(f\"running time is: {time_end-time_start}.\")"
   ]
  },
  {
   "cell_type": "code",
   "execution_count": 73,
   "id": "5fee4833-8193-4730-88a2-732a91ae654e",
   "metadata": {},
   "outputs": [
    {
     "data": {
      "text/plain": [
       "[<matplotlib.lines.Line2D at 0x7f4120dad420>]"
      ]
     },
     "execution_count": 73,
     "metadata": {},
     "output_type": "execute_result"
    },
    {
     "data": {
      "image/png": "[encoded data removed]",
      "text/plain": [
       "<Figure size 432x288 with 1 Axes>"
      ]
     },
     "metadata": {
      "needs_background": "light"
     },
     "output_type": "display_data"
    }
   ],
   "source": [
    "plt.plot(m_historystory)"
   ]
  },
  {
   "cell_type": "code",
   "execution_count": 75,
   "id": "76eba8a7-e4d6-4ee7-a757-b7a2dfab602b",
   "metadata": {},
   "outputs": [],
   "source": [
    "m_abs_mean = np.mean(np.abs(m_history))"
   ]
  },
  {
   "cell_type": "code",
   "execution_count": 76,
   "id": "3a731c15-5de7-4330-973b-e117a87c4d3b",
   "metadata": {},
   "outputs": [
    {
     "name": "stdout",
     "output_type": "stream",
     "text": [
      "abs mean of m is: 0.143.\n"
     ]
    }
   ],
   "source": [
    "print(f\"abs mean of m is: {m_abs_mean:.3f}.\")"
   ]
  },
  {
   "cell_type": "markdown",
   "id": "6e06df7e-8166-42f6-8b08-43bc25913d53",
   "metadata": {},
   "source": [
    "---------\n",
    "### 3D, T = 4, Linear Size = 8"
   ]
  },
  {
   "cell_type": "code",
   "execution_count": 71,
   "id": "3809dbc5-eb03-4aaa-b8ca-02686d67afbe",
   "metadata": {},
   "outputs": [
    {
     "data": {
      "image/png": "[encoded data removed]",
      "text/plain": [
       "<Figure size 720x720 with 1 Axes>"
      ]
     },
     "metadata": {
      "needs_background": "light"
     },
     "output_type": "display_data"
    }
   ],
   "source": [
    "spin_viz(grid_3d[0])"
   ]
  },
  {
   "cell_type": "code",
   "execution_count": 72,
   "id": "a3709d14-12be-43bf-95e1-bebd8255376f",
   "metadata": {
    "tags": []
   },
   "outputs": [
    {
     "data": {
      "application/vnd.jupyter.widget-view+json": {
       "model_id": "4064993ed7ad4c188c46095b98d68bdb",
       "version_major": 2,
       "version_minor": 0
      },
      "text/plain": [
       "  0%|          | 0/100 [00:00<?, ?it/s]"
      ]
     },
     "metadata": {},
     "output_type": "display_data"
    },
    {
     "name": "stdout",
     "output_type": "stream",
     "text": [
      "The running time is: 111.92071080207825.\n"
     ]
    }
   ],
   "source": [
    "num_steps = 100\n",
    "time_start = time.time()\n",
    "grid_3d, e_history, m_history, prob_list = full_evv_3d(grid_3d, num_steps)\n",
    "time_end = time.time()\n",
    "print(f\"The running time is: {time_end-time_start}.\")"
   ]
  },
  {
   "cell_type": "code",
   "execution_count": 75,
   "id": "779506a6-6e90-474c-a3cd-a8c1ca67abaf",
   "metadata": {},
   "outputs": [
    {
     "data": {
      "text/plain": [
       "[<matplotlib.lines.Line2D at 0x7f93f40bbb80>]"
      ]
     },
     "execution_count": 75,
     "metadata": {},
     "output_type": "execute_result"
    },
    {
     "data": {
      "image/png": "[encoded data removed]",
      "text/plain": [
       "<Figure size 432x288 with 1 Axes>"
      ]
     },
     "metadata": {
      "needs_background": "light"
     },
     "output_type": "display_data"
    }
   ],
   "source": [
    "plt.plot(e_history)"
   ]
  },
  {
   "cell_type": "code",
   "execution_count": 79,
   "id": "46526cb0-b37c-4f35-bd29-7dc6c2b584d9",
   "metadata": {},
   "outputs": [
    {
     "data": {
      "text/plain": [
       "[<matplotlib.lines.Line2D at 0x7f93e3e54a60>]"
      ]
     },
     "execution_count": 79,
     "metadata": {},
     "output_type": "execute_result"
    },
    {
     "data": {
      "image/png": "[encoded data removed]",
      "text/plain": [
       "<Figure size 432x288 with 1 Axes>"
      ]
     },
     "metadata": {
      "needs_background": "light"
     },
     "output_type": "display_data"
    }
   ],
   "source": [
    "plt.plot(m_history)"
   ]
  },
  {
   "cell_type": "code",
   "execution_count": 77,
   "id": "aa38f26d-ab63-4df4-9fc2-7d831dfcaae0",
   "metadata": {},
   "outputs": [],
   "source": [
    "m_abs_mean = np.mean(np.abs(m_history))"
   ]
  },
  {
   "cell_type": "code",
   "execution_count": 78,
   "id": "fdda0ae6-a107-43a9-9c2c-b1be40528b57",
   "metadata": {},
   "outputs": [
    {
     "name": "stdout",
     "output_type": "stream",
     "text": [
      "abs mean of m is: 0.015.\n"
     ]
    }
   ],
   "source": [
    "print(f\"abs mean of m is: {m_abs_mean:.3f}.\")"
   ]
  },
  {
   "cell_type": "markdown",
   "id": "ef82a7ab-0b10-4a9e-b98a-9cd773c32da0",
   "metadata": {},
   "source": [
    "-----------------\n",
    "### 3D, T = 4, Linear Size = 10"
   ]
  },
  {
   "cell_type": "code",
   "execution_count": 71,
   "id": "00aad353-6c25-4330-a9c6-86ca830e9651",
   "metadata": {},
   "outputs": [
    {
     "data": {
      "image/png": "[encoded data removed]",
      "text/plain": [
       "<Figure size 720x720 with 1 Axes>"
      ]
     },
     "metadata": {
      "needs_background": "light"
     },
     "output_type": "display_data"
    }
   ],
   "source": [
    "spin_viz(grid_3d[0])"
   ]
  },
  {
   "cell_type": "code",
   "execution_count": 72,
   "id": "6a5a2395-ac6a-49c4-8cfb-598826134717",
   "metadata": {},
   "outputs": [
    {
     "data": {
      "application/vnd.jupyter.widget-view+json": {
       "model_id": "24ef64c511b84880a5a8df3051f1faee",
       "version_major": 2,
       "version_minor": 0
      },
      "text/plain": [
       "  0%|          | 0/100 [00:00<?, ?it/s]"
      ]
     },
     "metadata": {},
     "output_type": "display_data"
    },
    {
     "name": "stdout",
     "output_type": "stream",
     "text": [
      "The running time is: 227.6671142578125.\n",
      "Time used for 100 steps is: 227.6671142578125.\n"
     ]
    }
   ],
   "source": [
    "### Burning-in stage\n",
    "num_steps = 100\n",
    "#bond_dim = 2\n",
    "time_start = time.time()\n",
    "grid_3d, e_history, m_history, prob_list = full_evv_3d(grid_3d, num_steps)\n",
    "time_end = time.time()\n",
    "print(f\"The running time is: {time_end-time_start}.\")\n",
    "print(f\"Time used for 100 steps is: {time_end-time_start}.\")"
   ]
  },
  {
   "cell_type": "code",
   "execution_count": 73,
   "id": "05bbb6d3-c15a-4f34-b762-41f1f603bb03",
   "metadata": {},
   "outputs": [
    {
     "data": {
      "text/plain": [
       "[<matplotlib.lines.Line2D at 0x7f5dac5d94b0>]"
      ]
     },
     "execution_count": 73,
     "metadata": {},
     "output_type": "execute_result"
    },
    {
     "data": {
      "image/png": "[encoded data removed]",
      "text/plain": [
       "<Figure size 432x288 with 1 Axes>"
      ]
     },
     "metadata": {
      "needs_background": "light"
     },
     "output_type": "display_data"
    }
   ],
   "source": [
    "plt.plot(e_history)"
   ]
  },
  {
   "cell_type": "code",
   "execution_count": 74,
   "id": "6a0b53ac-658d-4ad9-831a-c51bec1d166d",
   "metadata": {},
   "outputs": [
    {
     "data": {
      "text/plain": [
       "[<matplotlib.lines.Line2D at 0x7f5da612fc70>]"
      ]
     },
     "execution_count": 74,
     "metadata": {},
     "output_type": "execute_result"
    },
    {
     "data": {
      "image/png": "[encoded data removed]",
      "text/plain": [
       "<Figure size 432x288 with 1 Axes>"
      ]
     },
     "metadata": {
      "needs_background": "light"
     },
     "output_type": "display_data"
    }
   ],
   "source": [
    "plt.plot(m_history)"
   ]
  },
  {
   "cell_type": "code",
   "execution_count": 77,
   "id": "c2a3a2b4-a5a2-4bea-b93e-448244d52fc2",
   "metadata": {},
   "outputs": [],
   "source": [
    "m_abs_mean = np.mean(np.abs(m_history))"
   ]
  },
  {
   "cell_type": "code",
   "execution_count": 78,
   "id": "1654a81a-28f2-4879-b918-84aac79ffba1",
   "metadata": {},
   "outputs": [
    {
     "name": "stdout",
     "output_type": "stream",
     "text": [
      "abs mean of m is: 0.024.\n"
     ]
    }
   ],
   "source": [
    "print(f\"abs mean of m is: {m_mean:.3f}.\")"
   ]
  },
  {
   "cell_type": "code",
   "execution_count": null,
   "id": "28b9c78a-e2a1-414a-b3c4-7e9300c30efa",
   "metadata": {},
   "outputs": [],
   "source": []
  },
  {
   "cell_type": "code",
   "execution_count": 49,
   "id": "8a144c6c-9502-4a7e-9875-3b207c055feb",
   "metadata": {},
   "outputs": [
    {
     "data": {
      "image/png": "[encoded data removed]",
      "text/plain": [
       "<Figure size 720x720 with 1 Axes>"
      ]
     },
     "metadata": {
      "needs_background": "light"
     },
     "output_type": "display_data"
    }
   ],
   "source": [
    "spin_viz(grid_1)"
   ]
  },
  {
   "cell_type": "code",
   "execution_count": 54,
   "id": "ccf86e1b-f6f6-4cf5-a692-79458735ca72",
   "metadata": {},
   "outputs": [
    {
     "data": {
      "application/vnd.jupyter.widget-view+json": {
       "model_id": "2f97eec1520e4ecdb8a8330fa3f29152",
       "version_major": 2,
       "version_minor": 0
      },
      "text/plain": [
       "  0%|          | 0/1000 [00:00<?, ?it/s]"
      ]
     },
     "metadata": {},
     "output_type": "display_data"
    },
    {
     "name": "stdout",
     "output_type": "stream",
     "text": [
      "Time used for 1E5 steps is: 566.9461467266083.\n"
     ]
    }
   ],
   "source": [
    "### Burning-in stage\n",
    "time_start = time.time()\n",
    "num_steps = 1000\n",
    "bond_dim = 2\n",
    "grid_2, m_history_1, energy_history_1, _ = full_evv(grid_1, grid_2, num_steps, bond_dim)\n",
    "time_end = time.time()\n",
    "print(f\"Time used for 1E5 steps is: {time_end-time_start}.\")"
   ]
  },
  {
   "cell_type": "code",
   "execution_count": 55,
   "id": "13347ca8-9a99-4cdb-91f0-97f0be67b36d",
   "metadata": {},
   "outputs": [
    {
     "data": {
      "text/plain": [
       "[<matplotlib.lines.Line2D at 0x7f953b767280>]"
      ]
     },
     "execution_count": 55,
     "metadata": {},
     "output_type": "execute_result"
    },
    {
     "data": {
      "image/png": "[encoded data removed]",
      "text/plain": [
       "<Figure size 432x288 with 1 Axes>"
      ]
     },
     "metadata": {
      "needs_background": "light"
     },
     "output_type": "display_data"
    }
   ],
   "source": [
    "plt.plot(energy_history_1)"
   ]
  },
  {
   "cell_type": "code",
   "execution_count": 56,
   "id": "8eb857fd-7061-4786-98f2-07c85fbe68ed",
   "metadata": {},
   "outputs": [],
   "source": [
    "m_mean = np.mean(m_history_1)"
   ]
  },
  {
   "cell_type": "code",
   "execution_count": 57,
   "id": "57c825f8-d33e-4412-a1e3-50e5b9feda7d",
   "metadata": {},
   "outputs": [
    {
     "name": "stdout",
     "output_type": "stream",
     "text": [
      "mean of m is: 0.014.\n"
     ]
    }
   ],
   "source": [
    "print(f\"mean of m is: {m_mean:.3f}.\")"
   ]
  },
  {
   "cell_type": "markdown",
   "id": "f348855b-143c-4981-974c-98da31e57b78",
   "metadata": {},
   "source": [
    "-------------------------------"
   ]
  },
  {
   "cell_type": "code",
   "execution_count": 73,
   "id": "406dbaed-2ad6-4a2a-98e5-b45de4fce5c1",
   "metadata": {},
   "outputs": [
    {
     "data": {
      "application/vnd.jupyter.widget-view+json": {
       "model_id": "75952a1cf888456f9fab2338637d4e40",
       "version_major": 2,
       "version_minor": 0
      },
      "text/plain": [
       "  0%|          | 0/1000 [00:00<?, ?it/s]"
      ]
     },
     "metadata": {},
     "output_type": "display_data"
    },
    {
     "name": "stdout",
     "output_type": "stream",
     "text": [
      "Time used for 1E5 steps is: 245.695570230484.\n"
     ]
    }
   ],
   "source": [
    "### Burning-in stage\n",
    "time_start = time.time()\n",
    "num_steps = 1000\n",
    "bond_dim = 20\n",
    "grid_1_list = [grid_1_new, grid_1]\n",
    "grid_2_list = [grid_2_new, grid_2]\n",
    "grid_1, grid_2, m_hist_1, m_hist_2, e_hist_1, e_hist_2, _, _, q_list = full_evv_q(grid_1_list, grid_2_list, num_steps, bond_dim)\n",
    "time_end = time.time()\n",
    "print(f\"Time used for 1E5 steps is: {time_end-time_start}.\")"
   ]
  },
  {
   "cell_type": "code",
   "execution_count": 74,
   "id": "753aa6d8-0fb2-4ed7-953d-fe2fceab249f",
   "metadata": {},
   "outputs": [
    {
     "data": {
      "text/plain": [
       "[<matplotlib.lines.Line2D at 0x7f5880379c00>]"
      ]
     },
     "execution_count": 74,
     "metadata": {},
     "output_type": "execute_result"
    },
    {
     "data": {
      "image/png": "[encoded data removed]",
      "text/plain": [
       "<Figure size 432x288 with 1 Axes>"
      ]
     },
     "metadata": {
      "needs_background": "light"
     },
     "output_type": "display_data"
    }
   ],
   "source": [
    "plt.plot(e_hist_1)"
   ]
  },
  {
   "cell_type": "code",
   "execution_count": 75,
   "id": "777163f8-fd84-477d-b1bd-8e01e46b0683",
   "metadata": {},
   "outputs": [
    {
     "data": {
      "text/plain": [
       "[<matplotlib.lines.Line2D at 0x7f58803a84f0>]"
      ]
     },
     "execution_count": 75,
     "metadata": {},
     "output_type": "execute_result"
    },
    {
     "data": {
      "image/png": "[encoded data removed]",
      "text/plain": [
       "<Figure size 432x288 with 1 Axes>"
      ]
     },
     "metadata": {
      "needs_background": "light"
     },
     "output_type": "display_data"
    }
   ],
   "source": [
    "plt.plot(e_hist_2)"
   ]
  },
  {
   "cell_type": "code",
   "execution_count": 76,
   "id": "ec6898b8-8360-4774-a14f-facf53e4d332",
   "metadata": {},
   "outputs": [],
   "source": [
    "m_mean = np.mean(m_hist_1+m_hist_2)"
   ]
  },
  {
   "cell_type": "code",
   "execution_count": 77,
   "id": "23eec4e6-c197-49ad-8f32-bba51ba068a4",
   "metadata": {},
   "outputs": [
    {
     "name": "stdout",
     "output_type": "stream",
     "text": [
      "mean of m is: -0.003.\n"
     ]
    }
   ],
   "source": [
    "print(f\"mean of m is: {m_mean:.3f}.\")"
   ]
  },
  {
   "cell_type": "code",
   "execution_count": 78,
   "id": "ddee1b16-361e-4d64-8df7-099327736279",
   "metadata": {},
   "outputs": [
    {
     "data": {
      "text/plain": [
       "<AxesSubplot:ylabel='Count'>"
      ]
     },
     "execution_count": 78,
     "metadata": {},
     "output_type": "execute_result"
    },
    {
     "data": {
      "image/png": "[encoded data removed]",
      "text/plain": [
       "<Figure size 432x288 with 1 Axes>"
      ]
     },
     "metadata": {
      "needs_background": "light"
     },
     "output_type": "display_data"
    }
   ],
   "source": [
    "sns.histplot(q_list)"
   ]
  },
  {
   "cell_type": "code",
   "execution_count": null,
   "id": "b7320fc9-c048-4ffc-97ef-0a4f03c3cfde",
   "metadata": {},
   "outputs": [],
   "source": []
  }
 ],
 "metadata": {
  "kernelspec": {
   "display_name": "Python 3 (ipykernel)",
   "language": "python",
   "name": "python3"
  },
  "language_info": {
   "codemirror_mode": {
    "name": "ipython",
    "version": 3
   },
   "file_extension": ".py",
   "mimetype": "text/x-python",
   "name": "python",
   "nbconvert_exporter": "python",
   "pygments_lexer": "ipython3",
   "version": "3.10.5"
  }
 },
 "nbformat": 4,
 "nbformat_minor": 5
}
