{
 "cells": [
  {
   "cell_type": "code",
   "execution_count": 1,
   "id": "5a3fb6e0-45d1-41b6-be95-c6e6b12daa93",
   "metadata": {},
   "outputs": [],
   "source": [
    "import numpy as np\n",
    "import numba as nb\n",
    "import matplotlib.pyplot as plt\n",
    "from tqdm.auto import trange\n",
    "\n",
    "import time\n",
    "import pickle\n",
    "import csv\n",
    "import os\n",
    "import logging"
   ]
  },
  {
   "cell_type": "code",
   "execution_count": 2,
   "id": "6b87119d-c175-4af0-ad90-3ed395720baa",
   "metadata": {},
   "outputs": [],
   "source": [
    "global grid_3d, dims, beta, j_matrix, j_matrix_array, h, delta"
   ]
  },
  {
   "cell_type": "code",
   "execution_count": 3,
   "id": "901b06dc-d82d-4cd5-93ac-5e585a325d32",
   "metadata": {},
   "outputs": [],
   "source": [
    "def parameters_init(dims_init, beta_init, h_init):\n",
    "    global grid_3d, dims, beta, h\n",
    "    dims = (nb.int64(dims_init[0]), nb.int64(dims_init[1]), nb.int64(dims_init[2]))\n",
    "    beta, h = nb.float64(beta_init), nb.float64(h_init)\n",
    "    grid_3d = np.reshape(np.random.choice([nb.int8(-1), nb.int8(1)], \n",
    "                                           size=dims_init[0]*dims_init[1]*dims_init[2]), \n",
    "                                           dims_init)"
   ]
  },
  {
   "cell_type": "code",
   "execution_count": 4,
   "id": "33ab912a-f1b0-4b27-b656-85cce72ec45c",
   "metadata": {},
   "outputs": [],
   "source": [
    "def j_matrix_2d():\n",
    "    num_j = 6\n",
    "    j_matrix = np.zeros((dims[1], dims[2], num_j), dtype=np.int8)\n",
    "    for i in range(dims[1]):\n",
    "        for j in range(dims[2]):\n",
    "            j_matrix[i][j] = (-1) ** np.random.binomial(1, 1/2, num_j)\n",
    "    for i in range(dims[1]):\n",
    "        for j in range(dims[2]):\n",
    "            j_matrix[i][j][3] = j_matrix[(i-1)%dims[1]][j][1]\n",
    "            j_matrix[i][j][0] = j_matrix[i][(j-1)%dims[2]][2]    \n",
    "    return j_matrix"
   ]
  },
  {
   "cell_type": "code",
   "execution_count": 5,
   "id": "0aae0914-3224-46e3-9db9-878eeb7cec35",
   "metadata": {},
   "outputs": [],
   "source": [
    "def j_matrix_3d():\n",
    "    global j_matrix_array\n",
    "    j_matrix_list = []\n",
    "    num_layers = dims[0]\n",
    "    j_matrix = j_matrix_2d()\n",
    "    j_matrix_list.append(j_matrix)\n",
    "    j_matrix = j_matrix_2d()\n",
    "    for i in range(dims[1]):\n",
    "        for j in range(dims[2]):\n",
    "            j_matrix[i][j][-2] = j_matrix_list[-1][i][j][-1]\n",
    "    j_matrix_list.append(j_matrix)\n",
    "    for _ in range(2, num_layers):\n",
    "        j_matrix = j_matrix_2d()\n",
    "        for i in range(dims[1]):\n",
    "            for j in range(dims[2]):\n",
    "                j_matrix[i][j][-2] = j_matrix_list[-1][i][j][-1]\n",
    "        j_matrix_list.append(j_matrix)\n",
    "    j_matrix_array = np.array(j_matrix_list)"
   ]
  },
  {
   "cell_type": "code",
   "execution_count": 6,
   "id": "9695180f-a469-4372-92d9-d0efbdc35134",
   "metadata": {},
   "outputs": [],
   "source": [
    "########################################################################################\n",
    "### initialize the parameters\n",
    "dims_init = (16, 16, 16)\n",
    "beta_init, h_init = 5, 0\n",
    "parameters_init(dims_init, beta_init, h_init)\n",
    "j_matrix_3d()"
   ]
  },
  {
   "cell_type": "code",
   "execution_count": 7,
   "id": "c9442102-36e7-4784-984f-9454410632a9",
   "metadata": {},
   "outputs": [],
   "source": [
    "types_neibor_get = nb.types.UniTuple(nb.types.UniTuple(nb.int8, 3), 6)(nb.types.UniTuple(nb.int8, 3))\n",
    "@nb.cfunc(types_neibor_get)\n",
    "def neibor_get_3d(id_grid):\n",
    "    height, width, layers = dims\n",
    "    height_index, width_index, layer_index = id_grid\n",
    "    l_neibor = (layer_index, height_index, (width_index - 1) % width)\n",
    "    r_neibor = (layer_index, height_index, (width_index + 1) % width)\n",
    "    u_neibor = (layer_index, (height_index - 1) % height, width_index)\n",
    "    d_neibor = (layer_index, (height_index + 1) % height, width_index)  \n",
    "    left_neibor = ((layer_index - 1) % layers, height_index, width_index)\n",
    "    right_neibor = ((layer_index + 1) % layers, height_index, width_index) \n",
    "    return (l_neibor, d_neibor, r_neibor, u_neibor, left_neibor, right_neibor)"
   ]
  },
  {
   "cell_type": "code",
   "execution_count": 8,
   "id": "d28f13c7-190d-471a-9f0d-778ea25a9847",
   "metadata": {},
   "outputs": [],
   "source": [
    "types_energy_compute_one_grid = nb.int64(nb.int8[:, :, :], nb.types.UniTuple(nb.int8, 3), nb.int8)\n",
    "@nb.njit(types_energy_compute_one_grid)\n",
    "def energy_compute_one_grid_3d(grid_3d, id_grid, id_spin):\n",
    "    energy_one_site = 0\n",
    "    id_neibors = neibor_get_3d(id_grid)\n",
    "    id_layer, id_row, id_col = id_grid\n",
    "    if id_layer == dims[0] - 1:\n",
    "        j_vec_left = j_matrix_array[id_layer-1]\n",
    "        id_spin_left = grid_3d[id_layer-1][id_row][id_col]\n",
    "        energy_one_site = energy_one_site + (-id_spin * id_spin_left * j_vec_left[id_row][id_col][-1])\n",
    "    elif id_layer == 0:\n",
    "        j_vec_right = j_matrix_array[id_layer+1]\n",
    "        id_spin_right = grid_3d[id_layer+1][id_row][id_col]\n",
    "        energy_one_site = energy_one_site + (-id_spin * id_spin_right * j_vec_right[id_row][id_col][-2])\n",
    "    else:\n",
    "        j_vec_left = j_matrix_array[id_layer-1]\n",
    "        j_vec_right = j_matrix_array[id_layer+1]\n",
    "        id_spin_right = grid_3d[id_layer+1][id_row][id_col]\n",
    "        id_spin_left = grid_3d[id_layer-1][id_row][id_col]\n",
    "        energy_one_site = energy_one_site - id_spin * id_spin_right * j_vec_right[id_row][id_col][-2]\n",
    "        energy_one_site = energy_one_site - id_spin * id_spin_left * j_vec_left[id_row][id_col][-1]\n",
    "    j_vec = j_matrix_array[id_layer][id_row][id_col]\n",
    "    if id_row == 0:\n",
    "        if id_col == 0:\n",
    "            energy_one_site = energy_one_site - id_spin * grid_3d[id_layer][id_row+1][id_col] * j_vec[1]\n",
    "            energy_one_site = energy_one_site - id_spin * grid_3d[id_layer][id_row][id_col+1] * j_vec[2]\n",
    "        elif id_col == dims[2] - 1:\n",
    "            energy_one_site = energy_one_site - id_spin * grid_3d[id_layer][id_row][id_col-1] * j_vec[0]\n",
    "            energy_one_site = energy_one_site - id_spin * grid_3d[id_layer][id_row+1][id_col] * j_vec[1]\n",
    "        else:\n",
    "            energy_one_site = energy_one_site - id_spin * grid_3d[id_layer][id_row][id_col-1] * j_vec[0]\n",
    "            energy_one_site = energy_one_site - id_spin * grid_3d[id_layer][id_row+1][id_col] * j_vec[1]\n",
    "            energy_one_site = energy_one_site - id_spin * grid_3d[id_layer][id_row][id_col+1] * j_vec[2] \n",
    "    elif id_row == dims[1] - 1:\n",
    "        if id_col == 0:\n",
    "            energy_one_site = energy_one_site - id_spin * grid_3d[id_layer][id_row][id_col+1] * j_vec[2] \n",
    "            energy_one_site = energy_one_site - id_spin * grid_3d[id_layer][id_row-1][id_col] * j_vec[3] \n",
    "        elif id_col == dims[2] - 1:\n",
    "            energy_one_site = energy_one_site - id_spin * grid_3d[id_layer][id_row][id_col-1] * j_vec[0]\n",
    "            energy_one_site = energy_one_site - id_spin * grid_3d[id_layer][id_row-1][id_col] * j_vec[3] \n",
    "        else:\n",
    "            energy_one_site = energy_one_site - id_spin * grid_3d[id_layer][id_row][id_col-1] * j_vec[0]\n",
    "            energy_one_site = energy_one_site - id_spin * grid_3d[id_layer][id_row][id_col+1] * j_vec[2]             \n",
    "            energy_one_site = energy_one_site - id_spin * grid_3d[id_layer][id_row-1][id_col] * j_vec[3] \n",
    "    elif id_col == 0:\n",
    "            energy_one_site = energy_one_site - id_spin * grid_3d[id_layer][id_row+1][id_col] * j_vec[1]            \n",
    "            energy_one_site = energy_one_site - id_spin * grid_3d[id_layer][id_row][id_col+1] * j_vec[2]             \n",
    "            energy_one_site = energy_one_site - id_spin * grid_3d[id_layer][id_row-1][id_col] * j_vec[3] \n",
    "    elif id_col == dims[2] - 1:\n",
    "            energy_one_site = energy_one_site - id_spin * grid_3d[id_layer][id_row][id_col-1] * j_vec[0]        \n",
    "            energy_one_site = energy_one_site - id_spin * grid_3d[id_layer][id_row+1][id_col] * j_vec[1]            \n",
    "            energy_one_site = energy_one_site - id_spin * grid_3d[id_layer][id_row-1][id_col] * j_vec[3]  \n",
    "    else:\n",
    "        energy_one_site = energy_one_site - id_spin * grid_3d[id_layer][id_row][id_col-1] * j_vec[0]\n",
    "        energy_one_site = energy_one_site - id_spin * grid_3d[id_layer][id_row+1][id_col] * j_vec[1]            \n",
    "        energy_one_site = energy_one_site - id_spin * grid_3d[id_layer][id_row][id_col+1] * j_vec[2]             \n",
    "        energy_one_site = energy_one_site - id_spin * grid_3d[id_layer][id_row-1][id_col] * j_vec[3] \n",
    "    return energy_one_site"
   ]
  },
  {
   "cell_type": "code",
   "execution_count": 9,
   "id": "b3183adb-624a-4b67-87a8-fda53db19a09",
   "metadata": {},
   "outputs": [],
   "source": [
    "@nb.njit(nb.float32(nb.int8[:, :, :]))\n",
    "def energy_compute_grids(grid_3d):\n",
    "    energy_total = 0\n",
    "    for ii in range(dims[0]):\n",
    "        for jj in range(dims[1]):\n",
    "            for kk in range(dims[2]):\n",
    "                id_spin = grid_3d[ii][jj][kk]\n",
    "                id_grid = (ii, jj, kk)\n",
    "                energy_total += energy_compute_one_grid_3d(grid_3d, id_grid, id_spin)\n",
    "    energy_per_spin = energy_total / (dims[0] * dims[1] * dims[2] * 2)\n",
    "    return energy_per_spin"
   ]
  },
  {
   "cell_type": "code",
   "execution_count": 10,
   "id": "27afdb76-f8ec-4d05-b1f7-2d61fc13c813",
   "metadata": {},
   "outputs": [],
   "source": [
    "@nb.njit\n",
    "def magnet_grids(grids):\n",
    "    return np.mean(grids)"
   ]
  },
  {
   "cell_type": "code",
   "execution_count": 11,
   "id": "f62f04da-9288-412f-a294-82a378a54b8a",
   "metadata": {},
   "outputs": [],
   "source": [
    "@nb.njit(nb.int8[:, :, :](nb.int8[:, :, :]))\n",
    "def one_site_mcmc(grids):\n",
    "    id_random = np.random.randint(dims[0]*dims[1]*dims[2])\n",
    "    id_layer = nb.int8(id_random // (dims[1] * dims[2]))\n",
    "    id_row = nb.int8(id_random % (dims[1] * dims[2]) // dims[1])\n",
    "    id_col = nb.int8(id_random % (dims[1] * dims[2]) % dims[1])\n",
    "    spin_old = grids[id_layer][id_row][id_col]\n",
    "    spin_new = nb.int8(-1 * spin_old)\n",
    "    id_grid = (id_layer, id_row, id_col)\n",
    "    energy_old = energy_compute_one_grid_3d(grids, id_grid, spin_old)\n",
    "    energy_new = energy_compute_one_grid_3d(grids, id_grid, spin_new)\n",
    "    energy_delta = energy_new - energy_old\n",
    "    if energy_delta <= 0:\n",
    "        grids[id_layer][id_row][id_col] = spin_new\n",
    "    else:\n",
    "        prob_accept = np.exp(-beta * energy_delta)\n",
    "        if np.random.random() < prob_accept:\n",
    "            grids[id_layer][id_row][id_col] = spin_new\n",
    "    return grids"
   ]
  },
  {
   "cell_type": "code",
   "execution_count": 12,
   "id": "4f11c459-2d70-47ae-9caf-7ab19d8d6196",
   "metadata": {},
   "outputs": [],
   "source": [
    "@nb.njit(nb.int8[:, :, :](nb.int8[:, :, :]))\n",
    "def one_step_mcmc(grids):\n",
    "    for _ in range(dims[0]*dims[1]*dims[2]):\n",
    "        grids = one_site_mcmc(grids)\n",
    "    return grids"
   ]
  },
  {
   "cell_type": "code",
   "execution_count": 13,
   "id": "246b970e-a692-4795-8389-2577394324f9",
   "metadata": {},
   "outputs": [],
   "source": [
    "types_mcmc_func = nb.types.Tuple((nb.int8[:, :, :], nb.float64[:], nb.float64[:]))(nb.int8[:, :, :], nb.int64)\n",
    "@nb.njit(types_mcmc_func)\n",
    "def mcmc(grid_3d, steps):\n",
    "    energy_history = np.zeros(steps, dtype=np.float64)\n",
    "    m_history = np.zeros(steps, dtype=np.float64)\n",
    "    for i in range(steps):\n",
    "        grid_3d = one_step_mcmc(grid_3d)\n",
    "        energy_per_spin = energy_compute_grids(grid_3d)\n",
    "        m_per_spin = magnet_grids(grid_3d)\n",
    "        energy_history[i] = energy_per_spin\n",
    "        m_history[i] = m_per_spin\n",
    "    return grid_3d, energy_history, m_history"
   ]
  },
  {
   "cell_type": "markdown",
   "id": "d605c796-ab32-40b4-a4e0-cf2a0f1379d2",
   "metadata": {},
   "source": [
    "-----------------------------------------"
   ]
  },
  {
   "cell_type": "code",
   "execution_count": 14,
   "id": "233371c9-98fa-44a9-8a7e-a153e4971016",
   "metadata": {},
   "outputs": [
    {
     "data": {
      "text/plain": [
       "(16, 16, 16)"
      ]
     },
     "execution_count": 14,
     "metadata": {},
     "output_type": "execute_result"
    }
   ],
   "source": [
    "grid_3d.shape"
   ]
  },
  {
   "cell_type": "code",
   "execution_count": 15,
   "id": "0458de05-b11b-4004-8d2b-0ab549a300d2",
   "metadata": {},
   "outputs": [],
   "source": [
    "### Burning-in stage\n",
    "time_start = time.time()\n",
    "#num_steps = 1\n",
    "num_steps = 1000\n",
    "grid_3d, energy_history, m_history = mcmc(grid_3d, num_steps)\n",
    "time_end = time.time()"
   ]
  },
  {
   "cell_type": "code",
   "execution_count": 16,
   "id": "d68ab89a-31ed-4185-b0f7-01bd65aa8184",
   "metadata": {},
   "outputs": [
    {
     "data": {
      "text/plain": [
       "[<matplotlib.lines.Line2D at 0x7f648032f4f0>]"
      ]
     },
     "execution_count": 16,
     "metadata": {},
     "output_type": "execute_result"
    },
    {
     "data": {
      "image/png": "[encoded data removed]",
      "text/plain": [
       "<Figure size 432x288 with 1 Axes>"
      ]
     },
     "metadata": {
      "needs_background": "light"
     },
     "output_type": "display_data"
    }
   ],
   "source": [
    "plt.plot(energy_history)"
   ]
  },
  {
   "cell_type": "code",
   "execution_count": 17,
   "id": "e4b17a4a-f6ac-443a-a5bf-198aa769dac1",
   "metadata": {},
   "outputs": [
    {
     "name": "stdout",
     "output_type": "stream",
     "text": [
      "Time used in burning-in stage (1000): 1.694.\n"
     ]
    }
   ],
   "source": [
    "time_burn = time_end - time_start\n",
    "print(f\"Time used in burning-in stage ({num_steps}): {time_burn:.3f}.\")"
   ]
  },
  {
   "cell_type": "code",
   "execution_count": 19,
   "id": "bf0b5048-adbe-4f70-a138-e685ec96041b",
   "metadata": {},
   "outputs": [
    {
     "data": {
      "text/plain": [
       "11.76388888888889"
      ]
     },
     "execution_count": 19,
     "metadata": {},
     "output_type": "execute_result"
    }
   ],
   "source": [
    "1.694 / 1000 * 25000000 / 3600 "
   ]
  },
  {
   "cell_type": "code",
   "execution_count": null,
   "id": "694e1874-3664-4b3b-ba4e-f397a920bc3c",
   "metadata": {},
   "outputs": [],
   "source": []
  }
 ],
 "metadata": {
  "kernelspec": {
   "display_name": "Python 3 (ipykernel)",
   "language": "python",
   "name": "python3"
  },
  "language_info": {
   "codemirror_mode": {
    "name": "ipython",
    "version": 3
   },
   "file_extension": ".py",
   "mimetype": "text/x-python",
   "name": "python",
   "nbconvert_exporter": "python",
   "pygments_lexer": "ipython3",
   "version": "3.10.5"
  }
 },
 "nbformat": 4,
 "nbformat_minor": 5
}
