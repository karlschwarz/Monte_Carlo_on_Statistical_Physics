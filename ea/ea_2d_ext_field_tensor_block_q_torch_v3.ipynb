{
 "cells": [
  {
   "cell_type": "markdown",
   "id": "a5f72cb5-87df-473f-8c83-0c0e2de56345",
   "metadata": {},
   "source": [
    "# 1/4 Cluster Evolution using tensor contraction.\n",
    "### 2D EA with external Field"
   ]
  },
  {
   "cell_type": "code",
   "execution_count": 48,
   "id": "49cf671c-3ed7-4a23-b0cf-ececd6c2469a",
   "metadata": {},
   "outputs": [],
   "source": [
    "import torch\n",
    "import numpy as np\n",
    "import numba as nb\n",
    "from scipy.linalg import sqrtm"
   ]
  },
  {
   "cell_type": "code",
   "execution_count": 49,
   "id": "b7b5f80b-3614-49fe-9cbb-1c12ed130cc6",
   "metadata": {},
   "outputs": [],
   "source": [
    "import math\n",
    "import time\n",
    "from tqdm.auto import trange"
   ]
  },
  {
   "cell_type": "code",
   "execution_count": 50,
   "id": "60edfa72-dadd-4d67-baad-a2f5c2b9933b",
   "metadata": {},
   "outputs": [],
   "source": [
    "from collections import defaultdict"
   ]
  },
  {
   "cell_type": "code",
   "execution_count": 51,
   "id": "f0f8c0ef-76a5-4ccd-bfc6-55e6e3cc0f43",
   "metadata": {},
   "outputs": [],
   "source": [
    "import copy"
   ]
  },
  {
   "cell_type": "code",
   "execution_count": 52,
   "id": "3e223772-d48f-4b76-b584-697a047670cb",
   "metadata": {},
   "outputs": [],
   "source": [
    "import pickle"
   ]
  },
  {
   "cell_type": "code",
   "execution_count": 6,
   "id": "94cec8f5-95fd-4ee4-a36e-bd099b919508",
   "metadata": {},
   "outputs": [],
   "source": [
    "import seaborn as sns"
   ]
  },
  {
   "cell_type": "code",
   "execution_count": 7,
   "id": "4d9f81fd-f7ef-48f6-ab64-a1f78cf1bb3f",
   "metadata": {},
   "outputs": [],
   "source": [
    "import matplotlib.pyplot as plt"
   ]
  },
  {
   "cell_type": "markdown",
   "id": "e7e20c5d-e76c-45e2-8475-27ed2e13b1da",
   "metadata": {},
   "source": [
    "---------------------------------\n",
    "### 1/4 Cluster"
   ]
  },
  {
   "cell_type": "code",
   "execution_count": 8,
   "id": "6cd9a149-e237-4e47-aa48-af9739dddaf9",
   "metadata": {},
   "outputs": [],
   "source": [
    "def j_matrix_init():\n",
    "    global j_matrix\n",
    "    #np.random.seed(1288688)\n",
    "    j_matrix = np.zeros((dims[0], dims[1], 4), dtype=np.int8)\n",
    "    for i in range(dims[0]):\n",
    "        for j in range(dims[1]):\n",
    "            j_matrix[i][j] = (-1) ** np.random.binomial(1, 1/2, 4)\n",
    "    for i in range(dims[0]):\n",
    "        for j in range(dims[1]):\n",
    "            j_matrix[i][j][3] = j_matrix[(i-1)%dims[0]][j][1]\n",
    "            j_matrix[i][j][0] = j_matrix[i][(j-1)%dims[1]][2]"
   ]
  },
  {
   "cell_type": "code",
   "execution_count": 9,
   "id": "edc86baa-38d5-4fb7-9f21-de95c4f5a9b7",
   "metadata": {},
   "outputs": [],
   "source": [
    "def j_pos_one_matrix_init():\n",
    "    global j_matrix\n",
    "    j_matrix = np.ones((dims[0], dims[1], 4), dtype=np.float64)"
   ]
  },
  {
   "cell_type": "code",
   "execution_count": 10,
   "id": "e98aaeb6-cca0-440f-ab42-c3c794329d9d",
   "metadata": {},
   "outputs": [],
   "source": [
    "def j_neg_one_matrix_init():\n",
    "    global j_matrix\n",
    "    j_matrix = -1 * np.ones((dims[0], dims[1], 4), dtype=np.float64)    "
   ]
  },
  {
   "cell_type": "code",
   "execution_count": 11,
   "id": "27eb06b4-f890-46e8-9eb8-6494d28379a1",
   "metadata": {},
   "outputs": [],
   "source": [
    "def j_matrix_frust_init():\n",
    "    global j_matrix\n",
    "    j_matrix = np.ones((dims[0], dims[1], 4), dtype=np.int8)\n",
    "    for i in range(dims[0]):\n",
    "        for j in range(dims[1]):\n",
    "            if j % 2 != 0:\n",
    "                j_matrix[i][j][1] = -1\n",
    "                j_matrix[i][j][3] = -1\n",
    "    for i in range(dims[0]):\n",
    "        for j in range(dims[1]):\n",
    "            j_matrix[i][j][3] = j_matrix[(i-1)%dims[0]][j][1]\n",
    "            j_matrix[i][j][0] = j_matrix[i][(j-1)%dims[1]][2]"
   ]
  },
  {
   "cell_type": "code",
   "execution_count": 9,
   "id": "06f3b652-f839-486e-873f-b04af7a8ee8f",
   "metadata": {},
   "outputs": [],
   "source": [
    "def B_tensor_prepare(j_vec):\n",
    "    B_list = []\n",
    "    for jj in j_vec:\n",
    "        if jj == 1:\n",
    "            B_list.append(B_pos)\n",
    "        else:\n",
    "            B_list.append(B_neg)\n",
    "    return B_list"
   ]
  },
  {
   "cell_type": "code",
   "execution_count": 10,
   "id": "8e31a892-c23f-4563-8be0-5575d20f3bde",
   "metadata": {},
   "outputs": [],
   "source": [
    "def bdy_vector_prepare(grid, id_loc, pos_index):\n",
    "    \"\"\"\n",
    "    Args:\n",
    "        grid: (np.array)\n",
    "        id_loc: (tuple)\n",
    "        pos_index: (int) \n",
    "        \n",
    "    Returns:\n",
    "        bdy_vector: (np.array)\n",
    "    \"\"\"\n",
    "    id_row, id_col = id_loc\n",
    "    if grid[id_row][id_col] == 1:\n",
    "        if j_matrix[id_row][id_col][pos_index] == 1:\n",
    "            bdy_vector = spin_pos_up\n",
    "        else:\n",
    "            bdy_vector = spin_neg_up\n",
    "    else:\n",
    "        if j_matrix[id_row][id_col][pos_index] == 1:\n",
    "            bdy_vector = spin_pos_down\n",
    "        else:\n",
    "            bdy_vector = spin_neg_down\n",
    "    return bdy_vector"
   ]
  },
  {
   "cell_type": "code",
   "execution_count": 11,
   "id": "81136e51-ea93-4ef5-9f2c-5733834df6e7",
   "metadata": {},
   "outputs": [],
   "source": [
    "def parameters_init(dims_init, beta_init, h_init):\n",
    "    global grid_1, grid_2, dims, beta, h\n",
    "    #np.random.seed(314)\n",
    "    #np.random.seed(181)\n",
    "    #np.random.seed(0)\n",
    "    dims = (nb.int64(dims_init[0]), nb.int64(dims_init[1]))\n",
    "    beta, h = nb.float64(beta_init), nb.float64(h_init)\n",
    "    grid_1 = np.reshape(np.random.choice([nb.int8(-1), nb.int8(1)], \n",
    "                                         size=dims_init[0]*dims_init[1]), dims_init)\n",
    "    grid_2 = np.reshape(np.random.choice([nb.int8(-1), nb.int8(1)], \n",
    "                                         size=dims_init[0]*dims_init[1]), dims_init)"
   ]
  },
  {
   "cell_type": "code",
   "execution_count": 12,
   "id": "94dcadc5-88e5-4c97-9626-855974b0c3c0",
   "metadata": {},
   "outputs": [],
   "source": [
    "global grid_1, grid_2, dims, beta, j_matrix, h"
   ]
  },
  {
   "cell_type": "code",
   "execution_count": 13,
   "id": "cef6bc9e-b72e-42b2-b689-841893586083",
   "metadata": {},
   "outputs": [],
   "source": [
    "#dims_init = (4, 4)\n",
    "#dims_init = (8, 8)\n",
    "#dims_init = (16, 16)\n",
    "dims_init = (32, 32)\n",
    "#dims_init = (64, 64)\n",
    "#beta_init, h_init = np.log(1 + np.sqrt(2)) / 2, 1\n",
    "beta_init, h_init = 1, 0\n",
    "parameters_init(dims_init, beta_init, h_init)"
   ]
  },
  {
   "cell_type": "code",
   "execution_count": 14,
   "id": "86125031-11b1-4377-8bc1-ea4bb49a500a",
   "metadata": {},
   "outputs": [],
   "source": [
    "#j_matrix_frust_init()\n",
    "j_matrix_init()\n",
    "#j_neg_one_matrix_init()\n",
    "#j_pos_one_matrix_init()"
   ]
  },
  {
   "cell_type": "code",
   "execution_count": 48,
   "id": "2b885399-67d6-4e09-9768-99711db9f564",
   "metadata": {},
   "outputs": [],
   "source": [
    "with open(f'../data_2d_ea/ea_size_{dims[0]}_j_matrix.pkl', 'wb') as file:\n",
    "    pickle.dump(j_matrix, file)"
   ]
  },
  {
   "cell_type": "code",
   "execution_count": 49,
   "id": "437687a3-2691-40b7-a44b-622c2b8da899",
   "metadata": {},
   "outputs": [],
   "source": [
    "with open(f'../data_2d_ea/ea_size_{dims[0]}_j_matrix.pkl', 'rb') as file:\n",
    "    j_matrix = pickle.load(file)"
   ]
  },
  {
   "cell_type": "code",
   "execution_count": 15,
   "id": "9f867352-5680-4883-9a99-c69cdef88e69",
   "metadata": {},
   "outputs": [],
   "source": [
    "my_device = torch.device('cuda') if torch.cuda.is_available() else torch.device('cpu')"
   ]
  },
  {
   "cell_type": "code",
   "execution_count": 16,
   "id": "2b7216d0-562c-4b00-83ab-b9217013b6c3",
   "metadata": {},
   "outputs": [],
   "source": [
    "def node_tensor_create(my_device=my_device):\n",
    "    I_1, I_2, I_3, I_4, I_up, I_down = copy_tensor_create(my_device)\n",
    "    B_pos = torch.tensor(sqrtm(np.array([[np.exp(beta),np.exp(-beta)], \n",
    "                                         [np.exp(-beta),np.exp(beta)]])), \n",
    "                         dtype=torch.complex128, device=my_device)\n",
    "    B_neg = torch.tensor(sqrtm(np.array([[np.exp(-beta),np.exp(beta)], \n",
    "                                         [np.exp(beta),np.exp(-beta)]])), \n",
    "                         dtype=torch.complex128, device=my_device)\n",
    "    spin_up = torch.tensor([1, 0], dtype=torch.complex128, device=my_device)\n",
    "    spin_down = torch.tensor([0, 1], dtype=torch.complex128, device=my_device)\n",
    "    spin_pos_up = torch.einsum(\"i, ij -> j\", [spin_up, B_pos])\n",
    "    spin_pos_down = torch.einsum(\"i, ij -> j\", [spin_down, B_pos])\n",
    "    spin_neg_up = torch.einsum(\"i, ij -> j\", [spin_up, B_neg])\n",
    "    spin_neg_down = torch.einsum(\"i, ij -> j\", [spin_down, B_neg])\n",
    "    return B_pos, B_neg, spin_pos_up, spin_pos_down, spin_neg_up, spin_neg_down"
   ]
  },
  {
   "cell_type": "code",
   "execution_count": 17,
   "id": "87a71799-33a4-4d1c-be4d-d5003fc2f3b7",
   "metadata": {},
   "outputs": [],
   "source": [
    "def copy_tensor_create(my_device=my_device):\n",
    "    I_2_array = np.zeros((2, 2))\n",
    "    I_3_array = np.zeros((2, 2, 2))\n",
    "    I_4_array = np.zeros((2, 2, 2, 2))\n",
    "    I_up_array = np.zeros((2, 2, 2, 2))\n",
    "    I_down_array = np.zeros((2, 2, 2, 2))\n",
    "    for i in range(2):\n",
    "        if i == 0:\n",
    "            I_2_array[i, i] = np.exp(beta * h)\n",
    "            I_3_array[i, i, i] = np.exp(beta * h)\n",
    "            I_4_array[i, i, i, i] = np.exp(beta * h)\n",
    "        else:\n",
    "            I_2_array[i, i] = np.exp(-beta * h)\n",
    "            I_3_array[i, i, i] = np.exp(-beta * h)\n",
    "            I_4_array[i, i, i, i] = np.exp(-beta * h)\n",
    "    I_up_array[0][0][0][0] = np.exp(beta * h)\n",
    "    I_down_array[1][1][1][1] = np.exp(-beta * h)\n",
    "    I_1 = torch.tensor([np.exp(beta * h), np.exp(-beta * h)], dtype=torch.complex128, device=my_device)\n",
    "    I_2 = torch.tensor(I_2_array, dtype=torch.complex128, device=my_device)\n",
    "    I_3 = torch.tensor(I_3_array, dtype=torch.complex128, device=my_device)\n",
    "    I_4 = torch.tensor(I_4_array, dtype=torch.complex128, device=my_device)\n",
    "    I_up = torch.tensor(I_up_array, dtype=torch.complex128, device=my_device)\n",
    "    I_down = torch.tensor(I_down_array, dtype=torch.complex128, device=my_device)\n",
    "    return I_1, I_2, I_3, I_4, I_up, I_down"
   ]
  },
  {
   "cell_type": "code",
   "execution_count": 18,
   "id": "e165ebf3-9001-404b-9f56-39ffb7a523c0",
   "metadata": {},
   "outputs": [],
   "source": [
    "def row_tensor_mpo_create(row_id):\n",
    "    row_tensor_mpo = []\n",
    "    for col_id in range(dims[1]):\n",
    "        B_list = []\n",
    "        j_vec = j_matrix[row_id][col_id]\n",
    "        for jj in j_vec:\n",
    "            if jj == 1:\n",
    "                B_list.append(B_pos)\n",
    "            else:\n",
    "                B_list.append(B_neg)\n",
    "        B_list.append(I_4)\n",
    "        A_4_i = torch.einsum(\"ij, kl, mn, pq, jlnq -> ikmp\", B_list)\n",
    "        A_4_i = A_4_i / A_4_i.norm()\n",
    "        row_tensor_mpo.append(A_4_i)\n",
    "    return row_tensor_mpo"
   ]
  },
  {
   "cell_type": "code",
   "execution_count": 19,
   "id": "6a7d5cbc-917c-4210-96d1-eed6e78083a7",
   "metadata": {},
   "outputs": [],
   "source": [
    "def tensor_mpo_create():\n",
    "    tensor_mpo = []\n",
    "    for row_id in range(dims[0]):\n",
    "        row_tensor_mpo_i = row_tensor_mpo_create(row_id)\n",
    "        tensor_mpo.append(row_tensor_mpo_i)\n",
    "    return tensor_mpo"
   ]
  },
  {
   "cell_type": "code",
   "execution_count": 20,
   "id": "3da30a19-e194-407e-a252-9d299b8bb210",
   "metadata": {},
   "outputs": [],
   "source": [
    "global I_1, I_2, I_3, I_4, I_up, I_down"
   ]
  },
  {
   "cell_type": "code",
   "execution_count": 21,
   "id": "bc7c8474-d64b-4371-9dbd-058d4588d826",
   "metadata": {},
   "outputs": [],
   "source": [
    "global B_pos, B_neg, spin_pos_up, spin_pos_down, spin_neg_up, spin_neg_down"
   ]
  },
  {
   "cell_type": "code",
   "execution_count": 22,
   "id": "532d506c-ce4b-40b6-ac4d-89288d601528",
   "metadata": {},
   "outputs": [],
   "source": [
    "global tensor_mpo"
   ]
  },
  {
   "cell_type": "code",
   "execution_count": 23,
   "id": "fb49e39d-ff45-46c9-bfeb-5674d0ce33a3",
   "metadata": {},
   "outputs": [],
   "source": [
    "def tensors_init(my_device=my_device):\n",
    "    global I_1, I_2, I_3, I_4, I_up, I_down\n",
    "    global B_pos, B_neg, spin_pos_up, spin_pos_down, spin_neg_up, spin_neg_down\n",
    "    global tensor_mpo\n",
    "    I_1, I_2, I_3, I_4, I_up, I_down = copy_tensor_create(my_device)\n",
    "    B_pos, B_neg, spin_pos_up, spin_pos_down, spin_neg_up, spin_neg_down = node_tensor_create(my_device)\n",
    "    tensor_mpo = tensor_mpo_create()"
   ]
  },
  {
   "cell_type": "code",
   "execution_count": 24,
   "id": "21fc9937-ab21-4aba-87ab-e9d15f9c65ad",
   "metadata": {},
   "outputs": [],
   "source": [
    "tensors_init()"
   ]
  },
  {
   "cell_type": "code",
   "execution_count": 25,
   "id": "3e5d319e-12ed-4eba-8b1f-32e732560384",
   "metadata": {},
   "outputs": [],
   "source": [
    "def row_tensor_create(grid, id_left_bdy, id_right_bdy, id_up_bdy, id_down_bdy, my_device=my_device):\n",
    "    num_cols = id_right_bdy - id_left_bdy + 1\n",
    "    left_bdy_list, right_bdy_list = [], []\n",
    "    up_bdy_list, down_bdy_list = [], []\n",
    "    for i in range(id_up_bdy, id_down_bdy+1):\n",
    "        tuple_left_bdy = (i, (id_left_bdy-1)%dims[1])\n",
    "        tuple_right_bdy = (i, (id_right_bdy+1)%dims[1])\n",
    "        left_bdy_vector = bdy_vector_prepare(grid, tuple_left_bdy, 2)\n",
    "        left_bdy_list.append(left_bdy_vector)\n",
    "        right_bdy_vector = bdy_vector_prepare(grid, tuple_right_bdy, 0)\n",
    "        right_bdy_list.append(right_bdy_vector)\n",
    "    for jj in range(id_left_bdy, id_right_bdy+1):\n",
    "        tuple_up_bdy = ((id_up_bdy-1)%dims[0], jj)\n",
    "        tuple_down_bdy = ((id_down_bdy+1)%dims[0], jj)\n",
    "        up_bdy_vector = bdy_vector_prepare(grid, tuple_up_bdy, 1)\n",
    "        down_bdy_vector = bdy_vector_prepare(grid, tuple_down_bdy, 3)\n",
    "        up_bdy_list.append(up_bdy_vector)\n",
    "        down_bdy_list.append(down_bdy_vector)\n",
    "    ### contracting boundary vector with mpo to get the col mps\n",
    "    row_up_mps, row_down_mps = [], []\n",
    "    A_4_up, A_4_down = tensor_mpo[id_up_bdy][id_left_bdy], tensor_mpo[id_down_bdy][id_left_bdy]\n",
    "    start_up_tensor = torch.einsum(\"ijkl, l, mi -> mjk\", [A_4_up, up_bdy_list[0], torch.unsqueeze(left_bdy_list[0], 0)])\n",
    "    start_up_tensor = start_up_tensor / start_up_tensor.norm()\n",
    "    start_down_tensor = torch.einsum(\"ijkl, j, mi -> mkl\", [A_4_down, down_bdy_list[0], torch.unsqueeze(left_bdy_list[-1], 0)])\n",
    "    start_down_tensor = start_down_tensor / start_down_tensor.norm()\n",
    "    row_up_mps.append(start_up_tensor)\n",
    "    row_down_mps.append(start_down_tensor)\n",
    "    for i in range(id_left_bdy+1, id_right_bdy):\n",
    "        A_4_up = tensor_mpo[id_up_bdy][i]\n",
    "        A_4_down = tensor_mpo[id_down_bdy][i]\n",
    "        tensor_up_mps = torch.einsum(\"ijkl, l -> ijk\", [A_4_up, up_bdy_list[i-id_left_bdy]])\n",
    "        tensor_up_mps = tensor_up_mps / tensor_up_mps.norm()\n",
    "        tensor_down_mps = torch.einsum(\"ijkl, j -> ikl\", [A_4_down, down_bdy_list[i-id_left_bdy]])\n",
    "        tensor_down_mps = tensor_down_mps / tensor_down_mps.norm()\n",
    "        row_up_mps.append(tensor_up_mps)\n",
    "        row_down_mps.append(tensor_down_mps) \n",
    "    A_4_up, A_4_down = tensor_mpo[id_up_bdy][id_right_bdy], tensor_mpo[id_down_bdy][id_right_bdy]\n",
    "    end_up_tensor = torch.einsum(\"ijkl, l, km -> ijm\", [A_4_up, up_bdy_list[-1], torch.unsqueeze(right_bdy_list[0], 1)])\n",
    "    end_up_tensor = end_up_tensor / end_up_tensor.norm()\n",
    "    end_down_tensor = torch.einsum(\"ijkl, j, km -> iml\", [A_4_down, down_bdy_list[-1], torch.unsqueeze(right_bdy_list[-1], 1)])\n",
    "    end_down_tensor = end_down_tensor / end_down_tensor.norm()\n",
    "    row_up_mps.append(end_up_tensor)\n",
    "    row_down_mps.append(end_down_tensor)\n",
    "    return row_up_mps, row_down_mps"
   ]
  },
  {
   "cell_type": "code",
   "execution_count": 26,
   "id": "03d5b201-34a2-4701-b3fe-ee7b7a64855d",
   "metadata": {},
   "outputs": [],
   "source": [
    "def row_down_mps_create(grid, id_bdy, id_row):\n",
    "    id_left_bdy, id_right_bdy, id_up_bdy, id_down_bdy = id_bdy \n",
    "    num_rows = id_right_bdy - id_left_bdy + 1\n",
    "    mpo_i = tensor_mpo[id_row]\n",
    "    down_bdy_list = []\n",
    "    for jj in range(id_left_bdy, id_right_bdy+1):\n",
    "        tuple_down_bdy = ((id_row+1)%dims[0], jj)\n",
    "        down_bdy_vector = bdy_vector_prepare(grid, tuple_down_bdy, 3)\n",
    "        down_bdy_list.append(down_bdy_vector)\n",
    "    tuple_left_bdy = (id_row, (id_left_bdy-1)%dims[1])\n",
    "    left_bdy_vector = bdy_vector_prepare(grid, tuple_left_bdy, 2)\n",
    "    tuple_right_bdy = (id_row, (id_right_bdy+1)%dims[1])\n",
    "    right_bdy_vector = bdy_vector_prepare(grid, tuple_right_bdy, 0)  \n",
    "    row_down_mps = []\n",
    "    start_down_tensor = torch.einsum(\"ijkl, j, mi -> mkl\", [mpo_i[id_left_bdy], down_bdy_list[0], torch.unsqueeze(left_bdy_vector, 0)])\n",
    "    start_down_tensor = start_down_tensor / start_down_tensor.norm()\n",
    "    row_down_mps.append(start_down_tensor)\n",
    "    for i in range(1, num_rows-1):\n",
    "        tensor_down_mps = torch.einsum(\"ijkl, j -> ikl\", [mpo_i[id_left_bdy+i], down_bdy_list[i]])\n",
    "        tensor_down_mps = tensor_down_mps / tensor_down_mps.norm()\n",
    "        row_down_mps.append(tensor_down_mps)                           \n",
    "    end_down_tensor = torch.einsum(\"ijkl, j, km -> iml\", [mpo_i[id_right_bdy], down_bdy_list[-1], torch.unsqueeze(right_bdy_vector, 1)])\n",
    "    end_down_tensor = end_down_tensor / end_down_tensor.norm()\n",
    "    row_down_mps.append(end_down_tensor)\n",
    "    return row_down_mps"
   ]
  },
  {
   "cell_type": "code",
   "execution_count": 27,
   "id": "536f1adc-dd27-4c4d-82b9-cc962cabaaa6",
   "metadata": {
    "tags": []
   },
   "outputs": [],
   "source": [
    "def eat(mps, mpo):\n",
    "    \"\"\"\n",
    "    This function comes from Prof. Pan Zhang's github.\n",
    "    https://github.com/QuantumBFS/SSSS/blob/master/2_tensor_network/tensor_contraction_simple.ipynb\n",
    "    \"\"\"\n",
    "    return [torch.einsum(\"ijk, abcj-> iabkc\", mps[i], mpo[i]).contiguous().view(mps[i].shape[0] * mpo[i].shape[0], 2, -1) \n",
    "            for i in range(len(mps))]     "
   ]
  },
  {
   "cell_type": "code",
   "execution_count": 28,
   "id": "75fc9175-7663-4df4-b691-094884fc2488",
   "metadata": {},
   "outputs": [],
   "source": [
    "def eat_with_norm(mps, mpo):\n",
    "    mps_list = []\n",
    "    for i in range(len(mps)):\n",
    "        mps_i = torch.einsum(\"ijk, abcj-> iabkc\", mps[i], mpo[i]).contiguous().view(mps[i].shape[0] * mpo[i].shape[0], 2, -1)\n",
    "        mps_i = mps_i / mps_i.norm()\n",
    "        mps_list.append(mps_i)\n",
    "    return mps_list"
   ]
  },
  {
   "cell_type": "code",
   "execution_count": 29,
   "id": "59e3406a-e180-4c50-a7fa-43b0e5c29ef3",
   "metadata": {},
   "outputs": [],
   "source": [
    "def compress(mps, chi):\n",
    "    \"\"\"\n",
    "    This function comes from Prof. Pan Zhang's github. \n",
    "    https://github.com/QuantumBFS/SSSS/blob/master/2_tensor_network/tensor_contraction_simple.ipynb\n",
    "    Note: This function is extended to complex field.\n",
    "    \"\"\"\n",
    "    residual = 0\n",
    "    for i in range(len(mps)-1): # From left to right, sweep once doing qr decompositions\n",
    "        Q, R = torch.qr(mps[i].contiguous().view(mps[i].shape[0]*2, -1))\n",
    "        mps[i] = Q.contiguous().view(mps[i].shape[0], 2, -1)\n",
    "        mps[i+1] = torch.einsum(\"ij,jab->iab\", [R, mps[i+1]])\n",
    "    for i in range(len(mps) - 1, 0, -1): # From right to left, sweep onece using svd on the tensor merged from two consecutive tensors.\n",
    "        [U,s,V]=torch.svd(torch.einsum(\"ijk, kab->ijab\", mps[i-1], mps[i]).view(mps[i-1].shape[0] * 2, mps[i].shape[2]*2))\n",
    "        s = s.to(dtype=torch.complex128)\n",
    "        #print(s.shape)\n",
    "        #print(torch.sum(torch.abs(s[:chi])))\n",
    "        #print(torch.sum(torch.abs(s)))\n",
    "        err = 1 - torch.sum(torch.abs(s[:chi])) / torch.sum(torch.abs(s))\n",
    "        mps[i] = torch.conj(V[:, :chi]).t().contiguous().view(-1, 2, mps[i].shape[2])\n",
    "        mps[i-1] = (U[:, :chi]@torch.diag(s[:chi])).contiguous().view(mps[i-1].shape[0],2,-1)\n",
    "        tnorm=mps[i-1].norm()\n",
    "        mps[i-1] /= tnorm\n",
    "        #print(tnorm)\n",
    "        residual += math.log(tnorm)\n",
    "    return residual, mps, err"
   ]
  },
  {
   "cell_type": "code",
   "execution_count": 30,
   "id": "49dd986e-97a8-4d0f-b268-0f9c67df7c52",
   "metadata": {},
   "outputs": [],
   "source": [
    "def compress_without_trunc(mps):\n",
    "    \"\"\"\n",
    "    This function comes from Prof. Pan Zhang's github. \n",
    "    https://github.com/QuantumBFS/SSSS/blob/master/2_tensor_network/tensor_contraction_simple.ipynb\n",
    "    Note: This function is extended to complex field.\n",
    "    \"\"\"\n",
    "    residual = 0\n",
    "    for i in range(len(mps)-1): # From left to right, sweep once doing qr decompositions\n",
    "        Q, R = torch.qr(mps[i].contiguous().view(mps[i].shape[0]*2, -1))\n",
    "        mps[i] = Q.contiguous().view(mps[i].shape[0], 2, -1)\n",
    "        mps[i+1] = torch.einsum(\"ij,jab->iab\", [R, mps[i+1]])\n",
    "    for i in range(len(mps) - 1, 0, -1): # From right to left, sweep onece using svd on the tensor merged from two consecutive tensors.\n",
    "        [U, s, V]=torch.svd(torch.einsum(\"ijk, kab->ijab\", mps[i-1], mps[i]).view(mps[i-1].shape[0] * 2, mps[i].shape[2]*2))\n",
    "        s = s.to(dtype=torch.complex128)\n",
    "        mps[i] = torch.conj(V).t().contiguous().view(-1, 2, mps[i].shape[2])\n",
    "        mps[i-1] = (U@torch.diag(s)).contiguous().view(mps[i-1].shape[0], 2, -1)\n",
    "        tnorm = mps[i-1].norm()\n",
    "        mps[i-1] /= tnorm\n",
    "        residual += math.log(tnorm)\n",
    "    return residual, mps    "
   ]
  },
  {
   "cell_type": "code",
   "execution_count": 53,
   "id": "2cf86238-03ad-41c0-b859-6b553ddfde4e",
   "metadata": {},
   "outputs": [],
   "source": [
    "def contract_up_to_down(grid, id_bdy, bond_dims=20):\n",
    "    id_left_bdy, id_right_bdy, id_up_bdy, id_down_bdy = id_bdy\n",
    "    row_up_mps, row_down_mps = row_tensor_create(grid, id_left_bdy, id_right_bdy, id_up_bdy, id_down_bdy)\n",
    "    stack_mps = []\n",
    "    num_rows = id_down_bdy - id_up_bdy + 1\n",
    "    stack_mps.append(row_up_mps)\n",
    "    mps_orig = row_up_mps\n",
    "    row_tensor_mpo_bdy = tensor_mpo[id_up_bdy+1][id_left_bdy:id_right_bdy+1]\n",
    "    for i in range(num_rows-2):\n",
    "        tuple_left_bdy = (id_up_bdy+i+1, (id_left_bdy-1)%dims[1])\n",
    "        tuple_right_bdy = (id_up_bdy+i+1, (id_right_bdy+1)%dims[1])\n",
    "        left_bdy_vector = bdy_vector_prepare(grid, tuple_left_bdy, 2)\n",
    "        right_bdy_vector = bdy_vector_prepare(grid, tuple_right_bdy, 0)\n",
    "        row_tensor_mpo_bdy[0] = torch.einsum(\"ijkl, mi -> mjkl\", [row_tensor_mpo_bdy[0], torch.unsqueeze(left_bdy_vector, 0)])\n",
    "        row_tensor_mpo_bdy[-1] = torch.einsum(\"ijkl, km -> ijml\", [row_tensor_mpo_bdy[-1], torch.unsqueeze(right_bdy_vector, 1)])\n",
    "        #mps_orig = eat(mps_orig, row_tensor_mpo_bdy)\n",
    "        mps_orig = eat_with_norm(mps_orig, row_tensor_mpo_bdy)\n",
    "        #_, mps_orig, err = compress(mps_orig, bond_dims)\n",
    "        _, mps_orig = compress_without_trunc(mps_orig)\n",
    "        stack_mps.append(mps_orig)\n",
    "        row_tensor_mpo_bdy = tensor_mpo[id_up_bdy+2+i][id_left_bdy:id_right_bdy+1]\n",
    "    return stack_mps, row_down_mps"
   ]
  },
  {
   "cell_type": "code",
   "execution_count": 54,
   "id": "e472201f-429e-4652-95b2-f45005119c2b",
   "metadata": {
    "tags": []
   },
   "outputs": [],
   "source": [
    "def row_sampling(grid, id_row, id_bdy, mps_base, row_down_mps, my_device=my_device):\n",
    "    id_left_bdy, id_right_bdy, id_up_bdy, id_down_bdy = id_bdy\n",
    "    #mps_base = stack_mps.pop()\n",
    "    stack_contract = []\n",
    "    tensor_start = torch.einsum(\"ijk, lmj -> ilkm\", [mps_base[-1], row_down_mps[-1]])\n",
    "    tensor_start = tensor_start / tensor_start.norm()\n",
    "    tensor_start = tensor_start.squeeze()\n",
    "    ### tensor_start shape il\n",
    "    stack_contract.append(tensor_start)\n",
    "    for i in range(len(mps_base)-2, 0, -1):\n",
    "        tensor_i = torch.einsum(\"ijk, lmj -> ilkm\", [mps_base[i], row_down_mps[i]])\n",
    "        tensor_i = tensor_i / tensor_i.norm()\n",
    "        tensor_start = torch.einsum(\"ijkl, kl -> ij\", [tensor_i, tensor_start])\n",
    "        tensor_start = tensor_start / tensor_start.norm()\n",
    "        stack_contract.append(tensor_start)\n",
    "    ### Samping the head of the row\n",
    "    id_tensor = 0\n",
    "    tuple_left_bdy = (id_row, (id_left_bdy-1)%dims[1])\n",
    "    tuple_down_bdy = ((id_row+1)%dims[0], id_left_bdy)\n",
    "    left_bdy_vector = bdy_vector_prepare(grid, tuple_left_bdy, 2)\n",
    "    down_bdy_vector = bdy_vector_prepare(grid, tuple_down_bdy, 3)\n",
    "    j_vector = j_matrix[id_row][id_left_bdy]\n",
    "    B_left, B_down, B_right, B_up = B_tensor_prepare(j_vector)\n",
    "    tensor_right = stack_contract.pop()\n",
    "    tensor_right = torch.einsum(\"ij, mj -> im \", [tensor_right, B_right])\n",
    "    tensor_down = torch.einsum(\"ij, j -> i\", [B_down, down_bdy_vector])\n",
    "    tensor_left = torch.einsum(\"ij, j -> i\", [B_left, left_bdy_vector])\n",
    "    tensor_up = mps_base[id_tensor]\n",
    "    tensor_up = torch.einsum(\"ijk, jl -> ilk\", [tensor_up, B_up])\n",
    "    tensor_up = tensor_up.squeeze()\n",
    "    ### tensor_up shape lk\n",
    "    z_four_edge = torch.einsum(\"ij, jl, k, m -> ilkm\", [tensor_up, tensor_right, tensor_down, tensor_left])\n",
    "    z_up = torch.einsum(\"ijkl, ijkl -> \", [z_four_edge, I_up])\n",
    "    z_down = torch.einsum(\"ijkl, ijkl -> \", [z_four_edge, I_down])\n",
    "    z = z_up + z_down\n",
    "    prob_up_real = z_up.real / z.real\n",
    "    #print(z)\n",
    "    #print(prob_up_real)\n",
    "    prob_rand = np.random.random()\n",
    "    if prob_rand < prob_up_real:\n",
    "        grid[id_row][id_left_bdy] = 1\n",
    "        spin_vector = torch.tensor([1, 0], dtype=torch.complex128, device=my_device)\n",
    "    else:\n",
    "        grid[id_row][id_left_bdy] = -1\n",
    "        spin_vector = torch.tensor([0, 1], dtype=torch.complex128, device=my_device)\n",
    "    tensor_up = torch.einsum(\"ij, i -> j\", [tensor_up, spin_vector])\n",
    "    tensor_up = tensor_up / tensor_up.norm()\n",
    "    id_tensor += 1\n",
    "    ### Sampling the body of the row\n",
    "    for i in range(id_left_bdy+1, id_right_bdy):\n",
    "        j_vector = j_matrix[id_row][i]\n",
    "        tuple_left_bdy = (id_row, (i-1)%dims[1])\n",
    "        tuple_down_bdy = ((id_row+1)%dims[0], i)\n",
    "        left_bdy_vector = bdy_vector_prepare(grid, tuple_left_bdy, 2)\n",
    "        down_bdy_vector = bdy_vector_prepare(grid, tuple_down_bdy, 3)\n",
    "        B_left, B_down, B_right, B_up = B_tensor_prepare(j_vector)\n",
    "        tensor_right = stack_contract.pop()\n",
    "        tensor_right = torch.einsum(\"ij, mj -> im\", [tensor_right, B_right])\n",
    "        tensor_left = torch.einsum(\"ij, j -> i\", [B_left, left_bdy_vector])\n",
    "        tensor_up = torch.einsum(\"i, ijk, jl -> lk\", [tensor_up, mps_base[id_tensor], B_up])\n",
    "        tensor_down = torch.einsum(\"ij, j -> i\", [B_down, down_bdy_vector])\n",
    "        z_four_edge = torch.einsum(\"ij, jk, m, n -> ikmn\", [tensor_up, tensor_right, tensor_down, tensor_left])\n",
    "        z_up = torch.einsum(\"ijkl, ijkl -> \", [z_four_edge, I_up])\n",
    "        z_down = torch.einsum(\"ijkl, ijkl -> \", [z_four_edge, I_down])\n",
    "        z = z_up + z_down\n",
    "        prob_up_real = z_up.real / z.real\n",
    "        #print(z)\n",
    "        #print(prob_up_real)\n",
    "        #print(z_up/z)\n",
    "        prob_rand = np.random.random()\n",
    "        if prob_rand < prob_up_real:\n",
    "            grid[id_row][i] = 1\n",
    "            spin_vector = torch.tensor([1, 0], dtype=torch.complex128, device=my_device)\n",
    "        else:\n",
    "            grid[id_row][i] = -1\n",
    "            spin_vector = torch.tensor([0, 1], dtype=torch.complex128, device=my_device)\n",
    "        tensor_up = torch.einsum(\"ij, i -> j\", [tensor_up, spin_vector])\n",
    "        tensor_up = tensor_up / tensor_up.norm()\n",
    "        id_tensor += 1\n",
    "    ### Sampling the end of the row\n",
    "    j_vec = j_matrix[id_row][id_right_bdy]\n",
    "    B_left, B_down, B_right, B_up = B_tensor_prepare(j_vec)\n",
    "    tuple_left_bdy = (id_row, (id_right_bdy-1)%dims[1])\n",
    "    tuple_down_bdy = ((id_row+1)%dims[0], id_right_bdy)\n",
    "    tuple_right_bdy = (id_row, (id_right_bdy+1)%dims[1])\n",
    "    left_bdy_vector = bdy_vector_prepare(grid, tuple_left_bdy, 2)\n",
    "    down_bdy_vector = bdy_vector_prepare(grid, tuple_down_bdy, 3)\n",
    "    right_bdy_vector = bdy_vector_prepare(grid, tuple_right_bdy, 0)\n",
    "    tensor_right = torch.einsum(\"ij, j -> i\", [B_right, right_bdy_vector])\n",
    "    tensor_down = torch.einsum(\"ij, j -> i\", [B_down, down_bdy_vector])\n",
    "    tensor_left = torch.einsum(\"ij, j -> i\", [B_left, left_bdy_vector])\n",
    "    tensor_up = torch.einsum(\"j, jik, il -> lk\", [tensor_up, mps_base[id_tensor], B_up])\n",
    "    tensor_up = tensor_up.squeeze()\n",
    "    z_four_edge = torch.einsum(\"i, j, k, l -> ijkl\", [tensor_up, tensor_right, tensor_down, tensor_left])\n",
    "    z_up = torch.einsum(\"ijkl, ijkl -> \", [z_four_edge, I_up])\n",
    "    z_down = torch.einsum(\"ijkl, ijkl -> \", [z_four_edge, I_down])\n",
    "    z = z_up + z_down\n",
    "    prob_up_real = z_up.real / z.real\n",
    "    #print(z)\n",
    "    #print(prob_up_real)\n",
    "    #print(z_up/z)\n",
    "    prob_rand = np.random.random()\n",
    "    if prob_rand < prob_up_real:\n",
    "        grid[id_row][id_right_bdy] = 1\n",
    "        spin_vector = torch.tensor([1, 0], dtype=torch.complex128, device=my_device)\n",
    "    else:\n",
    "        grid[id_row][id_right_bdy] = -1\n",
    "        spin_vector = torch.tensor([0, 1], dtype=torch.complex128, device=my_device)\n",
    "    return grid"
   ]
  },
  {
   "cell_type": "code",
   "execution_count": 55,
   "id": "4ec3f390-b245-4e54-bda2-92908cb05fc6",
   "metadata": {},
   "outputs": [],
   "source": [
    "def mps_contract(mps_up, mps_down):\n",
    "    tensor_start = torch.einsum(\"ijk, lmj -> ilkm\", [mps_up[0], mps_down[0]])\n",
    "    tensor_start = torch.squeeze(tensor_start)\n",
    "    for i in range(1, len(mps_up)-1):\n",
    "        tensor_i = torch.einsum(\"ijk, lmj -> ilkm\", [mps_up[i], mps_down[i]])\n",
    "        tensor_start = torch.einsum(\"ij, ijkl -> kl\", [tensor_start, tensor_i])\n",
    "    tensor_end = torch.einsum(\"iml, jkm -> ijlk\", [mps_up[-1], mps_down[-1]])\n",
    "    tensor_end = torch.squeeze(tensor_end)\n",
    "    z = torch.einsum(\"ij, ij -> \", [tensor_start, tensor_end])\n",
    "    return z"
   ]
  },
  {
   "cell_type": "code",
   "execution_count": 56,
   "id": "e2ce9efc-6762-4f71-b2cb-0e0f7d2d15d0",
   "metadata": {},
   "outputs": [],
   "source": [
    "def base_row_sampling(grid, id_bdy):\n",
    "    id_left_bdy, id_right_bdy, id_up_bdy, id_down_bdy = id_bdy\n",
    "    id_row = id_up_bdy\n",
    "    base_row_mps = row_down_mps_create(grid, id_bdy, id_row)\n",
    "    stack_contract, up_bdy_vector_list = [], []\n",
    "    tuple_up_bdy = ((id_up_bdy-1)%dims[0], id_right_bdy)\n",
    "    up_bdy_vector = bdy_vector_prepare(grid, tuple_up_bdy, 1)\n",
    "    tensor_start = torch.einsum(\"ijk, k -> ij\", [base_row_mps[-1], up_bdy_vector])\n",
    "    tensor_start = tensor_start.squeeze()\n",
    "    ### tensor_start shape i\n",
    "    id_tensor = -2\n",
    "    stack_contract.append(tensor_start)\n",
    "    up_bdy_vector_list.append(up_bdy_vector)\n",
    "    for i in range(id_right_bdy-1, id_left_bdy, -1):\n",
    "        tuple_up_bdy = ((id_up_bdy-1)%dims[0], i)\n",
    "        up_bdy_vector = bdy_vector_prepare(grid, tuple_up_bdy, 1)\n",
    "        tensor_i = torch.einsum(\"ijk, k -> ij\", [base_row_mps[id_tensor], up_bdy_vector])\n",
    "        tensor_start = torch.einsum(\"ik, k -> i\", [tensor_i, tensor_start])\n",
    "        stack_contract.append(tensor_start)\n",
    "        up_bdy_vector_list.append(up_bdy_vector)\n",
    "        id_tensor -= 1\n",
    "    ### Samping the head of the row\n",
    "    id_tensor = 0\n",
    "    j_vector = j_matrix[id_row][id_left_bdy]\n",
    "    B_left, B_down, B_right, B_up = B_tensor_prepare(j_vector)\n",
    "    tuple_left_bdy = (id_up_bdy, (id_left_bdy-1)%dims[1])\n",
    "    tuple_down_bdy = ((id_up_bdy+1)%dims[0], id_left_bdy)\n",
    "    tuple_up_bdy = ((id_up_bdy-1)%dims[0], id_left_bdy)\n",
    "    left_bdy_vector = bdy_vector_prepare(grid, tuple_left_bdy, 2)\n",
    "    down_bdy_vector = bdy_vector_prepare(grid, tuple_down_bdy, 3)\n",
    "    up_bdy_vector = bdy_vector_prepare(grid, tuple_up_bdy, 1)\n",
    "    tensor_right = stack_contract.pop()\n",
    "    tensor_right = torch.einsum(\"i, mi -> m\", [tensor_right, B_right])\n",
    "    tensor_down = torch.einsum(\"ij, j -> i\", [B_down, down_bdy_vector])\n",
    "    tensor_left = torch.einsum(\"ij, j -> i\", [B_left, left_bdy_vector])\n",
    "    tensor_up = torch.einsum(\"ij, j -> i\", [B_up, up_bdy_vector])\n",
    "    z_four_edge = torch.einsum(\"i, j, k, l -> ijkl\", [tensor_up, tensor_right, tensor_down, tensor_left])\n",
    "    z_up = torch.einsum(\"ijkl, ijkl -> \", [z_four_edge, I_up])\n",
    "    z_down = torch.einsum(\"ijkl, ijkl -> \", [z_four_edge, I_down])\n",
    "    prob_up = z_up / (z_up + z_down)\n",
    "    #print(prob_up)\n",
    "    #print(z_up + z_down)\n",
    "    prob_rand = np.random.random()\n",
    "    if prob_rand < prob_up.real:\n",
    "        grid[id_up_bdy][id_left_bdy] = 1\n",
    "    else:\n",
    "        grid[id_up_bdy][id_left_bdy] = -1\n",
    "    ### Sampling the body of the row\n",
    "    for i in range(id_left_bdy+1, id_right_bdy):\n",
    "        j_vector = j_matrix[id_row][i]\n",
    "        B_left, B_down, B_right, B_up = B_tensor_prepare(j_vector)\n",
    "        up_bdy_vector = up_bdy_vector_list.pop()\n",
    "        tuple_left_bdy = (id_up_bdy, i-1)\n",
    "        left_bdy_vector = bdy_vector_prepare(grid, tuple_left_bdy, 2)\n",
    "        tuple_down_bdy = ((id_up_bdy+1)%dims[0], i)\n",
    "        down_bdy_vector = bdy_vector_prepare(grid, tuple_down_bdy, 3)\n",
    "        tensor_right = stack_contract.pop()\n",
    "        tensor_right = torch.einsum(\"i, mi -> m\", [tensor_right, B_right])\n",
    "        tensor_left = torch.einsum(\"ij, i -> j\", [B_left, left_bdy_vector])\n",
    "        tensor_up = torch.einsum(\"i, ij -> j\", [up_bdy_vector, B_up])\n",
    "        tensor_down = torch.einsum(\"ij, i -> j\", [B_down, down_bdy_vector])\n",
    "        z_four_edge = torch.einsum(\"i, j, m, n -> ijmn\", [tensor_up, tensor_right, tensor_down, tensor_left])\n",
    "        z_up = torch.einsum(\"ijkl, ijkl -> \", [z_four_edge, I_up])\n",
    "        z_down = torch.einsum(\"ijkl, ijkl -> \", [z_four_edge, I_down])\n",
    "        prob_up = z_up / (z_up + z_down)\n",
    "        #print(prob_up)\n",
    "        #print(z_up + z_down)\n",
    "        prob_rand = np.random.random()\n",
    "        if prob_rand < prob_up.real:\n",
    "            grid[id_up_bdy][i] = 1\n",
    "        else:\n",
    "            grid[id_up_bdy][i] = -1\n",
    "    ### Sampling the end of the row\n",
    "    j_vector = j_matrix[id_row][id_right_bdy]\n",
    "    B_left, B_down, B_right, B_up = B_tensor_prepare(j_vector)\n",
    "    tuple_left_bdy = (id_up_bdy, id_right_bdy-1)\n",
    "    left_bdy_vector = bdy_vector_prepare(grid, tuple_left_bdy, 2)\n",
    "    up_bdy_vector = up_bdy_vector_list.pop()\n",
    "    tuple_down_bdy = ((id_up_bdy+1)%dims[0], id_right_bdy)\n",
    "    tuple_right_bdy = (id_up_bdy, (id_right_bdy+1)%dims[1])\n",
    "    down_bdy_vector = bdy_vector_prepare(grid, tuple_down_bdy, 3)\n",
    "    right_bdy_vector = bdy_vector_prepare(grid, tuple_right_bdy, 0)\n",
    "    tensor_right = torch.einsum(\"j, ij -> i\", [right_bdy_vector, B_right])\n",
    "    tensor_down = torch.einsum(\"ij, j -> i\", [B_down, down_bdy_vector])\n",
    "    tensor_left = torch.einsum(\"ij, j -> i\", [B_left, left_bdy_vector])\n",
    "    tensor_up = torch.einsum(\"j, ij -> i\", [up_bdy_vector, B_up])\n",
    "    z_four_edge = torch.einsum(\"i, j, k, l -> ijkl\", [tensor_up, tensor_right, tensor_down, tensor_left])\n",
    "    z_up = torch.einsum(\"ijkl, ijkl -> \", [z_four_edge, I_up])\n",
    "    z_down = torch.einsum(\"ijkl, ijkl -> \", [z_four_edge, I_down])\n",
    "    prob_up = z_up / (z_up + z_down)\n",
    "    #print(prob_up)\n",
    "    #print(z_up + z_down)\n",
    "    prob_rand = np.random.random()\n",
    "    if prob_rand < prob_up.real:\n",
    "        grid[id_up_bdy][id_right_bdy] = 1\n",
    "    else:\n",
    "        grid[id_up_bdy][id_right_bdy] = -1\n",
    "    return grid"
   ]
  },
  {
   "cell_type": "code",
   "execution_count": 57,
   "id": "23e6caae-304c-48a8-936c-5c6fe5a95180",
   "metadata": {},
   "outputs": [],
   "source": [
    "types_neibor_get_triangle_func = nb.types.UniTuple(nb.types.UniTuple(nb.int8, 2), 4)(nb.types.UniTuple(nb.int8, 2))\n",
    "@nb.cfunc(types_neibor_get_triangle_func)\n",
    "def neibor_get_square(id_grid):\n",
    "    height, width = dims\n",
    "    height_index, width_index = id_grid\n",
    "    l_neibor = (height_index, (width_index - 1) % width)\n",
    "    r_neibor = (height_index, (width_index + 1) % width)\n",
    "    u_neibor = ((height_index - 1) % height, width_index)\n",
    "    d_neibor = ((height_index + 1) % height, width_index)\n",
    "    return (l_neibor, d_neibor, r_neibor, u_neibor)"
   ]
  },
  {
   "cell_type": "code",
   "execution_count": 58,
   "id": "32e7c056-2616-45a8-b2d1-5baa45f55481",
   "metadata": {},
   "outputs": [],
   "source": [
    "def one_forth_sampling(grid, id_bdy, bond_dim=20):\n",
    "    id_left_bdy, id_right_bdy, id_up_bdy, id_down_bdy = id_bdy\n",
    "    stack_mps, row_down_mps = contract_up_to_down(grid, id_bdy, bond_dim)\n",
    "    mps_base = stack_mps.pop()\n",
    "    grid = row_sampling(grid, id_down_bdy, id_bdy, mps_base, row_down_mps)\n",
    "    for i in range(id_down_bdy-1, id_up_bdy, -1):\n",
    "        mps_base = stack_mps.pop()\n",
    "        row_down_mps_i = row_down_mps_create(grid, id_bdy, i)\n",
    "        grid = row_sampling(grid, i, id_bdy, mps_base, row_down_mps_i)\n",
    "    grid = base_row_sampling(grid, id_bdy)\n",
    "    return grid"
   ]
  },
  {
   "cell_type": "code",
   "execution_count": 59,
   "id": "c91c2aca-60be-405b-a374-63ee4ffda289",
   "metadata": {},
   "outputs": [],
   "source": [
    "def block_sampling_one_step(grid):\n",
    "    num_rows, num_cols = dims[0], dims[1]\n",
    "    row_bdy_1, row_bdy_2, row_bdy_3 = 0, num_rows // 2 - 1, num_rows - 1\n",
    "    col_bdy_1, col_bdy_2, col_bdy_3 = 0, num_cols // 2 - 1, num_cols - 1\n",
    "    # ul, ur\n",
    "    # dl, dr\n",
    "    id_bdy_dl = (col_bdy_1, col_bdy_2, row_bdy_1, row_bdy_2)\n",
    "    id_bdy_dr = (col_bdy_2+1, col_bdy_3, row_bdy_1, row_bdy_2)\n",
    "    id_bdy_ul = (col_bdy_1, col_bdy_2, row_bdy_2+1, row_bdy_3)\n",
    "    id_bdy_ur = (col_bdy_2+1, col_bdy_3, row_bdy_2+1, row_bdy_3)\n",
    "    # sampling all the four pieces of the block\n",
    "    grid = one_forth_sampling(grid, id_bdy_dl)\n",
    "    grid = one_forth_sampling(grid, id_bdy_dr)\n",
    "    grid = one_forth_sampling(grid, id_bdy_ul)\n",
    "    grid = one_forth_sampling(grid, id_bdy_ur)\n",
    "    return grid"
   ]
  },
  {
   "cell_type": "code",
   "execution_count": 60,
   "id": "dcfa8ad0-26b4-4899-9aae-5246c639bdec",
   "metadata": {},
   "outputs": [],
   "source": [
    "def block_sampling_one_step_arbitrary(grid, bond_dim):\n",
    "    num_rows, num_cols = dims[0], dims[1]\n",
    "    row_bdy_1, row_bdy_2 = (0, num_rows // 4 - 1), (num_rows // 4, num_rows // 2 - 1)\n",
    "    row_bdy_3, row_bdy_4 = (num_rows // 2, num_rows // 4 * 3 - 1), (num_rows // 4 * 3, num_rows - 1)\n",
    "    col_bdy_1, col_bdy_2 = (0, num_cols // 4 - 1), (num_cols // 4, num_cols // 2 - 1)\n",
    "    col_bdy_3, col_bdy_4 = (num_cols // 2, num_cols // 4 * 3 - 1), (num_cols // 4 * 3, num_cols - 1)  \n",
    "    row_list = [row_bdy_1, row_bdy_2, row_bdy_3, row_bdy_4]\n",
    "    col_list = [col_bdy_1, col_bdy_2, col_bdy_3, col_bdy_4]\n",
    "    for row in row_list:\n",
    "        for col in col_list:\n",
    "            id_bdy_i = row + col\n",
    "            grid = one_forth_sampling(grid, id_bdy_i, bond_dim)\n",
    "    return grid"
   ]
  },
  {
   "cell_type": "code",
   "execution_count": 61,
   "id": "074ed07a-0e81-4524-bfda-bcd0efdea537",
   "metadata": {},
   "outputs": [],
   "source": [
    "@nb.njit(nb.float32(nb.int8[:, :]))\n",
    "def energy_compute_grids(grids):\n",
    "    energy_total = 0\n",
    "    for ii in range(dims[0]):\n",
    "        for jj in range(dims[1]):\n",
    "            id_neibors = neibor_get_square((nb.int8(ii), nb.int8(jj)))\n",
    "            j_vector = j_matrix[ii][jj]\n",
    "            for i, ij in enumerate(id_neibors):\n",
    "                j = j_vector[i]\n",
    "                energy_ij = -1/2 * j * grids[ij[0]][ij[1]] * grids[ii][jj]\n",
    "                energy_total += energy_ij\n",
    "            ### compute the energy of external field\n",
    "            energy_total += -h * grids[ii][jj]\n",
    "    energy_per_spin = energy_total / (dims[0] * dims[1])\n",
    "    return energy_per_spin"
   ]
  },
  {
   "cell_type": "code",
   "execution_count": 62,
   "id": "404c1533-f9de-4a31-b9a1-06682e8c5290",
   "metadata": {},
   "outputs": [],
   "source": [
    "@nb.njit(nb.float32(nb.int8[:, :]))\n",
    "def magnet_grids(grids):\n",
    "    m_mean = np.mean(grids)\n",
    "    return m_mean"
   ]
  },
  {
   "cell_type": "code",
   "execution_count": 63,
   "id": "697f61da-6aab-4b4d-b5bf-04e4d583d7c3",
   "metadata": {},
   "outputs": [],
   "source": [
    "@nb.njit(nb.float64(nb.int8[:, :]))\n",
    "def magnet_subgrids(grid):\n",
    "    m_1, m_2 = 0, 0\n",
    "    for i in range(dims[0]):\n",
    "        for j in range(dims[1]):\n",
    "            if (j + i) % 2 == 0:\n",
    "                m_1 += grid[i][j]\n",
    "            else:\n",
    "                m_2 += grid[i][j]\n",
    "    m_abs_per_spin = np.abs(m_1 - m_2) / (dims[0] * dims[1])\n",
    "    return m_abs_per_spin"
   ]
  },
  {
   "cell_type": "code",
   "execution_count": 64,
   "id": "90d3c9cf-e139-42a1-aca7-085fa08678c7",
   "metadata": {},
   "outputs": [],
   "source": [
    "def grid_transform(grid):\n",
    "    id_rand = np.random.randint(0, dims[0]*dims[1])\n",
    "    id_row, id_col = id_rand // dims[0], id_rand % dims[0]\n",
    "    grid_new = np.zeros((dims[0], dims[1]), dtype=np.int8)\n",
    "    grid_new[:dims[0]-id_row, :dims[1]-id_col] = grid[id_row:, id_col:]\n",
    "    grid_new[:dims[0]-id_row, dims[1]-id_col:] = grid[id_row:, :id_col]\n",
    "    grid_new[dims[0]-id_row:, :dims[1]-id_col] = grid[:id_row, id_col:]\n",
    "    grid_new[dims[0]-id_row:, dims[1]-id_col:] = grid[:id_row, :id_col]\n",
    "    return grid_new"
   ]
  },
  {
   "cell_type": "code",
   "execution_count": 65,
   "id": "10a9c9a0-9fb8-4afb-8eb5-dcdb998e7cdf",
   "metadata": {},
   "outputs": [],
   "source": [
    "def one_forth_evv(grid_1, grid_2, num_steps, bond_dim=20):\n",
    "    #grid_list = []\n",
    "    magnet_list_1, magnet_list_2 = [], []\n",
    "    energy_list_1, energy_list_2 = [], []\n",
    "    q_list = []\n",
    "    for i in trange(num_steps):\n",
    "        energy_per_spin_1 = energy_compute_grids(grid_1)\n",
    "        energy_per_spin_2 = energy_compute_grids(grid_2)\n",
    "        magnet_per_spin_1 = magnet_grids(grid_1)\n",
    "        magnet_per_spin_2 = magnet_grids(grid_2)\n",
    "        magnet_list_1.append(magnet_per_spin_1)\n",
    "        magnet_list_2.append(magnet_per_spin_2)\n",
    "        energy_list_1.append(energy_per_spin_1)\n",
    "        energy_list_2.append(energy_per_spin_2)\n",
    "        #grid = block_sampling_one_step_arbitrary(grid, bond_dim)\n",
    "        grid_1 = block_sampling_one_step(grid_1)\n",
    "        grid_2 = block_sampling_one_step(grid_2)\n",
    "        grid_1_vector = np.reshape(grid_1, -1)\n",
    "        grid_2_vector = np.reshape(grid_2, -1)\n",
    "        q_i = np.dot(grid_1_vector, grid_2_vector) / (dims[0] * dims[1])\n",
    "        q_list.append(q_i)\n",
    "        #grid = grid_transform(grid)\n",
    "        #grid_list.append(grid.copy())\n",
    "        #energy_list.append(energy_per_spin)\n",
    "        #magnet_list.append(magnet_per_spin)\n",
    "    #return grid, grid_list, energy_list, magnet_list\n",
    "    energy_per_spin_1 = energy_compute_grids(grid_1)\n",
    "    energy_per_spin_2 = energy_compute_grids(grid_2)\n",
    "    magnet_per_spin_1 = magnet_grids(grid_1)\n",
    "    magnet_per_spin_2 = magnet_grids(grid_2)\n",
    "    magnet_list_1.append(magnet_per_spin_1)\n",
    "    magnet_list_2.append(magnet_per_spin_2)\n",
    "    energy_list_1.append(energy_per_spin_1)\n",
    "    energy_list_2.append(energy_per_spin_2)\n",
    "    return grid_1, grid_2, magnet_list_1, magnet_list_2, energy_list_1, energy_list_2, q_list"
   ]
  },
  {
   "cell_type": "code",
   "execution_count": 66,
   "id": "efff414a-e4b2-4a10-9282-9ed2f173c602",
   "metadata": {},
   "outputs": [],
   "source": [
    "def spin_viz(grid, figsize=(10, 10), save=False, folder_name=None):\n",
    "    fig = plt.figure(figsize=figsize)\n",
    "    x, y = np.meshgrid(np.arange(0, dims[0]), np.arange(0, dims[1]))\n",
    "    u = np.cos(grid*np.pi/2)\n",
    "    v = np.sin(grid*np.pi/2)\n",
    "    q = plt.quiver(x, y, u, v)\n",
    "    plt.axis('off')\n",
    "    plt.title('T={:.3f}, spins={}'.format(1/beta, dims), fontsize=20)\n",
    "    if save and step is not None:\n",
    "        plt.savefig(f'./{folder_name}/config_plot_step_{step}.pdf', dpi=100)\n",
    "        plt.close(fig)"
   ]
  },
  {
   "cell_type": "markdown",
   "id": "3cf6f9e5-9ff5-4705-b586-370ac3ffaf6b",
   "metadata": {},
   "source": [
    "------------------\n",
    "### Beta = 5, Size = 4"
   ]
  },
  {
   "cell_type": "code",
   "execution_count": 48,
   "id": "e8e5949f-a7df-4f11-9052-0c884ace3b7d",
   "metadata": {},
   "outputs": [
    {
     "data": {
      "image/png": "[encoded data removed]",
      "text/plain": [
       "<Figure size 720x720 with 1 Axes>"
      ]
     },
     "metadata": {
      "needs_background": "light"
     },
     "output_type": "display_data"
    }
   ],
   "source": [
    "spin_viz(grid_1)"
   ]
  },
  {
   "cell_type": "code",
   "execution_count": 49,
   "id": "10ca4b73-d2f4-4454-a9b9-c8d7da44a697",
   "metadata": {},
   "outputs": [
    {
     "data": {
      "application/vnd.jupyter.widget-view+json": {
       "model_id": "355e14838df04fc591adf04f004d8fd6",
       "version_major": 2,
       "version_minor": 0
      },
      "text/plain": [
       "  0%|          | 0/1000 [00:00<?, ?it/s]"
      ]
     },
     "metadata": {},
     "output_type": "display_data"
    },
    {
     "name": "stdout",
     "output_type": "stream",
     "text": [
      "Time used for 1E5 steps is: 20.56153106689453.\n"
     ]
    }
   ],
   "source": [
    "### Burning-in stage\n",
    "time_start = time.time()\n",
    "num_steps = 1000\n",
    "_, _, m_history_1, m_history_2, energy_history_1, energy_history_2, q_list = one_forth_evv(grid_1, grid_2, num_steps)\n",
    "time_end = time.time()\n",
    "print(f\"Time used for 1E5 steps is: {time_end-time_start}.\")"
   ]
  },
  {
   "cell_type": "code",
   "execution_count": 50,
   "id": "497223c4-156d-4880-ba6c-3050e6b5f87b",
   "metadata": {},
   "outputs": [
    {
     "data": {
      "text/plain": [
       "[<matplotlib.lines.Line2D at 0x7feb9d409270>]"
      ]
     },
     "execution_count": 50,
     "metadata": {},
     "output_type": "execute_result"
    },
    {
     "data": {
      "image/png": "[encoded data removed]",
      "text/plain": [
       "<Figure size 432x288 with 1 Axes>"
      ]
     },
     "metadata": {
      "needs_background": "light"
     },
     "output_type": "display_data"
    }
   ],
   "source": [
    "plt.plot(energy_history_1)"
   ]
  },
  {
   "cell_type": "code",
   "execution_count": 51,
   "id": "c066159b-d13b-4d60-96fe-239ba4e836b0",
   "metadata": {},
   "outputs": [
    {
     "data": {
      "text/plain": [
       "[<matplotlib.lines.Line2D at 0x7feb9d0e7a00>]"
      ]
     },
     "execution_count": 51,
     "metadata": {},
     "output_type": "execute_result"
    },
    {
     "data": {
      "image/png": "[encoded data removed]",
      "text/plain": [
       "<Figure size 432x288 with 1 Axes>"
      ]
     },
     "metadata": {
      "needs_background": "light"
     },
     "output_type": "display_data"
    }
   ],
   "source": [
    "plt.plot(energy_history_2)"
   ]
  },
  {
   "cell_type": "code",
   "execution_count": 52,
   "id": "76eba8a7-e4d6-4ee7-a757-b7a2dfab602b",
   "metadata": {},
   "outputs": [],
   "source": [
    "m_abs_mean = (np.mean(np.abs(m_history_1)) + np.mean(np.abs(m_history_2))) / 2"
   ]
  },
  {
   "cell_type": "code",
   "execution_count": 53,
   "id": "3a731c15-5de7-4330-973b-e117a87c4d3b",
   "metadata": {},
   "outputs": [
    {
     "name": "stdout",
     "output_type": "stream",
     "text": [
      "abs mean of m is: 0.436.\n"
     ]
    }
   ],
   "source": [
    "print(f\"abs mean of m is: {m_abs_mean:.3f}.\")"
   ]
  },
  {
   "cell_type": "markdown",
   "id": "6e06df7e-8166-42f6-8b08-43bc25913d53",
   "metadata": {},
   "source": [
    "-----\n",
    "### Beta = 5, Size = 8"
   ]
  },
  {
   "cell_type": "code",
   "execution_count": 51,
   "id": "3809dbc5-eb03-4aaa-b8ca-02686d67afbe",
   "metadata": {},
   "outputs": [
    {
     "data": {
      "image/png": "[encoded data removed]",
      "text/plain": [
       "<Figure size 720x720 with 1 Axes>"
      ]
     },
     "metadata": {
      "needs_background": "light"
     },
     "output_type": "display_data"
    }
   ],
   "source": [
    "spin_viz(grid_2)"
   ]
  },
  {
   "cell_type": "code",
   "execution_count": 52,
   "id": "a3709d14-12be-43bf-95e1-bebd8255376f",
   "metadata": {},
   "outputs": [
    {
     "data": {
      "application/vnd.jupyter.widget-view+json": {
       "model_id": "cc82139db3eb41a591e66d616353160b",
       "version_major": 2,
       "version_minor": 0
      },
      "text/plain": [
       "  0%|          | 0/1000 [00:00<?, ?it/s]"
      ]
     },
     "metadata": {},
     "output_type": "display_data"
    },
    {
     "name": "stderr",
     "output_type": "stream",
     "text": [
      "/tmp/ipykernel_389241/4017202548.py:9: UserWarning: torch.qr is deprecated in favor of torch.linalg.qr and will be removed in a future PyTorch release.\n",
      "The boolean parameter 'some' has been replaced with a string parameter 'mode'.\n",
      "Q, R = torch.qr(A, some)\n",
      "should be replaced with\n",
      "Q, R = torch.linalg.qr(A, 'reduced' if some else 'complete') (Triggered internally at  /opt/conda/conda-bld/pytorch_1646755897462/work/aten/src/ATen/native/BatchLinearAlgebra.cpp:1980.)\n",
      "  Q, R = torch.qr(mps[i].contiguous().view(mps[i].shape[0]*2, -1))\n"
     ]
    },
    {
     "name": "stdout",
     "output_type": "stream",
     "text": [
      "Time used for 1E5 steps is: 130.91847944259644.\n"
     ]
    }
   ],
   "source": [
    "### Burning-in stage\n",
    "time_start = time.time()\n",
    "num_steps = 1000\n",
    "_, _, m_history_1, m_history_2, energy_history_1, energy_history_2, q_list = one_forth_evv(grid_1, grid_2, num_steps)\n",
    "time_end = time.time()\n",
    "print(f\"Time used for 1E5 steps is: {time_end-time_start}.\")"
   ]
  },
  {
   "cell_type": "code",
   "execution_count": 53,
   "id": "7ac8e553-006f-4c98-916a-74f222e51a27",
   "metadata": {},
   "outputs": [
    {
     "data": {
      "text/plain": [
       "[<matplotlib.lines.Line2D at 0x7f1493ed9810>]"
      ]
     },
     "execution_count": 53,
     "metadata": {},
     "output_type": "execute_result"
    },
    {
     "data": {
      "image/png": "[encoded data removed]",
      "text/plain": [
       "<Figure size 432x288 with 1 Axes>"
      ]
     },
     "metadata": {
      "needs_background": "light"
     },
     "output_type": "display_data"
    }
   ],
   "source": [
    "plt.plot(energy_history_1)"
   ]
  },
  {
   "cell_type": "code",
   "execution_count": 54,
   "id": "e0861424-91dc-4e70-8b44-2cb0813d73ef",
   "metadata": {},
   "outputs": [
    {
     "data": {
      "text/plain": [
       "[<matplotlib.lines.Line2D at 0x7f149359be20>]"
      ]
     },
     "execution_count": 54,
     "metadata": {},
     "output_type": "execute_result"
    },
    {
     "data": {
      "image/png": "[encoded data removed]",
      "text/plain": [
       "<Figure size 432x288 with 1 Axes>"
      ]
     },
     "metadata": {
      "needs_background": "light"
     },
     "output_type": "display_data"
    }
   ],
   "source": [
    "plt.plot(energy_history_2)"
   ]
  },
  {
   "cell_type": "code",
   "execution_count": 55,
   "id": "aa38f26d-ab63-4df4-9fc2-7d831dfcaae0",
   "metadata": {},
   "outputs": [],
   "source": [
    "m_abs_mean = (np.mean(np.abs(m_history_1)) + np.mean(np.abs(m_history_2))) / 2"
   ]
  },
  {
   "cell_type": "code",
   "execution_count": 63,
   "id": "fdda0ae6-a107-43a9-9c2c-b1be40528b57",
   "metadata": {},
   "outputs": [
    {
     "name": "stdout",
     "output_type": "stream",
     "text": [
      "abs mean of m is: 0.401.\n"
     ]
    }
   ],
   "source": [
    "print(f\"abs mean of m is: {m_abs_mean:.3f}.\")"
   ]
  },
  {
   "cell_type": "markdown",
   "id": "ef82a7ab-0b10-4a9e-b98a-9cd773c32da0",
   "metadata": {},
   "source": [
    "-----------------\n",
    "### Beta = 5, Size = 16"
   ]
  },
  {
   "cell_type": "code",
   "execution_count": 48,
   "id": "03673f7b-7736-452d-be62-676490b8799f",
   "metadata": {},
   "outputs": [
    {
     "data": {
      "image/png": "[encoded data removed]",
      "text/plain": [
       "<Figure size 720x720 with 1 Axes>"
      ]
     },
     "metadata": {
      "needs_background": "light"
     },
     "output_type": "display_data"
    }
   ],
   "source": [
    "spin_viz(grid_1)"
   ]
  },
  {
   "cell_type": "code",
   "execution_count": 49,
   "id": "6d6f2b35-29d9-4a9e-8f33-8a96156f79c7",
   "metadata": {},
   "outputs": [
    {
     "data": {
      "application/vnd.jupyter.widget-view+json": {
       "model_id": "16e969acda2441aab5a761abc3e2cb77",
       "version_major": 2,
       "version_minor": 0
      },
      "text/plain": [
       "  0%|          | 0/1000 [00:00<?, ?it/s]"
      ]
     },
     "metadata": {},
     "output_type": "display_data"
    },
    {
     "name": "stderr",
     "output_type": "stream",
     "text": [
      "/tmp/ipykernel_383881/721598874.py:9: UserWarning: torch.qr is deprecated in favor of torch.linalg.qr and will be removed in a future PyTorch release.\n",
      "The boolean parameter 'some' has been replaced with a string parameter 'mode'.\n",
      "Q, R = torch.qr(A, some)\n",
      "should be replaced with\n",
      "Q, R = torch.linalg.qr(A, 'reduced' if some else 'complete') (Triggered internally at  /opt/conda/conda-bld/pytorch_1646755897462/work/aten/src/ATen/native/BatchLinearAlgebra.cpp:1980.)\n",
      "  Q, R = torch.qr(mps[i].contiguous().view(mps[i].shape[0]*2, -1))\n"
     ]
    }
   ],
   "source": [
    "### Burning-in Stage\n",
    "time_start = time.time()\n",
    "num_steps, bond_dims = 1000, 20\n",
    "_, _, m_history_1, m_history_2, energy_history_1, energy_history_2, q_list = one_forth_evv(grid_1, grid_2, num_steps)\n",
    "time_end = time.time()"
   ]
  },
  {
   "cell_type": "code",
   "execution_count": 57,
   "id": "9c6b9345-dd9d-4b41-b7f1-499a6a9e025d",
   "metadata": {},
   "outputs": [
    {
     "data": {
      "text/plain": [
       "[<matplotlib.lines.Line2D at 0x7f84002788b0>]"
      ]
     },
     "execution_count": 57,
     "metadata": {},
     "output_type": "execute_result"
    },
    {
     "data": {
      "image/png": "[encoded data removed]",
      "text/plain": [
       "<Figure size 432x288 with 1 Axes>"
      ]
     },
     "metadata": {
      "needs_background": "light"
     },
     "output_type": "display_data"
    }
   ],
   "source": [
    "plt.plot(energy_history_1)"
   ]
  },
  {
   "cell_type": "code",
   "execution_count": 59,
   "id": "058b6e9d-1dd7-4351-905e-207dfcb8c49e",
   "metadata": {},
   "outputs": [
    {
     "data": {
      "text/plain": [
       "[<matplotlib.lines.Line2D at 0x7f840011eb30>]"
      ]
     },
     "execution_count": 59,
     "metadata": {},
     "output_type": "execute_result"
    },
    {
     "data": {
      "image/png": "[encoded data removed]",
      "text/plain": [
       "<Figure size 432x288 with 1 Axes>"
      ]
     },
     "metadata": {
      "needs_background": "light"
     },
     "output_type": "display_data"
    }
   ],
   "source": [
    "plt.plot(energy_history_2)"
   ]
  },
  {
   "cell_type": "code",
   "execution_count": 55,
   "id": "7bce0ca8-520e-40c8-a71d-6c2dc878b7be",
   "metadata": {},
   "outputs": [],
   "source": [
    "m_abs_mean = (np.mean(np.abs(m_history_1)) + np.mean(np.abs(m_history_2))) / 2"
   ]
  },
  {
   "cell_type": "code",
   "execution_count": 56,
   "id": "b3da207c-dabe-46bc-97a2-c5412d6a4104",
   "metadata": {},
   "outputs": [
    {
     "name": "stdout",
     "output_type": "stream",
     "text": [
      "abs mean of m is: 0.349.\n"
     ]
    }
   ],
   "source": [
    "print(f\"abs mean of m is: {m_abs_mean:.3f}.\")"
   ]
  },
  {
   "cell_type": "markdown",
   "id": "55ec24d4-6321-4c4f-9411-5bb20a2ae8ed",
   "metadata": {},
   "source": [
    "-----------------\n",
    "### Beta = 5, Size = 32"
   ]
  },
  {
   "cell_type": "code",
   "execution_count": 45,
   "id": "d38fec35-cfa0-4ecf-9309-80f5143ef51e",
   "metadata": {},
   "outputs": [
    {
     "data": {
      "image/png": "[encoded data removed]",
      "text/plain": [
       "<Figure size 720x720 with 1 Axes>"
      ]
     },
     "metadata": {
      "needs_background": "light"
     },
     "output_type": "display_data"
    }
   ],
   "source": [
    "spin_viz(grid_1)"
   ]
  },
  {
   "cell_type": "code",
   "execution_count": null,
   "id": "4c630dd1-3318-4e9d-bdbf-51d58c5fbfa0",
   "metadata": {},
   "outputs": [],
   "source": [
    "### Burning-in stage\n",
    "time_start = time.time()\n",
    "num_steps, bond_dims = 1000, 50\n",
    "_, _, m_history_1, m_history_2, energy_history_1, energy_history_2, q_list = one_forth_evv(grid_1, grid_2, num_steps)\n",
    "time_end = time.time()\n",
    "print(f\"Time used for 1E5 steps is: {time_end-time_start}.\")"
   ]
  },
  {
   "cell_type": "code",
   "execution_count": 67,
   "id": "0ef5a6b1-9a60-4d90-a323-385464615713",
   "metadata": {},
   "outputs": [
    {
     "data": {
      "text/plain": [
       "[<matplotlib.lines.Line2D at 0x7fc04f922ad0>]"
      ]
     },
     "execution_count": 67,
     "metadata": {},
     "output_type": "execute_result"
    },
    {
     "data": {
      "image/png": "[encoded data removed]",
      "text/plain": [
       "<Figure size 432x288 with 1 Axes>"
      ]
     },
     "metadata": {
      "needs_background": "light"
     },
     "output_type": "display_data"
    }
   ],
   "source": [
    "plt.plot(energy_history_1)"
   ]
  },
  {
   "cell_type": "code",
   "execution_count": 68,
   "id": "a5d7cdf4-cde4-48d4-918b-d5704c21b653",
   "metadata": {},
   "outputs": [
    {
     "data": {
      "text/plain": [
       "[<matplotlib.lines.Line2D at 0x7fc04fc16d70>]"
      ]
     },
     "execution_count": 68,
     "metadata": {},
     "output_type": "execute_result"
    },
    {
     "data": {
      "image/png": "[encoded data removed]",
      "text/plain": [
       "<Figure size 432x288 with 1 Axes>"
      ]
     },
     "metadata": {
      "needs_background": "light"
     },
     "output_type": "display_data"
    }
   ],
   "source": [
    "plt.plot(energy_history_2)"
   ]
  },
  {
   "cell_type": "code",
   "execution_count": 69,
   "id": "f2f80fce-463e-4b97-8c01-fd859a4592d5",
   "metadata": {},
   "outputs": [
    {
     "data": {
      "text/plain": [
       "<AxesSubplot:ylabel='Count'>"
      ]
     },
     "execution_count": 69,
     "metadata": {},
     "output_type": "execute_result"
    },
    {
     "data": {
      "image/png": "[encoded data removed]",
      "text/plain": [
       "<Figure size 432x288 with 1 Axes>"
      ]
     },
     "metadata": {
      "needs_background": "light"
     },
     "output_type": "display_data"
    }
   ],
   "source": [
    "sns.histplot(m_history_1)"
   ]
  },
  {
   "cell_type": "code",
   "execution_count": 70,
   "id": "6eea4685-f726-4653-9ebb-84c99fdafc99",
   "metadata": {},
   "outputs": [
    {
     "data": {
      "text/plain": [
       "<AxesSubplot:ylabel='Count'>"
      ]
     },
     "execution_count": 70,
     "metadata": {},
     "output_type": "execute_result"
    },
    {
     "data": {
      "image/png": "[encoded data removed]",
      "text/plain": [
       "<Figure size 432x288 with 1 Axes>"
      ]
     },
     "metadata": {
      "needs_background": "light"
     },
     "output_type": "display_data"
    }
   ],
   "source": [
    "sns.histplot(m_history_2)"
   ]
  },
  {
   "cell_type": "code",
   "execution_count": 71,
   "id": "730c6a42-cac7-4916-8543-05b46b3c6235",
   "metadata": {},
   "outputs": [],
   "source": [
    "m_abs_mean = (np.mean(np.abs(m_history_1)) + np.mean(np.abs(m_history_2))) / 2"
   ]
  },
  {
   "cell_type": "code",
   "execution_count": 72,
   "id": "27153f9a-5979-4fa4-80be-86df83aaa8a2",
   "metadata": {},
   "outputs": [
    {
     "name": "stdout",
     "output_type": "stream",
     "text": [
      "abs mean of m is: 0.628.\n"
     ]
    }
   ],
   "source": [
    "print(f\"abs mean of m is: {m_abs_mean:.3f}.\")"
   ]
  },
  {
   "cell_type": "code",
   "execution_count": 65,
   "id": "377d672c-1170-4880-a501-5a9e47accf77",
   "metadata": {},
   "outputs": [
    {
     "data": {
      "text/plain": [
       "<AxesSubplot:ylabel='Count'>"
      ]
     },
     "execution_count": 65,
     "metadata": {},
     "output_type": "execute_result"
    },
    {
     "data": {
      "image/png": "[encoded data removed]",
      "text/plain": [
       "<Figure size 432x288 with 1 Axes>"
      ]
     },
     "metadata": {
      "needs_background": "light"
     },
     "output_type": "display_data"
    }
   ],
   "source": [
    "sns.histplot(q_list)"
   ]
  },
  {
   "cell_type": "code",
   "execution_count": 60,
   "id": "3b9a5b40-df35-4af6-afcc-ff9f86452e88",
   "metadata": {},
   "outputs": [],
   "source": [
    "import pickle"
   ]
  },
  {
   "cell_type": "code",
   "execution_count": 61,
   "id": "ca7a2121-1da7-443d-8b94-8efe07516a31",
   "metadata": {},
   "outputs": [],
   "source": [
    "with open('../data_2d_ea/ea_square_size_32/ea_square_size_32_beta_5.000_h_0.000_1E3_m_frust_tensor_torch.pkl', 'rb') as file:\n",
    "    data_dict = pickle.load(file)"
   ]
  },
  {
   "cell_type": "code",
   "execution_count": 67,
   "id": "f2fa5aa7-7266-4760-8b55-8584780c610d",
   "metadata": {},
   "outputs": [
    {
     "data": {
      "text/plain": [
       "dict_keys(['q_list', 'e_mean', 'm_list'])"
      ]
     },
     "execution_count": 67,
     "metadata": {},
     "output_type": "execute_result"
    }
   ],
   "source": [
    "data_dict.keys()"
   ]
  },
  {
   "cell_type": "code",
   "execution_count": 68,
   "id": "474e29f6-b2aa-4d0d-9400-83518a977e65",
   "metadata": {},
   "outputs": [],
   "source": [
    "e_list = data_dict['e_mean']"
   ]
  },
  {
   "cell_type": "code",
   "execution_count": 72,
   "id": "ff82e3a5-551b-4d7b-bb2d-94f2d38998e8",
   "metadata": {},
   "outputs": [
    {
     "data": {
      "text/plain": [
       "[-0.99973828125, -0.99970703125]"
      ]
     },
     "execution_count": 72,
     "metadata": {},
     "output_type": "execute_result"
    }
   ],
   "source": [
    "e_list"
   ]
  },
  {
   "cell_type": "code",
   "execution_count": 71,
   "id": "4c7cb1d1-cecd-4829-a27a-2db79a6ab3b6",
   "metadata": {},
   "outputs": [
    {
     "data": {
      "text/plain": [
       "[<matplotlib.lines.Line2D at 0x7fc2c27f0610>]"
      ]
     },
     "execution_count": 71,
     "metadata": {},
     "output_type": "execute_result"
    },
    {
     "data": {
      "image/png": "[encoded data removed]",
      "text/plain": [
       "<Figure size 432x288 with 1 Axes>"
      ]
     },
     "metadata": {
      "needs_background": "light"
     },
     "output_type": "display_data"
    }
   ],
   "source": [
    "plt.plot(e_list)"
   ]
  },
  {
   "cell_type": "code",
   "execution_count": 62,
   "id": "0dd28130-b643-487e-aadd-24750a93eca0",
   "metadata": {},
   "outputs": [],
   "source": [
    "m_list = data_dict['m_list']"
   ]
  },
  {
   "cell_type": "code",
   "execution_count": 65,
   "id": "87de7eeb-9f2f-4428-8e5e-1c64ccc99c81",
   "metadata": {},
   "outputs": [],
   "source": [
    "q_list = data_dict['q_list']"
   ]
  },
  {
   "cell_type": "code",
   "execution_count": 64,
   "id": "92bddf41-856d-4664-a395-d971b6ab65bc",
   "metadata": {},
   "outputs": [
    {
     "data": {
      "text/plain": [
       "<AxesSubplot:ylabel='Count'>"
      ]
     },
     "execution_count": 64,
     "metadata": {},
     "output_type": "execute_result"
    },
    {
     "data": {
      "image/png": "[encoded data removed]",
      "text/plain": [
       "<Figure size 432x288 with 1 Axes>"
      ]
     },
     "metadata": {
      "needs_background": "light"
     },
     "output_type": "display_data"
    }
   ],
   "source": [
    "sns.histplot(m_list[0])"
   ]
  },
  {
   "cell_type": "code",
   "execution_count": 66,
   "id": "691fec05-63e7-402b-a268-338961cc40ab",
   "metadata": {},
   "outputs": [
    {
     "data": {
      "text/plain": [
       "<AxesSubplot:ylabel='Count'>"
      ]
     },
     "execution_count": 66,
     "metadata": {},
     "output_type": "execute_result"
    },
    {
     "data": {
      "image/png": "[encoded data removed]",
      "text/plain": [
       "<Figure size 432x288 with 1 Axes>"
      ]
     },
     "metadata": {
      "needs_background": "light"
     },
     "output_type": "display_data"
    }
   ],
   "source": [
    "sns.histplot(q_list)"
   ]
  },
  {
   "cell_type": "markdown",
   "id": "65608a6f-0ff9-442d-b7e4-55b5b3afd4e9",
   "metadata": {},
   "source": [
    "-----------------------"
   ]
  }
 ],
 "metadata": {
  "kernelspec": {
   "display_name": "Python 3 (ipykernel)",
   "language": "python",
   "name": "python3"
  },
  "language_info": {
   "codemirror_mode": {
    "name": "ipython",
    "version": 3
   },
   "file_extension": ".py",
   "mimetype": "text/x-python",
   "name": "python",
   "nbconvert_exporter": "python",
   "pygments_lexer": "ipython3",
   "version": "3.10.5"
  }
 },
 "nbformat": 4,
 "nbformat_minor": 5
}
