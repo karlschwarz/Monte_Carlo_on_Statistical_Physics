{
 "cells": [
  {
   "cell_type": "markdown",
   "id": "97f5832c-b703-4284-b959-3eab5f0dc7d6",
   "metadata": {
    "tags": []
   },
   "source": [
    "# Metropolis of 2d Ising model "
   ]
  },
  {
   "cell_type": "code",
   "execution_count": 2,
   "id": "9c60d9f1-af92-4cb0-8ed6-7e95d705a90f",
   "metadata": {},
   "outputs": [],
   "source": [
    "import numpy as np\n",
    "import matplotlib.pyplot as plt\n",
    "from tqdm.auto import trange"
   ]
  },
  {
   "cell_type": "code",
   "execution_count": 3,
   "id": "def6cf98-ed1e-4d84-86f8-42a758b07bb0",
   "metadata": {},
   "outputs": [],
   "source": [
    "from matplotlib import animation"
   ]
  },
  {
   "cell_type": "code",
   "execution_count": 4,
   "id": "352d932b-06c2-472b-998d-71ea96df7a79",
   "metadata": {},
   "outputs": [],
   "source": [
    "import copy\n",
    "import time"
   ]
  },
  {
   "cell_type": "code",
   "execution_count": 113,
   "id": "80a86b98-8eb6-4bf7-a828-f7f18d85bc68",
   "metadata": {},
   "outputs": [],
   "source": [
    "class ISING_2D:\n",
    "    def __init__(self, j=1, beta=1, h=1, dims=(5, 5), delta=1, seed=0):\n",
    "        np.random.seed(seed)\n",
    "        self.dims = dims\n",
    "        self.delta = delta\n",
    "        self.beta = beta\n",
    "        self.j = j\n",
    "        self.h = h\n",
    "        self.grids = (-1) ** np.reshape(np.random.binomial(1, 1/2, dims[0]*dims[1]), dims)\n",
    "        \n",
    "    def neibor_get(self, id_grid):\n",
    "        height, width = self.dims\n",
    "        x_index, y_index = id_grid\n",
    "        l_neibor = ((x_index - 1) % width, y_index)\n",
    "        r_neibor = ((x_index + 1) % width, y_index)\n",
    "        u_neibor = (x_index, (y_index - 1) % height)\n",
    "        d_neibor = (x_index, (y_index + 1) % height)           \n",
    "        ur_neibor = ((x_index + 1) % width, (y_index + 1) % height)\n",
    "        dl_neibor = ((x_index - 1) % width, (y_index - 1) % height)\n",
    "        return [l_neibor, r_neibor, u_neibor, d_neibor, ur_neibor, dl_neibor]\n",
    "        \n",
    "    def one_step_mcmc(self):\n",
    "        id_random = np.random.randint(self.dims[0]*self.dims[1])\n",
    "        id_height, id_width = id_random // self.dims[1], id_random % self.dims[1]\n",
    "        spin_old = self.grids[id_height][id_width]\n",
    "        spin_new = spin_old * np.random.choice([-1, 1], 1, p=[self.delta, 1-self.delta])[0]\n",
    "        energy_old = self.energy_compute_one_grid((id_height, id_width), spin_old)\n",
    "        energy_new = self.energy_compute_one_grid((id_height, id_width), spin_new)\n",
    "        energy_delta = energy_new - energy_old\n",
    "        if energy_delta <= 0:\n",
    "            self.grids[id_height][id_width] = spin_new\n",
    "            return energy_new\n",
    "        else:\n",
    "            prob_accept = min(np.exp(-self.beta * energy_delta), 1)\n",
    "            if np.random.uniform(0, 1) < prob_accept:\n",
    "                self.grids[id_height][id_width] = spin_new\n",
    "                return energy_new\n",
    "            else:\n",
    "                return energy_old\n",
    "            \n",
    "    def mcmc(self, step, show_energy=False, show_plot=False, period=100, store_period=100, energy_accumu=False, folder_name=None):\n",
    "        energy_list, spins_list = [], []\n",
    "        for i in range(step):\n",
    "            self.one_step_mcmc()\n",
    "            energy_total = self.energy_compute_grids()\n",
    "            energy_list.append(energy_total)\n",
    "            print_template = \"Step: {step} Energy: {energy}\\t\"\n",
    "            if show_energy:\n",
    "                print(print_template.format(step=i+1, energy=energy_total))  \n",
    "            if show_plot and i % period == 0:\n",
    "                self.spin_viz(save=True, step=i, folder_name=folder_name)\n",
    "            if i % store_period == 0:\n",
    "                spins_list.append(self.grids.copy())\n",
    "        if energy_accumu:\n",
    "            return np.mean(energy_list), spins_list\n",
    "        else:\n",
    "            return spins_list\n",
    "        \n",
    "    def spin_viz_dynamic(self, spins_list, file_name, figsize=(10, 3)):\n",
    "        fig = plt.figure(figsize=figsize)\n",
    "        x, y = np.meshgrid(np.arange(0, self.length), 0)\n",
    "        u = np.cos(spins_list[0])\n",
    "        v = np.sin(spins_list[0])\n",
    "        q = plt.quiver(x, y, u, v, scale=20, width=0.01, headlength=3, headwidth=2, headaxislength=3, minshaft=3)\n",
    "        plt.axis('off')\n",
    "        plt.title('T={:.3f}, spins={}'.format(1/self.beta, self.length), fontsize=20)            \n",
    "        def update_quiver(num, q):\n",
    "            u = np.cos(spins_list[num+1])\n",
    "            v = np.sin(spins_list[num+1])\n",
    "            q.set_UVC(u, v)\n",
    "            return q\n",
    "        frames = len(spins_list) - 1\n",
    "        self.anim = animation.FuncAnimation(fig, update_quiver, frames=frames, \n",
    "                                       fargs=(q, ), interval=50, repeat=False)\n",
    "        writergif = animation.PillowWriter(fps=100) \n",
    "        self.anim.save(f'./{file_name}.gif', writer=writergif)\n",
    "        \n",
    "    def spin_viz(self, figsize=(10, 10), save=False, folder_name=None):\n",
    "        fig = plt.figure(figsize=figsize)\n",
    "        x, y = np.meshgrid(np.arange(0, self.dims[0]), np.arange(0, self.dims[1]))\n",
    "        u = np.cos(self.grids*np.pi/2)\n",
    "        v = np.sin(self.grids*np.pi/2)\n",
    "        q = plt.quiver(x, y, u, v)\n",
    "        plt.axis('off')\n",
    "        plt.title('T={:.3f}, spins={}'.format(1/self.beta, self.dims), fontsize=20)\n",
    "        if save and step is not None:\n",
    "            plt.savefig(f'./{folder_name}/config_plot_step_{step}.pdf', dpi=100)\n",
    "            plt.close(fig)\n",
    "            \n",
    "    def energy_compute_grids(self):\n",
    "        energy_total = 0\n",
    "        for i in range(self.dims[0]):\n",
    "            for j in range(self.dims[1]):\n",
    "                id_neibors = self.neibor_get((i, j))\n",
    "                energy_ij = 0\n",
    "                for ij in id_neibors:\n",
    "                    energy_ij = -self.j * self.grids[ij[0]][ij[1]] * self.grids[i][j]\n",
    "                energy_total += energy_ij\n",
    "                ### compute the energy of external field\n",
    "                energy_total += -self.h * self.grids[i][j]\n",
    "        energy_per_spin = energy_total / (self.dims[0] * self.dims[1])\n",
    "        return energy_per_spin\n",
    "    \n",
    "    def energy_compute_one_grid(self, id_grid, id_spin):\n",
    "        id_neibors = self.neibor_get(id_grid)\n",
    "        id_energy = 0\n",
    "        for neibor in id_neibors:\n",
    "            id_energy += -self.j * self.grids[neibor[0]][neibor[1]] * id_spin\n",
    "        id_energy += -self.h * id_spin\n",
    "        return id_energy\n",
    "    \n",
    "    def magnet_grids(self):\n",
    "        magnet_x, magnet_y = 0, 0\n",
    "        for i in range(self.length):\n",
    "            magnet_x += np.sin(self.grids[i])\n",
    "            magnet_y += np.cos(self.grids[i])\n",
    "        return magnet_x, magnet_y"
   ]
  },
  {
   "cell_type": "code",
   "execution_count": 94,
   "id": "fee5b6ce-4b9c-4ebf-9660-d6ab4b4aff90",
   "metadata": {},
   "outputs": [],
   "source": [
    "# initialize the 1d xy model\n",
    "dims = (5, 5)\n",
    "ising_2d = ISING_2D(dims=dims, beta=100, j=1, h=0, delta=1)"
   ]
  },
  {
   "cell_type": "code",
   "execution_count": 95,
   "id": "45112d68-eb46-4fab-95e9-938d5024d7a8",
   "metadata": {},
   "outputs": [
    {
     "data": {
      "image/png": "[encoded data removed]",
      "text/plain": [
       "<Figure size 720x720 with 1 Axes>"
      ]
     },
     "metadata": {
      "needs_background": "light"
     },
     "output_type": "display_data"
    }
   ],
   "source": [
    "ising_2d.spin_viz()"
   ]
  },
  {
   "cell_type": "code",
   "execution_count": 96,
   "id": "48454625-2b73-49a7-8c79-1e57b014f206",
   "metadata": {},
   "outputs": [
    {
     "name": "stdout",
     "output_type": "stream",
     "text": [
      "mcmc is done!\n"
     ]
    }
   ],
   "source": [
    "# burning-in stage\n",
    "ising_2d.mcmc(100000, show_energy=False)\n",
    "print('mcmc is done!')"
   ]
  },
  {
   "cell_type": "code",
   "execution_count": 97,
   "id": "a20e9455-bb6b-46bb-9c1f-68882dd53a14",
   "metadata": {},
   "outputs": [
    {
     "data": {
      "image/png": "[encoded data removed]",
      "text/plain": [
       "<Figure size 720x720 with 1 Axes>"
      ]
     },
     "metadata": {
      "needs_background": "light"
     },
     "output_type": "display_data"
    }
   ],
   "source": [
    "ising_2d.spin_viz()"
   ]
  },
  {
   "cell_type": "code",
   "execution_count": 98,
   "id": "47a40839-af08-43ed-8ae6-7e099db9d9e8",
   "metadata": {},
   "outputs": [
    {
     "data": {
      "application/vnd.jupyter.widget-view+json": {
       "model_id": "06ff3d2b4cce41f9b43d3de282dd1067",
       "version_major": 2,
       "version_minor": 0
      },
      "text/plain": [
       "  0%|          | 0/100000 [00:00<?, ?it/s]"
      ]
     },
     "metadata": {},
     "output_type": "display_data"
    },
    {
     "name": "stdout",
     "output_type": "stream",
     "text": [
      "iterations are done!\n"
     ]
    }
   ],
   "source": [
    "### sampling stage\n",
    "energy_list = []\n",
    "for i in trange(100000):\n",
    "    ising_2d.one_step_mcmc()\n",
    "    energy_list.append(ising_2d.energy_compute_grids())\n",
    "print(\"iterations are done!\")"
   ]
  },
  {
   "cell_type": "code",
   "execution_count": 99,
   "id": "7f4cd719-b033-4fe7-8f8c-44b1fee954ce",
   "metadata": {},
   "outputs": [
    {
     "data": {
      "text/plain": [
       "-1.0"
      ]
     },
     "execution_count": 99,
     "metadata": {},
     "output_type": "execute_result"
    }
   ],
   "source": [
    "np.mean(energy_list)"
   ]
  },
  {
   "cell_type": "code",
   "execution_count": 102,
   "id": "3b9f3286-e4a5-407b-b2f0-3f45e60eef7f",
   "metadata": {},
   "outputs": [
    {
     "data": {
      "text/plain": [
       "0.0"
      ]
     },
     "execution_count": 102,
     "metadata": {},
     "output_type": "execute_result"
    }
   ],
   "source": [
    "np.std(energy_list)"
   ]
  },
  {
   "cell_type": "code",
   "execution_count": 103,
   "id": "56a7f11e-288b-413d-8baf-67b966586c47",
   "metadata": {},
   "outputs": [
    {
     "data": {
      "text/plain": [
       "[<matplotlib.lines.Line2D at 0x7f23965fed60>]"
      ]
     },
     "execution_count": 103,
     "metadata": {},
     "output_type": "execute_result"
    },
    {
     "data": {
      "image/png": "[encoded data removed]",
      "text/plain": [
       "<Figure size 432x288 with 1 Axes>"
      ]
     },
     "metadata": {
      "needs_background": "light"
     },
     "output_type": "display_data"
    }
   ],
   "source": [
    "plt.title('time_series_of_energy')\n",
    "plt.xlabel('iters', fontsize=5)\n",
    "plt.ylabel('energy', fontsize=5)\n",
    "plt.plot(energy_list)"
   ]
  },
  {
   "cell_type": "markdown",
   "id": "8fd60625-597f-43ff-9905-9bd4ba8e91c9",
   "metadata": {
    "tags": []
   },
   "source": [
    "----\n",
    "### High temperature "
   ]
  },
  {
   "cell_type": "code",
   "execution_count": 104,
   "id": "45026179-b489-44bb-b557-3b4cd3364793",
   "metadata": {},
   "outputs": [],
   "source": [
    "# initialize the 1d xy model\n",
    "dims = (5, 5)\n",
    "ising_2d = ISING_2D(dims=dims, beta=1, j=1, h=0, delta=1)"
   ]
  },
  {
   "cell_type": "code",
   "execution_count": 105,
   "id": "cc1c0c41-51e5-4795-a947-3a36242c293f",
   "metadata": {},
   "outputs": [
    {
     "data": {
      "image/png": "[encoded data removed]",
      "text/plain": [
       "<Figure size 720x720 with 1 Axes>"
      ]
     },
     "metadata": {
      "needs_background": "light"
     },
     "output_type": "display_data"
    }
   ],
   "source": [
    "ising_2d.spin_viz()"
   ]
  },
  {
   "cell_type": "code",
   "execution_count": 106,
   "id": "71089f41-fb43-4123-8f52-28addf0982b1",
   "metadata": {},
   "outputs": [
    {
     "name": "stdout",
     "output_type": "stream",
     "text": [
      "mcmc is done!\n"
     ]
    }
   ],
   "source": [
    "# burning-in stage\n",
    "ising_2d.mcmc(100000, show_energy=False)\n",
    "print('mcmc is done!')"
   ]
  },
  {
   "cell_type": "code",
   "execution_count": 107,
   "id": "7b4483b9-694a-46cd-b515-3bd6143dbb3d",
   "metadata": {},
   "outputs": [
    {
     "data": {
      "image/png": "[encoded data removed]",
      "text/plain": [
       "<Figure size 720x720 with 1 Axes>"
      ]
     },
     "metadata": {
      "needs_background": "light"
     },
     "output_type": "display_data"
    }
   ],
   "source": [
    "ising_2d.spin_viz()"
   ]
  },
  {
   "cell_type": "code",
   "execution_count": 108,
   "id": "8cba7404-0194-4451-a7c2-df7070d7bbf4",
   "metadata": {},
   "outputs": [
    {
     "data": {
      "application/vnd.jupyter.widget-view+json": {
       "model_id": "7f3e17772e894990ad85e3a2be062c06",
       "version_major": 2,
       "version_minor": 0
      },
      "text/plain": [
       "  0%|          | 0/100000 [00:00<?, ?it/s]"
      ]
     },
     "metadata": {},
     "output_type": "display_data"
    },
    {
     "name": "stdout",
     "output_type": "stream",
     "text": [
      "iterations are done!\n"
     ]
    }
   ],
   "source": [
    "### sampling stage\n",
    "energy_list = []\n",
    "for i in trange(100000):\n",
    "    ising_2d.one_step_mcmc()\n",
    "    energy_list.append(ising_2d.energy_compute_grids())\n",
    "print(\"iterations are done!\")"
   ]
  },
  {
   "cell_type": "code",
   "execution_count": 109,
   "id": "b9994135-603c-4bb2-bd0a-7572c5c01272",
   "metadata": {},
   "outputs": [
    {
     "data": {
      "text/plain": [
       "-0.9999888"
      ]
     },
     "execution_count": 109,
     "metadata": {},
     "output_type": "execute_result"
    }
   ],
   "source": [
    "np.mean(energy_list)"
   ]
  },
  {
   "cell_type": "code",
   "execution_count": 110,
   "id": "308f4791-e7e4-46d2-b713-09c497b94f54",
   "metadata": {},
   "outputs": [
    {
     "data": {
      "text/plain": [
       "0.0013386091886730795"
      ]
     },
     "execution_count": 110,
     "metadata": {},
     "output_type": "execute_result"
    }
   ],
   "source": [
    "np.std(energy_list)"
   ]
  },
  {
   "cell_type": "code",
   "execution_count": 111,
   "id": "8d1a8954-b295-4065-a6af-2e56b4d600cd",
   "metadata": {},
   "outputs": [
    {
     "data": {
      "text/plain": [
       "[<matplotlib.lines.Line2D at 0x7f239781a9d0>]"
      ]
     },
     "execution_count": 111,
     "metadata": {},
     "output_type": "execute_result"
    },
    {
     "data": {
      "image/png": "[encoded data removed]",
      "text/plain": [
       "<Figure size 432x288 with 1 Axes>"
      ]
     },
     "metadata": {
      "needs_background": "light"
     },
     "output_type": "display_data"
    }
   ],
   "source": [
    "plt.title('time_series_of_energy')\n",
    "plt.xlabel('iters', fontsize=5)\n",
    "plt.ylabel('energy', fontsize=5)\n",
    "plt.plot(energy_list)"
   ]
  },
  {
   "cell_type": "markdown",
   "id": "73ea2c8f-6d82-4bbd-941f-29e80fd56769",
   "metadata": {},
   "source": [
    "-----\n",
    "### External field h = 0"
   ]
  },
  {
   "cell_type": "code",
   "execution_count": 121,
   "id": "5f583456-5574-4bab-bc79-38b1fb581972",
   "metadata": {},
   "outputs": [],
   "source": [
    "beta_list = [0.05 * i for i in range(1, 11)]\n",
    "temp_list = [1 / beta for beta in beta_list]\n",
    "dims = (5, 5)"
   ]
  },
  {
   "cell_type": "code",
   "execution_count": 122,
   "id": "d3e522de-14e9-4ec2-9192-5f1cbad8e481",
   "metadata": {},
   "outputs": [
    {
     "data": {
      "application/vnd.jupyter.widget-view+json": {
       "model_id": "be0bfa20b1824b00a2b2adc3a259e04c",
       "version_major": 2,
       "version_minor": 0
      },
      "text/plain": [
       "  0%|          | 0/10 [00:00<?, ?it/s]"
      ]
     },
     "metadata": {},
     "output_type": "display_data"
    },
    {
     "data": {
      "application/vnd.jupyter.widget-view+json": {
       "model_id": "26c5db387e5845678f75bea78e3ef971",
       "version_major": 2,
       "version_minor": 0
      },
      "text/plain": [
       "  0%|          | 0/100000 [00:00<?, ?it/s]"
      ]
     },
     "metadata": {},
     "output_type": "display_data"
    },
    {
     "data": {
      "application/vnd.jupyter.widget-view+json": {
       "model_id": "928e373b7dd84b45a4885bf9da5b4ba1",
       "version_major": 2,
       "version_minor": 0
      },
      "text/plain": [
       "  0%|          | 0/100000 [00:00<?, ?it/s]"
      ]
     },
     "metadata": {},
     "output_type": "display_data"
    },
    {
     "name": "stdout",
     "output_type": "stream",
     "text": [
      "iterations are done!\n"
     ]
    },
    {
     "data": {
      "application/vnd.jupyter.widget-view+json": {
       "model_id": "6de534ab9e2b4b0899f6ea881a1bd6b9",
       "version_major": 2,
       "version_minor": 0
      },
      "text/plain": [
       "  0%|          | 0/100000 [00:00<?, ?it/s]"
      ]
     },
     "metadata": {},
     "output_type": "display_data"
    },
    {
     "data": {
      "application/vnd.jupyter.widget-view+json": {
       "model_id": "cb3aae40568d45c9acbc89dbc00f09c8",
       "version_major": 2,
       "version_minor": 0
      },
      "text/plain": [
       "  0%|          | 0/100000 [00:00<?, ?it/s]"
      ]
     },
     "metadata": {},
     "output_type": "display_data"
    },
    {
     "name": "stdout",
     "output_type": "stream",
     "text": [
      "iterations are done!\n"
     ]
    },
    {
     "data": {
      "application/vnd.jupyter.widget-view+json": {
       "model_id": "b1b6eb19a560458fa6aee8750c7fffa2",
       "version_major": 2,
       "version_minor": 0
      },
      "text/plain": [
       "  0%|          | 0/100000 [00:00<?, ?it/s]"
      ]
     },
     "metadata": {},
     "output_type": "display_data"
    },
    {
     "data": {
      "application/vnd.jupyter.widget-view+json": {
       "model_id": "c8029152d6a44751a1cb58a8766c5973",
       "version_major": 2,
       "version_minor": 0
      },
      "text/plain": [
       "  0%|          | 0/100000 [00:00<?, ?it/s]"
      ]
     },
     "metadata": {},
     "output_type": "display_data"
    },
    {
     "name": "stdout",
     "output_type": "stream",
     "text": [
      "iterations are done!\n"
     ]
    },
    {
     "data": {
      "application/vnd.jupyter.widget-view+json": {
       "model_id": "d5bed326c6384b3db183663459bbc8ef",
       "version_major": 2,
       "version_minor": 0
      },
      "text/plain": [
       "  0%|          | 0/100000 [00:00<?, ?it/s]"
      ]
     },
     "metadata": {},
     "output_type": "display_data"
    },
    {
     "data": {
      "application/vnd.jupyter.widget-view+json": {
       "model_id": "9ebb5735841b4308a894b1f9fb98df18",
       "version_major": 2,
       "version_minor": 0
      },
      "text/plain": [
       "  0%|          | 0/100000 [00:00<?, ?it/s]"
      ]
     },
     "metadata": {},
     "output_type": "display_data"
    },
    {
     "name": "stdout",
     "output_type": "stream",
     "text": [
      "iterations are done!\n"
     ]
    },
    {
     "data": {
      "application/vnd.jupyter.widget-view+json": {
       "model_id": "d429ea146e2d4ad48bb5a3c7d80761f4",
       "version_major": 2,
       "version_minor": 0
      },
      "text/plain": [
       "  0%|          | 0/100000 [00:00<?, ?it/s]"
      ]
     },
     "metadata": {},
     "output_type": "display_data"
    },
    {
     "data": {
      "application/vnd.jupyter.widget-view+json": {
       "model_id": "e97bb1a2308443679be3e448841159fa",
       "version_major": 2,
       "version_minor": 0
      },
      "text/plain": [
       "  0%|          | 0/100000 [00:00<?, ?it/s]"
      ]
     },
     "metadata": {},
     "output_type": "display_data"
    },
    {
     "name": "stdout",
     "output_type": "stream",
     "text": [
      "iterations are done!\n"
     ]
    },
    {
     "data": {
      "application/vnd.jupyter.widget-view+json": {
       "model_id": "86e259898ac5429c9400e9d25ada4c9c",
       "version_major": 2,
       "version_minor": 0
      },
      "text/plain": [
       "  0%|          | 0/100000 [00:00<?, ?it/s]"
      ]
     },
     "metadata": {},
     "output_type": "display_data"
    },
    {
     "data": {
      "application/vnd.jupyter.widget-view+json": {
       "model_id": "0821c1e91dd14f09b57da7b5400dd646",
       "version_major": 2,
       "version_minor": 0
      },
      "text/plain": [
       "  0%|          | 0/100000 [00:00<?, ?it/s]"
      ]
     },
     "metadata": {},
     "output_type": "display_data"
    },
    {
     "name": "stdout",
     "output_type": "stream",
     "text": [
      "iterations are done!\n"
     ]
    },
    {
     "data": {
      "application/vnd.jupyter.widget-view+json": {
       "model_id": "9613f45abeed4a9b8c48d8f6caefb6e4",
       "version_major": 2,
       "version_minor": 0
      },
      "text/plain": [
       "  0%|          | 0/100000 [00:00<?, ?it/s]"
      ]
     },
     "metadata": {},
     "output_type": "display_data"
    },
    {
     "data": {
      "application/vnd.jupyter.widget-view+json": {
       "model_id": "2498ae76cc4b4271a0c433931fcf0d11",
       "version_major": 2,
       "version_minor": 0
      },
      "text/plain": [
       "  0%|          | 0/100000 [00:00<?, ?it/s]"
      ]
     },
     "metadata": {},
     "output_type": "display_data"
    },
    {
     "name": "stdout",
     "output_type": "stream",
     "text": [
      "iterations are done!\n"
     ]
    },
    {
     "data": {
      "application/vnd.jupyter.widget-view+json": {
       "model_id": "b36faf2f69f54dbc95300ac772f37904",
       "version_major": 2,
       "version_minor": 0
      },
      "text/plain": [
       "  0%|          | 0/100000 [00:00<?, ?it/s]"
      ]
     },
     "metadata": {},
     "output_type": "display_data"
    },
    {
     "data": {
      "application/vnd.jupyter.widget-view+json": {
       "model_id": "91213826e122416eb86c0830aee3313a",
       "version_major": 2,
       "version_minor": 0
      },
      "text/plain": [
       "  0%|          | 0/100000 [00:00<?, ?it/s]"
      ]
     },
     "metadata": {},
     "output_type": "display_data"
    },
    {
     "name": "stdout",
     "output_type": "stream",
     "text": [
      "iterations are done!\n"
     ]
    },
    {
     "data": {
      "application/vnd.jupyter.widget-view+json": {
       "model_id": "841ba33a5a16450791c988e8b816c7b4",
       "version_major": 2,
       "version_minor": 0
      },
      "text/plain": [
       "  0%|          | 0/100000 [00:00<?, ?it/s]"
      ]
     },
     "metadata": {},
     "output_type": "display_data"
    },
    {
     "data": {
      "application/vnd.jupyter.widget-view+json": {
       "model_id": "60211470512e472aba94bfaefb124ed7",
       "version_major": 2,
       "version_minor": 0
      },
      "text/plain": [
       "  0%|          | 0/100000 [00:00<?, ?it/s]"
      ]
     },
     "metadata": {},
     "output_type": "display_data"
    },
    {
     "name": "stdout",
     "output_type": "stream",
     "text": [
      "iterations are done!\n"
     ]
    },
    {
     "data": {
      "application/vnd.jupyter.widget-view+json": {
       "model_id": "daf2d4d8182540beae3023dad7fb3eb0",
       "version_major": 2,
       "version_minor": 0
      },
      "text/plain": [
       "  0%|          | 0/100000 [00:00<?, ?it/s]"
      ]
     },
     "metadata": {},
     "output_type": "display_data"
    },
    {
     "data": {
      "application/vnd.jupyter.widget-view+json": {
       "model_id": "e7aa7ad9491345b1b5b6b5761eed53da",
       "version_major": 2,
       "version_minor": 0
      },
      "text/plain": [
       "  0%|          | 0/100000 [00:00<?, ?it/s]"
      ]
     },
     "metadata": {},
     "output_type": "display_data"
    },
    {
     "name": "stdout",
     "output_type": "stream",
     "text": [
      "iterations are done!\n"
     ]
    }
   ],
   "source": [
    "mean_sampling_list = []\n",
    "std_sampling_list = []\n",
    "for i in trange(10):\n",
    "    beta = beta_list[i]\n",
    "    ising_2d = ISING_2D(beta=beta, h=0, dims=dims)\n",
    "    ### Get to the equilibrium state\n",
    "    for _ in trange(100000):\n",
    "        ising_2d.one_step_mcmc()\n",
    "    ### Sampling stage\n",
    "    energy_list = []\n",
    "    for i in trange(100000):\n",
    "        ising_2d.one_step_mcmc()\n",
    "        energy_list.append(ising_2d.energy_compute_grids())\n",
    "    print(\"iterations are done!\")\n",
    "    mean_sampling_list.append(np.mean(energy_list))\n",
    "    std_sampling_list.append(np.std(energy_list))"
   ]
  },
  {
   "cell_type": "code",
   "execution_count": 123,
   "id": "caedec0c-23d2-473b-b084-5d5708e015ef",
   "metadata": {},
   "outputs": [
    {
     "data": {
      "text/plain": [
       "[-0.058052800000000016,\n",
       " -0.1252656,\n",
       " -0.21753920000000004,\n",
       " -0.38553439999999994,\n",
       " -0.6198271999999999,\n",
       " -0.8170496,\n",
       " -0.9163679999999997,\n",
       " -0.9570848,\n",
       " -0.9789520000000002,\n",
       " -0.9886192000000001]"
      ]
     },
     "execution_count": 123,
     "metadata": {},
     "output_type": "execute_result"
    }
   ],
   "source": [
    "mean_sampling_list"
   ]
  },
  {
   "cell_type": "code",
   "execution_count": 124,
   "id": "cdeb6059-7e15-47b9-9936-64cc4a8f29ab",
   "metadata": {},
   "outputs": [
    {
     "data": {
      "text/plain": [
       "[0.2012860661152679,\n",
       " 0.20705613117374716,\n",
       " 0.2195736060262253,\n",
       " 0.26263311751688895,\n",
       " 0.2773019187459041,\n",
       " 0.19853446839236755,\n",
       " 0.1301661422029554,\n",
       " 0.09032251994358882,\n",
       " 0.060255370681790696,\n",
       " 0.043797504396483604]"
      ]
     },
     "execution_count": 124,
     "metadata": {},
     "output_type": "execute_result"
    }
   ],
   "source": [
    "std_sampling_list"
   ]
  },
  {
   "cell_type": "code",
   "execution_count": 132,
   "id": "daad5687-1277-4b2a-9bd2-7df3a8cfbcb4",
   "metadata": {},
   "outputs": [],
   "source": [
    "energy_metropolis_list = [-0.051888,\n",
    "                          -0.10681600000000001,\n",
    "                          -0.187264,\n",
    "                          -0.32660800000000006,\n",
    "                          -0.548512,\n",
    "                          -0.7941919999999999,\n",
    "                          -0.8984639999999999,\n",
    "                          -0.949824,\n",
    "                          -0.9734879999999999,\n",
    "                          -0.985568]"
   ]
  },
  {
   "cell_type": "code",
   "execution_count": 133,
   "id": "e459e981-dc56-4a60-92a4-4c5971dc1ab8",
   "metadata": {},
   "outputs": [
    {
     "data": {
      "image/png": "[encoded data removed]",
      "text/plain": [
       "<Figure size 432x288 with 1 Axes>"
      ]
     },
     "metadata": {
      "needs_background": "light"
     },
     "output_type": "display_data"
    }
   ],
   "source": [
    "plt.plot(temp_list, mean_sampling_list, '--', label='metropolis')\n",
    "plt.plot(temp_list, energy_metropolis_list, 'o', label='cluster(chain)')\n",
    "plt.xlabel('Temperature', fontsize=15)\n",
    "plt.ylabel('Energy_per_spin', fontsize=15)\n",
    "plt.legend()\n",
    "plt.title('2D Ising model (Dims=(5, 5), triangle grids, h=0)')\n",
    "plt.savefig('./2d_ising_cluster_chain.pdf', dpi=100)"
   ]
  },
  {
   "cell_type": "code",
   "execution_count": null,
   "id": "fe1dbc12-71ae-4119-99ab-839154ca3259",
   "metadata": {},
   "outputs": [],
   "source": []
  }
 ],
 "metadata": {
  "kernelspec": {
   "display_name": "Python 3 (ipykernel)",
   "language": "python",
   "name": "python3"
  },
  "language_info": {
   "codemirror_mode": {
    "name": "ipython",
    "version": 3
   },
   "file_extension": ".py",
   "mimetype": "text/x-python",
   "name": "python",
   "nbconvert_exporter": "python",
   "pygments_lexer": "ipython3",
   "version": "3.9.7"
  }
 },
 "nbformat": 4,
 "nbformat_minor": 5
}
