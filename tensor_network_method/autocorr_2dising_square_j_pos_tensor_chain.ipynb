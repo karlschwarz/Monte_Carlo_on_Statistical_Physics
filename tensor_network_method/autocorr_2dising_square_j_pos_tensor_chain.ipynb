{
 "cells": [
  {
   "cell_type": "markdown",
   "id": "5d35b836-5328-4744-9b2f-8c6aebbcfe4c",
   "metadata": {},
   "source": [
    "# Estimation of Autocorrelation Function (tensor contraction)\n",
    "\n",
    "## (2d Ising model on Square Lattice with J > 0)"
   ]
  },
  {
   "cell_type": "code",
   "execution_count": 1,
   "id": "8ae5030b-dde4-4917-ad46-78433133e95c",
   "metadata": {},
   "outputs": [],
   "source": [
    "import numpy as np\n",
    "import numba as nb"
   ]
  },
  {
   "cell_type": "code",
   "execution_count": 2,
   "id": "b3d57783-ab70-476f-8783-78a004130bf1",
   "metadata": {},
   "outputs": [],
   "source": [
    "import csv\n",
    "import pickle\n",
    "import time\n",
    "from tqdm.auto import trange"
   ]
  },
  {
   "cell_type": "code",
   "execution_count": 3,
   "id": "9e91ea08-44ab-4791-bd72-994434ca7a70",
   "metadata": {},
   "outputs": [],
   "source": [
    "import matplotlib.pyplot as plt"
   ]
  },
  {
   "cell_type": "code",
   "execution_count": 4,
   "id": "3a347563-5814-4982-abaa-d418339f059e",
   "metadata": {},
   "outputs": [],
   "source": [
    "types_corr_k_steps_est = nb.types.Tuple((nb.float64, nb.float64, nb.float64[:]))(nb.float64[:], nb.int64)\n",
    "@nb.cfunc(types_corr_k_steps_est, parallel=True)\n",
    "def corr_k_step_est_float(sample_array, k_steps_max):\n",
    "    \"\"\"\n",
    "    Args:\n",
    "        mc_list: (np.array)\n",
    "        k_steps: (int)\n",
    "    Return:\n",
    "        corr_coef: (float)\n",
    "    \"\"\"\n",
    "    sample_len = len(sample_array)\n",
    "    num_i_steps = sample_len - k_steps_max\n",
    "    q_mean = np.mean(sample_array[:num_i_steps])\n",
    "    q_square_mean = np.mean(np.square(sample_array[:num_i_steps]))\n",
    "    qqk_sum = np.zeros(k_steps_max)\n",
    "    for i in range(num_i_steps):\n",
    "        samples_k_sub = sample_array[i:i+k_steps_max+1]\n",
    "        for j in range(1, k_steps_max+1):\n",
    "            qqk_sum[j-1] += (samples_k_sub[0] * samples_k_sub[j])\n",
    "    qqk_array = qqk_sum / num_i_steps\n",
    "    return (q_mean, q_square_mean, qqk_array)"
   ]
  },
  {
   "cell_type": "code",
   "execution_count": 5,
   "id": "7841599f-0c6e-44d3-b8af-36c9ff06ecca",
   "metadata": {},
   "outputs": [],
   "source": [
    "types_corr_k_steps_est = nb.types.Tuple((nb.float64, nb.float64, nb.float64[:]))(nb.int32[:], nb.int64)\n",
    "@nb.cfunc(types_corr_k_steps_est, parallel=True)\n",
    "def corr_k_step_est_int(sample_array, k_steps_max):\n",
    "    \"\"\"\n",
    "    Args:\n",
    "        mc_list: (np.array)\n",
    "        k_steps: (int)\n",
    "    Return:\n",
    "        corr_coef: (float)\n",
    "    \"\"\"\n",
    "    sample_len = len(sample_array)\n",
    "    num_i_steps = sample_len - k_steps_max\n",
    "    q_mean = np.mean(sample_array[:num_i_steps])\n",
    "    q_square_mean = np.mean(np.square(sample_array[:num_i_steps]))\n",
    "    qqk_sum = np.zeros(k_steps_max)\n",
    "    for i in range(num_i_steps):\n",
    "        samples_k_sub = sample_array[i:i+k_steps_max+1]\n",
    "        for j in range(1, k_steps_max+1):\n",
    "            qqk_sum[j-1] += (samples_k_sub[0] * samples_k_sub[j])\n",
    "    qqk_array = qqk_sum / num_i_steps\n",
    "    return (q_mean, q_square_mean, qqk_array)"
   ]
  },
  {
   "cell_type": "code",
   "execution_count": 6,
   "id": "99117e3e-4d2c-4e04-9edb-db91ef96ad78",
   "metadata": {},
   "outputs": [],
   "source": [
    "@nb.njit(parallel=True)\n",
    "def autocorr_mc_mean_est(mc_array, k_steps_max):\n",
    "    m_times = mc_array.shape[0]\n",
    "    qqk_mean_mc, qqk_mean_std_mc = np.zeros(k_steps_max), np.zeros(k_steps_max)\n",
    "    q_mean_array, q_square_mean_array, qqk_double_array = np.zeros(m_times), np.zeros(m_times), np.zeros((m_times, k_steps_max))\n",
    "    for i in range(m_times):\n",
    "        q_mean, q_square_mean, qqk_array = corr_k_step_est_float(mc_array[i], k_steps_max)\n",
    "        q_mean_array[i] = q_mean\n",
    "        q_square_mean_array[i] = q_square_mean\n",
    "        qqk_double_array[i] = qqk_array\n",
    "    for i in range(k_steps_max):\n",
    "        qqk_mean_mc_i = np.mean(qqk_double_array[:, i])\n",
    "        qqk_mean_std_mc_i = np.std(qqk_double_array[:, i])\n",
    "        qqk_mean_mc[i] = qqk_mean_mc_i\n",
    "        qqk_mean_std_mc[i] = qqk_mean_std_mc_i / np.sqrt(m_times)\n",
    "    ####################################################\n",
    "    q_mean_mc = np.mean(q_mean_array)\n",
    "    q_mean_std_mc = np.std(q_mean_array) / np.sqrt(m_times)\n",
    "    q_square_mean_mc = np.mean(q_square_mean_array)\n",
    "    q_square_mean_std_mc = np.std(q_square_mean_array) / np.sqrt(m_times)\n",
    "    ####################################################\n",
    "    q_mean = (q_mean_mc, q_mean_std_mc)\n",
    "    q_square_mean = (q_square_mean_mc, q_square_mean_std_mc)\n",
    "    qqk_mean = (qqk_mean_mc, qqk_mean_std_mc)\n",
    "    ####################################################\n",
    "    autocorr_mc = (qqk_mean_mc - q_mean_mc ** 2) / (q_square_mean_mc - q_mean_mc ** 2) \n",
    "    return autocorr_mc, q_mean, q_square_mean, qqk_mean"
   ]
  },
  {
   "cell_type": "code",
   "execution_count": 7,
   "id": "13791c7d-5533-4d4e-be5b-f8a29428d471",
   "metadata": {},
   "outputs": [],
   "source": [
    "@nb.njit(parallel=True)\n",
    "def autocorr_mc_std_est(mc_array, k_steps_max):\n",
    "    m_times = mc_array.shape[0]\n",
    "    qqk_mean_mc, qqk_mean_std_mc = np.zeros(k_steps_max), np.zeros(k_steps_max)\n",
    "    q_mean_array, q_square_mean_array, qqk_double_array = np.zeros((m_times, 1)), np.zeros((m_times, 1)), np.zeros((m_times, k_steps_max))\n",
    "    autocorr_mc_mean, autocorr_mc_std = np.zeros(k_steps_max), np.zeros(k_steps_max)\n",
    "    for i in range(m_times):\n",
    "        q_mean, q_square_mean, qqk_array = corr_k_step_est_float(mc_array[i], k_steps_max)\n",
    "        q_mean_array[i] = q_mean\n",
    "        q_square_mean_array[i] = q_square_mean\n",
    "        qqk_double_array[i] = qqk_array        \n",
    "    ####################################################\n",
    "    autocorr_mc_array = (qqk_double_array - q_mean_array ** 2) / (q_square_mean_array - q_mean_array ** 2)\n",
    "    q_mean_mc = np.mean(q_mean_array)\n",
    "    q_square_mean_mc = np.mean(q_square_mean_array)\n",
    "    qqk_mc = np.mean(qqk_double_array)\n",
    "    for j in range(k_steps_max):\n",
    "        autocorr_mc_mean[j] = np.mean(autocorr_mc_array[:, j])\n",
    "        autocorr_mc_std[j] = np.std(autocorr_mc_array[:, j]) / np.sqrt(m_times)\n",
    "    return autocorr_mc_mean, autocorr_mc_std"
   ]
  },
  {
   "cell_type": "markdown",
   "id": "d2731367-75ad-4785-abd2-4d349e098e4a",
   "metadata": {
    "tags": []
   },
   "source": [
    "-----------\n",
    "### 4 x 4 Square 2D Ising Model"
   ]
  },
  {
   "cell_type": "code",
   "execution_count": 8,
   "id": "bdbf0ef1-0e8e-4a26-8da9-9e4350215fa3",
   "metadata": {},
   "outputs": [],
   "source": [
    "with open('../data_2d_ising/ising2d_size_4_beta_0.441_tensor_1E7_m.pkl', 'rb') as file:\n",
    "    m_2dising_4_j_pos = pickle.load(file)"
   ]
  },
  {
   "cell_type": "code",
   "execution_count": 9,
   "id": "e500b04e-5641-4f12-8dc2-b6c8b9ffe24b",
   "metadata": {},
   "outputs": [],
   "source": [
    "m_abs_2dising_4_j_pos = np.abs(m_2dising_4_j_pos)"
   ]
  },
  {
   "cell_type": "code",
   "execution_count": 10,
   "id": "f3691318-b6b6-4d06-94ea-f8a644b768d1",
   "metadata": {},
   "outputs": [],
   "source": [
    "m_abs_2dising_4_j_pos = m_abs_2dising_4_j_pos.reshape((10000, 1000))"
   ]
  },
  {
   "cell_type": "code",
   "execution_count": 11,
   "id": "3751ef55-7bd5-4a4e-bcd2-99809de90888",
   "metadata": {},
   "outputs": [
    {
     "name": "stdout",
     "output_type": "stream",
     "text": [
      "120.7599265575409\n"
     ]
    }
   ],
   "source": [
    "time_start = time.time()\n",
    "autocorr_m_abs_2dising_4_j_pos_mean, _, _, _ = autocorr_mc_mean_est(m_abs_2dising_4_j_pos, 100)\n",
    "_, autocorr_m_abs_2dising_4_j_pos_std = autocorr_mc_std_est(m_abs_2dising_4_j_pos, 100)\n",
    "time_end = time.time()\n",
    "print(time_end-time_start)"
   ]
  },
  {
   "cell_type": "code",
   "execution_count": 12,
   "id": "dbfd0a18-4cd8-4780-b66f-6cdbc272ba35",
   "metadata": {},
   "outputs": [],
   "source": [
    "autocorr_m_abs_2dising_4_j_pos_mean = np.insert(autocorr_m_abs_2dising_4_j_pos_mean, 0, 1)"
   ]
  },
  {
   "cell_type": "code",
   "execution_count": 13,
   "id": "62f396d8-2c41-428f-8a6d-7ac8a04d8595",
   "metadata": {},
   "outputs": [],
   "source": [
    "autocorr_m_abs_2dising_4_j_pos_std = np.insert(autocorr_m_abs_2dising_4_j_pos_std, 0, 0)"
   ]
  },
  {
   "cell_type": "code",
   "execution_count": 14,
   "id": "1bd9e87f-5202-4fe4-9e59-5224d889f7ac",
   "metadata": {},
   "outputs": [
    {
     "data": {
      "text/plain": [
       "<matplotlib.legend.Legend at 0x7fe74f393970>"
      ]
     },
     "execution_count": 14,
     "metadata": {},
     "output_type": "execute_result"
    },
    {
     "data": {
      "image/png": "[encoded data removed]",
      "text/plain": [
       "<Figure size 432x288 with 1 Axes>"
      ]
     },
     "metadata": {
      "needs_background": "light"
     },
     "output_type": "display_data"
    }
   ],
   "source": [
    "plt.errorbar(x=range(101), y=autocorr_m_abs_2dising_4_j_pos_mean, yerr=autocorr_m_abs_2dising_4_j_pos_std, \n",
    "             fmt='-o', capsize=3, elinewidth=2, label='size=4')\n",
    "plt.yscale(\"log\")\n",
    "plt.ylim(10**-3.5)\n",
    "plt.xlabel(r'$\\tau$ [MC steps]', fontsize=15)\n",
    "plt.ylabel(r'$A_{|M|}$', fontsize=15)\n",
    "plt.title(\"2D Ising (Square, J>0, T=2.269) Tensor Contraction\")\n",
    "plt.legend()"
   ]
  },
  {
   "cell_type": "code",
   "execution_count": 15,
   "id": "6712ee5b-754e-47b4-83e6-021962903c5d",
   "metadata": {},
   "outputs": [],
   "source": [
    "m_abs_2dising_4_j_pos_mean = np.mean(m_abs_2dising_4_j_pos)"
   ]
  },
  {
   "cell_type": "code",
   "execution_count": 16,
   "id": "be3b13b0-8ae5-4916-9f12-1ba5f4927b25",
   "metadata": {},
   "outputs": [
    {
     "name": "stdout",
     "output_type": "stream",
     "text": [
      "|m| of size 4 is: 0.844.\n"
     ]
    }
   ],
   "source": [
    "print(f\"|m| of size 4 is: {m_abs_2dising_4_j_pos_mean:.3f}.\")"
   ]
  },
  {
   "cell_type": "code",
   "execution_count": 17,
   "id": "04faae92-8624-4109-9460-3a40b8349f1f",
   "metadata": {},
   "outputs": [],
   "source": [
    "autocorr_time_size_4 = np.sum(autocorr_m_abs_2dising_4_j_pos_mean[:20]) - 1/2"
   ]
  },
  {
   "cell_type": "code",
   "execution_count": 18,
   "id": "528492f9-a60b-4e70-800d-ca3c56c60523",
   "metadata": {},
   "outputs": [
    {
     "name": "stdout",
     "output_type": "stream",
     "text": [
      "autocorr time of size 4 is: 1.151.\n"
     ]
    }
   ],
   "source": [
    "print(f\"autocorr time of size 4 is: {autocorr_time_size_4:.3f}.\")"
   ]
  },
  {
   "cell_type": "markdown",
   "id": "c9e3f8bd-3f66-4195-bd33-3ad9c48aa2d6",
   "metadata": {},
   "source": [
    "----\n",
    "### Size = 8"
   ]
  },
  {
   "cell_type": "code",
   "execution_count": 19,
   "id": "0e726f47-7c03-48a1-b13f-4f1c3f1b783e",
   "metadata": {},
   "outputs": [],
   "source": [
    "with open('../data_2d_ising/ising2d_size_8_beta_0.441_tensor_1E7_m.pkl', 'rb') as file:\n",
    "    m_2dising_8_j_pos = pickle.load(file)"
   ]
  },
  {
   "cell_type": "code",
   "execution_count": 20,
   "id": "a1c64b3f-d9b3-4d35-99e7-715fe051e0db",
   "metadata": {},
   "outputs": [],
   "source": [
    "m_abs_2dising_8_j_pos = np.abs(m_2dising_8_j_pos)"
   ]
  },
  {
   "cell_type": "code",
   "execution_count": 21,
   "id": "f7176fed-5a99-4779-9052-0b1cdeeec9de",
   "metadata": {},
   "outputs": [],
   "source": [
    "m_abs_2dising_8_j_pos_mean = np.mean(m_abs_2dising_8_j_pos)"
   ]
  },
  {
   "cell_type": "code",
   "execution_count": 22,
   "id": "e642c4c3-f92f-41e6-920b-848736338521",
   "metadata": {},
   "outputs": [
    {
     "name": "stdout",
     "output_type": "stream",
     "text": [
      "|m| of size 8 is: 0.777.\n"
     ]
    }
   ],
   "source": [
    "print(f\"|m| of size 8 is: {m_abs_2dising_8_j_pos_mean:.3f}.\")"
   ]
  },
  {
   "cell_type": "code",
   "execution_count": 23,
   "id": "99b6fcbd-36f7-46a0-b088-4c168d92877f",
   "metadata": {},
   "outputs": [],
   "source": [
    "m_abs_2dising_8_j_pos = m_abs_2dising_8_j_pos.reshape((10000, 1000))"
   ]
  },
  {
   "cell_type": "code",
   "execution_count": 24,
   "id": "15e0d1a0-eb46-4aa2-a5b5-bc248b58cd35",
   "metadata": {},
   "outputs": [
    {
     "name": "stdout",
     "output_type": "stream",
     "text": [
      "113.21969556808472\n"
     ]
    }
   ],
   "source": [
    "time_start = time.time()\n",
    "autocorr_m_abs_2dising_8_j_pos_mean, _, _, _ = autocorr_mc_mean_est(m_abs_2dising_8_j_pos, 100)\n",
    "_, autocorr_m_abs_2dising_8_j_pos_std = autocorr_mc_std_est(m_abs_2dising_8_j_pos, 100)\n",
    "time_end = time.time()\n",
    "print(time_end-time_start)"
   ]
  },
  {
   "cell_type": "code",
   "execution_count": 25,
   "id": "e8fbade8-62db-441d-8cf0-5fa2d8639978",
   "metadata": {},
   "outputs": [],
   "source": [
    "autocorr_m_abs_2dising_8_j_pos_mean = np.insert(autocorr_m_abs_2dising_8_j_pos_mean, 0, 1)"
   ]
  },
  {
   "cell_type": "code",
   "execution_count": 26,
   "id": "6a8363df-0504-40fd-b1d1-3c7681847065",
   "metadata": {},
   "outputs": [],
   "source": [
    "autocorr_m_abs_2dising_8_j_pos_std = np.insert(autocorr_m_abs_2dising_8_j_pos_std, 0, 0)"
   ]
  },
  {
   "cell_type": "code",
   "execution_count": 27,
   "id": "e1254f92-1a22-47d9-94ed-87008168c1cf",
   "metadata": {},
   "outputs": [
    {
     "data": {
      "text/plain": [
       "<matplotlib.legend.Legend at 0x7fe764709250>"
      ]
     },
     "execution_count": 27,
     "metadata": {},
     "output_type": "execute_result"
    },
    {
     "data": {
      "image/png": "[encoded data removed]",
      "text/plain": [
       "<Figure size 432x288 with 1 Axes>"
      ]
     },
     "metadata": {
      "needs_background": "light"
     },
     "output_type": "display_data"
    }
   ],
   "source": [
    "plt.errorbar(x=range(101), y=autocorr_m_abs_2dising_8_j_pos_mean, yerr=autocorr_m_abs_2dising_8_j_pos_std, \n",
    "             fmt='-o', capsize=3, elinewidth=2, label='size=8')\n",
    "plt.yscale(\"log\")\n",
    "plt.ylim(10**-3)\n",
    "plt.xlabel(r'$\\tau$ [MC steps]', fontsize=15)\n",
    "plt.ylabel(r'$A_{|M|}$', fontsize=15)\n",
    "plt.title(\"2D Ising (Square, J>0, T=2.269) Tensor Contraction\")\n",
    "plt.legend()"
   ]
  },
  {
   "cell_type": "code",
   "execution_count": 28,
   "id": "4da0d90a-953a-401f-80d4-9340a739d475",
   "metadata": {},
   "outputs": [],
   "source": [
    "autocorr_time_size_8 = np.sum(autocorr_m_abs_2dising_8_j_pos_mean[:70]) - 1/2"
   ]
  },
  {
   "cell_type": "code",
   "execution_count": 29,
   "id": "2652fce4-ada5-41b8-b429-f5e6dda8c067",
   "metadata": {},
   "outputs": [
    {
     "name": "stdout",
     "output_type": "stream",
     "text": [
      "autocorr time of size 8 is: 3.704.\n"
     ]
    }
   ],
   "source": [
    "print(f\"autocorr time of size 8 is: {autocorr_time_size_8:.3f}.\")"
   ]
  },
  {
   "cell_type": "markdown",
   "id": "bbaca771-38f6-4238-ab13-8db5c5526ad0",
   "metadata": {},
   "source": [
    "-----------\n",
    "### Size = 16"
   ]
  },
  {
   "cell_type": "code",
   "execution_count": 30,
   "id": "eb682936-24f9-4e58-ae30-9876b46212f9",
   "metadata": {},
   "outputs": [],
   "source": [
    "with open('../data_2d_ising/ising2d_size_16_beta_0.441_tensor_1E7_m.pkl', 'rb') as file:\n",
    "    m_2dising_16_j_pos = pickle.load(file)"
   ]
  },
  {
   "cell_type": "code",
   "execution_count": 31,
   "id": "c9fb0509-3a4e-4a63-88aa-f95620066570",
   "metadata": {},
   "outputs": [],
   "source": [
    "m_abs_2dising_16_j_pos = np.abs(m_2dising_16_j_pos)"
   ]
  },
  {
   "cell_type": "code",
   "execution_count": 32,
   "id": "a6ddc31a-b9f1-44a7-a9a4-5ae250ae1eda",
   "metadata": {},
   "outputs": [],
   "source": [
    "m_abs_2dising_16_j_pos_mean = np.mean(m_abs_2dising_16_j_pos)"
   ]
  },
  {
   "cell_type": "code",
   "execution_count": 33,
   "id": "56b3effd-ca52-4d54-af68-1aba38800654",
   "metadata": {},
   "outputs": [
    {
     "name": "stdout",
     "output_type": "stream",
     "text": [
      "|m| of size 16 is: 0.714.\n"
     ]
    }
   ],
   "source": [
    "print(f\"|m| of size 16 is: {m_abs_2dising_16_j_pos_mean:.3f}.\")"
   ]
  },
  {
   "cell_type": "code",
   "execution_count": 34,
   "id": "644b9c45-c59c-4647-af4a-860229e1b994",
   "metadata": {},
   "outputs": [],
   "source": [
    "m_abs_2dising_16_j_pos = m_abs_2dising_16_j_pos.reshape((10000, 1000))"
   ]
  },
  {
   "cell_type": "code",
   "execution_count": 35,
   "id": "aa9b9b6a-a68f-417c-ac93-2acca2d3a295",
   "metadata": {},
   "outputs": [
    {
     "name": "stdout",
     "output_type": "stream",
     "text": [
      "109.87446999549866\n"
     ]
    }
   ],
   "source": [
    "time_start = time.time()\n",
    "autocorr_m_abs_2dising_16_j_pos_mean, _, _, _ = autocorr_mc_mean_est(m_abs_2dising_16_j_pos, 100)\n",
    "_, autocorr_m_abs_2dising_16_j_pos_std = autocorr_mc_std_est(m_abs_2dising_16_j_pos, 100)\n",
    "time_end = time.time()\n",
    "print(time_end-time_start)"
   ]
  },
  {
   "cell_type": "code",
   "execution_count": 36,
   "id": "84e1dc4d-72d2-4664-bb73-66e0684919d8",
   "metadata": {},
   "outputs": [],
   "source": [
    "autocorr_m_abs_2dising_16_j_pos_mean = np.insert(autocorr_m_abs_2dising_16_j_pos_mean, 0, 1)"
   ]
  },
  {
   "cell_type": "code",
   "execution_count": 37,
   "id": "bdf610ba-fe55-4836-a37c-b85870c30281",
   "metadata": {},
   "outputs": [],
   "source": [
    "autocorr_m_abs_2dising_16_j_pos_std = np.insert(autocorr_m_abs_2dising_16_j_pos_std, 0, 0)"
   ]
  },
  {
   "cell_type": "code",
   "execution_count": 38,
   "id": "ceed3a7c-38c8-4307-a17b-ca2c7aa61e51",
   "metadata": {},
   "outputs": [
    {
     "data": {
      "text/plain": [
       "<matplotlib.legend.Legend at 0x7fe76555a1f0>"
      ]
     },
     "execution_count": 38,
     "metadata": {},
     "output_type": "execute_result"
    },
    {
     "data": {
      "image/png": "[encoded data removed]",
      "text/plain": [
       "<Figure size 432x288 with 1 Axes>"
      ]
     },
     "metadata": {
      "needs_background": "light"
     },
     "output_type": "display_data"
    }
   ],
   "source": [
    "plt.errorbar(x=range(101), y=autocorr_m_abs_2dising_16_j_pos_mean, yerr=autocorr_m_abs_2dising_16_j_pos_std, \n",
    "             fmt='-o', capsize=3, elinewidth=2, label='size=16')\n",
    "plt.yscale(\"log\")\n",
    "plt.ylim(10**-3.5)\n",
    "plt.xlabel(r'$\\tau$ [MC steps]', fontsize=15)\n",
    "plt.ylabel(r'$A_{|M|}$', fontsize=15)\n",
    "plt.title(\"2D Ising (Square, J>0, T=2.269) Tensor Contraction\")\n",
    "plt.legend()"
   ]
  },
  {
   "cell_type": "code",
   "execution_count": 39,
   "id": "dbdf3c88-f480-4bbc-85c7-7b3b07f901fe",
   "metadata": {},
   "outputs": [],
   "source": [
    "autocorr_time_size_16 = np.sum(autocorr_m_abs_2dising_16_j_pos_mean[:80]) - 1/2"
   ]
  },
  {
   "cell_type": "code",
   "execution_count": 40,
   "id": "e1f36a0a-978e-4493-80e8-bc4c9bea9ff0",
   "metadata": {},
   "outputs": [
    {
     "name": "stdout",
     "output_type": "stream",
     "text": [
      "autocorr time of size 16 is: 14.311.\n"
     ]
    }
   ],
   "source": [
    "print(f\"autocorr time of size 16 is: {autocorr_time_size_16:.3f}.\")"
   ]
  },
  {
   "cell_type": "markdown",
   "id": "f626947f-d89b-4535-a5d3-dd942a51123e",
   "metadata": {},
   "source": [
    "-----------\n",
    "### Size = 32"
   ]
  },
  {
   "cell_type": "code",
   "execution_count": 21,
   "id": "d182780d-eb24-45a9-ac70-fb24e1e2d7ef",
   "metadata": {},
   "outputs": [],
   "source": [
    "with open('../data_2d_ising/ising2d_size_32_beta_0.441_tensor_1E7_m.pkl', 'rb') as file:\n",
    "    m_2dising_32_j_pos = pickle.load(file)"
   ]
  },
  {
   "cell_type": "code",
   "execution_count": 22,
   "id": "d6c51ac8-390b-49be-a0b5-e6ffcd99ad45",
   "metadata": {},
   "outputs": [],
   "source": [
    "m_abs_2dising_32_j_pos = np.abs(m_2dising_32_j_pos)"
   ]
  },
  {
   "cell_type": "code",
   "execution_count": 23,
   "id": "30de56d7-fb70-43b1-9ee9-ca2570fafb0e",
   "metadata": {},
   "outputs": [],
   "source": [
    "m_abs_2dising_32_j_pos_mean = np.mean(m_abs_2dising_32_j_pos)"
   ]
  },
  {
   "cell_type": "code",
   "execution_count": null,
   "id": "cde57177-0aaa-47e8-aa22-65250db94ee4",
   "metadata": {},
   "outputs": [
    {
     "name": "stdout",
     "output_type": "stream",
     "text": [
      "|m| of size 32 is: 0.656.\n"
     ]
    }
   ],
   "source": [
    "print(f\"|m| of size 32 is: {m_abs_2dising_32_j_pos_mean:.3f}.\")"
   ]
  },
  {
   "cell_type": "code",
   "execution_count": 26,
   "id": "cd8f8700-3a76-4960-8970-0e0cd348a41d",
   "metadata": {},
   "outputs": [],
   "source": [
    "m_abs_2dising_32_j_pos = m_abs_2dising_32_j_pos.reshape((10000, 1000))"
   ]
  },
  {
   "cell_type": "code",
   "execution_count": 27,
   "id": "bf7a8624-1777-451b-8b6b-60097f18c241",
   "metadata": {},
   "outputs": [
    {
     "name": "stdout",
     "output_type": "stream",
     "text": [
      "65.39825773239136\n"
     ]
    }
   ],
   "source": [
    "time_start = time.time()\n",
    "autocorr_m_abs_2dising_32_j_pos_mean, _, _, _ = autocorr_mc_mean_est(m_abs_2dising_32_j_pos, 100)\n",
    "_, autocorr_m_abs_2dising_32_j_pos_std = autocorr_mc_std_est(m_abs_2dising_32_j_pos, 100)\n",
    "time_end = time.time()\n",
    "print(time_end-time_start)"
   ]
  },
  {
   "cell_type": "code",
   "execution_count": 28,
   "id": "27f15d3e-104d-4c26-aca8-524c092b4caf",
   "metadata": {},
   "outputs": [],
   "source": [
    "autocorr_m_abs_2dising_32_j_pos_mean = np.insert(autocorr_m_abs_2dising_32_j_pos_mean, 0, 1)"
   ]
  },
  {
   "cell_type": "code",
   "execution_count": 29,
   "id": "15f8f704-23db-443d-9440-542653dc9b45",
   "metadata": {},
   "outputs": [],
   "source": [
    "autocorr_m_abs_2dising_32_j_pos_std = np.insert(autocorr_m_abs_2dising_32_j_pos_std, 0, 0)"
   ]
  },
  {
   "cell_type": "code",
   "execution_count": 30,
   "id": "20da1d72-60e6-4dd4-a122-a532d7e6f7bd",
   "metadata": {},
   "outputs": [
    {
     "data": {
      "text/plain": [
       "<matplotlib.legend.Legend at 0x7f5b6e381eb0>"
      ]
     },
     "execution_count": 30,
     "metadata": {},
     "output_type": "execute_result"
    },
    {
     "data": {
      "image/png": "[encoded data removed]",
      "text/plain": [
       "<Figure size 432x288 with 1 Axes>"
      ]
     },
     "metadata": {
      "needs_background": "light"
     },
     "output_type": "display_data"
    }
   ],
   "source": [
    "plt.errorbar(x=range(101), y=autocorr_m_abs_2dising_32_j_pos_mean, yerr=autocorr_m_abs_2dising_32_j_pos_std, \n",
    "             fmt='-o', capsize=3, elinewidth=2, label='size=32')\n",
    "plt.yscale(\"log\")\n",
    "plt.ylim(10**-3)\n",
    "plt.xlabel(r'$\\tau$ [MC steps]', fontsize=15)\n",
    "plt.ylabel(r'$A_{|M|}$', fontsize=15)\n",
    "plt.title(\"2D Ising (Square, J>0, T=2.269) Tensor Contraction\")\n",
    "plt.legend()"
   ]
  },
  {
   "cell_type": "code",
   "execution_count": 31,
   "id": "3ca6e8ef-5aaf-40ef-a8a4-2d8286883542",
   "metadata": {},
   "outputs": [],
   "source": [
    "autocorr_time_size_32 = np.sum(autocorr_m_abs_2dising_32_j_pos_mean) - 1/2"
   ]
  },
  {
   "cell_type": "code",
   "execution_count": 32,
   "id": "1837acdd-839f-4fa6-b811-3e6ea6554dca",
   "metadata": {},
   "outputs": [
    {
     "name": "stdout",
     "output_type": "stream",
     "text": [
      "autocorr time of size 32 is: 47.910.\n"
     ]
    }
   ],
   "source": [
    "print(f\"autocorr time of size 32 is: {autocorr_time_size_32:.3f}.\")"
   ]
  },
  {
   "cell_type": "markdown",
   "id": "6a8d08f3-91a8-4139-88f1-d6699c11b1ca",
   "metadata": {},
   "source": [
    "--------------\n",
    "#### Summary"
   ]
  },
  {
   "cell_type": "code",
   "execution_count": 56,
   "id": "e1fc154e-ad4b-4c85-a160-8606fe0c9d8a",
   "metadata": {},
   "outputs": [
    {
     "data": {
      "text/plain": [
       "<matplotlib.legend.Legend at 0x7f5b6ef45490>"
      ]
     },
     "execution_count": 56,
     "metadata": {},
     "output_type": "execute_result"
    },
    {
     "data": {
      "image/png": "[encoded data removed]",
      "text/plain": [
       "<Figure size 432x288 with 1 Axes>"
      ]
     },
     "metadata": {
      "needs_background": "light"
     },
     "output_type": "display_data"
    }
   ],
   "source": [
    "plt.errorbar(x=range(101), y=autocorr_m_abs_2dising_4_j_pos_mean, yerr=autocorr_m_abs_2dising_4_j_pos_std, \n",
    "             fmt='-o', capsize=3, elinewidth=2, label='size=4')\n",
    "plt.errorbar(x=range(101), y=autocorr_m_abs_2dising_8_j_pos_mean, yerr=autocorr_m_abs_2dising_8_j_pos_std, \n",
    "             fmt='-o', capsize=3, elinewidth=2, label='size=8')\n",
    "plt.errorbar(x=range(101), y=autocorr_m_abs_2dising_16_j_pos_mean, yerr=autocorr_m_abs_2dising_16_j_pos_std, \n",
    "             fmt='-o', capsize=3, elinewidth=2, label='size=16')\n",
    "plt.errorbar(x=range(101), y=autocorr_m_abs_2dising_32_j_pos_mean, yerr=autocorr_m_abs_2dising_32_j_pos_std, \n",
    "             fmt='-o', capsize=3, elinewidth=2, label='size=32')\n",
    "plt.yscale(\"log\")\n",
    "plt.ylim(10**-2.5, 1.1)\n",
    "plt.xlabel(r'$\\tau$ [MC steps]', fontsize=15)\n",
    "plt.ylabel(r'$A_{|M|}$', fontsize=15)\n",
    "plt.title(\"2D Ising (Square, J>0, T=2.269) Tensor Contraction\")\n",
    "plt.legend()"
   ]
  },
  {
   "cell_type": "markdown",
   "id": "47b4ed99-ea08-4f38-a199-0dd6f04d051f",
   "metadata": {
    "tags": []
   },
   "source": [
    "### Size effect and Dynamical Exponent"
   ]
  },
  {
   "cell_type": "code",
   "execution_count": 63,
   "id": "3261959c-0141-4de6-835c-21c96fe28441",
   "metadata": {},
   "outputs": [],
   "source": [
    "size_array = np.array([4, 8, 16, 32])"
   ]
  },
  {
   "cell_type": "code",
   "execution_count": 64,
   "id": "4edd450f-7610-4f02-983b-7ad826cbfc8e",
   "metadata": {},
   "outputs": [],
   "source": [
    "autocorr_fun_array = np.array([m_abs_2dising_4_j_pos_mean, \n",
    "                               m_abs_2dising_8_j_pos_mean,\n",
    "                               m_abs_2dising_16_j_pos_mean,\n",
    "                               m_abs_2dising_32_j_pos_mean])"
   ]
  },
  {
   "cell_type": "code",
   "execution_count": 65,
   "id": "a64d4e21-e1f4-47c4-80fb-05b6de7f35be",
   "metadata": {},
   "outputs": [
    {
     "data": {
      "text/plain": [
       "Text(0.5, 1.0, 'Size Effect on Square 2D Ising (J > 0) Metropolis')"
      ]
     },
     "execution_count": 65,
     "metadata": {},
     "output_type": "execute_result"
    },
    {
     "data": {
      "image/png": "[encoded data removed]",
      "text/plain": [
       "<Figure size 432x288 with 1 Axes>"
      ]
     },
     "metadata": {
      "needs_background": "light"
     },
     "output_type": "display_data"
    }
   ],
   "source": [
    "plt.plot(size_array, autocorr_fun_array, '-o', markersize=9)\n",
    "plt.xscale('log')\n",
    "plt.yscale('log')\n",
    "plt.xlabel(\"Size\", fontsize=15)\n",
    "plt.ylabel(\"|M|\", fontsize=15)\n",
    "plt.title(\"Size Effect on Square 2D Ising (J > 0) Metropolis\")"
   ]
  },
  {
   "cell_type": "code",
   "execution_count": 72,
   "id": "5221f856-fe79-4da8-b6f1-c7c6a926089b",
   "metadata": {},
   "outputs": [],
   "source": [
    "autocorr_time_array = np.array([autocorr_time_size_4, autocorr_time_size_8, \n",
    "                                autocorr_time_size_16, autocorr_time_size_32])\n",
    "size_array = np.array([4, 8, 16, 32])"
   ]
  },
  {
   "cell_type": "code",
   "execution_count": 76,
   "id": "fa7ad16f-0500-4aaf-ab59-6be4073bc9c8",
   "metadata": {},
   "outputs": [
    {
     "data": {
      "text/plain": [
       "47.91020181081646"
      ]
     },
     "execution_count": 76,
     "metadata": {},
     "output_type": "execute_result"
    }
   ],
   "source": [
    "autocorr_time_size_32"
   ]
  },
  {
   "cell_type": "code",
   "execution_count": 73,
   "id": "e594db3b-227e-48c1-8c31-fbc1b3eda66a",
   "metadata": {},
   "outputs": [],
   "source": [
    "index_metropolis, bias = np.polyfit(np.log(size_array), np.log(autocorr_time_array), 1)"
   ]
  },
  {
   "cell_type": "code",
   "execution_count": 74,
   "id": "bc0237e6-d364-4718-9b13-8a4b61bc2b51",
   "metadata": {},
   "outputs": [
    {
     "name": "stdout",
     "output_type": "stream",
     "text": [
      "index of metropolis is about: 1.809.\n"
     ]
    }
   ],
   "source": [
    "print(f\"index of metropolis is about: {index_metropolis:.3f}.\")"
   ]
  },
  {
   "cell_type": "code",
   "execution_count": 155,
   "id": "45ba1f1d-5583-43ce-8973-4da7fc0e2379",
   "metadata": {},
   "outputs": [
    {
     "data": {
      "text/plain": [
       "Text(0.5, 1.0, 'Metropolis on Ising 2D Square Lattice (J > 0), Z=1.809')"
      ]
     },
     "execution_count": 155,
     "metadata": {},
     "output_type": "execute_result"
    },
    {
     "data": {
      "image/png": "[encoded data removed]",
      "text/plain": [
       "<Figure size 432x288 with 1 Axes>"
      ]
     },
     "metadata": {
      "needs_background": "light"
     },
     "output_type": "display_data"
    }
   ],
   "source": [
    "plt.plot(np.log(size_array), index_metropolis*np.log(size_array) + bias, linewidth=3)\n",
    "plt.plot(np.log(size_array), np.log(autocorr_time_array), 'o', markersize=15)\n",
    "plt.xlabel(\"Size\", fontsize=15)\n",
    "plt.ylabel(\"Autocorr Time\", fontsize=15)\n",
    "plt.title(\"Metropolis on Ising 2D Square Lattice (J > 0), Z=1.809\")"
   ]
  },
  {
   "cell_type": "markdown",
   "id": "97a3a0ed-da53-4e78-b1da-e574310d4465",
   "metadata": {},
   "source": [
    "--------------------\n",
    "## Chain Evolution on Square Lattice (tensor contraction with transpose)"
   ]
  },
  {
   "cell_type": "markdown",
   "id": "15a7c9cf-6bce-4b89-be3c-0f4311d9f787",
   "metadata": {},
   "source": [
    "### Size = 4"
   ]
  },
  {
   "cell_type": "code",
   "execution_count": 8,
   "id": "482ac2c2-6b65-41b1-be24-5c4ba4a8f32d",
   "metadata": {},
   "outputs": [],
   "source": [
    "with open('../data_2d_ising/ising2d_size_4_beta_0.441_tensor_transpose_1E7_m.pkl', 'rb') as file:\n",
    "    m_2dising_4_j_pos = pickle.load(file)"
   ]
  },
  {
   "cell_type": "code",
   "execution_count": 9,
   "id": "e4ab055b-3bd8-4ed4-8d39-032b38d0b860",
   "metadata": {},
   "outputs": [],
   "source": [
    "m_abs_2dising_4_j_pos = np.abs(m_2dising_4_j_pos)"
   ]
  },
  {
   "cell_type": "code",
   "execution_count": 87,
   "id": "e231f5cd-9d96-4ca2-ad51-bcc127b3822d",
   "metadata": {},
   "outputs": [],
   "source": [
    "m_abs_2dising_4_j_pos_mean = np.mean(m_abs_2dising_4_j_pos)"
   ]
  },
  {
   "cell_type": "code",
   "execution_count": 89,
   "id": "7c1a184b-7684-4e46-bb70-806f61f24eb4",
   "metadata": {},
   "outputs": [
    {
     "name": "stdout",
     "output_type": "stream",
     "text": [
      "|m| of size 4 is: 0.843891625.\n"
     ]
    }
   ],
   "source": [
    "print(f\"|m| of size 4 is: {m_abs_2dising_4_j_pos_mean}.\")"
   ]
  },
  {
   "cell_type": "code",
   "execution_count": 10,
   "id": "35854afa-fe15-424c-9eaf-df7f42721f96",
   "metadata": {},
   "outputs": [],
   "source": [
    "m_abs_2dising_4_j_pos = m_abs_2dising_4_j_pos.reshape((10000, 1000))"
   ]
  },
  {
   "cell_type": "code",
   "execution_count": 11,
   "id": "46fd0222-3ffa-46a2-b5e0-9b2b1d31d97e",
   "metadata": {},
   "outputs": [
    {
     "name": "stdout",
     "output_type": "stream",
     "text": [
      "135.60443568229675\n"
     ]
    }
   ],
   "source": [
    "time_start = time.time()\n",
    "autocorr_m_abs_2dising_4_j_pos_mean, _, _, _ = autocorr_mc_mean_est(m_abs_2dising_4_j_pos, 100)\n",
    "_, autocorr_m_abs_2dising_4_j_pos_std = autocorr_mc_std_est(m_abs_2dising_4_j_pos, 100)\n",
    "time_end = time.time()\n",
    "print(time_end-time_start)"
   ]
  },
  {
   "cell_type": "code",
   "execution_count": 12,
   "id": "dd45f08b-6b36-4656-a365-aac9afb7df79",
   "metadata": {},
   "outputs": [],
   "source": [
    "autocorr_m_abs_2dising_4_j_pos_mean = np.insert(autocorr_m_abs_2dising_4_j_pos_mean, 0, 1)"
   ]
  },
  {
   "cell_type": "code",
   "execution_count": 13,
   "id": "8fe301fa-e49b-4386-a44e-97fd5a3f9380",
   "metadata": {},
   "outputs": [],
   "source": [
    "autocorr_m_abs_2dising_4_j_pos_std = np.insert(autocorr_m_abs_2dising_4_j_pos_std, 0, 0)"
   ]
  },
  {
   "cell_type": "code",
   "execution_count": 14,
   "id": "5fb34c77-a9f0-4556-b621-e699b72ba149",
   "metadata": {},
   "outputs": [
    {
     "data": {
      "text/plain": [
       "<matplotlib.legend.Legend at 0x7fdfe7173280>"
      ]
     },
     "execution_count": 14,
     "metadata": {},
     "output_type": "execute_result"
    },
    {
     "data": {
      "image/png": "[encoded data removed]",
      "text/plain": [
       "<Figure size 432x288 with 1 Axes>"
      ]
     },
     "metadata": {
      "needs_background": "light"
     },
     "output_type": "display_data"
    }
   ],
   "source": [
    "plt.errorbar(x=range(101), y=autocorr_m_abs_2dising_4_j_pos_mean, yerr=autocorr_m_abs_2dising_4_j_pos_std, \n",
    "             fmt='-o', capsize=3, elinewidth=2, label='size=4')\n",
    "plt.yscale(\"log\")\n",
    "plt.ylim(10**-4)\n",
    "plt.xlim(0, 100)\n",
    "plt.xlabel(r'$\\tau$ [Evolve steps]', fontsize=15)\n",
    "plt.ylabel(r'$A_{|M|}$', fontsize=15)\n",
    "plt.title(\"2D Ising (Square, J>0, T=2.269) Chain\")\n",
    "plt.legend()"
   ]
  },
  {
   "cell_type": "code",
   "execution_count": 15,
   "id": "66fe92fb-4870-409a-910b-4ddf4ee86df2",
   "metadata": {},
   "outputs": [],
   "source": [
    "autocorr_time_size_4 = np.sum(autocorr_m_abs_2dising_4_j_pos_mean[:10]) - 1/2"
   ]
  },
  {
   "cell_type": "code",
   "execution_count": 16,
   "id": "23595903-4fef-4ae1-b32d-a37fd3d27c62",
   "metadata": {},
   "outputs": [
    {
     "name": "stdout",
     "output_type": "stream",
     "text": [
      "autocorr time of size 4 is: 1.215.\n"
     ]
    }
   ],
   "source": [
    "print(f\"autocorr time of size 4 is: {autocorr_time_size_4:.3f}.\")"
   ]
  },
  {
   "cell_type": "markdown",
   "id": "47fca271-9a40-4f42-a79d-104ce2ee5382",
   "metadata": {},
   "source": [
    "-----\n",
    "### Size = 8"
   ]
  },
  {
   "cell_type": "code",
   "execution_count": 65,
   "id": "ac6e5254-4c6e-4126-8ebc-2653fd2a011c",
   "metadata": {},
   "outputs": [],
   "source": [
    "with open('../data_2d_ising/ising2d_size_8_beta_0.441_tensor_transpose_1E7_m.pkl', 'rb') as file:\n",
    "    m_2dising_8_j_pos = pickle.load(file)"
   ]
  },
  {
   "cell_type": "code",
   "execution_count": 66,
   "id": "bd389c40-2743-4888-a620-d27ca485eebd",
   "metadata": {},
   "outputs": [],
   "source": [
    "m_abs_2dising_8_j_pos = np.abs(m_2dising_8_j_pos)"
   ]
  },
  {
   "cell_type": "code",
   "execution_count": 67,
   "id": "7960c219-310d-4fd0-98dc-631ceeba1c33",
   "metadata": {},
   "outputs": [],
   "source": [
    "m_abs_2dising_8_j_pos_mean = np.mean(m_abs_2dising_8_j_pos)"
   ]
  },
  {
   "cell_type": "code",
   "execution_count": 68,
   "id": "924366c4-a6de-4a7c-9e30-c3d81ca2b72f",
   "metadata": {},
   "outputs": [
    {
     "name": "stdout",
     "output_type": "stream",
     "text": [
      "|m| of size 8 is: 0.777229425.\n"
     ]
    }
   ],
   "source": [
    "print(f\"|m| of size 8 is: {m_abs_2dising_size_8_j_pos_mean}.\")"
   ]
  },
  {
   "cell_type": "code",
   "execution_count": 69,
   "id": "474b1e3e-acb8-40d0-a81b-6c2bcf81f615",
   "metadata": {},
   "outputs": [],
   "source": [
    "m_abs_2dising_8_j_pos = m_abs_2dising_8_j_pos.reshape((10000, 1000))"
   ]
  },
  {
   "cell_type": "code",
   "execution_count": 70,
   "id": "808c2337-3685-411c-b836-44dcf7fee6fe",
   "metadata": {},
   "outputs": [
    {
     "name": "stdout",
     "output_type": "stream",
     "text": [
      "113.45912003517151\n"
     ]
    }
   ],
   "source": [
    "time_start = time.time()\n",
    "autocorr_m_abs_2dising_8_j_pos_mean, _, _, _ = autocorr_mc_mean_est(m_abs_2dising_size_8_j_pos, 100)\n",
    "_, autocorr_m_abs_2dising_8_j_pos_std = autocorr_mc_std_est(m_abs_2dising_8_j_pos, 100)\n",
    "time_end = time.time()\n",
    "print(time_end-time_start)"
   ]
  },
  {
   "cell_type": "code",
   "execution_count": 71,
   "id": "f5ceecc6-2129-48cb-8b02-62846141ab2a",
   "metadata": {},
   "outputs": [],
   "source": [
    "autocorr_m_abs_2dising_8_j_pos_mean = np.insert(autocorr_m_abs_2dising_8_j_pos_mean, 0, 1)"
   ]
  },
  {
   "cell_type": "code",
   "execution_count": 72,
   "id": "f28dd528-78f3-4e0c-bb90-2f3d8b038e1d",
   "metadata": {},
   "outputs": [],
   "source": [
    "autocorr_m_abs_2dising_8_j_pos_std = np.insert(autocorr_m_abs_2dising_8_j_pos_std, 0, 0)"
   ]
  },
  {
   "cell_type": "code",
   "execution_count": 73,
   "id": "3bc567b1-8105-4ed5-b296-2fbdfca460c4",
   "metadata": {},
   "outputs": [
    {
     "data": {
      "text/plain": [
       "<matplotlib.legend.Legend at 0x7fdfe692a340>"
      ]
     },
     "execution_count": 73,
     "metadata": {},
     "output_type": "execute_result"
    },
    {
     "data": {
      "image/png": "[encoded data removed]",
      "text/plain": [
       "<Figure size 432x288 with 1 Axes>"
      ]
     },
     "metadata": {
      "needs_background": "light"
     },
     "output_type": "display_data"
    }
   ],
   "source": [
    "plt.errorbar(x=range(101), y=autocorr_m_abs_2dising_8_j_pos_mean, yerr=autocorr_m_abs_2dising_8_j_pos_std, \n",
    "             fmt='-o', capsize=3, elinewidth=2, label='size=8')\n",
    "plt.yscale(\"log\")\n",
    "plt.ylim(10**-4)\n",
    "plt.xlim(0, 100)\n",
    "plt.xlabel(r'$\\tau$ [Evolve steps]', fontsize=15)\n",
    "plt.ylabel(r'$A_{|M|}$', fontsize=15)\n",
    "plt.title(\"2D Ising (Square, J>0, T=2.269) tensor contraction transpose\")\n",
    "plt.legend()"
   ]
  },
  {
   "cell_type": "code",
   "execution_count": 74,
   "id": "3d3e7cce-46c5-4a54-940e-71874adde640",
   "metadata": {},
   "outputs": [],
   "source": [
    "autocorr_time_size_8 = np.sum(autocorr_m_abs_2dising_8_j_pos_mean[:25]) - 1/2"
   ]
  },
  {
   "cell_type": "code",
   "execution_count": 75,
   "id": "0ad7dcca-d160-442a-ae74-9598d67af275",
   "metadata": {},
   "outputs": [
    {
     "name": "stdout",
     "output_type": "stream",
     "text": [
      "autocorr time of size 8 is: 3.744.\n"
     ]
    }
   ],
   "source": [
    "print(f\"autocorr time of size 8 is: {autocorr_time_size_8:.3f}.\")"
   ]
  },
  {
   "cell_type": "markdown",
   "id": "4735fb49-1152-4b40-9cda-d105180e10ed",
   "metadata": {},
   "source": [
    "-------\n",
    "### Size = 16"
   ]
  },
  {
   "cell_type": "code",
   "execution_count": 28,
   "id": "7cf1e977-0b6e-4feb-9fa1-2520106be4ec",
   "metadata": {},
   "outputs": [],
   "source": [
    "with open('../data_2d_ising/ising2d_size_16_beta_0.441_tensor_transpose_1E7_m.pkl', 'rb') as file:\n",
    "    m_2dising_16_j_pos = pickle.load(file)"
   ]
  },
  {
   "cell_type": "code",
   "execution_count": 29,
   "id": "1fa0bc7b-754f-49c1-8eb3-2db19cc88091",
   "metadata": {},
   "outputs": [],
   "source": [
    "m_abs_2dising_16_j_pos = np.abs(m_2dising_16_j_pos)"
   ]
  },
  {
   "cell_type": "code",
   "execution_count": 30,
   "id": "6fbdd02b-43d2-4d10-a2d9-b6e8e8ae6d78",
   "metadata": {},
   "outputs": [],
   "source": [
    "m_abs_2dising_16_j_pos_mean = np.mean(m_abs_2dising_16_j_pos)"
   ]
  },
  {
   "cell_type": "code",
   "execution_count": 31,
   "id": "26ac9dec-7e1c-4cc0-a4d0-c26c3dda6ef2",
   "metadata": {},
   "outputs": [
    {
     "name": "stdout",
     "output_type": "stream",
     "text": [
      "|m| of size 16 is: 0.71378966328125.\n"
     ]
    }
   ],
   "source": [
    "print(f\"|m| of size 16 is: {m_abs_2dising_16_j_pos_mean}.\")"
   ]
  },
  {
   "cell_type": "code",
   "execution_count": 32,
   "id": "5fcbeb6c-1008-49ef-8410-be333261a5a7",
   "metadata": {},
   "outputs": [],
   "source": [
    "m_abs_2dising_16_j_pos = m_abs_2dising_16_j_pos.reshape((10000, 1000))"
   ]
  },
  {
   "cell_type": "code",
   "execution_count": 33,
   "id": "8d7237d1-2d8a-44f7-af68-4e039c400e05",
   "metadata": {},
   "outputs": [
    {
     "name": "stdout",
     "output_type": "stream",
     "text": [
      "114.83318996429443\n"
     ]
    }
   ],
   "source": [
    "time_start = time.time()\n",
    "autocorr_m_abs_2dising_16_j_pos_mean, _, _, _ = autocorr_mc_mean_est(m_abs_2dising_16_j_pos, 100)\n",
    "_, autocorr_m_abs_2dising_16_j_pos_std = autocorr_mc_std_est(m_abs_2dising_16_j_pos, 100)\n",
    "time_end = time.time()\n",
    "print(time_end-time_start)"
   ]
  },
  {
   "cell_type": "code",
   "execution_count": 34,
   "id": "9fe0390e-9aa3-4461-9636-6dcf98d7ceb2",
   "metadata": {},
   "outputs": [],
   "source": [
    "autocorr_m_abs_2dising_16_j_pos_mean = np.insert(autocorr_m_abs_2dising_16_j_pos_mean, 0, 1)"
   ]
  },
  {
   "cell_type": "code",
   "execution_count": 35,
   "id": "9cb744a7-ed67-4705-890f-97cd52f93149",
   "metadata": {},
   "outputs": [],
   "source": [
    "autocorr_m_abs_2dising_16_j_pos_std = np.insert(autocorr_m_abs_2dising_16_j_pos_std, 0, 0)"
   ]
  },
  {
   "cell_type": "code",
   "execution_count": 36,
   "id": "fcb44c98-f66d-4b30-a305-ab85008afce9",
   "metadata": {},
   "outputs": [
    {
     "data": {
      "text/plain": [
       "<matplotlib.legend.Legend at 0x7fdfe5f023a0>"
      ]
     },
     "execution_count": 36,
     "metadata": {},
     "output_type": "execute_result"
    },
    {
     "data": {
      "image/png": "[encoded data removed]",
      "text/plain": [
       "<Figure size 432x288 with 1 Axes>"
      ]
     },
     "metadata": {
      "needs_background": "light"
     },
     "output_type": "display_data"
    }
   ],
   "source": [
    "plt.errorbar(x=range(101), y=autocorr_m_abs_2dising_16_j_pos_mean, yerr=autocorr_m_abs_2dising_16_j_pos_std, \n",
    "             fmt='-o', capsize=3, elinewidth=2, label='size=16')\n",
    "plt.yscale(\"log\")\n",
    "plt.ylim(10**-4)\n",
    "plt.xlim(0, 100)\n",
    "plt.xlabel(r'$\\tau$ [Evolve steps]', fontsize=15)\n",
    "plt.ylabel(r'$A_{|M|}$', fontsize=15)\n",
    "plt.title(\"2D Ising (Square, J>0, T=2.269) Tensor Contraction, Transpose\")\n",
    "plt.legend()"
   ]
  },
  {
   "cell_type": "code",
   "execution_count": 37,
   "id": "f167d8f7-1639-466d-97ff-9d9bb5f58067",
   "metadata": {},
   "outputs": [],
   "source": [
    "autocorr_time_size_16 = np.sum(autocorr_m_abs_2dising_16_j_pos_mean[:75]) - 1/2"
   ]
  },
  {
   "cell_type": "code",
   "execution_count": 38,
   "id": "57ccc87f-13a5-43d7-a5e6-e173ca7e58c2",
   "metadata": {},
   "outputs": [
    {
     "name": "stdout",
     "output_type": "stream",
     "text": [
      "autocorr time of size 16 is: 14.762.\n"
     ]
    }
   ],
   "source": [
    "print(f\"autocorr time of size 16 is: {autocorr_time_size_16:.3f}.\")"
   ]
  },
  {
   "cell_type": "markdown",
   "id": "d76178fd-a600-4d76-9184-1c0ccebb79e6",
   "metadata": {},
   "source": [
    "-----\n",
    "### Size = 32"
   ]
  },
  {
   "cell_type": "code",
   "execution_count": 39,
   "id": "04936b64-a230-4b37-83f4-663702849118",
   "metadata": {},
   "outputs": [],
   "source": [
    "with open('../data_2d_ising/ising2d_size_32_beta_0.441_tensor_transpose_1E7_m.pkl', 'rb') as file:\n",
    "    m_2dising_32_j_pos = pickle.load(file)"
   ]
  },
  {
   "cell_type": "code",
   "execution_count": 41,
   "id": "3283f809-23bb-44c5-918d-d1558f5c3b64",
   "metadata": {},
   "outputs": [],
   "source": [
    "m_abs_2dising_32_j_pos = np.abs(m_2dising_32_j_pos)"
   ]
  },
  {
   "cell_type": "code",
   "execution_count": 42,
   "id": "6728a20d-0e38-45cc-8b3b-c1ee3ec22eb0",
   "metadata": {},
   "outputs": [],
   "source": [
    "m_abs_2dising_32_j_pos_mean = np.mean(m_abs_2dising_32_j_pos)"
   ]
  },
  {
   "cell_type": "code",
   "execution_count": 43,
   "id": "16fe9097-3d59-4fc1-9663-808d09d990b7",
   "metadata": {},
   "outputs": [
    {
     "name": "stdout",
     "output_type": "stream",
     "text": [
      "|m| of size 32 is: 0.6543241083984375.\n"
     ]
    }
   ],
   "source": [
    "print(f\"|m| of size 32 is: {m_abs_2dising_32_j_pos_mean}.\")"
   ]
  },
  {
   "cell_type": "code",
   "execution_count": 44,
   "id": "85d8f93e-ba92-4c7a-a9f9-3f8e7e5dc969",
   "metadata": {},
   "outputs": [],
   "source": [
    "m_abs_2dising_32_j_pos = m_abs_2dising_32_j_pos.reshape((10000, 1000))"
   ]
  },
  {
   "cell_type": "code",
   "execution_count": 45,
   "id": "4d72150a-fbf1-4fd0-8a7f-2e23c11a538a",
   "metadata": {},
   "outputs": [
    {
     "name": "stdout",
     "output_type": "stream",
     "text": [
      "116.70149183273315\n"
     ]
    }
   ],
   "source": [
    "time_start = time.time()\n",
    "autocorr_m_abs_2dising_32_j_pos_mean, _, _, _ = autocorr_mc_mean_est(m_abs_2dising_32_j_pos, 100)\n",
    "_, autocorr_m_abs_2dising_32_j_pos_std = autocorr_mc_std_est(m_abs_2dising_32_j_pos, 100)\n",
    "time_end = time.time()\n",
    "print(time_end-time_start)"
   ]
  },
  {
   "cell_type": "code",
   "execution_count": 46,
   "id": "f203ab83-9e66-472c-98a8-bbdfe33b64b3",
   "metadata": {},
   "outputs": [],
   "source": [
    "autocorr_m_abs_2dising_32_j_pos_mean= np.insert(autocorr_m_abs_2dising_32_j_pos_mean, 0, 1)"
   ]
  },
  {
   "cell_type": "code",
   "execution_count": 47,
   "id": "3e75fb1f-1486-4bbc-bacd-2fdcc8553cc1",
   "metadata": {},
   "outputs": [],
   "source": [
    "autocorr_m_abs_2dising_32_j_pos_std = np.insert(autocorr_m_abs_2dising_32_j_pos_std, 0, 0)"
   ]
  },
  {
   "cell_type": "code",
   "execution_count": 48,
   "id": "00f7a107-7642-48ab-a15b-fb4587aea3ff",
   "metadata": {},
   "outputs": [
    {
     "data": {
      "text/plain": [
       "<matplotlib.legend.Legend at 0x7fdfe5474910>"
      ]
     },
     "execution_count": 48,
     "metadata": {},
     "output_type": "execute_result"
    },
    {
     "data": {
      "image/png": "[encoded data removed]",
      "text/plain": [
       "<Figure size 432x288 with 1 Axes>"
      ]
     },
     "metadata": {
      "needs_background": "light"
     },
     "output_type": "display_data"
    }
   ],
   "source": [
    "plt.errorbar(x=range(101), y=autocorr_m_abs_2dising_32_j_pos_mean, yerr=autocorr_m_abs_2dising_32_j_pos_std, \n",
    "             fmt='-o', capsize=3, elinewidth=2, label='size=32')\n",
    "plt.yscale(\"log\")\n",
    "plt.ylim(10**-4)\n",
    "plt.xlim(0, 101)\n",
    "plt.xlabel(r'$\\tau$ [Evolve steps]', fontsize=15)\n",
    "plt.ylabel(r'$A_{|M|}$', fontsize=15)\n",
    "plt.title(\"2D Ising (Square, J>0, T=2.269) Tensor Contraction, Transpose\")\n",
    "plt.legend()"
   ]
  },
  {
   "cell_type": "code",
   "execution_count": 50,
   "id": "f483b0cd-827e-4a6c-95b1-0c9202e8dc4f",
   "metadata": {},
   "outputs": [],
   "source": [
    "autocorr_time_size_32 = np.sum(autocorr_m_abs_2dising_32_j_pos_mean) - 1/2"
   ]
  },
  {
   "cell_type": "code",
   "execution_count": 51,
   "id": "a632aae2-21c7-4286-9e1f-0559d87be0f8",
   "metadata": {},
   "outputs": [
    {
     "name": "stdout",
     "output_type": "stream",
     "text": [
      "autocorr time of size 32 is: 48.431.\n"
     ]
    }
   ],
   "source": [
    "print(f\"autocorr time of size 32 is: {autocorr_time_size_32:.3f}.\")"
   ]
  },
  {
   "cell_type": "markdown",
   "id": "91a72225-e58c-42e6-8e38-e0ad6f116145",
   "metadata": {},
   "source": [
    "------\n",
    "### Summary"
   ]
  },
  {
   "cell_type": "code",
   "execution_count": 76,
   "id": "69b5e100-55cb-4928-ae0d-4bacd81c9d19",
   "metadata": {},
   "outputs": [
    {
     "data": {
      "text/plain": [
       "<matplotlib.legend.Legend at 0x7fdfe68a6e50>"
      ]
     },
     "execution_count": 76,
     "metadata": {},
     "output_type": "execute_result"
    },
    {
     "data": {
      "image/png": "[encoded data removed]",
      "text/plain": [
       "<Figure size 432x288 with 1 Axes>"
      ]
     },
     "metadata": {
      "needs_background": "light"
     },
     "output_type": "display_data"
    }
   ],
   "source": [
    "plt.errorbar(x=range(101), y=autocorr_m_abs_2dising_4_j_pos_mean, \n",
    "             yerr=autocorr_m_abs_2dising_4_j_pos_std, fmt='-o', capsize=3, \n",
    "             elinewidth=2, label='size=4')\n",
    "plt.errorbar(x=range(101), y=autocorr_m_abs_2dising_8_j_pos_mean, \n",
    "             yerr=autocorr_m_abs_2dising_8_j_pos_std, fmt='-o', capsize=3, \n",
    "             elinewidth=2, label='size=8')\n",
    "plt.errorbar(x=range(101), y=autocorr_m_abs_2dising_16_j_pos_mean, \n",
    "             yerr=autocorr_m_abs_2dising_16_j_pos_std, fmt='-o', capsize=3, \n",
    "             elinewidth=2, label='size=16')\n",
    "plt.errorbar(x=range(101), y=autocorr_m_abs_2dising_32_j_pos_mean, \n",
    "             yerr=autocorr_m_abs_2dising_32_j_pos_std, fmt='-o', capsize=3, \n",
    "             elinewidth=2, label='size=32')\n",
    "plt.yscale(\"log\")\n",
    "plt.ylim(10**-2.5, 1.1)\n",
    "plt.xlabel(r'$\\tau$ [Evolve Steps]', fontsize=15)\n",
    "plt.ylabel(r'$A_{|M|}$', fontsize=15)\n",
    "plt.title(\"2D Ising (Square, J>0, T=2.269) Tensor Contraction, Transpose\")\n",
    "plt.legend()"
   ]
  },
  {
   "cell_type": "markdown",
   "id": "66274356-bd2a-4d02-bbae-2413b33e0a69",
   "metadata": {},
   "source": [
    "-------\n",
    "### dynamical exponent"
   ]
  },
  {
   "cell_type": "code",
   "execution_count": 77,
   "id": "84a1f167-1265-4f2d-96ed-d32b09be1e33",
   "metadata": {},
   "outputs": [],
   "source": [
    "autocorr_time_array = np.array([autocorr_time_size_4, \n",
    "                                autocorr_time_size_8, \n",
    "                                autocorr_time_size_16, \n",
    "                                autocorr_time_size_32])\n",
    "size_array = np.array([4, 8, 16, 32])"
   ]
  },
  {
   "cell_type": "code",
   "execution_count": 78,
   "id": "cfe3e2e0-48d9-4d5d-b9ba-cda18036ab9c",
   "metadata": {},
   "outputs": [],
   "source": [
    "index_chain, bias = np.polyfit(np.log(size_array), np.log(autocorr_time_array), 1)"
   ]
  },
  {
   "cell_type": "code",
   "execution_count": 79,
   "id": "9f3b7e29-ad38-4ee4-8dae-9a939e5a1fbe",
   "metadata": {},
   "outputs": [
    {
     "name": "stdout",
     "output_type": "stream",
     "text": [
      "index of chain evolution is about: 1.793.\n"
     ]
    }
   ],
   "source": [
    "print(f\"index of chain evolution is about: {index_chain:.3f}.\")"
   ]
  },
  {
   "cell_type": "code",
   "execution_count": 80,
   "id": "980bb67d-d50c-452c-98a2-03e134b1c254",
   "metadata": {},
   "outputs": [
    {
     "data": {
      "text/plain": [
       "Text(0.5, 1.0, 'Chain on Ising 2D Square Lattice (J > 0), Z=1.516')"
      ]
     },
     "execution_count": 80,
     "metadata": {},
     "output_type": "execute_result"
    },
    {
     "data": {
      "image/png": "[encoded data removed]",
      "text/plain": [
       "<Figure size 432x288 with 1 Axes>"
      ]
     },
     "metadata": {
      "needs_background": "light"
     },
     "output_type": "display_data"
    }
   ],
   "source": [
    "plt.plot(np.log(size_array), index_chain*np.log(size_array) + bias, linewidth=3)\n",
    "plt.plot(np.log(size_array), np.log(autocorr_time_array), 'o', markersize=15)\n",
    "plt.xlabel(\"Size\", fontsize=15)\n",
    "plt.ylabel(\"Autocorr Time\", fontsize=15)\n",
    "plt.title(\"Chain on Ising 2D Square Lattice (J > 0), Z=1.516\")"
   ]
  },
  {
   "cell_type": "markdown",
   "id": "e3430344-7b71-4a65-a5d3-3d3305f82bd0",
   "metadata": {},
   "source": [
    "-----\n",
    "### Size effects"
   ]
  },
  {
   "cell_type": "code",
   "execution_count": 93,
   "id": "665569fd-4bb1-4841-9e69-058d7af2beb8",
   "metadata": {},
   "outputs": [],
   "source": [
    "autocorr_fun_array = np.array([m_abs_2dising_4_j_pos_mean, \n",
    "                               m_abs_2dising_8_j_pos_mean,\n",
    "                               m_abs_2dising_16_j_pos_mean,\n",
    "                               m_abs_2dising_32_j_pos_mean])"
   ]
  },
  {
   "cell_type": "code",
   "execution_count": 94,
   "id": "fedfc62e-cd11-49f2-bdab-c2f9fc1be9b8",
   "metadata": {},
   "outputs": [],
   "source": [
    "coef_autocorr, bias = np. polyfit(size_array, autocorr_fun_array, 1)"
   ]
  },
  {
   "cell_type": "code",
   "execution_count": 96,
   "id": "6328ea33-5e65-41b5-bdd4-68353a6f08aa",
   "metadata": {},
   "outputs": [
    {
     "data": {
      "text/plain": [
       "Text(0.5, 1.0, 'Size effect on 2D Ising Square Lattice (J > 0)')"
      ]
     },
     "execution_count": 96,
     "metadata": {},
     "output_type": "execute_result"
    },
    {
     "data": {
      "image/png": "[encoded data removed]",
      "text/plain": [
       "<Figure size 432x288 with 1 Axes>"
      ]
     },
     "metadata": {
      "needs_background": "light"
     },
     "output_type": "display_data"
    }
   ],
   "source": [
    "#plt.plot(size_array, coef_autocorr*size_array + bias, linewidth=3)\n",
    "plt.plot(np.log(size_array), np.log(autocorr_fun_array), '-o', markersize=9)\n",
    "plt.xlabel(\"Size\", fontsize=15)\n",
    "plt.ylabel(\"|M|\", fontsize=15)\n",
    "plt.title(\"Size effect on 2D Ising Square Lattice (J > 0)\")"
   ]
  },
  {
   "cell_type": "markdown",
   "id": "8ee88fee-1f1c-4163-8103-521a14d4ecaf",
   "metadata": {},
   "source": [
    "--------------------\n",
    "## Chain Evolution on Square Lattice (tensor contraction with transpose, another line)"
   ]
  },
  {
   "cell_type": "markdown",
   "id": "f04307e7-0609-4ba9-9672-d2ebc72e8d4a",
   "metadata": {},
   "source": [
    "--------\n",
    "### Size = 4"
   ]
  },
  {
   "cell_type": "code",
   "execution_count": 97,
   "id": "0253a870-3081-4716-a5cc-9c487345e92a",
   "metadata": {},
   "outputs": [],
   "source": [
    "with open('../data_2d_ising/ising2d_size_4_beta_0.441_tensor_transpose_another_line_1E7_m.pkl', 'rb') as file:\n",
    "    m_2dising_4_j_pos = pickle.load(file)"
   ]
  },
  {
   "cell_type": "code",
   "execution_count": 98,
   "id": "6951dd9c-8108-4879-89f5-0887eeda22ed",
   "metadata": {},
   "outputs": [],
   "source": [
    "m_abs_2dising_4_j_pos = np.abs(m_2dising_4_j_pos)"
   ]
  },
  {
   "cell_type": "code",
   "execution_count": 99,
   "id": "41894ee5-7269-4341-b615-55995ff8429b",
   "metadata": {},
   "outputs": [],
   "source": [
    "m_abs_2dising_4_j_pos_mean = np.mean(m_abs_2dising_4_j_pos)"
   ]
  },
  {
   "cell_type": "code",
   "execution_count": 100,
   "id": "caa5d542-a545-4b2b-963d-3e9d0c0b00bf",
   "metadata": {},
   "outputs": [
    {
     "name": "stdout",
     "output_type": "stream",
     "text": [
      "|m| of size 4 is: 0.8439523375.\n"
     ]
    }
   ],
   "source": [
    "print(f\"|m| of size 4 is: {m_abs_2dising_4_j_pos_mean}.\")"
   ]
  },
  {
   "cell_type": "code",
   "execution_count": 101,
   "id": "306feb4d-faa8-4083-b1ce-485689bcf440",
   "metadata": {},
   "outputs": [],
   "source": [
    "m_abs_2dising_4_j_pos = m_abs_2dising_4_j_pos.reshape((10000, 1000))"
   ]
  },
  {
   "cell_type": "code",
   "execution_count": 102,
   "id": "71f8a2d2-37dc-49db-8c2a-e8b331619385",
   "metadata": {},
   "outputs": [
    {
     "name": "stdout",
     "output_type": "stream",
     "text": [
      "97.54481410980225\n"
     ]
    }
   ],
   "source": [
    "time_start = time.time()\n",
    "autocorr_m_abs_2dising_4_j_pos_mean, _, _, _ = autocorr_mc_mean_est(m_abs_2dising_4_j_pos, 100)\n",
    "_, autocorr_m_abs_2dising_4_j_pos_std = autocorr_mc_std_est(m_abs_2dising_4_j_pos, 100)\n",
    "time_end = time.time()\n",
    "print(time_end-time_start)"
   ]
  },
  {
   "cell_type": "code",
   "execution_count": 103,
   "id": "2bf39166-8578-416a-913e-fe308907a4ff",
   "metadata": {},
   "outputs": [],
   "source": [
    "autocorr_m_abs_2dising_4_j_pos_mean = np.insert(autocorr_m_abs_2dising_4_j_pos_mean, 0, 1)"
   ]
  },
  {
   "cell_type": "code",
   "execution_count": 104,
   "id": "b9ae8dfc-3d80-44a9-846c-49414debe5cd",
   "metadata": {},
   "outputs": [],
   "source": [
    "autocorr_m_abs_2dising_4_j_pos_std = np.insert(autocorr_m_abs_2dising_4_j_pos_std, 0, 0)"
   ]
  },
  {
   "cell_type": "code",
   "execution_count": 106,
   "id": "1dcabc21-42b4-4a6f-a593-53fdb83c67d0",
   "metadata": {},
   "outputs": [
    {
     "data": {
      "text/plain": [
       "<matplotlib.legend.Legend at 0x7fdfe5ea7460>"
      ]
     },
     "execution_count": 106,
     "metadata": {},
     "output_type": "execute_result"
    },
    {
     "data": {
      "image/png": "[encoded data removed]",
      "text/plain": [
       "<Figure size 432x288 with 1 Axes>"
      ]
     },
     "metadata": {
      "needs_background": "light"
     },
     "output_type": "display_data"
    }
   ],
   "source": [
    "plt.errorbar(x=range(101), y=autocorr_m_abs_2dising_4_j_pos_mean, yerr=autocorr_m_abs_2dising_4_j_pos_std, \n",
    "             fmt='-o', capsize=3, elinewidth=2, label='size=4')\n",
    "plt.yscale(\"log\")\n",
    "plt.ylim(10**-4)\n",
    "plt.xlim(0, 100)\n",
    "plt.xlabel(r'$\\tau$ [Evolve steps]', fontsize=15)\n",
    "plt.ylabel(r'$A_{|M|}$', fontsize=15)\n",
    "plt.title(\"2D Ising (Square, J>0, T=2.269) Tensor Contrac v2\")\n",
    "plt.legend()"
   ]
  },
  {
   "cell_type": "code",
   "execution_count": 112,
   "id": "05f043e1-8a81-4567-b33a-4aa27bb6250b",
   "metadata": {},
   "outputs": [],
   "source": [
    "autocorr_time_size_4 = np.sum(autocorr_m_abs_2dising_4_j_pos_mean[:20]) - 1/2"
   ]
  },
  {
   "cell_type": "code",
   "execution_count": 113,
   "id": "2f7b7d80-8c9d-4488-9b7c-543f88363ed3",
   "metadata": {},
   "outputs": [
    {
     "name": "stdout",
     "output_type": "stream",
     "text": [
      "autocorr time of size 4 is: 1.057.\n"
     ]
    }
   ],
   "source": [
    "print(f\"autocorr time of size 4 is: {autocorr_time_size_4:.3f}.\")"
   ]
  },
  {
   "cell_type": "markdown",
   "id": "fca745da-9f44-44c3-a1ed-c5bfee411b59",
   "metadata": {},
   "source": [
    "------------------------------\n",
    "### Size = 8"
   ]
  },
  {
   "cell_type": "code",
   "execution_count": 114,
   "id": "be40a08e-0d0a-4eca-8317-e3830dd29435",
   "metadata": {},
   "outputs": [],
   "source": [
    "with open('../data_2d_ising/ising2d_size_8_beta_0.441_tensor_transpose_another_line_1E7_m.pkl', 'rb') as file:\n",
    "    m_2dising_8_j_pos = pickle.load(file)"
   ]
  },
  {
   "cell_type": "code",
   "execution_count": 115,
   "id": "b2d1a2bb-08a4-496c-979e-7a92abcdbe5c",
   "metadata": {},
   "outputs": [],
   "source": [
    "m_abs_2dising_8_j_pos = np.abs(m_2dising_8_j_pos)"
   ]
  },
  {
   "cell_type": "code",
   "execution_count": 116,
   "id": "da7746a4-2a07-4ffc-802a-eb04c5512b7a",
   "metadata": {},
   "outputs": [],
   "source": [
    "m_abs_2dising_8_j_pos_mean = np.mean(m_abs_2dising_8_j_pos)"
   ]
  },
  {
   "cell_type": "code",
   "execution_count": 117,
   "id": "49fbc892-93e9-4871-a86c-2a31bf9e5475",
   "metadata": {},
   "outputs": [
    {
     "name": "stdout",
     "output_type": "stream",
     "text": [
      "|m| of size 8 is: 0.777243453125.\n"
     ]
    }
   ],
   "source": [
    "print(f\"|m| of size 8 is: {m_abs_2dising_8_j_pos_mean}.\")"
   ]
  },
  {
   "cell_type": "code",
   "execution_count": 118,
   "id": "a76f585c-df40-4d27-8217-a94ebacedc4f",
   "metadata": {},
   "outputs": [],
   "source": [
    "m_abs_2dising_8_j_pos = m_abs_2dising_8_j_pos.reshape((10000, 1000))"
   ]
  },
  {
   "cell_type": "code",
   "execution_count": 119,
   "id": "ac2450b4-8ded-452a-a990-d46dd27604e1",
   "metadata": {},
   "outputs": [
    {
     "name": "stdout",
     "output_type": "stream",
     "text": [
      "98.13910818099976\n"
     ]
    }
   ],
   "source": [
    "time_start = time.time()\n",
    "autocorr_m_abs_2dising_8_j_pos_mean, _, _, _ = autocorr_mc_mean_est(m_abs_2dising_8_j_pos, 100)\n",
    "_, autocorr_m_abs_2dising_8_j_pos_std = autocorr_mc_std_est(m_abs_2dising_8_j_pos, 100)\n",
    "time_end = time.time()\n",
    "print(time_end-time_start)"
   ]
  },
  {
   "cell_type": "code",
   "execution_count": 120,
   "id": "bc099aed-9f93-4199-925e-430d1ec7abed",
   "metadata": {},
   "outputs": [],
   "source": [
    "autocorr_m_abs_2dising_8_j_pos_mean = np.insert(autocorr_m_abs_2dising_8_j_pos_mean, 0, 1)"
   ]
  },
  {
   "cell_type": "code",
   "execution_count": 121,
   "id": "72a29167-939a-4a90-9d33-b3d8d33ff188",
   "metadata": {},
   "outputs": [],
   "source": [
    "autocorr_m_abs_2dising_8_j_pos_std = np.insert(autocorr_m_abs_2dising_8_j_pos_std, 0, 0)"
   ]
  },
  {
   "cell_type": "code",
   "execution_count": 122,
   "id": "778d6c06-13e2-4194-a82f-b483f3595ac0",
   "metadata": {},
   "outputs": [
    {
     "data": {
      "text/plain": [
       "<matplotlib.legend.Legend at 0x7fdfe616b0d0>"
      ]
     },
     "execution_count": 122,
     "metadata": {},
     "output_type": "execute_result"
    },
    {
     "data": {
      "image/png": "[encoded data removed]",
      "text/plain": [
       "<Figure size 432x288 with 1 Axes>"
      ]
     },
     "metadata": {
      "needs_background": "light"
     },
     "output_type": "display_data"
    }
   ],
   "source": [
    "plt.errorbar(x=range(101), y=autocorr_m_abs_2dising_8_j_pos_mean, yerr=autocorr_m_abs_2dising_8_j_pos_std, \n",
    "             fmt='-o', capsize=3, elinewidth=2, label='size=4')\n",
    "plt.yscale(\"log\")\n",
    "plt.ylim(10**-4)\n",
    "plt.xlim(0, 100)\n",
    "plt.xlabel(r'$\\tau$ [Evolve steps]', fontsize=15)\n",
    "plt.ylabel(r'$A_{|M|}$', fontsize=15)\n",
    "plt.title(\"2D Ising (Square, J>0, T=2.269) Tensor Contrac v2\")\n",
    "plt.legend()"
   ]
  },
  {
   "cell_type": "code",
   "execution_count": 124,
   "id": "0fb21523-50bc-4cba-bb18-138d872804f8",
   "metadata": {},
   "outputs": [],
   "source": [
    "autocorr_time_size_8 = np.sum(autocorr_m_abs_2dising_8_j_pos_mean[:30]) - 1/2"
   ]
  },
  {
   "cell_type": "code",
   "execution_count": 125,
   "id": "20b329d2-f5f0-4bc6-82fb-5d33c27b6e4f",
   "metadata": {},
   "outputs": [
    {
     "name": "stdout",
     "output_type": "stream",
     "text": [
      "autocorr time of size 8 is: 3.432.\n"
     ]
    }
   ],
   "source": [
    "print(f\"autocorr time of size 8 is: {autocorr_time_size_8:.3f}.\")"
   ]
  },
  {
   "cell_type": "markdown",
   "id": "9a29814f-3161-46a3-a0ee-d6a4169dae84",
   "metadata": {},
   "source": [
    "-----------------------------\n",
    "### Size = 16"
   ]
  },
  {
   "cell_type": "code",
   "execution_count": 20,
   "id": "08f7c387-f643-4f77-ac18-5da26e1b4051",
   "metadata": {},
   "outputs": [],
   "source": [
    "with open('../data_2d_ising/ising2d_size_16_beta_0.441_tensor_transpose_another_line_1E7_m.pkl', 'rb') as file:\n",
    "    m_2dising_16_j_pos = pickle.load(file)"
   ]
  },
  {
   "cell_type": "code",
   "execution_count": 21,
   "id": "1c00cbda-840f-4658-8aeb-8ba447d4cd16",
   "metadata": {},
   "outputs": [],
   "source": [
    "m_abs_2dising_16_j_pos = np.abs(m_2dising_16_j_pos)"
   ]
  },
  {
   "cell_type": "code",
   "execution_count": 22,
   "id": "7f9430b2-3c4c-4fad-b147-00bd82b0f122",
   "metadata": {},
   "outputs": [],
   "source": [
    "m_abs_2dising_16_j_pos_mean = np.mean(m_abs_2dising_16_j_pos)"
   ]
  },
  {
   "cell_type": "code",
   "execution_count": 23,
   "id": "db8413a6-ec3a-47ba-aa19-b8018f06cc92",
   "metadata": {},
   "outputs": [
    {
     "name": "stdout",
     "output_type": "stream",
     "text": [
      "|m| of size 16 is: 0.7138249796875.\n"
     ]
    }
   ],
   "source": [
    "print(f\"|m| of size 16 is: {m_abs_2dising_16_j_pos_mean}.\")"
   ]
  },
  {
   "cell_type": "code",
   "execution_count": 24,
   "id": "2042ebf6-1446-4296-a1dc-5c672f43cd63",
   "metadata": {},
   "outputs": [],
   "source": [
    "m_abs_2dising_16_j_pos = m_abs_2dising_16_j_pos.reshape((10000, 1000))"
   ]
  },
  {
   "cell_type": "code",
   "execution_count": 25,
   "id": "d467a6cb-ff2c-4082-8c90-aad6f5fe9eca",
   "metadata": {},
   "outputs": [
    {
     "name": "stdout",
     "output_type": "stream",
     "text": [
      "120.8750250339508\n"
     ]
    }
   ],
   "source": [
    "time_start = time.time()\n",
    "autocorr_m_abs_2dising_16_j_pos_mean, _, _, _ = autocorr_mc_mean_est(m_abs_2dising_16_j_pos, 100)\n",
    "_, autocorr_m_abs_2dising_16_j_pos_std = autocorr_mc_std_est(m_abs_2dising_16_j_pos, 100)\n",
    "time_end = time.time()\n",
    "print(time_end-time_start)"
   ]
  },
  {
   "cell_type": "code",
   "execution_count": 26,
   "id": "21b145a8-678c-4efb-8c1c-5e113ab5051a",
   "metadata": {},
   "outputs": [],
   "source": [
    "autocorr_m_abs_2dising_16_j_pos_mean = np.insert(autocorr_m_abs_2dising_16_j_pos_mean, 0, 1)"
   ]
  },
  {
   "cell_type": "code",
   "execution_count": 27,
   "id": "dda32bab-d20d-4f7a-95f2-dfb3d98e328b",
   "metadata": {},
   "outputs": [],
   "source": [
    "autocorr_m_abs_2dising_16_j_pos_std = np.insert(autocorr_m_abs_2dising_16_j_pos_std, 0, 0)"
   ]
  },
  {
   "cell_type": "code",
   "execution_count": 28,
   "id": "317f2725-6e4e-464e-8956-b2d53bb0b18d",
   "metadata": {},
   "outputs": [
    {
     "data": {
      "text/plain": [
       "<matplotlib.legend.Legend at 0x7f86c339aeb0>"
      ]
     },
     "execution_count": 28,
     "metadata": {},
     "output_type": "execute_result"
    },
    {
     "data": {
      "image/png": "[encoded data removed]",
      "text/plain": [
       "<Figure size 432x288 with 1 Axes>"
      ]
     },
     "metadata": {
      "needs_background": "light"
     },
     "output_type": "display_data"
    }
   ],
   "source": [
    "plt.errorbar(x=range(101), y=autocorr_m_abs_2dising_16_j_pos_mean, yerr=autocorr_m_abs_2dising_16_j_pos_std, \n",
    "             fmt='-o', capsize=3, elinewidth=2, label='size=4')\n",
    "plt.yscale(\"log\")\n",
    "plt.ylim(10**-4)\n",
    "plt.xlim(0, 100)\n",
    "plt.xlabel(r'$\\tau$ [Evolve steps]', fontsize=15)\n",
    "plt.ylabel(r'$A_{|M|}$', fontsize=15)\n",
    "plt.title(\"2D Ising (Square, J>0, T=2.269) Tensor Contrac v2\")\n",
    "plt.legend()"
   ]
  },
  {
   "cell_type": "code",
   "execution_count": 31,
   "id": "e24fe883-f097-4e11-afe3-7a66e4f23e95",
   "metadata": {},
   "outputs": [],
   "source": [
    "autocorr_time_size_16 = np.sum(autocorr_m_abs_2dising_16_j_pos_mean[:75]) - 1/2"
   ]
  },
  {
   "cell_type": "code",
   "execution_count": 32,
   "id": "23715ca8-8555-4bcf-80db-14744ea4f792",
   "metadata": {},
   "outputs": [
    {
     "name": "stdout",
     "output_type": "stream",
     "text": [
      "autocorr time of size 16 is: 13.991.\n"
     ]
    }
   ],
   "source": [
    "print(f\"autocorr time of size 16 is: {autocorr_time_size_16:.3f}.\")"
   ]
  },
  {
   "cell_type": "markdown",
   "id": "5aeb9bd8-1f78-47ed-b09c-0cd2eb4e2bfc",
   "metadata": {},
   "source": [
    "-----------\n",
    "### Size = 32"
   ]
  },
  {
   "cell_type": "code",
   "execution_count": 12,
   "id": "acee4b32-6b2c-4bc9-a639-6b75ecb4d68d",
   "metadata": {},
   "outputs": [],
   "source": [
    "with open('../data_2d_ising/ising2d_size_32_beta_0.441_tensor_transpose_another_line_1E7_m.pkl', 'rb') as file:\n",
    "    m_2dising_32_j_pos = pickle.load(file)"
   ]
  },
  {
   "cell_type": "code",
   "execution_count": 13,
   "id": "e57dfc42-2ad8-44cb-b341-f9ddd26fbd64",
   "metadata": {},
   "outputs": [],
   "source": [
    "m_abs_2dising_32_j_pos = np.abs(m_2dising_32_j_pos)"
   ]
  },
  {
   "cell_type": "code",
   "execution_count": 14,
   "id": "2dd450e5-4040-4c32-ae57-32283df0ad22",
   "metadata": {},
   "outputs": [],
   "source": [
    "m_abs_2dising_32_j_pos_mean = np.mean(m_abs_2dising_32_j_pos)"
   ]
  },
  {
   "cell_type": "code",
   "execution_count": 15,
   "id": "0e249837-bcf2-4c6e-8aaf-d7536f903053",
   "metadata": {},
   "outputs": [
    {
     "name": "stdout",
     "output_type": "stream",
     "text": [
      "|m| of size 32 is: 0.704030771875.\n"
     ]
    }
   ],
   "source": [
    "print(f\"|m| of size 32 is: {m_abs_2dising_32_j_pos_mean}.\")"
   ]
  },
  {
   "cell_type": "code",
   "execution_count": null,
   "id": "198e3fba-68c1-4f2f-bc3f-b77b7667b36c",
   "metadata": {},
   "outputs": [],
   "source": [
    "m_abs_2dising_32_j_pos = m_abs_2dising_32_j_pos.reshape((10000, 1000))"
   ]
  },
  {
   "cell_type": "code",
   "execution_count": null,
   "id": "873d1ef8-6d37-4af5-996f-a585cd6745c1",
   "metadata": {},
   "outputs": [],
   "source": [
    "time_start = time.time()\n",
    "autocorr_m_abs_2dising_32_j_pos_mean, _, _, _ = autocorr_mc_mean_est(m_abs_2dising_32_j_pos, 100)\n",
    "_, autocorr_m_abs_2dising_32_j_pos_std = autocorr_mc_std_est(m_abs_2dising_32_j_pos, 100)\n",
    "time_end = time.time()\n",
    "print(time_end-time_start)"
   ]
  },
  {
   "cell_type": "code",
   "execution_count": null,
   "id": "6cbfc355-92ee-4571-810d-1d2ca682f6c0",
   "metadata": {},
   "outputs": [],
   "source": [
    "autocorr_m_abs_2dising_32_j_pos_mean = np.insert(autocorr_m_abs_2dising_32_j_pos_mean, 0, 1)"
   ]
  },
  {
   "cell_type": "code",
   "execution_count": null,
   "id": "e4a77d3b-98a3-4566-ad90-929d076134e1",
   "metadata": {},
   "outputs": [],
   "source": [
    "autocorr_m_abs_2dising_32_j_pos_std = np.insert(autocorr_m_abs_2dising_32_j_pos_std, 0, 0)"
   ]
  },
  {
   "cell_type": "code",
   "execution_count": null,
   "id": "90d42b29-5ce0-487b-be9b-2de232d68b1e",
   "metadata": {},
   "outputs": [],
   "source": [
    "plt.errorbar(x=range(101), y=autocorr_m_abs_2dising_32_j_pos_mean, yerr=autocorr_m_abs_2dising_32_j_pos_std, \n",
    "             fmt='-o', capsize=3, elinewidth=2, label='size=4')\n",
    "plt.yscale(\"log\")\n",
    "plt.ylim(10**-4)\n",
    "plt.xlim(0, 100)\n",
    "plt.xlabel(r'$\\tau$ [Evolve steps]', fontsize=15)\n",
    "plt.ylabel(r'$A_{|M|}$', fontsize=15)\n",
    "plt.title(\"2D Ising (Square, J>0, T=2.269) Tensor Contrac v2\")\n",
    "plt.legend()"
   ]
  },
  {
   "cell_type": "code",
   "execution_count": null,
   "id": "4c7cc911-321c-48dc-a0f0-754c326709e8",
   "metadata": {},
   "outputs": [],
   "source": [
    "autocorr_time_size_32 = np.sum(autocorr_m_abs_2dising_32_j_pos_mean) - 1/2"
   ]
  },
  {
   "cell_type": "code",
   "execution_count": null,
   "id": "1e67dad8-ca54-4c91-baeb-c27ee2738d9b",
   "metadata": {},
   "outputs": [],
   "source": [
    "print(f\"autocorr time of size 32 is: {autocorr_time_size_32:.3f}.\")"
   ]
  },
  {
   "cell_type": "markdown",
   "id": "da09123e-3ca6-4f21-a14a-005d90ee7056",
   "metadata": {},
   "source": [
    "----------------------\n",
    "### Summary"
   ]
  },
  {
   "cell_type": "code",
   "execution_count": 43,
   "id": "71e45358-1645-4284-9aea-462a806eee95",
   "metadata": {},
   "outputs": [],
   "source": [
    "autocorr_time_array = np.array([autocorr_time_size_4, \n",
    "                                autocorr_time_size_8, \n",
    "                                autocorr_time_size_16,])\n",
    "#                                autocorr_time_size_32])\n",
    "size_array = np.array([4, 8, 16])"
   ]
  },
  {
   "cell_type": "code",
   "execution_count": 44,
   "id": "f81b5bdb-86a7-41a5-a856-13bb27331a8c",
   "metadata": {},
   "outputs": [],
   "source": [
    "index_chain, bias = np.polyfit(np.log(size_array), np.log(autocorr_time_array), 1)"
   ]
  },
  {
   "cell_type": "code",
   "execution_count": 45,
   "id": "b8188d53-cc62-4620-b9c2-47a10ea6b30e",
   "metadata": {},
   "outputs": [
    {
     "name": "stdout",
     "output_type": "stream",
     "text": [
      "index of chain evolution is about: 1.818.\n"
     ]
    }
   ],
   "source": [
    "print(f\"index of chain evolution is about: {index_chain:.3f}.\")"
   ]
  },
  {
   "cell_type": "code",
   "execution_count": 46,
   "id": "2d5e4bff-88e7-4d89-b91e-22c1cda1e5df",
   "metadata": {},
   "outputs": [],
   "source": [
    "autocorr_fun_array = np.array([m_abs_2dising_4_j_pos_mean, \n",
    "                               m_abs_2dising_8_j_pos_mean,\n",
    "                               m_abs_2dising_16_j_pos_mean,])\n",
    "#                               m_abs_2dising_32_j_pos_mean])"
   ]
  },
  {
   "cell_type": "code",
   "execution_count": 47,
   "id": "f8ab5065-6867-4468-a909-81f303141d47",
   "metadata": {},
   "outputs": [],
   "source": [
    "coef_autocorr, bias = np. polyfit(size_array, autocorr_fun_array, 1)"
   ]
  },
  {
   "cell_type": "code",
   "execution_count": 48,
   "id": "e29b3d77-de6b-455b-a5e4-cd3bb9afd69e",
   "metadata": {},
   "outputs": [
    {
     "data": {
      "text/plain": [
       "Text(0.5, 1.0, 'Size effect on 2D Ising Square Lattice (J > 0)')"
      ]
     },
     "execution_count": 48,
     "metadata": {},
     "output_type": "execute_result"
    },
    {
     "data": {
      "image/png": "[encoded data removed]",
      "text/plain": [
       "<Figure size 432x288 with 1 Axes>"
      ]
     },
     "metadata": {
      "needs_background": "light"
     },
     "output_type": "display_data"
    }
   ],
   "source": [
    "#plt.plot(size_array, coef_autocorr*size_array + bias, linewidth=3)\n",
    "plt.plot(np.log(size_array), np.log(autocorr_fun_array), '-o', markersize=9)\n",
    "plt.xlabel(\"Size\", fontsize=15)\n",
    "plt.ylabel(\"|M|\", fontsize=15)\n",
    "plt.title(\"Size effect on 2D Ising Square Lattice (J > 0)\")"
   ]
  },
  {
   "cell_type": "code",
   "execution_count": null,
   "id": "74c85df1-dfe2-4461-98fc-acb1404e121b",
   "metadata": {},
   "outputs": [],
   "source": []
  }
 ],
 "metadata": {
  "kernelspec": {
   "display_name": "Python 3 (ipykernel)",
   "language": "python",
   "name": "python3"
  },
  "language_info": {
   "codemirror_mode": {
    "name": "ipython",
    "version": 3
   },
   "file_extension": ".py",
   "mimetype": "text/x-python",
   "name": "python",
   "nbconvert_exporter": "python",
   "pygments_lexer": "ipython3",
   "version": "3.9.10"
  }
 },
 "nbformat": 4,
 "nbformat_minor": 5
}
