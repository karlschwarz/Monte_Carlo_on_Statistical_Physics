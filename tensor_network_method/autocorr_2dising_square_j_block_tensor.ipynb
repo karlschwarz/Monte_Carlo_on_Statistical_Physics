{
 "cells": [
  {
   "cell_type": "markdown",
   "id": "5d35b836-5328-4744-9b2f-8c6aebbcfe4c",
   "metadata": {},
   "source": [
    "# Estimation of Autocorrelation Function (tensor contraction)\n",
    "\n",
    "## (2d Ising model on Square Lattice with J > 0)"
   ]
  },
  {
   "cell_type": "code",
   "execution_count": 66,
   "id": "8ae5030b-dde4-4917-ad46-78433133e95c",
   "metadata": {},
   "outputs": [],
   "source": [
    "import numpy as np\n",
    "import numba as nb"
   ]
  },
  {
   "cell_type": "code",
   "execution_count": 67,
   "id": "b3d57783-ab70-476f-8783-78a004130bf1",
   "metadata": {},
   "outputs": [],
   "source": [
    "import csv\n",
    "import pickle\n",
    "import time\n",
    "from tqdm.auto import trange"
   ]
  },
  {
   "cell_type": "code",
   "execution_count": 68,
   "id": "9e91ea08-44ab-4791-bd72-994434ca7a70",
   "metadata": {},
   "outputs": [],
   "source": [
    "import matplotlib.pyplot as plt"
   ]
  },
  {
   "cell_type": "code",
   "execution_count": 69,
   "id": "3a347563-5814-4982-abaa-d418339f059e",
   "metadata": {},
   "outputs": [],
   "source": [
    "types_corr_k_steps_est = nb.types.Tuple((nb.float64, nb.float64, nb.float64[:]))(nb.float64[:], nb.int64)\n",
    "@nb.cfunc(types_corr_k_steps_est, parallel=True)\n",
    "def corr_k_step_est_float(sample_array, k_steps_max):\n",
    "    \"\"\"\n",
    "    Args:\n",
    "        mc_list: (np.array)\n",
    "        k_steps: (int)\n",
    "    Return:\n",
    "        corr_coef: (float)\n",
    "    \"\"\"\n",
    "    sample_len = len(sample_array)\n",
    "    num_i_steps = sample_len - k_steps_max\n",
    "    q_mean = np.mean(sample_array[:num_i_steps])\n",
    "    q_square_mean = np.mean(np.square(sample_array[:num_i_steps]))\n",
    "    qqk_sum = np.zeros(k_steps_max)\n",
    "    for i in range(num_i_steps):\n",
    "        samples_k_sub = sample_array[i:i+k_steps_max+1]\n",
    "        for j in range(1, k_steps_max+1):\n",
    "            qqk_sum[j-1] += (samples_k_sub[0] * samples_k_sub[j])\n",
    "    qqk_array = qqk_sum / num_i_steps\n",
    "    return (q_mean, q_square_mean, qqk_array)"
   ]
  },
  {
   "cell_type": "code",
   "execution_count": 70,
   "id": "7841599f-0c6e-44d3-b8af-36c9ff06ecca",
   "metadata": {},
   "outputs": [],
   "source": [
    "types_corr_k_steps_est = nb.types.Tuple((nb.float64, nb.float64, nb.float64[:]))(nb.int32[:], nb.int64)\n",
    "@nb.cfunc(types_corr_k_steps_est, parallel=True)\n",
    "def corr_k_step_est_int(sample_array, k_steps_max):\n",
    "    \"\"\"\n",
    "    Args:\n",
    "        mc_list: (np.array)\n",
    "        k_steps: (int)\n",
    "    Return:\n",
    "        corr_coef: (float)\n",
    "    \"\"\"\n",
    "    sample_len = len(sample_array)\n",
    "    num_i_steps = sample_len - k_steps_max\n",
    "    q_mean = np.mean(sample_array[:num_i_steps])\n",
    "    q_square_mean = np.mean(np.square(sample_array[:num_i_steps]))\n",
    "    qqk_sum = np.zeros(k_steps_max)\n",
    "    for i in range(num_i_steps):\n",
    "        samples_k_sub = sample_array[i:i+k_steps_max+1]\n",
    "        for j in range(1, k_steps_max+1):\n",
    "            qqk_sum[j-1] += (samples_k_sub[0] * samples_k_sub[j])\n",
    "    qqk_array = qqk_sum / num_i_steps\n",
    "    return (q_mean, q_square_mean, qqk_array)"
   ]
  },
  {
   "cell_type": "code",
   "execution_count": 71,
   "id": "99117e3e-4d2c-4e04-9edb-db91ef96ad78",
   "metadata": {},
   "outputs": [],
   "source": [
    "@nb.njit(parallel=True)\n",
    "def autocorr_mc_mean_est(mc_array, k_steps_max):\n",
    "    m_times = mc_array.shape[0]\n",
    "    qqk_mean_mc, qqk_mean_std_mc = np.zeros(k_steps_max), np.zeros(k_steps_max)\n",
    "    q_mean_array, q_square_mean_array, qqk_double_array = np.zeros(m_times), np.zeros(m_times), np.zeros((m_times, k_steps_max))\n",
    "    for i in range(m_times):\n",
    "        q_mean, q_square_mean, qqk_array = corr_k_step_est_float(mc_array[i], k_steps_max)\n",
    "        q_mean_array[i] = q_mean\n",
    "        q_square_mean_array[i] = q_square_mean\n",
    "        qqk_double_array[i] = qqk_array\n",
    "    for i in range(k_steps_max):\n",
    "        qqk_mean_mc_i = np.mean(qqk_double_array[:, i])\n",
    "        qqk_mean_std_mc_i = np.std(qqk_double_array[:, i])\n",
    "        qqk_mean_mc[i] = qqk_mean_mc_i\n",
    "        qqk_mean_std_mc[i] = qqk_mean_std_mc_i / np.sqrt(m_times)\n",
    "    ####################################################\n",
    "    q_mean_mc = np.mean(q_mean_array)\n",
    "    q_mean_std_mc = np.std(q_mean_array) / np.sqrt(m_times)\n",
    "    q_square_mean_mc = np.mean(q_square_mean_array)\n",
    "    q_square_mean_std_mc = np.std(q_square_mean_array) / np.sqrt(m_times)\n",
    "    ####################################################\n",
    "    q_mean = (q_mean_mc, q_mean_std_mc)\n",
    "    q_square_mean = (q_square_mean_mc, q_square_mean_std_mc)\n",
    "    qqk_mean = (qqk_mean_mc, qqk_mean_std_mc)\n",
    "    ####################################################\n",
    "    autocorr_mc = (qqk_mean_mc - q_mean_mc ** 2) / (q_square_mean_mc - q_mean_mc ** 2) \n",
    "    return autocorr_mc, q_mean, q_square_mean, qqk_mean"
   ]
  },
  {
   "cell_type": "code",
   "execution_count": 72,
   "id": "13791c7d-5533-4d4e-be5b-f8a29428d471",
   "metadata": {},
   "outputs": [],
   "source": [
    "@nb.njit(parallel=True)\n",
    "def autocorr_mc_std_est(mc_array, k_steps_max):\n",
    "    m_times = mc_array.shape[0]\n",
    "    qqk_mean_mc, qqk_mean_std_mc = np.zeros(k_steps_max), np.zeros(k_steps_max)\n",
    "    q_mean_array, q_square_mean_array, qqk_double_array = np.zeros((m_times, 1)), np.zeros((m_times, 1)), np.zeros((m_times, k_steps_max))\n",
    "    autocorr_mc_mean, autocorr_mc_std = np.zeros(k_steps_max), np.zeros(k_steps_max)\n",
    "    for i in range(m_times):\n",
    "        q_mean, q_square_mean, qqk_array = corr_k_step_est_float(mc_array[i], k_steps_max)\n",
    "        q_mean_array[i] = q_mean\n",
    "        q_square_mean_array[i] = q_square_mean\n",
    "        qqk_double_array[i] = qqk_array        \n",
    "    ####################################################\n",
    "    autocorr_mc_array = (qqk_double_array - q_mean_array ** 2) / (q_square_mean_array - q_mean_array ** 2)\n",
    "    q_mean_mc = np.mean(q_mean_array)\n",
    "    q_square_mean_mc = np.mean(q_square_mean_array)\n",
    "    qqk_mc = np.mean(qqk_double_array)\n",
    "    for j in range(k_steps_max):\n",
    "        autocorr_mc_mean[j] = np.mean(autocorr_mc_array[:, j])\n",
    "        autocorr_mc_std[j] = np.std(autocorr_mc_array[:, j]) / np.sqrt(m_times)\n",
    "    return autocorr_mc_mean, autocorr_mc_std"
   ]
  },
  {
   "cell_type": "code",
   "execution_count": 73,
   "id": "f5c5cc5f-ab92-4d8e-929b-b935a39795ec",
   "metadata": {},
   "outputs": [],
   "source": [
    "def autocorr_time_est(autocorr_fun_list, t_trunc):\n",
    "    num_steps = len(autocorr_fun_list)\n",
    "    coeff_auto = np.polyfit(np.arange(num_steps), np.log(autocorr_fun_list), 1)\n",
    "    k, b = coeff_auto\n",
    "    auto_time_up = 1 / k * np.exp(k * t_trunc + b)\n",
    "    auto_time_down = 1 / k\n",
    "    autocorr_time = auto_time_up - auto_time_down  \n",
    "    return autocorr_time"
   ]
  },
  {
   "cell_type": "markdown",
   "id": "d2731367-75ad-4785-abd2-4d349e098e4a",
   "metadata": {
    "tags": []
   },
   "source": [
    "-----------\n",
    "### 4 x 4 Square 2D Ising Model"
   ]
  },
  {
   "cell_type": "code",
   "execution_count": 74,
   "id": "bdbf0ef1-0e8e-4a26-8da9-9e4350215fa3",
   "metadata": {},
   "outputs": [],
   "source": [
    "with open('./data_2d_ising/ising2d_size_4_beta_0.441_block_tensor_5E6_m.pkl', 'rb') as file:\n",
    "    m_2dising_4_j_pos = pickle.load(file)"
   ]
  },
  {
   "cell_type": "code",
   "execution_count": 75,
   "id": "bc3bfc23-f25a-4531-9be9-7f14c71fb96e",
   "metadata": {},
   "outputs": [],
   "source": [
    "m_abs_2dising_4_j_pos = np.abs(m_2dising_4_j_pos)"
   ]
  },
  {
   "cell_type": "code",
   "execution_count": 76,
   "id": "f3691318-b6b6-4d06-94ea-f8a644b768d1",
   "metadata": {},
   "outputs": [],
   "source": [
    "m_abs_2dising_4_j_pos = m_abs_2dising_4_j_pos.reshape((5000, 1000))"
   ]
  },
  {
   "cell_type": "code",
   "execution_count": 77,
   "id": "3751ef55-7bd5-4a4e-bcd2-99809de90888",
   "metadata": {},
   "outputs": [
    {
     "name": "stdout",
     "output_type": "stream",
     "text": [
      "19.47375249862671\n"
     ]
    }
   ],
   "source": [
    "time_start = time.time()\n",
    "autocorr_m_abs_2dising_4_j_pos_mean, _, _, _ = autocorr_mc_mean_est(m_abs_2dising_4_j_pos, 100)\n",
    "_, autocorr_m_abs_2dising_4_j_pos_std = autocorr_mc_std_est(m_abs_2dising_4_j_pos, 100)\n",
    "time_end = time.time()\n",
    "print(time_end-time_start)"
   ]
  },
  {
   "cell_type": "code",
   "execution_count": 78,
   "id": "dbfd0a18-4cd8-4780-b66f-6cdbc272ba35",
   "metadata": {},
   "outputs": [],
   "source": [
    "autocorr_m_abs_2dising_4_j_pos_mean = np.insert(autocorr_m_abs_2dising_4_j_pos_mean, 0, 1)"
   ]
  },
  {
   "cell_type": "code",
   "execution_count": 79,
   "id": "62f396d8-2c41-428f-8a6d-7ac8a04d8595",
   "metadata": {},
   "outputs": [],
   "source": [
    "autocorr_m_abs_2dising_4_j_pos_std = np.insert(autocorr_m_abs_2dising_4_j_pos_std, 0, 0)"
   ]
  },
  {
   "cell_type": "code",
   "execution_count": 80,
   "id": "1bd9e87f-5202-4fe4-9e59-5224d889f7ac",
   "metadata": {},
   "outputs": [
    {
     "data": {
      "text/plain": [
       "<matplotlib.legend.Legend at 0x7fc0ecaeba60>"
      ]
     },
     "execution_count": 80,
     "metadata": {},
     "output_type": "execute_result"
    },
    {
     "data": {
      "image/png": "[encoded data removed]",
      "text/plain": [
       "<Figure size 432x288 with 1 Axes>"
      ]
     },
     "metadata": {
      "needs_background": "light"
     },
     "output_type": "display_data"
    }
   ],
   "source": [
    "plt.errorbar(x=range(101), y=autocorr_m_abs_2dising_4_j_pos_mean, yerr=autocorr_m_abs_2dising_4_j_pos_std, \n",
    "             fmt='-o', capsize=3, elinewidth=2, label='size=4')\n",
    "plt.yscale(\"log\")\n",
    "plt.ylim(10**-4)\n",
    "plt.xlabel(r'$\\tau$ [MC steps]', fontsize=15)\n",
    "plt.ylabel(r'$A_{|M|}$', fontsize=15)\n",
    "plt.title(\"2D Ising (Square, J>0, T=2.269) Block Cluster\")\n",
    "plt.legend()"
   ]
  },
  {
   "cell_type": "code",
   "execution_count": 81,
   "id": "6712ee5b-754e-47b4-83e6-021962903c5d",
   "metadata": {},
   "outputs": [],
   "source": [
    "m_abs_2dising_4_j_pos_mean = np.mean(m_abs_2dising_4_j_pos)"
   ]
  },
  {
   "cell_type": "code",
   "execution_count": 82,
   "id": "be3b13b0-8ae5-4916-9f12-1ba5f4927b25",
   "metadata": {},
   "outputs": [
    {
     "name": "stdout",
     "output_type": "stream",
     "text": [
      "|m| of size 4 is: 0.844.\n"
     ]
    }
   ],
   "source": [
    "print(f\"|m| of size 4 is: {m_abs_2dising_4_j_pos_mean:.3f}.\")"
   ]
  },
  {
   "cell_type": "code",
   "execution_count": 83,
   "id": "04faae92-8624-4109-9460-3a40b8349f1f",
   "metadata": {},
   "outputs": [],
   "source": [
    "autocorr_time_size_4 = np.sum(autocorr_m_abs_2dising_4_j_pos_mean) - 1/2"
   ]
  },
  {
   "cell_type": "code",
   "execution_count": 84,
   "id": "528492f9-a60b-4e70-800d-ca3c56c60523",
   "metadata": {},
   "outputs": [
    {
     "name": "stdout",
     "output_type": "stream",
     "text": [
      "autocorr time of size 4 is: 1.203.\n"
     ]
    }
   ],
   "source": [
    "print(f\"autocorr time of size 4 is: {autocorr_time_size_4:.3f}.\")"
   ]
  },
  {
   "cell_type": "code",
   "execution_count": 85,
   "id": "9f458f6f-297e-4641-b10c-4b9d5e2411b9",
   "metadata": {},
   "outputs": [],
   "source": [
    "autocorr_time_size_4 = autocorr_time_est(autocorr_m_abs_2dising_4_j_pos_mean[:8], 10000)"
   ]
  },
  {
   "cell_type": "code",
   "execution_count": 86,
   "id": "bcc1d3cb-0960-4dcc-9bf5-0eaaa3bd342e",
   "metadata": {},
   "outputs": [
    {
     "data": {
      "text/plain": [
       "1.174602797231543"
      ]
     },
     "execution_count": 86,
     "metadata": {},
     "output_type": "execute_result"
    }
   ],
   "source": [
    "autocorr_time_size_4"
   ]
  },
  {
   "cell_type": "markdown",
   "id": "c9e3f8bd-3f66-4195-bd33-3ad9c48aa2d6",
   "metadata": {},
   "source": [
    "----\n",
    "### Size = 8"
   ]
  },
  {
   "cell_type": "code",
   "execution_count": 87,
   "id": "0e726f47-7c03-48a1-b13f-4f1c3f1b783e",
   "metadata": {},
   "outputs": [],
   "source": [
    "with open('./data_2d_ising/ising2d_size_8_beta_0.441_block_tensor_5E6_m.pkl', 'rb') as file:\n",
    "    m_2dising_8_j_pos = pickle.load(file)"
   ]
  },
  {
   "cell_type": "code",
   "execution_count": 88,
   "id": "a1c64b3f-d9b3-4d35-99e7-715fe051e0db",
   "metadata": {},
   "outputs": [],
   "source": [
    "m_abs_2dising_8_j_pos = np.abs(m_2dising_8_j_pos)"
   ]
  },
  {
   "cell_type": "code",
   "execution_count": 89,
   "id": "f7176fed-5a99-4779-9052-0b1cdeeec9de",
   "metadata": {},
   "outputs": [],
   "source": [
    "m_abs_2dising_8_j_pos_mean = np.mean(m_abs_2dising_8_j_pos)"
   ]
  },
  {
   "cell_type": "code",
   "execution_count": 90,
   "id": "e642c4c3-f92f-41e6-920b-848736338521",
   "metadata": {},
   "outputs": [
    {
     "name": "stdout",
     "output_type": "stream",
     "text": [
      "|m| of size 8 is: 0.777.\n"
     ]
    }
   ],
   "source": [
    "print(f\"|m| of size 8 is: {m_abs_2dising_8_j_pos_mean:.3f}.\")"
   ]
  },
  {
   "cell_type": "code",
   "execution_count": 91,
   "id": "99b6fcbd-36f7-46a0-b088-4c168d92877f",
   "metadata": {},
   "outputs": [],
   "source": [
    "m_abs_2dising_8_j_pos = m_abs_2dising_8_j_pos.reshape((5000, 1000))"
   ]
  },
  {
   "cell_type": "code",
   "execution_count": 92,
   "id": "15e0d1a0-eb46-4aa2-a5b5-bc248b58cd35",
   "metadata": {},
   "outputs": [
    {
     "name": "stdout",
     "output_type": "stream",
     "text": [
      "4.73543643951416\n"
     ]
    }
   ],
   "source": [
    "time_start = time.time()\n",
    "autocorr_m_abs_2dising_8_j_pos_mean, _, _, _ = autocorr_mc_mean_est(m_abs_2dising_8_j_pos, 100)\n",
    "_, autocorr_m_abs_2dising_8_j_pos_std = autocorr_mc_std_est(m_abs_2dising_8_j_pos, 100)\n",
    "time_end = time.time()\n",
    "print(time_end-time_start)"
   ]
  },
  {
   "cell_type": "code",
   "execution_count": 93,
   "id": "e8fbade8-62db-441d-8cf0-5fa2d8639978",
   "metadata": {},
   "outputs": [],
   "source": [
    "autocorr_m_abs_2dising_8_j_pos_mean = np.insert(autocorr_m_abs_2dising_8_j_pos_mean, 0, 1)"
   ]
  },
  {
   "cell_type": "code",
   "execution_count": 94,
   "id": "6a8363df-0504-40fd-b1d1-3c7681847065",
   "metadata": {},
   "outputs": [],
   "source": [
    "autocorr_m_abs_2dising_8_j_pos_std = np.insert(autocorr_m_abs_2dising_8_j_pos_std, 0, 0)"
   ]
  },
  {
   "cell_type": "code",
   "execution_count": 95,
   "id": "e1254f92-1a22-47d9-94ed-87008168c1cf",
   "metadata": {},
   "outputs": [
    {
     "data": {
      "text/plain": [
       "<matplotlib.legend.Legend at 0x7fc00df5d960>"
      ]
     },
     "execution_count": 95,
     "metadata": {},
     "output_type": "execute_result"
    },
    {
     "data": {
      "image/png": "[encoded data removed]",
      "text/plain": [
       "<Figure size 432x288 with 1 Axes>"
      ]
     },
     "metadata": {
      "needs_background": "light"
     },
     "output_type": "display_data"
    }
   ],
   "source": [
    "plt.errorbar(x=range(101), y=autocorr_m_abs_2dising_8_j_pos_mean, yerr=autocorr_m_abs_2dising_8_j_pos_std, \n",
    "             fmt='-o', capsize=3, elinewidth=2, label='size=8')\n",
    "plt.yscale(\"log\")\n",
    "plt.ylim(10**-5)\n",
    "plt.xlabel(r'$\\tau$ [MC steps]', fontsize=15)\n",
    "plt.ylabel(r'$A_{|M|}$', fontsize=15)\n",
    "plt.title(\"2D Ising (Square, J>0, T=2.269) Block Cluster\")\n",
    "plt.legend()"
   ]
  },
  {
   "cell_type": "code",
   "execution_count": 96,
   "id": "4da0d90a-953a-401f-80d4-9340a739d475",
   "metadata": {},
   "outputs": [],
   "source": [
    "autocorr_time_size_8 = np.sum(autocorr_m_abs_2dising_8_j_pos_mean) - 1/2"
   ]
  },
  {
   "cell_type": "code",
   "execution_count": 97,
   "id": "2652fce4-ada5-41b8-b429-f5e6dda8c067",
   "metadata": {},
   "outputs": [
    {
     "name": "stdout",
     "output_type": "stream",
     "text": [
      "autocorr time of size 8 is: 2.052.\n"
     ]
    }
   ],
   "source": [
    "print(f\"autocorr time of size 8 is: {autocorr_time_size_8:.3f}.\")"
   ]
  },
  {
   "cell_type": "code",
   "execution_count": 98,
   "id": "46dd839c-3760-487b-acf5-04e6b841d1f2",
   "metadata": {},
   "outputs": [],
   "source": [
    "autocorr_time_size_8 = autocorr_time_est(autocorr_m_abs_2dising_8_j_pos_mean[:2], 10000)"
   ]
  },
  {
   "cell_type": "code",
   "execution_count": 99,
   "id": "a898da0e-dbd2-4866-b20d-3bc695aa62f7",
   "metadata": {},
   "outputs": [
    {
     "name": "stdout",
     "output_type": "stream",
     "text": [
      "autocorr time of size 8 is: 1.849.\n"
     ]
    }
   ],
   "source": [
    "print(f\"autocorr time of size 8 is: {autocorr_time_size_8:.3f}.\")"
   ]
  },
  {
   "cell_type": "markdown",
   "id": "bbaca771-38f6-4238-ab13-8db5c5526ad0",
   "metadata": {},
   "source": [
    "-----------\n",
    "### Size = 16"
   ]
  },
  {
   "cell_type": "code",
   "execution_count": 100,
   "id": "eb682936-24f9-4e58-ae30-9876b46212f9",
   "metadata": {},
   "outputs": [],
   "source": [
    "with open('./data_2d_ising/ising2d_size_16_beta_0.441_j_pos_block_tensor_torch/ising2d_size_16_beta_0.441_j_pos_block_tensor_1E5_m.pkl', 'rb') as file:\n",
    "    m_2dising_16_j_pos = pickle.load(file)"
   ]
  },
  {
   "cell_type": "code",
   "execution_count": 101,
   "id": "da6173f1-0212-4e34-a131-b5194e5a5ad7",
   "metadata": {},
   "outputs": [],
   "source": [
    "with open('./data_2d_ising/ising2d_size_16_beta_0.441_j_pos_block_tensor_torch/ising2d_size_16_beta_0.441_j_pos_block_tensor_1E5_m_v1.pkl', 'rb') as file:\n",
    "    m_2dising_16_j_pos_v1 = pickle.load(file)"
   ]
  },
  {
   "cell_type": "code",
   "execution_count": 102,
   "id": "97209b7d-2c4a-418a-b621-ec5975e7541f",
   "metadata": {},
   "outputs": [],
   "source": [
    "with open('./data_2d_ising/ising2d_size_16_beta_0.441_j_pos_block_tensor_torch/ising2d_size_16_beta_0.441_j_pos_block_tensor_1E5_m_v4.pkl', 'rb') as file:\n",
    "    m_2dising_16_j_pos_v4 = pickle.load(file)"
   ]
  },
  {
   "cell_type": "code",
   "execution_count": 103,
   "id": "4427a597-5547-449f-8259-75f356446927",
   "metadata": {},
   "outputs": [],
   "source": [
    "with open('./data_2d_ising/ising2d_size_16_beta_0.441_j_pos_block_tensor_torch/ising2d_size_16_beta_0.441_j_pos_block_tensor_1E5_m_v5.pkl', 'rb') as file:\n",
    "    m_2dising_16_j_pos_v5 = pickle.load(file)"
   ]
  },
  {
   "cell_type": "code",
   "execution_count": 104,
   "id": "aba29fec-67d8-4e54-9b03-24afacd5b208",
   "metadata": {},
   "outputs": [],
   "source": [
    "with open('./data_2d_ising/ising2d_size_16_beta_0.441_j_pos_block_tensor_torch/ising2d_size_16_beta_0.441_j_pos_block_tensor_1E5_m_v6.pkl', 'rb') as file:\n",
    "    m_2dising_16_j_pos_v6 = pickle.load(file)"
   ]
  },
  {
   "cell_type": "code",
   "execution_count": 105,
   "id": "10164592-64a2-424d-9124-8f8691e38dad",
   "metadata": {},
   "outputs": [],
   "source": [
    "with open('./data_2d_ising/ising2d_size_16_beta_0.441_j_pos_block_tensor_torch/ising2d_size_16_beta_0.441_j_pos_block_tensor_1E5_m_v7.pkl', 'rb') as file:\n",
    "    m_2dising_16_j_pos_v7 = pickle.load(file)"
   ]
  },
  {
   "cell_type": "code",
   "execution_count": 106,
   "id": "c9fb0509-3a4e-4a63-88aa-f95620066570",
   "metadata": {},
   "outputs": [],
   "source": [
    "m_abs_2dising_16_j_pos = np.abs(m_2dising_16_j_pos)"
   ]
  },
  {
   "cell_type": "code",
   "execution_count": 107,
   "id": "6ae4cf7d-6bdf-4f44-8bed-f17e2882aa8a",
   "metadata": {},
   "outputs": [],
   "source": [
    "m_abs_2dising_16_j_pos_v1 = np.abs(m_2dising_16_j_pos_v1)"
   ]
  },
  {
   "cell_type": "code",
   "execution_count": 108,
   "id": "73e931ba-bef5-4d80-8038-7ec1cdfc81cd",
   "metadata": {},
   "outputs": [],
   "source": [
    "m_abs_2dising_16_j_pos_v4 = np.abs(m_2dising_16_j_pos_v4)"
   ]
  },
  {
   "cell_type": "code",
   "execution_count": 109,
   "id": "a432f2d0-6526-4e17-a9ce-40ef4d5e6583",
   "metadata": {},
   "outputs": [],
   "source": [
    "m_abs_2dising_16_j_pos_v5 = np.abs(m_2dising_16_j_pos_v5)"
   ]
  },
  {
   "cell_type": "code",
   "execution_count": 110,
   "id": "f17a5a72-245e-4973-9199-ef6df7fca193",
   "metadata": {},
   "outputs": [],
   "source": [
    "m_abs_2dising_16_j_pos_v6 = np.abs(m_2dising_16_j_pos_v6)"
   ]
  },
  {
   "cell_type": "code",
   "execution_count": 111,
   "id": "29871ed5-9a24-4158-b84e-f8cbeab2e198",
   "metadata": {},
   "outputs": [],
   "source": [
    "m_abs_2dising_16_j_pos_v7 = np.abs(m_2dising_16_j_pos_v7)"
   ]
  },
  {
   "cell_type": "code",
   "execution_count": 112,
   "id": "644b9c45-c59c-4647-af4a-860229e1b994",
   "metadata": {},
   "outputs": [],
   "source": [
    "m_abs_2dising_16_j_pos = m_abs_2dising_16_j_pos.reshape((100, 1000))"
   ]
  },
  {
   "cell_type": "code",
   "execution_count": 113,
   "id": "08c62f69-f672-43b4-84aa-7fb7e7d68ebd",
   "metadata": {},
   "outputs": [],
   "source": [
    "m_abs_2dising_16_j_pos_v1 = m_abs_2dising_16_j_pos_v1.reshape((150, 1000))"
   ]
  },
  {
   "cell_type": "code",
   "execution_count": 114,
   "id": "a09644fd-21c4-4f60-8615-d732570d256f",
   "metadata": {},
   "outputs": [],
   "source": [
    "m_abs_2dising_16_j_pos_v4 = m_abs_2dising_16_j_pos_v4.reshape((150, 1000))"
   ]
  },
  {
   "cell_type": "code",
   "execution_count": 115,
   "id": "cff0a9e3-1aa6-47e7-b2bb-9c42908cd05f",
   "metadata": {},
   "outputs": [],
   "source": [
    "m_abs_2dising_16_j_pos_v5 = m_abs_2dising_16_j_pos_v5.reshape((150, 1000))"
   ]
  },
  {
   "cell_type": "code",
   "execution_count": 116,
   "id": "78802bf1-6fde-4ec8-9055-10df71b2ad8d",
   "metadata": {},
   "outputs": [],
   "source": [
    "m_abs_2dising_16_j_pos_v7 = m_abs_2dising_16_j_pos_v7.reshape((150, 1000))"
   ]
  },
  {
   "cell_type": "code",
   "execution_count": 117,
   "id": "e9499347-4058-4e12-87f3-0228f78fd861",
   "metadata": {},
   "outputs": [
    {
     "data": {
      "text/plain": [
       "(100, 1000)"
      ]
     },
     "execution_count": 117,
     "metadata": {},
     "output_type": "execute_result"
    }
   ],
   "source": [
    "m_abs_2dising_16_j_pos.shape"
   ]
  },
  {
   "cell_type": "code",
   "execution_count": 118,
   "id": "481ddb50-8c66-40f8-83ae-94d81d76e9ea",
   "metadata": {},
   "outputs": [],
   "source": [
    "m_abs_2dising_16_j_pos = np.concatenate((m_abs_2dising_16_j_pos, \n",
    "                                         m_abs_2dising_16_j_pos_v1,\n",
    "                                         m_abs_2dising_16_j_pos_v4,\n",
    "                                         m_abs_2dising_16_j_pos_v5,\n",
    "                                         m_abs_2dising_16_j_pos_v7), axis=0)"
   ]
  },
  {
   "cell_type": "code",
   "execution_count": 119,
   "id": "a6ddc31a-b9f1-44a7-a9a4-5ae250ae1eda",
   "metadata": {},
   "outputs": [],
   "source": [
    "m_abs_2dising_16_j_pos_mean = np.mean(m_abs_2dising_16_j_pos)"
   ]
  },
  {
   "cell_type": "code",
   "execution_count": 120,
   "id": "56b3effd-ca52-4d54-af68-1aba38800654",
   "metadata": {},
   "outputs": [
    {
     "name": "stdout",
     "output_type": "stream",
     "text": [
      "|m| of size 16 is: 0.713.\n"
     ]
    }
   ],
   "source": [
    "print(f\"|m| of size 16 is: {m_abs_2dising_16_j_pos_mean:.3f}.\")"
   ]
  },
  {
   "cell_type": "code",
   "execution_count": 121,
   "id": "aa9b9b6a-a68f-417c-ac93-2acca2d3a295",
   "metadata": {},
   "outputs": [
    {
     "name": "stdout",
     "output_type": "stream",
     "text": [
      "0.7382628917694092\n"
     ]
    }
   ],
   "source": [
    "time_start = time.time()\n",
    "autocorr_m_abs_2dising_16_j_pos_mean, _, _, _ = autocorr_mc_mean_est(m_abs_2dising_16_j_pos, 100)\n",
    "_, autocorr_m_abs_2dising_16_j_pos_std = autocorr_mc_std_est(m_abs_2dising_16_j_pos, 100)\n",
    "time_end = time.time()\n",
    "print(time_end-time_start)"
   ]
  },
  {
   "cell_type": "code",
   "execution_count": 122,
   "id": "84e1dc4d-72d2-4664-bb73-66e0684919d8",
   "metadata": {},
   "outputs": [],
   "source": [
    "autocorr_m_abs_2dising_16_j_pos_mean = np.insert(autocorr_m_abs_2dising_16_j_pos_mean, 0, 1)"
   ]
  },
  {
   "cell_type": "code",
   "execution_count": 123,
   "id": "bdf610ba-fe55-4836-a37c-b85870c30281",
   "metadata": {},
   "outputs": [],
   "source": [
    "autocorr_m_abs_2dising_16_j_pos_std = np.insert(autocorr_m_abs_2dising_16_j_pos_std, 0, 0)"
   ]
  },
  {
   "cell_type": "code",
   "execution_count": 124,
   "id": "ceed3a7c-38c8-4307-a17b-ca2c7aa61e51",
   "metadata": {},
   "outputs": [
    {
     "data": {
      "text/plain": [
       "<matplotlib.legend.Legend at 0x7fc00dbfbf10>"
      ]
     },
     "execution_count": 124,
     "metadata": {},
     "output_type": "execute_result"
    },
    {
     "data": {
      "image/png": "[encoded data removed]",
      "text/plain": [
       "<Figure size 432x288 with 1 Axes>"
      ]
     },
     "metadata": {
      "needs_background": "light"
     },
     "output_type": "display_data"
    }
   ],
   "source": [
    "plt.errorbar(x=range(101), y=autocorr_m_abs_2dising_16_j_pos_mean, yerr=autocorr_m_abs_2dising_16_j_pos_std, \n",
    "             fmt='-o', capsize=3, elinewidth=2, label='size=16')\n",
    "plt.yscale(\"log\")\n",
    "plt.ylim(10**-3.5)\n",
    "plt.xlabel(r'$\\tau$ [MC steps]', fontsize=15)\n",
    "plt.ylabel(r'$A_{|M|}$', fontsize=15)\n",
    "plt.title(\"2D Ising (Square, J>0, T=2.269) Tensor Contraction\")\n",
    "plt.legend()"
   ]
  },
  {
   "cell_type": "code",
   "execution_count": 177,
   "id": "dbdf3c88-f480-4bbc-85c7-7b3b07f901fe",
   "metadata": {},
   "outputs": [],
   "source": [
    "autocorr_time_size_16 = np.sum(autocorr_m_abs_2dising_16_j_pos_mean) - 1/2"
   ]
  },
  {
   "cell_type": "code",
   "execution_count": 178,
   "id": "e1f36a0a-978e-4493-80e8-bc4c9bea9ff0",
   "metadata": {},
   "outputs": [
    {
     "name": "stdout",
     "output_type": "stream",
     "text": [
      "autocorr time of size 16 is: 2.870.\n"
     ]
    }
   ],
   "source": [
    "print(f\"autocorr time of size 16 is: {autocorr_time_size_16:.3f}.\")"
   ]
  },
  {
   "cell_type": "code",
   "execution_count": 141,
   "id": "3bc4451e-5a57-4689-a304-234ac8e2a401",
   "metadata": {},
   "outputs": [],
   "source": [
    "autocorr_time_size_16 = autocorr_time_est(autocorr_m_abs_2dising_16_j_pos_mean[:14], 10000)"
   ]
  },
  {
   "cell_type": "code",
   "execution_count": 142,
   "id": "7c05a02b-96d4-4032-b7e1-a9fa79b3c0be",
   "metadata": {},
   "outputs": [
    {
     "name": "stdout",
     "output_type": "stream",
     "text": [
      "autocorr time of size 16 is: 2.970.\n"
     ]
    }
   ],
   "source": [
    "print(f\"autocorr time of size 16 is: {autocorr_time_size_16:.3f}.\")"
   ]
  },
  {
   "cell_type": "markdown",
   "id": "f626947f-d89b-4535-a5d3-dd942a51123e",
   "metadata": {},
   "source": [
    "-----------\n",
    "### Size = 32"
   ]
  },
  {
   "cell_type": "code",
   "execution_count": 10,
   "id": "d182780d-eb24-45a9-ac70-fb24e1e2d7ef",
   "metadata": {},
   "outputs": [],
   "source": [
    "with open('./data_2d_ising/ising2d_size_32_beta_0.441_j_pos_block_tensor_torch/ising2d_size_32_beta_0.441_j_pos_block_tensor_1E4_m.pkl', 'rb') as file:\n",
    "    m_2dising_32_j_pos = pickle.load(file)"
   ]
  },
  {
   "cell_type": "code",
   "execution_count": 13,
   "id": "440f2aa1-c2be-429d-bf85-49a72955cd77",
   "metadata": {},
   "outputs": [],
   "source": [
    "with open('./data_2d_ising/ising2d_size_32_beta_0.441_j_pos_block_tensor_torch/ising2d_size_32_beta_0.441_j_pos_block_tensor_1E4_m_v0.pkl', 'rb') as file:\n",
    "    m_2dising_32_j_pos_v0 = pickle.load(file)"
   ]
  },
  {
   "cell_type": "code",
   "execution_count": 14,
   "id": "b5194e87-22c9-4b8c-978b-ee3fa7d1f037",
   "metadata": {},
   "outputs": [],
   "source": [
    "with open('./data_2d_ising/ising2d_size_32_beta_0.441_j_pos_block_tensor_torch/ising2d_size_32_beta_0.441_j_pos_block_tensor_1E4_m_v1.pkl', 'rb') as file:\n",
    "    m_2dising_32_j_pos_v1 = pickle.load(file)"
   ]
  },
  {
   "cell_type": "code",
   "execution_count": 15,
   "id": "e7065185-81fe-4c41-b5cc-ac48bc0c9b33",
   "metadata": {},
   "outputs": [],
   "source": [
    "with open('./data_2d_ising/ising2d_size_32_beta_0.441_j_pos_block_tensor_torch/ising2d_size_32_beta_0.441_j_pos_block_tensor_1E4_m_v2.pkl', 'rb') as file:\n",
    "    m_2dising_32_j_pos_v2 = pickle.load(file)"
   ]
  },
  {
   "cell_type": "code",
   "execution_count": 16,
   "id": "24d9ca03-f555-4fe0-9451-84c6be17311c",
   "metadata": {},
   "outputs": [],
   "source": [
    "with open('./data_2d_ising/ising2d_size_32_beta_0.441_j_pos_block_tensor_torch/ising2d_size_32_beta_0.441_j_pos_block_tensor_1E4_m_v3.pkl', 'rb') as file:\n",
    "    m_2dising_32_j_pos_v3 = pickle.load(file)"
   ]
  },
  {
   "cell_type": "code",
   "execution_count": 17,
   "id": "88bdd21b-d6ed-484c-9776-e60a19fb3364",
   "metadata": {},
   "outputs": [],
   "source": [
    "with open('./data_2d_ising/ising2d_size_32_beta_0.441_j_pos_block_tensor_torch/ising2d_size_32_beta_0.441_j_pos_block_tensor_1E4_m_v4.pkl', 'rb') as file:\n",
    "    m_2dising_32_j_pos_v4 = pickle.load(file)"
   ]
  },
  {
   "cell_type": "code",
   "execution_count": 18,
   "id": "2943001b-7ad2-4b74-b804-5ce599d92d35",
   "metadata": {},
   "outputs": [],
   "source": [
    "with open('./data_2d_ising/ising2d_size_32_beta_0.441_j_pos_block_tensor_torch/ising2d_size_32_beta_0.441_j_pos_block_tensor_1E4_m_v5.pkl', 'rb') as file:\n",
    "    m_2dising_32_j_pos_v5 = pickle.load(file)"
   ]
  },
  {
   "cell_type": "code",
   "execution_count": 19,
   "id": "f61d2912-5640-4236-870d-9a0184ec83d9",
   "metadata": {},
   "outputs": [],
   "source": [
    "with open('./data_2d_ising/ising2d_size_32_beta_0.441_j_pos_block_tensor_torch/ising2d_size_32_beta_0.441_j_pos_block_tensor_1E4_m_v6.pkl', 'rb') as file:\n",
    "    m_2dising_32_j_pos_v6 = pickle.load(file)"
   ]
  },
  {
   "cell_type": "code",
   "execution_count": 20,
   "id": "5eefc6ea-dd83-4dc1-9f22-18c19528fb77",
   "metadata": {},
   "outputs": [],
   "source": [
    "with open('./data_2d_ising/ising2d_size_32_beta_0.441_j_pos_block_tensor_torch/ising2d_size_32_beta_0.441_j_pos_block_tensor_1E4_m_v7.pkl', 'rb') as file:\n",
    "    m_2dising_32_j_pos_v7 = pickle.load(file)"
   ]
  },
  {
   "cell_type": "code",
   "execution_count": 21,
   "id": "0ac1fdbf-0df8-42f3-89d3-56125947f840",
   "metadata": {},
   "outputs": [],
   "source": [
    "with open('./data_2d_ising/ising2d_size_32_beta_0.441_j_pos_block_tensor_torch/ising2d_size_32_beta_0.441_j_pos_block_tensor_1E4_m_v8.pkl', 'rb') as file:\n",
    "    m_2dising_32_j_pos_v8 = pickle.load(file)"
   ]
  },
  {
   "cell_type": "code",
   "execution_count": 22,
   "id": "6ab9e785-f52f-40d3-a674-feb71099ff94",
   "metadata": {},
   "outputs": [],
   "source": [
    "with open('./data_2d_ising/ising2d_size_32_beta_0.441_j_pos_block_tensor_torch/ising2d_size_32_beta_0.441_j_pos_block_tensor_1E4_m_v9.pkl', 'rb') as file:\n",
    "    m_2dising_32_j_pos_v9 = pickle.load(file)"
   ]
  },
  {
   "cell_type": "code",
   "execution_count": 23,
   "id": "a264d6bd-cb10-48e6-bef3-6128268c1f1a",
   "metadata": {},
   "outputs": [],
   "source": [
    "with open('./data_2d_ising/ising2d_size_32_beta_0.441_j_pos_block_tensor_torch/ising2d_size_32_beta_0.441_j_pos_block_tensor_5E4_m.pkl', 'rb') as file:\n",
    "    m_2dising_32_j_pos_v10 = pickle.load(file)"
   ]
  },
  {
   "cell_type": "code",
   "execution_count": 24,
   "id": "d6c51ac8-390b-49be-a0b5-e6ffcd99ad45",
   "metadata": {},
   "outputs": [],
   "source": [
    "m_abs_2dising_32_j_pos = np.abs(m_2dising_32_j_pos)"
   ]
  },
  {
   "cell_type": "code",
   "execution_count": 25,
   "id": "d173295e-942e-40ea-bc62-4800b27ac6d4",
   "metadata": {},
   "outputs": [],
   "source": [
    "m_abs_2dising_32_j_pos_v0 = np.abs(m_2dising_32_j_pos_v0)"
   ]
  },
  {
   "cell_type": "code",
   "execution_count": 26,
   "id": "d4a6a15b-b54b-401c-afaa-521796e177de",
   "metadata": {},
   "outputs": [],
   "source": [
    "m_abs_2dising_32_j_pos_v1 = np.abs(m_2dising_32_j_pos_v1)"
   ]
  },
  {
   "cell_type": "code",
   "execution_count": 27,
   "id": "52ce2bf7-abe2-4361-8925-395d71882087",
   "metadata": {},
   "outputs": [],
   "source": [
    "m_abs_2dising_32_j_pos_v2 = np.abs(m_2dising_32_j_pos_v2)"
   ]
  },
  {
   "cell_type": "code",
   "execution_count": 28,
   "id": "9fa28989-9e37-4b86-9551-f6457243e2ed",
   "metadata": {},
   "outputs": [],
   "source": [
    "m_abs_2dising_32_j_pos_v3 = np.abs(m_2dising_32_j_pos_v3)"
   ]
  },
  {
   "cell_type": "code",
   "execution_count": 29,
   "id": "32ee91be-c4cb-4f77-b332-15a3ebc005e5",
   "metadata": {},
   "outputs": [],
   "source": [
    "m_abs_2dising_32_j_pos_v4 = np.abs(m_2dising_32_j_pos_v4)"
   ]
  },
  {
   "cell_type": "code",
   "execution_count": 30,
   "id": "3351d075-2d22-442c-bf03-bc2465d5c0e5",
   "metadata": {},
   "outputs": [],
   "source": [
    "m_abs_2dising_32_j_pos_v5 = np.abs(m_2dising_32_j_pos_v5)"
   ]
  },
  {
   "cell_type": "code",
   "execution_count": 31,
   "id": "2b4e8962-31e7-482e-8d03-0cb60ffb9a2c",
   "metadata": {},
   "outputs": [],
   "source": [
    "m_abs_2dising_32_j_pos_v6 = np.abs(m_2dising_32_j_pos_v6)"
   ]
  },
  {
   "cell_type": "code",
   "execution_count": 32,
   "id": "206c9797-9f94-4c3a-bac8-fe6a6ab756e5",
   "metadata": {},
   "outputs": [],
   "source": [
    "m_abs_2dising_32_j_pos_v7 = np.abs(m_2dising_32_j_pos_v7)"
   ]
  },
  {
   "cell_type": "code",
   "execution_count": 33,
   "id": "0f1f28b6-b219-4cd1-90d8-77c257791c15",
   "metadata": {},
   "outputs": [],
   "source": [
    "m_abs_2dising_32_j_pos_v8 = np.abs(m_2dising_32_j_pos_v8)"
   ]
  },
  {
   "cell_type": "code",
   "execution_count": 34,
   "id": "f9eb615f-e3dc-4a35-8a6d-0a50e7ac87c6",
   "metadata": {},
   "outputs": [],
   "source": [
    "m_abs_2dising_32_j_pos_v9 = np.abs(m_2dising_32_j_pos_v9)"
   ]
  },
  {
   "cell_type": "code",
   "execution_count": 35,
   "id": "a27f32ae-3a71-436e-bf53-3e732da8de46",
   "metadata": {},
   "outputs": [],
   "source": [
    "m_abs_2dising_32_j_pos_v10 = np.abs(m_2dising_32_j_pos_v10)"
   ]
  },
  {
   "cell_type": "code",
   "execution_count": 37,
   "id": "b488c8b8-cf96-4cbd-8432-56c7c76273f3",
   "metadata": {},
   "outputs": [],
   "source": [
    "m_abs_2dising_32_j_pos = m_abs_2dising_32_j_pos.reshape((10, 1000))"
   ]
  },
  {
   "cell_type": "code",
   "execution_count": 39,
   "id": "2c0093c3-021e-42f6-8474-f79d80811d69",
   "metadata": {},
   "outputs": [],
   "source": [
    "m_abs_2dising_32_j_pos_v0 = m_abs_2dising_32_j_pos_v0.reshape((10, 1000))"
   ]
  },
  {
   "cell_type": "code",
   "execution_count": 41,
   "id": "48ce7482-499f-4bf4-855f-bf4cffbab815",
   "metadata": {},
   "outputs": [],
   "source": [
    "m_abs_2dising_32_j_pos_v1 = m_abs_2dising_32_j_pos_v1.reshape((10, 1000))"
   ]
  },
  {
   "cell_type": "code",
   "execution_count": 43,
   "id": "ab430b88-6946-47f9-a342-c021a3401226",
   "metadata": {},
   "outputs": [],
   "source": [
    "m_abs_2dising_32_j_pos_v2 = m_abs_2dising_32_j_pos_v2.reshape((10, 1000))"
   ]
  },
  {
   "cell_type": "code",
   "execution_count": 44,
   "id": "fb5fca8e-3d53-4fff-b25b-8611e8929b64",
   "metadata": {},
   "outputs": [],
   "source": [
    "m_abs_2dising_32_j_pos_v3 = m_abs_2dising_32_j_pos_v3.reshape((10, 1000))"
   ]
  },
  {
   "cell_type": "code",
   "execution_count": 45,
   "id": "6008112d-f4b9-4ae6-a7d0-7f7cbc84dfff",
   "metadata": {},
   "outputs": [],
   "source": [
    "m_abs_2dising_32_j_pos_v4 = m_abs_2dising_32_j_pos_v4.reshape((10, 1000))"
   ]
  },
  {
   "cell_type": "code",
   "execution_count": 46,
   "id": "e9ce7351-b7bb-419b-a512-7ebeb3357a70",
   "metadata": {},
   "outputs": [],
   "source": [
    "m_abs_2dising_32_j_pos_v5 = m_abs_2dising_32_j_pos_v5.reshape((10, 1000))"
   ]
  },
  {
   "cell_type": "code",
   "execution_count": 47,
   "id": "be95317f-670a-4759-b712-50e24eaea2c4",
   "metadata": {},
   "outputs": [],
   "source": [
    "m_abs_2dising_32_j_pos_v6 = m_abs_2dising_32_j_pos_v6.reshape((10, 1000))"
   ]
  },
  {
   "cell_type": "code",
   "execution_count": 48,
   "id": "766d50a2-b2a4-46b4-8bb4-6dc1929c276b",
   "metadata": {},
   "outputs": [],
   "source": [
    "m_abs_2dising_32_j_pos_v7 = m_abs_2dising_32_j_pos_v7.reshape((10, 1000))"
   ]
  },
  {
   "cell_type": "code",
   "execution_count": 49,
   "id": "ebfcc615-5a1a-4ea6-bf0a-4cf5165a0f18",
   "metadata": {},
   "outputs": [],
   "source": [
    "m_abs_2dising_32_j_pos_v8 = m_abs_2dising_32_j_pos_v8.reshape((10, 1000))"
   ]
  },
  {
   "cell_type": "code",
   "execution_count": 50,
   "id": "33a23e8d-03f0-4af9-85b8-26ef939abab1",
   "metadata": {},
   "outputs": [],
   "source": [
    "m_abs_2dising_32_j_pos_v9 = m_abs_2dising_32_j_pos_v9.reshape((10, 1000))"
   ]
  },
  {
   "cell_type": "code",
   "execution_count": 52,
   "id": "dee34dab-6a57-4f7e-a493-808a0dcfd89c",
   "metadata": {},
   "outputs": [],
   "source": [
    "m_abs_2dising_32_j_pos_v10 = m_abs_2dising_32_j_pos_v10.reshape((50, 1000))"
   ]
  },
  {
   "cell_type": "code",
   "execution_count": 53,
   "id": "5954acfe-4733-4baf-8009-8c870a3b2302",
   "metadata": {},
   "outputs": [],
   "source": [
    "m_abs_2dising_32_j_pos = np.concatenate((m_abs_2dising_32_j_pos, m_abs_2dising_32_j_pos_v0,\n",
    "                                         m_abs_2dising_32_j_pos_v1, m_abs_2dising_32_j_pos_v2, \n",
    "                                         m_abs_2dising_32_j_pos_v3, m_abs_2dising_32_j_pos_v4,\n",
    "                                         m_abs_2dising_32_j_pos_v5, m_abs_2dising_32_j_pos_v6, \n",
    "                                         m_abs_2dising_32_j_pos_v7, m_abs_2dising_32_j_pos_v8, \n",
    "                                         m_abs_2dising_32_j_pos_v9, m_abs_2dising_32_j_pos_v10), axis=0)"
   ]
  },
  {
   "cell_type": "code",
   "execution_count": 54,
   "id": "30de56d7-fb70-43b1-9ee9-ca2570fafb0e",
   "metadata": {},
   "outputs": [],
   "source": [
    "m_abs_2dising_32_j_pos_mean = np.mean(m_abs_2dising_32_j_pos)"
   ]
  },
  {
   "cell_type": "code",
   "execution_count": 55,
   "id": "cde57177-0aaa-47e8-aa22-65250db94ee4",
   "metadata": {},
   "outputs": [
    {
     "name": "stdout",
     "output_type": "stream",
     "text": [
      "|m| of size 32 is: 0.654.\n"
     ]
    }
   ],
   "source": [
    "print(f\"|m| of size 32 is: {m_abs_2dising_32_j_pos_mean:.3f}.\")"
   ]
  },
  {
   "cell_type": "code",
   "execution_count": 56,
   "id": "bf7a8624-1777-451b-8b6b-60097f18c241",
   "metadata": {},
   "outputs": [
    {
     "name": "stdout",
     "output_type": "stream",
     "text": [
      "14.956312417984009\n"
     ]
    }
   ],
   "source": [
    "time_start = time.time()\n",
    "autocorr_m_abs_2dising_32_j_pos_mean, _, _, _ = autocorr_mc_mean_est(m_abs_2dising_32_j_pos, 100)\n",
    "_, autocorr_m_abs_2dising_32_j_pos_std = autocorr_mc_std_est(m_abs_2dising_32_j_pos, 100)\n",
    "time_end = time.time()\n",
    "print(time_end-time_start)"
   ]
  },
  {
   "cell_type": "code",
   "execution_count": 57,
   "id": "27f15d3e-104d-4c26-aca8-524c092b4caf",
   "metadata": {},
   "outputs": [],
   "source": [
    "autocorr_m_abs_2dising_32_j_pos_mean = np.insert(autocorr_m_abs_2dising_32_j_pos_mean, 0, 1)"
   ]
  },
  {
   "cell_type": "code",
   "execution_count": 58,
   "id": "15f8f704-23db-443d-9440-542653dc9b45",
   "metadata": {},
   "outputs": [],
   "source": [
    "autocorr_m_abs_2dising_32_j_pos_std = np.insert(autocorr_m_abs_2dising_32_j_pos_std, 0, 0)"
   ]
  },
  {
   "cell_type": "code",
   "execution_count": 59,
   "id": "20da1d72-60e6-4dd4-a122-a532d7e6f7bd",
   "metadata": {},
   "outputs": [
    {
     "data": {
      "text/plain": [
       "<matplotlib.legend.Legend at 0x7fc0ee369b10>"
      ]
     },
     "execution_count": 59,
     "metadata": {},
     "output_type": "execute_result"
    },
    {
     "data": {
      "image/png": "[encoded data removed]",
      "text/plain": [
       "<Figure size 432x288 with 1 Axes>"
      ]
     },
     "metadata": {
      "needs_background": "light"
     },
     "output_type": "display_data"
    }
   ],
   "source": [
    "plt.errorbar(x=range(101), y=autocorr_m_abs_2dising_32_j_pos_mean, yerr=autocorr_m_abs_2dising_32_j_pos_std, \n",
    "             fmt='-o', capsize=3, elinewidth=2, label='size=32')\n",
    "plt.yscale(\"log\")\n",
    "plt.ylim(10**-3)\n",
    "plt.xlabel(r'$\\tau$ [MC steps]', fontsize=15)\n",
    "plt.ylabel(r'$A_{|M|}$', fontsize=15)\n",
    "plt.title(\"2D Ising (Square, J>0, T=2.269) Tensor Contraction\")\n",
    "plt.legend()"
   ]
  },
  {
   "cell_type": "code",
   "execution_count": 165,
   "id": "3ca6e8ef-5aaf-40ef-a8a4-2d8286883542",
   "metadata": {},
   "outputs": [],
   "source": [
    "autocorr_time_size_32 = np.sum(autocorr_m_abs_2dising_32_j_pos_mean) - 1/2"
   ]
  },
  {
   "cell_type": "code",
   "execution_count": 166,
   "id": "1837acdd-839f-4fa6-b811-3e6ea6554dca",
   "metadata": {},
   "outputs": [
    {
     "name": "stdout",
     "output_type": "stream",
     "text": [
      "autocorr time of size 32 is: 4.340.\n"
     ]
    }
   ],
   "source": [
    "print(f\"autocorr time of size 32 is: {autocorr_time_size_32:.3f}.\")"
   ]
  },
  {
   "cell_type": "code",
   "execution_count": 163,
   "id": "867fd010-8598-4a7f-865b-e42b11b4ae03",
   "metadata": {},
   "outputs": [],
   "source": [
    "autocorr_time_size_32 = autocorr_time_est(autocorr_m_abs_2dising_32_j_pos_mean[:9], 10000)"
   ]
  },
  {
   "cell_type": "code",
   "execution_count": 164,
   "id": "87d07ce4-098e-47e0-a078-d8636af6161a",
   "metadata": {},
   "outputs": [
    {
     "data": {
      "text/plain": [
       "3.822056117540396"
      ]
     },
     "execution_count": 164,
     "metadata": {},
     "output_type": "execute_result"
    }
   ],
   "source": [
    "autocorr_time_size_32"
   ]
  },
  {
   "cell_type": "markdown",
   "id": "6a8d08f3-91a8-4139-88f1-d6699c11b1ca",
   "metadata": {},
   "source": [
    "--------------\n",
    "#### Summary"
   ]
  },
  {
   "cell_type": "code",
   "execution_count": 167,
   "id": "e1fc154e-ad4b-4c85-a160-8606fe0c9d8a",
   "metadata": {},
   "outputs": [
    {
     "data": {
      "text/plain": [
       "<matplotlib.legend.Legend at 0x7fc0ee1277c0>"
      ]
     },
     "execution_count": 167,
     "metadata": {},
     "output_type": "execute_result"
    },
    {
     "data": {
      "image/png": "[encoded data removed]",
      "text/plain": [
       "<Figure size 432x288 with 1 Axes>"
      ]
     },
     "metadata": {
      "needs_background": "light"
     },
     "output_type": "display_data"
    }
   ],
   "source": [
    "plt.errorbar(x=range(101), y=autocorr_m_abs_2dising_4_j_pos_mean, yerr=autocorr_m_abs_2dising_4_j_pos_std, \n",
    "             fmt='-o', capsize=3, elinewidth=2, label='size=4')\n",
    "plt.errorbar(x=range(101), y=autocorr_m_abs_2dising_8_j_pos_mean, yerr=autocorr_m_abs_2dising_8_j_pos_std, \n",
    "             fmt='-o', capsize=3, elinewidth=2, label='size=8')\n",
    "plt.errorbar(x=range(101), y=autocorr_m_abs_2dising_16_j_pos_mean, yerr=autocorr_m_abs_2dising_16_j_pos_std, \n",
    "             fmt='-o', capsize=3, elinewidth=2, label='size=16')\n",
    "plt.errorbar(x=range(101), y=autocorr_m_abs_2dising_32_j_pos_mean, yerr=autocorr_m_abs_2dising_32_j_pos_std, \n",
    "             fmt='-o', capsize=3, elinewidth=2, label='size=32')\n",
    "plt.yscale(\"log\")\n",
    "plt.ylim(10**-2.5, 1.1)\n",
    "plt.xlabel(r'$\\tau$ [MC steps]', fontsize=15)\n",
    "plt.ylabel(r'$A_{|M|}$', fontsize=15)\n",
    "plt.title(\"2D Ising (Square, J>0, T=2.269) Block Cluster\")\n",
    "plt.legend()"
   ]
  },
  {
   "cell_type": "markdown",
   "id": "47b4ed99-ea08-4f38-a199-0dd6f04d051f",
   "metadata": {
    "tags": []
   },
   "source": [
    "### Size effect and Dynamical Exponent"
   ]
  },
  {
   "cell_type": "code",
   "execution_count": 168,
   "id": "3261959c-0141-4de6-835c-21c96fe28441",
   "metadata": {},
   "outputs": [],
   "source": [
    "size_array = np.array([4, 8, 16, 32])"
   ]
  },
  {
   "cell_type": "code",
   "execution_count": 169,
   "id": "4edd450f-7610-4f02-983b-7ad826cbfc8e",
   "metadata": {},
   "outputs": [],
   "source": [
    "autocorr_fun_array = np.array([m_abs_2dising_4_j_pos_mean, \n",
    "                               m_abs_2dising_8_j_pos_mean,\n",
    "                               m_abs_2dising_16_j_pos_mean,\n",
    "                               m_abs_2dising_32_j_pos_mean])"
   ]
  },
  {
   "cell_type": "code",
   "execution_count": 188,
   "id": "a64d4e21-e1f4-47c4-80fb-05b6de7f35be",
   "metadata": {},
   "outputs": [
    {
     "data": {
      "text/plain": [
       "Text(0.5, 1.0, 'Size Effect on Square 2D Ising (J > 0) Block Tensor')"
      ]
     },
     "execution_count": 188,
     "metadata": {},
     "output_type": "execute_result"
    },
    {
     "data": {
      "image/png": "[encoded data removed]",
      "text/plain": [
       "<Figure size 432x288 with 1 Axes>"
      ]
     },
     "metadata": {
      "needs_background": "light"
     },
     "output_type": "display_data"
    }
   ],
   "source": [
    "plt.plot(size_array, autocorr_fun_array, '-o', markersize=9)\n",
    "plt.xscale('log')\n",
    "plt.yscale('log')\n",
    "plt.xlabel(\"Size\", fontsize=15)\n",
    "plt.ylabel(\"|M|\", fontsize=15)\n",
    "plt.title(\"Size Effect on Square 2D Ising (J > 0) Block Tensor\")"
   ]
  },
  {
   "cell_type": "code",
   "execution_count": 179,
   "id": "5221f856-fe79-4da8-b6f1-c7c6a926089b",
   "metadata": {},
   "outputs": [],
   "source": [
    "autocorr_time_array = np.array([autocorr_time_size_4, autocorr_time_size_8,\n",
    "                                autocorr_time_size_16, autocorr_time_size_32])\n",
    "size_array = np.array([4, 8, 16, 32])"
   ]
  },
  {
   "cell_type": "code",
   "execution_count": 180,
   "id": "8be9fb38-8513-431d-a39d-dc1473254557",
   "metadata": {},
   "outputs": [
    {
     "data": {
      "text/plain": [
       "array([1.1746028 , 1.84862495, 2.86999912, 4.3395949 ])"
      ]
     },
     "execution_count": 180,
     "metadata": {},
     "output_type": "execute_result"
    }
   ],
   "source": [
    "autocorr_time_array"
   ]
  },
  {
   "cell_type": "code",
   "execution_count": 181,
   "id": "e594db3b-227e-48c1-8c31-fbc1b3eda66a",
   "metadata": {},
   "outputs": [],
   "source": [
    "index_metropolis, bias = np.polyfit(np.log(size_array), np.log(autocorr_time_array), 1)"
   ]
  },
  {
   "cell_type": "code",
   "execution_count": 182,
   "id": "bc0237e6-d364-4718-9b13-8a4b61bc2b51",
   "metadata": {},
   "outputs": [
    {
     "name": "stdout",
     "output_type": "stream",
     "text": [
      "index of metropolis is about: 0.629.\n"
     ]
    }
   ],
   "source": [
    "print(f\"index of metropolis is about: {index_metropolis:.3f}.\")"
   ]
  },
  {
   "cell_type": "code",
   "execution_count": 187,
   "id": "45ba1f1d-5583-43ce-8973-4da7fc0e2379",
   "metadata": {},
   "outputs": [
    {
     "data": {
      "text/plain": [
       "Text(0.5, 1.0, 'Block Tensor on Ising 2D Square Lattice (J > 0), Z=0.629')"
      ]
     },
     "execution_count": 187,
     "metadata": {},
     "output_type": "execute_result"
    },
    {
     "data": {
      "image/png": "[encoded data removed]",
      "text/plain": [
       "<Figure size 432x288 with 1 Axes>"
      ]
     },
     "metadata": {
      "needs_background": "light"
     },
     "output_type": "display_data"
    }
   ],
   "source": [
    "plt.plot(size_array, index_metropolis*np.log(size_array) + bias, linewidth=3)\n",
    "plt.plot(size_array, np.log(autocorr_time_array), 'o', markersize=15)\n",
    "plt.xscale('log')\n",
    "plt.xlabel(\"Linear Size\", fontsize=15)\n",
    "plt.ylabel(\"Autocorr Time\", fontsize=15)\n",
    "plt.title(\"Block Tensor on Ising 2D Square Lattice (J > 0), Z=0.629\")"
   ]
  },
  {
   "cell_type": "code",
   "execution_count": null,
   "id": "74c85df1-dfe2-4461-98fc-acb1404e121b",
   "metadata": {},
   "outputs": [],
   "source": []
  },
  {
   "cell_type": "markdown",
   "id": "158319d0-63d6-407d-bc65-8685f60e5f09",
   "metadata": {},
   "source": [
    "----------------"
   ]
  },
  {
   "cell_type": "code",
   "execution_count": null,
   "id": "58731365-2a37-436d-b12e-7efb581a65df",
   "metadata": {},
   "outputs": [],
   "source": []
  }
 ],
 "metadata": {
  "kernelspec": {
   "display_name": "Python 3 (ipykernel)",
   "language": "python",
   "name": "python3"
  },
  "language_info": {
   "codemirror_mode": {
    "name": "ipython",
    "version": 3
   },
   "file_extension": ".py",
   "mimetype": "text/x-python",
   "name": "python",
   "nbconvert_exporter": "python",
   "pygments_lexer": "ipython3",
   "version": "3.10.4"
  }
 },
 "nbformat": 4,
 "nbformat_minor": 5
}
