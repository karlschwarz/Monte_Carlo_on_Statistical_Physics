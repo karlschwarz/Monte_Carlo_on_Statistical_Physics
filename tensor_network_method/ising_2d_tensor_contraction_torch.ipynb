{
 "cells": [
  {
   "cell_type": "markdown",
   "id": "a5f72cb5-87df-473f-8c83-0c0e2de56345",
   "metadata": {},
   "source": [
    "# Compute the partition function by tensor contraction"
   ]
  },
  {
   "cell_type": "markdown",
   "id": "cab19931-97dc-4032-a19b-f3b99036b0a0",
   "metadata": {},
   "source": [
    "### Some codes in this notebook come from Prof. Pan Zhang's tutorial in summer school."
   ]
  },
  {
   "cell_type": "code",
   "execution_count": 1,
   "id": "49cf671c-3ed7-4a23-b0cf-ececd6c2469a",
   "metadata": {},
   "outputs": [],
   "source": [
    "import torch\n",
    "import numpy as np\n",
    "import numba as nb\n",
    "from scipy.linalg import sqrtm"
   ]
  },
  {
   "cell_type": "code",
   "execution_count": 2,
   "id": "b7b5f80b-3614-49fe-9cbb-1c12ed130cc6",
   "metadata": {},
   "outputs": [],
   "source": [
    "import math\n",
    "import time\n",
    "from tqdm.auto import trange"
   ]
  },
  {
   "cell_type": "code",
   "execution_count": 3,
   "id": "4d9f81fd-f7ef-48f6-ab64-a1f78cf1bb3f",
   "metadata": {},
   "outputs": [],
   "source": [
    "import matplotlib.pyplot as plt"
   ]
  },
  {
   "cell_type": "markdown",
   "id": "e7e20c5d-e76c-45e2-8475-27ed2e13b1da",
   "metadata": {},
   "source": [
    "---------------------------------\n",
    "### Chain Cluster"
   ]
  },
  {
   "cell_type": "code",
   "execution_count": 4,
   "id": "81136e51-ea93-4ef5-9f2c-5733834df6e7",
   "metadata": {},
   "outputs": [],
   "source": [
    "def parameters_init(dims_init, beta_init, j_init, h_init):\n",
    "    global grids, dims, beta, j, h\n",
    "    dims = (nb.int8(dims_init[0]), nb.int8(dims_init[1]))\n",
    "    beta, j, h = nb.float32(beta_init), nb.int8(j_init), nb.int8(h_init)\n",
    "    grids = np.reshape(np.random.choice([nb.int8(-1), nb.int8(1)], \n",
    "                                         size=dims_init[0]*dims_init[1]), dims_init)"
   ]
  },
  {
   "cell_type": "code",
   "execution_count": 5,
   "id": "cef6bc9e-b72e-42b2-b689-841893586083",
   "metadata": {},
   "outputs": [],
   "source": [
    "dims_init = (4, 4)\n",
    "beta_init, j_init, h_init = np.log(1 + np.sqrt(2)) / 2, 1, 0 \n",
    "parameters_init(dims_init, beta_init, j_init, h_init)"
   ]
  },
  {
   "cell_type": "code",
   "execution_count": 6,
   "id": "9f867352-5680-4883-9a99-c69cdef88e69",
   "metadata": {},
   "outputs": [],
   "source": [
    "my_device = torch.device('cuda') if torch.cuda.is_available() else torch.device('cpu')"
   ]
  },
  {
   "cell_type": "code",
   "execution_count": 7,
   "id": "94dcadc5-88e5-4c97-9626-855974b0c3c0",
   "metadata": {},
   "outputs": [],
   "source": [
    "global grids, dims, beta, j, h"
   ]
  },
  {
   "cell_type": "code",
   "execution_count": 8,
   "id": "8c9869b8-eef6-4dd2-93ff-d18da1a7fac6",
   "metadata": {},
   "outputs": [],
   "source": [
    "def node_tensor_create(my_device=my_device):\n",
    "    I_1, I_2, I_3, I_4, I_up, I_down = copy_tensor_create(my_device)\n",
    "    B = torch.tensor(sqrtm(np.array([[np.exp(beta*j),np.exp(-beta*j)], \n",
    "                                     [np.exp(-beta*j),np.exp(beta*j)]])), \n",
    "                     dtype=torch.float64, device=my_device)\n",
    "    A_1 = torch.einsum(\"i, ij -> j\", [I_1, B])\n",
    "    A_2 = torch.einsum(\"ij, ab, jb -> ia\", [B, B, I_2])\n",
    "    A_3 = torch.einsum(\"ij, kl, mn, jln -> ikm\", [B, B, B, I_3])\n",
    "    A_4 = torch.einsum(\"ij, kl, mn, pq, jlnq -> ikmp\", [B, B, B, B, I_4])\n",
    "    spin_up = torch.tensor([1, 0], dtype=torch.float64, device=my_device)\n",
    "    spin_down = torch.tensor([0, 1], dtype=torch.float64, device=my_device)\n",
    "    spin_up = torch.einsum(\"i, ij -> j\", [spin_up, B])\n",
    "    spin_down = torch.einsum(\"i, ij -> j\", [spin_down, B])\n",
    "    return A_1, A_2, A_3, A_4, B, spin_up, spin_down"
   ]
  },
  {
   "cell_type": "code",
   "execution_count": 9,
   "id": "87a71799-33a4-4d1c-be4d-d5003fc2f3b7",
   "metadata": {},
   "outputs": [],
   "source": [
    "def copy_tensor_create(my_device=my_device):\n",
    "    I_2_array = np.zeros((2, 2))\n",
    "    I_3_array = np.zeros((2, 2, 2))\n",
    "    I_4_array = np.zeros((2, 2, 2, 2))\n",
    "    I_up_array = np.zeros((2, 2, 2, 2))\n",
    "    I_down_array = np.zeros((2, 2, 2, 2))\n",
    "    for i in range(2):\n",
    "        I_2_array[i, i] = 1\n",
    "        I_3_array[i, i, i] = 1\n",
    "        I_4_array[i, i, i, i] = 1\n",
    "    I_up_array[0][0][0][0] = 1\n",
    "    I_down_array[1][1][1][1] = 1\n",
    "    I_1 = torch.tensor(np.ones((2)), dtype=torch.float64, device=my_device)\n",
    "    I_2 = torch.tensor(I_2_array, dtype=torch.float64, device=my_device)\n",
    "    I_3 = torch.tensor(I_3_array, dtype=torch.float64, device=my_device)\n",
    "    I_4 = torch.tensor(I_4_array, dtype=torch.float64, device=my_device)\n",
    "    I_up = torch.tensor(I_up_array, dtype=torch.float64, device=my_device)\n",
    "    I_down = torch.tensor(I_down_array, dtype=torch.float64, device=my_device)\n",
    "    return I_1, I_2, I_3, I_4, I_up, I_down"
   ]
  },
  {
   "cell_type": "code",
   "execution_count": 10,
   "id": "3da30a19-e194-407e-a252-9d299b8bb210",
   "metadata": {},
   "outputs": [],
   "source": [
    "global I_1, I_2, I_3, I_4, I_up, I_down"
   ]
  },
  {
   "cell_type": "code",
   "execution_count": 11,
   "id": "bc7c8474-d64b-4371-9dbd-058d4588d826",
   "metadata": {},
   "outputs": [],
   "source": [
    "global A_1, A_2, A_3, A_4, B, spin_up, spin_down"
   ]
  },
  {
   "cell_type": "code",
   "execution_count": 12,
   "id": "fb49e39d-ff45-46c9-bfeb-5674d0ce33a3",
   "metadata": {},
   "outputs": [],
   "source": [
    "def tensors_init(my_device=my_device):\n",
    "    global I_1, I_2, I_3, I_4, I_up, I_down\n",
    "    global A_1, A_2, A_3, A_4, B, spin_up, spin_down\n",
    "    global tensors_list\n",
    "    I_1, I_2, I_3, I_4, I_up, I_down = copy_tensor_create(my_device)\n",
    "    A_1, A_2, A_3, A_4, B, spin_up, spin_down = node_tensor_create(my_device)\n",
    "    tensors_list = [A_4 for _ in range(dims[1])]"
   ]
  },
  {
   "cell_type": "code",
   "execution_count": 13,
   "id": "e5c23233-320e-4cb3-afcb-3421a9925368",
   "metadata": {},
   "outputs": [],
   "source": [
    "def tensors_list_prepare(grids, row_id):\n",
    "    row_id_up = (row_id - 1) % dims[0]\n",
    "    row_id_down = (row_id + 1) % dims[0]\n",
    "    up_bdy_vector_list = [spin_up if grids[row_id_up][i] == 1 else spin_down \n",
    "                          for i in range(dims[0])]\n",
    "    down_bdy_vector_list = [spin_up if grids[row_id_down][i] == 1 else spin_down \n",
    "                            for i in range(dims[0])]\n",
    "    tensors_list = []\n",
    "    for i in range(dims[1]):\n",
    "        tensor_i = torch.einsum(\"ijkl, j, l -> ik\", [A_4, \n",
    "                                                     down_bdy_vector_list[i],\n",
    "                                                     up_bdy_vector_list[i]])\n",
    "        tensors_list.append(tensor_i)\n",
    "    return tensors_list, up_bdy_vector_list, down_bdy_vector_list"
   ]
  },
  {
   "cell_type": "code",
   "execution_count": 45,
   "id": "d412ef6d-bec2-4c05-ab2a-d2eed8e72d2c",
   "metadata": {},
   "outputs": [],
   "source": [
    "def chain_one_row(grids, row_id):\n",
    "    tensors_list, up_bdy_vector_list, down_bdy_vector_list = tensors_list_prepare(grids, row_id)\n",
    "    start_id = 0\n",
    "    end_id = dims[1] - 1\n",
    "    up_row_id = (row_id - 1) % dims[0]\n",
    "    down_row_id = (row_id + 1) % dims[0]\n",
    "    #########################################################\n",
    "    spin_up_bdy = up_bdy_vector_list[start_id]\n",
    "    spin_down_bdy = down_bdy_vector_list[start_id]\n",
    "    B_up = torch.einsum(\"ij, j -> i\", [B, spin_up_bdy])\n",
    "    B_down = torch.einsum(\"ij, j -> i\", [B, spin_down_bdy])\n",
    "    #########################################################\n",
    "    tensor_start = tensors_list[start_id+1]\n",
    "    #tensor_start = torch.einsum(\"ij, jk -> ik\", [B, tensor_start])\n",
    "    tensors_stack = [tensor_start]\n",
    "    for i in range(2, dims[1]):\n",
    "        tensor_start = torch.einsum(\"ij, jk -> ik\", [tensor_start, \n",
    "                                                     tensors_list[i]])\n",
    "        tensors_stack.append(tensor_start)\n",
    "    z_four_edge = torch.einsum(\"in, nj, jk, l, m -> iklm\", [B, tensor_start,\n",
    "                                                            B, B_up, B_down])\n",
    "    z_up = torch.einsum(\"ijkl, ijkl -> \", [z_four_edge, I_up]) \n",
    "    z_down = torch.einsum(\"ijkl, ijkl -> \", [z_four_edge, I_down])                         \n",
    "    z = z_up + z_down\n",
    "    #print(z)\n",
    "    prob_up = z_up / z\n",
    "    prob_random = np.random.random()\n",
    "    if prob_random < prob_up:\n",
    "        grids[row_id][start_id] = 1\n",
    "    else:\n",
    "        grids[row_id][start_id] = -1\n",
    "    return tensors_stack, grids, z, up_bdy_vector_list, down_bdy_vector_list"
   ]
  },
  {
   "cell_type": "code",
   "execution_count": 46,
   "id": "a9f2fa24-7ba6-4486-89fe-f84c2773ead3",
   "metadata": {},
   "outputs": [],
   "source": [
    "def backtrack(grids, start_id, row_id, tensors_stack, \n",
    "              up_bdy_vector_list, down_bdy_vector_list):\n",
    "    tensors_stack.pop()\n",
    "    left_bdy = spin_up if grids[row_id][start_id] == 1 else spin_down\n",
    "    for i in range(dims[1]-2):\n",
    "        right_bdy = spin_up if grids[row_id][start_id] == 1 else spin_down\n",
    "        start_id = (start_id - 1) % dims[1]\n",
    "        down_bdy, up_bdy = down_bdy_vector_list[start_id], up_bdy_vector_list[start_id]\n",
    "        start_tensor = tensors_stack.pop()\n",
    "        z_four_edge = torch.einsum(\"i, ij, jl, om, o, pn, p, rk, r -> lmnk\", \n",
    "                                   [left_bdy, start_tensor, B, B,\n",
    "                                    up_bdy, B, down_bdy, B, right_bdy])\n",
    "        z_up = torch.einsum(\"ijkl, ijkl -> \", [z_four_edge, I_up])\n",
    "        z_down = torch.einsum(\"ijkl, ijkl -> \", [z_four_edge, I_down])\n",
    "        z = z_up + z_down\n",
    "        #print(z)\n",
    "        prob_up = z_up / z\n",
    "        prob_random = np.random.random()\n",
    "        if prob_random < prob_up:\n",
    "            grids[row_id][start_id] = 1\n",
    "        else:\n",
    "            grids[row_id][start_id] = -1\n",
    "    up_bdy, down_bdy = up_bdy_vector_list[start_id-1], down_bdy_vector_list[start_id-1]\n",
    "    #print(up_bdy)\n",
    "    #print(down_bdy)\n",
    "    right_bdy = spin_up if grids[row_id][start_id] == 1 else spin_down\n",
    "    #print(right_bdy)\n",
    "    z_four_edge = torch.einsum(\"i, j, k, l, im, jn, ko, lp -> mnop\", [up_bdy, down_bdy,\n",
    "                                                                      left_bdy, right_bdy,\n",
    "                                                                      B, B, B, B])\n",
    "    z_up = torch.einsum(\"ijkl, ijkl -> \", [z_four_edge, I_up])\n",
    "    z_down = torch.einsum(\"ijkl, ijkl -> \", [z_four_edge, I_down])\n",
    "    z = z_up + z_down\n",
    "    #print(z)\n",
    "    prob_up = z_up / z\n",
    "    prob_random = np.random.random()\n",
    "    if prob_random < prob_up:\n",
    "        grids[row_id][start_id-1] = 1\n",
    "    else:\n",
    "        grids[row_id][start_id-1] = -1    \n",
    "    return grids  "
   ]
  },
  {
   "cell_type": "code",
   "execution_count": 16,
   "id": "d63bc5bd-f0fe-44b6-9cdc-23468f20a87c",
   "metadata": {},
   "outputs": [],
   "source": [
    "def energy_compute_grids(grids):\n",
    "    energy_total = 0\n",
    "    for ii in range(dims[0]):\n",
    "        for jj in range(dims[1]):\n",
    "            id_neibors = neibors_get((nb.int8(ii), nb.int8(jj)))\n",
    "            for ij in id_neibors:\n",
    "                energy_ij = -1/2 * j * grids[ij[0]][ij[1]] * grids[ii][jj]\n",
    "                energy_total += energy_ij\n",
    "            ### compute the energy of external field\n",
    "            energy_total += -h * grids[ii][jj]\n",
    "    energy_per_spin = energy_total / (dims[0] * dims[1])\n",
    "    return energy_per_spin"
   ]
  },
  {
   "cell_type": "code",
   "execution_count": 17,
   "id": "23e6caae-304c-48a8-936c-5c6fe5a95180",
   "metadata": {},
   "outputs": [],
   "source": [
    "types_neibor_get_triangle_func = nb.types.UniTuple(nb.types.UniTuple(nb.int8, 2), 4)(nb.types.UniTuple(nb.int8, 2))\n",
    "@nb.cfunc(types_neibor_get_triangle_func)\n",
    "def neibor_get_square(id_grid):\n",
    "    height, width = dims\n",
    "    height_index, width_index = id_grid\n",
    "    l_neibor = (height_index, (width_index - 1) % width)\n",
    "    r_neibor = (height_index, (width_index + 1) % width)\n",
    "    u_neibor = ((height_index - 1) % height, width_index)\n",
    "    d_neibor = ((height_index + 1) % height, width_index)\n",
    "    return (l_neibor, r_neibor, u_neibor, d_neibor)"
   ]
  },
  {
   "cell_type": "code",
   "execution_count": 18,
   "id": "074ed07a-0e81-4524-bfda-bcd0efdea537",
   "metadata": {},
   "outputs": [],
   "source": [
    "@nb.njit(nb.float32(nb.int8[:, :]))\n",
    "def energy_compute_grids(grids):\n",
    "    energy_total = 0\n",
    "    for ii in range(dims[0]):\n",
    "        for jj in range(dims[1]):\n",
    "            id_neibors = neibor_get_square((nb.int8(ii), nb.int8(jj)))\n",
    "            for ij in id_neibors:\n",
    "                energy_ij = -1/2 * j * grids[ij[0]][ij[1]] * grids[ii][jj]\n",
    "                energy_total += energy_ij\n",
    "            ### compute the energy of external field\n",
    "            energy_total += -h * grids[ii][jj]\n",
    "    energy_per_spin = energy_total / (dims[0] * dims[1])\n",
    "    return energy_per_spin"
   ]
  },
  {
   "cell_type": "code",
   "execution_count": 19,
   "id": "404c1533-f9de-4a31-b9a1-06682e8c5290",
   "metadata": {},
   "outputs": [],
   "source": [
    "@nb.njit(nb.float32(nb.int8[:, :]))\n",
    "def magnet_grids(grids):\n",
    "    m_mean = np.mean(grids)\n",
    "    return m_mean"
   ]
  },
  {
   "cell_type": "code",
   "execution_count": 20,
   "id": "98ccb254-32e1-4184-8b94-7042da1af47a",
   "metadata": {},
   "outputs": [],
   "source": [
    "def chain_sampling_one_step(grids):\n",
    "    start_id = 0\n",
    "    for i in range(dims[0]):\n",
    "        tensors_stack, grids, _, up_bdy_list, down_bdy_list = chain_one_row(grids, i)\n",
    "        grids = backtrack(grids, start_id, i, tensors_stack, up_bdy_list, down_bdy_list)\n",
    "    return grids         "
   ]
  },
  {
   "cell_type": "code",
   "execution_count": 21,
   "id": "1a397fa7-fe01-404b-913c-dbff0d19ba20",
   "metadata": {},
   "outputs": [],
   "source": [
    "def chain_evolution(grids, num_steps):\n",
    "    energy_history = []\n",
    "    m_history = []\n",
    "    for _ in trange(num_steps):\n",
    "        grids = chain_sampling_one_step(grids)\n",
    "        energy_per_spin = energy_compute_grids(grids)\n",
    "        m_per_spin = magnet_grids(grids)\n",
    "        energy_history.append(energy_per_spin)\n",
    "        m_history.append(m_per_spin)\n",
    "    return grids, energy_history, m_history"
   ]
  },
  {
   "cell_type": "code",
   "execution_count": 33,
   "id": "3de46a24-d19b-45c9-8b42-bf5594e92088",
   "metadata": {},
   "outputs": [],
   "source": [
    "### function used to check the chain evolution\n",
    "def chain_message_passing(grid, id_row, id_start, id_end):\n",
    "    id_up_row = (id_row - 1) % dims[0]\n",
    "    id_down_row = (id_row + 1) % dims[0]\n",
    "    left_id = (id_start - 1) % dims[1]\n",
    "    energy_up = -j * (grid[id_up_row][id_start] + grids[id_row][left_id] + grids[id_down_row][id_start])\n",
    "    energy_down = -1 * energy_up\n",
    "    infor_node = np.exp([-beta * energy_up, -beta * energy_down])\n",
    "    infor_edge = np.exp([[beta, -beta], [-beta, beta]])\n",
    "    for i in range(id_start+1, id_end+1):\n",
    "        energy_up_i = -j * (grid[id_up_row][i] + grids[id_down_row][i])\n",
    "        energy_down_i = -1 * energy_up_i\n",
    "        infor_node_orig = np.exp([-beta * energy_up_i, -beta * energy_down_i])\n",
    "        infor_node = np.dot(infor_node, infor_edge)\n",
    "        infor_node = infor_node * infor_node_orig\n",
    "    if (id_end + 1) == dims[1]:\n",
    "        energy_up_end = -j * grid[id_row][0]\n",
    "    else:\n",
    "        energy_up_end = -j * grid[id_row][id_end+1]\n",
    "    energy_down_end = -1 * energy_up_end\n",
    "    infor_node_end = np.exp([-beta * energy_up_end, -beta * energy_down_end])\n",
    "    infor_node = infor_node * infor_node_end\n",
    "    z = np.sum(infor_node)\n",
    "    return infor_node, z"
   ]
  },
  {
   "cell_type": "code",
   "execution_count": 23,
   "id": "e2741e1a-5b30-4181-8eda-ef4c2e5fb8e0",
   "metadata": {},
   "outputs": [],
   "source": [
    "def spin_viz(figsize=(10, 10), save=False, folder_name=None):\n",
    "    fig = plt.figure(figsize=figsize)\n",
    "    x, y = np.meshgrid(np.arange(0, dims[0]), np.arange(0, dims[1]))\n",
    "    u = np.cos(grids*np.pi/2)\n",
    "    v = np.sin(grids*np.pi/2)\n",
    "    q = plt.quiver(x, y, u, v)\n",
    "    plt.axis('off')\n",
    "    plt.title('T={:.3f}, spins={}'.format(1/beta, dims), fontsize=20)\n",
    "    if save and step is not None:\n",
    "        plt.savefig(f'./{folder_name}/config_plot_step_{step}.pdf', dpi=100)\n",
    "        plt.close(fig)"
   ]
  },
  {
   "cell_type": "markdown",
   "id": "31f68d22-84e4-4512-9921-383d6d67bcbf",
   "metadata": {},
   "source": [
    "## Test part"
   ]
  },
  {
   "cell_type": "code",
   "execution_count": 24,
   "id": "259dd69b-b65c-4474-96fd-267b97401156",
   "metadata": {},
   "outputs": [],
   "source": [
    "dims_init = (4, 4)\n",
    "beta_init, j_init, h_init = np.log(1 + np.sqrt(2)) / 2, 1, 0 \n",
    "parameters_init(dims_init, beta_init, j_init, h_init)"
   ]
  },
  {
   "cell_type": "code",
   "execution_count": 38,
   "id": "b497a86c-f682-4ba5-b282-4999318be89c",
   "metadata": {},
   "outputs": [],
   "source": [
    "tensors_init()"
   ]
  },
  {
   "cell_type": "code",
   "execution_count": 39,
   "id": "7928f0c0-a9cd-492e-ac6a-a6d12fcb4db6",
   "metadata": {},
   "outputs": [],
   "source": [
    "row_id = 0"
   ]
  },
  {
   "cell_type": "code",
   "execution_count": 40,
   "id": "bcf1883f-ce09-4a77-8407-de1ca6ddd157",
   "metadata": {},
   "outputs": [],
   "source": [
    "tensors_list, up_bdy_list, down_bdy_list = tensors_list_prepare(grids, row_id)"
   ]
  },
  {
   "cell_type": "code",
   "execution_count": 41,
   "id": "72d8e81c-43e0-4b60-9b4b-8943521f4e76",
   "metadata": {},
   "outputs": [],
   "source": [
    "tensors_stack, grids, z, _, _ = chain_one_row(grids, row_id)"
   ]
  },
  {
   "cell_type": "code",
   "execution_count": 42,
   "id": "e7c45d62-2737-4642-9e02-a1332c6a947c",
   "metadata": {},
   "outputs": [
    {
     "name": "stdout",
     "output_type": "stream",
     "text": [
      "tensor(20.9706, dtype=torch.float64)\n",
      "tensor(11.1430, dtype=torch.float64)\n",
      "tensor(2.8284, dtype=torch.float64)\n"
     ]
    },
    {
     "data": {
      "text/plain": [
       "array([[ 1,  1,  1,  1],\n",
       "       [-1, -1,  1,  1],\n",
       "       [ 1,  1,  1,  1],\n",
       "       [-1,  1,  1, -1]], dtype=int8)"
      ]
     },
     "execution_count": 42,
     "metadata": {},
     "output_type": "execute_result"
    }
   ],
   "source": [
    "backtrack(grids, 0, row_id, tensors_stack, \n",
    "          up_bdy_list, down_bdy_list)"
   ]
  },
  {
   "cell_type": "code",
   "execution_count": 43,
   "id": "0834a010-b44f-46c4-b43c-ced4b0f02ea7",
   "metadata": {},
   "outputs": [],
   "source": [
    "id_start = 1\n",
    "id_end = dims[1]\n",
    "z_list = []\n",
    "for i in range(id_start+1, id_end):\n",
    "    _, z = chain_message_passing(grids, row_id, id_start, i)\n",
    "    z_list.append(z)"
   ]
  },
  {
   "cell_type": "code",
   "execution_count": 44,
   "id": "691f929c-8b9a-4226-b8d7-020a736b4d56",
   "metadata": {},
   "outputs": [
    {
     "data": {
      "text/plain": [
       "[11.143003419832993, 20.97056336090631]"
      ]
     },
     "execution_count": 44,
     "metadata": {},
     "output_type": "execute_result"
    }
   ],
   "source": [
    "z_list"
   ]
  },
  {
   "cell_type": "markdown",
   "id": "947f72cd-b9b0-4a56-8962-9b546c575b69",
   "metadata": {},
   "source": [
    "---------------------------\n",
    "### Size = 4"
   ]
  },
  {
   "cell_type": "code",
   "execution_count": 47,
   "id": "e89d7b9c-c2ef-4b3a-a013-a19430dcd23c",
   "metadata": {},
   "outputs": [],
   "source": [
    "dims_init = (4, 4)\n",
    "beta_init, j_init, h_init = np.log(1 + np.sqrt(2)) / 2, 1, 0 \n",
    "#beta_init, j_init, h_init = 10, 1, 0 \n",
    "parameters_init(dims_init, beta_init, j_init, h_init)"
   ]
  },
  {
   "cell_type": "code",
   "execution_count": 48,
   "id": "7c86ceca-6f50-4602-85e9-46717f651b91",
   "metadata": {},
   "outputs": [],
   "source": [
    "tensors_init()"
   ]
  },
  {
   "cell_type": "code",
   "execution_count": 49,
   "id": "152c4402-a20d-4dc0-ae6a-233693e44ca7",
   "metadata": {},
   "outputs": [
    {
     "data": {
      "image/png": "[encoded data removed]",
      "text/plain": [
       "<Figure size 720x720 with 1 Axes>"
      ]
     },
     "metadata": {
      "needs_background": "light"
     },
     "output_type": "display_data"
    }
   ],
   "source": [
    "spin_viz()"
   ]
  },
  {
   "cell_type": "code",
   "execution_count": 50,
   "id": "a2972c29-529f-481b-b608-fd3a8bb62447",
   "metadata": {},
   "outputs": [
    {
     "data": {
      "application/vnd.jupyter.widget-view+json": {
       "model_id": "7503060777c34a9d84b9e821efdb759d",
       "version_major": 2,
       "version_minor": 0
      },
      "text/plain": [
       "  0%|          | 0/10000 [00:00<?, ?it/s]"
      ]
     },
     "metadata": {},
     "output_type": "display_data"
    },
    {
     "name": "stdout",
     "output_type": "stream",
     "text": [
      "Time used for 1E5 steps is: 227.69837927818298.\n"
     ]
    }
   ],
   "source": [
    "### Burning-in stage\n",
    "time_start = time.time()\n",
    "num_steps = 10000\n",
    "grids, energy_history, m_history = chain_evolution(grids, num_steps)\n",
    "time_end = time.time()\n",
    "print(f\"Time used for 1E5 steps is: {time_end-time_start}.\")"
   ]
  },
  {
   "cell_type": "code",
   "execution_count": 52,
   "id": "e2f2337c-8441-4888-996f-30656b9a0575",
   "metadata": {},
   "outputs": [
    {
     "data": {
      "text/plain": [
       "0.84495"
      ]
     },
     "execution_count": 52,
     "metadata": {},
     "output_type": "execute_result"
    }
   ],
   "source": [
    "np.mean(np.abs(np.array(m_history)))"
   ]
  },
  {
   "cell_type": "code",
   "execution_count": 47,
   "id": "0ea745ad-46c7-4e3b-a837-fe9016e33ed5",
   "metadata": {},
   "outputs": [
    {
     "data": {
      "application/vnd.jupyter.widget-view+json": {
       "model_id": "5a804fb1f14c4665b642040882fc7204",
       "version_major": 2,
       "version_minor": 0
      },
      "text/plain": [
       "  0%|          | 0/100000 [00:00<?, ?it/s]"
      ]
     },
     "metadata": {},
     "output_type": "display_data"
    },
    {
     "name": "stdout",
     "output_type": "stream",
     "text": [
      "Time used for 1E5 steps is: 553.4767985343933.\n"
     ]
    }
   ],
   "source": [
    "### Sampling stage\n",
    "time_start = time.time()\n",
    "num_steps = 100000\n",
    "grids, energy_history, m_history = chain_evolution(grids, num_steps)\n",
    "time_end = time.time()\n",
    "print(f\"Time used for 1E5 steps is: {time_end-time_start}.\")"
   ]
  },
  {
   "cell_type": "code",
   "execution_count": 34,
   "id": "861c5a91-e103-4916-9da5-a057ec699f1b",
   "metadata": {},
   "outputs": [
    {
     "data": {
      "image/png": "[encoded data removed]",
      "text/plain": [
       "<Figure size 720x720 with 1 Axes>"
      ]
     },
     "metadata": {
      "needs_background": "light"
     },
     "output_type": "display_data"
    }
   ],
   "source": [
    "spin_viz()"
   ]
  },
  {
   "cell_type": "code",
   "execution_count": 96,
   "id": "9d8a556f-3d8d-465e-bac3-030af607b746",
   "metadata": {},
   "outputs": [
    {
     "data": {
      "text/plain": [
       "[<matplotlib.lines.Line2D at 0x7fd995d814e0>]"
      ]
     },
     "execution_count": 96,
     "metadata": {},
     "output_type": "execute_result"
    },
    {
     "data": {
      "image/png": "[encoded data removed]",
      "text/plain": [
       "<Figure size 432x288 with 1 Axes>"
      ]
     },
     "metadata": {
      "needs_background": "light"
     },
     "output_type": "display_data"
    }
   ],
   "source": [
    "plt.plot(energy_history)"
   ]
  },
  {
   "cell_type": "code",
   "execution_count": 97,
   "id": "0001cfa0-386c-48b7-a02a-444ddd550dfd",
   "metadata": {},
   "outputs": [
    {
     "data": {
      "text/plain": [
       "[<matplotlib.lines.Line2D at 0x7fd995f38fa0>]"
      ]
     },
     "execution_count": 97,
     "metadata": {},
     "output_type": "execute_result"
    },
    {
     "data": {
      "image/png": "[encoded data removed]",
      "text/plain": [
       "<Figure size 432x288 with 1 Axes>"
      ]
     },
     "metadata": {
      "needs_background": "light"
     },
     "output_type": "display_data"
    }
   ],
   "source": [
    "plt.plot(m_history)"
   ]
  },
  {
   "cell_type": "code",
   "execution_count": 98,
   "id": "de7bc661-f4af-451f-bc26-f8ddc2647409",
   "metadata": {},
   "outputs": [
    {
     "name": "stdout",
     "output_type": "stream",
     "text": [
      "The magnitization is: 0.84354125.\n"
     ]
    }
   ],
   "source": [
    "m_abs_mean = np.mean(np.abs(m_history))\n",
    "print(f\"The magnitization is: {m_abs_mean}.\")"
   ]
  },
  {
   "cell_type": "markdown",
   "id": "ff9193b1-8d0f-4c7a-90bf-89013cbaf6fe",
   "metadata": {},
   "source": [
    "------\n",
    "#### Size = 8"
   ]
  },
  {
   "cell_type": "code",
   "execution_count": 25,
   "id": "b861349c-d6cd-4096-8eaa-8affa1c4b8d7",
   "metadata": {},
   "outputs": [],
   "source": [
    "dims_init = (8, 8)\n",
    "beta_init, j_init, h_init = np.log(1 + np.sqrt(2)) / 2, 1, 0 \n",
    "#beta_init, j_init, h_init = 0.01, 1, 0 \n",
    "parameters_init(dims_init, beta_init, j_init, h_init)"
   ]
  },
  {
   "cell_type": "code",
   "execution_count": 26,
   "id": "94253182-106b-47e4-b886-9320499b5dac",
   "metadata": {},
   "outputs": [],
   "source": [
    "tensors_init()"
   ]
  },
  {
   "cell_type": "code",
   "execution_count": 27,
   "id": "e1507509-8df8-41c2-bcab-8478244b0d2f",
   "metadata": {},
   "outputs": [
    {
     "data": {
      "application/vnd.jupyter.widget-view+json": {
       "model_id": "b51b647d6aba4621ae8463da1547286e",
       "version_major": 2,
       "version_minor": 0
      },
      "text/plain": [
       "  0%|          | 0/100000 [00:00<?, ?it/s]"
      ]
     },
     "metadata": {},
     "output_type": "display_data"
    },
    {
     "name": "stdout",
     "output_type": "stream",
     "text": [
      "Time used for 1E5 steps is: 2905.0478224754333.\n"
     ]
    }
   ],
   "source": [
    "### Burning-in stage\n",
    "time_start = time.time()\n",
    "num_steps = 100000\n",
    "grids, energy_history, m_history = chain_evolution(grids, num_steps)\n",
    "time_end = time.time()\n",
    "print(f\"Time used for 1E5 steps is: {time_end-time_start}.\")"
   ]
  },
  {
   "cell_type": "code",
   "execution_count": 28,
   "id": "fbae2d6c-72c1-4d21-98c3-ff9853f06702",
   "metadata": {},
   "outputs": [],
   "source": [
    "m_abs_mean = np.mean(np.abs(m_history))"
   ]
  },
  {
   "cell_type": "code",
   "execution_count": 29,
   "id": "9202a77d-486c-42cd-bcd3-7711fc3fe27a",
   "metadata": {},
   "outputs": [
    {
     "name": "stdout",
     "output_type": "stream",
     "text": [
      "The magnitization is: 0.7780775.\n"
     ]
    }
   ],
   "source": [
    "m_abs_mean = np.mean(np.abs(m_history))\n",
    "print(f\"The magnitization is: {m_abs_mean}.\")"
   ]
  },
  {
   "cell_type": "markdown",
   "id": "a85ee4eb-261a-4ca8-b344-471cb3620cdb",
   "metadata": {},
   "source": [
    "-------\n",
    "### Size = 16"
   ]
  },
  {
   "cell_type": "code",
   "execution_count": 30,
   "id": "7e3a0619-fcd4-4325-969b-51d777ae03f3",
   "metadata": {},
   "outputs": [],
   "source": [
    "dims_init = (16, 16)\n",
    "beta_init, j_init, h_init = np.log(1 + np.sqrt(2)) / 2, 1, 0 \n",
    "#beta_init, j_init, h_init = 0.01, 1, 0 \n",
    "parameters_init(dims_init, beta_init, j_init, h_init)"
   ]
  },
  {
   "cell_type": "code",
   "execution_count": 31,
   "id": "d6b1368e-cb0d-4593-838a-0d7472e336ca",
   "metadata": {},
   "outputs": [],
   "source": [
    "tensors_init()"
   ]
  },
  {
   "cell_type": "code",
   "execution_count": 32,
   "id": "f2e5e31d-c889-4396-98bc-a6ba44096b9e",
   "metadata": {},
   "outputs": [
    {
     "data": {
      "image/png": "[encoded data removed]",
      "text/plain": [
       "<Figure size 720x720 with 1 Axes>"
      ]
     },
     "metadata": {
      "needs_background": "light"
     },
     "output_type": "display_data"
    }
   ],
   "source": [
    "spin_viz()"
   ]
  },
  {
   "cell_type": "code",
   "execution_count": 35,
   "id": "48e5a044-1566-47b9-b822-3f2ce99b34b1",
   "metadata": {},
   "outputs": [
    {
     "data": {
      "application/vnd.jupyter.widget-view+json": {
       "model_id": "f930078ea30045fb8d4cd49142058539",
       "version_major": 2,
       "version_minor": 0
      },
      "text/plain": [
       "  0%|          | 0/10000 [00:00<?, ?it/s]"
      ]
     },
     "metadata": {},
     "output_type": "display_data"
    },
    {
     "name": "stdout",
     "output_type": "stream",
     "text": [
      "Time used for 1E5 steps is: 1236.3663046360016.\n"
     ]
    }
   ],
   "source": [
    "### Burning-in stage\n",
    "time_start = time.time()\n",
    "num_steps = 10000\n",
    "grids, energy_history, m_history = chain_evolution(grids, num_steps)\n",
    "time_end = time.time()\n",
    "print(f\"Time used for 1E4 steps is: {time_end-time_start}.\")"
   ]
  },
  {
   "cell_type": "code",
   "execution_count": 37,
   "id": "cf0deae6-719e-4ff8-b6a4-0ce853294f3c",
   "metadata": {},
   "outputs": [
    {
     "data": {
      "application/vnd.jupyter.widget-view+json": {
       "model_id": "5d9220a47cd843c6a6be171fa84bf7e4",
       "version_major": 2,
       "version_minor": 0
      },
      "text/plain": [
       "  0%|          | 0/10000 [00:00<?, ?it/s]"
      ]
     },
     "metadata": {},
     "output_type": "display_data"
    },
    {
     "name": "stdout",
     "output_type": "stream",
     "text": [
      "Time used for 1E5 steps is: 1165.0116691589355.\n"
     ]
    }
   ],
   "source": [
    "### Burning-in stage\n",
    "time_start = time.time()\n",
    "num_steps = 10000\n",
    "grids, energy_history, m_history = chain_evolution(grids, num_steps)\n",
    "time_end = time.time()\n",
    "print(f\"Time used for 1E4 steps is: {time_end-time_start}.\")"
   ]
  },
  {
   "cell_type": "code",
   "execution_count": 38,
   "id": "4134c5bc-2a99-44ab-83bc-ba20f5b05148",
   "metadata": {},
   "outputs": [],
   "source": [
    "m_abs_mean = np.mean(np.abs(m_history))"
   ]
  },
  {
   "cell_type": "code",
   "execution_count": 39,
   "id": "e9be93d5-b0ed-4659-8e39-5ddc7790d946",
   "metadata": {},
   "outputs": [
    {
     "name": "stdout",
     "output_type": "stream",
     "text": [
      "The magnitization is: 0.70499609375.\n"
     ]
    }
   ],
   "source": [
    "m_abs_mean = np.mean(np.abs(m_history))\n",
    "print(f\"The magnitization is: {m_abs_mean}.\")"
   ]
  },
  {
   "cell_type": "markdown",
   "id": "84d982bf-8e17-4448-9dd5-a43995b8ab26",
   "metadata": {},
   "source": [
    "-----\n",
    "### Size = 32"
   ]
  },
  {
   "cell_type": "code",
   "execution_count": 43,
   "id": "03bf18ca-b623-4deb-ab42-c7e6ed310118",
   "metadata": {},
   "outputs": [],
   "source": [
    "dims_init = (32, 32)\n",
    "beta_init, j_init, h_init = np.log(1 + np.sqrt(2)) / 2, 1, 0 \n",
    "#beta_init, j_init, h_init = 0.01, 1, 0 \n",
    "parameters_init(dims_init, beta_init, j_init, h_init)"
   ]
  },
  {
   "cell_type": "code",
   "execution_count": 44,
   "id": "f1a654ac-17df-4b38-ac99-aaeeff2e7cda",
   "metadata": {},
   "outputs": [],
   "source": [
    "tensors_init()"
   ]
  },
  {
   "cell_type": "code",
   "execution_count": 45,
   "id": "599e7487-042d-470a-a8cf-ea83db3def27",
   "metadata": {},
   "outputs": [
    {
     "data": {
      "image/png": "[encoded data removed]",
      "text/plain": [
       "<Figure size 720x720 with 1 Axes>"
      ]
     },
     "metadata": {
      "needs_background": "light"
     },
     "output_type": "display_data"
    }
   ],
   "source": [
    "spin_viz()"
   ]
  },
  {
   "cell_type": "code",
   "execution_count": 46,
   "id": "b6d210d7-e8aa-4551-aefb-c652d91738ba",
   "metadata": {},
   "outputs": [
    {
     "data": {
      "application/vnd.jupyter.widget-view+json": {
       "model_id": "91b974a277344343adb1280336104e5d",
       "version_major": 2,
       "version_minor": 0
      },
      "text/plain": [
       "  0%|          | 0/10000 [00:00<?, ?it/s]"
      ]
     },
     "metadata": {},
     "output_type": "display_data"
    },
    {
     "name": "stdout",
     "output_type": "stream",
     "text": [
      "Time used for 1E5 steps is: 4639.791697025299.\n"
     ]
    }
   ],
   "source": [
    "### Burning-in stage\n",
    "time_start = time.time()\n",
    "num_steps = 10000\n",
    "grids, energy_history, m_history = chain_evolution(grids, num_steps)\n",
    "time_end = time.time()\n",
    "print(f\"Time used for 1E5 steps is: {time_end-time_start}.\")"
   ]
  },
  {
   "cell_type": "code",
   "execution_count": 47,
   "id": "be9875d8-f8d0-4c85-adc7-fc40d662fc2e",
   "metadata": {},
   "outputs": [
    {
     "data": {
      "application/vnd.jupyter.widget-view+json": {
       "model_id": "c84a85e2488f4302b9d4e741ba5c6b48",
       "version_major": 2,
       "version_minor": 0
      },
      "text/plain": [
       "  0%|          | 0/10000 [00:00<?, ?it/s]"
      ]
     },
     "metadata": {},
     "output_type": "display_data"
    },
    {
     "name": "stdout",
     "output_type": "stream",
     "text": [
      "Time used for 1E5 steps is: 4645.274792432785.\n"
     ]
    }
   ],
   "source": [
    "### Sampling stage\n",
    "time_start = time.time()\n",
    "num_steps = 10000\n",
    "grids, energy_history, m_history = chain_evolution(grids, num_steps)\n",
    "time_end = time.time()\n",
    "print(f\"Time used for 1E5 steps is: {time_end-time_start}.\")"
   ]
  },
  {
   "cell_type": "code",
   "execution_count": 48,
   "id": "ef7178d1-a281-4024-a2f7-8d276a0dcc0a",
   "metadata": {},
   "outputs": [],
   "source": [
    "m_abs_mean = np.mean(np.abs(m_history))"
   ]
  },
  {
   "cell_type": "code",
   "execution_count": 49,
   "id": "01311ccc-1631-41a3-9f38-f17692dac9dc",
   "metadata": {},
   "outputs": [
    {
     "name": "stdout",
     "output_type": "stream",
     "text": [
      "The magnitization is: 0.643087109375.\n"
     ]
    }
   ],
   "source": [
    "m_abs_mean = np.mean(np.abs(m_history))\n",
    "print(f\"The magnitization is: {m_abs_mean}.\")"
   ]
  },
  {
   "cell_type": "markdown",
   "id": "e7ca91ed-08f6-4a41-ab6a-7db6402e1154",
   "metadata": {},
   "source": [
    "----------\n",
    "### Summary"
   ]
  },
  {
   "cell_type": "code",
   "execution_count": 50,
   "id": "aa6e31c8-e200-46dd-a9e3-7674d9133245",
   "metadata": {},
   "outputs": [],
   "source": [
    "size_array = np.array([4, 8, 16, 32])\n",
    "m_abs_array = np.array([0.84354125, 0.7780775, 0.70499609375, 0.643087109375])"
   ]
  },
  {
   "cell_type": "code",
   "execution_count": 51,
   "id": "74d62bbf-2917-423b-ac60-e5c9264f2b2f",
   "metadata": {},
   "outputs": [
    {
     "data": {
      "text/plain": [
       "Text(0.5, 1.0, 'Size effect on 2D Ising Square Lattice (J > 0)')"
      ]
     },
     "execution_count": 51,
     "metadata": {},
     "output_type": "execute_result"
    },
    {
     "data": {
      "image/png": "[encoded data removed]",
      "text/plain": [
       "<Figure size 432x288 with 1 Axes>"
      ]
     },
     "metadata": {
      "needs_background": "light"
     },
     "output_type": "display_data"
    }
   ],
   "source": [
    "#plt.plot(size_array, coef_autocorr*size_array + bias, linewidth=3)\n",
    "plt.plot(np.log(size_array), np.log(m_abs_array), '-o', markersize=9)\n",
    "plt.xlabel(\"Size\", fontsize=15)\n",
    "plt.ylabel(\"|M|\", fontsize=15)\n",
    "plt.title(\"Size effect on 2D Ising Square Lattice (J > 0)\")"
   ]
  },
  {
   "cell_type": "code",
   "execution_count": null,
   "id": "d69ce83b-091e-4c47-9e40-e05e14ddf249",
   "metadata": {},
   "outputs": [],
   "source": []
  }
 ],
 "metadata": {
  "kernelspec": {
   "display_name": "Python 3 (ipykernel)",
   "language": "python",
   "name": "python3"
  },
  "language_info": {
   "codemirror_mode": {
    "name": "ipython",
    "version": 3
   },
   "file_extension": ".py",
   "mimetype": "text/x-python",
   "name": "python",
   "nbconvert_exporter": "python",
   "pygments_lexer": "ipython3",
   "version": "3.9.10"
  }
 },
 "nbformat": 4,
 "nbformat_minor": 5
}
