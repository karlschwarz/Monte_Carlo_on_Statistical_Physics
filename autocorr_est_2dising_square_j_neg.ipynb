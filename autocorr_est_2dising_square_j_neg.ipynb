{
 "cells": [
  {
   "cell_type": "markdown",
   "id": "5d35b836-5328-4744-9b2f-8c6aebbcfe4c",
   "metadata": {},
   "source": [
    "# Estimation of Autocorrelation Function \n",
    "\n",
    "## (2d Ising model on Square Lattice with J > 0)"
   ]
  },
  {
   "cell_type": "code",
   "execution_count": 1,
   "id": "8ae5030b-dde4-4917-ad46-78433133e95c",
   "metadata": {},
   "outputs": [],
   "source": [
    "import numpy as np\n",
    "import numba as nb"
   ]
  },
  {
   "cell_type": "code",
   "execution_count": 2,
   "id": "b3d57783-ab70-476f-8783-78a004130bf1",
   "metadata": {},
   "outputs": [],
   "source": [
    "import csv\n",
    "import pickle\n",
    "import time\n",
    "from tqdm.auto import trange"
   ]
  },
  {
   "cell_type": "code",
   "execution_count": 4,
   "id": "9e91ea08-44ab-4791-bd72-994434ca7a70",
   "metadata": {},
   "outputs": [],
   "source": [
    "import matplotlib.pyplot as plt"
   ]
  },
  {
   "cell_type": "code",
   "execution_count": 5,
   "id": "3a347563-5814-4982-abaa-d418339f059e",
   "metadata": {},
   "outputs": [],
   "source": [
    "types_corr_k_steps_est = nb.types.Tuple((nb.float64, nb.float64, nb.float64[:]))(nb.float32[:], nb.int64)\n",
    "@nb.cfunc(types_corr_k_steps_est, parallel=True)\n",
    "def corr_k_step_est_float(sample_array, k_steps_max):\n",
    "    \"\"\"\n",
    "    Args:\n",
    "        mc_list: (np.array)\n",
    "        k_steps: (int)\n",
    "    Return:\n",
    "        corr_coef: (float)\n",
    "    \"\"\"\n",
    "    sample_len = len(sample_array)\n",
    "    num_i_steps = sample_len - k_steps_max\n",
    "    q_mean = np.mean(sample_array[:num_i_steps])\n",
    "    q_square_mean = np.mean(np.square(sample_array[:num_i_steps]))\n",
    "    qqk_sum = np.zeros(k_steps_max)\n",
    "    for i in range(num_i_steps):\n",
    "        samples_k_sub = sample_array[i:i+k_steps_max+1]\n",
    "        for j in range(1, k_steps_max+1):\n",
    "            qqk_sum[j-1] += (samples_k_sub[0] * samples_k_sub[j])\n",
    "    qqk_array = qqk_sum / num_i_steps\n",
    "    return (q_mean, q_square_mean, qqk_array)"
   ]
  },
  {
   "cell_type": "code",
   "execution_count": 6,
   "id": "7841599f-0c6e-44d3-b8af-36c9ff06ecca",
   "metadata": {},
   "outputs": [],
   "source": [
    "types_corr_k_steps_est = nb.types.Tuple((nb.float64, nb.float64, nb.float64[:]))(nb.int32[:], nb.int64)\n",
    "@nb.cfunc(types_corr_k_steps_est, parallel=True)\n",
    "def corr_k_step_est_int(sample_array, k_steps_max):\n",
    "    \"\"\"\n",
    "    Args:\n",
    "        mc_list: (np.array)\n",
    "        k_steps: (int)\n",
    "    Return:\n",
    "        corr_coef: (float)\n",
    "    \"\"\"\n",
    "    sample_len = len(sample_array)\n",
    "    num_i_steps = sample_len - k_steps_max\n",
    "    q_mean = np.mean(sample_array[:num_i_steps])\n",
    "    q_square_mean = np.mean(np.square(sample_array[:num_i_steps]))\n",
    "    qqk_sum = np.zeros(k_steps_max)\n",
    "    for i in range(num_i_steps):\n",
    "        samples_k_sub = sample_array[i:i+k_steps_max+1]\n",
    "        for j in range(1, k_steps_max+1):\n",
    "            qqk_sum[j-1] += (samples_k_sub[0] * samples_k_sub[j])\n",
    "    qqk_array = qqk_sum / num_i_steps\n",
    "    return (q_mean, q_square_mean, qqk_array)"
   ]
  },
  {
   "cell_type": "code",
   "execution_count": 7,
   "id": "99117e3e-4d2c-4e04-9edb-db91ef96ad78",
   "metadata": {},
   "outputs": [],
   "source": [
    "@nb.njit(parallel=True)\n",
    "def autocorr_mc_mean_est(mc_array, k_steps_max):\n",
    "    m_times = mc_array.shape[0]\n",
    "    qqk_mean_mc, qqk_mean_std_mc = np.zeros(k_steps_max), np.zeros(k_steps_max)\n",
    "    q_mean_array, q_square_mean_array, qqk_double_array = np.zeros(m_times), np.zeros(m_times), np.zeros((m_times, k_steps_max))\n",
    "    for i in range(m_times):\n",
    "        q_mean, q_square_mean, qqk_array = corr_k_step_est_float(mc_array[i], k_steps_max)\n",
    "        q_mean_array[i] = q_mean\n",
    "        q_square_mean_array[i] = q_square_mean\n",
    "        qqk_double_array[i] = qqk_array\n",
    "    for i in range(k_steps_max):\n",
    "        qqk_mean_mc_i = np.mean(qqk_double_array[:, i])\n",
    "        qqk_mean_std_mc_i = np.std(qqk_double_array[:, i])\n",
    "        qqk_mean_mc[i] = qqk_mean_mc_i\n",
    "        qqk_mean_std_mc[i] = qqk_mean_std_mc_i / np.sqrt(m_times)\n",
    "    ####################################################\n",
    "    q_mean_mc = np.mean(q_mean_array)\n",
    "    q_mean_std_mc = np.std(q_mean_array) / np.sqrt(m_times)\n",
    "    q_square_mean_mc = np.mean(q_square_mean_array)\n",
    "    q_square_mean_std_mc = np.std(q_square_mean_array) / np.sqrt(m_times)\n",
    "    ####################################################\n",
    "    q_mean = (q_mean_mc, q_mean_std_mc)\n",
    "    q_square_mean = (q_square_mean_mc, q_square_mean_std_mc)\n",
    "    qqk_mean = (qqk_mean_mc, qqk_mean_std_mc)\n",
    "    ####################################################\n",
    "    autocorr_mc = (qqk_mean_mc - q_mean_mc ** 2) / (q_square_mean_mc - q_mean_mc ** 2) \n",
    "    return autocorr_mc, q_mean, q_square_mean, qqk_mean"
   ]
  },
  {
   "cell_type": "code",
   "execution_count": 8,
   "id": "13791c7d-5533-4d4e-be5b-f8a29428d471",
   "metadata": {},
   "outputs": [],
   "source": [
    "@nb.njit(parallel=True)\n",
    "def autocorr_mc_std_est(mc_array, k_steps_max):\n",
    "    m_times = mc_array.shape[0]\n",
    "    qqk_mean_mc, qqk_mean_std_mc = np.zeros(k_steps_max), np.zeros(k_steps_max)\n",
    "    q_mean_array, q_square_mean_array, qqk_double_array = np.zeros((m_times, 1)), np.zeros((m_times, 1)), np.zeros((m_times, k_steps_max))\n",
    "    autocorr_mc_mean, autocorr_mc_std = np.zeros(k_steps_max), np.zeros(k_steps_max)\n",
    "    for i in range(m_times):\n",
    "        q_mean, q_square_mean, qqk_array = corr_k_step_est_float(mc_array[i], k_steps_max)\n",
    "        q_mean_array[i] = q_mean\n",
    "        q_square_mean_array[i] = q_square_mean\n",
    "        qqk_double_array[i] = qqk_array        \n",
    "    ####################################################\n",
    "    autocorr_mc_array = (qqk_double_array - q_mean_array ** 2) / (q_square_mean_array - q_mean_array ** 2)\n",
    "    q_mean_mc = np.mean(q_mean_array)\n",
    "    q_square_mean_mc = np.mean(q_square_mean_array)\n",
    "    qqk_mc = np.mean(qqk_double_array)\n",
    "    for j in range(k_steps_max):\n",
    "        autocorr_mc_mean[j] = np.mean(autocorr_mc_array[:, j])\n",
    "        autocorr_mc_std[j] = np.std(autocorr_mc_array[:, j]) / np.sqrt(m_times)\n",
    "    return autocorr_mc_mean, autocorr_mc_std"
   ]
  },
  {
   "cell_type": "markdown",
   "id": "d2731367-75ad-4785-abd2-4d349e098e4a",
   "metadata": {},
   "source": [
    "-----------\n",
    "### 4 x 4 Square 2D Ising Model"
   ]
  },
  {
   "cell_type": "code",
   "execution_count": 9,
   "id": "bdbf0ef1-0e8e-4a26-8da9-9e4350215fa3",
   "metadata": {},
   "outputs": [],
   "source": [
    "with open('./data_2d_ising/m_ising2d_square_size_4', 'rb') as file:\n",
    "    m_2dising_4_j_pos = pickle.load(file)"
   ]
  },
  {
   "cell_type": "code",
   "execution_count": 10,
   "id": "e500b04e-5641-4f12-8dc2-b6c8b9ffe24b",
   "metadata": {},
   "outputs": [],
   "source": [
    "m_abs_2dising_4_j_pos = np.abs(m_2dising_4_j_pos)"
   ]
  },
  {
   "cell_type": "code",
   "execution_count": 11,
   "id": "f3691318-b6b6-4d06-94ea-f8a644b768d1",
   "metadata": {},
   "outputs": [],
   "source": [
    "m_abs_2dising_4_j_pos = m_abs_2dising_4_j_pos.reshape((10000, 2500))"
   ]
  },
  {
   "cell_type": "code",
   "execution_count": 12,
   "id": "3751ef55-7bd5-4a4e-bcd2-99809de90888",
   "metadata": {},
   "outputs": [
    {
     "name": "stdout",
     "output_type": "stream",
     "text": [
      "227.38636445999146\n"
     ]
    }
   ],
   "source": [
    "time_start = time.time()\n",
    "autocorr_m_abs_2dising_4_j_pos_mean, _, _, _ = autocorr_mc_mean_est(m_abs_2dising_4_j_pos, 250)\n",
    "_, autocorr_m_abs_2dising_4_j_pos_std = autocorr_mc_std_est(m_abs_2dising_4_j_pos, 250)\n",
    "time_end = time.time()\n",
    "print(time_end-time_start)"
   ]
  },
  {
   "cell_type": "code",
   "execution_count": 13,
   "id": "dbfd0a18-4cd8-4780-b66f-6cdbc272ba35",
   "metadata": {},
   "outputs": [],
   "source": [
    "autocorr_m_abs_2dising_4_j_pos_mean = np.insert(autocorr_m_abs_2dising_4_j_pos_mean, 0, 1)"
   ]
  },
  {
   "cell_type": "code",
   "execution_count": 14,
   "id": "62f396d8-2c41-428f-8a6d-7ac8a04d8595",
   "metadata": {},
   "outputs": [],
   "source": [
    "autocorr_m_abs_2dising_4_j_pos_std = np.insert(autocorr_m_abs_2dising_4_j_pos_std, 0, 0)"
   ]
  },
  {
   "cell_type": "code",
   "execution_count": 49,
   "id": "1bd9e87f-5202-4fe4-9e59-5224d889f7ac",
   "metadata": {},
   "outputs": [
    {
     "data": {
      "text/plain": [
       "<matplotlib.legend.Legend at 0x7f039c90b1c0>"
      ]
     },
     "execution_count": 49,
     "metadata": {},
     "output_type": "execute_result"
    },
    {
     "data": {
      "image/png": "[encoded data removed]",
      "text/plain": [
       "<Figure size 432x288 with 1 Axes>"
      ]
     },
     "metadata": {
      "needs_background": "light"
     },
     "output_type": "display_data"
    }
   ],
   "source": [
    "plt.errorbar(x=range(251), y=autocorr_m_abs_2dising_4_j_pos_mean, yerr=autocorr_m_abs_2dising_4_j_pos_std, \n",
    "             fmt='-o', capsize=3, elinewidth=2, label='size=4')\n",
    "plt.yscale(\"log\")\n",
    "plt.ylim(10**-3)\n",
    "plt.xlabel(r'$\\tau$ [MC steps]', fontsize=15)\n",
    "plt.ylabel(r'$A_{|M|}$', fontsize=15)\n",
    "plt.title(\"2D Ising (Square, J>0, T=2.269) Metropolis\")\n",
    "plt.legend()"
   ]
  },
  {
   "cell_type": "code",
   "execution_count": 17,
   "id": "6712ee5b-754e-47b4-83e6-021962903c5d",
   "metadata": {},
   "outputs": [],
   "source": [
    "m_abs_2dising_4_j_pos_mean = np.mean(m_abs_2dising_4_j_pos)"
   ]
  },
  {
   "cell_type": "code",
   "execution_count": 18,
   "id": "be3b13b0-8ae5-4916-9f12-1ba5f4927b25",
   "metadata": {},
   "outputs": [
    {
     "name": "stdout",
     "output_type": "stream",
     "text": [
      "|m| of size 4 is: 0.844.\n"
     ]
    }
   ],
   "source": [
    "print(f\"|m| of size 4 is: {m_abs_2dising_4_j_pos_mean:.3f}.\")"
   ]
  },
  {
   "cell_type": "code",
   "execution_count": 58,
   "id": "04faae92-8624-4109-9460-3a40b8349f1f",
   "metadata": {},
   "outputs": [],
   "source": [
    "autocorr_time_size_4 = np.sum(autocorr_m_abs_2dising_4_j_pos_mean[:30]) - 1/2"
   ]
  },
  {
   "cell_type": "code",
   "execution_count": 59,
   "id": "528492f9-a60b-4e70-800d-ca3c56c60523",
   "metadata": {},
   "outputs": [
    {
     "name": "stdout",
     "output_type": "stream",
     "text": [
      "autocorr time of size 4 is: 2.919.\n"
     ]
    }
   ],
   "source": [
    "print(f\"autocorr time of size 4 is: {autocorr_time_size_4:.3f}.\")"
   ]
  },
  {
   "cell_type": "markdown",
   "id": "c9e3f8bd-3f66-4195-bd33-3ad9c48aa2d6",
   "metadata": {},
   "source": [
    "----\n",
    "### Size = 8"
   ]
  },
  {
   "cell_type": "code",
   "execution_count": 19,
   "id": "0e726f47-7c03-48a1-b13f-4f1c3f1b783e",
   "metadata": {},
   "outputs": [],
   "source": [
    "with open('./data_2d_ising/m_ising2d_square_size_8', 'rb') as file:\n",
    "    m_2dising_8_j_pos = pickle.load(file)"
   ]
  },
  {
   "cell_type": "code",
   "execution_count": 20,
   "id": "a1c64b3f-d9b3-4d35-99e7-715fe051e0db",
   "metadata": {},
   "outputs": [],
   "source": [
    "m_abs_2dising_8_j_pos = np.abs(m_2dising_8_j_pos)"
   ]
  },
  {
   "cell_type": "code",
   "execution_count": 21,
   "id": "f7176fed-5a99-4779-9052-0b1cdeeec9de",
   "metadata": {},
   "outputs": [],
   "source": [
    "m_abs_2dising_8_j_pos_mean = np.mean(m_abs_2dising_8_j_pos)"
   ]
  },
  {
   "cell_type": "code",
   "execution_count": 22,
   "id": "e642c4c3-f92f-41e6-920b-848736338521",
   "metadata": {},
   "outputs": [
    {
     "name": "stdout",
     "output_type": "stream",
     "text": [
      "|m| of size 8 is: 0.777.\n"
     ]
    }
   ],
   "source": [
    "print(f\"|m| of size 8 is: {m_abs_2dising_8_j_pos_mean:.3f}.\")"
   ]
  },
  {
   "cell_type": "code",
   "execution_count": 23,
   "id": "99b6fcbd-36f7-46a0-b088-4c168d92877f",
   "metadata": {},
   "outputs": [],
   "source": [
    "m_abs_2dising_8_j_pos = m_abs_2dising_8_j_pos.reshape((10000, 2500))"
   ]
  },
  {
   "cell_type": "code",
   "execution_count": 24,
   "id": "15e0d1a0-eb46-4aa2-a5b5-bc248b58cd35",
   "metadata": {},
   "outputs": [
    {
     "name": "stdout",
     "output_type": "stream",
     "text": [
      "166.1110646724701\n"
     ]
    }
   ],
   "source": [
    "time_start = time.time()\n",
    "autocorr_m_abs_2dising_8_j_pos_mean, _, _, _ = autocorr_mc_mean_est(m_abs_2dising_8_j_pos, 250)\n",
    "_, autocorr_m_abs_2dising_8_j_pos_std = autocorr_mc_std_est(m_abs_2dising_8_j_pos, 250)\n",
    "time_end = time.time()\n",
    "print(time_end-time_start)"
   ]
  },
  {
   "cell_type": "code",
   "execution_count": 26,
   "id": "e8fbade8-62db-441d-8cf0-5fa2d8639978",
   "metadata": {},
   "outputs": [],
   "source": [
    "autocorr_m_abs_2dising_8_j_pos_mean = np.insert(autocorr_m_abs_2dising_8_j_pos_mean, 0, 1)"
   ]
  },
  {
   "cell_type": "code",
   "execution_count": 27,
   "id": "6a8363df-0504-40fd-b1d1-3c7681847065",
   "metadata": {},
   "outputs": [],
   "source": [
    "autocorr_m_abs_2dising_8_j_pos_std = np.insert(autocorr_m_abs_2dising_8_j_pos_std, 0, 0)"
   ]
  },
  {
   "cell_type": "code",
   "execution_count": 30,
   "id": "e1254f92-1a22-47d9-94ed-87008168c1cf",
   "metadata": {},
   "outputs": [
    {
     "data": {
      "text/plain": [
       "<matplotlib.legend.Legend at 0x7f039c13b9d0>"
      ]
     },
     "execution_count": 30,
     "metadata": {},
     "output_type": "execute_result"
    },
    {
     "data": {
      "image/png": "[encoded data removed]",
      "text/plain": [
       "<Figure size 432x288 with 1 Axes>"
      ]
     },
     "metadata": {
      "needs_background": "light"
     },
     "output_type": "display_data"
    }
   ],
   "source": [
    "plt.errorbar(x=range(251), y=autocorr_m_abs_2dising_8_j_pos_mean, yerr=autocorr_m_abs_2dising_8_j_pos_std, \n",
    "             fmt='-o', capsize=3, elinewidth=2, label='size=8')\n",
    "plt.yscale(\"log\")\n",
    "plt.ylim(10**-3)\n",
    "plt.xlabel(r'$\\tau$ [MC steps]', fontsize=15)\n",
    "plt.ylabel(r'$A_{|M|}$', fontsize=15)\n",
    "plt.title(\"2D Ising (Square, J>0, T=2.269) Metropolis\")\n",
    "plt.legend()"
   ]
  },
  {
   "cell_type": "code",
   "execution_count": 62,
   "id": "4da0d90a-953a-401f-80d4-9340a739d475",
   "metadata": {},
   "outputs": [],
   "source": [
    "autocorr_time_size_8 = np.sum(autocorr_m_abs_2dising_8_j_pos_mean[:70]) - 1/2"
   ]
  },
  {
   "cell_type": "code",
   "execution_count": 63,
   "id": "2652fce4-ada5-41b8-b429-f5e6dda8c067",
   "metadata": {},
   "outputs": [
    {
     "name": "stdout",
     "output_type": "stream",
     "text": [
      "autocorr time of size 8 is: 9.715.\n"
     ]
    }
   ],
   "source": [
    "print(f\"autocorr time of size 8 is: {autocorr_time_size_8:.3f}.\")"
   ]
  },
  {
   "cell_type": "markdown",
   "id": "bbaca771-38f6-4238-ab13-8db5c5526ad0",
   "metadata": {},
   "source": [
    "-----------\n",
    "### Size = 16"
   ]
  },
  {
   "cell_type": "code",
   "execution_count": 31,
   "id": "eb682936-24f9-4e58-ae30-9876b46212f9",
   "metadata": {},
   "outputs": [],
   "source": [
    "with open('./data_2d_ising/m_ising2d_square_size_16', 'rb') as file:\n",
    "    m_2dising_16_j_pos = pickle.load(file)"
   ]
  },
  {
   "cell_type": "code",
   "execution_count": 32,
   "id": "c9fb0509-3a4e-4a63-88aa-f95620066570",
   "metadata": {},
   "outputs": [],
   "source": [
    "m_abs_2dising_16_j_pos = np.abs(m_2dising_16_j_pos)"
   ]
  },
  {
   "cell_type": "code",
   "execution_count": 33,
   "id": "a6ddc31a-b9f1-44a7-a9a4-5ae250ae1eda",
   "metadata": {},
   "outputs": [],
   "source": [
    "m_abs_2dising_16_j_pos_mean = np.mean(m_abs_2dising_16_j_pos)"
   ]
  },
  {
   "cell_type": "code",
   "execution_count": 34,
   "id": "56b3effd-ca52-4d54-af68-1aba38800654",
   "metadata": {},
   "outputs": [
    {
     "name": "stdout",
     "output_type": "stream",
     "text": [
      "|m| of size 16 is: 0.713.\n"
     ]
    }
   ],
   "source": [
    "print(f\"|m| of size 16 is: {m_abs_2dising_16_j_pos_mean:.3f}.\")"
   ]
  },
  {
   "cell_type": "code",
   "execution_count": 35,
   "id": "644b9c45-c59c-4647-af4a-860229e1b994",
   "metadata": {},
   "outputs": [],
   "source": [
    "m_abs_2dising_16_j_pos = m_abs_2dising_16_j_pos.reshape((10000, 2500))"
   ]
  },
  {
   "cell_type": "code",
   "execution_count": 36,
   "id": "aa9b9b6a-a68f-417c-ac93-2acca2d3a295",
   "metadata": {},
   "outputs": [
    {
     "name": "stdout",
     "output_type": "stream",
     "text": [
      "163.22756791114807\n"
     ]
    }
   ],
   "source": [
    "time_start = time.time()\n",
    "autocorr_m_abs_2dising_16_j_pos_mean, _, _, _ = autocorr_mc_mean_est(m_abs_2dising_16_j_pos, 250)\n",
    "_, autocorr_m_abs_2dising_16_j_pos_std = autocorr_mc_std_est(m_abs_2dising_16_j_pos, 250)\n",
    "time_end = time.time()\n",
    "print(time_end-time_start)"
   ]
  },
  {
   "cell_type": "code",
   "execution_count": 37,
   "id": "84e1dc4d-72d2-4664-bb73-66e0684919d8",
   "metadata": {},
   "outputs": [],
   "source": [
    "autocorr_m_abs_2dising_16_j_pos_mean = np.insert(autocorr_m_abs_2dising_16_j_pos_mean, 0, 1)"
   ]
  },
  {
   "cell_type": "code",
   "execution_count": 38,
   "id": "bdf610ba-fe55-4836-a37c-b85870c30281",
   "metadata": {},
   "outputs": [],
   "source": [
    "autocorr_m_abs_2dising_16_j_pos_std = np.insert(autocorr_m_abs_2dising_16_j_pos_std, 0, 0)"
   ]
  },
  {
   "cell_type": "code",
   "execution_count": 39,
   "id": "ceed3a7c-38c8-4307-a17b-ca2c7aa61e51",
   "metadata": {},
   "outputs": [
    {
     "data": {
      "text/plain": [
       "<matplotlib.legend.Legend at 0x7f039c479460>"
      ]
     },
     "execution_count": 39,
     "metadata": {},
     "output_type": "execute_result"
    },
    {
     "data": {
      "image/png": "[encoded data removed]",
      "text/plain": [
       "<Figure size 432x288 with 1 Axes>"
      ]
     },
     "metadata": {
      "needs_background": "light"
     },
     "output_type": "display_data"
    }
   ],
   "source": [
    "plt.errorbar(x=range(251), y=autocorr_m_abs_2dising_16_j_pos_mean, yerr=autocorr_m_abs_2dising_16_j_pos_std, \n",
    "             fmt='-o', capsize=3, elinewidth=2, label='size=16')\n",
    "plt.yscale(\"log\")\n",
    "plt.ylim(10**-3)\n",
    "plt.xlabel(r'$\\tau$ [MC steps]', fontsize=15)\n",
    "plt.ylabel(r'$A_{|M|}$', fontsize=15)\n",
    "plt.title(\"2D Ising (Square, J>0, T=2.269) Metropolis\")\n",
    "plt.legend()"
   ]
  },
  {
   "cell_type": "code",
   "execution_count": 64,
   "id": "dbdf3c88-f480-4bbc-85c7-7b3b07f901fe",
   "metadata": {},
   "outputs": [],
   "source": [
    "autocorr_time_size_16 = np.sum(autocorr_m_abs_2dising_16_j_pos_mean[:210]) - 1/2"
   ]
  },
  {
   "cell_type": "code",
   "execution_count": 65,
   "id": "e1f36a0a-978e-4493-80e8-bc4c9bea9ff0",
   "metadata": {},
   "outputs": [
    {
     "name": "stdout",
     "output_type": "stream",
     "text": [
      "autocorr time of size 16 is: 40.037.\n"
     ]
    }
   ],
   "source": [
    "print(f\"autocorr time of size 16 is: {autocorr_time_size_16:.3f}.\")"
   ]
  },
  {
   "cell_type": "markdown",
   "id": "f626947f-d89b-4535-a5d3-dd942a51123e",
   "metadata": {},
   "source": [
    "-----------\n",
    "### Size = 32"
   ]
  },
  {
   "cell_type": "code",
   "execution_count": 40,
   "id": "d182780d-eb24-45a9-ac70-fb24e1e2d7ef",
   "metadata": {},
   "outputs": [],
   "source": [
    "with open('./data_2d_ising/m_ising2d_square_size_32', 'rb') as file:\n",
    "    m_2dising_32_j_pos = pickle.load(file)"
   ]
  },
  {
   "cell_type": "code",
   "execution_count": 41,
   "id": "d6c51ac8-390b-49be-a0b5-e6ffcd99ad45",
   "metadata": {},
   "outputs": [],
   "source": [
    "m_abs_2dising_32_j_pos = np.abs(m_2dising_32_j_pos)"
   ]
  },
  {
   "cell_type": "code",
   "execution_count": 42,
   "id": "30de56d7-fb70-43b1-9ee9-ca2570fafb0e",
   "metadata": {},
   "outputs": [],
   "source": [
    "m_abs_2dising_32_j_pos_mean = np.mean(m_abs_2dising_32_j_pos)"
   ]
  },
  {
   "cell_type": "code",
   "execution_count": 43,
   "id": "cde57177-0aaa-47e8-aa22-65250db94ee4",
   "metadata": {},
   "outputs": [
    {
     "name": "stdout",
     "output_type": "stream",
     "text": [
      "|m| of size 32 is: 0.654.\n"
     ]
    }
   ],
   "source": [
    "print(f\"|m| of size 32 is: {m_abs_2dising_32_j_pos_mean:.3f}.\")"
   ]
  },
  {
   "cell_type": "code",
   "execution_count": 44,
   "id": "cd8f8700-3a76-4960-8970-0e0cd348a41d",
   "metadata": {},
   "outputs": [],
   "source": [
    "m_abs_2dising_32_j_pos = m_abs_2dising_32_j_pos.reshape((10000, 2500))"
   ]
  },
  {
   "cell_type": "code",
   "execution_count": 45,
   "id": "bf7a8624-1777-451b-8b6b-60097f18c241",
   "metadata": {},
   "outputs": [
    {
     "name": "stdout",
     "output_type": "stream",
     "text": [
      "196.88511085510254\n"
     ]
    }
   ],
   "source": [
    "time_start = time.time()\n",
    "autocorr_m_abs_2dising_32_j_pos_mean, _, _, _ = autocorr_mc_mean_est(m_abs_2dising_32_j_pos, 250)\n",
    "_, autocorr_m_abs_2dising_32_j_pos_std = autocorr_mc_std_est(m_abs_2dising_32_j_pos, 250)\n",
    "time_end = time.time()\n",
    "print(time_end-time_start)"
   ]
  },
  {
   "cell_type": "code",
   "execution_count": 46,
   "id": "27f15d3e-104d-4c26-aca8-524c092b4caf",
   "metadata": {},
   "outputs": [],
   "source": [
    "autocorr_m_abs_2dising_32_j_pos_mean = np.insert(autocorr_m_abs_2dising_32_j_pos_mean, 0, 1)"
   ]
  },
  {
   "cell_type": "code",
   "execution_count": 47,
   "id": "15f8f704-23db-443d-9440-542653dc9b45",
   "metadata": {},
   "outputs": [],
   "source": [
    "autocorr_m_abs_2dising_32_j_pos_std = np.insert(autocorr_m_abs_2dising_32_j_pos_std, 0, 0)"
   ]
  },
  {
   "cell_type": "code",
   "execution_count": 48,
   "id": "20da1d72-60e6-4dd4-a122-a532d7e6f7bd",
   "metadata": {},
   "outputs": [
    {
     "data": {
      "text/plain": [
       "<matplotlib.legend.Legend at 0x7f039d189130>"
      ]
     },
     "execution_count": 48,
     "metadata": {},
     "output_type": "execute_result"
    },
    {
     "data": {
      "image/png": "[encoded data removed]",
      "text/plain": [
       "<Figure size 432x288 with 1 Axes>"
      ]
     },
     "metadata": {
      "needs_background": "light"
     },
     "output_type": "display_data"
    }
   ],
   "source": [
    "plt.errorbar(x=range(251), y=autocorr_m_abs_2dising_32_j_pos_mean, yerr=autocorr_m_abs_2dising_32_j_pos_std, \n",
    "             fmt='-o', capsize=3, elinewidth=2, label='size=32')\n",
    "plt.yscale(\"log\")\n",
    "plt.ylim(10**-3)\n",
    "plt.xlabel(r'$\\tau$ [MC steps]', fontsize=15)\n",
    "plt.ylabel(r'$A_{|M|}$', fontsize=15)\n",
    "plt.title(\"2D Ising (Square, J>0, T=2.269) Metropolis\")\n",
    "plt.legend()"
   ]
  },
  {
   "cell_type": "code",
   "execution_count": 66,
   "id": "3ca6e8ef-5aaf-40ef-a8a4-2d8286883542",
   "metadata": {},
   "outputs": [],
   "source": [
    "autocorr_time_size_32 = np.sum(autocorr_m_abs_2dising_32_j_pos_mean) - 1/2"
   ]
  },
  {
   "cell_type": "code",
   "execution_count": 67,
   "id": "1837acdd-839f-4fa6-b811-3e6ea6554dca",
   "metadata": {},
   "outputs": [
    {
     "name": "stdout",
     "output_type": "stream",
     "text": [
      "autocorr time of size 32 is: 128.648.\n"
     ]
    }
   ],
   "source": [
    "print(f\"autocorr time of size 32 is: {autocorr_time_size_32:.3f}.\")"
   ]
  },
  {
   "cell_type": "markdown",
   "id": "6a8d08f3-91a8-4139-88f1-d6699c11b1ca",
   "metadata": {},
   "source": [
    "--------------\n",
    "#### Summary"
   ]
  },
  {
   "cell_type": "code",
   "execution_count": 52,
   "id": "e1fc154e-ad4b-4c85-a160-8606fe0c9d8a",
   "metadata": {},
   "outputs": [
    {
     "data": {
      "text/plain": [
       "<matplotlib.legend.Legend at 0x7f039ca58400>"
      ]
     },
     "execution_count": 52,
     "metadata": {},
     "output_type": "execute_result"
    },
    {
     "data": {
      "image/png": "[encoded data removed]",
      "text/plain": [
       "<Figure size 432x288 with 1 Axes>"
      ]
     },
     "metadata": {
      "needs_background": "light"
     },
     "output_type": "display_data"
    }
   ],
   "source": [
    "plt.errorbar(x=range(251), y=autocorr_m_abs_2dising_4_j_pos_mean, yerr=autocorr_m_abs_2dising_4_j_pos_std, \n",
    "             fmt='-o', capsize=3, elinewidth=2, label='size=4')\n",
    "plt.errorbar(x=range(251), y=autocorr_m_abs_2dising_8_j_pos_mean, yerr=autocorr_m_abs_2dising_8_j_pos_std, \n",
    "             fmt='-o', capsize=3, elinewidth=2, label='size=8')\n",
    "plt.errorbar(x=range(251), y=autocorr_m_abs_2dising_16_j_pos_mean, yerr=autocorr_m_abs_2dising_16_j_pos_std, \n",
    "             fmt='-o', capsize=3, elinewidth=2, label='size=16')\n",
    "plt.errorbar(x=range(251), y=autocorr_m_abs_2dising_32_j_pos_mean, yerr=autocorr_m_abs_2dising_32_j_pos_std, \n",
    "             fmt='-o', capsize=3, elinewidth=2, label='size=32')\n",
    "plt.yscale(\"log\")\n",
    "plt.ylim(10**-2.5, 1.1)\n",
    "plt.xlabel(r'$\\tau$ [MC steps]', fontsize=15)\n",
    "plt.ylabel(r'$A_{|M|}$', fontsize=15)\n",
    "plt.title(\"2D Ising (Square, J>0, T=2.269) Metropolis\")\n",
    "plt.legend()"
   ]
  },
  {
   "cell_type": "markdown",
   "id": "47b4ed99-ea08-4f38-a199-0dd6f04d051f",
   "metadata": {
    "tags": []
   },
   "source": [
    "### Size effect and Dynamical Exponent"
   ]
  },
  {
   "cell_type": "code",
   "execution_count": 54,
   "id": "3261959c-0141-4de6-835c-21c96fe28441",
   "metadata": {},
   "outputs": [],
   "source": [
    "size_array = np.array([4, 8, 16, 32])"
   ]
  },
  {
   "cell_type": "code",
   "execution_count": 55,
   "id": "4edd450f-7610-4f02-983b-7ad826cbfc8e",
   "metadata": {},
   "outputs": [],
   "source": [
    "autocorr_fun_array = np.array([m_abs_2dising_4_j_pos_mean, \n",
    "                               m_abs_2dising_8_j_pos_mean,\n",
    "                               m_abs_2dising_16_j_pos_mean,\n",
    "                               m_abs_2dising_32_j_pos_mean])"
   ]
  },
  {
   "cell_type": "code",
   "execution_count": 57,
   "id": "a64d4e21-e1f4-47c4-80fb-05b6de7f35be",
   "metadata": {},
   "outputs": [
    {
     "data": {
      "text/plain": [
       "Text(0.5, 1.0, 'Size Effect on Square 2D Ising (J > 0) Metropolis')"
      ]
     },
     "execution_count": 57,
     "metadata": {},
     "output_type": "execute_result"
    },
    {
     "data": {
      "image/png": "[encoded data removed]",
      "text/plain": [
       "<Figure size 432x288 with 1 Axes>"
      ]
     },
     "metadata": {
      "needs_background": "light"
     },
     "output_type": "display_data"
    }
   ],
   "source": [
    "plt.plot(size_array, autocorr_fun_array, '-o', markersize=9)\n",
    "plt.xscale('log')\n",
    "plt.yscale('log')\n",
    "plt.xlabel(\"Size\", fontsize=15)\n",
    "plt.ylabel(\"|M|\", fontsize=15)\n",
    "plt.title(\"Size Effect on Square 2D Ising (J > 0) Metropolis\")"
   ]
  },
  {
   "cell_type": "code",
   "execution_count": 68,
   "id": "5221f856-fe79-4da8-b6f1-c7c6a926089b",
   "metadata": {},
   "outputs": [],
   "source": [
    "autocorr_time_array = np.array([autocorr_time_size_4, autocorr_time_size_8, \n",
    "                                autocorr_time_size_16, autocorr_time_size_32])\n",
    "size_array = np.array([4, 8, 16, 32])"
   ]
  },
  {
   "cell_type": "code",
   "execution_count": 69,
   "id": "e594db3b-227e-48c1-8c31-fbc1b3eda66a",
   "metadata": {},
   "outputs": [],
   "source": [
    "index_metropolis, bias = np.polyfit(np.log(size_array), np.log(autocorr_time_array), 1)"
   ]
  },
  {
   "cell_type": "code",
   "execution_count": 70,
   "id": "bc0237e6-d364-4718-9b13-8a4b61bc2b51",
   "metadata": {},
   "outputs": [
    {
     "name": "stdout",
     "output_type": "stream",
     "text": [
      "index of metropolis is about: 1.843.\n"
     ]
    }
   ],
   "source": [
    "print(f\"index of metropolis is about: {index_metropolis:.3f}.\")"
   ]
  },
  {
   "cell_type": "code",
   "execution_count": 71,
   "id": "45ba1f1d-5583-43ce-8973-4da7fc0e2379",
   "metadata": {},
   "outputs": [
    {
     "data": {
      "text/plain": [
       "Text(0.5, 1.0, 'Metropolis on Ising 2D Square Lattice (J > 0), Z=1.843')"
      ]
     },
     "execution_count": 71,
     "metadata": {},
     "output_type": "execute_result"
    },
    {
     "data": {
      "image/png": "[encoded data removed]",
      "text/plain": [
       "<Figure size 432x288 with 1 Axes>"
      ]
     },
     "metadata": {
      "needs_background": "light"
     },
     "output_type": "display_data"
    }
   ],
   "source": [
    "plt.plot(np.log(size_array), index_metropolis*np.log(size_array) + bias, linewidth=3)\n",
    "plt.plot(np.log(size_array), np.log(autocorr_time_array), 'o', markersize=15)\n",
    "plt.xlabel(\"Size\", fontsize=15)\n",
    "plt.ylabel(\"Autocorr Time\", fontsize=15)\n",
    "plt.title(\"Metropolis on Ising 2D Square Lattice (J > 0), Z=1.843\")"
   ]
  },
  {
   "cell_type": "markdown",
   "id": "97a3a0ed-da53-4e78-b1da-e574310d4465",
   "metadata": {},
   "source": [
    "--------------------\n",
    "## Chain Evolution on Square Lattice (J > 0)"
   ]
  },
  {
   "cell_type": "markdown",
   "id": "15a7c9cf-6bce-4b89-be3c-0f4311d9f787",
   "metadata": {},
   "source": [
    "### Size = 4"
   ]
  },
  {
   "cell_type": "code",
   "execution_count": 73,
   "id": "482ac2c2-6b65-41b1-be24-5c4ba4a8f32d",
   "metadata": {},
   "outputs": [],
   "source": [
    "with open('./data_2d_ising/2dising_square_size_4_pos_j_T_2269_m_1E7.pkl', 'rb') as file:\n",
    "    m_2dising_size_4_square_pos_j = pickle.load(file)"
   ]
  },
  {
   "cell_type": "code",
   "execution_count": 74,
   "id": "e4ab055b-3bd8-4ed4-8d39-032b38d0b860",
   "metadata": {},
   "outputs": [],
   "source": [
    "m_abs_2dising_size_4_square_pos_j = np.abs(m_2dising_size_4_square_pos_j)"
   ]
  },
  {
   "cell_type": "code",
   "execution_count": 75,
   "id": "35854afa-fe15-424c-9eaf-df7f42721f96",
   "metadata": {},
   "outputs": [],
   "source": [
    "m_abs_2dising_size_4_square_pos_j_mean = np.mean(m_abs_2dising_size_4_square_pos_j)"
   ]
  },
  {
   "cell_type": "code",
   "execution_count": 76,
   "id": "5183a5b3-86f9-4833-a9a0-c493053eb7c2",
   "metadata": {},
   "outputs": [
    {
     "name": "stdout",
     "output_type": "stream",
     "text": [
      "|m| of size 4 is: 0.8441501259803772.\n"
     ]
    }
   ],
   "source": [
    "print(f\"|m| of size 4 is: {m_abs_2dising_size_4_square_pos_j_mean}.\")"
   ]
  },
  {
   "cell_type": "code",
   "execution_count": 77,
   "id": "36ae80eb-bfb3-4e65-81fa-b996b565aef3",
   "metadata": {},
   "outputs": [],
   "source": [
    "m_abs_2dising_size_4_square_pos_j = m_abs_2dising_size_4_square_pos_j.reshape((10000, 1000))"
   ]
  },
  {
   "cell_type": "code",
   "execution_count": 78,
   "id": "16366435-e39a-46bb-b2c6-2f866cfc72f8",
   "metadata": {},
   "outputs": [
    {
     "name": "stdout",
     "output_type": "stream",
     "text": [
      "130.91382122039795\n"
     ]
    }
   ],
   "source": [
    "time_start = time.time()\n",
    "autocorr_m_abs_2dising_size_4_square_pos_j_mean, _, _, _ = autocorr_mc_mean_est(m_abs_2dising_size_4_square_pos_j, 100)\n",
    "_, autocorr_m_abs_2dising_size_4_square_pos_j_std = autocorr_mc_std_est(m_abs_2dising_size_4_square_pos_j, 100)\n",
    "time_end = time.time()\n",
    "print(time_end-time_start)"
   ]
  },
  {
   "cell_type": "code",
   "execution_count": 79,
   "id": "dd45f08b-6b36-4656-a365-aac9afb7df79",
   "metadata": {},
   "outputs": [],
   "source": [
    "autocorr_m_abs_2dising_size_4_square_pos_j_mean = np.insert(autocorr_m_abs_2dising_size_4_square_pos_j_mean, 0, 1)"
   ]
  },
  {
   "cell_type": "code",
   "execution_count": 80,
   "id": "8fe301fa-e49b-4386-a44e-97fd5a3f9380",
   "metadata": {},
   "outputs": [],
   "source": [
    "autocorr_m_abs_2dising_size_4_square_pos_j_std = np.insert(autocorr_m_abs_2dising_size_4_square_pos_j_std, 0, 0)"
   ]
  },
  {
   "cell_type": "code",
   "execution_count": 81,
   "id": "5fb34c77-a9f0-4556-b621-e699b72ba149",
   "metadata": {},
   "outputs": [
    {
     "data": {
      "text/plain": [
       "<matplotlib.legend.Legend at 0x7f037c927a60>"
      ]
     },
     "execution_count": 81,
     "metadata": {},
     "output_type": "execute_result"
    },
    {
     "data": {
      "image/png": "[encoded data removed]",
      "text/plain": [
       "<Figure size 432x288 with 1 Axes>"
      ]
     },
     "metadata": {
      "needs_background": "light"
     },
     "output_type": "display_data"
    }
   ],
   "source": [
    "plt.errorbar(x=range(101), y=autocorr_m_abs_2dising_size_4_square_pos_j_mean, yerr=autocorr_m_abs_2dising_size_4_square_pos_j_std, \n",
    "             fmt='-o', capsize=3, elinewidth=2, label='size=4')\n",
    "plt.yscale(\"log\")\n",
    "plt.ylim(10**-4)\n",
    "plt.xlim(0, 100)\n",
    "plt.xlabel(r'$\\tau$ [Evolve steps]', fontsize=15)\n",
    "plt.ylabel(r'$A_{|M|}$', fontsize=15)\n",
    "plt.title(\"2D Ising (Square, J>0, T=2.269) Chain\")\n",
    "plt.legend()"
   ]
  },
  {
   "cell_type": "code",
   "execution_count": 82,
   "id": "66fe92fb-4870-409a-910b-4ddf4ee86df2",
   "metadata": {},
   "outputs": [],
   "source": [
    "autocorr_time_size_4 = np.sum(autocorr_m_abs_2dising_size_4_square_pos_j_mean[:10]) - 1/2"
   ]
  },
  {
   "cell_type": "code",
   "execution_count": 83,
   "id": "23595903-4fef-4ae1-b32d-a37fd3d27c62",
   "metadata": {},
   "outputs": [
    {
     "name": "stdout",
     "output_type": "stream",
     "text": [
      "autocorr time of size 4 is: 1.573.\n"
     ]
    }
   ],
   "source": [
    "print(f\"autocorr time of size 4 is: {autocorr_time_size_4:.3f}.\")"
   ]
  },
  {
   "cell_type": "markdown",
   "id": "47fca271-9a40-4f42-a79d-104ce2ee5382",
   "metadata": {},
   "source": [
    "-----\n",
    "### Size = 8"
   ]
  },
  {
   "cell_type": "code",
   "execution_count": 84,
   "id": "ac6e5254-4c6e-4126-8ebc-2653fd2a011c",
   "metadata": {},
   "outputs": [],
   "source": [
    "with open('./data_2d_ising/2dising_square_size_8_pos_j_T_2269_m_1E7.pkl', 'rb') as file:\n",
    "    m_2dising_size_8_square_pos_j = pickle.load(file)"
   ]
  },
  {
   "cell_type": "code",
   "execution_count": 85,
   "id": "bd389c40-2743-4888-a620-d27ca485eebd",
   "metadata": {},
   "outputs": [],
   "source": [
    "m_abs_2dising_size_8_square_pos_j = np.abs(m_2dising_size_8_square_pos_j)"
   ]
  },
  {
   "cell_type": "code",
   "execution_count": 86,
   "id": "7960c219-310d-4fd0-98dc-631ceeba1c33",
   "metadata": {},
   "outputs": [],
   "source": [
    "m_abs_2dising_size_8_square_pos_j_mean = np.mean(m_abs_2dising_size_8_square_pos_j)"
   ]
  },
  {
   "cell_type": "code",
   "execution_count": 87,
   "id": "924366c4-a6de-4a7c-9e30-c3d81ca2b72f",
   "metadata": {},
   "outputs": [
    {
     "name": "stdout",
     "output_type": "stream",
     "text": [
      "|m| of size 8 is: 0.7774075269699097.\n"
     ]
    }
   ],
   "source": [
    "print(f\"|m| of size 8 is: {m_abs_2dising_size_8_square_pos_j_mean}.\")"
   ]
  },
  {
   "cell_type": "code",
   "execution_count": 88,
   "id": "474b1e3e-acb8-40d0-a81b-6c2bcf81f615",
   "metadata": {},
   "outputs": [],
   "source": [
    "m_abs_2dising_size_8_square_pos_j = m_abs_2dising_size_8_square_pos_j.reshape((10000, 1000))"
   ]
  },
  {
   "cell_type": "code",
   "execution_count": 89,
   "id": "808c2337-3685-411c-b836-44dcf7fee6fe",
   "metadata": {},
   "outputs": [
    {
     "name": "stdout",
     "output_type": "stream",
     "text": [
      "130.12492513656616\n"
     ]
    }
   ],
   "source": [
    "time_start = time.time()\n",
    "autocorr_m_abs_2dising_size_8_square_pos_j_mean, _, _, _ = autocorr_mc_mean_est(m_abs_2dising_size_8_square_pos_j, 100)\n",
    "_, autocorr_m_abs_2dising_size_8_square_pos_j_std = autocorr_mc_std_est(m_abs_2dising_size_8_square_pos_j, 100)\n",
    "time_end = time.time()\n",
    "print(time_end-time_start)"
   ]
  },
  {
   "cell_type": "code",
   "execution_count": 90,
   "id": "f5ceecc6-2129-48cb-8b02-62846141ab2a",
   "metadata": {},
   "outputs": [],
   "source": [
    "autocorr_m_abs_2dising_size_8_square_pos_j_mean = np.insert(autocorr_m_abs_2dising_size_8_square_pos_j_mean, 0, 1)"
   ]
  },
  {
   "cell_type": "code",
   "execution_count": 91,
   "id": "f28dd528-78f3-4e0c-bb90-2f3d8b038e1d",
   "metadata": {},
   "outputs": [],
   "source": [
    "autocorr_m_abs_2dising_size_8_square_pos_j_std = np.insert(autocorr_m_abs_2dising_size_8_square_pos_j_std, 0, 0)"
   ]
  },
  {
   "cell_type": "code",
   "execution_count": 92,
   "id": "3bc567b1-8105-4ed5-b296-2fbdfca460c4",
   "metadata": {},
   "outputs": [
    {
     "data": {
      "text/plain": [
       "<matplotlib.legend.Legend at 0x7f0379a0ff70>"
      ]
     },
     "execution_count": 92,
     "metadata": {},
     "output_type": "execute_result"
    },
    {
     "data": {
      "image/png": "[encoded data removed]",
      "text/plain": [
       "<Figure size 432x288 with 1 Axes>"
      ]
     },
     "metadata": {
      "needs_background": "light"
     },
     "output_type": "display_data"
    }
   ],
   "source": [
    "plt.errorbar(x=range(101), y=autocorr_m_abs_2dising_size_8_square_pos_j_mean, yerr=autocorr_m_abs_2dising_size_8_square_pos_j_std, \n",
    "             fmt='-o', capsize=3, elinewidth=2, label='size=8')\n",
    "plt.yscale(\"log\")\n",
    "plt.ylim(10**-4)\n",
    "plt.xlim(0, 100)\n",
    "plt.xlabel(r'$\\tau$ [Evolve steps]', fontsize=15)\n",
    "plt.ylabel(r'$A_{|M|}$', fontsize=15)\n",
    "plt.title(\"2D Ising (Square, J>0, T=2.269) Chain\")\n",
    "plt.legend()"
   ]
  },
  {
   "cell_type": "code",
   "execution_count": 93,
   "id": "3d3e7cce-46c5-4a54-940e-71874adde640",
   "metadata": {},
   "outputs": [],
   "source": [
    "autocorr_time_size_8 = np.sum(autocorr_m_abs_2dising_size_8_square_pos_j_mean[:25]) - 1/2"
   ]
  },
  {
   "cell_type": "code",
   "execution_count": 94,
   "id": "0ad7dcca-d160-442a-ae74-9598d67af275",
   "metadata": {},
   "outputs": [
    {
     "name": "stdout",
     "output_type": "stream",
     "text": [
      "autocorr time of size 8 is: 4.218.\n"
     ]
    }
   ],
   "source": [
    "print(f\"autocorr time of size 8 is: {autocorr_time_size_8:.3f}.\")"
   ]
  },
  {
   "cell_type": "markdown",
   "id": "4735fb49-1152-4b40-9cda-d105180e10ed",
   "metadata": {},
   "source": [
    "-------\n",
    "### Size = 16"
   ]
  },
  {
   "cell_type": "code",
   "execution_count": 95,
   "id": "7cf1e977-0b6e-4feb-9fa1-2520106be4ec",
   "metadata": {},
   "outputs": [],
   "source": [
    "with open('./data_2d_ising/2dising_square_size_16_pos_j_T_2269_m_1E7.pkl', 'rb') as file:\n",
    "    m_2dising_size_16_square_pos_j = pickle.load(file)"
   ]
  },
  {
   "cell_type": "code",
   "execution_count": 96,
   "id": "1fa0bc7b-754f-49c1-8eb3-2db19cc88091",
   "metadata": {},
   "outputs": [],
   "source": [
    "m_abs_2dising_size_16_square_pos_j = np.abs(m_2dising_size_16_square_pos_j)"
   ]
  },
  {
   "cell_type": "code",
   "execution_count": 97,
   "id": "6fbdd02b-43d2-4d10-a2d9-b6e8e8ae6d78",
   "metadata": {},
   "outputs": [],
   "source": [
    "m_abs_2dising_size_16_square_pos_j_mean = np.mean(m_abs_2dising_size_16_square_pos_j)"
   ]
  },
  {
   "cell_type": "code",
   "execution_count": 98,
   "id": "26ac9dec-7e1c-4cc0-a4d0-c26c3dda6ef2",
   "metadata": {},
   "outputs": [
    {
     "name": "stdout",
     "output_type": "stream",
     "text": [
      "|m| of size 16 is: 0.7138419151306152.\n"
     ]
    }
   ],
   "source": [
    "print(f\"|m| of size 16 is: {m_abs_2dising_size_16_square_pos_j_mean}.\")"
   ]
  },
  {
   "cell_type": "code",
   "execution_count": 99,
   "id": "5fcbeb6c-1008-49ef-8410-be333261a5a7",
   "metadata": {},
   "outputs": [],
   "source": [
    "m_abs_2dising_size_16_square_pos_j = m_abs_2dising_size_16_square_pos_j.reshape((10000, 1000))"
   ]
  },
  {
   "cell_type": "code",
   "execution_count": 100,
   "id": "8d7237d1-2d8a-44f7-af68-4e039c400e05",
   "metadata": {},
   "outputs": [
    {
     "name": "stdout",
     "output_type": "stream",
     "text": [
      "133.13597750663757\n"
     ]
    }
   ],
   "source": [
    "time_start = time.time()\n",
    "autocorr_m_abs_2dising_size_16_square_pos_j_mean, _, _, _ = autocorr_mc_mean_est(m_abs_2dising_size_16_square_pos_j, 100)\n",
    "_, autocorr_m_abs_2dising_size_16_square_pos_j_std = autocorr_mc_std_est(m_abs_2dising_size_16_square_pos_j, 100)\n",
    "time_end = time.time()\n",
    "print(time_end-time_start)"
   ]
  },
  {
   "cell_type": "code",
   "execution_count": 101,
   "id": "9fe0390e-9aa3-4461-9636-6dcf98d7ceb2",
   "metadata": {},
   "outputs": [],
   "source": [
    "autocorr_m_abs_2dising_size_16_square_pos_j_mean = np.insert(autocorr_m_abs_2dising_size_16_square_pos_j_mean, 0, 1)"
   ]
  },
  {
   "cell_type": "code",
   "execution_count": 102,
   "id": "9cb744a7-ed67-4705-890f-97cd52f93149",
   "metadata": {},
   "outputs": [],
   "source": [
    "autocorr_m_abs_2dising_size_16_square_pos_j_std = np.insert(autocorr_m_abs_2dising_size_16_square_pos_j_std, 0, 0)"
   ]
  },
  {
   "cell_type": "code",
   "execution_count": 103,
   "id": "fcb44c98-f66d-4b30-a305-ab85008afce9",
   "metadata": {},
   "outputs": [
    {
     "data": {
      "text/plain": [
       "<matplotlib.legend.Legend at 0x7f03798ff160>"
      ]
     },
     "execution_count": 103,
     "metadata": {},
     "output_type": "execute_result"
    },
    {
     "data": {
      "image/png": "[encoded data removed]",
      "text/plain": [
       "<Figure size 432x288 with 1 Axes>"
      ]
     },
     "metadata": {
      "needs_background": "light"
     },
     "output_type": "display_data"
    }
   ],
   "source": [
    "plt.errorbar(x=range(101), y=autocorr_m_abs_2dising_size_16_square_pos_j_mean, yerr=autocorr_m_abs_2dising_size_16_square_pos_j_std, \n",
    "             fmt='-o', capsize=3, elinewidth=2, label='size=16')\n",
    "plt.yscale(\"log\")\n",
    "plt.ylim(10**-4)\n",
    "plt.xlim(0, 100)\n",
    "plt.xlabel(r'$\\tau$ [Evolve steps]', fontsize=15)\n",
    "plt.ylabel(r'$A_{|M|}$', fontsize=15)\n",
    "plt.title(\"2D Ising (Square, J>0, T=2.269) Chain\")\n",
    "plt.legend()"
   ]
  },
  {
   "cell_type": "code",
   "execution_count": 104,
   "id": "f167d8f7-1639-466d-97ff-9d9bb5f58067",
   "metadata": {},
   "outputs": [],
   "source": [
    "autocorr_time_size_16 = np.sum(autocorr_m_abs_2dising_size_16_square_pos_j_mean[:70]) - 1/2"
   ]
  },
  {
   "cell_type": "code",
   "execution_count": 105,
   "id": "57ccc87f-13a5-43d7-a5e6-e173ca7e58c2",
   "metadata": {},
   "outputs": [
    {
     "name": "stdout",
     "output_type": "stream",
     "text": [
      "autocorr time of size 16 is: 15.463.\n"
     ]
    }
   ],
   "source": [
    "print(f\"autocorr time of size 16 is: {autocorr_time_size_16:.3f}.\")"
   ]
  },
  {
   "cell_type": "markdown",
   "id": "d76178fd-a600-4d76-9184-1c0ccebb79e6",
   "metadata": {},
   "source": [
    "-----\n",
    "### Size = 32"
   ]
  },
  {
   "cell_type": "code",
   "execution_count": 106,
   "id": "04936b64-a230-4b37-83f4-663702849118",
   "metadata": {},
   "outputs": [],
   "source": [
    "with open('./data_2d_ising/2dising_square_size_32_pos_j_T_2269_m_5E6.pkl', 'rb') as file:\n",
    "    m_2dising_size_32_square_pos_j = pickle.load(file)"
   ]
  },
  {
   "cell_type": "code",
   "execution_count": 107,
   "id": "3283f809-23bb-44c5-918d-d1558f5c3b64",
   "metadata": {},
   "outputs": [],
   "source": [
    "m_abs_2dising_size_32_square_pos_j = np.abs(m_2dising_size_32_square_pos_j)"
   ]
  },
  {
   "cell_type": "code",
   "execution_count": 108,
   "id": "6728a20d-0e38-45cc-8b3b-c1ee3ec22eb0",
   "metadata": {},
   "outputs": [],
   "source": [
    "m_abs_2dising_size_32_square_pos_j_mean = np.mean(m_abs_2dising_size_32_square_pos_j)"
   ]
  },
  {
   "cell_type": "code",
   "execution_count": 109,
   "id": "16fe9097-3d59-4fc1-9663-808d09d990b7",
   "metadata": {},
   "outputs": [
    {
     "name": "stdout",
     "output_type": "stream",
     "text": [
      "|m| of size 32 is: 0.6536909937858582.\n"
     ]
    }
   ],
   "source": [
    "print(f\"|m| of size 32 is: {m_abs_2dising_size_32_square_pos_j_mean}.\")"
   ]
  },
  {
   "cell_type": "code",
   "execution_count": 110,
   "id": "85d8f93e-ba92-4c7a-a9f9-3f8e7e5dc969",
   "metadata": {},
   "outputs": [],
   "source": [
    "m_abs_2dising_size_32_square_pos_j = m_abs_2dising_size_32_square_pos_j.reshape((10000, 500))"
   ]
  },
  {
   "cell_type": "code",
   "execution_count": 111,
   "id": "4d72150a-fbf1-4fd0-8a7f-2e23c11a538a",
   "metadata": {},
   "outputs": [
    {
     "name": "stdout",
     "output_type": "stream",
     "text": [
      "107.06799817085266\n"
     ]
    }
   ],
   "source": [
    "time_start = time.time()\n",
    "autocorr_m_abs_2dising_size_32_square_pos_j_mean, _, _, _ = autocorr_mc_mean_est(m_abs_2dising_size_32_square_pos_j, 50)\n",
    "_, autocorr_m_abs_2dising_size_32_square_pos_j_std = autocorr_mc_std_est(m_abs_2dising_size_32_square_pos_j, 50)\n",
    "time_end = time.time()\n",
    "print(time_end-time_start)"
   ]
  },
  {
   "cell_type": "code",
   "execution_count": 112,
   "id": "f203ab83-9e66-472c-98a8-bbdfe33b64b3",
   "metadata": {},
   "outputs": [],
   "source": [
    "autocorr_m_abs_2dising_size_32_square_pos_j_mean = np.insert(autocorr_m_abs_2dising_size_32_square_pos_j_mean, 0, 1)"
   ]
  },
  {
   "cell_type": "code",
   "execution_count": 113,
   "id": "3e75fb1f-1486-4bbc-bacd-2fdcc8553cc1",
   "metadata": {},
   "outputs": [],
   "source": [
    "autocorr_m_abs_2dising_size_32_square_pos_j_std = np.insert(autocorr_m_abs_2dising_size_32_square_pos_j_std, 0, 0)"
   ]
  },
  {
   "cell_type": "code",
   "execution_count": 125,
   "id": "00f7a107-7642-48ab-a15b-fb4587aea3ff",
   "metadata": {},
   "outputs": [
    {
     "data": {
      "text/plain": [
       "<matplotlib.legend.Legend at 0x7f037c905400>"
      ]
     },
     "execution_count": 125,
     "metadata": {},
     "output_type": "execute_result"
    },
    {
     "data": {
      "image/png": "[encoded data removed]",
      "text/plain": [
       "<Figure size 432x288 with 1 Axes>"
      ]
     },
     "metadata": {
      "needs_background": "light"
     },
     "output_type": "display_data"
    }
   ],
   "source": [
    "plt.errorbar(x=range(51), y=autocorr_m_abs_2dising_size_32_square_pos_j_mean, yerr=autocorr_m_abs_2dising_size_32_square_pos_j_std, \n",
    "             fmt='-o', capsize=3, elinewidth=2, label='size=32')\n",
    "plt.yscale(\"log\")\n",
    "plt.ylim(10**-4)\n",
    "plt.xlim(0, 51)\n",
    "plt.xlabel(r'$\\tau$ [Evolve steps]', fontsize=15)\n",
    "plt.ylabel(r'$A_{|M|}$', fontsize=15)\n",
    "plt.title(\"2D Ising (Square, J>0, T=2.269) Chain\")\n",
    "plt.legend()"
   ]
  },
  {
   "cell_type": "code",
   "execution_count": 115,
   "id": "f483b0cd-827e-4a6c-95b1-0c9202e8dc4f",
   "metadata": {},
   "outputs": [],
   "source": [
    "autocorr_time_size_32 = np.sum(autocorr_m_abs_2dising_size_32_square_pos_j_mean) - 1/2"
   ]
  },
  {
   "cell_type": "code",
   "execution_count": 116,
   "id": "a632aae2-21c7-4286-9e1f-0559d87be0f8",
   "metadata": {},
   "outputs": [
    {
     "name": "stdout",
     "output_type": "stream",
     "text": [
      "autocorr time of size 32 is: 33.853.\n"
     ]
    }
   ],
   "source": [
    "print(f\"autocorr time of size 32 is: {autocorr_time_size_32:.3f}.\")"
   ]
  },
  {
   "cell_type": "markdown",
   "id": "66274356-bd2a-4d02-bbae-2413b33e0a69",
   "metadata": {},
   "source": [
    "-------\n",
    "### dynamical exponent"
   ]
  },
  {
   "cell_type": "code",
   "execution_count": 117,
   "id": "84a1f167-1265-4f2d-96ed-d32b09be1e33",
   "metadata": {},
   "outputs": [],
   "source": [
    "autocorr_time_array = np.array([autocorr_time_size_4, autocorr_time_size_8, \n",
    "                                autocorr_time_size_16, autocorr_time_size_32])\n",
    "size_array = np.array([4, 8, 16, 32])"
   ]
  },
  {
   "cell_type": "code",
   "execution_count": 118,
   "id": "cfe3e2e0-48d9-4d5d-b9ba-cda18036ab9c",
   "metadata": {},
   "outputs": [],
   "source": [
    "index_chain, bias = np.polyfit(np.log(size_array), np.log(autocorr_time_array), 1)"
   ]
  },
  {
   "cell_type": "code",
   "execution_count": 119,
   "id": "9f3b7e29-ad38-4ee4-8dae-9a939e5a1fbe",
   "metadata": {},
   "outputs": [
    {
     "name": "stdout",
     "output_type": "stream",
     "text": [
      "index of chain evolution is about: 1.516.\n"
     ]
    }
   ],
   "source": [
    "print(f\"index of chain evolution is about: {index_chain:.3f}.\")"
   ]
  },
  {
   "cell_type": "code",
   "execution_count": 120,
   "id": "980bb67d-d50c-452c-98a2-03e134b1c254",
   "metadata": {},
   "outputs": [
    {
     "data": {
      "text/plain": [
       "Text(0.5, 1.0, 'Chain on Ising 2D Square Lattice (J > 0), Z=1.516')"
      ]
     },
     "execution_count": 120,
     "metadata": {},
     "output_type": "execute_result"
    },
    {
     "data": {
      "image/png": "[encoded data removed]",
      "text/plain": [
       "<Figure size 432x288 with 1 Axes>"
      ]
     },
     "metadata": {
      "needs_background": "light"
     },
     "output_type": "display_data"
    }
   ],
   "source": [
    "plt.plot(np.log(size_array), index_chain*np.log(size_array) + bias, linewidth=3)\n",
    "plt.plot(np.log(size_array), np.log(autocorr_time_array), 'o', markersize=15)\n",
    "plt.xlabel(\"Size\", fontsize=15)\n",
    "plt.ylabel(\"Autocorr Time\", fontsize=15)\n",
    "plt.title(\"Chain on Ising 2D Square Lattice (J > 0), Z=1.516\")"
   ]
  },
  {
   "cell_type": "markdown",
   "id": "e3430344-7b71-4a65-a5d3-3d3305f82bd0",
   "metadata": {},
   "source": [
    "-----\n",
    "### Size effects"
   ]
  },
  {
   "cell_type": "code",
   "execution_count": 121,
   "id": "665569fd-4bb1-4841-9e69-058d7af2beb8",
   "metadata": {},
   "outputs": [],
   "source": [
    "autocorr_fun_array = np.array([m_abs_2dising_size_4_square_pos_j_mean, \n",
    "                               m_abs_2dising_size_8_square_pos_j_mean,\n",
    "                               m_abs_2dising_size_16_square_pos_j_mean,\n",
    "                               m_abs_2dising_size_32_square_pos_j_mean])"
   ]
  },
  {
   "cell_type": "code",
   "execution_count": 122,
   "id": "fedfc62e-cd11-49f2-bdab-c2f9fc1be9b8",
   "metadata": {},
   "outputs": [],
   "source": [
    "coef_autocorr, bias = np. polyfit(size_array, autocorr_fun_array, 1)"
   ]
  },
  {
   "cell_type": "code",
   "execution_count": 123,
   "id": "6328ea33-5e65-41b5-bdd4-68353a6f08aa",
   "metadata": {},
   "outputs": [
    {
     "data": {
      "text/plain": [
       "Text(0.5, 1.0, 'Size effect on 2D Ising Square Lattice (J < 0)')"
      ]
     },
     "execution_count": 123,
     "metadata": {},
     "output_type": "execute_result"
    },
    {
     "data": {
      "image/png": "[encoded data removed]",
      "text/plain": [
       "<Figure size 432x288 with 1 Axes>"
      ]
     },
     "metadata": {
      "needs_background": "light"
     },
     "output_type": "display_data"
    }
   ],
   "source": [
    "#plt.plot(size_array, coef_autocorr*size_array + bias, linewidth=3)\n",
    "plt.plot(np.log(size_array), np.log(autocorr_fun_array), '-o', markersize=9)\n",
    "plt.xlabel(\"Size\", fontsize=15)\n",
    "plt.ylabel(\"|M|\", fontsize=15)\n",
    "plt.title(\"Size effect on 2D Ising Square Lattice (J < 0)\")"
   ]
  },
  {
   "cell_type": "code",
   "execution_count": null,
   "id": "dcc7fe60-468f-4798-be4a-f0a78f04513f",
   "metadata": {},
   "outputs": [],
   "source": []
  }
 ],
 "metadata": {
  "kernelspec": {
   "display_name": "Python 3 (ipykernel)",
   "language": "python",
   "name": "python3"
  },
  "language_info": {
   "codemirror_mode": {
    "name": "ipython",
    "version": 3
   },
   "file_extension": ".py",
   "mimetype": "text/x-python",
   "name": "python",
   "nbconvert_exporter": "python",
   "pygments_lexer": "ipython3",
   "version": "3.9.10"
  }
 },
 "nbformat": 4,
 "nbformat_minor": 5
}
