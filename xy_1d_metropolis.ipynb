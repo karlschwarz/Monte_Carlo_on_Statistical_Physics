{
 "cells": [
  {
   "cell_type": "markdown",
   "id": "97f5832c-b703-4284-b959-3eab5f0dc7d6",
   "metadata": {
    "tags": []
   },
   "source": [
    "# Metropolis of 1d XY model \n"
   ]
  },
  {
   "cell_type": "code",
   "execution_count": 70,
   "id": "9c60d9f1-af92-4cb0-8ed6-7e95d705a90f",
   "metadata": {},
   "outputs": [],
   "source": [
    "import numpy as np\n",
    "import matplotlib.pyplot as plt\n",
    "from tqdm.auto import trange"
   ]
  },
  {
   "cell_type": "code",
   "execution_count": 71,
   "id": "def6cf98-ed1e-4d84-86f8-42a758b07bb0",
   "metadata": {},
   "outputs": [],
   "source": [
    "from matplotlib import animation"
   ]
  },
  {
   "cell_type": "code",
   "execution_count": 72,
   "id": "352d932b-06c2-472b-998d-71ea96df7a79",
   "metadata": {},
   "outputs": [],
   "source": [
    "import copy\n",
    "import time"
   ]
  },
  {
   "cell_type": "code",
   "execution_count": 73,
   "id": "80a86b98-8eb6-4bf7-a828-f7f18d85bc68",
   "metadata": {},
   "outputs": [],
   "source": [
    "class XY_1D:\n",
    "    def __init__(self, length, delta=0.1, beta=1, j = 1, periodic_cond=True, seed = 0):\n",
    "        np.random.seed(seed)\n",
    "        self.length = length\n",
    "        self.delta = delta\n",
    "        self.beta = beta\n",
    "        self.j = j\n",
    "        self.periodic_cond = periodic_cond\n",
    "        self.grids_init()\n",
    "        \n",
    "    def grids_init(self):      \n",
    "        self.grids = np.random.uniform(-np.pi, np.pi, self.length)\n",
    "        \n",
    "    def energy_compute_one_grid(self, id_grid, theta_grid):\n",
    "        if self.periodic_cond:\n",
    "            left_neibor = (id_grid - 1) % self.length\n",
    "            right_neibor = (id_grid + 1) % self.length\n",
    "            e_left = -self.j * np.cos(self.grids[left_neibor] - theta_grid)\n",
    "            e_right = -self.j * np.cos(theta_grid - self.grids[right_neibor])\n",
    "            energy = e_left + e_right\n",
    "            return energy\n",
    "        else:\n",
    "            if id_grid == 0:\n",
    "                return -self.j * np.cos(theta_grid - self.grids[id_grid+1])\n",
    "            \n",
    "            elif id_grid == self.length - 1:\n",
    "                return -self.j * np.cos(theta_grid - self.grids[id_grid-1])\n",
    "            \n",
    "            else:\n",
    "                e_left = -self.j * np.cos(self.grids[id_grid-1] - theta_grid)\n",
    "                e_right = -self.j * np.cos(theta_grid - self.grids[id_grid+1])\n",
    "                energy = e_left + e_right\n",
    "                return energy\n",
    "    \n",
    "    def energy_compute_grids(self):\n",
    "        energy_total = 0\n",
    "        for i in range(self.length-1):\n",
    "            energy_i = -self.j * np.cos(self.grids[i] - self.grids[i+1])\n",
    "            energy_total += energy_i\n",
    "        if self.periodic_cond:\n",
    "            energy_total += -self.j * np.cos(self.grids[0] - self.grids[-1])\n",
    "        return energy_total\n",
    "            \n",
    "    def one_step_mcmc_normal(self):\n",
    "        id_random = np.random.randint(self.length)\n",
    "        theta_id = self.grids[id_random]\n",
    "        theta_random = np.random.normal(theta_id, self.delta)\n",
    "        energy_old = self.energy_compute_one_grid(id_random, theta_id)\n",
    "        energy_new = self.energy_compute_one_grid(id_random, theta_random)\n",
    "        energy_delta = energy_new - energy_old\n",
    "        prob_accept = min(np.exp(-self.beta * energy_delta), 1)\n",
    "        if np.random.uniform(0, 1) < prob_accept:\n",
    "            self.grids[id_random] = theta_random\n",
    "            return energy_new\n",
    "        else:\n",
    "            return energy_old\n",
    "        \n",
    "    def one_step_mcmc_unif(self):\n",
    "        id_random = np.random.randint(self.length)\n",
    "        theta_id = self.grids[id_random]\n",
    "        theta_random = theta_id + np.random.uniform(-self.delta, self.delta)\n",
    "        energy_old = self.energy_compute_one_grid(id_random, theta_id)\n",
    "        energy_new = self.energy_compute_one_grid(id_random, theta_random)\n",
    "        energy_delta = energy_new - energy_old\n",
    "        prob_accept = min(np.exp(-self.beta * energy_delta), 1)\n",
    "        if np.random.uniform(0, 1) < prob_accept:\n",
    "            self.grids[id_random] = theta_random\n",
    "            return energy_new\n",
    "        else:\n",
    "            return energy_old\n",
    "        \n",
    "    def mcmc_simple(self, step, prop='normal'):\n",
    "        if prop == 'normal':\n",
    "            for i in range(step):\n",
    "                self.one_step_mcmc_unif()\n",
    "        else:\n",
    "            for i in range(step):\n",
    "                self.one_step_mcmc_unif()\n",
    "            \n",
    "    def mcmc(self, step, show_energy=False, show_plot=False, period=100, store_period=100, energy_accumu=False, folder_name=None):\n",
    "        energy_list, spins_list = [], []\n",
    "        for i in range(step):\n",
    "            self.one_step_mcmc_normal()\n",
    "            energy_total = self.energy_compute_grids()\n",
    "            energy_list.append(energy_total)\n",
    "            print_template = \"Step: {step} Energy: {energy}\\t\"\n",
    "            if show_energy:\n",
    "                print(print_template.format(step=i+1, energy=energy_total))  \n",
    "            if show_plot and i % period == 0:\n",
    "                self.spin_viz(save=True, step=i, folder_name=folder_name)\n",
    "            if i % store_period == 0:\n",
    "                spins_list.append(self.grids.copy())\n",
    "        if energy_accumu:\n",
    "            return np.mean(energy_list), spins_list\n",
    "        else:\n",
    "            return spins_list\n",
    "        \n",
    "    def spin_viz_dynamic(self, spins_list, file_name, figsize=(10, 3)):\n",
    "        fig = plt.figure(figsize=figsize)\n",
    "        x, y = np.meshgrid(np.arange(0, self.length), 0)\n",
    "        u = np.cos(spins_list[0])\n",
    "        v = np.sin(spins_list[0])\n",
    "        q = plt.quiver(x, y, u, v, scale=20, width=0.01, headlength=3, headwidth=2, headaxislength=3, minshaft=3)\n",
    "        plt.axis('off')\n",
    "        plt.title('T={:.3f}, spins={}'.format(1/self.beta, self.length), fontsize=20)            \n",
    "        def update_quiver(num, q):\n",
    "            u = np.cos(spins_list[num+1])\n",
    "            v = np.sin(spins_list[num+1])\n",
    "            q.set_UVC(u, v)\n",
    "            return q\n",
    "        frames = len(spins_list) - 1\n",
    "        self.anim = animation.FuncAnimation(fig, update_quiver, frames=frames, \n",
    "                                       fargs=(q, ), interval=50, repeat=False)\n",
    "        writergif = animation.PillowWriter(fps=100) \n",
    "        self.anim.save(f'./{file_name}.gif', writer=writergif)\n",
    "        \n",
    "    def spin_viz(self, figsize=(10, 3), save=False, step=None, folder_name=None):\n",
    "        fig = plt.figure(figsize=figsize)\n",
    "        x, y = np.meshgrid(np.arange(0, self.length), 0)\n",
    "        u = np.cos(self.grids)\n",
    "        v = np.sin(self.grids)\n",
    "        q = plt.quiver(x, y, u, v, units='width')\n",
    "        plt.axis('off')\n",
    "        plt.title('T={:.3f}, spins={}'.format(1/self.beta, self.length), fontsize=20)\n",
    "        if save and step is not None:\n",
    "            plt.savefig(f'./{folder_name}/config_plot_step_{step}.pdf', dpi=100)\n",
    "            plt.close(fig)\n",
    "            \n",
    "    def magnet_grids(self):\n",
    "        magnet_x, magnet_y = 0, 0\n",
    "        for i in range(self.length):\n",
    "            magnet_x += np.sin(self.grids[i])\n",
    "            magnet_y += np.cos(self.grids[i])\n",
    "        return magnet_x, magnet_y"
   ]
  },
  {
   "cell_type": "markdown",
   "id": "1dec6233-0fa4-492b-82ac-14d5487eed90",
   "metadata": {},
   "source": [
    "### Periodic Boundary Condition"
   ]
  },
  {
   "cell_type": "code",
   "execution_count": 81,
   "id": "fee5b6ce-4b9c-4ebf-9660-d6ab4b4aff90",
   "metadata": {},
   "outputs": [],
   "source": [
    "# initialize the 1d xy model\n",
    "length = 10\n",
    "xy_1d = XY_1D(length, beta=100, delta=0.1, j=1, periodic_cond=True)"
   ]
  },
  {
   "cell_type": "code",
   "execution_count": 82,
   "id": "48454625-2b73-49a7-8c79-1e57b014f206",
   "metadata": {},
   "outputs": [
    {
     "name": "stdout",
     "output_type": "stream",
     "text": [
      "mcmc is done!\n"
     ]
    }
   ],
   "source": [
    "# firing stage\n",
    "spins_list = xy_1d.mcmc(1000000, show_energy=False)\n",
    "print('mcmc is done!')"
   ]
  },
  {
   "cell_type": "code",
   "execution_count": 83,
   "id": "a20e9455-bb6b-46bb-9c1f-68882dd53a14",
   "metadata": {},
   "outputs": [
    {
     "data": {
      "image/png": "[encoded data removed]",
      "text/plain": [
       "<Figure size 720x216 with 1 Axes>"
      ]
     },
     "metadata": {
      "needs_background": "light"
     },
     "output_type": "display_data"
    }
   ],
   "source": [
    "#xy_1d.spin_viz(save=True, step=0, folder_name='./')\n",
    "#xy_1d.spin_viz_dynamic(spins_list, './beta_700_spins_10')\n",
    "#xy_1d.spin_viz(save=True, step=1000000, folder_name='./')\n",
    "xy_1d.spin_viz()"
   ]
  },
  {
   "cell_type": "code",
   "execution_count": 84,
   "id": "47a40839-af08-43ed-8ae6-7e099db9d9e8",
   "metadata": {},
   "outputs": [
    {
     "data": {
      "application/vnd.jupyter.widget-view+json": {
       "model_id": "30124df771b942fcbf4649a67381824b",
       "version_major": 2,
       "version_minor": 0
      },
      "text/plain": [
       "  0%|          | 0/1000000 [00:00<?, ?it/s]"
      ]
     },
     "metadata": {},
     "output_type": "display_data"
    },
    {
     "name": "stdout",
     "output_type": "stream",
     "text": [
      "iterations are done!\n"
     ]
    }
   ],
   "source": [
    "### sampling stage\n",
    "energy_list = []\n",
    "for i in trange(1000000):\n",
    "    xy_1d.one_step_mcmc_normal()\n",
    "    energy_list.append(xy_1d.energy_compute_grids())\n",
    "print(\"iterations are done!\")"
   ]
  },
  {
   "cell_type": "code",
   "execution_count": 85,
   "id": "7f4cd719-b033-4fe7-8f8c-44b1fee954ce",
   "metadata": {},
   "outputs": [
    {
     "data": {
      "text/plain": [
       "-9.955138270846936"
      ]
     },
     "execution_count": 85,
     "metadata": {},
     "output_type": "execute_result"
    }
   ],
   "source": [
    "np.mean(energy_list)"
   ]
  },
  {
   "cell_type": "code",
   "execution_count": 86,
   "id": "3b9f3286-e4a5-407b-b2f0-3f45e60eef7f",
   "metadata": {},
   "outputs": [
    {
     "data": {
      "text/plain": [
       "0.021216910059073276"
      ]
     },
     "execution_count": 86,
     "metadata": {},
     "output_type": "execute_result"
    }
   ],
   "source": [
    "np.std(energy_list)"
   ]
  },
  {
   "cell_type": "code",
   "execution_count": 87,
   "id": "56a7f11e-288b-413d-8baf-67b966586c47",
   "metadata": {},
   "outputs": [
    {
     "data": {
      "text/plain": [
       "[<matplotlib.lines.Line2D at 0x7fbc537c3c10>]"
      ]
     },
     "execution_count": 87,
     "metadata": {},
     "output_type": "execute_result"
    },
    {
     "data": {
      "image/png": "[encoded data removed]",
      "text/plain": [
       "<Figure size 432x288 with 1 Axes>"
      ]
     },
     "metadata": {
      "needs_background": "light"
     },
     "output_type": "display_data"
    }
   ],
   "source": [
    "plt.title('time_series_of_energy')\n",
    "plt.xlabel('iters', fontsize=5)\n",
    "plt.ylabel('energy', fontsize=5)\n",
    "plt.plot(energy_list)"
   ]
  },
  {
   "cell_type": "markdown",
   "id": "8fd60625-597f-43ff-9905-9bd4ba8e91c9",
   "metadata": {
    "tags": []
   },
   "source": [
    "----\n",
    "### Uniform proposal distribution"
   ]
  },
  {
   "cell_type": "code",
   "execution_count": 5,
   "id": "6bf53ead-7adf-4ecc-9c09-8b5ca88411af",
   "metadata": {},
   "outputs": [],
   "source": [
    "# initialize the 1d xy model\n",
    "length = 10\n",
    "xy_1d = XY_1D(length, beta=10, delta=np.pi, j=1, periodic_cond=False)"
   ]
  },
  {
   "cell_type": "code",
   "execution_count": 6,
   "id": "417a30d4-d851-4127-8913-b5be10d73e51",
   "metadata": {},
   "outputs": [
    {
     "name": "stdout",
     "output_type": "stream",
     "text": [
      "mcmc is done!\n"
     ]
    }
   ],
   "source": [
    "# firing stage\n",
    "xy_1d.mcmc_simple(10000000, prop='unif')\n",
    "print('mcmc is done!')"
   ]
  },
  {
   "cell_type": "code",
   "execution_count": 19,
   "id": "c734698f-ae92-4838-a8e2-b407a7889085",
   "metadata": {},
   "outputs": [
    {
     "data": {
      "application/vnd.jupyter.widget-view+json": {
       "model_id": "ddb25b936f3d438698e5a0b1a1ab887b",
       "version_major": 2,
       "version_minor": 0
      },
      "text/plain": [
       "  0%|          | 0/100 [00:00<?, ?it/s]"
      ]
     },
     "metadata": {},
     "output_type": "display_data"
    },
    {
     "name": "stdout",
     "output_type": "stream",
     "text": [
      "iterations are done!\n"
     ]
    }
   ],
   "source": [
    "### sampling stage\n",
    "energy_mean_list = []\n",
    "for _ in trange(100):\n",
    "    energy_list = []\n",
    "    for i in range(100000):\n",
    "        xy_1d.one_step_mcmc_unif()\n",
    "        energy_list.append(xy_1d.energy_compute_grids())\n",
    "    energy_mean_list.append(np.mean(energy_list))\n",
    "print(\"iterations are done!\")"
   ]
  },
  {
   "cell_type": "code",
   "execution_count": 22,
   "id": "06a47d7b-7012-4936-92af-0476cdc09986",
   "metadata": {},
   "outputs": [
    {
     "data": {
      "text/plain": [
       "-8.538958163217176"
      ]
     },
     "execution_count": 22,
     "metadata": {},
     "output_type": "execute_result"
    }
   ],
   "source": [
    "np.mean(energy_mean_list)"
   ]
  },
  {
   "cell_type": "code",
   "execution_count": 23,
   "id": "bd6a4189-cd41-4d10-93a4-868d77d71ae0",
   "metadata": {},
   "outputs": [
    {
     "data": {
      "text/plain": [
       "0.011021156790028838"
      ]
     },
     "execution_count": 23,
     "metadata": {},
     "output_type": "execute_result"
    }
   ],
   "source": [
    "np.std(energy_mean_list)"
   ]
  },
  {
   "cell_type": "code",
   "execution_count": 57,
   "id": "31ecc6bd-7c21-4264-b0fd-6dc6798b4f26",
   "metadata": {},
   "outputs": [
    {
     "data": {
      "image/png": "[encoded data removed]",
      "text/plain": [
       "<Figure size 720x216 with 1 Axes>"
      ]
     },
     "metadata": {
      "needs_background": "light"
     },
     "output_type": "display_data"
    }
   ],
   "source": [
    "xy_1d.spin_viz()"
   ]
  },
  {
   "cell_type": "markdown",
   "id": "73ea2c8f-6d82-4bbd-941f-29e80fd56769",
   "metadata": {},
   "source": [
    "-----\n",
    "### Non-periodic boundary condition"
   ]
  },
  {
   "cell_type": "code",
   "execution_count": 11,
   "id": "3576c197-e35b-45bf-9bf1-c1ef2e15f3fa",
   "metadata": {},
   "outputs": [],
   "source": [
    "# initialize the 1d xy model\n",
    "length = 20\n",
    "xy_1d = XY_1D(length, beta=20, j=1, periodic_cond=False)"
   ]
  },
  {
   "cell_type": "code",
   "execution_count": 12,
   "id": "51ab10fe-c0a5-4502-b450-5ebdfd498b7b",
   "metadata": {},
   "outputs": [
    {
     "name": "stdout",
     "output_type": "stream",
     "text": [
      "mcmc is done!\n"
     ]
    }
   ],
   "source": [
    "# burning-in stage\n",
    "spins_list = xy_1d.mcmc(3000, show_energy=False, store_period=40, folder_name='firing')\n",
    "print('mcmc is done!')"
   ]
  },
  {
   "cell_type": "code",
   "execution_count": 13,
   "id": "18778762-bf5f-4f28-a196-a3a5d8e458b7",
   "metadata": {},
   "outputs": [
    {
     "data": {
      "image/png": "[encoded data removed]",
      "text/plain": [
       "<Figure size 720x216 with 1 Axes>"
      ]
     },
     "metadata": {
      "needs_background": "light"
     },
     "output_type": "display_data"
    }
   ],
   "source": [
    "xy_1d.spin_viz_dynamic(spins_list, file_name='./mcmc_dynamics', figsize=[10, 3])"
   ]
  },
  {
   "cell_type": "code",
   "execution_count": 14,
   "id": "a2a6fb6e-30d6-4829-8a20-712b9a17fbd2",
   "metadata": {},
   "outputs": [
    {
     "data": {
      "application/vnd.jupyter.widget-view+json": {
       "model_id": "5add87503f1a46cc824cb6054f0daa9a",
       "version_major": 2,
       "version_minor": 0
      },
      "text/plain": [
       "  0%|          | 0/200 [00:00<?, ?it/s]"
      ]
     },
     "metadata": {},
     "output_type": "display_data"
    },
    {
     "name": "stdout",
     "output_type": "stream",
     "text": [
      "iterations are done!\n"
     ]
    }
   ],
   "source": [
    "### sampling stage\n",
    "energy_list = []\n",
    "for i in trange(200):\n",
    "    energy_list.append(xy_1d.mcmc(200, show_energy=False, show_plot=False, energy_accumu=True)[0])\n",
    "print(\"iterations are done!\")"
   ]
  },
  {
   "cell_type": "code",
   "execution_count": 15,
   "id": "5cc1a276-02e5-47a9-a5f3-5f3289428a54",
   "metadata": {},
   "outputs": [
    {
     "data": {
      "text/plain": [
       "[<matplotlib.lines.Line2D at 0x7fc5ecfe35e0>]"
      ]
     },
     "execution_count": 15,
     "metadata": {},
     "output_type": "execute_result"
    },
    {
     "data": {
      "image/png": "[encoded data removed]",
      "text/plain": [
       "<Figure size 432x288 with 1 Axes>"
      ]
     },
     "metadata": {
      "needs_background": "light"
     },
     "output_type": "display_data"
    }
   ],
   "source": [
    "plt.title('time_series_of_energy')\n",
    "plt.xlabel('iters', fontsize=5)\n",
    "plt.ylabel('energy', fontsize=5)\n",
    "plt.plot(energy_list)"
   ]
  },
  {
   "cell_type": "code",
   "execution_count": 16,
   "id": "ea05e007-2338-49ef-9fe0-6f09ee292fbf",
   "metadata": {},
   "outputs": [
    {
     "name": "stdout",
     "output_type": "stream",
     "text": [
      "Step: 1 Energy: -18.42388235217096\t\n",
      "Step: 2 Energy: -18.42318185030433\t\n",
      "Step: 3 Energy: -18.446551660479063\t\n",
      "Step: 4 Energy: -18.449439430686194\t\n",
      "Step: 5 Energy: -18.455414098378967\t\n",
      "Step: 6 Energy: -18.43640158456734\t\n",
      "Step: 7 Energy: -18.451874280156716\t\n",
      "Step: 8 Energy: -18.47550921201508\t\n",
      "Step: 9 Energy: -18.472675338353262\t\n",
      "Step: 10 Energy: -18.46506977930941\t\n",
      "Step: 11 Energy: -18.47123435287993\t\n",
      "Step: 12 Energy: -18.475765267264197\t\n",
      "Step: 13 Energy: -18.44964189989132\t\n",
      "Step: 14 Energy: -18.44800055715852\t\n",
      "Step: 15 Energy: -18.428788417709637\t\n",
      "Step: 16 Energy: -18.376663853460755\t\n",
      "Step: 17 Energy: -18.365963586355917\t\n",
      "Step: 18 Energy: -18.365869437145445\t\n",
      "Step: 19 Energy: -18.370155837252064\t\n",
      "Step: 20 Energy: -18.359852756771684\t\n",
      "Step: 21 Energy: -18.363529357953436\t\n",
      "Step: 22 Energy: -18.354302681551346\t\n",
      "Step: 23 Energy: -18.354706353481948\t\n",
      "Step: 24 Energy: -18.36099130065871\t\n",
      "Step: 25 Energy: -18.36099130065871\t\n",
      "Step: 26 Energy: -18.3626648423049\t\n",
      "Step: 27 Energy: -18.391663791612874\t\n",
      "Step: 28 Energy: -18.406713530176745\t\n",
      "Step: 29 Energy: -18.391430109088034\t\n",
      "Step: 30 Energy: -18.391430109088034\t\n",
      "Step: 31 Energy: -18.387075887456742\t\n",
      "Step: 32 Energy: -18.387075887456742\t\n",
      "Step: 33 Energy: -18.395335370176777\t\n",
      "Step: 34 Energy: -18.3989237182431\t\n",
      "Step: 35 Energy: -18.382948830477353\t\n",
      "Step: 36 Energy: -18.378055685084068\t\n",
      "Step: 37 Energy: -18.37145234295519\t\n",
      "Step: 38 Energy: -18.37549742675372\t\n",
      "Step: 39 Energy: -18.375504262355317\t\n",
      "Step: 40 Energy: -18.37730090523463\t\n",
      "Step: 41 Energy: -18.388239012264524\t\n",
      "Step: 42 Energy: -18.388239012264524\t\n",
      "Step: 43 Energy: -18.388239012264524\t\n",
      "Step: 44 Energy: -18.394618939870753\t\n",
      "Step: 45 Energy: -18.391669346883727\t\n",
      "Step: 46 Energy: -18.383963984050755\t\n",
      "Step: 47 Energy: -18.3874117129965\t\n",
      "Step: 48 Energy: -18.38527732305786\t\n",
      "Step: 49 Energy: -18.38527732305786\t\n",
      "Step: 50 Energy: -18.38527732305786\t\n",
      "Step: 51 Energy: -18.406871871951036\t\n",
      "Step: 52 Energy: -18.404457303785957\t\n",
      "Step: 53 Energy: -18.403235858270623\t\n",
      "Step: 54 Energy: -18.40156767817759\t\n",
      "Step: 55 Energy: -18.3616826912366\t\n",
      "Step: 56 Energy: -18.390340179251037\t\n",
      "Step: 57 Energy: -18.390340179251037\t\n",
      "Step: 58 Energy: -18.386909978319505\t\n",
      "Step: 59 Energy: -18.38909033715076\t\n",
      "Step: 60 Energy: -18.38909033715076\t\n",
      "Step: 61 Energy: -18.345850774919153\t\n",
      "Step: 62 Energy: -18.34704689522039\t\n",
      "Step: 63 Energy: -18.351016421102873\t\n",
      "Step: 64 Energy: -18.350590316442474\t\n",
      "Step: 65 Energy: -18.34839443367264\t\n",
      "Step: 66 Energy: -18.348495050617633\t\n",
      "Step: 67 Energy: -18.34573860882094\t\n",
      "Step: 68 Energy: -18.34573860882094\t\n",
      "Step: 69 Energy: -18.34432704920561\t\n",
      "Step: 70 Energy: -18.34432704920561\t\n",
      "Step: 71 Energy: -18.342659513921447\t\n",
      "Step: 72 Energy: -18.34692034312346\t\n",
      "Step: 73 Energy: -18.350620200241316\t\n",
      "Step: 74 Energy: -18.352930508922668\t\n",
      "Step: 75 Energy: -18.350482092320686\t\n",
      "Step: 76 Energy: -18.35706356336283\t\n",
      "Step: 77 Energy: -18.35706356336283\t\n",
      "Step: 78 Energy: -18.361909863285685\t\n",
      "Step: 79 Energy: -18.361909863285685\t\n",
      "Step: 80 Energy: -18.360234985658156\t\n",
      "Step: 81 Energy: -18.360407459131483\t\n",
      "Step: 82 Energy: -18.36131325858625\t\n",
      "Step: 83 Energy: -18.346798172316376\t\n",
      "Step: 84 Energy: -18.346432835750548\t\n",
      "Step: 85 Energy: -18.341628012584753\t\n",
      "Step: 86 Energy: -18.341628012584753\t\n",
      "Step: 87 Energy: -18.341988023871238\t\n",
      "Step: 88 Energy: -18.33784054269729\t\n",
      "Step: 89 Energy: -18.335922389917773\t\n",
      "Step: 90 Energy: -18.332455193290485\t\n",
      "Step: 91 Energy: -18.332376544926465\t\n",
      "Step: 92 Energy: -18.325676220640396\t\n",
      "Step: 93 Energy: -18.325569411994326\t\n",
      "Step: 94 Energy: -18.31720725851146\t\n",
      "Step: 95 Energy: -18.36195134899001\t\n",
      "Step: 96 Energy: -18.315517998971877\t\n",
      "Step: 97 Energy: -18.318581078891334\t\n",
      "Step: 98 Energy: -18.309081894384065\t\n",
      "Step: 99 Energy: -18.309496014010673\t\n",
      "Step: 100 Energy: -18.309048138049487\t\n"
     ]
    }
   ],
   "source": [
    "spins_list = xy_1d.mcmc(100, show_energy=True, period=2, show_plot=True, folder_name='sampling')"
   ]
  },
  {
   "cell_type": "markdown",
   "id": "bdd4dd78-287c-4346-800a-defbd14c6029",
   "metadata": {},
   "source": [
    "### Size = 5"
   ]
  },
  {
   "cell_type": "code",
   "execution_count": 24,
   "id": "7b1b96c6-0e09-4092-bde3-0005f6f0ab44",
   "metadata": {},
   "outputs": [],
   "source": [
    "# initialize the 1d xy model\n",
    "length = 5\n",
    "xy_1d = XY_1D(length, beta=100, j=1, periodic_cond=False)"
   ]
  },
  {
   "cell_type": "code",
   "execution_count": 25,
   "id": "9da495a8-0465-4b35-a9da-118e385a4694",
   "metadata": {},
   "outputs": [
    {
     "name": "stdout",
     "output_type": "stream",
     "text": [
      "mcmc is done!\n"
     ]
    }
   ],
   "source": [
    "# firing stage\n",
    "spins_list = xy_1d.mcmc(3000, show_energy=False)\n",
    "print('mcmc is done!')"
   ]
  },
  {
   "cell_type": "code",
   "execution_count": 26,
   "id": "473eab90-2e1c-4062-8119-7f32befe97f7",
   "metadata": {},
   "outputs": [
    {
     "data": {
      "image/png": "[encoded data removed]",
      "text/plain": [
       "<Figure size 720x216 with 1 Axes>"
      ]
     },
     "metadata": {
      "needs_background": "light"
     },
     "output_type": "display_data"
    }
   ],
   "source": [
    "xy_1d.spin_viz()"
   ]
  },
  {
   "cell_type": "code",
   "execution_count": 27,
   "id": "3e8b7aa3-e59b-4676-9ffe-1a81dc9a0967",
   "metadata": {},
   "outputs": [
    {
     "data": {
      "text/plain": [
       "-3.9786035878277346"
      ]
     },
     "execution_count": 27,
     "metadata": {},
     "output_type": "execute_result"
    }
   ],
   "source": [
    "xy_1d.energy_compute_grids()"
   ]
  },
  {
   "cell_type": "markdown",
   "id": "989ab57b-5795-476f-bd55-7a7fe8dc5307",
   "metadata": {},
   "source": [
    "### Size = 10"
   ]
  },
  {
   "cell_type": "code",
   "execution_count": 66,
   "id": "b2f4ec34-77bf-439a-ac71-2d80d6bbbac8",
   "metadata": {},
   "outputs": [],
   "source": [
    "# initialize the 1d xy model\n",
    "length = 10\n",
    "xy_1d = XY_1D(length, beta=1000, j=1, periodic_cond=False)"
   ]
  },
  {
   "cell_type": "code",
   "execution_count": 67,
   "id": "1e8b64bf-3729-417f-8f2c-cfc1fbba78f0",
   "metadata": {},
   "outputs": [
    {
     "name": "stdout",
     "output_type": "stream",
     "text": [
      "mcmc is done!\n",
      "it costs us: 65.23547291755676.\n"
     ]
    }
   ],
   "source": [
    "# firing stage\n",
    "time_start = time.time()\n",
    "spins_list = xy_1d.mcmc(500000, show_energy=False)\n",
    "time_end = time.time()\n",
    "print('mcmc is done!')\n",
    "print(f'it costs us: {time_end-time_start}.')"
   ]
  },
  {
   "cell_type": "code",
   "execution_count": 68,
   "id": "1fbf2272-656e-49fc-9c27-7d2e349a27c2",
   "metadata": {},
   "outputs": [
    {
     "data": {
      "image/png": "[encoded data removed]",
      "text/plain": [
       "<Figure size 720x216 with 1 Axes>"
      ]
     },
     "metadata": {
      "needs_background": "light"
     },
     "output_type": "display_data"
    }
   ],
   "source": [
    "xy_1d.spin_viz()"
   ]
  },
  {
   "cell_type": "code",
   "execution_count": 69,
   "id": "a5aeffa3-2748-4c67-bec0-745d6c1604cc",
   "metadata": {},
   "outputs": [],
   "source": [
    "energy_list = []\n",
    "for i in range(10000):\n",
    "    energy_list.append(xy_1d.energy_compute_grids().copy())"
   ]
  },
  {
   "cell_type": "code",
   "execution_count": 70,
   "id": "b1d16c26-a805-460a-8ca6-4eeac5536239",
   "metadata": {},
   "outputs": [
    {
     "name": "stdout",
     "output_type": "stream",
     "text": [
      "average energy of 10000 samples is: -8.995980661436366.\n",
      "std of the energy of 10000 samples is: 3.552713678800501e-15.\n"
     ]
    }
   ],
   "source": [
    "print(f\"average energy of 10000 samples is: {np.mean(energy_list)}.\")\n",
    "print(f\"std of the energy of 10000 samples is: {np.std(energy_list)}.\")"
   ]
  },
  {
   "cell_type": "markdown",
   "id": "d107ed55-2c03-4776-ba97-0a7218ac7591",
   "metadata": {},
   "source": [
    "-----------------"
   ]
  },
  {
   "cell_type": "markdown",
   "id": "e6a6541f-42d0-4b22-b782-b6c49960394b",
   "metadata": {},
   "source": [
    "## size = 10 and beta = 200"
   ]
  },
  {
   "cell_type": "code",
   "execution_count": 71,
   "id": "7742fa31-3d5a-44d9-8828-32b7ca8741d1",
   "metadata": {},
   "outputs": [],
   "source": [
    "# initialize the 1d xy model\n",
    "length = 10\n",
    "xy_1d = XY_1D(length, beta=200, j=1, periodic_cond=False)"
   ]
  },
  {
   "cell_type": "code",
   "execution_count": 72,
   "id": "097e03a9-ffc5-447b-bd92-7b4971c64071",
   "metadata": {},
   "outputs": [
    {
     "name": "stdout",
     "output_type": "stream",
     "text": [
      "mcmc is done!\n",
      "it costs us: 68.78284764289856.\n"
     ]
    }
   ],
   "source": [
    "# firing stage\n",
    "time_start = time.time()\n",
    "spins_list = xy_1d.mcmc(500000, show_energy=False)\n",
    "time_end = time.time()\n",
    "print('mcmc is done!')\n",
    "print(f'it costs us: {time_end-time_start}.')"
   ]
  },
  {
   "cell_type": "code",
   "execution_count": 73,
   "id": "a2131e01-f865-43c3-8ed0-af297760bdd4",
   "metadata": {},
   "outputs": [
    {
     "data": {
      "image/png": "[encoded data removed]",
      "text/plain": [
       "<Figure size 720x216 with 1 Axes>"
      ]
     },
     "metadata": {
      "needs_background": "light"
     },
     "output_type": "display_data"
    }
   ],
   "source": [
    "xy_1d.spin_viz()"
   ]
  },
  {
   "cell_type": "code",
   "execution_count": 74,
   "id": "de5e5672-a7ef-43ce-8929-9e24e0f7e3d4",
   "metadata": {},
   "outputs": [],
   "source": [
    "energy_list = []\n",
    "for i in range(10000):\n",
    "    energy_list.append(xy_1d.energy_compute_grids().copy())"
   ]
  },
  {
   "cell_type": "code",
   "execution_count": 75,
   "id": "c5d98bdd-2577-4f41-aa99-6832fbc1af39",
   "metadata": {},
   "outputs": [
    {
     "name": "stdout",
     "output_type": "stream",
     "text": [
      "average energy of 10000 samples is: -8.969501764275693.\n",
      "std of the energy of 10000 samples is: 0.0.\n"
     ]
    }
   ],
   "source": [
    "print(f\"average energy of 10000 samples is: {np.mean(energy_list)}.\")\n",
    "print(f\"std of the energy of 10000 samples is: {np.std(energy_list)}.\")"
   ]
  },
  {
   "cell_type": "code",
   "execution_count": 4,
   "id": "45182454-5db2-44ec-9183-888a3181e296",
   "metadata": {},
   "outputs": [
    {
     "data": {
      "text/plain": [
       "2.544564749666145"
      ]
     },
     "execution_count": 4,
     "metadata": {},
     "output_type": "execute_result"
    }
   ],
   "source": [
    "np.random.uniform(0, np.pi)"
   ]
  },
  {
   "cell_type": "markdown",
   "id": "6cd6a5f5-4cbe-4371-8186-f7a3571c58dc",
   "metadata": {},
   "source": [
    "------\n",
    "### Get the results in different temperatures"
   ]
  },
  {
   "cell_type": "code",
   "execution_count": 88,
   "id": "6ad94dcf-e655-4391-bf40-9bdee1283b17",
   "metadata": {},
   "outputs": [],
   "source": [
    "temp_list = [0.1 + 0.5 * i for i in range(10)]\n",
    "beta_list = [1 / temp for temp in temp_list]\n",
    "length = 20"
   ]
  },
  {
   "cell_type": "code",
   "execution_count": 89,
   "id": "ed885a4f-d470-4c4e-9c9c-c56bb6a4c89c",
   "metadata": {},
   "outputs": [
    {
     "data": {
      "application/vnd.jupyter.widget-view+json": {
       "model_id": "ac9dd69315f946f6ac8854dfe8b1a5b7",
       "version_major": 2,
       "version_minor": 0
      },
      "text/plain": [
       "  0%|          | 0/10 [00:00<?, ?it/s]"
      ]
     },
     "metadata": {},
     "output_type": "display_data"
    },
    {
     "name": "stdout",
     "output_type": "stream",
     "text": [
      "burning stage is done!\n"
     ]
    },
    {
     "data": {
      "application/vnd.jupyter.widget-view+json": {
       "model_id": "7f572636f5034955856c7a3b8d40615f",
       "version_major": 2,
       "version_minor": 0
      },
      "text/plain": [
       "  0%|          | 0/400000 [00:00<?, ?it/s]"
      ]
     },
     "metadata": {},
     "output_type": "display_data"
    },
    {
     "name": "stdout",
     "output_type": "stream",
     "text": [
      "iterations are done!\n",
      "burning stage is done!\n"
     ]
    },
    {
     "data": {
      "application/vnd.jupyter.widget-view+json": {
       "model_id": "1dd06107efe541dc9784624bbdc3ba44",
       "version_major": 2,
       "version_minor": 0
      },
      "text/plain": [
       "  0%|          | 0/400000 [00:00<?, ?it/s]"
      ]
     },
     "metadata": {},
     "output_type": "display_data"
    },
    {
     "name": "stdout",
     "output_type": "stream",
     "text": [
      "iterations are done!\n",
      "burning stage is done!\n"
     ]
    },
    {
     "data": {
      "application/vnd.jupyter.widget-view+json": {
       "model_id": "6fbaf51f658846b2bd6ce41ac3f9a526",
       "version_major": 2,
       "version_minor": 0
      },
      "text/plain": [
       "  0%|          | 0/400000 [00:00<?, ?it/s]"
      ]
     },
     "metadata": {},
     "output_type": "display_data"
    },
    {
     "name": "stdout",
     "output_type": "stream",
     "text": [
      "iterations are done!\n",
      "burning stage is done!\n"
     ]
    },
    {
     "data": {
      "application/vnd.jupyter.widget-view+json": {
       "model_id": "961ef5bc24094f9db742a956c6036bf4",
       "version_major": 2,
       "version_minor": 0
      },
      "text/plain": [
       "  0%|          | 0/400000 [00:00<?, ?it/s]"
      ]
     },
     "metadata": {},
     "output_type": "display_data"
    },
    {
     "name": "stdout",
     "output_type": "stream",
     "text": [
      "iterations are done!\n",
      "burning stage is done!\n"
     ]
    },
    {
     "data": {
      "application/vnd.jupyter.widget-view+json": {
       "model_id": "fc1316cc36d045a2a09fdb7419b67cd7",
       "version_major": 2,
       "version_minor": 0
      },
      "text/plain": [
       "  0%|          | 0/400000 [00:00<?, ?it/s]"
      ]
     },
     "metadata": {},
     "output_type": "display_data"
    },
    {
     "name": "stdout",
     "output_type": "stream",
     "text": [
      "iterations are done!\n",
      "burning stage is done!\n"
     ]
    },
    {
     "data": {
      "application/vnd.jupyter.widget-view+json": {
       "model_id": "fccb275f62a84495b4811104a80e8e7a",
       "version_major": 2,
       "version_minor": 0
      },
      "text/plain": [
       "  0%|          | 0/400000 [00:00<?, ?it/s]"
      ]
     },
     "metadata": {},
     "output_type": "display_data"
    },
    {
     "name": "stdout",
     "output_type": "stream",
     "text": [
      "iterations are done!\n",
      "burning stage is done!\n"
     ]
    },
    {
     "data": {
      "application/vnd.jupyter.widget-view+json": {
       "model_id": "a4b0a9ce8e3641afa912c78734ebfa25",
       "version_major": 2,
       "version_minor": 0
      },
      "text/plain": [
       "  0%|          | 0/400000 [00:00<?, ?it/s]"
      ]
     },
     "metadata": {},
     "output_type": "display_data"
    },
    {
     "name": "stdout",
     "output_type": "stream",
     "text": [
      "iterations are done!\n",
      "burning stage is done!\n"
     ]
    },
    {
     "data": {
      "application/vnd.jupyter.widget-view+json": {
       "model_id": "944acac61d2143a08c809205eca5feb5",
       "version_major": 2,
       "version_minor": 0
      },
      "text/plain": [
       "  0%|          | 0/400000 [00:00<?, ?it/s]"
      ]
     },
     "metadata": {},
     "output_type": "display_data"
    },
    {
     "name": "stdout",
     "output_type": "stream",
     "text": [
      "iterations are done!\n",
      "burning stage is done!\n"
     ]
    },
    {
     "data": {
      "application/vnd.jupyter.widget-view+json": {
       "model_id": "4184ca3526d7470582e949ad7d0f258b",
       "version_major": 2,
       "version_minor": 0
      },
      "text/plain": [
       "  0%|          | 0/400000 [00:00<?, ?it/s]"
      ]
     },
     "metadata": {},
     "output_type": "display_data"
    },
    {
     "name": "stdout",
     "output_type": "stream",
     "text": [
      "iterations are done!\n",
      "burning stage is done!\n"
     ]
    },
    {
     "data": {
      "application/vnd.jupyter.widget-view+json": {
       "model_id": "49c5db04e9bd4328ad2a83000c10da10",
       "version_major": 2,
       "version_minor": 0
      },
      "text/plain": [
       "  0%|          | 0/400000 [00:00<?, ?it/s]"
      ]
     },
     "metadata": {},
     "output_type": "display_data"
    },
    {
     "name": "stdout",
     "output_type": "stream",
     "text": [
      "iterations are done!\n"
     ]
    }
   ],
   "source": [
    "energy_mean_list, energy_std_list = [], []\n",
    "for i in trange(10):\n",
    "    beta = beta_list[i]\n",
    "    xy_1d = XY_1D(length=length, beta=beta, delta=0.1, j=1, periodic_cond=False)\n",
    "    spins_list = xy_1d.mcmc_simple(10000000)\n",
    "    print('burning stage is done!')\n",
    "    energy_list = []\n",
    "    for i in trange(400000):\n",
    "        xy_1d.one_step_mcmc_normal()\n",
    "        energy_list.append(xy_1d.energy_compute_grids() / length)\n",
    "    print(\"iterations are done!\")\n",
    "    energy_mean_list.append(np.mean(energy_list))\n",
    "    energy_std_list.append(np.std(energy_list))"
   ]
  },
  {
   "cell_type": "code",
   "execution_count": 90,
   "id": "10d89be9-9f73-49f2-8b4d-4a5a3f53895e",
   "metadata": {},
   "outputs": [
    {
     "data": {
      "text/plain": [
       "[-0.8996678945753769,\n",
       " -0.6158646990457938,\n",
       " -0.43142437847318915,\n",
       " -0.3022974111296847,\n",
       " -0.2347608132787817,\n",
       " -0.198394085996128,\n",
       " -0.18876477847668127,\n",
       " -0.16293020262094854,\n",
       " -0.12567838275006274,\n",
       " -0.14302111326447628]"
      ]
     },
     "execution_count": 90,
     "metadata": {},
     "output_type": "execute_result"
    }
   ],
   "source": [
    "energy_mean_list"
   ]
  },
  {
   "cell_type": "code",
   "execution_count": 91,
   "id": "411f4ac8-0ef6-41f8-a528-20435198e896",
   "metadata": {},
   "outputs": [
    {
     "data": {
      "text/plain": [
       "[0.01665739600819881,\n",
       " 0.10506815139956212,\n",
       " 0.12501478830545681,\n",
       " 0.13845508163832893,\n",
       " 0.15343886319497083,\n",
       " 0.14868464484547872,\n",
       " 0.14488457610722258,\n",
       " 0.15659816246901487,\n",
       " 0.14021286500938682,\n",
       " 0.15812880109221872]"
      ]
     },
     "execution_count": 91,
     "metadata": {},
     "output_type": "execute_result"
    }
   ],
   "source": [
    "energy_std_list"
   ]
  },
  {
   "cell_type": "code",
   "execution_count": 24,
   "id": "63cc3e1d-3bf9-4d00-b526-a2c818e157ce",
   "metadata": {},
   "outputs": [],
   "source": [
    "from scipy.special import iv"
   ]
  },
  {
   "cell_type": "code",
   "execution_count": 92,
   "id": "2d75d26d-59af-4843-ab52-be39c4c666c5",
   "metadata": {},
   "outputs": [],
   "source": [
    "def energy_by_z(beta, j, size):\n",
    "    energy = -(size - 1) * j / iv(0, beta*j) * iv(-1, beta*j) \n",
    "    energy_per_spin = energy / size\n",
    "    return energy_per_spin"
   ]
  },
  {
   "cell_type": "code",
   "execution_count": 93,
   "id": "7aa9bab7-df8b-42c4-abef-eec80440c8bd",
   "metadata": {},
   "outputs": [],
   "source": [
    "energy_z_list = []\n",
    "for beta in beta_list:\n",
    "    energy_z_list.append(energy_by_z(beta, 1, length))"
   ]
  },
  {
   "cell_type": "code",
   "execution_count": 95,
   "id": "0afb3b13-0004-4491-a3c7-1a6ed90c417f",
   "metadata": {},
   "outputs": [
    {
     "data": {
      "text/plain": [
       "[-0.8996678945753769,\n",
       " -0.6158646990457938,\n",
       " -0.43142437847318915,\n",
       " -0.3022974111296847,\n",
       " -0.2347608132787817,\n",
       " -0.198394085996128,\n",
       " -0.18876477847668127,\n",
       " -0.16293020262094854,\n",
       " -0.12567838275006274,\n",
       " -0.14302111326447628]"
      ]
     },
     "execution_count": 95,
     "metadata": {},
     "output_type": "execute_result"
    }
   ],
   "source": [
    "energy_mean_list"
   ]
  },
  {
   "cell_type": "code",
   "execution_count": 94,
   "id": "e459e981-dc56-4a60-92a4-4c5971dc1ab8",
   "metadata": {},
   "outputs": [
    {
     "data": {
      "text/plain": [
       "<matplotlib.legend.Legend at 0x7fbc51fb6850>"
      ]
     },
     "execution_count": 94,
     "metadata": {},
     "output_type": "execute_result"
    },
    {
     "data": {
      "image/png": "[encoded data removed]",
      "text/plain": [
       "<Figure size 432x288 with 1 Axes>"
      ]
     },
     "metadata": {
      "needs_background": "light"
     },
     "output_type": "display_data"
    }
   ],
   "source": [
    "plt.plot(energy_z_list, '--', label='z')\n",
    "plt.plot(energy_mean_list, 'o', label='metropolis')\n",
    "plt.xlabel('Temperature')\n",
    "plt.ylabel('Energy_per_spin')\n",
    "plt.legend()\n",
    "plt.title("
   ]
  },
  {
   "cell_type": "code",
   "execution_count": null,
   "id": "fe1dbc12-71ae-4119-99ab-839154ca3259",
   "metadata": {},
   "outputs": [],
   "source": []
  }
 ],
 "metadata": {
  "kernelspec": {
   "display_name": "Python 3 (ipykernel)",
   "language": "python",
   "name": "python3"
  },
  "language_info": {
   "codemirror_mode": {
    "name": "ipython",
    "version": 3
   },
   "file_extension": ".py",
   "mimetype": "text/x-python",
   "name": "python",
   "nbconvert_exporter": "python",
   "pygments_lexer": "ipython3",
   "version": "3.9.7"
  }
 },
 "nbformat": 4,
 "nbformat_minor": 5
}
