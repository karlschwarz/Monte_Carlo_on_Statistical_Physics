{
 "cells": [
  {
   "cell_type": "markdown",
   "id": "97f5832c-b703-4284-b959-3eab5f0dc7d6",
   "metadata": {
    "tags": []
   },
   "source": [
    "# Metropolis of 1d XY model "
   ]
  },
  {
   "cell_type": "code",
   "execution_count": 2,
   "id": "9c60d9f1-af92-4cb0-8ed6-7e95d705a90f",
   "metadata": {},
   "outputs": [],
   "source": [
    "import numpy as np\n",
    "import matplotlib.pyplot as plt\n",
    "from tqdm.auto import trange"
   ]
  },
  {
   "cell_type": "code",
   "execution_count": 83,
   "id": "80a86b98-8eb6-4bf7-a828-f7f18d85bc68",
   "metadata": {},
   "outputs": [],
   "source": [
    "class XY_1D:\n",
    "    def __init__(self, length, delta=0.1, beta=1, j = 1, periodic_cond=True, seed = 0):\n",
    "        np.random.seed(seed)\n",
    "        self.length = length\n",
    "        self.delta = delta\n",
    "        self.beta = beta\n",
    "        self.j = j\n",
    "        self.periodic_cond = periodic_cond\n",
    "        self.grids_init()\n",
    "        \n",
    "    def grids_init(self):      \n",
    "        self.grids = np.random.uniform(-np.pi, np.pi, self.length)\n",
    "        \n",
    "    def energy_compute_one_grid(self, id_grid, theta_grid):\n",
    "        if self.periodic_cond:\n",
    "            left_neibor = (id_grid - 1) % self.length\n",
    "            right_neibor = (id_grid + 1) % self.length\n",
    "            e_left = np.cos(self.grids[left_neibor] - theta_grid)\n",
    "            e_right = np.cos(theta_grid - self.grids[right_neibor])\n",
    "            energy = e_left + e_right\n",
    "            return energy\n",
    "        \n",
    "        else:\n",
    "            if id_grid == 0:\n",
    "                return -self.j * np.cos(theta_grid - self.grids[id_grid+1])\n",
    "            \n",
    "            elif id_grid == self.length - 1:\n",
    "                return -self.j * np.cos(theta_grid - self.grids[id_grid-1])\n",
    "            \n",
    "            else:\n",
    "                e_left = -self.j * np.cos(self.grids[id_grid-1] - theta_grid)\n",
    "                e_right = -self.j * np.cos(theta_grid - self.grids[id_grid+1])\n",
    "                energy = e_left + e_right\n",
    "                return energy\n",
    "    \n",
    "    def energy_compute_grids(self):\n",
    "        energy_total = 0\n",
    "        for i in range(self.length-1):\n",
    "            energy_i = -self.j * np.cos(self.grids[i] - self.grids[i+1])\n",
    "            energy_total += energy_i\n",
    "        return energy_total\n",
    "    \n",
    "    def one_step_mcmc(self):\n",
    "        id_random = np.random.randint(self.length)\n",
    "        theta_id = self.grids[id_random]\n",
    "        theta_random = np.random.normal(theta_id, self.delta)\n",
    "        energy_old = self.energy_compute_one_grid(id_random, theta_id)\n",
    "        energy_new = self.energy_compute_one_grid(id_random, theta_random)\n",
    "        energy_delta = energy_new - energy_old\n",
    "        prob_accept = min(np.exp(-self.beta * energy_delta), 1)\n",
    "        if np.random.uniform(0, 1) < prob_accept:\n",
    "            self.grids[id_random] = theta_random\n",
    "            return energy_new\n",
    "        else:\n",
    "            return energy_old\n",
    "            \n",
    "    def mcmc(self, step, show_energy=True, energy_accumu=False):\n",
    "        energy_list = []\n",
    "        for i in range(step):\n",
    "            self.one_step_mcmc()\n",
    "            energy_total = self.energy_compute_grids()\n",
    "            energy_list.append(energy_total)\n",
    "            print_template = \"Step: {step} Energy: {energy}\\t\"\n",
    "            if show_energy:\n",
    "                print(print_template.format(step=i+1, energy=energy_total))  \n",
    "        if energy_accumu:\n",
    "            return np.mean(energy_list)\n",
    "            \n",
    "    def spin_vis(self, figsize=(10, 3)):\n",
    "        plt.figure(figsize=figsize)\n",
    "        x, y = np.meshgrid(np.arange(0, self.length), 0)\n",
    "        u = np.cos(self.grids)\n",
    "        v = np.sin(self.grids)\n",
    "        q = plt.quiver(x, y, u, v, units='width')\n",
    "        plt.axis('off')\n",
    "        plt.title('T={:.3f}, spins={}'.format(1/self.beta, self.length), fontsize=10)"
   ]
  },
  {
   "cell_type": "markdown",
   "id": "4a4ab6f8-69bc-4337-95b3-f7055e74e12c",
   "metadata": {
    "tags": []
   },
   "source": [
    "### Test of our model"
   ]
  },
  {
   "cell_type": "code",
   "execution_count": 143,
   "id": "fee5b6ce-4b9c-4ebf-9660-d6ab4b4aff90",
   "metadata": {},
   "outputs": [],
   "source": [
    "# initialize the 1d xy model\n",
    "length = 10\n",
    "xy_1d = XY_1D(length, beta=20, j=1, periodic_cond=True)"
   ]
  },
  {
   "cell_type": "code",
   "execution_count": 145,
   "id": "48454625-2b73-49a7-8c79-1e57b014f206",
   "metadata": {},
   "outputs": [],
   "source": [
    "delta = 0.1\n",
    "xy_1d.mcmc(2000, show_energy=False)"
   ]
  },
  {
   "cell_type": "code",
   "execution_count": 146,
   "id": "9aee0a0a-1751-49a3-8fe1-776393235c74",
   "metadata": {},
   "outputs": [
    {
     "data": {
      "application/vnd.jupyter.widget-view+json": {
       "model_id": "5c783082ab464df18206cc83876e97e5",
       "version_major": 2,
       "version_minor": 0
      },
      "text/plain": [
       "  0%|          | 0/10000 [00:00<?, ?it/s]"
      ]
     },
     "metadata": {},
     "output_type": "display_data"
    }
   ],
   "source": [
    "energy_list = []\n",
    "for i in trange(10000):\n",
    "    energy_list.append(xy_1d.mcmc(100, show_energy=False, energy_accumu=True))"
   ]
  },
  {
   "cell_type": "code",
   "execution_count": 147,
   "id": "6835052d-33fd-4d69-9aeb-4c4c7d3a15e9",
   "metadata": {},
   "outputs": [
    {
     "data": {
      "text/plain": [
       "[<matplotlib.lines.Line2D at 0x7f60d15d6c10>]"
      ]
     },
     "execution_count": 147,
     "metadata": {},
     "output_type": "execute_result"
    },
    {
     "data": {
      "image/png": "[encoded data removed]",
      "text/plain": [
       "<Figure size 432x288 with 1 Axes>"
      ]
     },
     "metadata": {
      "needs_background": "light"
     },
     "output_type": "display_data"
    }
   ],
   "source": [
    "plt.plot(energy_list)"
   ]
  },
  {
   "cell_type": "code",
   "execution_count": 152,
   "id": "853e24a1-4b03-4337-93aa-81b8fe615db5",
   "metadata": {},
   "outputs": [
    {
     "data": {
      "image/png": "[encoded data removed]",
      "text/plain": [
       "<Figure size 720x216 with 1 Axes>"
      ]
     },
     "metadata": {
      "needs_background": "light"
     },
     "output_type": "display_data"
    }
   ],
   "source": [
    "xy_1d.spin_vis()"
   ]
  },
  {
   "cell_type": "code",
   "execution_count": null,
   "id": "73a63287-7e90-4140-9ae2-a667e98450bf",
   "metadata": {},
   "outputs": [],
   "source": []
  }
 ],
 "metadata": {
  "kernelspec": {
   "display_name": "Python 3 (ipykernel)",
   "language": "python",
   "name": "python3"
  },
  "language_info": {
   "codemirror_mode": {
    "name": "ipython",
    "version": 3
   },
   "file_extension": ".py",
   "mimetype": "text/x-python",
   "name": "python",
   "nbconvert_exporter": "python",
   "pygments_lexer": "ipython3",
   "version": "3.9.7"
  }
 },
 "nbformat": 4,
 "nbformat_minor": 5
}
