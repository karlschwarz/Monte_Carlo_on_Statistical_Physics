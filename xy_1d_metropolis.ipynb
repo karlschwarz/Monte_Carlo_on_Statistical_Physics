{
 "cells": [
  {
   "cell_type": "markdown",
   "id": "97f5832c-b703-4284-b959-3eab5f0dc7d6",
   "metadata": {
    "tags": []
   },
   "source": [
    "# Metropolis of 1d XY model "
   ]
  },
  {
   "cell_type": "code",
   "execution_count": 1,
   "id": "9c60d9f1-af92-4cb0-8ed6-7e95d705a90f",
   "metadata": {},
   "outputs": [],
   "source": [
    "import numpy as np\n",
    "import matplotlib.pyplot as plt\n",
    "from tqdm.auto import trange"
   ]
  },
  {
   "cell_type": "code",
   "execution_count": 2,
   "id": "def6cf98-ed1e-4d84-86f8-42a758b07bb0",
   "metadata": {},
   "outputs": [],
   "source": [
    "from matplotlib import animation"
   ]
  },
  {
   "cell_type": "code",
   "execution_count": 3,
   "id": "352d932b-06c2-472b-998d-71ea96df7a79",
   "metadata": {},
   "outputs": [],
   "source": [
    "import copy"
   ]
  },
  {
   "cell_type": "code",
   "execution_count": 250,
   "id": "80a86b98-8eb6-4bf7-a828-f7f18d85bc68",
   "metadata": {},
   "outputs": [],
   "source": [
    "class XY_1D:\n",
    "    def __init__(self, length, delta=0.1, beta=1, j = 1, periodic_cond=True, seed = 0):\n",
    "        np.random.seed(seed)\n",
    "        self.length = length\n",
    "        self.delta = delta\n",
    "        self.beta = beta\n",
    "        self.j = j\n",
    "        self.periodic_cond = periodic_cond\n",
    "        self.grids_init()\n",
    "        \n",
    "    def grids_init(self):      \n",
    "        self.grids = np.random.uniform(-np.pi, np.pi, self.length)\n",
    "        \n",
    "    def energy_compute_one_grid(self, id_grid, theta_grid):\n",
    "        if self.periodic_cond:\n",
    "            left_neibor = (id_grid - 1) % self.length\n",
    "            right_neibor = (id_grid + 1) % self.length\n",
    "            e_left = np.cos(self.grids[left_neibor] - theta_grid)\n",
    "            e_right = np.cos(theta_grid - self.grids[right_neibor])\n",
    "            energy = e_left + e_right\n",
    "            return energy\n",
    "        \n",
    "        else:\n",
    "            if id_grid == 0:\n",
    "                return -self.j * np.cos(theta_grid - self.grids[id_grid+1])\n",
    "            \n",
    "            elif id_grid == self.length - 1:\n",
    "                return -self.j * np.cos(theta_grid - self.grids[id_grid-1])\n",
    "            \n",
    "            else:\n",
    "                e_left = -self.j * np.cos(self.grids[id_grid-1] - theta_grid)\n",
    "                e_right = -self.j * np.cos(theta_grid - self.grids[id_grid+1])\n",
    "                energy = e_left + e_right\n",
    "                return energy\n",
    "    \n",
    "    def energy_compute_grids(self):\n",
    "        energy_total = 0\n",
    "        for i in range(self.length-1):\n",
    "            energy_i = -self.j * np.cos(self.grids[i] - self.grids[i+1])\n",
    "            energy_total += energy_i\n",
    "        return energy_total\n",
    "    \n",
    "    def one_step_mcmc(self):\n",
    "        id_random = np.random.randint(self.length)\n",
    "        theta_id = self.grids[id_random]\n",
    "        theta_random = np.random.normal(theta_id, self.delta)\n",
    "        energy_old = self.energy_compute_one_grid(id_random, theta_id)\n",
    "        energy_new = self.energy_compute_one_grid(id_random, theta_random)\n",
    "        energy_delta = energy_new - energy_old\n",
    "        prob_accept = min(np.exp(-self.beta * energy_delta), 1)\n",
    "        if np.random.uniform(0, 1) < prob_accept:\n",
    "            self.grids[id_random] = theta_random\n",
    "            return energy_new\n",
    "        else:\n",
    "            return energy_old\n",
    "            \n",
    "    def mcmc(self, step, show_energy=True, show_plot=True, period=100, store_period=100, energy_accumu=False, folder_name=None):\n",
    "        energy_list, spins_list = [], []\n",
    "        for i in range(step):\n",
    "            self.one_step_mcmc()\n",
    "            energy_total = self.energy_compute_grids()\n",
    "            energy_list.append(energy_total)\n",
    "            print_template = \"Step: {step} Energy: {energy}\\t\"\n",
    "            if show_energy:\n",
    "                print(print_template.format(step=i+1, energy=energy_total))  \n",
    "            if show_plot and i % period == 0:\n",
    "                self.spin_viz(save=True, step=i, folder_name=folder_name)\n",
    "            if i % store_period == 0:\n",
    "                spins_list.append(self.grids.copy())\n",
    "        if energy_accumu:\n",
    "            return np.mean(energy_list), spins_list\n",
    "        else:\n",
    "            return spins_list\n",
    "        \n",
    "    def spin_viz_dynamic(self, spins_list, file_name, figsize=(10, 3)):\n",
    "        fig = plt.figure(figsize=figsize)\n",
    "        x, y = np.meshgrid(np.arange(0, self.length), 0)\n",
    "        u = np.cos(spins_list[0])\n",
    "        v = np.sin(spins_list[0])\n",
    "        q = plt.quiver(x, y, u, v, scale=20, width=0.01, headlength=3, headwidth=2, headaxislength=3, minshaft=3)\n",
    "        plt.axis('off')\n",
    "        plt.title('T={:.3f}, spins={}'.format(1/self.beta, self.length), fontsize=20)            \n",
    "        def update_quiver(num, q):\n",
    "            u = np.cos(spins_list[num+1])\n",
    "            v = np.sin(spins_list[num+1])\n",
    "            q.set_UVC(u, v)\n",
    "            return q\n",
    "        frames = len(spins_list) - 1\n",
    "        self.anim = animation.FuncAnimation(fig, update_quiver, frames=frames, \n",
    "                                       fargs=(q, ), interval=50, repeat=False)\n",
    "        writergif = animation.PillowWriter(fps=100) \n",
    "        self.anim.save(f'./{file_name}.gif', writer=writergif)\n",
    "        \n",
    "    def spin_viz(self, figsize=(10, 3), save=False, step=None, folder_name=None):\n",
    "        fig = plt.figure(figsize=figsize)\n",
    "        x, y = np.meshgrid(np.arange(0, self.length), 0)\n",
    "        u = np.cos(self.grids)\n",
    "        v = np.sin(self.grids)\n",
    "        q = plt.quiver(x, y, u, v, units='width')\n",
    "        plt.axis('off')\n",
    "        plt.title('T={:.3f}, spins={}'.format(1/self.beta, self.length), fontsize=10)\n",
    "        if save and step is not None:\n",
    "            plt.savefig(f'./{folder_name}/config_plot_step_{step}.pdf', dpi=100)\n",
    "        plt.close(fig)"
   ]
  },
  {
   "cell_type": "markdown",
   "id": "4a4ab6f8-69bc-4337-95b3-f7055e74e12c",
   "metadata": {
    "tags": []
   },
   "source": [
    "### Test of our model"
   ]
  },
  {
   "cell_type": "code",
   "execution_count": 251,
   "id": "fee5b6ce-4b9c-4ebf-9660-d6ab4b4aff90",
   "metadata": {},
   "outputs": [],
   "source": [
    "# initialize the 1d xy model\n",
    "length = 20\n",
    "xy_1d = XY_1D(length, beta=20, j=1, periodic_cond=True)"
   ]
  },
  {
   "cell_type": "code",
   "execution_count": 252,
   "id": "48454625-2b73-49a7-8c79-1e57b014f206",
   "metadata": {},
   "outputs": [
    {
     "name": "stdout",
     "output_type": "stream",
     "text": [
      "mcmc is done!\n"
     ]
    }
   ],
   "source": [
    "# firing stage\n",
    "spins_list = xy_1d.mcmc(3000, show_energy=False, store_period=40, folder_name='firing')\n",
    "print('mcmc is done!')"
   ]
  },
  {
   "cell_type": "code",
   "execution_count": 253,
   "id": "e5baec36-b577-409b-bfbf-3407fcfba7a7",
   "metadata": {},
   "outputs": [
    {
     "data": {
      "image/png": "[encoded data removed]",
      "text/plain": [
       "<Figure size 720x216 with 1 Axes>"
      ]
     },
     "metadata": {
      "needs_background": "light"
     },
     "output_type": "display_data"
    }
   ],
   "source": [
    "xy_1d.spin_viz_dynamic(spins_list, file_name='./mcmc_dynamics', figsize=[10, 3])"
   ]
  },
  {
   "cell_type": "code",
   "execution_count": 255,
   "id": "47a40839-af08-43ed-8ae6-7e099db9d9e8",
   "metadata": {},
   "outputs": [
    {
     "data": {
      "application/vnd.jupyter.widget-view+json": {
       "model_id": "8c15e1e600d74966b0118342ded4007b",
       "version_major": 2,
       "version_minor": 0
      },
      "text/plain": [
       "  0%|          | 0/200 [00:00<?, ?it/s]"
      ]
     },
     "metadata": {},
     "output_type": "display_data"
    },
    {
     "name": "stdout",
     "output_type": "stream",
     "text": [
      "iterations are done!\n"
     ]
    }
   ],
   "source": [
    "### sampling stage\n",
    "energy_list = []\n",
    "for i in trange(200):\n",
    "    energy_list.append(xy_1d.mcmc(200, show_energy=False, show_plot=False, energy_accumu=True)[0])\n",
    "print(\"iterations are done!\")"
   ]
  },
  {
   "cell_type": "code",
   "execution_count": 256,
   "id": "56a7f11e-288b-413d-8baf-67b966586c47",
   "metadata": {},
   "outputs": [
    {
     "data": {
      "text/plain": [
       "[<matplotlib.lines.Line2D at 0x7fcc64dfbb50>]"
      ]
     },
     "execution_count": 256,
     "metadata": {},
     "output_type": "execute_result"
    },
    {
     "data": {
      "image/png": "[encoded data removed]",
      "text/plain": [
       "<Figure size 432x288 with 1 Axes>"
      ]
     },
     "metadata": {
      "needs_background": "light"
     },
     "output_type": "display_data"
    }
   ],
   "source": [
    "plt.title('time_series_of_energy')\n",
    "plt.xlabel('iters', fontsize=5)\n",
    "plt.ylabel('energy', fontsize=5)\n",
    "plt.plot(energy_list)"
   ]
  },
  {
   "cell_type": "code",
   "execution_count": 257,
   "id": "15e0120f-034d-49db-8035-5528cf01ff1d",
   "metadata": {},
   "outputs": [
    {
     "name": "stdout",
     "output_type": "stream",
     "text": [
      "Step: 1 Energy: 17.907730721154362\t\n",
      "Step: 2 Energy: 17.895364007305762\t\n",
      "Step: 3 Energy: 17.895758994604314\t\n",
      "Step: 4 Energy: 17.8876923222613\t\n",
      "Step: 5 Energy: 17.885347428195015\t\n",
      "Step: 6 Energy: 17.8926098304058\t\n",
      "Step: 7 Energy: 17.78446841371776\t\n",
      "Step: 8 Energy: 17.78446841371776\t\n",
      "Step: 9 Energy: 17.785381830656632\t\n",
      "Step: 10 Energy: 17.785381830656632\t\n",
      "Step: 11 Energy: 17.78105080753854\t\n",
      "Step: 12 Energy: 17.782181324357275\t\n",
      "Step: 13 Energy: 17.773658454622964\t\n",
      "Step: 14 Energy: 17.745200986319215\t\n",
      "Step: 15 Energy: 17.746192783012326\t\n",
      "Step: 16 Energy: 17.620948169751117\t\n",
      "Step: 17 Energy: 17.620340284602168\t\n",
      "Step: 18 Energy: 17.620340284602168\t\n",
      "Step: 19 Energy: 17.628568722810584\t\n",
      "Step: 20 Energy: 17.628568722810584\t\n",
      "Step: 21 Energy: 17.673473714170356\t\n",
      "Step: 22 Energy: 17.673473714170356\t\n",
      "Step: 23 Energy: 17.673473714170356\t\n",
      "Step: 24 Energy: 17.676559580898875\t\n",
      "Step: 25 Energy: 17.676559580898875\t\n",
      "Step: 26 Energy: 17.58667310746007\t\n",
      "Step: 27 Energy: 17.583394448265103\t\n",
      "Step: 28 Energy: 17.59124191845923\t\n",
      "Step: 29 Energy: 17.59305636549994\t\n",
      "Step: 30 Energy: 17.595334376475986\t\n",
      "Step: 31 Energy: 17.539988946368357\t\n",
      "Step: 32 Energy: 17.538007280557473\t\n",
      "Step: 33 Energy: 17.53585646484961\t\n",
      "Step: 34 Energy: 17.538108619160692\t\n",
      "Step: 35 Energy: 17.543812297241846\t\n",
      "Step: 36 Energy: 17.520460413345727\t\n",
      "Step: 37 Energy: 17.502876843144204\t\n",
      "Step: 38 Energy: 17.53580610402748\t\n",
      "Step: 39 Energy: 17.555009128164983\t\n",
      "Step: 40 Energy: 17.552335137832358\t\n",
      "Step: 41 Energy: 17.55761804984412\t\n",
      "Step: 42 Energy: 17.55761804984412\t\n",
      "Step: 43 Energy: 17.55862864737204\t\n",
      "Step: 44 Energy: 17.564011688620887\t\n",
      "Step: 45 Energy: 17.564956899631433\t\n",
      "Step: 46 Energy: 17.544868004518648\t\n",
      "Step: 47 Energy: 17.49540705951868\t\n",
      "Step: 48 Energy: 17.49540705951868\t\n",
      "Step: 49 Energy: 17.47366914394229\t\n",
      "Step: 50 Energy: 17.481228370996885\t\n",
      "Step: 51 Energy: 17.478182954781524\t\n",
      "Step: 52 Energy: 17.497845103203144\t\n",
      "Step: 53 Energy: 17.539283583015624\t\n",
      "Step: 54 Energy: 17.539030007500365\t\n",
      "Step: 55 Energy: 17.527377345279174\t\n",
      "Step: 56 Energy: 17.527205427530426\t\n",
      "Step: 57 Energy: 17.524266271731722\t\n",
      "Step: 58 Energy: 17.522673997253982\t\n",
      "Step: 59 Energy: 17.49979154835723\t\n",
      "Step: 60 Energy: 17.487932131526016\t\n",
      "Step: 61 Energy: 17.487236632530145\t\n",
      "Step: 62 Energy: 17.49089857328866\t\n",
      "Step: 63 Energy: 17.506100863050698\t\n",
      "Step: 64 Energy: 17.504854967344563\t\n",
      "Step: 65 Energy: 17.504854967344563\t\n",
      "Step: 66 Energy: 17.505238644861105\t\n",
      "Step: 67 Energy: 17.5027422447908\t\n",
      "Step: 68 Energy: 17.5108925786742\t\n",
      "Step: 69 Energy: 17.502248688441302\t\n",
      "Step: 70 Energy: 17.511169736558642\t\n",
      "Step: 71 Energy: 17.625085128685633\t\n",
      "Step: 72 Energy: 17.61582727407216\t\n",
      "Step: 73 Energy: 17.61582727407216\t\n",
      "Step: 74 Energy: 17.610239643488168\t\n",
      "Step: 75 Energy: 17.620041426096616\t\n",
      "Step: 76 Energy: 17.612975518793967\t\n",
      "Step: 77 Energy: 17.60947116103973\t\n",
      "Step: 78 Energy: 17.598001701733928\t\n",
      "Step: 79 Energy: 17.591571167351336\t\n",
      "Step: 80 Energy: 17.564722421025085\t\n",
      "Step: 81 Energy: 17.542385386839207\t\n",
      "Step: 82 Energy: 17.568148906742785\t\n",
      "Step: 83 Energy: 17.60434573473206\t\n",
      "Step: 84 Energy: 17.60559675359545\t\n",
      "Step: 85 Energy: 17.589860686973065\t\n",
      "Step: 86 Energy: 17.57546495306852\t\n",
      "Step: 87 Energy: 17.57546495306852\t\n",
      "Step: 88 Energy: 17.57546495306852\t\n",
      "Step: 89 Energy: 17.57612352211531\t\n",
      "Step: 90 Energy: 17.59413585772831\t\n",
      "Step: 91 Energy: 17.598250142450457\t\n",
      "Step: 92 Energy: 17.598250142450457\t\n",
      "Step: 93 Energy: 17.607116272462417\t\n",
      "Step: 94 Energy: 17.589846543118792\t\n",
      "Step: 95 Energy: 17.58877990285346\t\n",
      "Step: 96 Energy: 17.587952167470693\t\n",
      "Step: 97 Energy: 17.587952167470693\t\n",
      "Step: 98 Energy: 17.58052409958132\t\n",
      "Step: 99 Energy: 17.58052409958132\t\n",
      "Step: 100 Energy: 17.58052409958132\t\n"
     ]
    },
    {
     "data": {
      "text/plain": [
       "[array([-2.07136098,  0.5432976 , -2.97522852, -0.33255624, -3.78716655,\n",
       "        -0.94659657, -4.43148955, -1.58575545,  1.34584024, -2.04603446,\n",
       "         1.01867984, -2.5210708 ,  0.62953203,  3.77461341,  0.58219306,\n",
       "        -3.2213362 , -0.37690546,  2.24200736, -1.02390865,  1.84383367])]"
      ]
     },
     "execution_count": 257,
     "metadata": {},
     "output_type": "execute_result"
    }
   ],
   "source": [
    "xy_1d.mcmc(100, show_energy=True, period=2, show_plot=True, folder_name='sampling')"
   ]
  },
  {
   "cell_type": "code",
   "execution_count": null,
   "id": "a0dc5158-1984-4b6b-a878-951c1312a1a2",
   "metadata": {},
   "outputs": [],
   "source": []
  }
 ],
 "metadata": {
  "kernelspec": {
   "display_name": "Python 3 (ipykernel)",
   "language": "python",
   "name": "python3"
  },
  "language_info": {
   "codemirror_mode": {
    "name": "ipython",
    "version": 3
   },
   "file_extension": ".py",
   "mimetype": "text/x-python",
   "name": "python",
   "nbconvert_exporter": "python",
   "pygments_lexer": "ipython3",
   "version": "3.9.7"
  }
 },
 "nbformat": 4,
 "nbformat_minor": 5
}
