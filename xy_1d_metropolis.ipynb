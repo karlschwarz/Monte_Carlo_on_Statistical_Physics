{
 "cells": [
  {
   "cell_type": "markdown",
   "id": "97f5832c-b703-4284-b959-3eab5f0dc7d6",
   "metadata": {
    "tags": []
   },
   "source": [
    "# Metropolis of 1d XY model "
   ]
  },
  {
   "cell_type": "code",
   "execution_count": 1,
   "id": "9c60d9f1-af92-4cb0-8ed6-7e95d705a90f",
   "metadata": {},
   "outputs": [],
   "source": [
    "import numpy as np\n",
    "import matplotlib.pyplot as plt\n",
    "from tqdm.auto import trange"
   ]
  },
  {
   "cell_type": "code",
   "execution_count": 2,
   "id": "def6cf98-ed1e-4d84-86f8-42a758b07bb0",
   "metadata": {},
   "outputs": [],
   "source": [
    "from matplotlib import animation"
   ]
  },
  {
   "cell_type": "code",
   "execution_count": 3,
   "id": "352d932b-06c2-472b-998d-71ea96df7a79",
   "metadata": {},
   "outputs": [],
   "source": [
    "import copy"
   ]
  },
  {
   "cell_type": "code",
   "execution_count": 4,
   "id": "80a86b98-8eb6-4bf7-a828-f7f18d85bc68",
   "metadata": {},
   "outputs": [],
   "source": [
    "class XY_1D:\n",
    "    def __init__(self, length, delta=0.1, beta=1, j = 1, periodic_cond=True, seed = 0):\n",
    "        np.random.seed(seed)\n",
    "        self.length = length\n",
    "        self.delta = delta\n",
    "        self.beta = beta\n",
    "        self.j = j\n",
    "        self.periodic_cond = periodic_cond\n",
    "        self.grids_init()\n",
    "        \n",
    "    def grids_init(self):      \n",
    "        self.grids = np.random.uniform(-np.pi, np.pi, self.length)\n",
    "        \n",
    "    def energy_compute_one_grid(self, id_grid, theta_grid):\n",
    "        if self.periodic_cond:\n",
    "            left_neibor = (id_grid - 1) % self.length\n",
    "            right_neibor = (id_grid + 1) % self.length\n",
    "            e_left = -self.j * np.cos(self.grids[left_neibor] - theta_grid)\n",
    "            e_right = -self.j * np.cos(theta_grid - self.grids[right_neibor])\n",
    "            energy = e_left + e_right\n",
    "            return energy\n",
    "        \n",
    "        else:\n",
    "            if id_grid == 0:\n",
    "                return -self.j * np.cos(theta_grid - self.grids[id_grid+1])\n",
    "            \n",
    "            elif id_grid == self.length - 1:\n",
    "                return -self.j * np.cos(theta_grid - self.grids[id_grid-1])\n",
    "            \n",
    "            else:\n",
    "                e_left = -self.j * np.cos(self.grids[id_grid-1] - theta_grid)\n",
    "                e_right = -self.j * np.cos(theta_grid - self.grids[id_grid+1])\n",
    "                energy = e_left + e_right\n",
    "                return energy\n",
    "    \n",
    "    def energy_compute_grids(self):\n",
    "        energy_total = 0\n",
    "        for i in range(self.length-1):\n",
    "            energy_i = -self.j * np.cos(self.grids[i] - self.grids[i+1])\n",
    "            energy_total += energy_i\n",
    "        return energy_total\n",
    "    \n",
    "    def one_step_mcmc(self):\n",
    "        id_random = np.random.randint(self.length)\n",
    "        theta_id = self.grids[id_random]\n",
    "        theta_random = np.random.normal(theta_id, self.delta)\n",
    "        energy_old = self.energy_compute_one_grid(id_random, theta_id)\n",
    "        energy_new = self.energy_compute_one_grid(id_random, theta_random)\n",
    "        energy_delta = energy_new - energy_old\n",
    "        prob_accept = min(np.exp(-self.beta * energy_delta), 1)\n",
    "        if np.random.uniform(0, 1) < prob_accept:\n",
    "            self.grids[id_random] = theta_random\n",
    "            return energy_new\n",
    "        else:\n",
    "            return energy_old\n",
    "            \n",
    "    def mcmc(self, step, show_energy=True, show_plot=True, period=100, store_period=100, energy_accumu=False, folder_name=None):\n",
    "        energy_list, spins_list = [], []\n",
    "        for i in range(step):\n",
    "            self.one_step_mcmc()\n",
    "            energy_total = self.energy_compute_grids()\n",
    "            energy_list.append(energy_total)\n",
    "            print_template = \"Step: {step} Energy: {energy}\\t\"\n",
    "            if show_energy:\n",
    "                print(print_template.format(step=i+1, energy=energy_total))  \n",
    "            if show_plot and i % period == 0:\n",
    "                self.spin_viz(save=True, step=i, folder_name=folder_name)\n",
    "            if i % store_period == 0:\n",
    "                spins_list.append(self.grids.copy())\n",
    "        if energy_accumu:\n",
    "            return np.mean(energy_list), spins_list\n",
    "        else:\n",
    "            return spins_list\n",
    "        \n",
    "    def spin_viz_dynamic(self, spins_list, file_name, figsize=(10, 3)):\n",
    "        fig = plt.figure(figsize=figsize)\n",
    "        x, y = np.meshgrid(np.arange(0, self.length), 0)\n",
    "        u = np.cos(spins_list[0])\n",
    "        v = np.sin(spins_list[0])\n",
    "        q = plt.quiver(x, y, u, v, scale=20, width=0.01, headlength=3, headwidth=2, headaxislength=3, minshaft=3)\n",
    "        plt.axis('off')\n",
    "        plt.title('T={:.3f}, spins={}'.format(1/self.beta, self.length), fontsize=20)            \n",
    "        def update_quiver(num, q):\n",
    "            u = np.cos(spins_list[num+1])\n",
    "            v = np.sin(spins_list[num+1])\n",
    "            q.set_UVC(u, v)\n",
    "            return q\n",
    "        frames = len(spins_list) - 1\n",
    "        self.anim = animation.FuncAnimation(fig, update_quiver, frames=frames, \n",
    "                                       fargs=(q, ), interval=50, repeat=False)\n",
    "        writergif = animation.PillowWriter(fps=100) \n",
    "        self.anim.save(f'./{file_name}.gif', writer=writergif)\n",
    "        \n",
    "    def spin_viz(self, figsize=(10, 3), save=False, step=None, folder_name=None):\n",
    "        fig = plt.figure(figsize=figsize)\n",
    "        x, y = np.meshgrid(np.arange(0, self.length), 0)\n",
    "        u = np.cos(self.grids)\n",
    "        v = np.sin(self.grids)\n",
    "        q = plt.quiver(x, y, u, v, units='width')\n",
    "        plt.axis('off')\n",
    "        plt.title('T={:.3f}, spins={}'.format(1/self.beta, self.length), fontsize=10)\n",
    "        if save and step is not None:\n",
    "            plt.savefig(f'./{folder_name}/config_plot_step_{step}.pdf', dpi=100)\n",
    "        plt.close(fig)"
   ]
  },
  {
   "cell_type": "markdown",
   "id": "4a4ab6f8-69bc-4337-95b3-f7055e74e12c",
   "metadata": {
    "tags": []
   },
   "source": [
    "### Test of our model"
   ]
  },
  {
   "cell_type": "markdown",
   "id": "1dec6233-0fa4-492b-82ac-14d5487eed90",
   "metadata": {},
   "source": [
    "### Periodic Boundary Condition"
   ]
  },
  {
   "cell_type": "code",
   "execution_count": 5,
   "id": "fee5b6ce-4b9c-4ebf-9660-d6ab4b4aff90",
   "metadata": {},
   "outputs": [],
   "source": [
    "# initialize the 1d xy model\n",
    "length = 20\n",
    "xy_1d = XY_1D(length, beta=20, j=1, periodic_cond=True)"
   ]
  },
  {
   "cell_type": "code",
   "execution_count": 6,
   "id": "48454625-2b73-49a7-8c79-1e57b014f206",
   "metadata": {},
   "outputs": [
    {
     "name": "stdout",
     "output_type": "stream",
     "text": [
      "mcmc is done!\n"
     ]
    }
   ],
   "source": [
    "# firing stage\n",
    "spins_list = xy_1d.mcmc(3000, show_energy=False, store_period=40, folder_name='firing')\n",
    "print('mcmc is done!')"
   ]
  },
  {
   "cell_type": "code",
   "execution_count": 7,
   "id": "e5baec36-b577-409b-bfbf-3407fcfba7a7",
   "metadata": {},
   "outputs": [
    {
     "data": {
      "image/png": "[encoded data removed]",
      "text/plain": [
       "<Figure size 720x216 with 1 Axes>"
      ]
     },
     "metadata": {
      "needs_background": "light"
     },
     "output_type": "display_data"
    }
   ],
   "source": [
    "xy_1d.spin_viz_dynamic(spins_list, file_name='./mcmc_dynamics', figsize=[10, 3])"
   ]
  },
  {
   "cell_type": "code",
   "execution_count": 8,
   "id": "47a40839-af08-43ed-8ae6-7e099db9d9e8",
   "metadata": {},
   "outputs": [
    {
     "data": {
      "application/vnd.jupyter.widget-view+json": {
       "model_id": "d50b9a3b3d274874bfa9b214e370f319",
       "version_major": 2,
       "version_minor": 0
      },
      "text/plain": [
       "  0%|          | 0/200 [00:00<?, ?it/s]"
      ]
     },
     "metadata": {},
     "output_type": "display_data"
    },
    {
     "name": "stdout",
     "output_type": "stream",
     "text": [
      "iterations are done!\n"
     ]
    }
   ],
   "source": [
    "### sampling stage\n",
    "energy_list = []\n",
    "for i in trange(200):\n",
    "    energy_list.append(xy_1d.mcmc(200, show_energy=False, show_plot=False, energy_accumu=True)[0])\n",
    "print(\"iterations are done!\")"
   ]
  },
  {
   "cell_type": "code",
   "execution_count": 9,
   "id": "56a7f11e-288b-413d-8baf-67b966586c47",
   "metadata": {},
   "outputs": [
    {
     "data": {
      "text/plain": [
       "[<matplotlib.lines.Line2D at 0x7f9e7d9c4c10>]"
      ]
     },
     "execution_count": 9,
     "metadata": {},
     "output_type": "execute_result"
    },
    {
     "data": {
      "image/png": "[encoded data removed]",
      "text/plain": [
       "<Figure size 432x288 with 1 Axes>"
      ]
     },
     "metadata": {
      "needs_background": "light"
     },
     "output_type": "display_data"
    }
   ],
   "source": [
    "plt.title('time_series_of_energy')\n",
    "plt.xlabel('iters', fontsize=5)\n",
    "plt.ylabel('energy', fontsize=5)\n",
    "plt.plot(energy_list)"
   ]
  },
  {
   "cell_type": "code",
   "execution_count": 11,
   "id": "15e0120f-034d-49db-8035-5528cf01ff1d",
   "metadata": {},
   "outputs": [
    {
     "name": "stdout",
     "output_type": "stream",
     "text": [
      "Step: 1 Energy: -18.294539854088136\t\n",
      "Step: 2 Energy: -18.304661440862063\t\n",
      "Step: 3 Energy: -18.314791180765873\t\n",
      "Step: 4 Energy: -18.316696677627043\t\n",
      "Step: 5 Energy: -18.30441352878871\t\n",
      "Step: 6 Energy: -18.30441352878871\t\n",
      "Step: 7 Energy: -18.37730456098917\t\n",
      "Step: 8 Energy: -18.393376605162278\t\n",
      "Step: 9 Energy: -18.445037408960534\t\n",
      "Step: 10 Energy: -18.445037408960534\t\n",
      "Step: 11 Energy: -18.444440987432365\t\n",
      "Step: 12 Energy: -18.44600674865574\t\n",
      "Step: 13 Energy: -18.444433334434905\t\n",
      "Step: 14 Energy: -18.43892715829811\t\n",
      "Step: 15 Energy: -18.439154672030135\t\n",
      "Step: 16 Energy: -18.44118904108699\t\n",
      "Step: 17 Energy: -18.448017787790775\t\n",
      "Step: 18 Energy: -18.448017787790775\t\n",
      "Step: 19 Energy: -18.46018078368822\t\n",
      "Step: 20 Energy: -18.468355073520005\t\n",
      "Step: 21 Energy: -18.470830923700483\t\n",
      "Step: 22 Energy: -18.467637030739038\t\n",
      "Step: 23 Energy: -18.504515904791468\t\n",
      "Step: 24 Energy: -18.504515904791468\t\n",
      "Step: 25 Energy: -18.491288647677393\t\n",
      "Step: 26 Energy: -18.491288647677393\t\n",
      "Step: 27 Energy: -18.49404456118753\t\n",
      "Step: 28 Energy: -18.44110369564037\t\n",
      "Step: 29 Energy: -18.445723585502037\t\n",
      "Step: 30 Energy: -18.445723585502037\t\n",
      "Step: 31 Energy: -18.459655275151537\t\n",
      "Step: 32 Energy: -18.460727186542012\t\n",
      "Step: 33 Energy: -18.471466034544637\t\n",
      "Step: 34 Energy: -18.452585344829618\t\n",
      "Step: 35 Energy: -18.447561061178614\t\n",
      "Step: 36 Energy: -18.456008787619094\t\n",
      "Step: 37 Energy: -18.48698754566697\t\n",
      "Step: 38 Energy: -18.481008762247345\t\n",
      "Step: 39 Energy: -18.485632758658358\t\n",
      "Step: 40 Energy: -18.513689075523292\t\n",
      "Step: 41 Energy: -18.515009690104534\t\n",
      "Step: 42 Energy: -18.525248211200644\t\n",
      "Step: 43 Energy: -18.554018634500267\t\n",
      "Step: 44 Energy: -18.55475489502478\t\n",
      "Step: 45 Energy: -18.62156249872636\t\n",
      "Step: 46 Energy: -18.622675013546267\t\n",
      "Step: 47 Energy: -18.61608558859451\t\n",
      "Step: 48 Energy: -18.61608558859451\t\n",
      "Step: 49 Energy: -18.63450567455177\t\n",
      "Step: 50 Energy: -18.63450567455177\t\n",
      "Step: 51 Energy: -18.64137882944657\t\n",
      "Step: 52 Energy: -18.619505082178577\t\n",
      "Step: 53 Energy: -18.561484196130607\t\n",
      "Step: 54 Energy: -18.561035323683715\t\n",
      "Step: 55 Energy: -18.55819948813367\t\n",
      "Step: 56 Energy: -18.555057551920942\t\n",
      "Step: 57 Energy: -18.555057551920942\t\n",
      "Step: 58 Energy: -18.555057551920942\t\n",
      "Step: 59 Energy: -18.556141828374933\t\n",
      "Step: 60 Energy: -18.584820284510215\t\n",
      "Step: 61 Energy: -18.571363008013176\t\n",
      "Step: 62 Energy: -18.57364322227151\t\n",
      "Step: 63 Energy: -18.571095927247768\t\n",
      "Step: 64 Energy: -18.573511080789725\t\n",
      "Step: 65 Energy: -18.573511080789725\t\n",
      "Step: 66 Energy: -18.573511080789725\t\n",
      "Step: 67 Energy: -18.573655461198392\t\n",
      "Step: 68 Energy: -18.591265480478064\t\n",
      "Step: 69 Energy: -18.585333590884467\t\n",
      "Step: 70 Energy: -18.583183371107882\t\n",
      "Step: 71 Energy: -18.580517517079763\t\n",
      "Step: 72 Energy: -18.55059715892192\t\n",
      "Step: 73 Energy: -18.54325602596517\t\n",
      "Step: 74 Energy: -18.556739427340286\t\n",
      "Step: 75 Energy: -18.556739427340286\t\n",
      "Step: 76 Energy: -18.573014430620663\t\n",
      "Step: 77 Energy: -18.571640887129142\t\n",
      "Step: 78 Energy: -18.571640887129142\t\n",
      "Step: 79 Energy: -18.56697456679565\t\n",
      "Step: 80 Energy: -18.556391935657373\t\n",
      "Step: 81 Energy: -18.55149627155801\t\n",
      "Step: 82 Energy: -18.55090894186743\t\n",
      "Step: 83 Energy: -18.55100312797337\t\n",
      "Step: 84 Energy: -18.55100312797337\t\n",
      "Step: 85 Energy: -18.54980997516152\t\n",
      "Step: 86 Energy: -18.54980997516152\t\n",
      "Step: 87 Energy: -18.571388620742667\t\n",
      "Step: 88 Energy: -18.58201601107394\t\n",
      "Step: 89 Energy: -18.58201601107394\t\n",
      "Step: 90 Energy: -18.58436190661334\t\n",
      "Step: 91 Energy: -18.58436190661334\t\n",
      "Step: 92 Energy: -18.594190448855667\t\n",
      "Step: 93 Energy: -18.580645267053082\t\n",
      "Step: 94 Energy: -18.62422331143694\t\n",
      "Step: 95 Energy: -18.62422331143694\t\n",
      "Step: 96 Energy: -18.620287164414563\t\n",
      "Step: 97 Energy: -18.63077806246119\t\n",
      "Step: 98 Energy: -18.628147999125638\t\n",
      "Step: 99 Energy: -18.611836067778665\t\n",
      "Step: 100 Energy: -18.611836067778665\t\n"
     ]
    }
   ],
   "source": [
    "spins_list = xy_1d.mcmc(100, show_energy=True, period=2, show_plot=True, folder_name='sampling')"
   ]
  },
  {
   "cell_type": "markdown",
   "id": "73ea2c8f-6d82-4bbd-941f-29e80fd56769",
   "metadata": {},
   "source": [
    "-----\n",
    "### Non-periodic boundary condition"
   ]
  },
  {
   "cell_type": "code",
   "execution_count": 12,
   "id": "3576c197-e35b-45bf-9bf1-c1ef2e15f3fa",
   "metadata": {},
   "outputs": [],
   "source": [
    "# initialize the 1d xy model\n",
    "length = 20\n",
    "xy_1d = XY_1D(length, beta=20, j=1, periodic_cond=False)"
   ]
  },
  {
   "cell_type": "code",
   "execution_count": 13,
   "id": "51ab10fe-c0a5-4502-b450-5ebdfd498b7b",
   "metadata": {},
   "outputs": [
    {
     "name": "stdout",
     "output_type": "stream",
     "text": [
      "mcmc is done!\n"
     ]
    }
   ],
   "source": [
    "# firing stage\n",
    "spins_list = xy_1d.mcmc(3000, show_energy=False, store_period=40, folder_name='firing')\n",
    "print('mcmc is done!')"
   ]
  },
  {
   "cell_type": "code",
   "execution_count": 14,
   "id": "18778762-bf5f-4f28-a196-a3a5d8e458b7",
   "metadata": {},
   "outputs": [
    {
     "data": {
      "image/png": "[encoded data removed]",
      "text/plain": [
       "<Figure size 720x216 with 1 Axes>"
      ]
     },
     "metadata": {
      "needs_background": "light"
     },
     "output_type": "display_data"
    }
   ],
   "source": [
    "xy_1d.spin_viz_dynamic(spins_list, file_name='./mcmc_dynamics', figsize=[10, 3])"
   ]
  },
  {
   "cell_type": "code",
   "execution_count": 15,
   "id": "a2a6fb6e-30d6-4829-8a20-712b9a17fbd2",
   "metadata": {},
   "outputs": [
    {
     "data": {
      "application/vnd.jupyter.widget-view+json": {
       "model_id": "1a93dc576db942b8b9833c6280795010",
       "version_major": 2,
       "version_minor": 0
      },
      "text/plain": [
       "  0%|          | 0/200 [00:00<?, ?it/s]"
      ]
     },
     "metadata": {},
     "output_type": "display_data"
    },
    {
     "name": "stdout",
     "output_type": "stream",
     "text": [
      "iterations are done!\n"
     ]
    }
   ],
   "source": [
    "### sampling stage\n",
    "energy_list = []\n",
    "for i in trange(200):\n",
    "    energy_list.append(xy_1d.mcmc(200, show_energy=False, show_plot=False, energy_accumu=True)[0])\n",
    "print(\"iterations are done!\")"
   ]
  },
  {
   "cell_type": "code",
   "execution_count": 16,
   "id": "5cc1a276-02e5-47a9-a5f3-5f3289428a54",
   "metadata": {},
   "outputs": [
    {
     "data": {
      "text/plain": [
       "[<matplotlib.lines.Line2D at 0x7f9e7dc46c70>]"
      ]
     },
     "execution_count": 16,
     "metadata": {},
     "output_type": "execute_result"
    },
    {
     "data": {
      "image/png": "[encoded data removed]",
      "text/plain": [
       "<Figure size 432x288 with 1 Axes>"
      ]
     },
     "metadata": {
      "needs_background": "light"
     },
     "output_type": "display_data"
    }
   ],
   "source": [
    "plt.title('time_series_of_energy')\n",
    "plt.xlabel('iters', fontsize=5)\n",
    "plt.ylabel('energy', fontsize=5)\n",
    "plt.plot(energy_list)"
   ]
  },
  {
   "cell_type": "code",
   "execution_count": 17,
   "id": "ea05e007-2338-49ef-9fe0-6f09ee292fbf",
   "metadata": {},
   "outputs": [
    {
     "name": "stdout",
     "output_type": "stream",
     "text": [
      "Step: 1 Energy: -18.42388235217096\t\n",
      "Step: 2 Energy: -18.42318185030433\t\n",
      "Step: 3 Energy: -18.446551660479063\t\n",
      "Step: 4 Energy: -18.449439430686194\t\n",
      "Step: 5 Energy: -18.455414098378967\t\n",
      "Step: 6 Energy: -18.43640158456734\t\n",
      "Step: 7 Energy: -18.451874280156716\t\n",
      "Step: 8 Energy: -18.47550921201508\t\n",
      "Step: 9 Energy: -18.472675338353262\t\n",
      "Step: 10 Energy: -18.46506977930941\t\n",
      "Step: 11 Energy: -18.47123435287993\t\n",
      "Step: 12 Energy: -18.475765267264197\t\n",
      "Step: 13 Energy: -18.44964189989132\t\n",
      "Step: 14 Energy: -18.44800055715852\t\n",
      "Step: 15 Energy: -18.428788417709637\t\n",
      "Step: 16 Energy: -18.376663853460755\t\n",
      "Step: 17 Energy: -18.365963586355917\t\n",
      "Step: 18 Energy: -18.365869437145445\t\n",
      "Step: 19 Energy: -18.370155837252064\t\n",
      "Step: 20 Energy: -18.359852756771684\t\n",
      "Step: 21 Energy: -18.363529357953436\t\n",
      "Step: 22 Energy: -18.354302681551346\t\n",
      "Step: 23 Energy: -18.354706353481948\t\n",
      "Step: 24 Energy: -18.36099130065871\t\n",
      "Step: 25 Energy: -18.36099130065871\t\n",
      "Step: 26 Energy: -18.3626648423049\t\n",
      "Step: 27 Energy: -18.391663791612874\t\n",
      "Step: 28 Energy: -18.406713530176745\t\n",
      "Step: 29 Energy: -18.391430109088034\t\n",
      "Step: 30 Energy: -18.391430109088034\t\n",
      "Step: 31 Energy: -18.387075887456742\t\n",
      "Step: 32 Energy: -18.387075887456742\t\n",
      "Step: 33 Energy: -18.395335370176777\t\n",
      "Step: 34 Energy: -18.3989237182431\t\n",
      "Step: 35 Energy: -18.382948830477353\t\n",
      "Step: 36 Energy: -18.378055685084068\t\n",
      "Step: 37 Energy: -18.37145234295519\t\n",
      "Step: 38 Energy: -18.37549742675372\t\n",
      "Step: 39 Energy: -18.375504262355317\t\n",
      "Step: 40 Energy: -18.37730090523463\t\n",
      "Step: 41 Energy: -18.388239012264524\t\n",
      "Step: 42 Energy: -18.388239012264524\t\n",
      "Step: 43 Energy: -18.388239012264524\t\n",
      "Step: 44 Energy: -18.394618939870753\t\n",
      "Step: 45 Energy: -18.391669346883727\t\n",
      "Step: 46 Energy: -18.383963984050755\t\n",
      "Step: 47 Energy: -18.3874117129965\t\n",
      "Step: 48 Energy: -18.38527732305786\t\n",
      "Step: 49 Energy: -18.38527732305786\t\n",
      "Step: 50 Energy: -18.38527732305786\t\n",
      "Step: 51 Energy: -18.406871871951036\t\n",
      "Step: 52 Energy: -18.404457303785957\t\n",
      "Step: 53 Energy: -18.403235858270623\t\n",
      "Step: 54 Energy: -18.40156767817759\t\n",
      "Step: 55 Energy: -18.3616826912366\t\n",
      "Step: 56 Energy: -18.390340179251037\t\n",
      "Step: 57 Energy: -18.390340179251037\t\n",
      "Step: 58 Energy: -18.386909978319505\t\n",
      "Step: 59 Energy: -18.38909033715076\t\n",
      "Step: 60 Energy: -18.38909033715076\t\n",
      "Step: 61 Energy: -18.345850774919153\t\n",
      "Step: 62 Energy: -18.34704689522039\t\n",
      "Step: 63 Energy: -18.351016421102873\t\n",
      "Step: 64 Energy: -18.350590316442474\t\n",
      "Step: 65 Energy: -18.34839443367264\t\n",
      "Step: 66 Energy: -18.348495050617633\t\n",
      "Step: 67 Energy: -18.34573860882094\t\n",
      "Step: 68 Energy: -18.34573860882094\t\n",
      "Step: 69 Energy: -18.34432704920561\t\n",
      "Step: 70 Energy: -18.34432704920561\t\n",
      "Step: 71 Energy: -18.342659513921447\t\n",
      "Step: 72 Energy: -18.34692034312346\t\n",
      "Step: 73 Energy: -18.350620200241316\t\n",
      "Step: 74 Energy: -18.352930508922668\t\n",
      "Step: 75 Energy: -18.350482092320686\t\n",
      "Step: 76 Energy: -18.35706356336283\t\n",
      "Step: 77 Energy: -18.35706356336283\t\n",
      "Step: 78 Energy: -18.361909863285685\t\n",
      "Step: 79 Energy: -18.361909863285685\t\n",
      "Step: 80 Energy: -18.360234985658156\t\n",
      "Step: 81 Energy: -18.360407459131483\t\n",
      "Step: 82 Energy: -18.36131325858625\t\n",
      "Step: 83 Energy: -18.346798172316376\t\n",
      "Step: 84 Energy: -18.346432835750548\t\n",
      "Step: 85 Energy: -18.341628012584753\t\n",
      "Step: 86 Energy: -18.341628012584753\t\n",
      "Step: 87 Energy: -18.341988023871238\t\n",
      "Step: 88 Energy: -18.33784054269729\t\n",
      "Step: 89 Energy: -18.335922389917773\t\n",
      "Step: 90 Energy: -18.332455193290485\t\n",
      "Step: 91 Energy: -18.332376544926465\t\n",
      "Step: 92 Energy: -18.325676220640396\t\n",
      "Step: 93 Energy: -18.325569411994326\t\n",
      "Step: 94 Energy: -18.31720725851146\t\n",
      "Step: 95 Energy: -18.36195134899001\t\n",
      "Step: 96 Energy: -18.315517998971877\t\n",
      "Step: 97 Energy: -18.318581078891334\t\n",
      "Step: 98 Energy: -18.309081894384065\t\n",
      "Step: 99 Energy: -18.309496014010673\t\n",
      "Step: 100 Energy: -18.309048138049487\t\n"
     ]
    }
   ],
   "source": [
    "spins_list = xy_1d.mcmc(100, show_energy=True, period=2, show_plot=True, folder_name='sampling')"
   ]
  },
  {
   "cell_type": "code",
   "execution_count": null,
   "id": "c8333217-0453-4cf6-8988-53a30b245c0f",
   "metadata": {},
   "outputs": [],
   "source": []
  }
 ],
 "metadata": {
  "kernelspec": {
   "display_name": "Python 3 (ipykernel)",
   "language": "python",
   "name": "python3"
  },
  "language_info": {
   "codemirror_mode": {
    "name": "ipython",
    "version": 3
   },
   "file_extension": ".py",
   "mimetype": "text/x-python",
   "name": "python",
   "nbconvert_exporter": "python",
   "pygments_lexer": "ipython3",
   "version": "3.9.7"
  }
 },
 "nbformat": 4,
 "nbformat_minor": 5
}
