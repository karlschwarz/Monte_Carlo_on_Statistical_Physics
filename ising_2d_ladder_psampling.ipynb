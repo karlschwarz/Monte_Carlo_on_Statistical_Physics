{
 "cells": [
  {
   "cell_type": "markdown",
   "id": "97f5832c-b703-4284-b959-3eab5f0dc7d6",
   "metadata": {
    "tags": []
   },
   "source": [
    "# Ladder Sampling of 2D Ising Model"
   ]
  },
  {
   "cell_type": "markdown",
   "id": "b7a8ccbd-2fe9-4fc8-9a46-537f3c0467bb",
   "metadata": {},
   "source": [
    "## Hamiltonian\n",
    "\\begin{align}\n",
    "H = -\\sum_{<ij>}J_{ij}S_{i} S_{j} - \\sum_{i} h_{i}S_{i}，\n",
    "\\end{align}\n",
    "where $N$ is the number of spins and we assume $J_{ij} = J$."
   ]
  },
  {
   "cell_type": "markdown",
   "id": "2b62e708-eeaf-4c84-8bb8-396f07dc38f1",
   "metadata": {
    "tags": []
   },
   "source": [
    "## 1. Free bounday condition\n",
    "\n",
    "### Partition function of a tree：\n",
    "\n",
    "  O     O     #(7)     O      O \n",
    "  O    #(8)   X(1)   #(16)    O \n",
    " #(9)  X(2)   X(3)   X(4)   #(15)\n",
    "  O    #(10)  X(5)   #(14)    O\n",
    "  O    #(11)  X(6)   #(13)    O\n",
    "  O     O     #(12)    O      O\n",
    "\n",
    "### $Z_{1}$:\n",
    "\\begin{align}\n",
    "Z_{1}(\\theta_{1}) &= \\int_{-\\pi}^{\\pi}d\\theta_{2}\\cdots d\\theta_{N}\\exp{[\\beta J(\\cos{(\\theta_{1} - \\theta_{2})} + \\cos{(\\theta_{2} - \\theta_{3})} + \\cdots + \\cos{(\\theta_{N-1} - \\theta_{N})})]}\\\\\n",
    "&=(2\\pi)^{N-2}[I_{0}(\\beta J)]^{N-2}\\int_{-\\pi}^{\\pi}d\\theta_{2}\\exp{[\\beta J\\cos{(\\theta_{1}-\\theta_{2}})]}, \n",
    "\\end{align}\n",
    "then we get\n",
    "\\begin{align}\n",
    "P(\\theta_{1}) &= \\frac{Z_{1}(\\theta_{1})}{Z} = \\frac{\\int_{-\\pi}^{\\pi}d\\theta\\exp{[\\beta J\\cos{(\\theta_{1}-\\theta})]}}{(2\\pi)^{2} I_{0}(\\beta J)}\\\\\n",
    "&=\\frac{1}{2\\pi}.\n",
    "\\end{align}"
   ]
  },
  {
   "cell_type": "markdown",
   "id": "b30c2e63-9cfd-437c-9377-b3aba377a049",
   "metadata": {
    "tags": []
   },
   "source": [
    "### So the perfect sampling of the 1D XY model (free boundary condition) is as follows,\n",
    "#### 1. Sample $\\theta_{1}$ from \n",
    "\\begin{align}\n",
    "P(\\theta_{1}) = \\frac{1}{2\\pi},\n",
    "\\end{align}\n",
    "\n",
    "#### 2. Sample $\\theta_{k}$ from the following distribution recursively:\n",
    "\\begin{align}\n",
    "P(\\theta_{k}|\\theta_{k-1}, \\cdots, \\theta_{1}) = \\frac{\\exp{[\\beta J\\cos{(\\theta_{k-1}-\\theta_{k})}]}}{2\\pi I_{0}(\\beta J)}.\n",
    "\\end{align}"
   ]
  },
  {
   "cell_type": "markdown",
   "id": "121a2aae-bd5b-4519-8123-3621fcfefbe5",
   "metadata": {},
   "source": [
    "----"
   ]
  },
  {
   "cell_type": "markdown",
   "id": "827ffed1-dd77-4563-a2e8-478ad5656d1f",
   "metadata": {},
   "source": [
    "### Ladder Sampling of 2D Ising model"
   ]
  },
  {
   "cell_type": "code",
   "execution_count": 5,
   "id": "9c60d9f1-af92-4cb0-8ed6-7e95d705a90f",
   "metadata": {},
   "outputs": [],
   "source": [
    "import numpy as np\n",
    "import matplotlib.pyplot as plt\n",
    "from tqdm.auto import trange\n",
    "import time"
   ]
  },
  {
   "cell_type": "code",
   "execution_count": 6,
   "id": "d01694ae-1a6b-49aa-8259-d889f693fdfd",
   "metadata": {},
   "outputs": [],
   "source": [
    "from math import cos, exp, pi\n",
    "from scipy.integrate import quad\n",
    "from scipy.special import iv"
   ]
  },
  {
   "cell_type": "code",
   "execution_count": 160,
   "id": "4bf1e92d-f355-4a32-8f2e-a3637caf4038",
   "metadata": {},
   "outputs": [],
   "source": [
    "class ISING_2D_ladder:\n",
    "    \n",
    "    def __init__(self, j=1, beta=1, h=1, dims=(10, 10), nc=5):\n",
    "        \"\"\"\n",
    "        Args:\n",
    "            nc: (int) size of the cluster.\n",
    "        \"\"\"\n",
    "        self.j = j\n",
    "        self.beta = beta\n",
    "        self.h = h\n",
    "        self.dims = dims\n",
    "        self.grids = (-1) ** np.reshape(np.random.binomial(1, 1/2, dims[0]*dims[1]), dims)\n",
    "        self.nc = nc\n",
    "        \n",
    "    def neibor_get(self, id_grid):\n",
    "        height, width = self.dims\n",
    "        x_index, y_index = id_grid\n",
    "        l_neibor = ((x_index - 1) % width, y_index)\n",
    "        r_neibor = ((x_index + 1) % width, y_index)\n",
    "        u_neibor = (x_index, (y_index - 1) % height)\n",
    "        d_neibor = (x_index, (y_index + 1) % height)           \n",
    "        ur_neibor = ((x_index + 1) % width, (y_index + 1) % height)\n",
    "        dl_neibor = ((x_index - 1) % width, (y_index - 1) % height)\n",
    "        \n",
    "        return {'l': l_neibor, \n",
    "                'r': r_neibor, \n",
    "                'u': u_neibor, \n",
    "                'd': d_neibor, \n",
    "                'ur': ur_neibor, \n",
    "                'dl': dl_neibor}\n",
    "    \n",
    "    def message_on_node(self, id_ud, neibors_ud):\n",
    "        def energy_get(spins_ud, neibors_ud):\n",
    "            energy = 0\n",
    "            spin_u, spin_d = spins_ud\n",
    "            neibors_u, neibors_d = neibors_ud\n",
    "            for id_neibor in neibors_u:\n",
    "                energy += -self.j * spin_u * self.grids[id_neibor[0]][id_neibor[1]]\n",
    "            energy += -self.j * self.h * spin_u\n",
    "            for id_neibor in neibors_d:\n",
    "                energy += -self.j * spin_d * self.grids[id_neibor[0]][id_neibor[1]]\n",
    "            energy += -self.j * self.h * spin_d\n",
    "            energy += -self.j * spin_u * spin_d\n",
    "            return energy\n",
    "        energy_uu = energy_get((1, 1), neibors_ud)\n",
    "        energy_ud = energy_get((1, -1), neibors_ud)\n",
    "        energy_du = energy_get((-1, 1), neibors_ud)\n",
    "        energy_dd = energy_get((-1, -1), neibors_ud)\n",
    "        #message = np.array([np.exp(-self.beta * energy_uu), np.exp(-self.beta * energy_ud),\n",
    "        #                    np.exp(-self.beta * energy_du), np.exp(-self.beta * energy_dd)])\n",
    "        message = np.array([np.exp(-self.beta * (-energy_dd)), \n",
    "                            np.exp(-self.beta * (energy_ud - energy_uu - energy_dd)),\n",
    "                            np.exp(-self.beta * (energy_du - energy_uu - energy_dd)), \n",
    "                            np.exp(-self.beta * (-energy_uu))])\n",
    "        \n",
    "        message_norm = message / np.sum(message)\n",
    "        return message_norm\n",
    "    \n",
    "    def message_on_edge(self):\n",
    "        \"\"\"\n",
    "        Args:\n",
    "            edge: (tuple) (node_start, node_end)\n",
    "            \n",
    "        Returns:\n",
    "            message: (np.array) 4x4 matrix\n",
    "        \"\"\"\n",
    "        def message_compute_one_row(spins_left, spins_right_list):\n",
    "            \"\"\"\n",
    "            Args:\n",
    "                spins_left: (tuple)\n",
    "                spins_right_list: (list) \n",
    "                \n",
    "            Returns:\n",
    "                left_right_row: (np.array)\n",
    "            \"\"\"\n",
    "            spin_lu, spin_ld = spins_left\n",
    "            left_right_list = []\n",
    "            for spins_right in spins_right_list:\n",
    "                energy_total = 0\n",
    "                spin_ru, spin_rd = spins_right\n",
    "                energy_total += -self.j * spin_lu * spin_ru\n",
    "                energy_total += -self.j * spin_ld * spin_rd\n",
    "                energy_total += -self.j * spin_ld * spin_ru\n",
    "                left_right_list.append(np.exp(-self.beta * energy_total))\n",
    "            return np.array(left_right_list)\n",
    "        \n",
    "        spins_left_list = spins_right_list = [(1, 1), (1, -1), (-1, 1), (-1, -1)]\n",
    "        message_list = []\n",
    "        for spins_left in spins_left_list:\n",
    "            message_list.append(message_compute_one_row(spins_left, spins_right_list))\n",
    "        message = np.array(message_list)\n",
    "        message = message / message[0][0]\n",
    "        return message    \n",
    "    \n",
    "    def loop_sampling(self, id_height):\n",
    "        id_end = np.random.randint(self.dims[1])\n",
    "        id_start = (id_end + 1) % self.dims[1]\n",
    "        path_to_left = [id_start, id_end] \n",
    "        path_to_right = [(id_start + i) % self.dims[1] for i in range(self.dims[1])]\n",
    "        assert path_to_right[-1] == id_end, \"Path to right is not right!\"\n",
    "        ### get the message on the edge which is shared by all the other edge\n",
    "        message_edge = self.message_on_edge()\n",
    "        message_on_node = []\n",
    "        dict_filter = lambda old_dict, keys_set: [old_dict[key] for key in keys_set]\n",
    "        for id_width in range(self.dims[1]):\n",
    "            id_u, id_d = (id_height, id_width), ((id_height + 1) % self.dims[0], id_width)\n",
    "            id_ud = (id_u, id_d)\n",
    "            neibors_u = self.neibor_get(id_u)\n",
    "            neibors_d = self.neibor_get(id_d)\n",
    "            keys_u = ('u', 'ur')\n",
    "            keys_d = ('d', 'dl')\n",
    "            neibors_u = dict_filter(neibors_u, keys_u)\n",
    "            neibors_d = dict_filter(neibors_d, keys_d)\n",
    "            neibors_ud = (neibors_u, neibors_d)\n",
    "            message_node = self.message_on_node(id_ud, neibors_ud)\n",
    "            message_on_node.append(message_node)\n",
    "        z_right = np.sqrt(message_on_node[id_start])\n",
    "        z_left = np.sqrt(message_on_node[id_start])\n",
    "        while id_start != id_end:\n",
    "            id_start = (id_start + 1) % self.dims[1]\n",
    "            z_right = np.matmul(z_right, message_edge)\n",
    "            if id_start == id_end:\n",
    "                z_right *= np.sqrt(message_on_node[id_start])\n",
    "            else:\n",
    "                z_right *= message_on_node[id_start]\n",
    "        while id_start != id_end:\n",
    "            id_start = (id_start - 1) % self.dims[1]\n",
    "            z_left = np.matmul(z_left, message_edge)\n",
    "            if id_start == id_end:\n",
    "                z_left *= np.sqrt(message_on_node[id_start])\n",
    "            else:\n",
    "                z_left *= message_on_node[id_start]      \n",
    "        z = z_left * z_right\n",
    "        z_norm = z / np.sum(z)\n",
    "        unif_random = np.random.uniform(0, 1)\n",
    "        if unif_random < z_norm[0]:\n",
    "            spin_start = np.array([1, 1])\n",
    "        elif z_norm[0] <= unif_random < z_norm[0] + z_norm[1]:\n",
    "            spin_start = np.array([1, -1])\n",
    "        elif z_norm[0] + z_norm[1] <= unif_random < 1 - z_norm[-1]:\n",
    "            spin_start = np.array([-1, 1])\n",
    "        else:\n",
    "            spin_start = np.array([-1, -1])\n",
    "        self.grids[id_height][id_start] = spin_start[0]\n",
    "        self.grids[(id_height+1)%self.dims[0]][id_start] = spin_start[1]\n",
    "        return id_start\n",
    "    \n",
    "    def chain_sampling(self, id_height, id_start):\n",
    "        stack = []\n",
    "        id_end = (id_start - 1) % self.dims[1]\n",
    "        id_start = (id_start + 1) % self.dims[1]\n",
    "        dict_filter = lambda old_dict, keys_set: [old_dict[key] for key in keys_set]\n",
    "        if self.dims[1] > 2:\n",
    "            start_u = ((id_height + 1) % self.dims[0], id_start)\n",
    "            start_d = (id_height % self.dims[0], id_start)\n",
    "            neibors_u = self.neibor_get(start_u)\n",
    "            neibors_d = self.neibor_get(start_d)\n",
    "            keys_u = ('u', 'ur', 'l', 'dl')\n",
    "            keys_d = ('l', 'd', 'dl')\n",
    "            neibors_u = dict_filter(neibors_u, keys_u)\n",
    "            neibors_d = dict_filter(neibors_d, keys_d)\n",
    "        else:\n",
    "            start_u = ((id_height + 1) % self.dims[0], id_start)\n",
    "            start_d = (id_height % self.dims[0], id_start)\n",
    "            neibors_u = self.neibor_get(start_u)\n",
    "            neibors_d = self.neibor_get(start_d)\n",
    "            keys_u = ('u', 'ur', 'l', 'dl', 'r')\n",
    "            keys_d = ('l', 'd', 'dl', 'r')\n",
    "            neibors_u = dict_filter(neibors_u, keys_u)\n",
    "            neibors_d = dict_filter(neibors_d, keys_d)\n",
    "        message_edge = self.message_on_edge()\n",
    "        start_ud, neibors_ud = (start_u, start_d), (neibors_u, neibors_d)\n",
    "        z_start = self.message_on_node(start_ud, neibors_ud)\n",
    "        stack.append(z_start)\n",
    "        while id_start != id_end:\n",
    "            id_start = (id_start + 1) % self.dims[1]\n",
    "            z_start = np.matmul(z_start, message_edge)\n",
    "            if id_start == id_end:\n",
    "                start_u = ((id_height + 1) % self.dims[1], id_start)\n",
    "                start_d = (id_height % self.dims[1], id_start)\n",
    "                neibors_u = self.neibor_get(start_u)\n",
    "                neibors_d = self.neibor_get(start_d)\n",
    "                keys_u = ('u', 'ur')\n",
    "                keys_d = ('d', 'dl')\n",
    "                neibors_u = dict_filter(neibors_u, keys_u)\n",
    "                neibors_d = dict_filter(neibors_d, keys_d)\n",
    "            else:\n",
    "                start_u = ((id_height + 1) % self.dims[1], id_start)\n",
    "                start_d = (id_height % self.dims[1], id_start)\n",
    "                neibors_u = self.neibor_get(start_u)\n",
    "                neibors_d = self.neibor_get(start_d)\n",
    "                keys_u = ('u', 'ur', 'r')\n",
    "                keys_d = ('d', 'dl', 'r', 'ur')\n",
    "                neibors_u = dict_filter(neibors_u, keys_u)\n",
    "                neibors_d = dict_filter(neibors_d, keys_d)\n",
    "            start_ud, neibors_ud = (start_u, start_d), (neibors_u, neibors_d)\n",
    "            node_message = self.message_on_node(start_ud, neibors_ud)\n",
    "            z_start = z_start * node_message\n",
    "            stack.append(z_start)\n",
    "        z_start = stack.pop()\n",
    "        z_start_norm = z_start / np.sum(z_start)\n",
    "        unif_random = np.random.uniform(0, 1)\n",
    "        if unif_random < z_start_norm[0]:\n",
    "            spin_start = np.array([1, 1])\n",
    "        elif z_start_norm[0] <= unif_random < z_start_norm[0] + z_start_norm[1]:\n",
    "            spin_start = np.array([1, -1])\n",
    "        elif z_start_norm[0] + z_start_norm[1] <= unif_random < 1 - z_start_norm[-1]:\n",
    "            spin_start = np.array([-1, 1])\n",
    "        else:\n",
    "            spin_start = np.array([-1, -1])\n",
    "        self.grids[id_height][id_start] = spin_start[0]\n",
    "        self.grids[(id_height+1)%self.dims[0]][id_start] = spin_start[1]\n",
    "        \n",
    "        return stack, id_start\n",
    "    \n",
    "    def backtrack_sampling(self, id_height, id_start, stack):\n",
    "        spins_list = []\n",
    "        message_edge = self.message_on_edge()\n",
    "        dict_filter = lambda old_dict, keys_set: [old_dict[key] for key in keys_set]\n",
    "        while len(stack) != 0:\n",
    "            id_start = (id_start - 1) % self.dims[1]   \n",
    "            start_d = (id_height, id_start)\n",
    "            start_u = ((id_height + 1) % self.dims[0], id_start)\n",
    "            neibors_d = self.neibor_get(start_d)\n",
    "            neibors_u = self.neibor_get(start_u)\n",
    "            keys_u = ('u', 'ur', 'r')\n",
    "            keys_d = ('ur', 'r', 'd', 'dl')\n",
    "            neibors_u = dict_filter(neibors_u, keys_u)\n",
    "            neibors_d = dict_filter(neibors_d, keys_d)\n",
    "            start_ud = (start_u, start_d)\n",
    "            neibors_ud = (neibors_u, neibors_d)\n",
    "            message_node = self.message_on_node(start_ud, neibors_ud)\n",
    "            #z_start = np.matmul(message_node, message_edge)\n",
    "            z_start = message_node * stack.pop()\n",
    "            z_start_norm = z_start / np.sum(z_start)\n",
    "            unif_random = np.random.uniform(0, 1)\n",
    "            if unif_random < z_start_norm[0]:\n",
    "                spin_start = np.array([1, 1])\n",
    "            elif z_start_norm[0] <= unif_random < z_start_norm[0] + z_start_norm[1]:\n",
    "                spin_start = np.array([1, -1])\n",
    "            elif z_start_norm[0] + z_start_norm[1] <= unif_random < 1 - z_start_norm[-1]:\n",
    "                spin_start = np.array([-1, 1])\n",
    "            else:\n",
    "                spin_start = np.array([-1, -1])\n",
    "            self.grids[id_height][id_start] = spin_start[0]\n",
    "            self.grids[(id_height+1)%self.dims[0]][id_start] = spin_start[1]\n",
    "    \n",
    "    def ladder_sampling(self, id_height):\n",
    "        id_start = self.loop_sampling(id_height)\n",
    "        stack, id_start = self.chain_sampling(id_height, id_start)\n",
    "        self.backtrack_sampling(id_height, id_start, stack)\n",
    "        \n",
    "    def ladder_evolution(self):\n",
    "        for i in range(self.dims[1]):\n",
    "            self.ladder_sampling(i)\n",
    "                     \n",
    "    def tree_create(self):\n",
    "        def neibor_search(id_grid, tree_list):\n",
    "            height, width = id_grid\n",
    "            neibors = []\n",
    "            num_shared = 0\n",
    "            if height < self.dims[0] - 1:\n",
    "                if (height + 1, width) not in tree_list:\n",
    "                    neibors.append((height + 1, width))\n",
    "                else:\n",
    "                    num_shared += 1\n",
    "            if height > 0:\n",
    "                if (height - 1, width) not in tree_list:\n",
    "                    neibors.append((height - 1, width))\n",
    "                else:\n",
    "                    num_shared += 1\n",
    "            if width < self.dims[1] - 1:\n",
    "                if (height, width + 1) not in tree_list:\n",
    "                    neibors.append((height, width + 1))\n",
    "                else:\n",
    "                    num_shared += 1\n",
    "            if width > 0:\n",
    "                if (height, width - 1) not in tree_list:\n",
    "                    neibors.append((height, width - 1))\n",
    "                else:\n",
    "                    num_shared += 1\n",
    "                    \n",
    "            return neibors, num_shared\n",
    "        \n",
    "        tree_list = []\n",
    "        stack = []\n",
    "        height, width = self.dims\n",
    "        height_rand = np.random.randint(0, height)\n",
    "        width_rand = np.random.randint(0, width)\n",
    "        id_start = (height_rand, width_rand)\n",
    "        stack.append(id_start)\n",
    "        while len(tree_list) < self.nc:\n",
    "            node_leaf = stack.pop()\n",
    "            if node_leaf in tree_list:\n",
    "                tree_list.pop()\n",
    "                continue\n",
    "            neibors_leaf, num_shared = neibor_search(node_leaf, tree_list)\n",
    "            if len(neibors_leaf) >= 1 and num_shared < 2:\n",
    "                tree_list.append(node_leaf)\n",
    "                stack.append(node_leaf)\n",
    "                stack.extend(neibors_leaf)\n",
    "            else:\n",
    "                if node_leaf == tree_list[-1]:\n",
    "                    tree_list.pop()\n",
    "        return tree_list\n",
    "    \n",
    "    def tree_viz(self):\n",
    "        zero_one_row = 'o' * self.dims[1] + '\\n'\n",
    "        zeros_grids = zero_one_row * self.dims[0]\n",
    "        for node in self.tree_list:\n",
    "            node_pos = node[0] * (self.dims[1] + 1) + node[1]\n",
    "            zeros_grids = zeros_grids[:node_pos] + 'x' + zeros_grids[node_pos+1:]\n",
    "        print(zeros_grids)\n",
    "        \n",
    "    def spin_viz(self, figsize=(10, 10), save=False, folder_name=None):\n",
    "        fig = plt.figure(figsize=figsize)\n",
    "        x, y = np.meshgrid(np.arange(0, self.dims[0]), np.arange(0, self.dims[1]))\n",
    "        u = np.cos(self.grids*np.pi/2)\n",
    "        v = np.sin(self.grids*np.pi/2)\n",
    "        q = plt.quiver(x, y, u, v)\n",
    "        plt.axis('off')\n",
    "        plt.title('T={:.3f}, spins={}'.format(1/self.beta, self.dims), fontsize=20)\n",
    "        if save and step is not None:\n",
    "            plt.savefig(f'./{folder_name}/config_plot_step_{step}.pdf', dpi=100)\n",
    "            plt.close(fig)\n",
    "            \n",
    "    def energy_compute_grids(self):\n",
    "        energy_total = 0\n",
    "        for i in range(self.dims[0]):\n",
    "            for j in range(self.dims[1]):\n",
    "                id_neibors_dict = self.neibor_get((i, j))\n",
    "                id_neibors = id_neibors_dict.values()\n",
    "                energy_ij = 0\n",
    "                for ij in id_neibors:\n",
    "                    energy_ij = -self.j * self.grids[ij[0]][ij[1]] * self.grids[i][j]\n",
    "                energy_total += energy_ij\n",
    "                ### compute the energy of external field\n",
    "                energy_total += -self.h * self.grids[i][j]\n",
    "        energy_per_spin = energy_total / (self.dims[0] * self.dims[1])\n",
    "        return energy_per_spin\n",
    "    \n",
    "    def magnet_grids(self):\n",
    "        magnet_x, magnet_y = 0, 0\n",
    "        for i in range(self.length):\n",
    "            magnet_x += np.sin(self.grids[i])\n",
    "            magnet_y += np.cos(self.grids[i])\n",
    "        return magnet_x, magnet_y"
   ]
  },
  {
   "cell_type": "markdown",
   "id": "e6ee9ea6-b5eb-4baf-b0c1-ed86c48cfe01",
   "metadata": {},
   "source": [
    "### Low Temperature (External Field h = 0)"
   ]
  },
  {
   "cell_type": "code",
   "execution_count": 179,
   "id": "9a965bca-917f-431d-8531-40deec4afd26",
   "metadata": {},
   "outputs": [],
   "source": [
    "ising_2d = ISING_2D_ladder(beta=200, j=1, h=0, dims=(10, 10), nc=5)"
   ]
  },
  {
   "cell_type": "code",
   "execution_count": 180,
   "id": "d0b5f0eb-5e2e-43b2-983f-8a4022dad97d",
   "metadata": {},
   "outputs": [
    {
     "data": {
      "image/png": "[encoded data removed]",
      "text/plain": [
       "<Figure size 720x720 with 1 Axes>"
      ]
     },
     "metadata": {
      "needs_background": "light"
     },
     "output_type": "display_data"
    }
   ],
   "source": [
    "ising_2d.spin_viz()"
   ]
  },
  {
   "cell_type": "code",
   "execution_count": null,
   "id": "cc065c42-639d-464c-888e-135a123595d0",
   "metadata": {},
   "outputs": [],
   "source": [
    "ising_2d.ladder_evolution()"
   ]
  },
  {
   "cell_type": "code",
   "execution_count": 182,
   "id": "dae34765-f97e-4ee5-920b-6cba7034f1f3",
   "metadata": {},
   "outputs": [
    {
     "data": {
      "image/png": "[encoded data removed]",
      "text/plain": [
       "<Figure size 720x720 with 1 Axes>"
      ]
     },
     "metadata": {
      "needs_background": "light"
     },
     "output_type": "display_data"
    }
   ],
   "source": [
    "ising_2d.spin_viz()"
   ]
  },
  {
   "cell_type": "code",
   "execution_count": 183,
   "id": "669af812-eb48-4afa-9287-2eeac6039c4c",
   "metadata": {},
   "outputs": [
    {
     "name": "stdout",
     "output_type": "stream",
     "text": [
      "The energy of the system is: -1.000.\n"
     ]
    }
   ],
   "source": [
    "print(f\"The energy of the system is: {ising_2d.energy_compute_grids():.3f}.\")"
   ]
  },
  {
   "cell_type": "markdown",
   "id": "e54522bd-a297-4194-8538-87f9c78ef822",
   "metadata": {},
   "source": [
    "------\n",
    "### High Temperature (External Field = 0)"
   ]
  },
  {
   "cell_type": "code",
   "execution_count": 185,
   "id": "68db6b75-61b1-4685-b4b6-4509ded55958",
   "metadata": {},
   "outputs": [],
   "source": [
    "ising_2d = ISING_2D_ladder(beta=1, j=1, h=0, dims=(10, 10))"
   ]
  },
  {
   "cell_type": "code",
   "execution_count": 186,
   "id": "145be194-36c4-4015-82c2-2287661882f8",
   "metadata": {},
   "outputs": [
    {
     "data": {
      "image/png": "[encoded data removed]",
      "text/plain": [
       "<Figure size 720x720 with 1 Axes>"
      ]
     },
     "metadata": {
      "needs_background": "light"
     },
     "output_type": "display_data"
    }
   ],
   "source": [
    "ising_2d.spin_viz()"
   ]
  },
  {
   "cell_type": "code",
   "execution_count": 188,
   "id": "0b6255f2-363b-4b4d-b1fe-4a1cfeb5be89",
   "metadata": {},
   "outputs": [],
   "source": [
    "ising_2d.ladder_evolution()"
   ]
  },
  {
   "cell_type": "code",
   "execution_count": 189,
   "id": "ceaa42e3-0a1f-49e1-9885-f538d2fc8eb7",
   "metadata": {},
   "outputs": [
    {
     "data": {
      "image/png": "[encoded data removed]",
      "text/plain": [
       "<Figure size 720x720 with 1 Axes>"
      ]
     },
     "metadata": {
      "needs_background": "light"
     },
     "output_type": "display_data"
    }
   ],
   "source": [
    "ising_2d.spin_viz()"
   ]
  },
  {
   "cell_type": "code",
   "execution_count": 190,
   "id": "edc0e09d-7d9f-4a59-a5f7-f443b5061fdd",
   "metadata": {},
   "outputs": [
    {
     "name": "stdout",
     "output_type": "stream",
     "text": [
      "The energy of the system is: -0.640.\n"
     ]
    }
   ],
   "source": [
    "print(f\"The energy of the system is: {ising_2d.energy_compute_grids():.3f}.\")"
   ]
  },
  {
   "cell_type": "markdown",
   "id": "12aa3faa-20aa-44da-b716-3b8d737eb0d9",
   "metadata": {},
   "source": [
    "-----\n",
    "### External field h = 0"
   ]
  },
  {
   "cell_type": "code",
   "execution_count": 192,
   "id": "c5e58d65-24c9-491e-a99b-f5df89634572",
   "metadata": {},
   "outputs": [],
   "source": [
    "temp_list = [0.1 + 0.5 * i for i in range(10)]\n",
    "beta_list = [1 / temp for temp in temp_list]\n",
    "dims = (5, 5)"
   ]
  },
  {
   "cell_type": "code",
   "execution_count": 194,
   "id": "c69b6507-ffd0-4915-a262-dc4e3e1a3c86",
   "metadata": {},
   "outputs": [
    {
     "data": {
      "application/vnd.jupyter.widget-view+json": {
       "model_id": "1b0c5c7f9f3146e2b5924e56ac364973",
       "version_major": 2,
       "version_minor": 0
      },
      "text/plain": [
       "  0%|          | 0/10 [00:00<?, ?it/s]"
      ]
     },
     "metadata": {},
     "output_type": "display_data"
    },
    {
     "data": {
      "application/vnd.jupyter.widget-view+json": {
       "model_id": "e487271160a24a98ae9c7dc12a3debb6",
       "version_major": 2,
       "version_minor": 0
      },
      "text/plain": [
       "  0%|          | 0/10000 [00:00<?, ?it/s]"
      ]
     },
     "metadata": {},
     "output_type": "display_data"
    },
    {
     "data": {
      "application/vnd.jupyter.widget-view+json": {
       "model_id": "822c5f9e84324dd1af1a8426472739d5",
       "version_major": 2,
       "version_minor": 0
      },
      "text/plain": [
       "  0%|          | 0/10000 [00:00<?, ?it/s]"
      ]
     },
     "metadata": {},
     "output_type": "display_data"
    },
    {
     "name": "stdout",
     "output_type": "stream",
     "text": [
      "iterations are done!\n"
     ]
    },
    {
     "data": {
      "application/vnd.jupyter.widget-view+json": {
       "model_id": "213fd71f425546b3b6f1bfff624bb99d",
       "version_major": 2,
       "version_minor": 0
      },
      "text/plain": [
       "  0%|          | 0/10000 [00:00<?, ?it/s]"
      ]
     },
     "metadata": {},
     "output_type": "display_data"
    },
    {
     "data": {
      "application/vnd.jupyter.widget-view+json": {
       "model_id": "b027b0c0e31048bd92f9d3539680f15b",
       "version_major": 2,
       "version_minor": 0
      },
      "text/plain": [
       "  0%|          | 0/10000 [00:00<?, ?it/s]"
      ]
     },
     "metadata": {},
     "output_type": "display_data"
    },
    {
     "name": "stdout",
     "output_type": "stream",
     "text": [
      "iterations are done!\n"
     ]
    },
    {
     "data": {
      "application/vnd.jupyter.widget-view+json": {
       "model_id": "9cc67f53b6b6430bb0a2b2bf16e70436",
       "version_major": 2,
       "version_minor": 0
      },
      "text/plain": [
       "  0%|          | 0/10000 [00:00<?, ?it/s]"
      ]
     },
     "metadata": {},
     "output_type": "display_data"
    },
    {
     "data": {
      "application/vnd.jupyter.widget-view+json": {
       "model_id": "e4de2a39d852459abbb4d9e946077c01",
       "version_major": 2,
       "version_minor": 0
      },
      "text/plain": [
       "  0%|          | 0/10000 [00:00<?, ?it/s]"
      ]
     },
     "metadata": {},
     "output_type": "display_data"
    },
    {
     "name": "stdout",
     "output_type": "stream",
     "text": [
      "iterations are done!\n"
     ]
    },
    {
     "data": {
      "application/vnd.jupyter.widget-view+json": {
       "model_id": "aa0816248357495ba4a02f2ddec6b6e0",
       "version_major": 2,
       "version_minor": 0
      },
      "text/plain": [
       "  0%|          | 0/10000 [00:00<?, ?it/s]"
      ]
     },
     "metadata": {},
     "output_type": "display_data"
    },
    {
     "data": {
      "application/vnd.jupyter.widget-view+json": {
       "model_id": "84275ec0920e4d5783747284be31ee62",
       "version_major": 2,
       "version_minor": 0
      },
      "text/plain": [
       "  0%|          | 0/10000 [00:00<?, ?it/s]"
      ]
     },
     "metadata": {},
     "output_type": "display_data"
    },
    {
     "name": "stdout",
     "output_type": "stream",
     "text": [
      "iterations are done!\n"
     ]
    },
    {
     "data": {
      "application/vnd.jupyter.widget-view+json": {
       "model_id": "27f2ed664fd844c9956ad630cc7cd6bd",
       "version_major": 2,
       "version_minor": 0
      },
      "text/plain": [
       "  0%|          | 0/10000 [00:00<?, ?it/s]"
      ]
     },
     "metadata": {},
     "output_type": "display_data"
    },
    {
     "data": {
      "application/vnd.jupyter.widget-view+json": {
       "model_id": "e8e4d1e1365448668ab01dd631bd676d",
       "version_major": 2,
       "version_minor": 0
      },
      "text/plain": [
       "  0%|          | 0/10000 [00:00<?, ?it/s]"
      ]
     },
     "metadata": {},
     "output_type": "display_data"
    },
    {
     "name": "stdout",
     "output_type": "stream",
     "text": [
      "iterations are done!\n"
     ]
    },
    {
     "data": {
      "application/vnd.jupyter.widget-view+json": {
       "model_id": "d108a36c2d8145c1ba1fc74a62c0a62e",
       "version_major": 2,
       "version_minor": 0
      },
      "text/plain": [
       "  0%|          | 0/10000 [00:00<?, ?it/s]"
      ]
     },
     "metadata": {},
     "output_type": "display_data"
    },
    {
     "data": {
      "application/vnd.jupyter.widget-view+json": {
       "model_id": "85ca639eea244f7895b968fb8e483dd4",
       "version_major": 2,
       "version_minor": 0
      },
      "text/plain": [
       "  0%|          | 0/10000 [00:00<?, ?it/s]"
      ]
     },
     "metadata": {},
     "output_type": "display_data"
    },
    {
     "name": "stdout",
     "output_type": "stream",
     "text": [
      "iterations are done!\n"
     ]
    },
    {
     "data": {
      "application/vnd.jupyter.widget-view+json": {
       "model_id": "3a43496ca5ce4c36b583374d1da50054",
       "version_major": 2,
       "version_minor": 0
      },
      "text/plain": [
       "  0%|          | 0/10000 [00:00<?, ?it/s]"
      ]
     },
     "metadata": {},
     "output_type": "display_data"
    },
    {
     "data": {
      "application/vnd.jupyter.widget-view+json": {
       "model_id": "f357a62f611e41958d7aae0485549d3c",
       "version_major": 2,
       "version_minor": 0
      },
      "text/plain": [
       "  0%|          | 0/10000 [00:00<?, ?it/s]"
      ]
     },
     "metadata": {},
     "output_type": "display_data"
    },
    {
     "name": "stdout",
     "output_type": "stream",
     "text": [
      "iterations are done!\n"
     ]
    },
    {
     "data": {
      "application/vnd.jupyter.widget-view+json": {
       "model_id": "b18777ae5f974505a0d7eb482d946c28",
       "version_major": 2,
       "version_minor": 0
      },
      "text/plain": [
       "  0%|          | 0/10000 [00:00<?, ?it/s]"
      ]
     },
     "metadata": {},
     "output_type": "display_data"
    },
    {
     "data": {
      "application/vnd.jupyter.widget-view+json": {
       "model_id": "1c81c093b9ba49ceb31fd993b7e789a0",
       "version_major": 2,
       "version_minor": 0
      },
      "text/plain": [
       "  0%|          | 0/10000 [00:00<?, ?it/s]"
      ]
     },
     "metadata": {},
     "output_type": "display_data"
    },
    {
     "name": "stdout",
     "output_type": "stream",
     "text": [
      "iterations are done!\n"
     ]
    },
    {
     "data": {
      "application/vnd.jupyter.widget-view+json": {
       "model_id": "06bce4b6c14243528badf8f88d4b298c",
       "version_major": 2,
       "version_minor": 0
      },
      "text/plain": [
       "  0%|          | 0/10000 [00:00<?, ?it/s]"
      ]
     },
     "metadata": {},
     "output_type": "display_data"
    },
    {
     "data": {
      "application/vnd.jupyter.widget-view+json": {
       "model_id": "d9c187ec7e6c48ce84f314c77a86ab53",
       "version_major": 2,
       "version_minor": 0
      },
      "text/plain": [
       "  0%|          | 0/10000 [00:00<?, ?it/s]"
      ]
     },
     "metadata": {},
     "output_type": "display_data"
    },
    {
     "name": "stdout",
     "output_type": "stream",
     "text": [
      "iterations are done!\n"
     ]
    },
    {
     "data": {
      "application/vnd.jupyter.widget-view+json": {
       "model_id": "834f18b927fd4efa89a1f346ff1beda5",
       "version_major": 2,
       "version_minor": 0
      },
      "text/plain": [
       "  0%|          | 0/10000 [00:00<?, ?it/s]"
      ]
     },
     "metadata": {},
     "output_type": "display_data"
    },
    {
     "data": {
      "application/vnd.jupyter.widget-view+json": {
       "model_id": "2bde72b7915c4d398e52e7de5e5c0a8f",
       "version_major": 2,
       "version_minor": 0
      },
      "text/plain": [
       "  0%|          | 0/10000 [00:00<?, ?it/s]"
      ]
     },
     "metadata": {},
     "output_type": "display_data"
    },
    {
     "name": "stdout",
     "output_type": "stream",
     "text": [
      "iterations are done!\n"
     ]
    }
   ],
   "source": [
    "mean_sampling_list = []\n",
    "std_sampling_list = []\n",
    "for i in trange(10):\n",
    "    beta = beta_list[i]\n",
    "    ising_2d = ISING_2D_ladder(beta=beta, h=0, dims=dims)\n",
    "    ### Get to the equilibrium state\n",
    "    for _ in trange(10000):\n",
    "        ising_2d.ladder_evolution()\n",
    "    ### Sampling stage\n",
    "    energy_list = []\n",
    "    for i in trange(10000):\n",
    "        ising_2d.ladder_evolution()\n",
    "        energy_list.append(ising_2d.energy_compute_grids())\n",
    "    print(\"iterations are done!\")\n",
    "    mean_sampling_list.append(np.mean(energy_list))\n",
    "    std_sampling_list.append(np.std(energy_list))"
   ]
  },
  {
   "cell_type": "code",
   "execution_count": 195,
   "id": "0f3f4240-b6ba-424f-bad7-5155302871a6",
   "metadata": {},
   "outputs": [
    {
     "data": {
      "text/plain": [
       "[-1.0,\n",
       " -0.999984,\n",
       " -0.9996320000000002,\n",
       " -0.995168,\n",
       " -0.978032,\n",
       " -0.93984,\n",
       " -0.8757279999999998,\n",
       " -0.7792479999999999,\n",
       " -0.6385599999999999,\n",
       " -0.47884799999999994]"
      ]
     },
     "execution_count": 195,
     "metadata": {},
     "output_type": "execute_result"
    }
   ],
   "source": [
    "mean_sampling_list"
   ]
  },
  {
   "cell_type": "code",
   "execution_count": 196,
   "id": "3a331a58-eaf5-437a-832a-22bf3148e13a",
   "metadata": {},
   "outputs": [
    {
     "data": {
      "text/plain": [
       "[0.0,\n",
       " 0.0015999199979999,\n",
       " 0.0076645010274642164,\n",
       " 0.028119953342777795,\n",
       " 0.06210158593788085,\n",
       " 0.10337337374778865,\n",
       " 0.1517081079441702,\n",
       " 0.20489547212176262,\n",
       " 0.2601227525611706,\n",
       " 0.29715442600775777]"
      ]
     },
     "execution_count": 196,
     "metadata": {},
     "output_type": "execute_result"
    }
   ],
   "source": [
    "std_sampling_list"
   ]
  },
  {
   "cell_type": "code",
   "execution_count": 197,
   "id": "4f91014b-f6b9-4284-94e6-0a612909cace",
   "metadata": {},
   "outputs": [
    {
     "data": {
      "text/plain": [
       "<matplotlib.legend.Legend at 0x7f8a18af8c70>"
      ]
     },
     "execution_count": 197,
     "metadata": {},
     "output_type": "execute_result"
    },
    {
     "data": {
      "image/png": "[encoded data removed]",
      "text/plain": [
       "<Figure size 432x288 with 1 Axes>"
      ]
     },
     "metadata": {
      "needs_background": "light"
     },
     "output_type": "display_data"
    }
   ],
   "source": [
    "plt.plot(temp_list, mean_sampling_list, '--', label='ladder')\n",
    "#plt.plot(energy_mean_list, 'o', label='metropolis')\n",
    "plt.xlabel('Temperature')\n",
    "plt.ylabel('Energy_per_spin')\n",
    "plt.title('2D Ising model (dims=(5, 5))')\n",
    "plt.legend()"
   ]
  },
  {
   "cell_type": "code",
   "execution_count": 198,
   "id": "37546954-2c24-40b5-a8c1-b8837bbdbbed",
   "metadata": {},
   "outputs": [],
   "source": [
    "beta_list = [0.05 * i for i in range(1, 11)]\n",
    "temp_list = [1 / beta for beta in beta_list]\n",
    "dims = (5, 5)"
   ]
  },
  {
   "cell_type": "code",
   "execution_count": 200,
   "id": "8f4a9878-3ab1-4b77-9867-a292f68137f5",
   "metadata": {},
   "outputs": [
    {
     "data": {
      "application/vnd.jupyter.widget-view+json": {
       "model_id": "96fdafaa625d467a93d660dde116fe9b",
       "version_major": 2,
       "version_minor": 0
      },
      "text/plain": [
       "  0%|          | 0/10 [00:00<?, ?it/s]"
      ]
     },
     "metadata": {},
     "output_type": "display_data"
    },
    {
     "data": {
      "application/vnd.jupyter.widget-view+json": {
       "model_id": "32a7c3fe903747fab05c845692cc8a20",
       "version_major": 2,
       "version_minor": 0
      },
      "text/plain": [
       "  0%|          | 0/10000 [00:00<?, ?it/s]"
      ]
     },
     "metadata": {},
     "output_type": "display_data"
    },
    {
     "data": {
      "application/vnd.jupyter.widget-view+json": {
       "model_id": "8fc92b6619db4d4a813a32fdb3470343",
       "version_major": 2,
       "version_minor": 0
      },
      "text/plain": [
       "  0%|          | 0/10000 [00:00<?, ?it/s]"
      ]
     },
     "metadata": {},
     "output_type": "display_data"
    },
    {
     "name": "stdout",
     "output_type": "stream",
     "text": [
      "iterations are done!\n"
     ]
    },
    {
     "data": {
      "application/vnd.jupyter.widget-view+json": {
       "model_id": "a42b2222ae064b7db6ea6935d5adfbc1",
       "version_major": 2,
       "version_minor": 0
      },
      "text/plain": [
       "  0%|          | 0/10000 [00:00<?, ?it/s]"
      ]
     },
     "metadata": {},
     "output_type": "display_data"
    },
    {
     "data": {
      "application/vnd.jupyter.widget-view+json": {
       "model_id": "92bc9e900a1d41ec94f7e5e0b0008ca4",
       "version_major": 2,
       "version_minor": 0
      },
      "text/plain": [
       "  0%|          | 0/10000 [00:00<?, ?it/s]"
      ]
     },
     "metadata": {},
     "output_type": "display_data"
    },
    {
     "name": "stdout",
     "output_type": "stream",
     "text": [
      "iterations are done!\n"
     ]
    },
    {
     "data": {
      "application/vnd.jupyter.widget-view+json": {
       "model_id": "e45a724231274971aa8428c5f89e5291",
       "version_major": 2,
       "version_minor": 0
      },
      "text/plain": [
       "  0%|          | 0/10000 [00:00<?, ?it/s]"
      ]
     },
     "metadata": {},
     "output_type": "display_data"
    },
    {
     "data": {
      "application/vnd.jupyter.widget-view+json": {
       "model_id": "9a499a0aa5e347a59393a262a3577cab",
       "version_major": 2,
       "version_minor": 0
      },
      "text/plain": [
       "  0%|          | 0/10000 [00:00<?, ?it/s]"
      ]
     },
     "metadata": {},
     "output_type": "display_data"
    },
    {
     "name": "stdout",
     "output_type": "stream",
     "text": [
      "iterations are done!\n"
     ]
    },
    {
     "data": {
      "application/vnd.jupyter.widget-view+json": {
       "model_id": "962015d2e5674012a91575fb08758a04",
       "version_major": 2,
       "version_minor": 0
      },
      "text/plain": [
       "  0%|          | 0/10000 [00:00<?, ?it/s]"
      ]
     },
     "metadata": {},
     "output_type": "display_data"
    },
    {
     "data": {
      "application/vnd.jupyter.widget-view+json": {
       "model_id": "a136d12431f8470d9db7d5ed097d4303",
       "version_major": 2,
       "version_minor": 0
      },
      "text/plain": [
       "  0%|          | 0/10000 [00:00<?, ?it/s]"
      ]
     },
     "metadata": {},
     "output_type": "display_data"
    },
    {
     "name": "stdout",
     "output_type": "stream",
     "text": [
      "iterations are done!\n"
     ]
    },
    {
     "data": {
      "application/vnd.jupyter.widget-view+json": {
       "model_id": "a7967ceecd164374b6bfc1a239a43aa8",
       "version_major": 2,
       "version_minor": 0
      },
      "text/plain": [
       "  0%|          | 0/10000 [00:00<?, ?it/s]"
      ]
     },
     "metadata": {},
     "output_type": "display_data"
    },
    {
     "data": {
      "application/vnd.jupyter.widget-view+json": {
       "model_id": "35fb1d0ad6bb43f2af9fe682c54e1cab",
       "version_major": 2,
       "version_minor": 0
      },
      "text/plain": [
       "  0%|          | 0/10000 [00:00<?, ?it/s]"
      ]
     },
     "metadata": {},
     "output_type": "display_data"
    },
    {
     "name": "stdout",
     "output_type": "stream",
     "text": [
      "iterations are done!\n"
     ]
    },
    {
     "data": {
      "application/vnd.jupyter.widget-view+json": {
       "model_id": "2a0a911934a54bcd9bedb2a655bca511",
       "version_major": 2,
       "version_minor": 0
      },
      "text/plain": [
       "  0%|          | 0/10000 [00:00<?, ?it/s]"
      ]
     },
     "metadata": {},
     "output_type": "display_data"
    },
    {
     "data": {
      "application/vnd.jupyter.widget-view+json": {
       "model_id": "91444640bd1e40ff84ac689f988b9c04",
       "version_major": 2,
       "version_minor": 0
      },
      "text/plain": [
       "  0%|          | 0/10000 [00:00<?, ?it/s]"
      ]
     },
     "metadata": {},
     "output_type": "display_data"
    },
    {
     "name": "stdout",
     "output_type": "stream",
     "text": [
      "iterations are done!\n"
     ]
    },
    {
     "data": {
      "application/vnd.jupyter.widget-view+json": {
       "model_id": "4dde392f4e9747e6b471ba661601c29c",
       "version_major": 2,
       "version_minor": 0
      },
      "text/plain": [
       "  0%|          | 0/10000 [00:00<?, ?it/s]"
      ]
     },
     "metadata": {},
     "output_type": "display_data"
    },
    {
     "data": {
      "application/vnd.jupyter.widget-view+json": {
       "model_id": "0cfe3e3cf37744b6a0720e06d4dbca66",
       "version_major": 2,
       "version_minor": 0
      },
      "text/plain": [
       "  0%|          | 0/10000 [00:00<?, ?it/s]"
      ]
     },
     "metadata": {},
     "output_type": "display_data"
    },
    {
     "name": "stdout",
     "output_type": "stream",
     "text": [
      "iterations are done!\n"
     ]
    },
    {
     "data": {
      "application/vnd.jupyter.widget-view+json": {
       "model_id": "379c66004a88495ca74916e2646ec968",
       "version_major": 2,
       "version_minor": 0
      },
      "text/plain": [
       "  0%|          | 0/10000 [00:00<?, ?it/s]"
      ]
     },
     "metadata": {},
     "output_type": "display_data"
    },
    {
     "data": {
      "application/vnd.jupyter.widget-view+json": {
       "model_id": "efd7564a8f9041879c9a58417b2b9cb9",
       "version_major": 2,
       "version_minor": 0
      },
      "text/plain": [
       "  0%|          | 0/10000 [00:00<?, ?it/s]"
      ]
     },
     "metadata": {},
     "output_type": "display_data"
    },
    {
     "name": "stdout",
     "output_type": "stream",
     "text": [
      "iterations are done!\n"
     ]
    },
    {
     "data": {
      "application/vnd.jupyter.widget-view+json": {
       "model_id": "6306a97bde9f450b935b9702bcfc9764",
       "version_major": 2,
       "version_minor": 0
      },
      "text/plain": [
       "  0%|          | 0/10000 [00:00<?, ?it/s]"
      ]
     },
     "metadata": {},
     "output_type": "display_data"
    },
    {
     "data": {
      "application/vnd.jupyter.widget-view+json": {
       "model_id": "066fa3c8e1f24cfd8c274100fe450b92",
       "version_major": 2,
       "version_minor": 0
      },
      "text/plain": [
       "  0%|          | 0/10000 [00:00<?, ?it/s]"
      ]
     },
     "metadata": {},
     "output_type": "display_data"
    },
    {
     "name": "stdout",
     "output_type": "stream",
     "text": [
      "iterations are done!\n"
     ]
    },
    {
     "data": {
      "application/vnd.jupyter.widget-view+json": {
       "model_id": "807362ee6a8c4a8fa632b32b67b31592",
       "version_major": 2,
       "version_minor": 0
      },
      "text/plain": [
       "  0%|          | 0/10000 [00:00<?, ?it/s]"
      ]
     },
     "metadata": {},
     "output_type": "display_data"
    },
    {
     "data": {
      "application/vnd.jupyter.widget-view+json": {
       "model_id": "7b0af41b7e9d4c3b9d2e4bc1f6f28b39",
       "version_major": 2,
       "version_minor": 0
      },
      "text/plain": [
       "  0%|          | 0/10000 [00:00<?, ?it/s]"
      ]
     },
     "metadata": {},
     "output_type": "display_data"
    },
    {
     "name": "stdout",
     "output_type": "stream",
     "text": [
      "iterations are done!\n"
     ]
    }
   ],
   "source": [
    "mean_sampling_list = []\n",
    "std_sampling_list = []\n",
    "for i in trange(10):\n",
    "    beta = beta_list[i]\n",
    "    ising_2d = ISING_2D_ladder(beta=beta, h=0, dims=dims)\n",
    "    ### Get to the equilibrium state\n",
    "    for _ in trange(10000):\n",
    "        ising_2d.ladder_evolution()\n",
    "    ### Sampling stage\n",
    "    energy_list = []\n",
    "    for i in trange(10000):\n",
    "        ising_2d.ladder_evolution()\n",
    "        energy_list.append(ising_2d.energy_compute_grids())\n",
    "    print(\"iterations are done!\")\n",
    "    mean_sampling_list.append(np.mean(energy_list))\n",
    "    std_sampling_list.append(np.std(energy_list))"
   ]
  },
  {
   "cell_type": "code",
   "execution_count": 201,
   "id": "997e5efd-cf45-46e8-8cf8-e23179f4834a",
   "metadata": {},
   "outputs": [
    {
     "data": {
      "text/plain": [
       "[-0.008512,\n",
       " -0.04825599999999999,\n",
       " -0.13859200000000002,\n",
       " -0.36624,\n",
       " -0.681904,\n",
       " -0.8345600000000001,\n",
       " -0.9149280000000001,\n",
       " -0.95104,\n",
       " -0.970672,\n",
       " -0.981856]"
      ]
     },
     "execution_count": 201,
     "metadata": {},
     "output_type": "execute_result"
    }
   ],
   "source": [
    "mean_sampling_list"
   ]
  },
  {
   "cell_type": "code",
   "execution_count": 202,
   "id": "210ce8a3-f2fa-4706-a1cd-4142262da8c5",
   "metadata": {},
   "outputs": [
    {
     "data": {
      "text/plain": [
       "[0.2007390989717748,\n",
       " 0.2108808157799092,\n",
       " 0.24190696049514573,\n",
       " 0.29190591360916274,\n",
       " 0.24924890126939375,\n",
       " 0.17845875265730168,\n",
       " 0.12459420057129465,\n",
       " 0.09098416565534907,\n",
       " 0.0712136813821614,\n",
       " 0.05564238729601742]"
      ]
     },
     "execution_count": 202,
     "metadata": {},
     "output_type": "execute_result"
    }
   ],
   "source": [
    "std_sampling_list"
   ]
  },
  {
   "cell_type": "code",
   "execution_count": 204,
   "id": "35bf3d80-9307-456d-a643-3d17a00e2cc5",
   "metadata": {},
   "outputs": [],
   "source": [
    "energy_metropolis_list = [-0.051888,\n",
    "                          -0.10681600000000001,\n",
    "                          -0.187264,\n",
    "                          -0.32660800000000006,\n",
    "                          -0.548512,\n",
    "                          -0.7941919999999999,\n",
    "                          -0.8984639999999999,\n",
    "                          -0.949824,\n",
    "                          -0.9734879999999999,\n",
    "                          -0.985568]"
   ]
  },
  {
   "cell_type": "code",
   "execution_count": 205,
   "id": "22754d16-fa69-4204-b158-d54ac71bdfcd",
   "metadata": {},
   "outputs": [
    {
     "data": {
      "text/plain": [
       "<matplotlib.legend.Legend at 0x7f8a19cce6a0>"
      ]
     },
     "execution_count": 205,
     "metadata": {},
     "output_type": "execute_result"
    },
    {
     "data": {
      "image/png": "[encoded data removed]",
      "text/plain": [
       "<Figure size 432x288 with 1 Axes>"
      ]
     },
     "metadata": {
      "needs_background": "light"
     },
     "output_type": "display_data"
    }
   ],
   "source": [
    "plt.plot(temp_list, mean_sampling_list, 'o', label='ladder')\n",
    "plt.plot(temp_list, energy_metropolis_list, '--', label='metropolis')\n",
    "plt.xlabel('Temperature')\n",
    "plt.ylabel('Energy_per_spin')\n",
    "plt.title('2D Ising model (dims=(5, 5))')\n",
    "plt.legend()"
   ]
  },
  {
   "cell_type": "markdown",
   "id": "9dfc67b7-9fbc-476a-a97a-2b92402f275b",
   "metadata": {},
   "source": [
    "---"
   ]
  },
  {
   "cell_type": "code",
   "execution_count": 206,
   "id": "b60a151c-85f7-4a37-bc8f-de177392f9dd",
   "metadata": {},
   "outputs": [],
   "source": [
    "beta_list = [0.05 * i for i in range(1, 11)]\n",
    "temp_list = [1 / beta for beta in beta_list]\n",
    "dims = (5, 5)"
   ]
  },
  {
   "cell_type": "code",
   "execution_count": null,
   "id": "b8fcfe86-f227-479a-9c59-bd44e4e8302f",
   "metadata": {},
   "outputs": [],
   "source": [
    "mean_sampling_list = []\n",
    "std_sampling_list = []\n",
    "for i in trange(10):\n",
    "    beta = beta_list[i]\n",
    "    ising_2d = ISING_2D_ladder(beta=beta, h=0, dims=dims)\n",
    "    ### Get to the equilibrium state\n",
    "    for _ in trange(100000):\n",
    "        ising_2d.ladder_evolution()\n",
    "    ### Sampling stage\n",
    "    energy_list = []\n",
    "    for i in trange(100000):\n",
    "        ising_2d.ladder_evolution()\n",
    "        energy_list.append(ising_2d.energy_compute_grids())\n",
    "    print(\"iterations are done!\")\n",
    "    mean_sampling_list.append(np.mean(energy_list))\n",
    "    std_sampling_list.append(np.std(energy_list))"
   ]
  },
  {
   "cell_type": "code",
   "execution_count": 208,
   "id": "8d9b9cc9-8293-4e8b-9b5d-d49872e11cb2",
   "metadata": {},
   "outputs": [
    {
     "data": {
      "text/plain": [
       "<matplotlib.legend.Legend at 0x7f8a19547d90>"
      ]
     },
     "execution_count": 208,
     "metadata": {},
     "output_type": "execute_result"
    },
    {
     "data": {
      "image/png": "[encoded data removed]",
      "text/plain": [
       "<Figure size 432x288 with 1 Axes>"
      ]
     },
     "metadata": {
      "needs_background": "light"
     },
     "output_type": "display_data"
    }
   ],
   "source": [
    "plt.plot(temp_list, mean_sampling_list, 'o', label='ladder')\n",
    "plt.plot(temp_list, energy_metropolis_list, '--', label='metropolis')\n",
    "plt.xlabel('Temperature')\n",
    "plt.ylabel('Energy_per_spin')\n",
    "plt.title('2D Ising model (dims=(5, 5))')\n",
    "plt.legend()"
   ]
  },
  {
   "cell_type": "code",
   "execution_count": null,
   "id": "b76c7e3d-f9e4-43f9-82d7-8f1fad8a997f",
   "metadata": {},
   "outputs": [],
   "source": []
  }
 ],
 "metadata": {
  "kernelspec": {
   "display_name": "Python 3 (ipykernel)",
   "language": "python",
   "name": "python3"
  },
  "language_info": {
   "codemirror_mode": {
    "name": "ipython",
    "version": 3
   },
   "file_extension": ".py",
   "mimetype": "text/x-python",
   "name": "python",
   "nbconvert_exporter": "python",
   "pygments_lexer": "ipython3",
   "version": "3.9.10"
  }
 },
 "nbformat": 4,
 "nbformat_minor": 5
}
