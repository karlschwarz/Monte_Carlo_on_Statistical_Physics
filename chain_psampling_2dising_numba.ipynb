{
 "cells": [
  {
   "cell_type": "markdown",
   "id": "92f5893c-cbba-4ab4-b3a2-4865a613ac20",
   "metadata": {},
   "source": [
    "# Strip Sampling on 2dising square lattice with Numba acceleration\n",
    "## 332.83 seconds used for 1E6 steps of Chain Sampling"
   ]
  },
  {
   "cell_type": "code",
   "execution_count": 1,
   "id": "d3d4a2cc-4034-4b73-a07d-f14f72b8fcbd",
   "metadata": {},
   "outputs": [],
   "source": [
    "import numpy as np\n",
    "import matplotlib.pyplot as plt\n",
    "from tqdm.auto import trange"
   ]
  },
  {
   "cell_type": "code",
   "execution_count": 2,
   "id": "3046a8ec-ea05-4de9-8d38-ebdddcd17a8f",
   "metadata": {},
   "outputs": [],
   "source": [
    "import copy\n",
    "import time"
   ]
  },
  {
   "cell_type": "code",
   "execution_count": 3,
   "id": "7da351dd-794a-4857-a7b8-46d7be00035f",
   "metadata": {},
   "outputs": [],
   "source": [
    "import numba as nb"
   ]
  },
  {
   "cell_type": "code",
   "execution_count": 4,
   "id": "039be9e4-8b0d-440b-8e8f-f17abae78e0c",
   "metadata": {},
   "outputs": [],
   "source": [
    "### fix the random seed\n",
    "seed = 0\n",
    "np.random.seed(seed)"
   ]
  },
  {
   "cell_type": "markdown",
   "id": "800937b3-d8fd-4c69-b7bf-76573a7ca076",
   "metadata": {},
   "source": [
    "-----------"
   ]
  },
  {
   "cell_type": "code",
   "execution_count": 5,
   "id": "a13d0419-3d22-4b2d-a319-1eb28374d9e8",
   "metadata": {},
   "outputs": [],
   "source": [
    "global grids, dims, beta, j, h, delta"
   ]
  },
  {
   "cell_type": "code",
   "execution_count": 6,
   "id": "f87e1652-129d-4726-93b2-7302cade6324",
   "metadata": {},
   "outputs": [],
   "source": [
    "def parameters_init(dims_init, beta_init, j_init, h_init):\n",
    "    global grids, dims, beta, j, h\n",
    "    dims = (nb.int8(dims_init[0]), nb.int8(dims_init[1]))\n",
    "    beta, j, h = nb.int8(beta_init), nb.int8(j_init), nb.int8(h_init)\n",
    "    grids = np.reshape(np.random.choice([nb.int8(-1), nb.int8(1)], \n",
    "                                         size=dims_init[0]*dims_init[1]), dims_init)"
   ]
  },
  {
   "cell_type": "code",
   "execution_count": 7,
   "id": "35b13aeb-bd44-4711-8d57-5e8d09e3d301",
   "metadata": {},
   "outputs": [],
   "source": [
    "### initialize the parameters\n",
    "dims_init = (10, 10)\n",
    "beta_init, j_init, h_init = 1, 1, 0"
   ]
  },
  {
   "cell_type": "code",
   "execution_count": 8,
   "id": "98a4c3fb-fe41-4e62-a4f3-c0e0ef5f7eac",
   "metadata": {},
   "outputs": [],
   "source": [
    "parameters_init(dims_init, beta_init, j_init, h_init)"
   ]
  },
  {
   "cell_type": "markdown",
   "id": "d5b6e29c-b0bd-42d1-b13c-aaebf0c60453",
   "metadata": {},
   "source": [
    "--------------"
   ]
  },
  {
   "cell_type": "code",
   "execution_count": 9,
   "id": "5eba9066-5b34-4690-9a78-66590a932933",
   "metadata": {},
   "outputs": [],
   "source": [
    "types_neibors_get = nb.int8[:, :](nb.types.UniTuple(nb.int8, 2))\n",
    "@nb.cfunc(types_neibors_get)\n",
    "def neibors_get(id_grid):\n",
    "    height, width = dims\n",
    "    height_index, width_index = id_grid\n",
    "    neibors_array = np.zeros((6, 2), dtype=np.int8)\n",
    "    neibors_array[0] = np.array([height_index, nb.int8((width_index - 1) % width)])\n",
    "    neibors_array[1] = np.array([height_index, nb.int8((width_index + 1) % width)])\n",
    "    neibors_array[2] = np.array([nb.int8((height_index - 1) % height), width_index])\n",
    "    neibors_array[3] = np.array([nb.int8((height_index + 1) % height), width_index])          \n",
    "    neibors_array[4] = np.array([nb.int8((height_index - 1) % height), \n",
    "                                 nb.int8((width_index + 1) % width)])\n",
    "    neibors_array[5] = np.array([nb.int8((height_index + 1) % height), \n",
    "                                 nb.int8((width_index - 1) % width)])\n",
    "    return neibors_array"
   ]
  },
  {
   "cell_type": "code",
   "execution_count": 10,
   "id": "e12bcd44-01ef-45ac-ac9c-ca711f5ae794",
   "metadata": {},
   "outputs": [],
   "source": [
    "type_energy_get_func = nb.int16(nb.int8[:, :], nb.int8[:, :], nb.int8)\n",
    "@nb.njit(type_energy_get_func)\n",
    "def energy_get(grids, id_neibors, spin):\n",
    "    energy = 0\n",
    "    num_neibors = id_neibors.shape[0]\n",
    "    for i in range(num_neibors):\n",
    "        energy += -j * spin * grids[id_neibors[i][0]][id_neibors[i][1]]\n",
    "    energy += -h * spin\n",
    "    return energy"
   ]
  },
  {
   "cell_type": "code",
   "execution_count": 11,
   "id": "2ff3f295-c4cc-4e7b-aff2-443253216d22",
   "metadata": {},
   "outputs": [],
   "source": [
    "type_message_on_node_func = nb.float64[:](nb.int8[:, :], nb.int8[:, :])\n",
    "@nb.njit(type_message_on_node_func)\n",
    "def message_on_node(grids, id_neibors):\n",
    "    spin_up, spin_down = 1, -1\n",
    "    energy_up = energy_get(grids, id_neibors, spin_up)\n",
    "    energy_down = -energy_up\n",
    "    message = np.array([np.exp(-beta * energy_up), \n",
    "                        np.exp(-beta * energy_down)])\n",
    "    return message"
   ]
  },
  {
   "cell_type": "code",
   "execution_count": 12,
   "id": "d72901cb-d756-4d84-a1bd-059ccc1b1b96",
   "metadata": {},
   "outputs": [],
   "source": [
    "type_message_on_edge_func = nb.float64[:, :]()\n",
    "@nb.njit(type_message_on_edge_func)\n",
    "def message_on_edge():\n",
    "    \"\"\"\n",
    "    Args:\n",
    "        edge: (tuple) (node_start, node_end)\n",
    "            \n",
    "    Returns:\n",
    "        message: (np.array) 2x2 matrix\n",
    "    \"\"\"\n",
    "    row_start_up = [np.exp(beta*j), np.exp(-1*beta*j)]\n",
    "    row_start_down = [np.exp(-1*beta*j), np.exp(beta*j)]\n",
    "    message = np.array([row_start_up, row_start_down])\n",
    "    return message"
   ]
  },
  {
   "cell_type": "code",
   "execution_count": 13,
   "id": "4865afb8-78c4-4173-b062-ed19c42c6a21",
   "metadata": {
    "tags": []
   },
   "outputs": [],
   "source": [
    "type_dict_filter_func = nb.int8[:, :](nb.int8[:, :], nb.int8[:])\n",
    "@nb.njit(type_dict_filter_func)\n",
    "def dict_filter(neibors_array, index_array):\n",
    "    num_indices = index_array.shape[0]\n",
    "    neibors_sel = np.zeros((num_indices, 2), dtype=np.int8)\n",
    "    for i in range(num_indices):\n",
    "        neibors_sel[i] = neibors_array[index_array[i]]\n",
    "    return neibors_sel"
   ]
  },
  {
   "cell_type": "code",
   "execution_count": 14,
   "id": "cdf85315-d743-4fc6-bc32-5736b94036f0",
   "metadata": {},
   "outputs": [],
   "source": [
    "type_matmul_my_func = nb.float64[:](nb.float64[:], nb.float64[:, :])\n",
    "@nb.njit(type_matmul_my_func)\n",
    "def matmul_my(vector_t, matrix):\n",
    "    len_vector_t = len(vector_t)\n",
    "    vector_output = np.zeros(len_vector_t, dtype=np.float64)\n",
    "    for i in range(len_vector_t):\n",
    "        vector_output += vector_t[i] * matrix[i, :]\n",
    "    return vector_output"
   ]
  },
  {
   "cell_type": "code",
   "execution_count": 15,
   "id": "5e988de5-b419-40d0-9b24-dc05c13449be",
   "metadata": {},
   "outputs": [],
   "source": [
    "type_chain_sampling_func = nb.types.Tuple((nb.int8[:, :], nb.float64[:, :], nb.int8))(nb.int8[:, :], \n",
    "                                                                                      nb.int8, \n",
    "                                                                                      nb.int8)\n",
    "@nb.njit(type_chain_sampling_func)\n",
    "def chain_sampling(grids, id_height, id_start):\n",
    "    stack = np.zeros((dims[1]-1, 2), dtype=np.float64)\n",
    "    id_end = nb.int8((id_start - 1) % dims[1])\n",
    "    id_start = nb.int8((id_start + 1) % dims[1])\n",
    "    if dims[1] > 2:\n",
    "        id_neibors = neibors_get((id_height, id_start))\n",
    "        index_array = np.array([0, 2, 3, 4, 5], dtype=np.int8)\n",
    "        id_neibors = dict_filter(id_neibors, index_array)\n",
    "    else:\n",
    "        id_neibors = neibors_get((id_height, id_start))\n",
    "    message_edge = message_on_edge()\n",
    "    z_start = message_on_node(grids, id_neibors)\n",
    "    stack[id_start, :] = z_start\n",
    "    while id_start != id_end:\n",
    "        id_start = nb.int8((id_start + 1) % dims[1])\n",
    "        ###########################################\n",
    "        #z_start = np.matmul(z_start, message_edge)\n",
    "        # matrix multiplication is not supported, so we implement our own matmul function\n",
    "        z_start = matmul_my(z_start, message_edge)\n",
    "        ###########################################\n",
    "        if id_start == id_end:\n",
    "            id_neibors = neibors_get((id_height, id_start))\n",
    "            index_array = np.array([1, 2, 3, 4, 5],dtype=np.int8)\n",
    "            id_neibors = dict_filter(id_neibors, index_array)\n",
    "        else:\n",
    "            id_neibors = neibors_get((id_height, id_start))\n",
    "            index_array = np.array([2, 3, 4, 5], dtype=np.int8)\n",
    "            id_neibors = dict_filter(id_neibors, index_array)\n",
    "        node_message = message_on_node(grids, id_neibors)\n",
    "        z_start = z_start * node_message\n",
    "        stack[id_start, :] = z_start\n",
    "    z_start = stack[id_end]\n",
    "    z_start_norm = z_start / np.sum(z_start)\n",
    "    if np.random.random() < z_start_norm[0]:\n",
    "        spin_start = nb.int8(1)\n",
    "    else:\n",
    "        spin_start = nb.int8(-1)\n",
    "    grids[id_height][id_start] = spin_start\n",
    "        \n",
    "    return grids, stack, id_start"
   ]
  },
  {
   "cell_type": "code",
   "execution_count": 16,
   "id": "ddd1deaf-49f0-440f-9bd7-c41d66bfbb3d",
   "metadata": {},
   "outputs": [],
   "source": [
    "type_backtrack_sampling_func = nb.int8[:, :](nb.int8[:, :], nb.int8, nb.int8, nb.float64[:, :])\n",
    "@nb.njit(type_backtrack_sampling_func)\n",
    "def backtrack_sampling(grids, id_height, id_start, stack):\n",
    "    message_edge = message_on_edge()\n",
    "    #while len(stack) != 0:\n",
    "    for _ in range(dims[1] - 2):\n",
    "        id_start = nb.int8((id_start - 1) % dims[1])   \n",
    "        neibors_array = neibors_get((id_height, id_start))\n",
    "        index_array = np.array([1], dtype=np.int8)\n",
    "        neibors_sel = dict_filter(neibors_array, index_array)\n",
    "        message_node = message_on_node(grids, neibors_sel)\n",
    "        z_start = message_node * stack[id_start]\n",
    "        z_norm = z_start / np.sum(z_start)\n",
    "        if np.random.random() < z_norm[0]:\n",
    "            spin_start = 1\n",
    "        else:\n",
    "            spin_start = -1\n",
    "        grids[id_height][id_start] = spin_start\n",
    "    return grids"
   ]
  },
  {
   "cell_type": "code",
   "execution_count": 17,
   "id": "3162340b-35ae-4ed6-aa8c-85cbfbdbf42c",
   "metadata": {},
   "outputs": [],
   "source": [
    "type_one_row_sampling_func = nb.int8[:, :](nb.int8[:, :], nb.int8)\n",
    "@nb.njit(type_one_row_sampling_func)\n",
    "def one_row_sampling(grids, id_height):\n",
    "    #id_start = loop_sampling(id_height)\n",
    "    id_start = np.random.randint(dims[1])\n",
    "    grids, stack, id_start = chain_sampling(grids, id_height, id_start)\n",
    "    grids = backtrack_sampling(grids, id_height, id_start, stack)\n",
    "    return grids"
   ]
  },
  {
   "cell_type": "code",
   "execution_count": 18,
   "id": "ac9bca5c-7c60-40b4-b1cc-dada2d2a1f1b",
   "metadata": {},
   "outputs": [],
   "source": [
    "type_chain_evol_one_step_func = nb.int8[:, :](nb.int8[:, :])\n",
    "@nb.njit(type_chain_evol_one_step_func)\n",
    "def chain_evolution_one_step(grids):\n",
    "    for i in range(dims[0]-1):\n",
    "        grids = one_row_sampling(grids, i) \n",
    "    grids = np.transpose(grids)\n",
    "    for j in range(dims[1]-1):\n",
    "        grids = one_row_sampling(grids, j)\n",
    "    grids = np.transpose(grids)\n",
    "    return grids"
   ]
  },
  {
   "cell_type": "code",
   "execution_count": 19,
   "id": "e7219b50-296d-4407-a2e2-c241097b579b",
   "metadata": {},
   "outputs": [],
   "source": [
    "@nb.njit(nb.float32(nb.int8[:, :]))\n",
    "def energy_compute_grids(grids):\n",
    "    energy_total = 0\n",
    "    for ii in range(dims[0]):\n",
    "        for jj in range(dims[1]):\n",
    "            id_neibors = neibors_get((nb.int8(ii), nb.int8(jj)))\n",
    "            for ij in id_neibors:\n",
    "                energy_ij = -1/2 * j * grids[ij[0]][ij[1]] * grids[ii][jj]\n",
    "                energy_total += energy_ij\n",
    "            ### compute the energy of external field\n",
    "            energy_total += -h * grids[ii][jj]\n",
    "    energy_per_spin = energy_total / (dims[0] * dims[1])\n",
    "    return energy_per_spin"
   ]
  },
  {
   "cell_type": "code",
   "execution_count": 20,
   "id": "6c92896e-3f3a-4329-86b6-5746b74172c4",
   "metadata": {},
   "outputs": [],
   "source": [
    "type_chain_evol_func = nb.types.Tuple((nb.int8[:, :], nb.float32[:]))(nb.int8[:, :], nb.int32)\n",
    "@nb.njit(type_chain_evol_func)\n",
    "def chain_evolution(grids, steps):\n",
    "    energy_array = np.zeros(steps+1, dtype=np.float32)\n",
    "    energy_array[0] = energy_compute_grids(grids)\n",
    "    for i in range(steps):\n",
    "        grids = chain_evolution_one_step(grids)\n",
    "        energy_array[i+1] = energy_compute_grids(grids)\n",
    "    return grids, energy_array"
   ]
  },
  {
   "cell_type": "code",
   "execution_count": 21,
   "id": "f146ace6-2de5-4e0e-a4e0-b4548da2a6ee",
   "metadata": {},
   "outputs": [],
   "source": [
    "@nb.njit(nb.float32(nb.int8[:, :]))\n",
    "def magnet_grids(grids):\n",
    "    pass\n",
    "    m = 0\n",
    "    for ii in range(dims[0]*dims[1]):\n",
    "        row_grids, col_grids = ii // dims[1], ii % dims[1] \n",
    "        m += grids[row_grids][col_grids]\n",
    "    m_avg = m / (dims[0] * dims[1])\n",
    "    return m_avg"
   ]
  },
  {
   "cell_type": "code",
   "execution_count": 22,
   "id": "117e338f-b0bd-4eb8-87b3-0a58f785e04e",
   "metadata": {},
   "outputs": [],
   "source": [
    "def spin_viz(figsize=(10, 10), save=False, folder_name=None):\n",
    "    fig = plt.figure(figsize=figsize)\n",
    "    x, y = np.meshgrid(np.arange(0, dims[0]), np.arange(0, dims[1]))\n",
    "    u = np.cos(grids*np.pi/2)\n",
    "    v = np.sin(grids*np.pi/2)\n",
    "    q = plt.quiver(x, y, u, v)\n",
    "    plt.axis('off')\n",
    "    plt.title('T={:.3f}, spins={}'.format(1/beta, dims), fontsize=20)\n",
    "    if save and step is not None:\n",
    "        plt.savefig(f'./{folder_name}/config_plot_step_{step}.pdf', dpi=100)\n",
    "        plt.close(fig)"
   ]
  },
  {
   "cell_type": "code",
   "execution_count": 23,
   "id": "0c3888a1-bafc-4c43-9106-b6bfce011324",
   "metadata": {},
   "outputs": [],
   "source": [
    "def spin_viz_dynamic(self, spins_list, file_name, figsize=(10, 10)):\n",
    "    fig = plt.figure(figsize=figsize)\n",
    "    x, y = np.meshgrid(np.arange(0, dims[0]), np.arange(0, dims[1]))\n",
    "    u = np.cos(spins_list[0]*np.pi/2)\n",
    "    v = np.sin(spins_list[0]*np.pi/2)\n",
    "    q = plt.quiver(x, y, u, v)\n",
    "    plt.axis('off')\n",
    "    plt.title(f'T={1/beta:.3f}, dims={dims}', fontsize=20)            \n",
    "    def update_quiver(num, q):\n",
    "        u = np.cos(spins_list[num+1]*np.pi/2)\n",
    "        v = np.sin(spins_list[num+1]*np.pi/2)\n",
    "        q.set_UVC(u, v)\n",
    "        return q\n",
    "    frames = len(spins_list) - 1\n",
    "    anim = animation.FuncAnimation(fig, update_quiver, frames=frames, \n",
    "                                   fargs=(q, ), interval=50, repeat=False)\n",
    "    writergif = animation.PillowWriter(fps=100) \n",
    "    anim.save(f'./{file_name}.gif', writer=writergif)"
   ]
  },
  {
   "cell_type": "markdown",
   "id": "f7e1858c-59b2-4920-a7ad-fb1b84d487d7",
   "metadata": {},
   "source": [
    "--------"
   ]
  },
  {
   "cell_type": "code",
   "execution_count": 24,
   "id": "ebc5a6ea-f4ce-42d5-a3a8-85b59f69ae77",
   "metadata": {},
   "outputs": [
    {
     "data": {
      "text/plain": [
       "array([[-1,  1,  1, -1,  1,  1,  1,  1,  1,  1],\n",
       "       [ 1, -1, -1,  1, -1, -1, -1, -1, -1,  1],\n",
       "       [-1,  1,  1, -1, -1,  1,  1,  1,  1, -1],\n",
       "       [ 1, -1,  1, -1,  1,  1, -1,  1,  1, -1],\n",
       "       [-1,  1, -1,  1,  1,  1,  1,  1, -1,  1],\n",
       "       [-1,  1,  1,  1,  1, -1,  1, -1, -1,  1],\n",
       "       [ 1, -1,  1, -1,  1, -1, -1, -1, -1, -1],\n",
       "       [ 1,  1, -1, -1, -1,  1,  1, -1,  1, -1],\n",
       "       [-1,  1, -1,  1,  1,  1,  1,  1,  1, -1],\n",
       "       [ 1,  1, -1, -1,  1, -1, -1,  1,  1, -1]], dtype=int8)"
      ]
     },
     "execution_count": 24,
     "metadata": {},
     "output_type": "execute_result"
    }
   ],
   "source": [
    "grids"
   ]
  },
  {
   "cell_type": "code",
   "execution_count": 25,
   "id": "98665908-cbf4-457e-8d53-2b3971b4be31",
   "metadata": {},
   "outputs": [
    {
     "data": {
      "image/png": "[encoded data removed]",
      "text/plain": [
       "<Figure size 720x720 with 1 Axes>"
      ]
     },
     "metadata": {
      "needs_background": "light"
     },
     "output_type": "display_data"
    }
   ],
   "source": [
    "spin_viz()"
   ]
  },
  {
   "cell_type": "code",
   "execution_count": 26,
   "id": "49c14e54-4f2d-4363-8ce8-8ea976e94a4f",
   "metadata": {},
   "outputs": [
    {
     "name": "stdout",
     "output_type": "stream",
     "text": [
      "Time used for 1E6 steps is: 332.8280346393585.\n"
     ]
    }
   ],
   "source": [
    "time_start = time.time()\n",
    "grids, energy_array = chain_evolution(grids, 1000000)\n",
    "time_end = time.time()\n",
    "print(f\"Time used for 1E6 steps is: {time_end-time_start}.\")"
   ]
  },
  {
   "cell_type": "code",
   "execution_count": 27,
   "id": "acf94bf7-076c-410f-8a1b-8a0feee7cf53",
   "metadata": {},
   "outputs": [
    {
     "data": {
      "image/png": "[encoded data removed]",
      "text/plain": [
       "<Figure size 720x720 with 1 Axes>"
      ]
     },
     "metadata": {
      "needs_background": "light"
     },
     "output_type": "display_data"
    }
   ],
   "source": [
    "spin_viz()"
   ]
  },
  {
   "cell_type": "code",
   "execution_count": 28,
   "id": "85874c8c-e3f6-4db8-af51-646364bef236",
   "metadata": {},
   "outputs": [
    {
     "data": {
      "text/plain": [
       "Text(0.5, 1.0, 'Energy Series of Cluster Evoluation')"
      ]
     },
     "execution_count": 28,
     "metadata": {},
     "output_type": "execute_result"
    },
    {
     "data": {
      "image/png": "[encoded data removed]",
      "text/plain": [
       "<Figure size 432x288 with 1 Axes>"
      ]
     },
     "metadata": {
      "needs_background": "light"
     },
     "output_type": "display_data"
    }
   ],
   "source": [
    "plt.plot(energy_array[:4000], '-r')\n",
    "plt.xlabel(\"Evolve steps\", fontsize=15)\n",
    "plt.ylabel(\"Energy_Per_Spin\", fontsize=15)\n",
    "plt.title(\"Energy Series of Cluster Evoluation\", fontsize=15)"
   ]
  },
  {
   "cell_type": "markdown",
   "id": "eea71280-0be9-418b-ad29-b95dbf87a5ad",
   "metadata": {},
   "source": [
    "----"
   ]
  },
  {
   "cell_type": "code",
   "execution_count": null,
   "id": "85413dd8-a35e-4070-9aa1-2c572b56d742",
   "metadata": {},
   "outputs": [],
   "source": []
  }
 ],
 "metadata": {
  "kernelspec": {
   "display_name": "Python 3 (ipykernel)",
   "language": "python",
   "name": "python3"
  },
  "language_info": {
   "codemirror_mode": {
    "name": "ipython",
    "version": 3
   },
   "file_extension": ".py",
   "mimetype": "text/x-python",
   "name": "python",
   "nbconvert_exporter": "python",
   "pygments_lexer": "ipython3",
   "version": "3.9.10"
  }
 },
 "nbformat": 4,
 "nbformat_minor": 5
}
