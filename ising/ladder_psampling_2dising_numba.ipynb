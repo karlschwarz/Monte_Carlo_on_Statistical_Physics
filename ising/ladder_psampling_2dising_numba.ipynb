{
 "cells": [
  {
   "cell_type": "markdown",
   "id": "92f5893c-cbba-4ab4-b3a2-4865a613ac20",
   "metadata": {},
   "source": [
    "# Ladder Sampling on 2D Ising Triangle Lattice with Numba acceleration\n",
    "##  seconds used for 1E6 steps of Ladder Sampling"
   ]
  },
  {
   "cell_type": "code",
   "execution_count": 1,
   "id": "d3d4a2cc-4034-4b73-a07d-f14f72b8fcbd",
   "metadata": {},
   "outputs": [],
   "source": [
    "import numpy as np\n",
    "import matplotlib.pyplot as plt\n",
    "from tqdm.auto import trange"
   ]
  },
  {
   "cell_type": "code",
   "execution_count": 2,
   "id": "3046a8ec-ea05-4de9-8d38-ebdddcd17a8f",
   "metadata": {},
   "outputs": [],
   "source": [
    "import copy\n",
    "import time"
   ]
  },
  {
   "cell_type": "code",
   "execution_count": 3,
   "id": "7da351dd-794a-4857-a7b8-46d7be00035f",
   "metadata": {},
   "outputs": [],
   "source": [
    "import numba as nb"
   ]
  },
  {
   "cell_type": "code",
   "execution_count": 4,
   "id": "039be9e4-8b0d-440b-8e8f-f17abae78e0c",
   "metadata": {},
   "outputs": [],
   "source": [
    "### fix the random seed\n",
    "seed = 0\n",
    "np.random.seed(seed)"
   ]
  },
  {
   "cell_type": "markdown",
   "id": "800937b3-d8fd-4c69-b7bf-76573a7ca076",
   "metadata": {},
   "source": [
    "-----------"
   ]
  },
  {
   "cell_type": "code",
   "execution_count": 5,
   "id": "a13d0419-3d22-4b2d-a319-1eb28374d9e8",
   "metadata": {},
   "outputs": [],
   "source": [
    "global grid, dims, beta, j, h, delta"
   ]
  },
  {
   "cell_type": "code",
   "execution_count": 6,
   "id": "f87e1652-129d-4726-93b2-7302cade6324",
   "metadata": {},
   "outputs": [],
   "source": [
    "def parameters_init(dims_init, beta_init, j_init, h_init):\n",
    "    global grid, dims, beta, j, h\n",
    "    dims = (nb.int8(dims_init[0]), nb.int8(dims_init[1]))\n",
    "    beta, j, h = nb.int8(beta_init), nb.int8(j_init), nb.int8(h_init)\n",
    "    grid = np.reshape(np.random.choice([nb.int8(-1), nb.int8(1)], \n",
    "                                        size=dims_init[0]*dims_init[1]), dims_init)"
   ]
  },
  {
   "cell_type": "code",
   "execution_count": 7,
   "id": "35b13aeb-bd44-4711-8d57-5e8d09e3d301",
   "metadata": {},
   "outputs": [],
   "source": [
    "### initialize the parameters\n",
    "dims_init = (3, 3)\n",
    "beta_init, j_init, h_init = 7, -1, 0"
   ]
  },
  {
   "cell_type": "code",
   "execution_count": 8,
   "id": "98a4c3fb-fe41-4e62-a4f3-c0e0ef5f7eac",
   "metadata": {},
   "outputs": [],
   "source": [
    "parameters_init(dims_init, beta_init, j_init, h_init)"
   ]
  },
  {
   "cell_type": "markdown",
   "id": "d5b6e29c-b0bd-42d1-b13c-aaebf0c60453",
   "metadata": {},
   "source": [
    "--------------"
   ]
  },
  {
   "cell_type": "code",
   "execution_count": 9,
   "id": "5eba9066-5b34-4690-9a78-66590a932933",
   "metadata": {},
   "outputs": [],
   "source": [
    "types_neibors_get = nb.int8[:, :](nb.types.UniTuple(nb.int8, 2))\n",
    "@nb.cfunc(types_neibors_get)\n",
    "def neibors_get(id_grid):\n",
    "    height, width = dims\n",
    "    height_index, width_index = id_grid\n",
    "    neibors_array = np.zeros((6, 2), dtype=np.int8)\n",
    "    neibors_array[0] = np.array([height_index, nb.int8((width_index - 1) % width)])\n",
    "    neibors_array[1] = np.array([height_index, nb.int8((width_index + 1) % width)])\n",
    "    neibors_array[2] = np.array([nb.int8((height_index - 1) % height), width_index])\n",
    "    neibors_array[3] = np.array([nb.int8((height_index + 1) % height), width_index])          \n",
    "    neibors_array[4] = np.array([nb.int8((height_index - 1) % height), \n",
    "                                 nb.int8((width_index + 1) % width)])\n",
    "    neibors_array[5] = np.array([nb.int8((height_index + 1) % height), \n",
    "                                 nb.int8((width_index - 1) % width)])\n",
    "    return neibors_array"
   ]
  },
  {
   "cell_type": "code",
   "execution_count": 10,
   "id": "767515d4-d7c4-45ab-b0bf-bd78dc497769",
   "metadata": {},
   "outputs": [],
   "source": [
    "neibors_array_u = neibors_get((1, 2))\n",
    "neibors_array_d = neibors_get((2, 2))"
   ]
  },
  {
   "cell_type": "code",
   "execution_count": 11,
   "id": "e12bcd44-01ef-45ac-ac9c-ca711f5ae794",
   "metadata": {},
   "outputs": [],
   "source": [
    "type_energy_get_func = nb.int16(nb.int8[:, :], nb.int8[:, :], nb.int8[:, :], nb.int8[:])\n",
    "@nb.njit(type_energy_get_func)\n",
    "def energy_get_nodes(grid, neibors_u, neibors_d, spins_ud):\n",
    "    energy = 0\n",
    "    spin_u, spin_d = spins_ud\n",
    "    for id_neibor in neibors_u:\n",
    "        energy += -j * spin_u * grid[id_neibor[0]][id_neibor[1]]\n",
    "    for id_neibor in neibors_d:\n",
    "        energy += -j * spin_d * grid[id_neibor[0]][id_neibor[1]]\n",
    "    return energy"
   ]
  },
  {
   "cell_type": "code",
   "execution_count": 12,
   "id": "df78ef35-f22c-45ad-87f8-9839daff7d4d",
   "metadata": {},
   "outputs": [],
   "source": [
    "energy = energy_get_nodes(grid, neibors_array_u, neibors_array_d, np.array([1, -1], dtype=np.int8))"
   ]
  },
  {
   "cell_type": "code",
   "execution_count": 13,
   "id": "ca92ee37-de58-4ad8-bbcb-c948f8c23ff2",
   "metadata": {},
   "outputs": [],
   "source": [
    "type_message_on_node_fun = nb.float64[:](nb.int8[:, :], nb.int8[:, :], nb.int8[:, :])\n",
    "@nb.njit(type_message_on_node_fun)\n",
    "def message_on_node(grid, neibors_u, neibors_d):\n",
    "    spins_uu, spins_ud = np.array([1, 1], dtype=np.int8), np.array([1, -1], dtype=np.int8)\n",
    "    spins_du, spins_dd = np.array([-1, 1], dtype=np.int8), np.array([-1, -1], dtype=np.int8)\n",
    "    energy_uu = energy_get_nodes(grid, neibors_u, neibors_d, spins_uu)\n",
    "    energy_ud = energy_get_nodes(grid, neibors_u, neibors_d, spins_ud)\n",
    "    energy_du = energy_get_nodes(grid, neibors_u, neibors_d, spins_du)\n",
    "    energy_dd = energy_get_nodes(grid, neibors_u, neibors_d, spins_dd)\n",
    "    message = np.array([np.exp(-beta * energy_uu), \n",
    "                        np.exp(-beta * energy_ud),\n",
    "                        np.exp(-beta * energy_du), \n",
    "                        np.exp(-beta * energy_dd)])\n",
    "    return message "
   ]
  },
  {
   "cell_type": "code",
   "execution_count": 14,
   "id": "308447c4-ebb3-4583-85a4-530ea10a7135",
   "metadata": {},
   "outputs": [],
   "source": [
    "message = message_on_node(grid, neibors_array_u, neibors_array_d)"
   ]
  },
  {
   "cell_type": "code",
   "execution_count": 15,
   "id": "37ee3a79-eb45-4438-8897-6176699018a4",
   "metadata": {},
   "outputs": [],
   "source": [
    "type_energy_get_func = nb.int32(nb.int8[:, :], nb.int8[:, :], nb.int8[:, :], nb.int8[:])\n",
    "@nb.njit(type_energy_get_func)\n",
    "def energy_get_pair_nodes(grid, neibors_u, neibors_d, spins_ud):\n",
    "    energy = 0\n",
    "    spin_u, spin_d = spins_ud\n",
    "    for id_neibor in neibors_u:\n",
    "        energy += -j * spin_u * grid[id_neibor[0]][id_neibor[1]]\n",
    "    for id_neibor in neibors_d:\n",
    "        energy += -j * spin_d * grid[id_neibor[0]][id_neibor[1]]\n",
    "    energy += -j * h * spin_d\n",
    "    energy += -j * h * spin_u\n",
    "    energy += -j * spin_u * spin_d\n",
    "    return energy"
   ]
  },
  {
   "cell_type": "code",
   "execution_count": 16,
   "id": "3f6cef2b-18c5-4d56-a2bf-29143ca3262a",
   "metadata": {},
   "outputs": [],
   "source": [
    "energy = energy_get_pair_nodes(grid, neibors_array_u, neibors_array_d, np.array([1, 1], dtype=np.int8))"
   ]
  },
  {
   "cell_type": "code",
   "execution_count": 17,
   "id": "d72901cb-d756-4d84-a1bd-059ccc1b1b96",
   "metadata": {},
   "outputs": [],
   "source": [
    "type_message_on_pair_nodes_func = nb.float64[:](nb.int8[:, :], nb.int8[:, :], nb.int8[:, :])\n",
    "@nb.njit(type_message_on_pair_nodes_func)\n",
    "def message_on_pair_nodes(grid, neibors_u, neibors_d):\n",
    "    spins_uu, spins_ud = np.array([1, 1], dtype=np.int8), np.array([1, -1], dtype=np.int8)\n",
    "    spins_du, spins_dd = np.array([-1, 1], dtype=np.int8), np.array([-1, -1], dtype=np.int8)\n",
    "    energy_uu = energy_get_pair_nodes(grid, neibors_u, neibors_d, spins_uu)\n",
    "    energy_ud = energy_get_pair_nodes(grid, neibors_u, neibors_d, spins_ud)\n",
    "    energy_du = energy_get_pair_nodes(grid, neibors_u, neibors_d, spins_du)\n",
    "    energy_dd = energy_get_pair_nodes(grid, neibors_u, neibors_d, spins_dd)\n",
    "    message = np.array([np.exp(-beta * energy_uu), np.exp(-beta * energy_ud),\n",
    "                        np.exp(-beta * energy_du), np.exp(-beta * energy_dd)])\n",
    "    return message"
   ]
  },
  {
   "cell_type": "code",
   "execution_count": 18,
   "id": "43100a5d-7fd3-4d04-851e-2ac1435b8b28",
   "metadata": {},
   "outputs": [],
   "source": [
    "message = message_on_pair_nodes(grid, neibors_array_u, neibors_array_d)"
   ]
  },
  {
   "cell_type": "code",
   "execution_count": 19,
   "id": "c8096acd-0e4b-4d1b-99ee-a0b96c6567de",
   "metadata": {},
   "outputs": [],
   "source": [
    "type_message_compute_one_row_func = nb.float64[:](nb.int8[:], nb.int8[:, :])\n",
    "@nb.njit(type_message_compute_one_row_func)\n",
    "def message_compute_one_row(spins_left, spins_right_array):\n",
    "    \"\"\"\n",
    "    Args:\n",
    "        spins_left: (np.array)\n",
    "        spins_right_array: (np.array) \n",
    "                \n",
    "    Returns:\n",
    "        left_right_row: (np.array)\n",
    "    \"\"\"\n",
    "    spin_lu, spin_ld = spins_left\n",
    "    left_right_array = np.zeros(spins_right_array.shape[0])\n",
    "    for i, spins_right in enumerate(spins_right_array):\n",
    "        energy_total = 0\n",
    "        spin_ru, spin_rd = spins_right\n",
    "        energy_total += -j * spin_lu * spin_ru\n",
    "        energy_total += -j * spin_ld * spin_rd\n",
    "        energy_total += -j * spin_ld * spin_ru\n",
    "        left_right_array[i] = np.exp(-beta * energy_total)\n",
    "    return left_right_array"
   ]
  },
  {
   "cell_type": "code",
   "execution_count": 20,
   "id": "6fd4b1ed-d04f-4ab8-9358-773f530a79f1",
   "metadata": {},
   "outputs": [],
   "source": [
    "spins_right_array = np.array([[1, 1], [1, -1], [-1, 1], [-1, -1]], dtype=np.int8)"
   ]
  },
  {
   "cell_type": "code",
   "execution_count": 21,
   "id": "2b7132cd-6a7b-4c72-ad3b-32d3f4b27e2b",
   "metadata": {},
   "outputs": [
    {
     "data": {
      "text/plain": [
       "array([9.11881966e-04, 1.09663316e+03, 9.11881966e-04, 1.09663316e+03])"
      ]
     },
     "execution_count": 21,
     "metadata": {},
     "output_type": "execute_result"
    }
   ],
   "source": [
    "message_compute_one_row(np.array([-1, 1], dtype=np.int8), spins_right_array)"
   ]
  },
  {
   "cell_type": "code",
   "execution_count": 22,
   "id": "36b785ff-4861-47d9-af8b-1ad41cbbbc1a",
   "metadata": {},
   "outputs": [],
   "source": [
    "type_message_on_edge_func = nb.float64[:, :]()\n",
    "@nb.njit(type_message_on_edge_func)\n",
    "def message_on_edge():\n",
    "    \"\"\"\n",
    "    Args:\n",
    "        edge: (tuple) (node_start, node_end)\n",
    "            \n",
    "    Returns:\n",
    "        message: (np.array) 4x4 matrix\n",
    "    \"\"\"\n",
    "    spins_left_array = np.array([(1, 1), (1, -1), (-1, 1), (-1, -1)], dtype=np.int8)\n",
    "    spins_right_array = np.array([(1, 1), (1, -1), (-1, 1), (-1, -1)], dtype=np.int8)\n",
    "    message_array = np.zeros((4, 4), dtype=np.float64)\n",
    "    for i, spins_left in enumerate(spins_left_array):\n",
    "        message_array[i] = message_compute_one_row(spins_left, spins_right_array)\n",
    "    return message_array"
   ]
  },
  {
   "cell_type": "code",
   "execution_count": 23,
   "id": "5e43356f-2a45-426b-9e9b-4630a1d66e35",
   "metadata": {},
   "outputs": [
    {
     "data": {
      "text/plain": [
       "array([[7.58256043e-10, 9.11881966e-04, 1.09663316e+03, 1.31881573e+09],\n",
       "       [1.09663316e+03, 9.11881966e-04, 1.09663316e+03, 9.11881966e-04],\n",
       "       [9.11881966e-04, 1.09663316e+03, 9.11881966e-04, 1.09663316e+03],\n",
       "       [1.31881573e+09, 1.09663316e+03, 9.11881966e-04, 7.58256043e-10]])"
      ]
     },
     "execution_count": 23,
     "metadata": {},
     "output_type": "execute_result"
    }
   ],
   "source": [
    "message_on_edge()"
   ]
  },
  {
   "cell_type": "code",
   "execution_count": 24,
   "id": "4865afb8-78c4-4173-b062-ed19c42c6a21",
   "metadata": {
    "tags": []
   },
   "outputs": [],
   "source": [
    "type_dict_filter_func = nb.int8[:, :](nb.int8[:, :], nb.int8[:])\n",
    "@nb.njit(type_dict_filter_func)\n",
    "def dict_filter(neibors_array, index_array):\n",
    "    num_indices = index_array.shape[0]\n",
    "    neibors_sel = np.zeros((num_indices, 2), dtype=np.int8)\n",
    "    for i in range(num_indices):\n",
    "        neibors_sel[i] = neibors_array[index_array[i]]\n",
    "    return neibors_sel"
   ]
  },
  {
   "cell_type": "code",
   "execution_count": 25,
   "id": "39ea2e93-d151-4d7c-b28b-2d97f9b9b34e",
   "metadata": {},
   "outputs": [],
   "source": [
    "type_matmul_my_func = nb.float64[:](nb.float64[:], nb.float64[:, :])\n",
    "@nb.njit(type_matmul_my_func)\n",
    "def matmul_my(vector_t, matrix):\n",
    "    len_vector_t = len(vector_t)\n",
    "    vector_output = np.zeros(len_vector_t, dtype=np.float64)\n",
    "    for i in range(len_vector_t):\n",
    "        vector_output += vector_t[i] * matrix[i, :]\n",
    "    return vector_output"
   ]
  },
  {
   "cell_type": "code",
   "execution_count": 26,
   "id": "db84b171-a596-471b-91cd-56c23ff05cc4",
   "metadata": {},
   "outputs": [],
   "source": [
    "type_chain_sampling_func = nb.types.Tuple((nb.int8[:, :], nb.float64[:, :], nb.int8))(nb.int8[:, :], \n",
    "                                                                                      nb.int8, \n",
    "                                                                                      nb.int8)\n",
    "@nb.njit(type_chain_sampling_func)\n",
    "def chain_sampling(grid, id_height, id_start):\n",
    "    stack = np.zeros((dims[1]-1, 4), dtype=np.float64)\n",
    "    id_end = nb.int8((id_start - 1) % dims[1])\n",
    "    id_start = nb.int8((id_start + 1) % dims[1])\n",
    "    ######################################################\n",
    "    ### We assume that the dims[1] > 2\n",
    "    start_d = (nb.int8((id_height + 1) % dims[0]), id_start)\n",
    "    start_u = (nb.int8(id_height % dims[0]), id_start)\n",
    "    neibors_u = neibors_get(start_u)\n",
    "    neibors_d = neibors_get(start_d)\n",
    "    #keys_u = ('u', 'ur', 'l', 'dl')\n",
    "    index_u_array = np.array([2, 4, 0, 5], dtype=np.int8)\n",
    "    #keys_d = ('l', 'd', 'dl')\n",
    "    index_d_array = np.array([0, 3, 5], dtype=np.int8)\n",
    "    neibors_u_array = dict_filter(neibors_u, index_u_array)\n",
    "    neibors_d_array = dict_filter(neibors_d, index_d_array)\n",
    "    ######################################################\n",
    "    message_edge = message_on_edge()\n",
    "    start_ud_array = np.zeros((2, 2), dtype=np.int8)\n",
    "    start_ud_array[0], start_ud_array[1] = start_u, start_d\n",
    "    #start_ud, neibors_ud = (start_u, start_d), (neibors_u, neibors_d)\n",
    "    z_start = message_on_pair_nodes(grid, neibors_u_array, neibors_d_array)\n",
    "    stack[0] = z_start\n",
    "    while id_start != id_end:\n",
    "        id_start = nb.int8((id_start + 1) % dims[1])\n",
    "        z_start = matmul_my(z_start, message_edge)\n",
    "        if id_start == id_end:\n",
    "            start_d = (nb.int8((id_height + 1) % dims[0]), id_start)\n",
    "            start_u = (id_height, id_start)\n",
    "            neibors_u = neibors_get(start_u)\n",
    "            neibors_d = neibors_get(start_d)\n",
    "            #keys_u = ('u', 'ur', 'r')\n",
    "            index_u_array = np.array([1, 2, 4], dtype=np.int8)\n",
    "            #keys_d = ('d', 'dl', 'r', 'ur')\n",
    "            index_d_array = np.array([1, 3, 4, 5], dtype=np.int8)\n",
    "            neibors_u_array = dict_filter(neibors_u, index_u_array)\n",
    "            neibors_d_array = dict_filter(neibors_d, index_d_array)\n",
    "        else:\n",
    "            start_d = (nb.int8((id_height + 1) % dims[0]), id_start)\n",
    "            start_u = (id_height, id_start)\n",
    "            neibors_u = neibors_get(start_u)\n",
    "            neibors_d = neibors_get(start_d)\n",
    "            #keys_u = ('u', 'ur')\n",
    "            index_u_array = np.array([2, 4], dtype=np.int8)\n",
    "            #keys_d = ('d', 'dl')\n",
    "            index_d_array = np.array([3, 5], dtype=np.int8)\n",
    "            neibors_u_array = dict_filter(neibors_u, index_u_array)\n",
    "            neibors_d_array = dict_filter(neibors_d, index_d_array)\n",
    "        node_message = message_on_pair_nodes(grid, neibors_u_array, neibors_d_array)\n",
    "        z_start = z_start * node_message\n",
    "        stack[id_start-1] = z_start \n",
    "    z_start = stack[-1]\n",
    "    z_start_norm = z_start / np.sum(z_start)\n",
    "    unif_random = np.random.random()\n",
    "    if unif_random < z_start_norm[0]:\n",
    "        spin_start = np.array([1, 1], dtype=np.int8)\n",
    "    elif z_start_norm[0] <= unif_random < z_start_norm[0] + z_start_norm[1]:\n",
    "        spin_start = np.array([1, -1], dtype=np.int8)\n",
    "    elif z_start_norm[0] + z_start_norm[1] <= unif_random < 1 - z_start_norm[-1]:\n",
    "        spin_start = np.array([-1, 1], dtype=np.int8)\n",
    "    else:\n",
    "        spin_start = np.array([-1, -1], dtype=np.int8)\n",
    "    grid[id_height][id_start] = spin_start[0]\n",
    "    grid[nb.int8((id_height+1)%dims[0])][id_start] = spin_start[1] \n",
    "    return grid, stack, id_start"
   ]
  },
  {
   "cell_type": "code",
   "execution_count": 27,
   "id": "a5ae0fd1-68a9-4e47-8a74-6740591be146",
   "metadata": {},
   "outputs": [],
   "source": [
    "grid, stack, id_start = chain_sampling(grid, 0, 0)"
   ]
  },
  {
   "cell_type": "code",
   "execution_count": 28,
   "id": "cff7f50a-a3ef-48d3-a073-83c7e4140024",
   "metadata": {},
   "outputs": [],
   "source": [
    "@nb.njit\n",
    "def backtrack_sampling(grid, id_height, id_start, stack):\n",
    "    message_edge = message_on_edge()\n",
    "    len_stack = len(stack) - 2\n",
    "    while len_stack >= 0:\n",
    "        id_start = nb.int8((id_start - 1) % dims[1])\n",
    "        start_u = (nb.int8(id_height), nb.int8(id_start))\n",
    "        start_d = (nb.int8((id_height + 1) % dims[0]), id_start)\n",
    "        neibors_d = neibors_get(start_d)\n",
    "        neibors_u = neibors_get(start_u)\n",
    "        #keys_u = ('u', 'ur', 'r')\n",
    "        #keys_d = ('ur', 'r', 'd', 'dl')\n",
    "        #keys_u = ('r')\n",
    "        #keys_d = ('r', 'ur')\n",
    "        index_u_array = np.array([1], dtype=np.int8)\n",
    "        index_d_array = np.array([1, 4], dtype=np.int8)\n",
    "        #neibors_u = dict_filter(neibors_u, keys_u)\n",
    "        #neibors_d = dict_filter(neibors_d, keys_d)\n",
    "        neibors_u = dict_filter(neibors_u, index_u_array)\n",
    "        neibors_d = dict_filter(neibors_d, index_d_array)\n",
    "        #start_ud = (start_u, start_d)\n",
    "        #neibors_ud = (neibors_u, neibors_d)\n",
    "        message_node = message_on_node(grid, neibors_u, neibors_d)\n",
    "        #message_node = message_on_pair_nodes(grid, neibors_u, neibors_d)\n",
    "        z_start = message_node * stack[len_stack]\n",
    "        z_start_norm = z_start / np.sum(z_start)\n",
    "        unif_random = np.random.random()\n",
    "        if unif_random < z_start_norm[0]:\n",
    "            spin_start = np.array([1, 1])\n",
    "        elif z_start_norm[0] <= unif_random < z_start_norm[0] + z_start_norm[1]:\n",
    "            spin_start = np.array([1, -1])\n",
    "        elif z_start_norm[0] + z_start_norm[1] <= unif_random < 1 - z_start_norm[-1]:\n",
    "            spin_start = np.array([-1, 1])\n",
    "        else:\n",
    "            spin_start = np.array([-1, -1])\n",
    "        grid[id_height][id_start] = spin_start[0]\n",
    "        grid[(id_height+1)%dims[0]][id_start] = spin_start[1]\n",
    "        len_stack -= 1\n",
    "    return grid"
   ]
  },
  {
   "cell_type": "code",
   "execution_count": 29,
   "id": "22f9f4cd-c39c-4373-945d-da8153174046",
   "metadata": {},
   "outputs": [],
   "source": [
    "grid = backtrack_sampling(grid, 0, id_start, stack)"
   ]
  },
  {
   "cell_type": "code",
   "execution_count": 30,
   "id": "3162340b-35ae-4ed6-aa8c-85cbfbdbf42c",
   "metadata": {},
   "outputs": [],
   "source": [
    "type_one_row_sampling_func = nb.int8[:, :](nb.int8[:, :], nb.int8)\n",
    "@nb.njit(type_one_row_sampling_func)\n",
    "def one_row_sampling(grid, id_height):\n",
    "    #id_start = loop_sampling(id_height)\n",
    "    #id_start = np.random.randint(dims[1])\n",
    "    id_start = 0\n",
    "    grid, stack, id_start = chain_sampling(grid, id_height, id_start)\n",
    "    grid = backtrack_sampling(grid, id_height, id_start, stack)\n",
    "    return grid"
   ]
  },
  {
   "cell_type": "code",
   "execution_count": 31,
   "id": "ac9bca5c-7c60-40b4-b1cc-dada2d2a1f1b",
   "metadata": {},
   "outputs": [],
   "source": [
    "type_chain_evol_one_step_func = nb.int8[:, :](nb.int8[:, :])\n",
    "@nb.njit(type_chain_evol_one_step_func)\n",
    "def chain_evolution_one_step(grid):\n",
    "    for i in range(dims[0]):\n",
    "        grid = one_row_sampling(grid, i) \n",
    "    grid = np.transpose(grid)\n",
    "    grid = one_row_sampling(grid, 0)\n",
    "    return grid"
   ]
  },
  {
   "cell_type": "code",
   "execution_count": 32,
   "id": "e7219b50-296d-4407-a2e2-c241097b579b",
   "metadata": {},
   "outputs": [],
   "source": [
    "@nb.njit(nb.float32(nb.int8[:, :]))\n",
    "def energy_compute_grids(grid):\n",
    "    energy_total = 0\n",
    "    for ii in range(dims[0]):\n",
    "        for jj in range(dims[1]):\n",
    "            id_neibors = neibors_get((nb.int8(ii), nb.int8(jj)))\n",
    "            for ij in id_neibors:\n",
    "                energy_ij = -1/2 * j * grid[ij[0]][ij[1]] * grid[ii][jj]\n",
    "                energy_total += energy_ij\n",
    "            ### compute the energy of external field\n",
    "            energy_total += -h * grid[ii][jj]\n",
    "    energy_per_spin = energy_total / (dims[0] * dims[1])\n",
    "    return energy_per_spin"
   ]
  },
  {
   "cell_type": "code",
   "execution_count": 33,
   "id": "ac773456-0788-4404-9ebf-bdedc0b3a9aa",
   "metadata": {},
   "outputs": [],
   "source": [
    "energy_per_spin = energy_compute_grids(grid)"
   ]
  },
  {
   "cell_type": "code",
   "execution_count": 34,
   "id": "f146ace6-2de5-4e0e-a4e0-b4548da2a6ee",
   "metadata": {},
   "outputs": [],
   "source": [
    "@nb.njit(nb.float32(nb.int8[:, :]))\n",
    "def magnet_grids(grid):\n",
    "    m_1, m_2, m_3 = 0, 0, 0\n",
    "    for i in range(dims[0]):\n",
    "        for j in range(dims[1]):\n",
    "            if (j + i) % 3 == 0:\n",
    "                m_1 += grid[i][j]\n",
    "            elif (j + i) % 3 == 1:\n",
    "                m_2 += grid[i][j]\n",
    "            else:\n",
    "                m_3 += grid[i][j]\n",
    "    m_abs_per_spin = (np.abs(m_1) + np.abs(m_2) + np.abs(m_3)) / (dims[0] * dims[1])\n",
    "    return m_abs_per_spin"
   ]
  },
  {
   "cell_type": "code",
   "execution_count": 35,
   "id": "23ba486c-548a-4ae8-8dfa-c826a9ea62d6",
   "metadata": {},
   "outputs": [],
   "source": [
    "m_abs_per_spin = magnet_grids(grid)"
   ]
  },
  {
   "cell_type": "code",
   "execution_count": 36,
   "id": "6c92896e-3f3a-4329-86b6-5746b74172c4",
   "metadata": {},
   "outputs": [],
   "source": [
    "type_chain_evol_func = nb.types.Tuple((nb.int8[:, :], nb.float32[:], nb.float32[:]))(nb.int8[:, :], nb.int32)\n",
    "@nb.njit(type_chain_evol_func)\n",
    "def chain_evolution(grid, steps):\n",
    "    energy_array = np.zeros(steps, dtype=np.float32)\n",
    "    m2_array = np.zeros(steps, dtype=np.float32)\n",
    "    for i in range(steps):\n",
    "        energy_array[i] = energy_compute_grids(grid)\n",
    "        m2_array[i] = magnet_grids(grid)\n",
    "        grid = chain_evolution_one_step(grid)\n",
    "    return grid, energy_array, m2_array"
   ]
  },
  {
   "cell_type": "code",
   "execution_count": 37,
   "id": "36f29a47-fd88-4011-8c08-bfcb12ede9fd",
   "metadata": {},
   "outputs": [],
   "source": [
    "steps = 10000\n",
    "grid, energy_array, m2_array = chain_evolution(grid, steps)"
   ]
  },
  {
   "cell_type": "code",
   "execution_count": 38,
   "id": "117e338f-b0bd-4eb8-87b3-0a58f785e04e",
   "metadata": {},
   "outputs": [],
   "source": [
    "def spin_viz(figsize=(10, 10), save=False, folder_name=None):\n",
    "    fig = plt.figure(figsize=figsize)\n",
    "    x, y = np.meshgrid(np.arange(0, dims[0]), np.arange(0, dims[1]))\n",
    "    u = np.cos(grid*np.pi/2)\n",
    "    v = np.sin(grid*np.pi/2)\n",
    "    q = plt.quiver(x, y, u, v)\n",
    "    plt.axis('off')\n",
    "    plt.title('T={:.3f}, spins={}'.format(1/beta, dims), fontsize=20)\n",
    "    if save and step is not None:\n",
    "        plt.savefig(f'./{folder_name}/config_plot_step_{step}.pdf', dpi=100)\n",
    "        plt.close(fig)"
   ]
  },
  {
   "cell_type": "code",
   "execution_count": 39,
   "id": "0c3888a1-bafc-4c43-9106-b6bfce011324",
   "metadata": {},
   "outputs": [],
   "source": [
    "def spin_viz_dynamic(self, spins_list, file_name, figsize=(10, 10)):\n",
    "    fig = plt.figure(figsize=figsize)\n",
    "    x, y = np.meshgrid(np.arange(0, dims[0]), np.arange(0, dims[1]))\n",
    "    u = np.cos(spins_list[0]*np.pi/2)\n",
    "    v = np.sin(spins_list[0]*np.pi/2)\n",
    "    q = plt.quiver(x, y, u, v)\n",
    "    plt.axis('off')\n",
    "    plt.title(f'T={1/beta:.3f}, dims={dims}', fontsize=20)            \n",
    "    def update_quiver(num, q):\n",
    "        u = np.cos(spins_list[num+1]*np.pi/2)\n",
    "        v = np.sin(spins_list[num+1]*np.pi/2)\n",
    "        q.set_UVC(u, v)\n",
    "        return q\n",
    "    frames = len(spins_list) - 1\n",
    "    anim = animation.FuncAnimation(fig, update_quiver, frames=frames, \n",
    "                                   fargs=(q, ), interval=50, repeat=False)\n",
    "    writergif = animation.PillowWriter(fps=100) \n",
    "    anim.save(f'./{file_name}.gif', writer=writergif)"
   ]
  },
  {
   "cell_type": "markdown",
   "id": "f7e1858c-59b2-4920-a7ad-fb1b84d487d7",
   "metadata": {},
   "source": [
    "--------"
   ]
  },
  {
   "cell_type": "code",
   "execution_count": 40,
   "id": "ebc5a6ea-f4ce-42d5-a3a8-85b59f69ae77",
   "metadata": {},
   "outputs": [
    {
     "data": {
      "text/plain": [
       "array([[-1, -1,  1],\n",
       "       [ 1, -1, -1],\n",
       "       [-1,  1,  1]], dtype=int8)"
      ]
     },
     "execution_count": 40,
     "metadata": {},
     "output_type": "execute_result"
    }
   ],
   "source": [
    "grid"
   ]
  },
  {
   "cell_type": "code",
   "execution_count": 41,
   "id": "98665908-cbf4-457e-8d53-2b3971b4be31",
   "metadata": {},
   "outputs": [
    {
     "data": {
      "image/png": "[encoded data removed]",
      "text/plain": [
       "<Figure size 720x720 with 1 Axes>"
      ]
     },
     "metadata": {
      "needs_background": "light"
     },
     "output_type": "display_data"
    }
   ],
   "source": [
    "spin_viz()"
   ]
  },
  {
   "cell_type": "code",
   "execution_count": 42,
   "id": "49c14e54-4f2d-4363-8ce8-8ea976e94a4f",
   "metadata": {},
   "outputs": [
    {
     "name": "stdout",
     "output_type": "stream",
     "text": [
      "Time used for 1E5 steps is: 4.455628871917725.\n"
     ]
    }
   ],
   "source": [
    "time_start = time.time()\n",
    "grid, energy_array, m_array = chain_evolution(grid, 100000)\n",
    "time_end = time.time()\n",
    "print(f\"Time used for 1E5 steps is: {time_end-time_start}.\")"
   ]
  },
  {
   "cell_type": "code",
   "execution_count": 43,
   "id": "acf94bf7-076c-410f-8a1b-8a0feee7cf53",
   "metadata": {},
   "outputs": [
    {
     "data": {
      "image/png": "[encoded data removed]",
      "text/plain": [
       "<Figure size 720x720 with 1 Axes>"
      ]
     },
     "metadata": {
      "needs_background": "light"
     },
     "output_type": "display_data"
    }
   ],
   "source": [
    "spin_viz()"
   ]
  },
  {
   "cell_type": "code",
   "execution_count": 44,
   "id": "5ffd3734-45fb-4fb7-942f-e076a264954d",
   "metadata": {},
   "outputs": [],
   "source": [
    "m_abs_mean = np.mean(m_array)"
   ]
  },
  {
   "cell_type": "code",
   "execution_count": 45,
   "id": "bb73e8df-6a1c-4a14-abdb-d070ad5b5447",
   "metadata": {},
   "outputs": [
    {
     "name": "stdout",
     "output_type": "stream",
     "text": [
      "0.33333328\n"
     ]
    }
   ],
   "source": [
    "print(m_abs_mean)"
   ]
  },
  {
   "cell_type": "code",
   "execution_count": 46,
   "id": "85874c8c-e3f6-4db8-af51-646364bef236",
   "metadata": {},
   "outputs": [
    {
     "data": {
      "text/plain": [
       "Text(0.5, 1.0, 'Energy Series of Cluster Evoluation')"
      ]
     },
     "execution_count": 46,
     "metadata": {},
     "output_type": "execute_result"
    },
    {
     "data": {
      "image/png": "[encoded data removed]",
      "text/plain": [
       "<Figure size 432x288 with 1 Axes>"
      ]
     },
     "metadata": {
      "needs_background": "light"
     },
     "output_type": "display_data"
    }
   ],
   "source": [
    "plt.plot(energy_array, '-r')\n",
    "plt.xlabel(\"Evolve steps\", fontsize=15)\n",
    "plt.ylabel(\"Energy_Per_Spin\", fontsize=15)\n",
    "plt.title(\"Energy Series of Cluster Evoluation\", fontsize=15)"
   ]
  },
  {
   "cell_type": "code",
   "execution_count": 47,
   "id": "d302dad5-6795-47d9-ac5d-040d314da5f7",
   "metadata": {},
   "outputs": [
    {
     "data": {
      "text/plain": [
       "Text(0.5, 1.0, 'Energy Series of Cluster Evoluation')"
      ]
     },
     "execution_count": 47,
     "metadata": {},
     "output_type": "execute_result"
    },
    {
     "data": {
      "image/png": "[encoded data removed]",
      "text/plain": [
       "<Figure size 432x288 with 1 Axes>"
      ]
     },
     "metadata": {
      "needs_background": "light"
     },
     "output_type": "display_data"
    }
   ],
   "source": [
    "plt.plot(m2_array[:40000], '-r')\n",
    "plt.xlabel(\"Evolve steps\", fontsize=15)\n",
    "plt.ylabel(\"Magnet_Per_Spin\", fontsize=15)\n",
    "plt.title(\"Energy Series of Cluster Evoluation\", fontsize=15)"
   ]
  },
  {
   "cell_type": "markdown",
   "id": "eea71280-0be9-418b-ad29-b95dbf87a5ad",
   "metadata": {},
   "source": [
    "----"
   ]
  }
 ],
 "metadata": {
  "kernelspec": {
   "display_name": "Python 3 (ipykernel)",
   "language": "python",
   "name": "python3"
  },
  "language_info": {
   "codemirror_mode": {
    "name": "ipython",
    "version": 3
   },
   "file_extension": ".py",
   "mimetype": "text/x-python",
   "name": "python",
   "nbconvert_exporter": "python",
   "pygments_lexer": "ipython3",
   "version": "3.9.10"
  }
 },
 "nbformat": 4,
 "nbformat_minor": 5
}
