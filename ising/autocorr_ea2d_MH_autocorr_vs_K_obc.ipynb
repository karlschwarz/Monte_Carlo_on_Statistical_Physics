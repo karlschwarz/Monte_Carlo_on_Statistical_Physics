{
 "cells": [
  {
   "cell_type": "markdown",
   "id": "5d35b836-5328-4744-9b2f-8c6aebbcfe4c",
   "metadata": {
    "tags": []
   },
   "source": [
    "# Autocorr Time vs K\n",
    "\n",
    "## (2D Square EA [J, -J, 1/2], Size=16, obc)"
   ]
  },
  {
   "cell_type": "code",
   "execution_count": 1,
   "id": "5e4bf66b-8f2f-44a5-83c6-40f30b777227",
   "metadata": {},
   "outputs": [],
   "source": [
    "from autocorr_utils import *"
   ]
  },
  {
   "cell_type": "code",
   "execution_count": 2,
   "id": "d8271844-5c4a-48b3-8070-6c5a5e310ac0",
   "metadata": {},
   "outputs": [],
   "source": [
    "import seaborn as sns"
   ]
  },
  {
   "cell_type": "code",
   "execution_count": 3,
   "id": "4708c2ad-6bd6-49f2-a53a-d07fdae9036f",
   "metadata": {},
   "outputs": [],
   "source": [
    "def data_process_pip(data_list, repeat, steps=100):\n",
    "    autocorr_mean_list, autocorr_std_list = [], []    \n",
    "    for data in data_list:\n",
    "        data = np.reshape(data, [-1, repeat])\n",
    "        autocorr_mean, autocorr_std = autocorr_est_combine(data, (-1, repeat), steps)\n",
    "        autocorr_mean_list.append(autocorr_mean)\n",
    "        autocorr_std_list.append(autocorr_std)\n",
    "    return autocorr_mean_list, autocorr_std_list"
   ]
  },
  {
   "cell_type": "code",
   "execution_count": 4,
   "id": "949e7469-54a5-452c-a55b-073021605f62",
   "metadata": {},
   "outputs": [],
   "source": [
    "def autocorr_time_est_pip(data_list, steps=5):\n",
    "    time_list = []\n",
    "    for data in data_list:\n",
    "        autocorr_time = autocorr_time_est(data[:steps])\n",
    "        time_list.append(autocorr_time)\n",
    "    return time_list"
   ]
  },
  {
   "cell_type": "markdown",
   "id": "49d673c6-b24c-4b51-92ee-d649dd082507",
   "metadata": {},
   "source": [
    "------------\n",
    "### J_seed = 0, Metropolis"
   ]
  },
  {
   "cell_type": "code",
   "execution_count": 107,
   "id": "0d2bb016-e3f5-4c4e-a9e1-b8a54150c5fd",
   "metadata": {},
   "outputs": [],
   "source": [
    "with open('../data_2d_ea/autocorr_vs_K/metropolis_obc/size_16/ea_square_beta_1.000_q_1E7_metropolis_obc.pkl', 'rb') as file:\n",
    "    data_dict = pickle.load(file)\n",
    "    q_ea2d_beta_0 = data_dict['q_history']"
   ]
  },
  {
   "cell_type": "code",
   "execution_count": 108,
   "id": "61134ac8-651f-44c4-90ac-441632f17833",
   "metadata": {},
   "outputs": [],
   "source": [
    "with open('../data_2d_ea/autocorr_vs_K/metropolis_obc/size_16/ea_square_beta_1.250_q_1E7_metropolis_obc.pkl', 'rb') as file:\n",
    "    data_dict = pickle.load(file)\n",
    "    q_ea2d_beta_1 = data_dict['q_history']"
   ]
  },
  {
   "cell_type": "code",
   "execution_count": 109,
   "id": "6c89734a-a5a2-4988-a4da-09953cf6545e",
   "metadata": {},
   "outputs": [],
   "source": [
    "with open('../data_2d_ea/autocorr_vs_K/metropolis_obc/size_16/ea_square_beta_1.500_q_1E7_metropolis_obc.pkl', 'rb') as file:\n",
    "    data_dict = pickle.load(file)\n",
    "    q_ea2d_beta_2 = data_dict['q_history']"
   ]
  },
  {
   "cell_type": "code",
   "execution_count": 110,
   "id": "f3f83e86-35e4-4c11-b5b4-6be38bec3431",
   "metadata": {},
   "outputs": [],
   "source": [
    "with open('../data_2d_ea/autocorr_vs_K/metropolis_obc/size_16/ea_square_beta_1.750_q_1E7_metropolis_obc.pkl', 'rb') as file:\n",
    "    data_dict = pickle.load(file)\n",
    "    q_ea2d_beta_3 = data_dict['q_history']"
   ]
  },
  {
   "cell_type": "code",
   "execution_count": 111,
   "id": "6d33fa96-6cd0-4458-9509-6ad1d7e4f4d3",
   "metadata": {},
   "outputs": [],
   "source": [
    "with open('../data_2d_ea/autocorr_vs_K/metropolis_obc/size_16/ea_square_beta_2.000_q_1E7_metropolis_obc.pkl', 'rb') as file:\n",
    "    data_dict = pickle.load(file)\n",
    "    q_ea2d_beta_4 = data_dict['q_history']"
   ]
  },
  {
   "cell_type": "code",
   "execution_count": 145,
   "id": "2b292ae2-5dd7-4fe4-a723-1011b2a0438d",
   "metadata": {},
   "outputs": [],
   "source": [
    "autocorr_mean_metro_list, autocorr_std_metro_list = [], []\n",
    "for q_metro_data in q_metro_list:\n",
    "    autocorr_q_metro_mean, autocorr_q_metro_std = autocorr_est_combine(q_metro_data, (2000, 5000), steps=500)\n",
    "    autocorr_mean_metro_list.append(autocorr_q_metro_mean)\n",
    "    autocorr_std_metro_list.append(autocorr_q_metro_std)"
   ]
  },
  {
   "cell_type": "code",
   "execution_count": 146,
   "id": "603839f6-6f0f-44fa-9d79-01c1bea5a4c7",
   "metadata": {},
   "outputs": [
    {
     "data": {
      "image/png": "[encoded data removed]",
      "text/plain": [
       "<Figure size 432x288 with 1 Axes>"
      ]
     },
     "metadata": {
      "needs_background": "light"
     },
     "output_type": "display_data"
    }
   ],
   "source": [
    "errbar_plot(autocorr_mean_metro_list[4], autocorr_std_metro_list[4], 2, f'2D EA OBC, beta=2, Metropolis')"
   ]
  },
  {
   "cell_type": "code",
   "execution_count": 147,
   "id": "b71e68b6-64d1-4bb2-b8d8-ac12b97b7260",
   "metadata": {},
   "outputs": [],
   "source": [
    "beta_list = [1, 1.25, 1.5, 1.75, 2]"
   ]
  },
  {
   "cell_type": "code",
   "execution_count": 148,
   "id": "8a24bbd4-0ad7-4d66-a7db-c8598bf349e0",
   "metadata": {},
   "outputs": [],
   "source": [
    "autocorr_time_metro_list = autocorr_time_est_pip(autocorr_mean_metro_list, steps=500)"
   ]
  },
  {
   "cell_type": "code",
   "execution_count": 149,
   "id": "0a38f15c-ec62-4570-86e8-81a5061ef860",
   "metadata": {},
   "outputs": [],
   "source": [
    "index_metro, bias_metro = np.polyfit(beta_list, np.log(autocorr_time_metro_list), 1)"
   ]
  },
  {
   "cell_type": "code",
   "execution_count": 150,
   "id": "24e5039e-1e6b-435d-a7ec-a31161c23e7a",
   "metadata": {},
   "outputs": [
    {
     "data": {
      "text/plain": [
       "1.8018935058984566"
      ]
     },
     "execution_count": 150,
     "metadata": {},
     "output_type": "execute_result"
    }
   ],
   "source": [
    "index_metro"
   ]
  },
  {
   "cell_type": "code",
   "execution_count": 152,
   "id": "c82ca3c2-c7a5-45dc-a9e3-d7a26054ccb5",
   "metadata": {},
   "outputs": [
    {
     "data": {
      "text/plain": [
       "Text(0.5, 1.0, '2D (J, -J, 1/2), EA (Size=16, OBC), Autocorr VS K')"
      ]
     },
     "execution_count": 152,
     "metadata": {},
     "output_type": "execute_result"
    },
    {
     "data": {
      "image/png": "[encoded data removed]",
      "text/plain": [
       "<Figure size 432x288 with 1 Axes>"
      ]
     },
     "metadata": {
      "needs_background": "light"
     },
     "output_type": "display_data"
    }
   ],
   "source": [
    "plt.plot(beta_list, np.exp(index_metro*np.array(beta_list) + bias_metro), linewidth=2)\n",
    "plt.plot(beta_list, autocorr_time_metro_list, 'x', markersize=10, label='Metropolis')\n",
    "plt.yscale('log')\n",
    "plt.xlabel(\"K\", fontsize=13)\n",
    "plt.ylabel(\"Autocorr Time\", fontsize=13)\n",
    "plt.legend()\n",
    "plt.title(\"2D (J, -J, 1/2), EA (Size=16, OBC), Autocorr VS K\", fontsize=13)"
   ]
  },
  {
   "cell_type": "markdown",
   "id": "c854e7b3-3f02-4896-a70d-6a1039c825b7",
   "metadata": {},
   "source": [
    "#### We note here that the autocorr time of metropolis at low temperature such as K=1.8 is probably under-estimiated since the autocorr function converges too slowly."
   ]
  },
  {
   "cell_type": "code",
   "execution_count": 73,
   "id": "efca0b8a-a1d3-4004-92d5-9cdb08ab55eb",
   "metadata": {},
   "outputs": [
    {
     "ename": "NameError",
     "evalue": "name 'autocorr_time_beta_0' is not defined",
     "output_type": "error",
     "traceback": [
      "\u001b[0;31m---------------------------------------------------------------------------\u001b[0m",
      "\u001b[0;31mNameError\u001b[0m                                 Traceback (most recent call last)",
      "Input \u001b[0;32mIn [73]\u001b[0m, in \u001b[0;36m<cell line: 2>\u001b[0;34m()\u001b[0m\n\u001b[1;32m      1\u001b[0m beta_list \u001b[38;5;241m=\u001b[39m [\u001b[38;5;241m0.5\u001b[39m, \u001b[38;5;241m0.75\u001b[39m, \u001b[38;5;241m1\u001b[39m, \u001b[38;5;241m1.25\u001b[39m, \u001b[38;5;241m1.5\u001b[39m, \u001b[38;5;241m1.75\u001b[39m]\n\u001b[0;32m----> 2\u001b[0m autocorr_time_list \u001b[38;5;241m=\u001b[39m [\u001b[43mautocorr_time_beta_0\u001b[49m, autocorr_time_beta_1, autocorr_time_beta_2, \n\u001b[1;32m      3\u001b[0m                       autocorr_time_beta_3, autocorr_time_beta_4, autocorr_time_beta_5]\n",
      "\u001b[0;31mNameError\u001b[0m: name 'autocorr_time_beta_0' is not defined"
     ]
    }
   ],
   "source": [
    "beta_list = [0.5, 0.75, 1, 1.25, 1.5, 1.75]\n",
    "autocorr_time_list = [autocorr_time_beta_0, autocorr_time_beta_1, autocorr_time_beta_2, \n",
    "                      autocorr_time_beta_3, autocorr_time_beta_4, autocorr_time_beta_5]\n",
    "                      #autocorr_time_beta_6]"
   ]
  },
  {
   "cell_type": "code",
   "execution_count": 134,
   "id": "19ec943a-7cbd-48d9-8655-875375a4aaa0",
   "metadata": {},
   "outputs": [],
   "source": [
    "index_metropolis, bias = np.polyfit(beta_list, np.log(autocorr_time_list), 1)"
   ]
  },
  {
   "cell_type": "code",
   "execution_count": 135,
   "id": "9643a1bd-7047-4b7f-9fe4-60358eabb818",
   "metadata": {},
   "outputs": [
    {
     "data": {
      "text/plain": [
       "4.078373228711447"
      ]
     },
     "execution_count": 135,
     "metadata": {},
     "output_type": "execute_result"
    }
   ],
   "source": [
    "index_metropolis"
   ]
  },
  {
   "cell_type": "code",
   "execution_count": 138,
   "id": "fd209187-5076-4f71-a3a2-071cbf78de73",
   "metadata": {},
   "outputs": [
    {
     "data": {
      "text/plain": [
       "Text(0.5, 1.0, '2D (J, -J, 1/2) EA')"
      ]
     },
     "execution_count": 138,
     "metadata": {},
     "output_type": "execute_result"
    },
    {
     "data": {
      "image/png": "[encoded data removed]",
      "text/plain": [
       "<Figure size 432x288 with 1 Axes>"
      ]
     },
     "metadata": {
      "needs_background": "light"
     },
     "output_type": "display_data"
    }
   ],
   "source": [
    "plt.plot(beta_list, np.exp(index_metropolis*np.array(beta_list) + bias), linewidth=3)\n",
    "#plt.plot(beta_list, np.log(autocorr_time_list), 'x', markersize=13)\n",
    "plt.plot(beta_list, autocorr_time_list, 'x', markersize=13)\n",
    "plt.yscale('log')\n",
    "plt.xlabel(\"K\", fontsize=15)\n",
    "plt.ylabel(\"Autocorr Time\", fontsize=15)\n",
    "plt.title(\"2D (J, -J, 1/2) EA\", fontsize=15)"
   ]
  },
  {
   "cell_type": "code",
   "execution_count": 149,
   "id": "be55f8f6-01de-4336-9b24-376eab5b31a0",
   "metadata": {},
   "outputs": [],
   "source": [
    "with open('../data_2d_ea/autocorr_vs_K/ea_square_size_64/ea_square_size_64_beta_0.500_h_0.000_q_2E7_metropolis_v0_frust.pkl', 'rb') as file:\n",
    "    data_dict = pickle.load(file)\n",
    "    q_ea2d_beta_0 = data_dict['q_history']"
   ]
  },
  {
   "cell_type": "code",
   "execution_count": 153,
   "id": "bdf6a9ba-4ec5-4524-a820-29edcfd37f48",
   "metadata": {},
   "outputs": [],
   "source": [
    "shape, steps = (10000,1000), 100"
   ]
  },
  {
   "cell_type": "code",
   "execution_count": 154,
   "id": "5c1c0298-56e2-454f-ae9f-ab23889268ca",
   "metadata": {},
   "outputs": [],
   "source": [
    "autocorr_q_ea2d_beta_0_mean, autocorr_q_ea2d_beta_0_std = autocorr_est_combine(q_ea2d_beta_0, (10000, 1000), steps=100)"
   ]
  },
  {
   "cell_type": "code",
   "execution_count": 155,
   "id": "01235301-9674-46a5-94dd-c931c3ff42c4",
   "metadata": {},
   "outputs": [
    {
     "data": {
      "text/plain": [
       "<matplotlib.legend.Legend at 0x7fd0dbfd2fe0>"
      ]
     },
     "execution_count": 155,
     "metadata": {},
     "output_type": "execute_result"
    },
    {
     "data": {
      "image/png": "[encoded data removed]",
      "text/plain": [
       "<Figure size 432x288 with 1 Axes>"
      ]
     },
     "metadata": {
      "needs_background": "light"
     },
     "output_type": "display_data"
    }
   ],
   "source": [
    "plt.errorbar(x=range(101), y=autocorr_q_ea2d_beta_0_mean, yerr=autocorr_q_ea2d_beta_0_std, \n",
    "             fmt='-o', capsize=3, elinewidth=2, label='Beta=0.5')\n",
    "plt.yscale(\"log\")\n",
    "plt.ylim(10**-3)\n",
    "plt.xlabel(r'$\\tau$ [MC steps]', fontsize=15)\n",
    "plt.ylabel(r'$A_{q}$', fontsize=15)\n",
    "plt.title(\"2D EA, Beta=0.5, Metropolis\")\n",
    "plt.legend(loc='lower right')"
   ]
  },
  {
   "cell_type": "code",
   "execution_count": 159,
   "id": "4fd83bb3-8837-4200-b9e2-0998b1e0f598",
   "metadata": {},
   "outputs": [],
   "source": [
    "autocorr_time_beta_0 = autocorr_time_est(autocorr_q_ea2d_beta_0_mean[:10])"
   ]
  },
  {
   "cell_type": "code",
   "execution_count": 160,
   "id": "12502811-c8eb-45bb-b207-b1a00a377149",
   "metadata": {},
   "outputs": [
    {
     "name": "stdout",
     "output_type": "stream",
     "text": [
      "autocorr time of beta=0.5 is: 1.637.\n"
     ]
    }
   ],
   "source": [
    "print(f\"autocorr time of beta=0.5 is: {autocorr_time_beta_0:.3f}.\")"
   ]
  },
  {
   "cell_type": "code",
   "execution_count": 161,
   "id": "3de92797-e483-46e0-859a-fae64691eae4",
   "metadata": {},
   "outputs": [],
   "source": [
    "with open('../data_2d_ea/autocorr_vs_K/ea_square_size_64/ea_square_size_64_beta_1.000_h_0.000_q_2E7_metropolis_v0_frust.pkl', 'rb') as file:\n",
    "    data_dict = pickle.load(file)\n",
    "    q_ea2d_beta_1 = data_dict['q_history']"
   ]
  },
  {
   "cell_type": "code",
   "execution_count": 162,
   "id": "a7943b63-2c5c-4fd7-b422-745a9a4a6e13",
   "metadata": {},
   "outputs": [],
   "source": [
    "shape, steps = (10000,1000), 100"
   ]
  },
  {
   "cell_type": "code",
   "execution_count": 164,
   "id": "1eb59e74-8252-4936-bf9f-2192864cc001",
   "metadata": {},
   "outputs": [],
   "source": [
    "autocorr_q_ea2d_beta_1_mean, autocorr_q_ea2d_beta_1_std = autocorr_est_combine(q_ea2d_beta_1, (10000, 1000), steps=100)"
   ]
  },
  {
   "cell_type": "code",
   "execution_count": 165,
   "id": "5fa68898-6acd-408a-b5e5-a4cde7c0b7eb",
   "metadata": {},
   "outputs": [
    {
     "data": {
      "text/plain": [
       "<matplotlib.legend.Legend at 0x7fd0dac8f460>"
      ]
     },
     "execution_count": 165,
     "metadata": {},
     "output_type": "execute_result"
    },
    {
     "data": {
      "image/png": "[encoded data removed]",
      "text/plain": [
       "<Figure size 432x288 with 1 Axes>"
      ]
     },
     "metadata": {
      "needs_background": "light"
     },
     "output_type": "display_data"
    }
   ],
   "source": [
    "plt.errorbar(x=range(101), y=autocorr_q_ea2d_beta_1_mean, yerr=autocorr_q_ea2d_beta_1_std, \n",
    "             fmt='-o', capsize=3, elinewidth=2, label='Beta=1')\n",
    "plt.yscale(\"log\")\n",
    "plt.ylim(10**-3)\n",
    "plt.xlabel(r'$\\tau$ [MC steps]', fontsize=15)\n",
    "plt.ylabel(r'$A_{q}$', fontsize=15)\n",
    "plt.title(\"2D EA, Beta=1, Metropolis\")\n",
    "plt.legend(loc='lower right')"
   ]
  },
  {
   "cell_type": "code",
   "execution_count": 166,
   "id": "84a8e88e-b8f0-43dc-b802-ae9320e4c071",
   "metadata": {},
   "outputs": [],
   "source": [
    "autocorr_time_beta_1 = autocorr_time_est(autocorr_q_ea2d_beta_1_mean)"
   ]
  },
  {
   "cell_type": "code",
   "execution_count": 168,
   "id": "b1907e1f-c3e4-417f-9855-74d11dec3063",
   "metadata": {},
   "outputs": [
    {
     "name": "stdout",
     "output_type": "stream",
     "text": [
      "autocorr time of beta=1 is: 17.132.\n"
     ]
    }
   ],
   "source": [
    "print(f\"autocorr time of beta=1 is: {autocorr_time_beta_1:.3f}.\")"
   ]
  },
  {
   "cell_type": "code",
   "execution_count": 231,
   "id": "d275f40b-7924-4e84-bbe6-652872c888ea",
   "metadata": {},
   "outputs": [],
   "source": [
    "with open('../data_2d_ea/autocorr_vs_K/ea_square_size_64_frust/ea_square_size_64_beta_1.500_h_0.000_q_2E7_metropolis_v0_frust.pkl', 'rb') as file:\n",
    "    data_dict = pickle.load(file)\n",
    "    q_ea2d_beta_2 = data_dict['q_history']"
   ]
  },
  {
   "cell_type": "code",
   "execution_count": 174,
   "id": "cbcad935-c960-41d1-b8a1-ee15c1f3ce58",
   "metadata": {},
   "outputs": [],
   "source": [
    "autocorr_q_ea2d_beta_2_mean, autocorr_q_ea2d_beta_2_std = autocorr_est_combine(q_ea2d_beta_2, (10000, 1000), steps=100)"
   ]
  },
  {
   "cell_type": "code",
   "execution_count": 176,
   "id": "ffe2c6df-0793-4f59-9880-33d35b64c4d5",
   "metadata": {},
   "outputs": [
    {
     "data": {
      "text/plain": [
       "<matplotlib.legend.Legend at 0x7fd0c6be6230>"
      ]
     },
     "execution_count": 176,
     "metadata": {},
     "output_type": "execute_result"
    },
    {
     "data": {
      "image/png": "[encoded data removed]",
      "text/plain": [
       "<Figure size 432x288 with 1 Axes>"
      ]
     },
     "metadata": {
      "needs_background": "light"
     },
     "output_type": "display_data"
    }
   ],
   "source": [
    "plt.errorbar(x=range(101), y=autocorr_q_ea2d_beta_2_mean, yerr=autocorr_q_ea2d_beta_2_std, \n",
    "             fmt='-o', capsize=3, elinewidth=2, label='Beta=1.5')\n",
    "plt.yscale(\"log\")\n",
    "plt.ylim(10**-3)\n",
    "plt.xlabel(r'$\\tau$ [MC steps]', fontsize=15)\n",
    "plt.ylabel(r'$A_{q}$', fontsize=15)\n",
    "plt.title(\"2D EA, Beta=1.5, Metropolis\")\n",
    "plt.legend(loc='lower right')"
   ]
  },
  {
   "cell_type": "code",
   "execution_count": 182,
   "id": "9791c135-5ac1-443c-aabe-62cb29f66fe6",
   "metadata": {},
   "outputs": [],
   "source": [
    "autocorr_time_beta_2 = autocorr_time_est(autocorr_q_ea2d_beta_2_mean)"
   ]
  },
  {
   "cell_type": "code",
   "execution_count": 183,
   "id": "d544cf60-6ecc-4c49-b34f-0b0d72b3a611",
   "metadata": {},
   "outputs": [
    {
     "name": "stdout",
     "output_type": "stream",
     "text": [
      "autocorr time of beta=1.5 is: 93.874.\n"
     ]
    }
   ],
   "source": [
    "print(f\"autocorr time of beta=1.5 is: {autocorr_time_beta_2:.3f}.\")"
   ]
  },
  {
   "cell_type": "code",
   "execution_count": 177,
   "id": "e817dbba-b306-4bc3-82c9-d2c354d42695",
   "metadata": {},
   "outputs": [],
   "source": [
    "with open('../data_2d_ea/autocorr_vs_K/ea_square_size_64/ea_square_size_64_beta_2.000_h_0.000_q_2E7_metropolis_v0_frust.pkl', 'rb') as file:\n",
    "    data_dict = pickle.load(file)\n",
    "    q_ea2d_beta_3 = data_dict['q_history']"
   ]
  },
  {
   "cell_type": "code",
   "execution_count": 178,
   "id": "1e22b298-73da-4641-88a5-bb372f8f1a43",
   "metadata": {},
   "outputs": [],
   "source": [
    "autocorr_q_ea2d_beta_3_mean, autocorr_q_ea2d_beta_3_std = autocorr_est_combine(q_ea2d_beta_3, (10000, 1000), 100)"
   ]
  },
  {
   "cell_type": "code",
   "execution_count": 179,
   "id": "02a9d918-d111-4658-ab77-eb8c569c29e9",
   "metadata": {},
   "outputs": [
    {
     "data": {
      "text/plain": [
       "<matplotlib.legend.Legend at 0x7fd0c6a7c5b0>"
      ]
     },
     "execution_count": 179,
     "metadata": {},
     "output_type": "execute_result"
    },
    {
     "data": {
      "image/png": "[encoded data removed]",
      "text/plain": [
       "<Figure size 432x288 with 1 Axes>"
      ]
     },
     "metadata": {
      "needs_background": "light"
     },
     "output_type": "display_data"
    }
   ],
   "source": [
    "plt.errorbar(x=range(101), y=autocorr_q_ea2d_beta_3_mean, yerr=autocorr_q_ea2d_beta_3_std, \n",
    "             fmt='-o', capsize=3, elinewidth=2, label='Beta=2.0')\n",
    "plt.yscale(\"log\")\n",
    "plt.ylim(10**-3)\n",
    "plt.xlabel(r'$\\tau$ [MC steps]', fontsize=15)\n",
    "plt.ylabel(r'$A_{q}$', fontsize=15)\n",
    "plt.title(\"2D EA, Beta=2.0, Metropolis\")\n",
    "plt.legend(loc='lower right')"
   ]
  },
  {
   "cell_type": "code",
   "execution_count": 180,
   "id": "ceca7600-df95-405f-8a71-e45fecc91afb",
   "metadata": {},
   "outputs": [],
   "source": [
    "autocorr_time_beta_3 = autocorr_time_est(autocorr_q_ea2d_beta_3_mean)"
   ]
  },
  {
   "cell_type": "code",
   "execution_count": 181,
   "id": "acfc5c37-5500-4353-8b4b-f75f35b1dda5",
   "metadata": {},
   "outputs": [
    {
     "name": "stdout",
     "output_type": "stream",
     "text": [
      "autocorr time of beta=2 is: 433.738.\n"
     ]
    }
   ],
   "source": [
    "print(f\"autocorr time of beta=2 is: {autocorr_time_beta_3:.3f}.\")"
   ]
  },
  {
   "cell_type": "code",
   "execution_count": 221,
   "id": "f3d4f287-2e3b-4c09-b16b-b817e5063585",
   "metadata": {},
   "outputs": [],
   "source": [
    "with open('../data_2d_ea/autocorr_vs_K/ea_square_size_64_frust/ea_square_size_64_beta_2.500_h_0.000_q_2E7_metropolis_v0_frust.pkl', 'rb') as file:\n",
    "    data_dict = pickle.load(file)\n",
    "    q_ea2d_beta_4 = data_dict['q_history']"
   ]
  },
  {
   "cell_type": "code",
   "execution_count": 185,
   "id": "562861a8-9929-445a-9873-52649b84fad7",
   "metadata": {},
   "outputs": [],
   "source": [
    "autocorr_q_ea2d_beta_4_mean, autocorr_q_ea2d_beta_4_std = autocorr_est_combine(q_ea2d_beta_4, (10000, 1000), 100)"
   ]
  },
  {
   "cell_type": "code",
   "execution_count": 187,
   "id": "9c7c88ec-2978-44e2-ab04-1c3ba1c8fa3b",
   "metadata": {},
   "outputs": [
    {
     "data": {
      "text/plain": [
       "<matplotlib.legend.Legend at 0x7fd0c66ab490>"
      ]
     },
     "execution_count": 187,
     "metadata": {},
     "output_type": "execute_result"
    },
    {
     "data": {
      "image/png": "[encoded data removed]",
      "text/plain": [
       "<Figure size 432x288 with 1 Axes>"
      ]
     },
     "metadata": {
      "needs_background": "light"
     },
     "output_type": "display_data"
    }
   ],
   "source": [
    "plt.errorbar(x=range(101), y=autocorr_q_ea2d_beta_4_mean, yerr=autocorr_q_ea2d_beta_4_std, \n",
    "             fmt='-o', capsize=3, elinewidth=2, label='Beta=2.5')\n",
    "plt.yscale(\"log\")\n",
    "plt.ylim(10**-3)\n",
    "plt.xlabel(r'$\\tau$ [MC steps]', fontsize=15)\n",
    "plt.ylabel(r'$A_{q}$', fontsize=15)\n",
    "plt.title(\"2D EA, Beta=2.5, Metropolis\")\n",
    "plt.legend(loc='lower right')"
   ]
  },
  {
   "cell_type": "code",
   "execution_count": 188,
   "id": "67d70acd-f5ec-4b45-b8df-df664cb5b7d8",
   "metadata": {},
   "outputs": [],
   "source": [
    "autocorr_time_beta_4 = autocorr_time_est(autocorr_q_ea2d_beta_4_mean)"
   ]
  },
  {
   "cell_type": "code",
   "execution_count": 189,
   "id": "38c986a8-7011-48d0-a75a-a460b7fe457b",
   "metadata": {},
   "outputs": [
    {
     "name": "stdout",
     "output_type": "stream",
     "text": [
      "autocorr time of beta=2.5 is: 748.580.\n"
     ]
    }
   ],
   "source": [
    "print(f\"autocorr time of beta=2.5 is: {autocorr_time_beta_4:.3f}.\")"
   ]
  },
  {
   "cell_type": "code",
   "execution_count": 198,
   "id": "d6373f98-c612-4e75-ba54-99eea7290972",
   "metadata": {},
   "outputs": [],
   "source": [
    "with open('../data_2d_ea/autocorr_vs_K/ea_square_size_64/ea_square_size_64_beta_3.000_h_0.000_q_2E7_metropolis_v0_frust.pkl', 'rb') as file:\n",
    "    data_dict = pickle.load(file)\n",
    "    q_ea2d_beta_5 = data_dict['q_history']"
   ]
  },
  {
   "cell_type": "code",
   "execution_count": 206,
   "id": "ea2980fa-75d7-4f96-b73a-39ef29fdf1cf",
   "metadata": {},
   "outputs": [],
   "source": [
    "autocorr_q_ea2d_beta_5_mean, autocorr_q_ea2d_beta_5_std = autocorr_est_combine(q_ea2d_beta_5, (2500, 4000), 400)"
   ]
  },
  {
   "cell_type": "code",
   "execution_count": 207,
   "id": "a9f18afd-a4f4-4e95-9457-d9baa28b1a10",
   "metadata": {},
   "outputs": [
    {
     "data": {
      "text/plain": [
       "<matplotlib.legend.Legend at 0x7fd0c67f20b0>"
      ]
     },
     "execution_count": 207,
     "metadata": {},
     "output_type": "execute_result"
    },
    {
     "data": {
      "image/png": "[encoded data removed]",
      "text/plain": [
       "<Figure size 432x288 with 1 Axes>"
      ]
     },
     "metadata": {
      "needs_background": "light"
     },
     "output_type": "display_data"
    }
   ],
   "source": [
    "plt.errorbar(x=range(401), y=autocorr_q_ea2d_beta_5_mean, yerr=autocorr_q_ea2d_beta_5_std, \n",
    "             fmt='-o', capsize=3, elinewidth=2, label='Beta=3.0')\n",
    "plt.yscale(\"log\")\n",
    "plt.ylim(10**-3)\n",
    "plt.xlabel(r'$\\tau$ [MC steps]', fontsize=15)\n",
    "plt.ylabel(r'$A_{q}$', fontsize=15)\n",
    "plt.title(\"2D EA, Beta=3.0, Metropolis\")\n",
    "plt.legend(loc='lower right')"
   ]
  },
  {
   "cell_type": "code",
   "execution_count": 208,
   "id": "753eaa84-588d-4014-b4ab-2a3cc7875ede",
   "metadata": {},
   "outputs": [],
   "source": [
    "autocorr_time_beta_5 = autocorr_time_est(autocorr_q_ea2d_beta_5_mean)"
   ]
  },
  {
   "cell_type": "code",
   "execution_count": 209,
   "id": "6c96ca1d-d0e7-4318-8de4-75a516d415c3",
   "metadata": {},
   "outputs": [
    {
     "name": "stdout",
     "output_type": "stream",
     "text": [
      "autocorr time of beta=3.0 is: 1360.895.\n"
     ]
    }
   ],
   "source": [
    "print(f\"autocorr time of beta=3.0 is: {autocorr_time_beta_5:.3f}.\")"
   ]
  },
  {
   "cell_type": "code",
   "execution_count": 214,
   "id": "c08b3bc5-76f5-4906-b250-630d70457716",
   "metadata": {},
   "outputs": [],
   "source": [
    "beta_list = [0.5, 1, 1.5, 2, 2.5]\n",
    "autocorr_time_list = [autocorr_time_beta_0, autocorr_time_beta_1, autocorr_time_beta_2, \n",
    "                      autocorr_time_beta_3, autocorr_time_beta_4]"
   ]
  },
  {
   "cell_type": "code",
   "execution_count": 215,
   "id": "0b995c4a-c45e-4af3-b6da-2cc6e976c046",
   "metadata": {},
   "outputs": [],
   "source": [
    "index_metropolis, bias = np.polyfit(beta_list, np.log(autocorr_time_list), 1)"
   ]
  },
  {
   "cell_type": "code",
   "execution_count": 216,
   "id": "db402f0b-a68c-4570-8eb8-ccf897ceb5d9",
   "metadata": {},
   "outputs": [
    {
     "data": {
      "text/plain": [
       "3.096366819614588"
      ]
     },
     "execution_count": 216,
     "metadata": {},
     "output_type": "execute_result"
    }
   ],
   "source": [
    "index_metropolis"
   ]
  },
  {
   "cell_type": "code",
   "execution_count": 219,
   "id": "2f384f0b-de56-4163-bcee-e39bb0898866",
   "metadata": {},
   "outputs": [
    {
     "data": {
      "text/plain": [
       "Text(0.5, 1.0, '2D (J, -J, 1/2) EA (Size=64)')"
      ]
     },
     "execution_count": 219,
     "metadata": {},
     "output_type": "execute_result"
    },
    {
     "data": {
      "image/png": "[encoded data removed]",
      "text/plain": [
       "<Figure size 432x288 with 1 Axes>"
      ]
     },
     "metadata": {
      "needs_background": "light"
     },
     "output_type": "display_data"
    }
   ],
   "source": [
    "plt.plot(beta_list, np.exp(index_metropolis*np.array(beta_list) + bias), linewidth=3)\n",
    "#plt.plot(beta_list, np.log(autocorr_time_list), 'x', markersize=13)\n",
    "plt.plot(beta_list, autocorr_time_list, 'x', markersize=13)\n",
    "plt.yscale('log')\n",
    "plt.xlabel(\"K\", fontsize=15)\n",
    "plt.ylabel(\"Autocorr Time\", fontsize=15)\n",
    "plt.title(\"2D (J, -J, 1/2) EA (Size=64)\", fontsize=15)"
   ]
  },
  {
   "cell_type": "code",
   "execution_count": 279,
   "id": "3354a40d-9604-45b6-ac70-c834250fdb17",
   "metadata": {},
   "outputs": [],
   "source": [
    "with open('../data_2d_ea/autocorr_vs_K/ea_square_size_32/ea_square_size_32_beta_0.500_h_0.000_q_2E7_metropolis_v0.pkl', 'rb') as file:\n",
    "    data_dict = pickle.load(file)\n",
    "    q_ea2d_beta_0 = data_dict['q_history']"
   ]
  },
  {
   "cell_type": "code",
   "execution_count": 281,
   "id": "ce32fc35-9fb3-4558-8614-e26c51161b7a",
   "metadata": {},
   "outputs": [],
   "source": [
    "with open('../data_2d_ea/autocorr_vs_K/ea_square_size_32/ea_square_size_32_beta_0.750_h_0.000_q_2E7_metropolis_v0.pkl', 'rb') as file:\n",
    "    data_dict = pickle.load(file)\n",
    "    q_ea2d_beta_1 = data_dict['q_history']"
   ]
  },
  {
   "cell_type": "code",
   "execution_count": 244,
   "id": "1117f7a7-af6f-4564-843c-20d6a47b67fb",
   "metadata": {},
   "outputs": [],
   "source": [
    "with open('../data_2d_ea/autocorr_vs_K/ea_square_size_32/ea_square_size_32_beta_1.000_h_0.000_q_2E7_metropolis_v0.pkl', 'rb') as file:\n",
    "    data_dict = pickle.load(file)\n",
    "    q_ea2d_beta_2 = data_dict['q_history']"
   ]
  },
  {
   "cell_type": "code",
   "execution_count": 256,
   "id": "9d87e38d-baba-4ffc-8b0b-10384dd0b2f1",
   "metadata": {},
   "outputs": [],
   "source": [
    "with open('../data_2d_ea/autocorr_vs_K/ea_square_size_32/ea_square_size_32_beta_1.250_h_0.000_q_2E7_metropolis_v0.pkl', 'rb') as file:\n",
    "    data_dict = pickle.load(file)\n",
    "    q_ea2d_beta_3 = data_dict['q_history']"
   ]
  },
  {
   "cell_type": "code",
   "execution_count": null,
   "id": "144fe36a-1256-49f9-8795-394246a3dfec",
   "metadata": {},
   "outputs": [],
   "source": [
    "with open('../data_2d_ea/autocorr_vs_K/ea_square_size_32/ea_square_size_32_beta_1.500_h_0.000_q_2E7_metropolis_v0.pkl', 'rb') as file:\n",
    "    data_dict = pickle.load(file)\n",
    "    q_ea2d_beta_4 = data_dict['q_history']"
   ]
  },
  {
   "cell_type": "code",
   "execution_count": null,
   "id": "3de2e132-bb5c-4827-a8f9-cb961580fee1",
   "metadata": {},
   "outputs": [],
   "source": [
    "with open('../data_2d_ea/autocorr_vs_K/ea_square_size_32/ea_square_size_32_beta_1.750_h_0.000_q_2E7_metropolis_v0.pkl', 'rb') as file:\n",
    "    data_dict = pickle.load(file)\n",
    "    q_ea2d_beta_5 = data_dict['q_history']"
   ]
  },
  {
   "cell_type": "code",
   "execution_count": null,
   "id": "a62ad2ab-96ed-4180-b19f-428aa5d6db05",
   "metadata": {},
   "outputs": [],
   "source": [
    "with open('../data_2d_ea/autocorr_vs_K/ea_square_size_32/ea_square_size_32_beta_2.000_h_0.000_q_2E7_metropolis_v0.pkl', 'rb') as file:\n",
    "    data_dict = pickle.load(file)\n",
    "    q_ea2d_beta_6 = data_dict['q_history']"
   ]
  },
  {
   "cell_type": "code",
   "execution_count": 283,
   "id": "3819f0aa-9bbd-4dff-a79f-fd443578cb8a",
   "metadata": {},
   "outputs": [],
   "source": [
    "autocorr_q_ea2d_beta_0_mean, autocorr_q_ea2d_beta_0_std = autocorr_est_combine(q_ea2d_beta_0, (10000, 1000), steps=100)"
   ]
  },
  {
   "cell_type": "code",
   "execution_count": 284,
   "id": "2e65b9b6-5c89-408f-99fd-1325f67a1cc2",
   "metadata": {},
   "outputs": [
    {
     "data": {
      "text/plain": [
       "<matplotlib.legend.Legend at 0x7fd0e1955030>"
      ]
     },
     "execution_count": 284,
     "metadata": {},
     "output_type": "execute_result"
    },
    {
     "data": {
      "image/png": "[encoded data removed]",
      "text/plain": [
       "<Figure size 432x288 with 1 Axes>"
      ]
     },
     "metadata": {
      "needs_background": "light"
     },
     "output_type": "display_data"
    }
   ],
   "source": [
    "plt.errorbar(x=range(101), y=autocorr_q_ea2d_beta_0_mean, yerr=autocorr_q_ea2d_beta_0_std, \n",
    "             fmt='-o', capsize=3, elinewidth=2, label='Beta=0.5')\n",
    "plt.yscale(\"log\")\n",
    "plt.ylim(10**-3)\n",
    "plt.xlabel(r'$\\tau$ [MC steps]', fontsize=15)\n",
    "plt.ylabel(r'$A_{q}$', fontsize=15)\n",
    "plt.title(\"2D EA, Beta=0.5, Metropolis\")\n",
    "plt.legend(loc='lower right')"
   ]
  },
  {
   "cell_type": "code",
   "execution_count": 248,
   "id": "822bea06-bfff-4c99-aca4-5ee3fc9e09c7",
   "metadata": {},
   "outputs": [],
   "source": [
    "q_ea2d_list = [q_ea2d_beta_0, q_ea2d_beta_1, q_ea2d_beta_2, \n",
    "               q_ea2d_beta_3, q_ea2d_beta_4, q_ea2d_beta_5, \n",
    "               q_ea2d_beta_7]"
   ]
  },
  {
   "cell_type": "code",
   "execution_count": 249,
   "id": "17c009b1-3cc0-44c1-afb5-03cdc8d017d5",
   "metadata": {},
   "outputs": [],
   "source": [
    "autocorr_mean_list = []"
   ]
  },
  {
   "cell_type": "code",
   "execution_count": 251,
   "id": "dce25632-b3c5-452f-9459-77d5c343af9b",
   "metadata": {},
   "outputs": [],
   "source": [
    "for q_ea2d_data in q_ea2d_list:\n",
    "    autocorr_q_ea2d_mean, autocorr_q_ea2d_std = autocorr_est_combine(q_ea2d_data, (10000, 1000), steps=100)\n",
    "    autocorr_mean_list.append(autocorr_q_ea2d_mean)"
   ]
  },
  {
   "cell_type": "code",
   "execution_count": 285,
   "id": "8c113407-a05c-4f7d-b92a-e22107ae21bc",
   "metadata": {},
   "outputs": [],
   "source": [
    "autocorr_time_beta_0 = autocorr_time_est(autocorr_mean_list[0][:40])"
   ]
  },
  {
   "cell_type": "code",
   "execution_count": 288,
   "id": "62be2350-f0f2-4a3c-9531-6cae80acef56",
   "metadata": {},
   "outputs": [],
   "source": [
    "autocorr_time_beta_1 = autocorr_time_est(autocorr_mean_list[1][:50])"
   ]
  },
  {
   "cell_type": "code",
   "execution_count": 289,
   "id": "bd2a57da-6c82-4beb-bf54-af7d33358b31",
   "metadata": {},
   "outputs": [],
   "source": [
    "autocorr_time_beta_2 = autocorr_time_est(autocorr_mean_list[2])"
   ]
  },
  {
   "cell_type": "code",
   "execution_count": 290,
   "id": "a7c15c28-e6a2-47b7-aece-f903238e9ad9",
   "metadata": {},
   "outputs": [],
   "source": [
    "autocorr_time_beta_3 = autocorr_time_est(autocorr_q_ea2d_beta_3_mean)"
   ]
  },
  {
   "cell_type": "code",
   "execution_count": 291,
   "id": "115d824f-f0ca-4dd6-8a90-f2dcd4a4e873",
   "metadata": {},
   "outputs": [],
   "source": [
    "beta_list = [0.5, 0.75, 1, 1.25, \n",
    "             1.5, 1.75, 2]\n",
    "autocorr_time_list = [autocorr_time_beta_0, autocorr_time_beta_1, autocorr_time_beta_2, \n",
    "                      autocorr_time_beta_3, autocorr_time_beta_4, autocorr_time_beta_5, \n",
    "                      autocorr_time_beta_6]"
   ]
  },
  {
   "cell_type": "code",
   "execution_count": 292,
   "id": "7e88097f-5df6-4729-8bc2-d396522ae93b",
   "metadata": {},
   "outputs": [],
   "source": [
    "index_metropolis, bias = np.polyfit(beta_list, np.log(autocorr_time_list), 1)"
   ]
  },
  {
   "cell_type": "code",
   "execution_count": 293,
   "id": "f019e29c-e6cf-4886-9753-67300d4013ed",
   "metadata": {},
   "outputs": [
    {
     "data": {
      "text/plain": [
       "9.058788586463308"
      ]
     },
     "execution_count": 293,
     "metadata": {},
     "output_type": "execute_result"
    }
   ],
   "source": [
    "index_metropolis"
   ]
  },
  {
   "cell_type": "code",
   "execution_count": 294,
   "id": "a4cdb425-8e07-4f80-b19a-54dbbce15866",
   "metadata": {},
   "outputs": [
    {
     "data": {
      "text/plain": [
       "Text(0.5, 1.0, '2D (J, -J, 1/2) EA (Size=32)')"
      ]
     },
     "execution_count": 294,
     "metadata": {},
     "output_type": "execute_result"
    },
    {
     "data": {
      "image/png": "[encoded data removed]",
      "text/plain": [
       "<Figure size 432x288 with 1 Axes>"
      ]
     },
     "metadata": {
      "needs_background": "light"
     },
     "output_type": "display_data"
    }
   ],
   "source": [
    "plt.plot(beta_list, np.exp(index_metropolis*np.array(beta_list) + bias), linewidth=3)\n",
    "#plt.plot(beta_list, np.log(autocorr_time_list), 'x', markersize=13)\n",
    "plt.plot(beta_list, autocorr_time_list, 'x', markersize=13)\n",
    "plt.yscale('log')\n",
    "plt.xlabel(\"K\", fontsize=15)\n",
    "plt.ylabel(\"Autocorr Time\", fontsize=15)\n",
    "plt.title(\"2D (J, -J, 1/2) EA (Size=32)\", fontsize=15)"
   ]
  },
  {
   "cell_type": "code",
   "execution_count": 447,
   "id": "1b0ac8f3-c76d-48f2-8413-4d84f4830cc6",
   "metadata": {},
   "outputs": [],
   "source": [
    "with open('../data_2d_ea/autocorr_vs_K/ea_square_size_16_metropolis/ea_square_size_16_beta_0.500_h_0.000_q_1E7_metropolis_v0.pkl', 'rb') as file:\n",
    "    data_dict = pickle.load(file)\n",
    "    q_ea2d_beta_0 = data_dict['q_history']"
   ]
  },
  {
   "cell_type": "code",
   "execution_count": 448,
   "id": "5451e4e0-1f66-45a3-8cd1-baba462ebf9c",
   "metadata": {},
   "outputs": [],
   "source": [
    "with open('../data_2d_ea/autocorr_vs_K/ea_square_size_16_metropolis/ea_square_size_16_beta_0.750_h_0.000_q_1E7_metropolis_v0.pkl', 'rb') as file:\n",
    "    data_dict = pickle.load(file)\n",
    "    q_ea2d_beta_1 = data_dict['q_history']"
   ]
  },
  {
   "cell_type": "code",
   "execution_count": 449,
   "id": "9869ac37-24e6-4fca-8d18-d98b1b74811d",
   "metadata": {},
   "outputs": [],
   "source": [
    "with open('../data_2d_ea/autocorr_vs_K/ea_square_size_16_metropolis/ea_square_size_16_beta_1.000_h_0.000_q_1E7_metropolis_v0.pkl', 'rb') as file:\n",
    "    data_dict = pickle.load(file)\n",
    "    q_ea2d_beta_2 = data_dict['q_history']"
   ]
  },
  {
   "cell_type": "code",
   "execution_count": 450,
   "id": "0daa031f-1d78-400a-a8da-1360688a4f7d",
   "metadata": {},
   "outputs": [],
   "source": [
    "with open('../data_2d_ea/autocorr_vs_K/ea_square_size_16_metropolis/ea_square_size_16_beta_1.250_h_0.000_q_1E7_metropolis_v0.pkl', 'rb') as file:\n",
    "    data_dict = pickle.load(file)\n",
    "    q_ea2d_beta_3 = data_dict['q_history']"
   ]
  },
  {
   "cell_type": "code",
   "execution_count": 451,
   "id": "c135449c-3668-49bf-ba8e-a3649e676e3f",
   "metadata": {},
   "outputs": [],
   "source": [
    "with open('../data_2d_ea/autocorr_vs_K/ea_square_size_16_metropolis/ea_square_size_16_beta_1.500_h_0.000_q_1E7_metropolis_v0.pkl', 'rb') as file:\n",
    "    data_dict = pickle.load(file)\n",
    "    q_ea2d_beta_4 = data_dict['q_history']"
   ]
  },
  {
   "cell_type": "code",
   "execution_count": 452,
   "id": "c9e962b1-d1e3-4084-8ac8-db53391e00e4",
   "metadata": {},
   "outputs": [],
   "source": [
    "q_ea2d_list = [q_ea2d_beta_0, q_ea2d_beta_1, q_ea2d_beta_2, q_ea2d_beta_3, q_ea2d_beta_4]"
   ]
  },
  {
   "cell_type": "code",
   "execution_count": 453,
   "id": "5c9af5c3-72a0-4e01-98a8-aff9e23a5f75",
   "metadata": {},
   "outputs": [],
   "source": [
    "autocorr_mean_list = []"
   ]
  },
  {
   "cell_type": "code",
   "execution_count": 454,
   "id": "70a0df17-62f1-4b92-8ff4-66f1175daae1",
   "metadata": {},
   "outputs": [],
   "source": [
    "for q_ea2d_data in q_ea2d_list:\n",
    "    autocorr_q_ea2d_mean, autocorr_q_ea2d_std = autocorr_est_combine(q_ea2d_data, (10000, 1000), steps=100)\n",
    "    autocorr_mean_list.append(autocorr_q_ea2d_mean)"
   ]
  },
  {
   "cell_type": "code",
   "execution_count": null,
   "id": "df03b6d6-69f5-4d89-b054-5635d5926a1d",
   "metadata": {},
   "outputs": [],
   "source": [
    "plt.errorbar(x=range(101), y=autocorr_q_ea2d_beta_0_mean, yerr=autocorr_q_ea2d_beta_0_std, \n",
    "             fmt='-o', capsize=3, elinewidth=2, label='Beta=0.5')\n",
    "plt.yscale(\"log\")\n",
    "plt.ylim(10**-3)\n",
    "plt.xlabel(r'$\\tau$ [MC steps]', fontsize=15)\n",
    "plt.ylabel(r'$A_{q}$', fontsize=15)\n",
    "plt.title(\"2D EA, Beta=0.5, Metropolis\")\n",
    "plt.legend(loc='lower right')"
   ]
  },
  {
   "cell_type": "code",
   "execution_count": 467,
   "id": "3d768796-a0d6-485e-9d79-8a1ae1949501",
   "metadata": {},
   "outputs": [],
   "source": [
    "autocorr_time_beta_0 = autocorr_time_est(autocorr_mean_list[0][:60])"
   ]
  },
  {
   "cell_type": "code",
   "execution_count": 468,
   "id": "a8d5180f-7d37-4612-bc0e-6a556e96446d",
   "metadata": {},
   "outputs": [],
   "source": [
    "autocorr_time_beta_1 = autocorr_time_est(autocorr_mean_list[1][:50])"
   ]
  },
  {
   "cell_type": "code",
   "execution_count": 469,
   "id": "bb252998-36fc-4ce3-8b2a-fc3feffd9519",
   "metadata": {},
   "outputs": [],
   "source": [
    "autocorr_time_beta_2 = autocorr_time_est(autocorr_mean_list[2])"
   ]
  },
  {
   "cell_type": "code",
   "execution_count": 470,
   "id": "c8fe9127-44d5-4e08-8039-05d25690f349",
   "metadata": {},
   "outputs": [],
   "source": [
    "autocorr_time_beta_3 = autocorr_time_est(autocorr_mean_list[3])"
   ]
  },
  {
   "cell_type": "code",
   "execution_count": 471,
   "id": "95087043-3b0d-4c43-b02b-ca8c44b80889",
   "metadata": {},
   "outputs": [],
   "source": [
    "autocorr_time_beta_4 = autocorr_time_est(autocorr_mean_list[4])"
   ]
  },
  {
   "cell_type": "code",
   "execution_count": 561,
   "id": "41a6c781-f4a7-4185-b99c-07dd70b063a4",
   "metadata": {},
   "outputs": [],
   "source": [
    "beta_list = [0.5, 0.75, 1, 1.25, 1.5]\n",
    "autocorr_time_list = [autocorr_time_beta_0, autocorr_time_beta_1, autocorr_time_beta_2, \n",
    "                      autocorr_time_beta_3, autocorr_time_beta_4]"
   ]
  },
  {
   "cell_type": "code",
   "execution_count": 562,
   "id": "d1e8a58f-319d-4173-aa13-a3fc5fc276ad",
   "metadata": {},
   "outputs": [],
   "source": [
    "index_metropolis, bias = np.polyfit(beta_list, np.log(autocorr_time_list), 1)"
   ]
  },
  {
   "cell_type": "code",
   "execution_count": 567,
   "id": "db0e1768-e98c-410d-a64e-cd986fd56984",
   "metadata": {},
   "outputs": [
    {
     "data": {
      "text/plain": [
       "7.273445710307033"
      ]
     },
     "execution_count": 567,
     "metadata": {},
     "output_type": "execute_result"
    }
   ],
   "source": [
    "index_metropolis"
   ]
  },
  {
   "cell_type": "code",
   "execution_count": 563,
   "id": "bb851640-1aee-406b-b106-e2610aaff351",
   "metadata": {},
   "outputs": [
    {
     "data": {
      "text/plain": [
       "Text(0.5, 1.0, '2D (J, -J, 1/2) EA (Size=16)')"
      ]
     },
     "execution_count": 563,
     "metadata": {},
     "output_type": "execute_result"
    },
    {
     "data": {
      "image/png": "[encoded data removed]",
      "text/plain": [
       "<Figure size 432x288 with 1 Axes>"
      ]
     },
     "metadata": {
      "needs_background": "light"
     },
     "output_type": "display_data"
    }
   ],
   "source": [
    "plt.plot(beta_list, np.exp(index_metropolis*np.array(beta_list) + bias), linewidth=3)\n",
    "#plt.plot(beta_list, np.log(autocorr_time_list), 'x', markersize=13)\n",
    "plt.plot(beta_list, autocorr_time_list, 'x', markersize=13)\n",
    "plt.yscale('log')\n",
    "plt.xlabel(\"K\", fontsize=15)\n",
    "plt.ylabel(\"Autocorr Time\", fontsize=15)\n",
    "plt.title(\"2D (J, -J, 1/2) EA (Size=16)\", fontsize=15)"
   ]
  },
  {
   "cell_type": "code",
   "execution_count": 371,
   "id": "dedf6c90-cb8a-4ed0-be67-82019116cbbd",
   "metadata": {},
   "outputs": [],
   "source": [
    "with open('../data_2d_ea/autocorr_vs_K/full_lattice/ea_square_size_8/j_seed_0/ea_square_size_8_beta_0.500_4E3_m_tensor_torch_v1.pkl', 'rb') as file:\n",
    "    data_dict = pickle.load(file)\n",
    "    q_ea2d_beta_0_v1 = data_dict['q_list']"
   ]
  },
  {
   "cell_type": "code",
   "execution_count": 372,
   "id": "b2789ab1-ef7d-462b-ae82-ac883d63c906",
   "metadata": {},
   "outputs": [],
   "source": [
    "with open('../data_2d_ea/autocorr_vs_K/full_lattice/ea_square_size_8/j_seed_0/ea_square_size_8_beta_0.500_4E3_m_tensor_torch_v2.pkl', 'rb') as file:\n",
    "    data_dict = pickle.load(file)\n",
    "    q_ea2d_beta_0_v2 = data_dict['q_list']"
   ]
  },
  {
   "cell_type": "code",
   "execution_count": 373,
   "id": "eee14c92-4884-4f31-bb6b-bc341a7757f5",
   "metadata": {},
   "outputs": [],
   "source": [
    "with open('../data_2d_ea/autocorr_vs_K/full_lattice/ea_square_size_8/j_seed_0/ea_square_size_8_beta_0.500_4E3_m_tensor_torch_v3.pkl', 'rb') as file:\n",
    "    data_dict = pickle.load(file)\n",
    "    q_ea2d_beta_0_v3 = data_dict['q_list']"
   ]
  },
  {
   "cell_type": "code",
   "execution_count": 374,
   "id": "5314738b-6a96-4798-86bf-911c56dba4ec",
   "metadata": {},
   "outputs": [],
   "source": [
    "with open('../data_2d_ea/autocorr_vs_K/full_lattice/ea_square_size_8/j_seed_0/ea_square_size_8_beta_0.500_4E3_m_tensor_torch_v4.pkl', 'rb') as file:\n",
    "    data_dict = pickle.load(file)\n",
    "    q_ea2d_beta_0_v4 = data_dict['q_list']"
   ]
  },
  {
   "cell_type": "code",
   "execution_count": 375,
   "id": "fe7a5ab0-67b4-4ef6-b280-0a8032c00a44",
   "metadata": {},
   "outputs": [],
   "source": [
    "with open('../data_2d_ea/autocorr_vs_K/full_lattice/ea_square_size_8/j_seed_0/ea_square_size_8_beta_0.500_4E3_m_tensor_torch_v5.pkl', 'rb') as file:\n",
    "    data_dict = pickle.load(file)\n",
    "    q_ea2d_beta_0_v5 = data_dict['q_list']"
   ]
  },
  {
   "cell_type": "code",
   "execution_count": 376,
   "id": "ea4c26b8-6da8-4099-a3fe-b000b2c895f2",
   "metadata": {},
   "outputs": [],
   "source": [
    "q_ea2d_beta_0_v1 = np.array(q_ea2d_beta_0_v1).reshape((80, 1000))\n",
    "q_ea2d_beta_0_v2 = np.array(q_ea2d_beta_0_v2).reshape((80, 1000))\n",
    "q_ea2d_beta_0_v3 = np.array(q_ea2d_beta_0_v3).reshape((80, 1000))\n",
    "q_ea2d_beta_0_v4 = np.array(q_ea2d_beta_0_v4).reshape((80, 1000))\n",
    "q_ea2d_beta_0_v5 = np.array(q_ea2d_beta_0_v5).reshape((80, 1000))"
   ]
  },
  {
   "cell_type": "code",
   "execution_count": 153,
   "id": "2cc7dff0-af58-443f-9bff-4ed6b669d061",
   "metadata": {},
   "outputs": [
    {
     "data": {
      "text/plain": [
       "<AxesSubplot:ylabel='Count'>"
      ]
     },
     "execution_count": 153,
     "metadata": {},
     "output_type": "execute_result"
    },
    {
     "data": {
      "image/png": "[encoded data removed]",
      "text/plain": [
       "<Figure size 432x288 with 1 Axes>"
      ]
     },
     "metadata": {
      "needs_background": "light"
     },
     "output_type": "display_data"
    }
   ],
   "source": [
    "sns.histplot(np.reshape(q_ea2d_beta_0_tensor, -1))"
   ]
  },
  {
   "cell_type": "code",
   "execution_count": 377,
   "id": "f5eeecc2-a028-44ae-8446-f23b5b0fe5f9",
   "metadata": {},
   "outputs": [],
   "source": [
    "q_ea2d_beta_0_tensor = np.concatenate([q_ea2d_beta_0_v1, q_ea2d_beta_0_v2, \n",
    "                                       q_ea2d_beta_0_v3, q_ea2d_beta_0_v4, \n",
    "                                       q_ea2d_beta_0_v5], axis=0)"
   ]
  },
  {
   "cell_type": "code",
   "execution_count": 378,
   "id": "d364a83d-2ed9-4d73-8700-1542e3af1a96",
   "metadata": {},
   "outputs": [],
   "source": [
    "autocorr_q_ea2d_beta_0_tensor_mean, autocorr_q_ea2d_beta_0_tensor_std = autocorr_est_combine(q_ea2d_beta_0_tensor, (400, 1000), steps=100)"
   ]
  },
  {
   "cell_type": "code",
   "execution_count": 379,
   "id": "4fc457fc-0069-41b0-b69a-5a9e84d8cda8",
   "metadata": {},
   "outputs": [
    {
     "data": {
      "text/plain": [
       "<matplotlib.legend.Legend at 0x7f91364cc490>"
      ]
     },
     "execution_count": 379,
     "metadata": {},
     "output_type": "execute_result"
    },
    {
     "data": {
      "image/png": "[encoded data removed]",
      "text/plain": [
       "<Figure size 432x288 with 1 Axes>"
      ]
     },
     "metadata": {
      "needs_background": "light"
     },
     "output_type": "display_data"
    }
   ],
   "source": [
    "plt.errorbar(x=range(101), y=autocorr_q_ea2d_beta_0_tensor_mean, yerr=autocorr_q_ea2d_beta_0_tensor_std, \n",
    "             fmt='-o', capsize=3, elinewidth=2, label='Beta=0.50')\n",
    "plt.yscale(\"log\")\n",
    "plt.ylim(10**-3)\n",
    "plt.xlabel(r'$\\tau$ [MC steps]', fontsize=15)\n",
    "plt.ylabel(r'$A_{q}$', fontsize=15)\n",
    "plt.title(\"2D EA, Beta=0.50, Tensor Contractions\")\n",
    "plt.legend(loc='lower right')"
   ]
  },
  {
   "cell_type": "code",
   "execution_count": 380,
   "id": "1ea7a0d3-4b79-4dde-b57d-4e5e39b22e3a",
   "metadata": {},
   "outputs": [],
   "source": [
    "autocorr_time_beta_0_tensor = np.sum(autocorr_q_ea2d_beta_0_tensor_mean) - 1/2"
   ]
  },
  {
   "cell_type": "code",
   "execution_count": 166,
   "id": "f15f1239-e82c-4bee-8e41-32d9f9f4e6e0",
   "metadata": {},
   "outputs": [
    {
     "data": {
      "text/plain": [
       "0.48446905721231515"
      ]
     },
     "execution_count": 166,
     "metadata": {},
     "output_type": "execute_result"
    }
   ],
   "source": [
    "autocorr_time_beta_0_tensor"
   ]
  },
  {
   "cell_type": "code",
   "execution_count": 381,
   "id": "a6d7bcb5-e19a-4be9-8c7f-9a462b61ebfa",
   "metadata": {},
   "outputs": [],
   "source": [
    "with open('../data_2d_ea/autocorr_vs_K/full_lattice/ea_square_size_8/j_seed_0/ea_square_size_8_beta_1.500_4E3_m_tensor_torch_v1.pkl', 'rb') as file:\n",
    "    data_dict = pickle.load(file)\n",
    "    q_ea2d_beta_4_v1 = data_dict['q_list']"
   ]
  },
  {
   "cell_type": "code",
   "execution_count": 382,
   "id": "50567872-da8a-4e96-a0d8-42d3f62089b1",
   "metadata": {},
   "outputs": [],
   "source": [
    "with open('../data_2d_ea/autocorr_vs_K/full_lattice/ea_square_size_8/j_seed_0/ea_square_size_8_beta_1.500_4E3_m_tensor_torch_v2.pkl', 'rb') as file:\n",
    "    data_dict = pickle.load(file)\n",
    "    q_ea2d_beta_4_v2 = data_dict['q_list']"
   ]
  },
  {
   "cell_type": "code",
   "execution_count": 383,
   "id": "65178230-1b9e-4b49-9cc5-7f8f8a27dae0",
   "metadata": {},
   "outputs": [],
   "source": [
    "with open('../data_2d_ea/autocorr_vs_K/full_lattice/ea_square_size_8/j_seed_0/ea_square_size_8_beta_1.500_4E3_m_tensor_torch_v3.pkl', 'rb') as file:\n",
    "    data_dict = pickle.load(file)\n",
    "    q_ea2d_beta_4_v3 = data_dict['q_list']"
   ]
  },
  {
   "cell_type": "code",
   "execution_count": 384,
   "id": "abbe7cc3-12af-4532-9777-28ca57053c7a",
   "metadata": {},
   "outputs": [],
   "source": [
    "with open('../data_2d_ea/autocorr_vs_K/full_lattice/ea_square_size_8/j_seed_0/ea_square_size_8_beta_1.500_4E3_m_tensor_torch_v4.pkl', 'rb') as file:\n",
    "    data_dict = pickle.load(file)\n",
    "    q_ea2d_beta_4_v4 = data_dict['q_list']"
   ]
  },
  {
   "cell_type": "code",
   "execution_count": 385,
   "id": "36e6967b-1199-4588-b890-4fa2afdd8d67",
   "metadata": {},
   "outputs": [],
   "source": [
    "with open('../data_2d_ea/autocorr_vs_K/full_lattice/ea_square_size_8/j_seed_0/ea_square_size_8_beta_1.500_4E3_m_tensor_torch_v5.pkl', 'rb') as file:\n",
    "    data_dict = pickle.load(file)\n",
    "    q_ea2d_beta_4_v5 = data_dict['q_list']"
   ]
  },
  {
   "cell_type": "code",
   "execution_count": 386,
   "id": "3c514860-4961-4766-abff-67b545cecc61",
   "metadata": {},
   "outputs": [],
   "source": [
    "q_ea2d_beta_4_v1 = np.array(q_ea2d_beta_4_v1).reshape((80, 1000))\n",
    "q_ea2d_beta_4_v2 = np.array(q_ea2d_beta_4_v2).reshape((80, 1000))\n",
    "q_ea2d_beta_4_v3 = np.array(q_ea2d_beta_4_v3).reshape((80, 1000))\n",
    "q_ea2d_beta_4_v4 = np.array(q_ea2d_beta_4_v4).reshape((80, 1000))\n",
    "q_ea2d_beta_4_v5 = np.array(q_ea2d_beta_4_v5).reshape((80, 1000))"
   ]
  },
  {
   "cell_type": "code",
   "execution_count": 387,
   "id": "fa57a2fb-9592-4010-9290-891182d0c06e",
   "metadata": {},
   "outputs": [],
   "source": [
    "q_ea2d_beta_4_tensor = np.concatenate([q_ea2d_beta_4_v1, q_ea2d_beta_4_v2, \n",
    "                                       q_ea2d_beta_4_v3, q_ea2d_beta_4_v4, \n",
    "                                       q_ea2d_beta_4_v5], axis=0)"
   ]
  },
  {
   "cell_type": "code",
   "execution_count": 115,
   "id": "f7dbfb7e-b701-4c8b-874d-b2d494a98da8",
   "metadata": {},
   "outputs": [
    {
     "data": {
      "text/plain": [
       "<AxesSubplot:ylabel='Count'>"
      ]
     },
     "execution_count": 115,
     "metadata": {},
     "output_type": "execute_result"
    },
    {
     "data": {
      "image/png": "[encoded data removed]",
      "text/plain": [
       "<Figure size 432x288 with 1 Axes>"
      ]
     },
     "metadata": {
      "needs_background": "light"
     },
     "output_type": "display_data"
    }
   ],
   "source": [
    "sns.histplot(np.reshape(q_ea2d_beta_4_tensor, -1))"
   ]
  },
  {
   "cell_type": "code",
   "execution_count": 388,
   "id": "290143b8-cc3c-4040-b2b8-36d7d7589b17",
   "metadata": {},
   "outputs": [],
   "source": [
    "autocorr_q_ea2d_beta_4_tensor_mean, autocorr_q_ea2d_beta_4_tensor_std = autocorr_est_combine(q_ea2d_beta_4_tensor, (400, 1000), steps=100)"
   ]
  },
  {
   "cell_type": "code",
   "execution_count": 127,
   "id": "38be0912-822f-4204-8187-c169dec5a3c8",
   "metadata": {},
   "outputs": [
    {
     "data": {
      "text/plain": [
       "<matplotlib.legend.Legend at 0x7f8dd26decb0>"
      ]
     },
     "execution_count": 127,
     "metadata": {},
     "output_type": "execute_result"
    },
    {
     "data": {
      "image/png": "[encoded data removed]",
      "text/plain": [
       "<Figure size 432x288 with 1 Axes>"
      ]
     },
     "metadata": {
      "needs_background": "light"
     },
     "output_type": "display_data"
    }
   ],
   "source": [
    "plt.errorbar(x=range(101), y=autocorr_q_ea2d_beta_4_tensor_mean, yerr=autocorr_q_ea2d_beta_4_tensor_std, \n",
    "             fmt='-o', capsize=3, elinewidth=2, label='Beta=1.50')\n",
    "plt.yscale(\"log\")\n",
    "plt.ylim(10**-3)\n",
    "plt.xlabel(r'$\\tau$ [MC steps]', fontsize=15)\n",
    "plt.ylabel(r'$A_{q}$', fontsize=15)\n",
    "plt.title(\"2D EA, Beta=1.50, Tensor Contractions\")\n",
    "plt.legend(loc='lower right')"
   ]
  },
  {
   "cell_type": "code",
   "execution_count": 389,
   "id": "98fe3a42-5b94-4b8b-b195-c877ee103f37",
   "metadata": {},
   "outputs": [],
   "source": [
    "autocorr_time_beta_4_tensor = np.sum(autocorr_q_ea2d_beta_4_tensor_mean)"
   ]
  },
  {
   "cell_type": "code",
   "execution_count": 390,
   "id": "7464cf30-3a00-4295-a436-eec765496fa7",
   "metadata": {},
   "outputs": [
    {
     "data": {
      "text/plain": [
       "0.9804683443911134"
      ]
     },
     "execution_count": 390,
     "metadata": {},
     "output_type": "execute_result"
    }
   ],
   "source": [
    "autocorr_time_beta_4_tensor"
   ]
  },
  {
   "cell_type": "code",
   "execution_count": 391,
   "id": "36e19eef-0f62-4bba-8c4c-f504eea2087a",
   "metadata": {},
   "outputs": [],
   "source": [
    "autocorr_time_beta_4_tensor = autocorr_time_est(autocorr_q_ea2d_beta_4_tensor_mean[:4])"
   ]
  },
  {
   "cell_type": "code",
   "execution_count": 392,
   "id": "35deae2f-03ab-4a33-9523-54298180ace7",
   "metadata": {},
   "outputs": [
    {
     "data": {
      "text/plain": [
       "0.43158420575732626"
      ]
     },
     "execution_count": 392,
     "metadata": {},
     "output_type": "execute_result"
    }
   ],
   "source": [
    "autocorr_time_beta_4_tensor"
   ]
  },
  {
   "cell_type": "code",
   "execution_count": 6,
   "id": "9ac99143-e9c9-44a7-8f35-3efd33aeef3c",
   "metadata": {},
   "outputs": [],
   "source": [
    "with open('../data_2d_ea/autocorr_vs_K/full_lattice_metro/ea_square_size_8_metropolis/ea_square_beta_0.500_q_1E7_metropolis.pkl', 'rb') as file:\n",
    "    data_dict = pickle.load(file)\n",
    "    q_ea2d_beta_0_metro = data_dict['q_history']"
   ]
  },
  {
   "cell_type": "code",
   "execution_count": 7,
   "id": "54ac56b6-8cdf-431e-be35-47b70269442b",
   "metadata": {},
   "outputs": [],
   "source": [
    "with open('../data_2d_ea/autocorr_vs_K/full_lattice_metro/ea_square_size_8_metropolis/ea_square_beta_0.750_q_1E7_metropolis.pkl', 'rb') as file:\n",
    "    data_dict = pickle.load(file)\n",
    "    q_ea2d_beta_1_metro = data_dict['q_history']"
   ]
  },
  {
   "cell_type": "code",
   "execution_count": 8,
   "id": "d1513f49-d29d-43ae-9c5e-c5e47e69da5d",
   "metadata": {},
   "outputs": [],
   "source": [
    "with open('../data_2d_ea/autocorr_vs_K/full_lattice_metro/ea_square_size_8_metropolis/ea_square_beta_1.000_q_1E7_metropolis.pkl', 'rb') as file:\n",
    "    data_dict = pickle.load(file)\n",
    "    q_ea2d_beta_2_metro = data_dict['q_history']"
   ]
  },
  {
   "cell_type": "code",
   "execution_count": 441,
   "id": "6c405e4a-dbc1-4ebc-8d40-aa6bd3ed0e9a",
   "metadata": {},
   "outputs": [],
   "source": [
    "with open('../data_2d_ea/autocorr_vs_K/full_lattice_metro/ea_square_size_8_metropolis/ea_square_beta_1.250_q_1E7_metropolis.pkl', 'rb') as file:\n",
    "    data_dict = pickle.load(file)\n",
    "    q_ea2d_beta_3_metro = data_dict['q_history']"
   ]
  },
  {
   "cell_type": "code",
   "execution_count": 10,
   "id": "9949c7f6-0953-4dcf-811e-cdd90d2e31e1",
   "metadata": {},
   "outputs": [],
   "source": [
    "with open('../data_2d_ea/autocorr_vs_K/full_lattice_metro/ea_square_size_8_metropolis/ea_square_beta_1.500_q_1E7_metropolis.pkl', 'rb') as file:\n",
    "    data_dict = pickle.load(file)\n",
    "    q_ea2d_beta_4_metro = data_dict['q_history']"
   ]
  },
  {
   "cell_type": "code",
   "execution_count": 314,
   "id": "4f2addf5-d5f7-4772-907a-500271fa79bd",
   "metadata": {},
   "outputs": [],
   "source": [
    "with open('../data_2d_ea/autocorr_vs_K/full_lattice_metro/ea_square_size_8_metropolis/ea_square_beta_1.750_q_1E7_metropolis.pkl', 'rb') as file:\n",
    "    data_dict = pickle.load(file)\n",
    "    q_ea2d_beta_5_metro = data_dict['q_history']"
   ]
  },
  {
   "cell_type": "code",
   "execution_count": 419,
   "id": "241cf72e-0dfc-4308-99a8-34c8cca58b85",
   "metadata": {},
   "outputs": [],
   "source": [
    "with open('../data_2d_ea/autocorr_vs_K/full_lattice_metro/ea_square_size_8_metropolis/ea_square_beta_2.000_q_1E7_metropolis.pkl', 'rb') as file:\n",
    "    data_dict = pickle.load(file)\n",
    "    q_ea2d_beta_6_metro = data_dict['q_history']"
   ]
  },
  {
   "cell_type": "code",
   "execution_count": 423,
   "id": "2e04831e-1505-49f3-8558-79052a85ab29",
   "metadata": {},
   "outputs": [
    {
     "data": {
      "text/plain": [
       "(10000, 1000)"
      ]
     },
     "execution_count": 423,
     "metadata": {},
     "output_type": "execute_result"
    }
   ],
   "source": [
    "q_ea2d_beta_2_metro"
   ]
  },
  {
   "cell_type": "code",
   "execution_count": 509,
   "id": "ccdc64a4-1142-4d68-97fa-115b13242800",
   "metadata": {},
   "outputs": [
    {
     "data": {
      "text/plain": [
       "<AxesSubplot:ylabel='Count'>"
      ]
     },
     "execution_count": 509,
     "metadata": {},
     "output_type": "execute_result"
    },
    {
     "data": {
      "image/png": "[encoded data removed]",
      "text/plain": [
       "<Figure size 432x288 with 1 Axes>"
      ]
     },
     "metadata": {
      "needs_background": "light"
     },
     "output_type": "display_data"
    }
   ],
   "source": [
    "sns.histplot(q_ea2d_beta_2_metro.reshape(-1))"
   ]
  },
  {
   "cell_type": "code",
   "execution_count": 508,
   "id": "a8fb0bdd-2091-4680-8e0e-952c51173477",
   "metadata": {},
   "outputs": [
    {
     "data": {
      "text/plain": [
       "<AxesSubplot:ylabel='Count'>"
      ]
     },
     "execution_count": 508,
     "metadata": {},
     "output_type": "execute_result"
    },
    {
     "data": {
      "image/png": "[encoded data removed]",
      "text/plain": [
       "<Figure size 432x288 with 1 Axes>"
      ]
     },
     "metadata": {
      "needs_background": "light"
     },
     "output_type": "display_data"
    }
   ],
   "source": [
    "sns.histplot(q_ea2d_beta_6_metro.reshape(-1))"
   ]
  },
  {
   "cell_type": "code",
   "execution_count": 442,
   "id": "443f8116-fd31-4683-ac35-bf71e1721407",
   "metadata": {},
   "outputs": [],
   "source": [
    "data_list = [q_ea2d_beta_2_metro, q_ea2d_beta_3_metro, q_ea2d_beta_4_metro, \n",
    "             q_ea2d_beta_5_metro, q_ea2d_beta_6_metro]"
   ]
  },
  {
   "cell_type": "code",
   "execution_count": 443,
   "id": "49ce452e-3d99-4928-973b-d0823908e934",
   "metadata": {},
   "outputs": [],
   "source": [
    "autocorr_mean_metro_list, autocorr_std_metro_list = data_process_pip(data_list, 1000, steps=100)"
   ]
  },
  {
   "cell_type": "code",
   "execution_count": 450,
   "id": "12dbe9f2-175d-4c6f-bb0e-dcdbaed5aaaf",
   "metadata": {},
   "outputs": [
    {
     "data": {
      "image/png": "[encoded data removed]",
      "text/plain": [
       "<Figure size 432x288 with 1 Axes>"
      ]
     },
     "metadata": {
      "needs_background": "light"
     },
     "output_type": "display_data"
    }
   ],
   "source": [
    "errbar_plot(autocorr_mean_metro_list[1], autocorr_std_metro_list[1], 1.25, '2d ea metropolis')"
   ]
  },
  {
   "cell_type": "code",
   "execution_count": 514,
   "id": "bebd2ea0-9815-4660-a3e6-d313d71610d4",
   "metadata": {},
   "outputs": [],
   "source": [
    "autocorr_time_metro_list = autocorr_time_est_pip(autocorr_mean_metro_list, steps=10)"
   ]
  },
  {
   "cell_type": "code",
   "execution_count": 515,
   "id": "49fde450-7fa4-4584-b915-17e7bdf6c02a",
   "metadata": {},
   "outputs": [
    {
     "data": {
      "text/plain": [
       "[34.889137593954494,\n",
       " 73.56682265791599,\n",
       " 111.1783122510455,\n",
       " 133.27597983035804,\n",
       " 149.74614228631765]"
      ]
     },
     "execution_count": 515,
     "metadata": {},
     "output_type": "execute_result"
    }
   ],
   "source": [
    "autocorr_time_metro_list"
   ]
  },
  {
   "cell_type": "code",
   "execution_count": 113,
   "id": "29873cdc-bec4-4deb-8ce8-a858c671218f",
   "metadata": {},
   "outputs": [],
   "source": [
    "beta_list = [0.5, 0.75, 1, 1.25, 1.5]\n",
    "autocorr_time_metro_list = [autocorr_time_beta_0_metro, autocorr_time_beta_1_metro, \n",
    "                            autocorr_time_beta_2_metro, autocorr_time_beta_3_metro, \n",
    "                            autocorr_time_beta_4_metro]"
   ]
  },
  {
   "cell_type": "code",
   "execution_count": 114,
   "id": "abebf2c8-e1d0-42ab-a581-2bda2aab65d6",
   "metadata": {},
   "outputs": [],
   "source": [
    "index_metro, bias_metro = np.polyfit(beta_list, np.log(autocorr_time_metro_list), 1)"
   ]
  },
  {
   "cell_type": "code",
   "execution_count": 298,
   "id": "9ccfb24f-bd00-4ca7-ab2f-e5ed5d144baa",
   "metadata": {},
   "outputs": [
    {
     "data": {
      "text/plain": [
       "[2.460623018652133,\n",
       " 19.659147206788376,\n",
       " 83.24732688442892,\n",
       " 288.61323709867946,\n",
       " 759.5398389131852]"
      ]
     },
     "execution_count": 298,
     "metadata": {},
     "output_type": "execute_result"
    }
   ],
   "source": [
    "autocorr_time_metro_list"
   ]
  },
  {
   "cell_type": "code",
   "execution_count": 194,
   "id": "e0d1f49b-3903-4627-a9ec-7f703b443cd5",
   "metadata": {},
   "outputs": [],
   "source": [
    "with open('../data_2d_ea/autocorr_vs_K/full_lattice_metro/ea_square_size_8/j_seed_0/ea_square_size_8_beta_0.500_1E4_m_tm_exact_torch_v1.pkl', 'rb') as file:\n",
    "    data_dict = pickle.load(file)\n",
    "    q_ea2d_beta_0_tm_exact = data_dict['q_list']"
   ]
  },
  {
   "cell_type": "code",
   "execution_count": 195,
   "id": "baa71b37-568d-4241-b27e-ed57ab11d389",
   "metadata": {},
   "outputs": [],
   "source": [
    "with open('../data_2d_ea/autocorr_vs_K/full_lattice_metro/ea_square_size_8/j_seed_0/ea_square_size_8_beta_0.750_1E4_m_tm_exact_torch_v2.pkl', 'rb') as file:\n",
    "    data_dict = pickle.load(file)\n",
    "    q_ea2d_beta_1_tm_exact = data_dict['q_list']"
   ]
  },
  {
   "cell_type": "code",
   "execution_count": 196,
   "id": "21a0c542-689f-4197-965a-73c2d81dd766",
   "metadata": {},
   "outputs": [],
   "source": [
    "with open('../data_2d_ea/autocorr_vs_K/full_lattice_metro/ea_square_size_8/j_seed_0/ea_square_size_8_beta_1.000_1E4_m_tm_exact_torch_v3.pkl', 'rb') as file:\n",
    "    data_dict = pickle.load(file)\n",
    "    q_ea2d_beta_2_tm_exact = data_dict['q_list']"
   ]
  },
  {
   "cell_type": "code",
   "execution_count": 197,
   "id": "8af65895-148f-42c6-97b4-8103568ef87b",
   "metadata": {},
   "outputs": [],
   "source": [
    "with open('../data_2d_ea/autocorr_vs_K/full_lattice_metro/ea_square_size_8/j_seed_0/ea_square_size_8_beta_1.250_1E4_m_tm_exact_torch_v4.pkl', 'rb') as file:\n",
    "    data_dict = pickle.load(file)\n",
    "    q_ea2d_beta_3_tm_exact = data_dict['q_list']"
   ]
  },
  {
   "cell_type": "code",
   "execution_count": 198,
   "id": "3afeca82-7ecf-4b81-be9f-1612bcfe9457",
   "metadata": {},
   "outputs": [],
   "source": [
    "with open('../data_2d_ea/autocorr_vs_K/full_lattice_metro/ea_square_size_8/j_seed_0/ea_square_size_8_beta_1.500_1E4_m_tm_exact_torch_v5.pkl', 'rb') as file:\n",
    "    data_dict = pickle.load(file)\n",
    "    q_ea2d_beta_4_tm_exact = data_dict['q_list']"
   ]
  },
  {
   "cell_type": "code",
   "execution_count": 199,
   "id": "dcfcbbe8-28ed-46b0-b5f6-d524611eda92",
   "metadata": {},
   "outputs": [],
   "source": [
    "q_ea2d_beta_0_tm_exact = np.array(q_ea2d_beta_0_tm_exact).reshape((30, 500))\n",
    "q_ea2d_beta_1_tm_exact = np.array(q_ea2d_beta_1_tm_exact).reshape((30, 500))\n",
    "q_ea2d_beta_2_tm_exact = np.array(q_ea2d_beta_2_tm_exact).reshape((30, 500))\n",
    "q_ea2d_beta_3_tm_exact = np.array(q_ea2d_beta_3_tm_exact).reshape((30, 500))\n",
    "q_ea2d_beta_4_tm_exact = np.array(q_ea2d_beta_4_tm_exact).reshape((30, 500))"
   ]
  },
  {
   "cell_type": "code",
   "execution_count": 200,
   "id": "5222064b-f1ba-4b4b-96da-d4f99463f1f8",
   "metadata": {},
   "outputs": [],
   "source": [
    "autocorr_q_ea2d_beta_0_tm_mean, autocorr_q_ea2d_beta_0_tm_std = autocorr_est_combine(q_ea2d_beta_0_tm_exact, (30, 500), steps=100)\n",
    "autocorr_q_ea2d_beta_0_tm_mean, autocorr_q_ea2d_beta_0_tm_std = autocorr_est_combine(q_ea2d_beta_0_tm_exact, (30, 500), steps=100)\n",
    "autocorr_q_ea2d_beta_0_tm_mean, autocorr_q_ea2d_beta_0_tm_std = autocorr_est_combine(q_ea2d_beta_0_tm_exact, (30, 500), steps=100)\n",
    "autocorr_q_ea2d_beta_0_tm_mean, autocorr_q_ea2d_beta_0_tm_std = autocorr_est_combine(q_ea2d_beta_0_tm_exact, (30, 500), steps=100)\n",
    "autocorr_q_ea2d_beta_0_tm_mean, autocorr_q_ea2d_beta_0_tm_std = autocorr_est_combine(q_ea2d_beta_0_tm_exact, (30, 500), steps=100)"
   ]
  },
  {
   "cell_type": "code",
   "execution_count": 201,
   "id": "8b5ddb7d-ffb0-491f-bbbb-82ceaef7baee",
   "metadata": {},
   "outputs": [],
   "source": [
    "autocorr_time_beta_0_tm = autocorr_time_est(autocorr_q_ea2d_beta_0_tm_mean[:5])\n",
    "autocorr_time_beta_1_tm = autocorr_time_est(autocorr_q_ea2d_beta_1_tm_mean[:5])\n",
    "autocorr_time_beta_2_tm = autocorr_time_est(autocorr_q_ea2d_beta_2_tm_mean[:])\n",
    "autocorr_time_beta_3_tm = autocorr_time_est(autocorr_q_ea2d_beta_3_tm_mean[:])\n",
    "autocorr_time_beta_4_tm = autocorr_time_est(autocorr_q_ea2d_beta_4_tm_mean[:])"
   ]
  },
  {
   "cell_type": "code",
   "execution_count": 202,
   "id": "333f2a03-a205-4ed3-8d1b-e149b4016312",
   "metadata": {},
   "outputs": [],
   "source": [
    "autocorr_time_tm_exact_list = [autocorr_time_beta_0_tm, autocorr_time_beta_1_tm, \n",
    "                               autocorr_time_beta_2_tm, autocorr_time_beta_3_tm,\n",
    "                               autocorr_time_beta_4_tm]"
   ]
  },
  {
   "cell_type": "code",
   "execution_count": 203,
   "id": "298fdbbf-aec3-49b9-977b-39e595c3306a",
   "metadata": {},
   "outputs": [
    {
     "data": {
      "text/plain": [
       "[2.508167367407223,\n",
       " 2.466407309767159,\n",
       " 43.52658415543188,\n",
       " 79.3207727423776,\n",
       " 98.62303493774984]"
      ]
     },
     "execution_count": 203,
     "metadata": {},
     "output_type": "execute_result"
    }
   ],
   "source": [
    "autocorr_time_tm_exact_list"
   ]
  },
  {
   "cell_type": "code",
   "execution_count": 161,
   "id": "ce6c516d-ac8e-4d75-a240-24348ca61812",
   "metadata": {},
   "outputs": [
    {
     "data": {
      "text/plain": [
       "[2.460623018652133,\n",
       " 19.659147206788376,\n",
       " 83.24732688442892,\n",
       " 288.61323709867946,\n",
       " 759.5398389131852]"
      ]
     },
     "execution_count": 161,
     "metadata": {},
     "output_type": "execute_result"
    }
   ],
   "source": [
    "autocorr_time_metro_list"
   ]
  },
  {
   "cell_type": "code",
   "execution_count": 165,
   "id": "85d92f9a-55f4-4af1-ba05-731eff396e9e",
   "metadata": {},
   "outputs": [],
   "source": [
    "with open('../data_2d_ea/autocorr_vs_K/full_lattice_metro/ea_square_size_8/j_seed_0/ea_square_size_8_beta_0.500_4E3_m_tensor_torch_v5.pkl', 'rb') as file:\n",
    "    data_dict = pickle.load(file)\n",
    "    q_ea2d_beta_0_v5 = data_dict['q_list']"
   ]
  },
  {
   "cell_type": "code",
   "execution_count": 166,
   "id": "29ec680c-2cbd-4cf3-ba77-d7fac4620289",
   "metadata": {},
   "outputs": [],
   "source": [
    "with open('../data_2d_ea/autocorr_vs_K/full_lattice_metro/ea_square_size_8/j_seed_0/ea_square_size_8_beta_0.500_4E3_m_tensor_torch_v2.pkl', 'rb') as file:\n",
    "    data_dict = pickle.load(file)\n",
    "    q_ea2d_beta_0_v2 = data_dict['q_list']"
   ]
  },
  {
   "cell_type": "code",
   "execution_count": 167,
   "id": "caa34eb0-a453-4def-8d4e-63992437bb0e",
   "metadata": {},
   "outputs": [],
   "source": [
    "with open('../data_2d_ea/autocorr_vs_K/full_lattice_metro/ea_square_size_8/j_seed_0/ea_square_size_8_beta_0.500_4E3_m_tensor_torch_v3.pkl', 'rb') as file:\n",
    "    data_dict = pickle.load(file)\n",
    "    q_ea2d_beta_0_v3 = data_dict['q_list']"
   ]
  },
  {
   "cell_type": "code",
   "execution_count": 168,
   "id": "ca82c5f7-035d-4da6-8688-cd2a98dd6101",
   "metadata": {},
   "outputs": [],
   "source": [
    "with open('../data_2d_ea/autocorr_vs_K/full_lattice_metro/ea_square_size_8/j_seed_0/ea_square_size_8_beta_0.750_4E3_m_tensor_torch_v5.pkl', 'rb') as file:\n",
    "    data_dict = pickle.load(file)\n",
    "    q_ea2d_beta_1_v5 = data_dict['q_list']"
   ]
  },
  {
   "cell_type": "code",
   "execution_count": 169,
   "id": "9c4f2c6a-68d5-479d-92dc-052389c0fc5f",
   "metadata": {},
   "outputs": [],
   "source": [
    "with open('../data_2d_ea/autocorr_vs_K/full_lattice_metro/ea_square_size_8/j_seed_0/ea_square_size_8_beta_0.750_4E3_m_tensor_torch_v3.pkl', 'rb') as file:\n",
    "    data_dict = pickle.load(file)\n",
    "    q_ea2d_beta_1_v3 = data_dict['q_list']"
   ]
  },
  {
   "cell_type": "code",
   "execution_count": 170,
   "id": "53ef01bc-dd3e-4425-b018-3019cd94b3ea",
   "metadata": {},
   "outputs": [],
   "source": [
    "with open('../data_2d_ea/autocorr_vs_K/full_lattice_metro/ea_square_size_8/j_seed_0/ea_square_size_8_beta_1.000_4E3_m_tensor_torch_v3.pkl', 'rb') as file:\n",
    "    data_dict = pickle.load(file)\n",
    "    q_ea2d_beta_2_v3 = data_dict['q_list']"
   ]
  },
  {
   "cell_type": "code",
   "execution_count": 171,
   "id": "f6ba284f-3f5d-41b1-b054-96a4390e50c1",
   "metadata": {},
   "outputs": [],
   "source": [
    "with open('../data_2d_ea/autocorr_vs_K/full_lattice_metro/ea_square_size_8/j_seed_0/ea_square_size_8_beta_1.000_4E3_m_tensor_torch_v5.pkl', 'rb') as file:\n",
    "    data_dict = pickle.load(file)\n",
    "    q_ea2d_beta_2_v5 = data_dict['q_list']"
   ]
  },
  {
   "cell_type": "code",
   "execution_count": 440,
   "id": "cf9658b6-04a1-435e-86db-918c1ec71364",
   "metadata": {},
   "outputs": [],
   "source": [
    "with open('../data_2d_ea/autocorr_vs_K/full_lattice_metro/ea_square_size_8/j_seed_0/ea_square_size_8_beta_1.250_4E3_m_tensor_torch_v5.pkl', 'rb') as file:\n",
    "    data_dict = pickle.load(file)\n",
    "    q_ea2d_beta_3_v5 = data_dict['q_list']"
   ]
  },
  {
   "cell_type": "code",
   "execution_count": 173,
   "id": "fc11cc3e-84a0-41f2-95aa-290426f84b41",
   "metadata": {},
   "outputs": [],
   "source": [
    "with open('../data_2d_ea/autocorr_vs_K/full_lattice_metro/ea_square_size_8/j_seed_0/ea_square_size_8_beta_1.250_4E3_m_tensor_torch_v3.pkl', 'rb') as file:\n",
    "    data_dict = pickle.load(file)\n",
    "    q_ea2d_beta_3_v3 = data_dict['q_list']"
   ]
  },
  {
   "cell_type": "code",
   "execution_count": 174,
   "id": "87d7e3dc-abd0-4771-b1cd-2a3375b0a9a9",
   "metadata": {},
   "outputs": [],
   "source": [
    "with open('../data_2d_ea/autocorr_vs_K/full_lattice_metro/ea_square_size_8/j_seed_0/ea_square_size_8_beta_1.500_4E3_m_tensor_torch_v2.pkl', 'rb') as file:\n",
    "    data_dict = pickle.load(file)\n",
    "    q_ea2d_beta_4_v2 = data_dict['q_list']"
   ]
  },
  {
   "cell_type": "code",
   "execution_count": 175,
   "id": "a1e591ce-a6ea-4374-8ab1-abcda8dc8dbe",
   "metadata": {},
   "outputs": [],
   "source": [
    "with open('../data_2d_ea/autocorr_vs_K/full_lattice_metro/ea_square_size_8/j_seed_0/ea_square_size_8_beta_1.500_4E3_m_tensor_torch_v5.pkl', 'rb') as file:\n",
    "    data_dict = pickle.load(file)\n",
    "    q_ea2d_beta_4_v5 = data_dict['q_list']"
   ]
  },
  {
   "cell_type": "code",
   "execution_count": 176,
   "id": "24a7b8b9-b13c-4738-95fb-5208372ad0a1",
   "metadata": {},
   "outputs": [],
   "source": [
    "q_ea2d_beta_0_v2 = np.reshape(q_ea2d_beta_0_v2, (13, 500))\n",
    "q_ea2d_beta_0_v3 = np.reshape(q_ea2d_beta_0_v3, (13, 500))\n",
    "q_ea2d_beta_0_v5 = np.reshape(q_ea2d_beta_0_v5, (13, 500))"
   ]
  },
  {
   "cell_type": "code",
   "execution_count": 177,
   "id": "1b46ac2f-497e-428e-98b6-a87a8208a560",
   "metadata": {},
   "outputs": [],
   "source": [
    "q_ea2d_beta_0_tensor = np.concatenate([q_ea2d_beta_0_v2, q_ea2d_beta_0_v3, \n",
    "                                       q_ea2d_beta_0_v5], axis=0)"
   ]
  },
  {
   "cell_type": "code",
   "execution_count": 178,
   "id": "ed278fe6-3660-4461-9f1d-5ec6e0ed1286",
   "metadata": {},
   "outputs": [],
   "source": [
    "q_ea2d_beta_1_v3 = np.reshape(q_ea2d_beta_1_v3, (13, 500))\n",
    "q_ea2d_beta_1_v5 = np.reshape(q_ea2d_beta_1_v5, (13, 500))"
   ]
  },
  {
   "cell_type": "code",
   "execution_count": 179,
   "id": "b0a7449e-0b07-47cc-b5a0-681fb5068ae5",
   "metadata": {},
   "outputs": [],
   "source": [
    "q_ea2d_beta_1_tensor = np.concatenate([q_ea2d_beta_0_v3, q_ea2d_beta_0_v5], axis=0)"
   ]
  },
  {
   "cell_type": "code",
   "execution_count": 180,
   "id": "3a3b3e4b-a747-4af8-b4fc-dca6db9819f0",
   "metadata": {},
   "outputs": [],
   "source": [
    "q_ea2d_beta_2_v3 = np.reshape(q_ea2d_beta_2_v3, (13, 500))\n",
    "q_ea2d_beta_2_v5 = np.reshape(q_ea2d_beta_2_v5, (13, 500))"
   ]
  },
  {
   "cell_type": "code",
   "execution_count": 181,
   "id": "33427e2d-9d31-42b9-9c2b-4271ce7a8f9b",
   "metadata": {},
   "outputs": [],
   "source": [
    "q_ea2d_beta_2_tensor = np.concatenate([q_ea2d_beta_2_v3, q_ea2d_beta_2_v5], axis=0)"
   ]
  },
  {
   "cell_type": "code",
   "execution_count": 182,
   "id": "7c161606-44f1-4b08-98fc-26475fb06207",
   "metadata": {},
   "outputs": [],
   "source": [
    "q_ea2d_beta_3_v3 = np.reshape(q_ea2d_beta_3_v3, (13, 500))\n",
    "q_ea2d_beta_3_v5 = np.reshape(q_ea2d_beta_3_v5, (13, 500))"
   ]
  },
  {
   "cell_type": "code",
   "execution_count": 183,
   "id": "9830ac79-f484-44c8-8f68-6b413c3cf894",
   "metadata": {},
   "outputs": [],
   "source": [
    "q_ea2d_beta_3_tensor = np.concatenate([q_ea2d_beta_3_v3, q_ea2d_beta_3_v5], axis=0)"
   ]
  },
  {
   "cell_type": "code",
   "execution_count": 184,
   "id": "4c94034a-8173-4c05-9d4f-0b1b4f3c7ddc",
   "metadata": {},
   "outputs": [],
   "source": [
    "q_ea2d_beta_4_v2 = np.reshape(q_ea2d_beta_4_v2, (13, 500))\n",
    "q_ea2d_beta_4_v5 = np.reshape(q_ea2d_beta_4_v5, (13, 500))"
   ]
  },
  {
   "cell_type": "code",
   "execution_count": 185,
   "id": "7134fbb5-f2d0-4de5-834d-94fbac8fd69a",
   "metadata": {},
   "outputs": [],
   "source": [
    "q_ea2d_beta_4_tensor = np.concatenate([q_ea2d_beta_4_v2, q_ea2d_beta_4_v5], axis=0)"
   ]
  },
  {
   "cell_type": "code",
   "execution_count": 186,
   "id": "4a041790-1019-41ab-92af-eb1b7a1b6224",
   "metadata": {},
   "outputs": [],
   "source": [
    "autocorr_q_ea2d_beta_0_tm_mean, autocorr_q_ea2d_beta_0_tm_std = autocorr_est_combine(q_ea2d_beta_0_tensor, (39, 500), steps=100)"
   ]
  },
  {
   "cell_type": "code",
   "execution_count": 187,
   "id": "f8ad8e90-c196-486b-9cd3-80192c8f3114",
   "metadata": {},
   "outputs": [],
   "source": [
    "autocorr_q_ea2d_beta_1_tm_mean, autocorr_q_ea2d_beta_1_tm_std = autocorr_est_combine(q_ea2d_beta_1_tensor, (26, 500), steps=100)"
   ]
  },
  {
   "cell_type": "code",
   "execution_count": 188,
   "id": "42fb9bd7-52b9-4ff6-bf4d-af0de2740e86",
   "metadata": {},
   "outputs": [],
   "source": [
    "autocorr_q_ea2d_beta_2_tm_mean, autocorr_q_ea2d_beta_2_tm_std = autocorr_est_combine(q_ea2d_beta_2_tensor, (26, 500), steps=100)"
   ]
  },
  {
   "cell_type": "code",
   "execution_count": 189,
   "id": "94409a9f-a831-4ece-810a-4c0ec385f692",
   "metadata": {},
   "outputs": [],
   "source": [
    "autocorr_q_ea2d_beta_3_tm_mean, autocorr_q_ea2d_beta_3_tm_std = autocorr_est_combine(q_ea2d_beta_3_tensor, (26, 500), steps=100)"
   ]
  },
  {
   "cell_type": "code",
   "execution_count": 190,
   "id": "39968c8f-cab9-465b-92b3-1d4310a9d190",
   "metadata": {},
   "outputs": [],
   "source": [
    "autocorr_q_ea2d_beta_4_tm_mean, autocorr_q_ea2d_beta_4_tm_std = autocorr_est_combine(q_ea2d_beta_4_tensor, (26, 500), steps=100)"
   ]
  },
  {
   "cell_type": "code",
   "execution_count": 204,
   "id": "81697ca2-f9d6-4653-901b-6c6f28f83518",
   "metadata": {},
   "outputs": [],
   "source": [
    "autocorr_time_beta_0_tm = autocorr_time_est(autocorr_q_ea2d_beta_0_tm_mean[:5])\n",
    "autocorr_time_beta_1_tm = autocorr_time_est(autocorr_q_ea2d_beta_1_tm_mean[:5])\n",
    "autocorr_time_beta_2_tm = autocorr_time_est(autocorr_q_ea2d_beta_2_tm_mean[:5])\n",
    "autocorr_time_beta_3_tm = autocorr_time_est(autocorr_q_ea2d_beta_3_tm_mean[:5])\n",
    "autocorr_time_beta_4_tm = autocorr_time_est(autocorr_q_ea2d_beta_4_tm_mean[:5])"
   ]
  },
  {
   "cell_type": "code",
   "execution_count": 205,
   "id": "f91e9e0b-830d-455e-a602-5ef9dd85f2e4",
   "metadata": {},
   "outputs": [],
   "source": [
    "autocorr_time_tm_bd_20_list = [autocorr_time_beta_0_tm, autocorr_time_beta_1_tm, \n",
    "                               autocorr_time_beta_2_tm, autocorr_time_beta_3_tm,\n",
    "                               autocorr_time_beta_4_tm]"
   ]
  },
  {
   "cell_type": "code",
   "execution_count": 206,
   "id": "ef9b11b2-da50-4b1d-96a4-fc5e0036edca",
   "metadata": {},
   "outputs": [
    {
     "data": {
      "text/plain": [
       "[2.2175192751775996,\n",
       " 3.29278916902758,\n",
       " 12.764592123813165,\n",
       " 23.16778916388394,\n",
       " 27.05051435164104]"
      ]
     },
     "execution_count": 206,
     "metadata": {},
     "output_type": "execute_result"
    }
   ],
   "source": [
    "autocorr_time_tm_bond_20_list"
   ]
  },
  {
   "cell_type": "code",
   "execution_count": 207,
   "id": "55ad93af-6a60-4269-9e1c-f7ae3d13cf2b",
   "metadata": {},
   "outputs": [],
   "source": [
    "index_tm_bd_20, bias_tm_bd_20 = np.polyfit(beta_list, np.log(autocorr_time_tm_bond_20_list), 1)"
   ]
  },
  {
   "cell_type": "code",
   "execution_count": 208,
   "id": "6af64c60-f50b-4957-aace-3bd8146fa70e",
   "metadata": {},
   "outputs": [
    {
     "data": {
      "text/plain": [
       "Text(0.5, 1.0, '2D (J, -J, 1/2), EA (Size=8), Autocorr VS K')"
      ]
     },
     "execution_count": 208,
     "metadata": {},
     "output_type": "execute_result"
    },
    {
     "data": {
      "image/png": "[encoded data removed]",
      "text/plain": [
       "<Figure size 432x288 with 1 Axes>"
      ]
     },
     "metadata": {
      "needs_background": "light"
     },
     "output_type": "display_data"
    }
   ],
   "source": [
    "plt.plot(beta_list, np.exp(index_metro*np.array(beta_list) + bias_metro), linewidth=2)\n",
    "plt.plot(beta_list, autocorr_time_metro_list, 'x', markersize=10, label='Metropolis')\n",
    "plt.plot(beta_list, autocorr_time_tm_bd_20_list, 'o', markersize=10, label='Tensor(exact)')\n",
    "plt.plot(beta_list, np.exp(index_tm_bd_20*np.array(beta_list) + bias_tm_bd_20), linewidth=2)\n",
    "#plt.plot(beta_list, autocorr_time_tm_list, '^', markersize=10, label='Tensor(D=20)')\n",
    "#plt.plot(beta_list, np.exp(index_tm*np.array(beta_list) + bias_tm), linewidth=2)\n",
    "plt.yscale('log')\n",
    "plt.xlabel(\"K\", fontsize=13)\n",
    "plt.ylabel(\"Autocorr Time\", fontsize=13)\n",
    "plt.legend()\n",
    "plt.title(\"2D (J, -J, 1/2), EA (Size=8), Autocorr VS K\", fontsize=13)"
   ]
  },
  {
   "cell_type": "markdown",
   "id": "a7b33048-bdc5-4c51-ada9-3043bd645065",
   "metadata": {},
   "source": [
    "-------------------------------------------------\n",
    "### MH, bond_dim = 2"
   ]
  },
  {
   "cell_type": "code",
   "execution_count": 32,
   "id": "f2e8a157-f29d-4630-9d2b-153b955d9172",
   "metadata": {},
   "outputs": [],
   "source": [
    "with open('../data_2d_ea/autocorr_vs_K/full_mh_obc/size_16/j_seed_0/ea_square_size_16_beta_1.000_bd_2_tm_torch_v5.pkl', 'rb') as file:\n",
    "    data_dict = pickle.load(file)\n",
    "    q_beta_0 = data_dict['q_list']"
   ]
  },
  {
   "cell_type": "code",
   "execution_count": 33,
   "id": "cd3f05e6-bd89-485e-82ee-f625e8f61acb",
   "metadata": {},
   "outputs": [],
   "source": [
    "with open('../data_2d_ea/autocorr_vs_K/full_mh_obc/size_16/j_seed_0/ea_square_size_16_beta_1.250_bd_2_tm_torch_v1.pkl', 'rb') as file:\n",
    "    data_dict = pickle.load(file)\n",
    "    q_beta_1 = data_dict['q_list']"
   ]
  },
  {
   "cell_type": "code",
   "execution_count": 34,
   "id": "8f9c1a5d-3be8-443a-b79d-2d99072373cc",
   "metadata": {},
   "outputs": [],
   "source": [
    "with open('../data_2d_ea/autocorr_vs_K/full_mh_obc/size_16/j_seed_0/ea_square_size_16_beta_1.750_bd_2_tm_torch_v3.pkl', 'rb') as file:\n",
    "    data_dict = pickle.load(file)\n",
    "    q_beta_3 = data_dict['q_list']"
   ]
  },
  {
   "cell_type": "code",
   "execution_count": 35,
   "id": "3fcc00b0-4e79-4d47-85ce-a996af4490db",
   "metadata": {},
   "outputs": [],
   "source": [
    "with open('../data_2d_ea/autocorr_vs_K/full_mh_obc/size_16/j_seed_0/ea_square_size_16_beta_2.000_bd_2_tm_torch_v0.pkl', 'rb') as file:\n",
    "    data_dict = pickle.load(file)\n",
    "    q_beta_4 = data_dict['q_list']"
   ]
  },
  {
   "cell_type": "code",
   "execution_count": 102,
   "id": "bfa67c13-2775-421b-8323-56aaeeda9aad",
   "metadata": {},
   "outputs": [
    {
     "data": {
      "text/plain": [
       "<AxesSubplot:ylabel='Count'>"
      ]
     },
     "execution_count": 102,
     "metadata": {},
     "output_type": "execute_result"
    },
    {
     "data": {
      "image/png": "[encoded data removed]",
      "text/plain": [
       "<Figure size 432x288 with 1 Axes>"
      ]
     },
     "metadata": {
      "needs_background": "light"
     },
     "output_type": "display_data"
    }
   ],
   "source": [
    "sns.histplot(q_beta_0)"
   ]
  },
  {
   "cell_type": "code",
   "execution_count": 38,
   "id": "cc5f8407-f7a6-460c-8266-46bf665b297a",
   "metadata": {},
   "outputs": [],
   "source": [
    "autocorr_q_tm_mean_beta_0, autocorr_q_tm_std_beta_0 = autocorr_est_combine(q_beta_0, (11, 300), steps=100)"
   ]
  },
  {
   "cell_type": "code",
   "execution_count": 42,
   "id": "7b618441-04a8-477d-a2ae-f0487fcf4535",
   "metadata": {},
   "outputs": [],
   "source": [
    "autocorr_q_tm_mean_beta_1, autocorr_q_tm_std_beta_1 = autocorr_est_combine(q_beta_1, (11, 300), steps=100)"
   ]
  },
  {
   "cell_type": "code",
   "execution_count": 48,
   "id": "450dec13-bbe3-4dbf-9558-9d7feea11926",
   "metadata": {},
   "outputs": [],
   "source": [
    "autocorr_q_tm_mean_beta_3, autocorr_q_tm_std_beta_3 = autocorr_est_combine(q_beta_3, (99, 200), steps=100)"
   ]
  },
  {
   "cell_type": "code",
   "execution_count": 51,
   "id": "75ab080b-b231-4f68-b47e-825295d41ae6",
   "metadata": {},
   "outputs": [],
   "source": [
    "autocorr_q_tm_mean_beta_4, autocorr_q_tm_std_beta_4 = autocorr_est_combine(q_beta_4, (36, 500), steps=100)"
   ]
  },
  {
   "cell_type": "code",
   "execution_count": 54,
   "id": "387c26fb-be08-4f29-8516-512f5211a6f4",
   "metadata": {},
   "outputs": [
    {
     "data": {
      "image/png": "[encoded data removed]",
      "text/plain": [
       "<Figure size 432x288 with 1 Axes>"
      ]
     },
     "metadata": {
      "needs_background": "light"
     },
     "output_type": "display_data"
    }
   ],
   "source": [
    "errbar_plot(autocorr_q_tm_mean_beta_3, autocorr_q_tm_std_beta_3, 1.75, f'2D EA OBC, beta=1.75, TM')"
   ]
  },
  {
   "cell_type": "code",
   "execution_count": 52,
   "id": "2900f951-fb6c-4dd6-a109-ff5b9c9c2ca1",
   "metadata": {},
   "outputs": [
    {
     "data": {
      "image/png": "[encoded data removed]",
      "text/plain": [
       "<Figure size 432x288 with 1 Axes>"
      ]
     },
     "metadata": {
      "needs_background": "light"
     },
     "output_type": "display_data"
    }
   ],
   "source": [
    "errbar_plot(autocorr_q_tm_mean_beta_4, autocorr_q_tm_std_beta_4, 2, f'2D EA OBC, beta=2, TM')"
   ]
  },
  {
   "cell_type": "code",
   "execution_count": 55,
   "id": "fc3470a0-ade0-47ba-a70d-6ff887f27a16",
   "metadata": {},
   "outputs": [],
   "source": [
    "autocorr_mean_bd_2_list = [autocorr_q_tm_mean_beta_0, autocorr_q_tm_mean_beta_1, \n",
    "                           autocorr_q_tm_mean_beta_3, autocorr_q_tm_mean_beta_4]"
   ]
  },
  {
   "cell_type": "code",
   "execution_count": 90,
   "id": "ffb174c0-14b4-447f-b260-d43bf37286dc",
   "metadata": {},
   "outputs": [],
   "source": [
    "autocorr_time_bd_2_list = autocorr_time_est_pip(autocorr_mean_bd_2_list, steps=4)"
   ]
  },
  {
   "cell_type": "code",
   "execution_count": 104,
   "id": "6b25e90c-5e56-4b33-b5f3-2defde4eb25a",
   "metadata": {},
   "outputs": [
    {
     "data": {
      "text/plain": [
       "[0.7385710026550709,\n",
       " 0.8656823029533837,\n",
       " 1.4681572109874315,\n",
       " 1.9838497264909143]"
      ]
     },
     "execution_count": 104,
     "metadata": {},
     "output_type": "execute_result"
    }
   ],
   "source": [
    "autocorr_time_bd_2_list"
   ]
  },
  {
   "cell_type": "code",
   "execution_count": 91,
   "id": "ffdff5c3-15f5-41a3-b192-881facce14dd",
   "metadata": {},
   "outputs": [],
   "source": [
    "beta_list_bd_2 = [1, 1.25, 1.75, 2]"
   ]
  },
  {
   "cell_type": "code",
   "execution_count": 92,
   "id": "46521142-141c-4113-8b9e-ba0e1557bb01",
   "metadata": {},
   "outputs": [],
   "source": [
    "index_bd_2, bias_bd_2 = np.polyfit(beta_list_bd_2, np.log(autocorr_time_bd_2_list), 1)"
   ]
  },
  {
   "cell_type": "code",
   "execution_count": 96,
   "id": "8cf2ee01-a29a-458a-9bea-f754dfae7111",
   "metadata": {},
   "outputs": [
    {
     "data": {
      "text/plain": [
       "1.0017599643477775"
      ]
     },
     "execution_count": 96,
     "metadata": {},
     "output_type": "execute_result"
    }
   ],
   "source": [
    "index_bd_2"
   ]
  },
  {
   "cell_type": "code",
   "execution_count": 153,
   "id": "0c28b255-5f83-41c9-8040-8c3c2dd0bac2",
   "metadata": {},
   "outputs": [
    {
     "data": {
      "text/plain": [
       "Text(0.5, 1.0, '2D (J, -J, 1/2), EA (Size=16, OBC), Autocorr VS K')"
      ]
     },
     "execution_count": 153,
     "metadata": {},
     "output_type": "execute_result"
    },
    {
     "data": {
      "image/png": "[encoded data removed]",
      "text/plain": [
       "<Figure size 432x288 with 1 Axes>"
      ]
     },
     "metadata": {
      "needs_background": "light"
     },
     "output_type": "display_data"
    }
   ],
   "source": [
    "plt.plot(beta_list_bd_2, np.exp(index_bd_2*np.array(beta_list_bd_2)+bias_bd_2), linewidth=2)\n",
    "plt.plot(beta_list_bd_2, autocorr_time_bd_2_list, 'x', markersize=10, label='TM_bd_2')\n",
    "plt.plot(beta_list, np.exp(index_metro*np.array(beta_list) + bias_metro), linewidth=2)\n",
    "plt.plot(beta_list, autocorr_time_metro_list, 'o', markersize=10, label='Metropolis')\n",
    "plt.yscale('log')\n",
    "plt.xlabel(\"K\", fontsize=13)\n",
    "plt.ylabel(\"Autocorr Time\", fontsize=13)\n",
    "plt.legend()\n",
    "plt.title(\"2D (J, -J, 1/2), EA (Size=16, OBC), Autocorr VS K\", fontsize=13)"
   ]
  },
  {
   "cell_type": "code",
   "execution_count": 125,
   "id": "17be1f57-50ba-455e-8693-641babfa9e8b",
   "metadata": {},
   "outputs": [
    {
     "data": {
      "text/plain": [
       "Text(0.5, 1.0, '2D (J, -J, 1/2), EA (Size=16, OBC), Autocorr VS K')"
      ]
     },
     "execution_count": 125,
     "metadata": {},
     "output_type": "execute_result"
    },
    {
     "data": {
      "image/png": "[encoded data removed]",
      "text/plain": [
       "<Figure size 432x288 with 1 Axes>"
      ]
     },
     "metadata": {
      "needs_background": "light"
     },
     "output_type": "display_data"
    }
   ],
   "source": [
    "plt.plot(beta_list_bd_2, np.exp(index_bd_2*np.array(beta_list_bd_2)+bias_bd_2), linewidth=2)\n",
    "plt.plot(beta_list_bd_2, autocorr_time_bd_2_list, 'x', markersize=10, label='TM_bd_2')\n",
    "plt.plot(beta_list, np.exp(index_metro*np.array(beta_list) + bias_metro), linewidth=2)\n",
    "plt.plot(beta_list, autocorr_time_metro_list, 'o', markersize=10, label='Metropolis')\n",
    "plt.yscale('log')\n",
    "plt.xlabel(\"K\", fontsize=13)\n",
    "plt.ylabel(\"Autocorr Time\", fontsize=13)\n",
    "plt.legend()\n",
    "plt.title(\"2D (J, -J, 1/2), EA (Size=16, OBC), Autocorr VS K\", fontsize=13)"
   ]
  },
  {
   "cell_type": "code",
   "execution_count": 154,
   "id": "9d57ba97-db7a-42b6-8f82-4a6d79aba377",
   "metadata": {},
   "outputs": [
    {
     "data": {
      "text/plain": [
       "1.9838497264909143"
      ]
     },
     "execution_count": 154,
     "metadata": {},
     "output_type": "execute_result"
    }
   ],
   "source": [
    "autocorr_time_bd_2_list[-1]"
   ]
  },
  {
   "cell_type": "code",
   "execution_count": 155,
   "id": "2fcf6286-ca12-45eb-b499-050b4f0cea7b",
   "metadata": {},
   "outputs": [
    {
     "data": {
      "text/plain": [
       "9392.959993007149"
      ]
     },
     "execution_count": 155,
     "metadata": {},
     "output_type": "execute_result"
    }
   ],
   "source": [
    "autocorr_time_metro_list[-1]"
   ]
  },
  {
   "cell_type": "code",
   "execution_count": 403,
   "id": "47a25d3b-d647-4375-b249-83c2d9bc41ad",
   "metadata": {},
   "outputs": [],
   "source": [
    "with open('../data_2d_ea/autocorr_vs_K/full_mh_obc/ea_square_size_8/j_seed_0/ea_square_size_8_beta_1.000_bd_2_tm_torch_v1.pkl', 'rb') as file:\n",
    "    data_dict = pickle.load(file)\n",
    "    q_ea2d_beta_0_tm = data_dict['q_list']"
   ]
  },
  {
   "cell_type": "code",
   "execution_count": 510,
   "id": "e73fcdb6-a0d6-492e-9237-97355878e7ee",
   "metadata": {},
   "outputs": [],
   "source": [
    "with open('../data_2d_ea/autocorr_vs_K/full_mh_obc/ea_square_size_8/j_seed_0/ea_square_size_8_beta_1.250_bd_2_tm_torch_v2.pkl', 'rb') as file:\n",
    "    data_dict = pickle.load(file)\n",
    "    q_ea2d_beta_1_tm = data_dict['q_list']"
   ]
  },
  {
   "cell_type": "code",
   "execution_count": 511,
   "id": "192d72a9-dcf3-4931-aa95-d2cabf5428d1",
   "metadata": {},
   "outputs": [
    {
     "data": {
      "text/plain": [
       "<AxesSubplot:ylabel='Count'>"
      ]
     },
     "execution_count": 511,
     "metadata": {},
     "output_type": "execute_result"
    },
    {
     "data": {
      "image/png": "[encoded data removed]",
      "text/plain": [
       "<Figure size 432x288 with 1 Axes>"
      ]
     },
     "metadata": {
      "needs_background": "light"
     },
     "output_type": "display_data"
    }
   ],
   "source": [
    "sns.histplot(q_ea2d_beta_1_tm)"
   ]
  },
  {
   "cell_type": "code",
   "execution_count": 434,
   "id": "998e8c18-8914-4d52-b18d-f0e89636a710",
   "metadata": {},
   "outputs": [],
   "source": [
    "with open('../data_2d_ea/autocorr_vs_K/full_mh_obc/ea_square_size_8/j_seed_0/ea_square_size_8_beta_1.500_bd_2_tm_torch_v3.pkl', 'rb') as file:\n",
    "    data_dict = pickle.load(file)\n",
    "    q_ea2d_beta_2_tmk = data_dict['q_list']"
   ]
  },
  {
   "cell_type": "code",
   "execution_count": 435,
   "id": "721ba541-8425-4a2e-aac7-c7a12e5d6da9",
   "metadata": {},
   "outputs": [
    {
     "data": {
      "text/plain": [
       "<AxesSubplot:ylabel='Count'>"
      ]
     },
     "execution_count": 435,
     "metadata": {},
     "output_type": "execute_result"
    },
    {
     "data": {
      "image/png": "[encoded data removed]",
      "text/plain": [
       "<Figure size 432x288 with 1 Axes>"
      ]
     },
     "metadata": {
      "needs_background": "light"
     },
     "output_type": "display_data"
    }
   ],
   "source": [
    "sns.histplot(q_ea2d_beta_2_tmk)"
   ]
  },
  {
   "cell_type": "code",
   "execution_count": 410,
   "id": "d3c86db2-1755-4e77-8858-851c3f951b4b",
   "metadata": {},
   "outputs": [],
   "source": [
    "with open('../data_2d_ea/autocorr_vs_K/full_mh_obc/ea_square_size_8/j_seed_0/ea_square_size_8_beta_1.750_bd_2_tm_torch_v4.pkl', 'rb') as file:\n",
    "    data_dict = pickle.load(file)\n",
    "    q_ea2d_beta_3_tm = data_dict['q_list']"
   ]
  },
  {
   "cell_type": "code",
   "execution_count": 436,
   "id": "e7b2c893-00ab-4bd9-8c12-34b723867754",
   "metadata": {},
   "outputs": [
    {
     "data": {
      "text/plain": [
       "<AxesSubplot:ylabel='Count'>"
      ]
     },
     "execution_count": 436,
     "metadata": {},
     "output_type": "execute_result"
    },
    {
     "data": {
      "image/png": "[encoded data removed]",
      "text/plain": [
       "<Figure size 432x288 with 1 Axes>"
      ]
     },
     "metadata": {
      "needs_background": "light"
     },
     "output_type": "display_data"
    }
   ],
   "source": [
    "sns.histplot(q_ea2d_beta_3_tm)"
   ]
  },
  {
   "cell_type": "code",
   "execution_count": 411,
   "id": "ec853520-34ca-49e1-9824-c67f0720c1f7",
   "metadata": {},
   "outputs": [],
   "source": [
    "with open('../data_2d_ea/autocorr_vs_K/full_mh_obc/ea_square_size_8/j_seed_0/ea_square_size_8_beta_2.000_bd_2_tm_torch_v5.pkl', 'rb') as file:\n",
    "    data_dict = pickle.load(file)\n",
    "    q_ea2d_beta_4_tm = data_dict['q_list']"
   ]
  },
  {
   "cell_type": "code",
   "execution_count": 437,
   "id": "b8527d97-fc31-4fb3-9a6d-0a3b87c6c9fb",
   "metadata": {},
   "outputs": [
    {
     "data": {
      "text/plain": [
       "<AxesSubplot:ylabel='Count'>"
      ]
     },
     "execution_count": 437,
     "metadata": {},
     "output_type": "execute_result"
    },
    {
     "data": {
      "image/png": "[encoded data removed]",
      "text/plain": [
       "<Figure size 432x288 with 1 Axes>"
      ]
     },
     "metadata": {
      "needs_background": "light"
     },
     "output_type": "display_data"
    }
   ],
   "source": [
    "sns.histplot(q_ea2d_beta_4_tm)"
   ]
  },
  {
   "cell_type": "code",
   "execution_count": 446,
   "id": "4f9b34e4-32af-437c-bead-63049ff0a10f",
   "metadata": {},
   "outputs": [],
   "source": [
    "data_list = [q_ea2d_beta_1_tm, q_ea2d_beta_2_tm, \n",
    "             q_ea2d_beta_3_tm, q_ea2d_beta_4_tm]"
   ]
  },
  {
   "cell_type": "code",
   "execution_count": 448,
   "id": "79b27577-80b4-4b63-b24d-292569370774",
   "metadata": {},
   "outputs": [],
   "source": [
    "autocorr_mean_bd_2_list, autocorr_std_bd_2_list = data_process_pip(data_list, 500, steps=100)"
   ]
  },
  {
   "cell_type": "code",
   "execution_count": null,
   "id": "4c3bed01-6765-47c2-82a0-c4fd6b0fb992",
   "metadata": {},
   "outputs": [],
   "source": []
  },
  {
   "cell_type": "code",
   "execution_count": 451,
   "id": "9219c656-2248-4e2b-b263-3cdd8157e018",
   "metadata": {},
   "outputs": [
    {
     "data": {
      "image/png": "[encoded data removed]",
      "text/plain": [
       "<Figure size 432x288 with 1 Axes>"
      ]
     },
     "metadata": {
      "needs_background": "light"
     },
     "output_type": "display_data"
    }
   ],
   "source": [
    "errbar_plot(autocorr_mean_bd_2_list[0], autocorr_std_bd_2_list[0], 1.25, f'2D EA, beta=1')"
   ]
  },
  {
   "cell_type": "code",
   "execution_count": 512,
   "id": "30c1f17e-88bc-4eca-a3d8-ceef0c709bdd",
   "metadata": {},
   "outputs": [],
   "source": [
    "autocorr_time_bd_2_list = autocorr_time_est_pip(autocorr_mean_bd_2_list, steps=10)"
   ]
  },
  {
   "cell_type": "code",
   "execution_count": 513,
   "id": "5480b9ba-46ab-40aa-a034-36b72cf72e0b",
   "metadata": {},
   "outputs": [
    {
     "data": {
      "text/plain": [
       "[82.51783894617478, 104.95630600627511, 103.80265509017636, 7.218230346552891]"
      ]
     },
     "execution_count": 513,
     "metadata": {},
     "output_type": "execute_result"
    }
   ],
   "source": [
    "autocorr_time_bd_2_list"
   ]
  },
  {
   "cell_type": "code",
   "execution_count": 260,
   "id": "24e0b448-668f-410b-bf6d-ee4295f183aa",
   "metadata": {},
   "outputs": [],
   "source": [
    "result_tm_bd_2 = data_process_pip(data_list, 500, steps=100)"
   ]
  },
  {
   "cell_type": "code",
   "execution_count": 275,
   "id": "472b0eb3-6c13-4b6d-bb9b-48c1762c1dea",
   "metadata": {},
   "outputs": [],
   "source": [
    "beta = 1\n",
    "title_str = f'2D EA, bd = 2, (J, -J, 1/2), Beta={beta}'"
   ]
  },
  {
   "cell_type": "code",
   "execution_count": 283,
   "id": "9248df46-ece6-4934-8926-40d8b53f70f4",
   "metadata": {},
   "outputs": [
    {
     "ename": "IndexError",
     "evalue": "list index out of range",
     "output_type": "error",
     "traceback": [
      "\u001b[0;31m---------------------------------------------------------------------------\u001b[0m",
      "\u001b[0;31mIndexError\u001b[0m                                Traceback (most recent call last)",
      "Input \u001b[0;32mIn [283]\u001b[0m, in \u001b[0;36m<cell line: 1>\u001b[0;34m()\u001b[0m\n\u001b[0;32m----> 1\u001b[0m errbar_plot(\u001b[43mresult_tm_bd_2\u001b[49m\u001b[43m[\u001b[49m\u001b[38;5;241;43m5\u001b[39;49m\u001b[43m]\u001b[49m[\u001b[38;5;241m0\u001b[39m], result_tm_bd_2[\u001b[38;5;241m5\u001b[39m][\u001b[38;5;241m0\u001b[39m], \u001b[38;5;241m1\u001b[39m, title_str)\n",
      "\u001b[0;31mIndexError\u001b[0m: list index out of range"
     ]
    }
   ],
   "source": [
    "errbar_plot(result_tm_bd_2[5][0], result_tm_bd_2[5][0], 1, title_str)"
   ]
  },
  {
   "cell_type": "code",
   "execution_count": 274,
   "id": "c108193a-da41-4f21-9593-421b5901482f",
   "metadata": {},
   "outputs": [
    {
     "data": {
      "text/plain": [
       "array([1.        , 0.77543593, 0.64897501, 0.55222267, 0.47799654,\n",
       "       0.42060785, 0.37617416, 0.33853755, 0.30358214, 0.27069147,\n",
       "       0.24711816, 0.22491151, 0.20332361, 0.18732476, 0.17095195,\n",
       "       0.16081413, 0.1498604 , 0.1382154 , 0.13397034, 0.12739538,\n",
       "       0.12091561, 0.11470554, 0.10784048, 0.10359316, 0.10219929,\n",
       "       0.10313533, 0.09601869, 0.09102118, 0.08941653, 0.08604859,\n",
       "       0.08521681, 0.08193953, 0.07761061, 0.07008828, 0.06491624,\n",
       "       0.05721259, 0.05126997, 0.04653083, 0.04078539, 0.03498555,\n",
       "       0.04183475, 0.04700678, 0.04416919, 0.04538627, 0.04632458,\n",
       "       0.04567411, 0.04870435, 0.04914631, 0.04881767, 0.04964946,\n",
       "       0.04891966, 0.05328711, 0.04877688, 0.04671441, 0.04388589,\n",
       "       0.03914675, 0.03333104, 0.03402004, 0.03708881, 0.0406834 ,\n",
       "       0.04228577, 0.04200927, 0.04033436, 0.03587853, 0.02917665,\n",
       "       0.02846498, 0.02503132, 0.02110356, 0.01846995, 0.01823424,\n",
       "       0.01966664, 0.02310937, 0.02392756, 0.0186626 , 0.01446741,\n",
       "       0.01071644, 0.01014756, 0.01305088, 0.01945132, 0.02014486,\n",
       "       0.02195575, 0.01575248, 0.01853568, 0.01815945, 0.02040097,\n",
       "       0.02078626, 0.02262888, 0.0258835 , 0.02907239, 0.02983165,\n",
       "       0.02213706, 0.02227532, 0.0241338 , 0.02582231, 0.02296658,\n",
       "       0.02067521, 0.02101064, 0.02287819, 0.02327029, 0.02253823,\n",
       "       0.01752938])"
      ]
     },
     "execution_count": 274,
     "metadata": {},
     "output_type": "execute_result"
    }
   ],
   "source": [
    "result_tm_bd_2[4][0]"
   ]
  },
  {
   "cell_type": "code",
   "execution_count": 256,
   "id": "2550ae67-f569-4b5b-8ada-7040f9005019",
   "metadata": {},
   "outputs": [],
   "source": [
    "autocorr_time_beta_0_bd_2_tm = autocorr_time_est(result_tm_bd_2[0][0][:5])\n",
    "autocorr_time_beta_1_bd_2_tm = autocorr_time_est(result_tm_bd_2[1][0][:5])\n",
    "autocorr_time_beta_2_bd_2_tm = autocorr_time_est(result_tm_bd_2[2][0][:5])\n",
    "autocorr_time_beta_3_bd_2_tm = autocorr_time_est(result_tm_bd_2[3][0][:5])\n",
    "autocorr_time_beta_4_bd_2_tm = autocorr_time_est(result_tm_bd_2[4][0][:5])"
   ]
  },
  {
   "cell_type": "code",
   "execution_count": 257,
   "id": "fa40c68a-f5f5-4e85-a193-81d303d27078",
   "metadata": {},
   "outputs": [],
   "source": [
    "autocorr_time_bd_2_list = [autocorr_time_beta_0_bd_2_tm, autocorr_time_beta_1_bd_2_tm, \n",
    "                           autocorr_time_beta_2_bd_2_tm, autocorr_time_beta_3_bd_2_tm, \n",
    "                           autocorr_time_beta_4_bd_2_tm]"
   ]
  },
  {
   "cell_type": "code",
   "execution_count": 258,
   "id": "c2a34b3a-7d1a-4f4e-9ce7-2b76a01d7080",
   "metadata": {},
   "outputs": [
    {
     "data": {
      "text/plain": [
       "[27.793665315460377,\n",
       " 53.53682144984705,\n",
       " 64.98903318097203,\n",
       " 63.20259842608155,\n",
       " 5.507282473181502]"
      ]
     },
     "execution_count": 258,
     "metadata": {},
     "output_type": "execute_result"
    }
   ],
   "source": [
    "autocorr_time_bd_2_list"
   ]
  },
  {
   "cell_type": "code",
   "execution_count": 488,
   "id": "253e0de7-e9e9-4af3-a0d3-0392c8004c1c",
   "metadata": {},
   "outputs": [],
   "source": [
    "with open('../data_2d_ea/autocorr_vs_K/full_mh_obc/ea_square_size_8/j_seed_0/ea_square_size_8_beta_1.000_bd_4_tm_torch_v1.pkl', 'rb') as file:\n",
    "    data_dict = pickle.load(file)\n",
    "    q_ea2d_beta_0_tm = data_dict['q_list']"
   ]
  },
  {
   "cell_type": "code",
   "execution_count": 489,
   "id": "8b9be5eb-7288-4f69-83e2-6afda2c5c3fd",
   "metadata": {},
   "outputs": [],
   "source": [
    "with open('../data_2d_ea/autocorr_vs_K/full_mh_obc/ea_square_size_8/j_seed_0/ea_square_size_8_beta_1.250_bd_4_tm_torch_v2.pkl', 'rb') as file:\n",
    "    data_dict = pickle.load(file)\n",
    "    q_ea2d_beta_1_tm = data_dict['q_list']"
   ]
  },
  {
   "cell_type": "code",
   "execution_count": 490,
   "id": "d2a17d7f-4039-43ab-a2a8-80272c839b5c",
   "metadata": {},
   "outputs": [],
   "source": [
    "with open('../data_2d_ea/autocorr_vs_K/full_mh_obc/ea_square_size_8/j_seed_0/ea_square_size_8_beta_1.500_bd_4_tm_torch_v3.pkl', 'rb') as file:\n",
    "    data_dict = pickle.load(file)\n",
    "    q_ea2d_beta_2_tm = data_dict['q_list']"
   ]
  },
  {
   "cell_type": "code",
   "execution_count": 491,
   "id": "f58c35e0-d3ae-43cb-afda-536a49dbe35c",
   "metadata": {},
   "outputs": [],
   "source": [
    "with open('../data_2d_ea/autocorr_vs_K/full_mh_obc/ea_square_size_8/j_seed_0/ea_square_size_8_beta_1.750_bd_4_tm_torch_v4.pkl', 'rb') as file:\n",
    "    data_dict = pickle.load(file)\n",
    "    q_ea2d_beta_3_tm = data_dict['q_list']"
   ]
  },
  {
   "cell_type": "code",
   "execution_count": 492,
   "id": "0bab9f61-fead-4d3f-a6cb-81caf9bc9387",
   "metadata": {},
   "outputs": [],
   "source": [
    "with open('../data_2d_ea/autocorr_vs_K/full_mh_obc/ea_square_size_8/j_seed_0/ea_square_size_8_beta_2.000_bd_4_tm_torch_v5.pkl', 'rb') as file:\n",
    "    data_dict = pickle.load(file)\n",
    "    q_ea2d_beta_4_tm = data_dict['q_list']"
   ]
  },
  {
   "cell_type": "code",
   "execution_count": 495,
   "id": "bbff0eee-03b3-4be7-9bbe-5b701f821a9b",
   "metadata": {},
   "outputs": [],
   "source": [
    "data_list = [q_ea2d_beta_0_tm, q_ea2d_beta_1_tm, q_ea2d_beta_2_tm, q_ea2d_beta_3_tm, q_ea2d_beta_4_tm]"
   ]
  },
  {
   "cell_type": "code",
   "execution_count": 497,
   "id": "6dcf9686-b3ac-4044-ab33-486bd419b6b0",
   "metadata": {},
   "outputs": [],
   "source": [
    "autocorr_mean_bd_4_list, autocorr_std_bd_4_list = data_process_pip(data_list, 500, steps=100)"
   ]
  },
  {
   "cell_type": "code",
   "execution_count": 502,
   "id": "6dd28b6d-5180-4353-a399-06a570ef75b1",
   "metadata": {},
   "outputs": [
    {
     "data": {
      "image/png": "[encoded data removed]",
      "text/plain": [
       "<Figure size 432x288 with 1 Axes>"
      ]
     },
     "metadata": {
      "needs_background": "light"
     },
     "output_type": "display_data"
    }
   ],
   "source": [
    "errbar_plot(autocorr_mean_bd_4_list[3], autocorr_std_bd_4_list[3], 1, f'2D EA, beta=1')"
   ]
  },
  {
   "cell_type": "code",
   "execution_count": 503,
   "id": "88d740b8-3fc0-4798-b53d-3856555c4c64",
   "metadata": {},
   "outputs": [],
   "source": [
    "autocorr_time_bd_4_list = autocorr_time_est_pip(autocorr_mean_bd_4_list, steps=50)"
   ]
  },
  {
   "cell_type": "code",
   "execution_count": 504,
   "id": "b92b8d03-f0e7-4eea-ad6e-427db919fd03",
   "metadata": {},
   "outputs": [
    {
     "data": {
      "text/plain": [
       "[80.37280245133978,\n",
       " 175.34469844868832,\n",
       " 545.3553962534475,\n",
       " 1443.7937007338733,\n",
       " 17.53230611751491]"
      ]
     },
     "execution_count": 504,
     "metadata": {},
     "output_type": "execute_result"
    }
   ],
   "source": [
    "autocorr_time_bd_4_list"
   ]
  },
  {
   "cell_type": "code",
   "execution_count": 295,
   "id": "e5ced023-b721-426c-bbba-a303c15a1ffc",
   "metadata": {},
   "outputs": [],
   "source": [
    "autocorr_time_beta_0_bd_4_tm = autocorr_time_est(result_tm_bd_4[0][0][:5])\n",
    "autocorr_time_beta_1_bd_4_tm = autocorr_time_est(result_tm_bd_4[1][0][:5])\n",
    "autocorr_time_beta_2_bd_4_tm = autocorr_time_est(result_tm_bd_4[2][0][:5])\n",
    "autocorr_time_beta_3_bd_4_tm = autocorr_time_est(result_tm_bd_4[3][0][:5])\n",
    "autocorr_time_beta_4_bd_4_tm = autocorr_time_est(result_tm_bd_4[4][0][:5])"
   ]
  },
  {
   "cell_type": "code",
   "execution_count": 296,
   "id": "33dade7a-c27f-4905-bebf-ca7236fd6d44",
   "metadata": {},
   "outputs": [],
   "source": [
    "autocorr_time_bd_4_list = [autocorr_time_beta_0_bd_4_tm, autocorr_time_beta_1_bd_4_tm, \n",
    "                           autocorr_time_beta_2_bd_4_tm, autocorr_time_beta_3_bd_4_tm, \n",
    "                           autocorr_time_beta_4_bd_4_tm]"
   ]
  },
  {
   "cell_type": "code",
   "execution_count": 297,
   "id": "cb9de453-435c-4860-95a5-2ee574cd3668",
   "metadata": {},
   "outputs": [
    {
     "data": {
      "text/plain": [
       "[22.944547519905377,\n",
       " 40.82435563249898,\n",
       " 61.36281695138192,\n",
       " 111.73004354513486,\n",
       " 5.608707383726466]"
      ]
     },
     "execution_count": 297,
     "metadata": {},
     "output_type": "execute_result"
    }
   ],
   "source": [
    "autocorr_time_bd_4_list"
   ]
  },
  {
   "cell_type": "code",
   "execution_count": null,
   "id": "45136c8d-7240-44cc-9aeb-ebc073c977f5",
   "metadata": {},
   "outputs": [],
   "source": []
  }
 ],
 "metadata": {
  "kernelspec": {
   "display_name": "Python 3 (ipykernel)",
   "language": "python",
   "name": "python3"
  },
  "language_info": {
   "codemirror_mode": {
    "name": "ipython",
    "version": 3
   },
   "file_extension": ".py",
   "mimetype": "text/x-python",
   "name": "python",
   "nbconvert_exporter": "python",
   "pygments_lexer": "ipython3",
   "version": "3.10.5"
  }
 },
 "nbformat": 4,
 "nbformat_minor": 5
}
