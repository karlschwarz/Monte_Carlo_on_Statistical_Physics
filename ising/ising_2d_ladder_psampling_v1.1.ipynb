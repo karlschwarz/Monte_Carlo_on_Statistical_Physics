{
 "cells": [
  {
   "cell_type": "markdown",
   "id": "97f5832c-b703-4284-b959-3eab5f0dc7d6",
   "metadata": {
    "tags": []
   },
   "source": [
    "# Ladder Sampling of 2D Ising Model"
   ]
  },
  {
   "cell_type": "markdown",
   "id": "b7a8ccbd-2fe9-4fc8-9a46-537f3c0467bb",
   "metadata": {},
   "source": [
    "## Hamiltonian\n",
    "\\begin{align}\n",
    "H = -\\sum_{<ij>}J_{ij}S_{i} S_{j} - \\sum_{i}^{N} h_{i}S_{i},\n",
    "\\end{align}\n",
    "where $N$ is the number of spins and we assume $J_{ij} = J$."
   ]
  },
  {
   "cell_type": "markdown",
   "id": "121a2aae-bd5b-4519-8123-3621fcfefbe5",
   "metadata": {},
   "source": [
    "----"
   ]
  },
  {
   "cell_type": "markdown",
   "id": "827ffed1-dd77-4563-a2e8-478ad5656d1f",
   "metadata": {},
   "source": [
    "### Ladder Sampling of 2D Ising model"
   ]
  },
  {
   "cell_type": "code",
   "execution_count": 1,
   "id": "9c60d9f1-af92-4cb0-8ed6-7e95d705a90f",
   "metadata": {},
   "outputs": [],
   "source": [
    "import numpy as np\n",
    "import matplotlib.pyplot as plt\n",
    "from tqdm.auto import trange\n",
    "import time"
   ]
  },
  {
   "cell_type": "code",
   "execution_count": 2,
   "id": "4bf1e92d-f355-4a32-8f2e-a3637caf4038",
   "metadata": {},
   "outputs": [],
   "source": [
    "class ISING_2D_ladder:\n",
    "    \n",
    "    def __init__(self, j=1, beta=1, h=1, dims=(10, 10)):\n",
    "        \"\"\"\n",
    "        Args:\n",
    "            nc: (int) size of the cluster.\n",
    "        \"\"\"\n",
    "        self.j = j\n",
    "        self.beta = beta\n",
    "        self.h = h\n",
    "        self.dims = dims\n",
    "        self.grids = (-1) ** np.reshape(np.random.binomial(1, 1/2, dims[0]*dims[1]), dims)\n",
    "        self.dict_filter = lambda old_dict, keys_set: [old_dict[key] for key in keys_set]\n",
    "        \n",
    "    def neibor_get(self, id_grid):\n",
    "        height, width = self.dims\n",
    "        height_index, width_index = id_grid\n",
    "        l_neibor = (height_index, (width_index - 1) % width)\n",
    "        r_neibor = (height_index, (width_index + 1) % width)\n",
    "        u_neibor = ((height_index - 1) % height, width_index)\n",
    "        d_neibor = ((height_index + 1) % height, width_index)          \n",
    "        ur_neibor = ((height_index - 1) % height, (width_index + 1) % width)\n",
    "        dl_neibor = ((height_index + 1) % height, (width_index - 1) % width)\n",
    "        \n",
    "        return {'l': l_neibor, \n",
    "                'r': r_neibor, \n",
    "                'u': u_neibor, \n",
    "                'd': d_neibor, \n",
    "                'ur': ur_neibor, \n",
    "                'dl': dl_neibor}\n",
    "    \n",
    "    def message_on_node(self, id_ud, neibors_ud):\n",
    "        def energy_get(spins_ud, neibors_ud):\n",
    "            energy = 0\n",
    "            spin_u, spin_d = spins_ud\n",
    "            neibors_u, neibors_d = neibors_ud\n",
    "            for id_neibor in neibors_u:\n",
    "                energy += -self.j * spin_u * self.grids[id_neibor[0]][id_neibor[1]]\n",
    "            for id_neibor in neibors_d:\n",
    "                energy += -self.j * spin_d * self.grids[id_neibor[0]][id_neibor[1]]\n",
    "            return energy\n",
    "        spins_list = [[1, 1], [1, -1], [-1, 1], [-1, -1]]\n",
    "        energy_uu = energy_get((1, 1), neibors_ud)\n",
    "        energy_ud = energy_get((1, -1), neibors_ud)\n",
    "        energy_du = energy_get((-1, 1), neibors_ud)\n",
    "        energy_dd = energy_get((-1, -1), neibors_ud)\n",
    "        message = np.array([np.exp(-self.beta * energy_uu), \n",
    "                            np.exp(-self.beta * energy_ud),\n",
    "                            np.exp(-self.beta * energy_du), \n",
    "                            np.exp(-self.beta * energy_dd)])\n",
    "        return message         \n",
    "            \n",
    "    def message_on_pair_nodes(self, id_ud, neibors_ud):\n",
    "        def energy_get(spins_ud, neibors_ud):\n",
    "            energy = 0\n",
    "            spin_u, spin_d = spins_ud\n",
    "            neibors_u, neibors_d = neibors_ud\n",
    "            for id_neibor in neibors_u:\n",
    "                energy += -self.j * spin_u * self.grids[id_neibor[0]][id_neibor[1]]\n",
    "            energy += -self.j * self.h * spin_u\n",
    "            for id_neibor in neibors_d:\n",
    "                energy += -self.j * spin_d * self.grids[id_neibor[0]][id_neibor[1]]\n",
    "            energy += -self.j * self.h * spin_d\n",
    "            energy += -self.j * self.h * spin_u\n",
    "            energy += -self.j * spin_u * spin_d\n",
    "            return energy\n",
    "        energy_uu = energy_get((1, 1), neibors_ud)\n",
    "        energy_ud = energy_get((1, -1), neibors_ud)\n",
    "        energy_du = energy_get((-1, 1), neibors_ud)\n",
    "        energy_dd = energy_get((-1, -1), neibors_ud)\n",
    "        message = np.array([np.exp(-self.beta * energy_uu), np.exp(-self.beta * energy_ud),\n",
    "                            np.exp(-self.beta * energy_du), np.exp(-self.beta * energy_dd)])\n",
    "        #message = np.array([np.exp(-self.beta * (-energy_dd)), \n",
    "        #                    np.exp(-self.beta * (energy_ud - energy_uu - energy_dd)),\n",
    "        #                    np.exp(-self.beta * (energy_du - energy_uu - energy_dd)), \n",
    "        #                    np.exp(-self.beta * (-energy_uu))])\n",
    "        \n",
    "        #message_norm = message / np.sum(message)\n",
    "        #return message_norm\n",
    "        return message\n",
    "    \n",
    "    def message_on_edge(self):\n",
    "        \"\"\"\n",
    "        Args:\n",
    "            edge: (tuple) (node_start, node_end)\n",
    "            \n",
    "        Returns:\n",
    "            message: (np.array) 4x4 matrix\n",
    "        \"\"\"\n",
    "        def message_compute_one_row(spins_left, spins_right_list):\n",
    "            \"\"\"\n",
    "            Args:\n",
    "                spins_left: (tuple)\n",
    "                spins_right_list: (list) \n",
    "                \n",
    "            Returns:\n",
    "                left_right_row: (np.array)\n",
    "            \"\"\"\n",
    "            spin_lu, spin_ld = spins_left\n",
    "            left_right_list = []\n",
    "            for spins_right in spins_right_list:\n",
    "                energy_total = 0\n",
    "                spin_ru, spin_rd = spins_right\n",
    "                energy_total += -self.j * spin_lu * spin_ru\n",
    "                energy_total += -self.j * spin_ld * spin_rd\n",
    "                energy_total += -self.j * spin_ld * spin_ru\n",
    "                left_right_list.append(np.exp(-self.beta * energy_total))\n",
    "            return np.array(left_right_list)\n",
    "        \n",
    "        spins_left_list = spins_right_list = [(1, 1), (1, -1), (-1, 1), (-1, -1)]\n",
    "        message_list = []\n",
    "        for spins_left in spins_left_list:\n",
    "            message_list.append(message_compute_one_row(spins_left, spins_right_list))\n",
    "        message = np.array(message_list)\n",
    "        #message = message / (message[0][0] * message[-1][-1])\n",
    "        return message    \n",
    "    \n",
    "    def loop_sampling(self, id_height):\n",
    "        id_end = np.random.randint(self.dims[1])\n",
    "        id_start = (id_end + 1) % self.dims[1]\n",
    "        path_to_left = [id_start, id_end] \n",
    "        path_to_right = [(id_start + i) % self.dims[1] for i in range(self.dims[1])]\n",
    "        assert path_to_right[-1] == id_end, \"Path to right is not right!\"\n",
    "        ### get the message on the edge which is shared by all the other edge\n",
    "        message_edge = self.message_on_edge()\n",
    "        message_edge_transpose = np.transpose(message_edge)\n",
    "        message_on_node = []\n",
    "        dict_filter = lambda old_dict, keys_set: [old_dict[key] for key in keys_set]\n",
    "        for id_width in range(self.dims[1]):\n",
    "            id_u, id_d = ((id_height + 1) % self.dims[0], id_width), (id_height, id_width)\n",
    "            id_ud = (id_u, id_d)\n",
    "            neibors_u = self.neibor_get(id_u)\n",
    "            neibors_d = self.neibor_get(id_d)\n",
    "            keys_u = ('u', 'ur')\n",
    "            keys_d = ('d', 'dl')\n",
    "            neibors_u = dict_filter(neibors_u, keys_u)\n",
    "            neibors_d = dict_filter(neibors_d, keys_d)\n",
    "            neibors_ud = (neibors_u, neibors_d)\n",
    "            message_node = self.message_on_pair_nodes(id_ud, neibors_ud)\n",
    "            message_on_node.append(message_node)\n",
    "        z_right = np.sqrt(message_on_node[id_start])\n",
    "        z_left = np.sqrt(message_on_node[id_start])\n",
    "        id_start_right = id_start\n",
    "        while id_start_right != id_end:\n",
    "            id_start_right = (id_start_right + 1) % self.dims[1]\n",
    "            z_right = np.matmul(z_right, message_edge)\n",
    "            if id_start_right == id_end:\n",
    "                z_right *= np.sqrt(message_on_node[id_start_right])\n",
    "            else:\n",
    "                z_right *= message_on_node[id_start_right]\n",
    "        id_start_left = id_start\n",
    "        while id_start_left != id_end:\n",
    "            id_start_left = (id_start_left - 1) % self.dims[1]\n",
    "            z_left = np.matmul(z_left, message_edge_transpose)\n",
    "            if id_start_left == id_end:\n",
    "                z_left *= np.sqrt(message_on_node[id_start_left])\n",
    "            else:\n",
    "                z_left *= message_on_node[id_start_left]      \n",
    "        z = z_left * z_right\n",
    "        z_norm = z / np.sum(z)\n",
    "        unif_random = np.random.uniform(0, 1)\n",
    "        if unif_random < z_norm[0]:\n",
    "            spin_start = np.array([1, 1])\n",
    "        elif z_norm[0] <= unif_random < z_norm[0] + z_norm[1]:\n",
    "            spin_start = np.array([1, -1])\n",
    "        elif z_norm[0] + z_norm[1] <= unif_random < 1 - z_norm[-1]:\n",
    "            spin_start = np.array([-1, 1])\n",
    "        else:\n",
    "            spin_start = np.array([-1, -1])\n",
    "        self.grids[id_height][id_end] = spin_start[0]\n",
    "        self.grids[(id_height+1)%self.dims[0]][id_end] = spin_start[1]\n",
    "        return id_end\n",
    "    \n",
    "    def chain_sampling(self, id_height, id_start):\n",
    "        stack = []\n",
    "        id_end = (id_start - 1) % self.dims[1]\n",
    "        id_start = (id_start + 1) % self.dims[1]\n",
    "        dict_filter = lambda old_dict, keys_set: [old_dict[key] for key in keys_set]\n",
    "        if self.dims[1] > 2:\n",
    "            start_d = ((id_height + 1) % self.dims[0], id_start)\n",
    "            start_u = (id_height % self.dims[0], id_start)\n",
    "            neibors_u = self.neibor_get(start_u)\n",
    "            neibors_d = self.neibor_get(start_d)\n",
    "            keys_u = ('u', 'ur', 'l', 'dl')\n",
    "            keys_d = ('l', 'd', 'dl')\n",
    "            neibors_u = dict_filter(neibors_u, keys_u)\n",
    "            neibors_d = dict_filter(neibors_d, keys_d)\n",
    "        else:\n",
    "            start_u = ((id_height + 1) % self.dims[0], id_start)\n",
    "            start_d = (id_height % self.dims[0], id_start)\n",
    "            neibors_u = self.neibor_get(start_u)\n",
    "            neibors_d = self.neibor_get(start_d)\n",
    "            keys_u = ('u', 'ur', 'l', 'dl', 'r')\n",
    "            keys_d = ('ur', 'l', 'd', 'dl', 'r')\n",
    "            neibors_u = dict_filter(neibors_u, keys_u)\n",
    "            neibors_d = dict_filter(neibors_d, keys_d)\n",
    "        message_edge = self.message_on_edge()\n",
    "        start_ud, neibors_ud = (start_u, start_d), (neibors_u, neibors_d)\n",
    "        z_start = self.message_on_pair_nodes(start_ud, neibors_ud)\n",
    "        stack.append(z_start)\n",
    "        while id_start != id_end:\n",
    "            id_start = (id_start + 1) % self.dims[1]\n",
    "            z_start = np.matmul(z_start, message_edge)\n",
    "            if id_start == id_end:\n",
    "                start_d = ((id_height + 1) % self.dims[0], id_start)\n",
    "                start_u = (id_height % self.dims[0], id_start)\n",
    "                neibors_u = self.neibor_get(start_u)\n",
    "                neibors_d = self.neibor_get(start_d)\n",
    "                keys_u = ('u', 'ur', 'r')\n",
    "                keys_d = ('d', 'dl', 'r', 'ur')\n",
    "                neibors_u = dict_filter(neibors_u, keys_u)\n",
    "                neibors_d = dict_filter(neibors_d, keys_d)\n",
    "            else:\n",
    "                start_d = ((id_height + 1) % self.dims[0], id_start)\n",
    "                start_u = (id_height % self.dims[0], id_start)\n",
    "                neibors_u = self.neibor_get(start_u)\n",
    "                neibors_d = self.neibor_get(start_d)\n",
    "                keys_u = ('u', 'ur')\n",
    "                keys_d = ('d', 'dl')\n",
    "                neibors_u = dict_filter(neibors_u, keys_u)\n",
    "                neibors_d = dict_filter(neibors_d, keys_d)\n",
    "            start_ud, neibors_ud = (start_u, start_d), (neibors_u, neibors_d)\n",
    "            node_message = self.message_on_pair_nodes(start_ud, neibors_ud)\n",
    "            z_start = z_start * node_message\n",
    "            stack.append(z_start)\n",
    "        z_start = stack.pop()\n",
    "        z_start_norm = z_start / np.sum(z_start)\n",
    "        unif_random = np.random.uniform(0, 1)\n",
    "        if unif_random < z_start_norm[0]:\n",
    "            spin_start = np.array([1, 1])\n",
    "        elif z_start_norm[0] <= unif_random < z_start_norm[0] + z_start_norm[1]:\n",
    "            spin_start = np.array([1, -1])\n",
    "        elif z_start_norm[0] + z_start_norm[1] <= unif_random < 1 - z_start_norm[-1]:\n",
    "            spin_start = np.array([-1, 1])\n",
    "        else:\n",
    "            spin_start = np.array([-1, -1])\n",
    "        self.grids[id_height][id_start] = spin_start[0]\n",
    "        self.grids[(id_height+1)%self.dims[0]][id_start] = spin_start[1]\n",
    "        \n",
    "        return stack, id_start\n",
    "    \n",
    "    def _chain_sampling_test(self, id_height, id_start):\n",
    "        stack = []\n",
    "        id_end = (id_start - 1) % self.dims[1]\n",
    "        id_start = (id_start + 1) % self.dims[1]\n",
    "        dict_filter = lambda old_dict, keys_set: [old_dict[key] for key in keys_set]\n",
    "        if self.dims[1] > 2:\n",
    "            start_u = ((id_height + 1) % self.dims[0], id_start)\n",
    "            start_d = (id_height % self.dims[0], id_start)\n",
    "            neibors_u = self.neibor_get(start_u)\n",
    "            neibors_d = self.neibor_get(start_d)\n",
    "            keys_u = ('u', 'ur', 'l', 'dl')\n",
    "            keys_d = ('l', 'd', 'dl')\n",
    "            neibors_u = dict_filter(neibors_u, keys_u)\n",
    "            neibors_d = dict_filter(neibors_d, keys_d)\n",
    "        else:\n",
    "            start_u = ((id_height + 1) % self.dims[0], id_start)\n",
    "            start_d = (id_height % self.dims[0], id_start)\n",
    "            neibors_u = self.neibor_get(start_u)\n",
    "            neibors_d = self.neibor_get(start_d)\n",
    "            keys_u = ('u', 'ur', 'l', 'dl', 'r')\n",
    "            keys_d = ('ur', 'l', 'd', 'dl', 'r')\n",
    "            neibors_u = dict_filter(neibors_u, keys_u)\n",
    "            neibors_d = dict_filter(neibors_d, keys_d)\n",
    "        message_edge = self.message_on_edge()\n",
    "        start_ud, neibors_ud = (start_u, start_d), (neibors_u, neibors_d)\n",
    "        z_start = self.message_on_pair_nodes(start_ud, neibors_ud)\n",
    "        stack.append(z_start)\n",
    "        while id_start != id_end:\n",
    "            id_start = (id_start + 1) % self.dims[1]\n",
    "            z_start = np.matmul(z_start, message_edge)\n",
    "            if id_start == id_end:\n",
    "                start_u = ((id_height + 1) % self.dims[0], id_start)\n",
    "                start_d = (id_height % self.dims[0], id_start)\n",
    "                neibors_u = self.neibor_get(start_u)\n",
    "                neibors_d = self.neibor_get(start_d)\n",
    "                keys_u = ('u', 'ur', 'r')\n",
    "                keys_d = ('d', 'dl', 'r', 'ur')\n",
    "                neibors_u = dict_filter(neibors_u, keys_u)\n",
    "                neibors_d = dict_filter(neibors_d, keys_d)\n",
    "            else:\n",
    "                start_u = ((id_height + 1) % self.dims[0], id_start)\n",
    "                start_d = (id_height % self.dims[0], id_start)\n",
    "                neibors_u = self.neibor_get(start_u)\n",
    "                neibors_d = self.neibor_get(start_d)\n",
    "                keys_u = ('u', 'ur')\n",
    "                keys_d = ('d', 'dl')\n",
    "                neibors_u = dict_filter(neibors_u, keys_u)\n",
    "                neibors_d = dict_filter(neibors_d, keys_d)\n",
    "            start_ud, neibors_ud = (start_u, start_d), (neibors_u, neibors_d)\n",
    "            node_message = self.message_on_pair_nodes(start_ud, neibors_ud)\n",
    "            z_start = z_start * node_message\n",
    "            stack.append(z_start)\n",
    "        z_start = stack.pop()\n",
    "        z = np.sum(z_start)\n",
    "        z_start_norm = z_start / z\n",
    "        unif_random = np.random.uniform(0, 1)\n",
    "        if unif_random < z_start_norm[0]:\n",
    "            spin_start = np.array([1, 1])\n",
    "        elif z_start_norm[0] <= unif_random < z_start_norm[0] + z_start_norm[1]:\n",
    "            spin_start = np.array([1, -1])\n",
    "        elif z_start_norm[0] + z_start_norm[1] <= unif_random < 1 - z_start_norm[-1]:\n",
    "            spin_start = np.array([-1, 1])\n",
    "        else:\n",
    "            spin_start = np.array([-1, -1])\n",
    "        self.grids[id_height][id_start] = spin_start[0]\n",
    "        self.grids[(id_height+1)%self.dims[0]][id_start] = spin_start[1]\n",
    "        \n",
    "        return stack, id_start, z_start, z\n",
    "    \n",
    "    def backtrack_sampling(self, id_height, id_start, stack):\n",
    "        spins_list = []\n",
    "        message_edge = self.message_on_edge()\n",
    "        dict_filter = lambda old_dict, keys_set: [old_dict[key] for key in keys_set]\n",
    "        while len(stack) != 0:\n",
    "            id_start = (id_start - 1) % self.dims[1]   \n",
    "            start_u = (id_height, id_start)\n",
    "            start_d = ((id_height + 1) % self.dims[0], id_start)\n",
    "            neibors_d = self.neibor_get(start_d)\n",
    "            neibors_u = self.neibor_get(start_u)\n",
    "            #keys_u = ('u', 'ur', 'r')\n",
    "            #keys_d = ('ur', 'r', 'd', 'dl')\n",
    "            keys_u = ('r')\n",
    "            keys_d = ('r', 'ur')\n",
    "            neibors_u = dict_filter(neibors_u, keys_u)\n",
    "            neibors_d = dict_filter(neibors_d, keys_d)\n",
    "            start_ud = (start_u, start_d)\n",
    "            neibors_ud = (neibors_u, neibors_d)\n",
    "            message_node = self.message_on_node(start_ud, neibors_ud)\n",
    "            #message_node = self.message_on_pair_nodes(start_ud, neibors_ud)\n",
    "            z_start = message_node * stack.pop()\n",
    "            z_start_norm = z_start / np.sum(z_start)\n",
    "            unif_random = np.random.uniform(0, 1)\n",
    "            if unif_random < z_start_norm[0]:\n",
    "                spin_start = np.array([1, 1])\n",
    "            elif z_start_norm[0] <= unif_random < z_start_norm[0] + z_start_norm[1]:\n",
    "                spin_start = np.array([1, -1])\n",
    "            elif z_start_norm[0] + z_start_norm[1] <= unif_random < 1 - z_start_norm[-1]:\n",
    "                spin_start = np.array([-1, 1])\n",
    "            else:\n",
    "                spin_start = np.array([-1, -1])\n",
    "            self.grids[id_height][id_start] = spin_start[0]\n",
    "            self.grids[(id_height+1)%self.dims[0]][id_start] = spin_start[1]\n",
    "    \n",
    "    def ladder_sampling(self, id_height, id_start):\n",
    "        #id_start = self.loop_sampling(id_height)\n",
    "        stack, id_start = self.chain_sampling(id_height, id_start)\n",
    "        self.backtrack_sampling(id_height, id_start, stack)\n",
    "        \n",
    "    def ladder_evolution(self):\n",
    "        for id_start in [0, -1]:\n",
    "            for i in range(self.dims[0]):\n",
    "                self.ladder_sampling(i, id_start)\n",
    "        #self.grids = np.transpose(self.grids)\n",
    "        #for i in range(self.dims[1]):\n",
    "        #    self.ladder_sampling(i)\n",
    "        #self.grids = np.transpose(self.grids)\n",
    "        \n",
    "    def _exact_sampling(self, id_height, id_start):       \n",
    "        def energy_compute(id_width, grids):\n",
    "            energy_site = 0\n",
    "            id_spin = grids[id_height][id_width]\n",
    "            id_site = (id_height, id_width)\n",
    "            id_neibors_orig = self.neibor_get(id_site)\n",
    "            keys_neibors = ('u', 'd', 'ur', 'dl')\n",
    "            id_neibors = self.dict_filter(id_neibors_orig, keys_neibors)\n",
    "            for neibor in id_neibors:\n",
    "                energy_site += -self.j * grids[neibor[0]][neibor[1]] * id_spin\n",
    "            keys_neibors = ('l', 'r')\n",
    "            id_neibors = self.dict_filter(id_neibors_orig, keys_neibors)\n",
    "            for neibor in id_neibors:\n",
    "                energy_site += -1/2 * self.j * grids[neibor[0]][neibor[1]] * id_spin\n",
    "            energy_site += -self.h * id_spin\n",
    "            return energy_site\n",
    "        \n",
    "        def z_site_compute(grids):\n",
    "            energy_full = 0\n",
    "            for id_width in range(self.dims[1]):\n",
    "                energy_full += energy_compute(id_width, grids)\n",
    "            z_part = np.exp(-self.beta * energy_full)\n",
    "            return z_part, energy_full\n",
    "        \n",
    "        def energy_compute_double(id_height, id_width, grids):\n",
    "            energy_site = 0\n",
    "            id_spin = grids[id_height][id_width]\n",
    "            id_site = (id_height, id_width)\n",
    "            id_neibors_orig = self.neibor_get(id_site)\n",
    "            keys_neibors = ('u', 'd', 'ur', 'dl')\n",
    "            id_neibors = self.dict_filter(id_neibors_orig, keys_neibors)\n",
    "            for neibor in id_neibors:\n",
    "                energy_site += -self.j * grids[neibor[0]][neibor[1]] * id_spin\n",
    "            keys_neibors = ('l', 'r')\n",
    "            id_neibors = self.dict_filter(id_neibors_orig, keys_neibors)\n",
    "            for neibor in id_neibors:\n",
    "                energy_site += -1/2 * self.j * grids[neibor[0]][neibor[1]] * id_spin\n",
    "            energy_site += -self.h * id_spin\n",
    "            return energy_site            \n",
    "        \n",
    "        def z_site_compute_double(grids):\n",
    "            energy_full = 0\n",
    "            for w in range(id_start+1, self.dims[1]):\n",
    "                energy_full += energy_compute_double(id_height, w, grids)\n",
    "                energy_full += energy_compute_double((id_height+1)%self.dims[0], w, grids)\n",
    "            z_part = np.exp(-self.beta * energy_full)\n",
    "            return z_part, energy_full\n",
    "        \n",
    "        def z_part_compute(id_start, spin_start, grids):\n",
    "            num_site = 2 ** (self.dims[1] - 1)\n",
    "            z_part_start = 0\n",
    "            energy_list = []\n",
    "            for i in range(num_site):\n",
    "                site_i = list('0' * self.dims[1] + bin(i)[2:])[1-self.dims[1]:]\n",
    "                site_i.insert(id_start, spin_start)\n",
    "                site_i = np.array(site_i, dtype=np.int32)\n",
    "                site_i = (-1) ** site_i\n",
    "                grids[id_height] = site_i\n",
    "                print(grids)\n",
    "                z_i, energy_i = z_site_compute(grids)\n",
    "                z_part_start += z_i\n",
    "                energy_list.append(energy_i)\n",
    "            return z_part_start, energy_list\n",
    "        \n",
    "        def spin_array_create(i, id_start, id_spin):\n",
    "            \"\"\"\n",
    "            Args:\n",
    "                i: (int) \n",
    "                id_start: (int)\n",
    "                id_spin: (int) 0 or 1\n",
    "            \"\"\"\n",
    "            site_i = list('0' * self.dims[1] + bin(i)[2:])[1-self.dims[1]:]\n",
    "            site_i.insert(id_start, id_spin)\n",
    "            site_i = np.array(site_i, dtype=np.int32)\n",
    "            site_i = (-1) ** site_i\n",
    "            \n",
    "            return site_i\n",
    "        \n",
    "        def z_part_compute_double(id_start, ud_start, grids):\n",
    "            num_site = 2 ** (self.dims[1] - 1)\n",
    "            z_part_start = 0\n",
    "            energy_list = []\n",
    "            u_start, d_start = ud_start\n",
    "            for i in range(num_site):\n",
    "                for j in range(num_site):\n",
    "                    site_i = spin_array_create(i, id_start, u_start)\n",
    "                    site_j = spin_array_create(j, id_start, d_start)\n",
    "                    print(site_i)\n",
    "                    print(site_j)\n",
    "                    grids[id_height] = site_i\n",
    "                    grids[(id_height+1)%self.dims[0]] = site_j\n",
    "                    z_i, energy_i = z_site_compute_double(grids)\n",
    "                    z_part_start += z_i\n",
    "                    energy_list.append(energy_i)\n",
    "            return z_part_start, energy_list\n",
    "                    \n",
    "        spin_u = (self.grids[id_height][id_start] + 1) / 2\n",
    "        spin_d = (self.grids[(id_height+1)%self.dims[0]][id_start] + 1) / 2\n",
    "        ud_start = (spin_u, spin_d)\n",
    "        grids = self.grids.copy()\n",
    "        z_part, energy_list = z_part_compute_double(id_start, ud_start, grids)\n",
    "        return z_part, energy_list\n",
    "                     \n",
    "    def tree_create(self):\n",
    "        def neibor_search(id_grid, tree_list):\n",
    "            height, width = id_grid\n",
    "            neibors = []\n",
    "            num_shared = 0\n",
    "            if height < self.dims[0] - 1:\n",
    "                if (height + 1, width) not in tree_list:\n",
    "                    neibors.append((height + 1, width))\n",
    "                else:\n",
    "                    num_shared += 1\n",
    "            if height > 0:\n",
    "                if (height - 1, width) not in tree_list:\n",
    "                    neibors.append((height - 1, width))\n",
    "                else:\n",
    "                    num_shared += 1\n",
    "            if width < self.dims[1] - 1:\n",
    "                if (height, width + 1) not in tree_list:\n",
    "                    neibors.append((height, width + 1))\n",
    "                else:\n",
    "                    num_shared += 1\n",
    "            if width > 0:\n",
    "                if (height, width - 1) not in tree_list:\n",
    "                    neibors.append((height, width - 1))\n",
    "                else:\n",
    "                    num_shared += 1\n",
    "                    \n",
    "            return neibors, num_shared\n",
    "        \n",
    "        tree_list = []\n",
    "        stack = []\n",
    "        height, width = self.dims\n",
    "        height_rand = np.random.randint(0, height)\n",
    "        width_rand = np.random.randint(0, width)\n",
    "        id_start = (height_rand, width_rand)\n",
    "        stack.append(id_start)\n",
    "        while len(tree_list) < self.nc:\n",
    "            node_leaf = stack.pop()\n",
    "            if node_leaf in tree_list:\n",
    "                tree_list.pop()\n",
    "                continue\n",
    "            neibors_leaf, num_shared = neibor_search(node_leaf, tree_list)\n",
    "            if len(neibors_leaf) >= 1 and num_shared < 2:\n",
    "                tree_list.append(node_leaf)\n",
    "                stack.append(node_leaf)\n",
    "                stack.extend(neibors_leaf)\n",
    "            else:\n",
    "                if node_leaf == tree_list[-1]:\n",
    "                    tree_list.pop()\n",
    "        return tree_list\n",
    "    \n",
    "    def tree_viz(self):\n",
    "        zero_one_row = 'o' * self.dims[1] + '\\n'\n",
    "        zeros_grids = zero_one_row * self.dims[0]\n",
    "        for node in self.tree_list:\n",
    "            node_pos = node[0] * (self.dims[1] + 1) + node[1]\n",
    "            zeros_grids = zeros_grids[:node_pos] + 'x' + zeros_grids[node_pos+1:]\n",
    "        print(zeros_grids)\n",
    "        \n",
    "    def spin_viz(self, figsize=(10, 10), save=False, folder_name=None):\n",
    "        fig = plt.figure(figsize=figsize)\n",
    "        x, y = np.meshgrid(np.arange(0, self.dims[0]), np.arange(0, self.dims[1]))\n",
    "        u = np.cos(self.grids*np.pi/2)\n",
    "        v = np.sin(self.grids*np.pi/2)\n",
    "        q = plt.quiver(x, y, u, v)\n",
    "        plt.axis('off')\n",
    "        plt.title('T={:.3f}, spins={}'.format(1/self.beta, self.dims), fontsize=20)\n",
    "        if save and step is not None:\n",
    "            plt.savefig(f'./{folder_name}/config_plot_step_{step}.pdf', dpi=100)\n",
    "            plt.close(fig)\n",
    "            \n",
    "    def energy_compute_grids(self):\n",
    "        energy_total = 0\n",
    "        for i in range(self.dims[0]):\n",
    "            for j in range(self.dims[1]):\n",
    "                id_neibors_dict = self.neibor_get((i, j))\n",
    "                id_neibors = id_neibors_dict.values()                \n",
    "                energy_ij = 0\n",
    "                for ij in id_neibors:\n",
    "                    energy_ij = -1/2 * self.j * self.grids[ij[0]][ij[1]] * self.grids[i][j]\n",
    "                    energy_total += energy_ij\n",
    "                ### compute the energy of external field\n",
    "                energy_total += -self.h * self.grids[i][j]\n",
    "        energy_per_spin = energy_total / (self.dims[0] * self.dims[1])\n",
    "        return energy_per_spin\n",
    "    \n",
    "    def magnet_grids(self):\n",
    "        magnet_x, magnet_y = 0, 0\n",
    "        for i in range(self.length):\n",
    "            magnet_x += np.sin(self.grids[i])\n",
    "            magnet_y += np.cos(self.grids[i])\n",
    "        return magnet_x, magnet_y"
   ]
  },
  {
   "cell_type": "markdown",
   "id": "e6ee9ea6-b5eb-4baf-b0c1-ed86c48cfe01",
   "metadata": {},
   "source": [
    "### Low Temperature (External Field h = 0)"
   ]
  },
  {
   "cell_type": "code",
   "execution_count": 160,
   "id": "9a965bca-917f-431d-8531-40deec4afd26",
   "metadata": {},
   "outputs": [],
   "source": [
    "ising_2d = ISING_2D_ladder(beta=10, j=1, h=0, dims=(5, 5))"
   ]
  },
  {
   "cell_type": "code",
   "execution_count": 161,
   "id": "d0b5f0eb-5e2e-43b2-983f-8a4022dad97d",
   "metadata": {},
   "outputs": [
    {
     "data": {
      "image/png": "[encoded data removed]",
      "text/plain": [
       "<Figure size 720x720 with 1 Axes>"
      ]
     },
     "metadata": {
      "needs_background": "light"
     },
     "output_type": "display_data"
    }
   ],
   "source": [
    "ising_2d.spin_viz()"
   ]
  },
  {
   "cell_type": "code",
   "execution_count": 162,
   "id": "cc065c42-639d-464c-888e-135a123595d0",
   "metadata": {},
   "outputs": [],
   "source": [
    "ising_2d.ladder_evolution()"
   ]
  },
  {
   "cell_type": "code",
   "execution_count": 163,
   "id": "dae34765-f97e-4ee5-920b-6cba7034f1f3",
   "metadata": {},
   "outputs": [
    {
     "data": {
      "image/png": "[encoded data removed]",
      "text/plain": [
       "<Figure size 720x720 with 1 Axes>"
      ]
     },
     "metadata": {
      "needs_background": "light"
     },
     "output_type": "display_data"
    }
   ],
   "source": [
    "ising_2d.spin_viz()"
   ]
  },
  {
   "cell_type": "code",
   "execution_count": 164,
   "id": "669af812-eb48-4afa-9287-2eeac6039c4c",
   "metadata": {},
   "outputs": [
    {
     "name": "stdout",
     "output_type": "stream",
     "text": [
      "The energy of the system is: -3.000.\n"
     ]
    }
   ],
   "source": [
    "print(f\"The energy of the system is: {ising_2d.energy_compute_grids():.3f}.\")"
   ]
  },
  {
   "cell_type": "markdown",
   "id": "e54522bd-a297-4194-8538-87f9c78ef822",
   "metadata": {},
   "source": [
    "------\n",
    "### High Temperature (External Field = 0)"
   ]
  },
  {
   "cell_type": "code",
   "execution_count": 165,
   "id": "68db6b75-61b1-4685-b4b6-4509ded55958",
   "metadata": {},
   "outputs": [],
   "source": [
    "ising_2d = ISING_2D_ladder(beta=1, j=1, h=0, dims=(10, 10))"
   ]
  },
  {
   "cell_type": "code",
   "execution_count": 166,
   "id": "145be194-36c4-4015-82c2-2287661882f8",
   "metadata": {},
   "outputs": [
    {
     "data": {
      "image/png": "[encoded data removed]",
      "text/plain": [
       "<Figure size 720x720 with 1 Axes>"
      ]
     },
     "metadata": {
      "needs_background": "light"
     },
     "output_type": "display_data"
    }
   ],
   "source": [
    "ising_2d.spin_viz()"
   ]
  },
  {
   "cell_type": "code",
   "execution_count": 167,
   "id": "0b6255f2-363b-4b4d-b1fe-4a1cfeb5be89",
   "metadata": {},
   "outputs": [],
   "source": [
    "ising_2d.ladder_evolution()"
   ]
  },
  {
   "cell_type": "code",
   "execution_count": 168,
   "id": "ceaa42e3-0a1f-49e1-9885-f538d2fc8eb7",
   "metadata": {},
   "outputs": [
    {
     "data": {
      "image/png": "[encoded data removed]",
      "text/plain": [
       "<Figure size 720x720 with 1 Axes>"
      ]
     },
     "metadata": {
      "needs_background": "light"
     },
     "output_type": "display_data"
    }
   ],
   "source": [
    "ising_2d.spin_viz()"
   ]
  },
  {
   "cell_type": "code",
   "execution_count": 169,
   "id": "edc0e09d-7d9f-4a59-a5f7-f443b5061fdd",
   "metadata": {},
   "outputs": [
    {
     "name": "stdout",
     "output_type": "stream",
     "text": [
      "The energy of the system is: -3.000.\n"
     ]
    }
   ],
   "source": [
    "print(f\"The energy of the system is: {ising_2d.energy_compute_grids():.3f}.\")"
   ]
  },
  {
   "cell_type": "markdown",
   "id": "12aa3faa-20aa-44da-b716-3b8d737eb0d9",
   "metadata": {},
   "source": [
    "-----\n",
    "### J > 0"
   ]
  },
  {
   "cell_type": "code",
   "execution_count": 152,
   "id": "d81cb214-5625-4a22-8998-c86dd74f7c63",
   "metadata": {},
   "outputs": [],
   "source": [
    "beta_list = [0.05 * i for i in range(1, 11)]\n",
    "temp_list = [1 / beta for beta in beta_list]\n",
    "dims = (5, 5)"
   ]
  },
  {
   "cell_type": "code",
   "execution_count": 153,
   "id": "811be056-7e5e-46e4-bf33-82cbfde273b5",
   "metadata": {},
   "outputs": [
    {
     "data": {
      "application/vnd.jupyter.widget-view+json": {
       "model_id": "d53709ef3f414223b7ed9bc85cefe6cc",
       "version_major": 2,
       "version_minor": 0
      },
      "text/plain": [
       "  0%|          | 0/10 [00:00<?, ?it/s]"
      ]
     },
     "metadata": {},
     "output_type": "display_data"
    },
    {
     "data": {
      "application/vnd.jupyter.widget-view+json": {
       "model_id": "51c45b4889c34715bb7b5172c94021f3",
       "version_major": 2,
       "version_minor": 0
      },
      "text/plain": [
       "  0%|          | 0/10000 [00:00<?, ?it/s]"
      ]
     },
     "metadata": {},
     "output_type": "display_data"
    },
    {
     "data": {
      "application/vnd.jupyter.widget-view+json": {
       "model_id": "95001f31fe1a448bba5e3c44b32d0825",
       "version_major": 2,
       "version_minor": 0
      },
      "text/plain": [
       "  0%|          | 0/10000 [00:00<?, ?it/s]"
      ]
     },
     "metadata": {},
     "output_type": "display_data"
    },
    {
     "name": "stdout",
     "output_type": "stream",
     "text": [
      "iterations are done!\n"
     ]
    },
    {
     "data": {
      "application/vnd.jupyter.widget-view+json": {
       "model_id": "584457bb83cd4069874a77e53803623e",
       "version_major": 2,
       "version_minor": 0
      },
      "text/plain": [
       "  0%|          | 0/10000 [00:00<?, ?it/s]"
      ]
     },
     "metadata": {},
     "output_type": "display_data"
    },
    {
     "data": {
      "application/vnd.jupyter.widget-view+json": {
       "model_id": "ab47be08c99c48eba35a8a3a5f581df7",
       "version_major": 2,
       "version_minor": 0
      },
      "text/plain": [
       "  0%|          | 0/10000 [00:00<?, ?it/s]"
      ]
     },
     "metadata": {},
     "output_type": "display_data"
    },
    {
     "name": "stdout",
     "output_type": "stream",
     "text": [
      "iterations are done!\n"
     ]
    },
    {
     "data": {
      "application/vnd.jupyter.widget-view+json": {
       "model_id": "76c8ddb89155406f8aa7e6c6f6f1d63f",
       "version_major": 2,
       "version_minor": 0
      },
      "text/plain": [
       "  0%|          | 0/10000 [00:00<?, ?it/s]"
      ]
     },
     "metadata": {},
     "output_type": "display_data"
    },
    {
     "data": {
      "application/vnd.jupyter.widget-view+json": {
       "model_id": "176188b31bac4c99ba71e0d5caaa10b1",
       "version_major": 2,
       "version_minor": 0
      },
      "text/plain": [
       "  0%|          | 0/10000 [00:00<?, ?it/s]"
      ]
     },
     "metadata": {},
     "output_type": "display_data"
    },
    {
     "name": "stdout",
     "output_type": "stream",
     "text": [
      "iterations are done!\n"
     ]
    },
    {
     "data": {
      "application/vnd.jupyter.widget-view+json": {
       "model_id": "259898f75fb9453d9cb4c0b6712850f1",
       "version_major": 2,
       "version_minor": 0
      },
      "text/plain": [
       "  0%|          | 0/10000 [00:00<?, ?it/s]"
      ]
     },
     "metadata": {},
     "output_type": "display_data"
    },
    {
     "data": {
      "application/vnd.jupyter.widget-view+json": {
       "model_id": "e4157f338bb24cfa8b63aa64ab80056c",
       "version_major": 2,
       "version_minor": 0
      },
      "text/plain": [
       "  0%|          | 0/10000 [00:00<?, ?it/s]"
      ]
     },
     "metadata": {},
     "output_type": "display_data"
    },
    {
     "name": "stdout",
     "output_type": "stream",
     "text": [
      "iterations are done!\n"
     ]
    },
    {
     "data": {
      "application/vnd.jupyter.widget-view+json": {
       "model_id": "83861630abdf43009db29243af91bd06",
       "version_major": 2,
       "version_minor": 0
      },
      "text/plain": [
       "  0%|          | 0/10000 [00:00<?, ?it/s]"
      ]
     },
     "metadata": {},
     "output_type": "display_data"
    },
    {
     "data": {
      "application/vnd.jupyter.widget-view+json": {
       "model_id": "24328ae3f23949f88557d48090a22284",
       "version_major": 2,
       "version_minor": 0
      },
      "text/plain": [
       "  0%|          | 0/10000 [00:00<?, ?it/s]"
      ]
     },
     "metadata": {},
     "output_type": "display_data"
    },
    {
     "name": "stdout",
     "output_type": "stream",
     "text": [
      "iterations are done!\n"
     ]
    },
    {
     "data": {
      "application/vnd.jupyter.widget-view+json": {
       "model_id": "3d969859054b4a6187a9e323bc96bf9a",
       "version_major": 2,
       "version_minor": 0
      },
      "text/plain": [
       "  0%|          | 0/10000 [00:00<?, ?it/s]"
      ]
     },
     "metadata": {},
     "output_type": "display_data"
    },
    {
     "data": {
      "application/vnd.jupyter.widget-view+json": {
       "model_id": "b78494925d4e4079a1058a77f5e8dda3",
       "version_major": 2,
       "version_minor": 0
      },
      "text/plain": [
       "  0%|          | 0/10000 [00:00<?, ?it/s]"
      ]
     },
     "metadata": {},
     "output_type": "display_data"
    },
    {
     "name": "stdout",
     "output_type": "stream",
     "text": [
      "iterations are done!\n"
     ]
    },
    {
     "data": {
      "application/vnd.jupyter.widget-view+json": {
       "model_id": "7693c1056e6a4de1b447c8fd171c7e27",
       "version_major": 2,
       "version_minor": 0
      },
      "text/plain": [
       "  0%|          | 0/10000 [00:00<?, ?it/s]"
      ]
     },
     "metadata": {},
     "output_type": "display_data"
    },
    {
     "data": {
      "application/vnd.jupyter.widget-view+json": {
       "model_id": "898542df8a3842aaa90618b146466d4c",
       "version_major": 2,
       "version_minor": 0
      },
      "text/plain": [
       "  0%|          | 0/10000 [00:00<?, ?it/s]"
      ]
     },
     "metadata": {},
     "output_type": "display_data"
    },
    {
     "name": "stdout",
     "output_type": "stream",
     "text": [
      "iterations are done!\n"
     ]
    },
    {
     "data": {
      "application/vnd.jupyter.widget-view+json": {
       "model_id": "0b42dcfdcb124bf49544d3a9c4e8bee6",
       "version_major": 2,
       "version_minor": 0
      },
      "text/plain": [
       "  0%|          | 0/10000 [00:00<?, ?it/s]"
      ]
     },
     "metadata": {},
     "output_type": "display_data"
    },
    {
     "data": {
      "application/vnd.jupyter.widget-view+json": {
       "model_id": "e62312b55d934711bacf339cc0acbf10",
       "version_major": 2,
       "version_minor": 0
      },
      "text/plain": [
       "  0%|          | 0/10000 [00:00<?, ?it/s]"
      ]
     },
     "metadata": {},
     "output_type": "display_data"
    },
    {
     "name": "stdout",
     "output_type": "stream",
     "text": [
      "iterations are done!\n"
     ]
    },
    {
     "data": {
      "application/vnd.jupyter.widget-view+json": {
       "model_id": "f73aedddd17245d3847e8aec4f192150",
       "version_major": 2,
       "version_minor": 0
      },
      "text/plain": [
       "  0%|          | 0/10000 [00:00<?, ?it/s]"
      ]
     },
     "metadata": {},
     "output_type": "display_data"
    },
    {
     "data": {
      "application/vnd.jupyter.widget-view+json": {
       "model_id": "e2d47627a9294eaa8a56470478c52159",
       "version_major": 2,
       "version_minor": 0
      },
      "text/plain": [
       "  0%|          | 0/10000 [00:00<?, ?it/s]"
      ]
     },
     "metadata": {},
     "output_type": "display_data"
    },
    {
     "name": "stdout",
     "output_type": "stream",
     "text": [
      "iterations are done!\n"
     ]
    }
   ],
   "source": [
    "mean_sampling_list = []\n",
    "std_sampling_list = []\n",
    "for i in trange(10):\n",
    "    beta = beta_list[i]\n",
    "    ising_2d = ISING_2D_ladder(beta=beta, h=0, dims=dims)\n",
    "    ### Get to the equilibrium state\n",
    "    for _ in trange(10000):\n",
    "        ising_2d.ladder_evolution()\n",
    "    ### Sampling stage\n",
    "    energy_list = []\n",
    "    for i in trange(10000):\n",
    "        ising_2d.ladder_evolution()\n",
    "        energy_list.append(ising_2d.energy_compute_grids())\n",
    "    print(\"iterations are done!\")\n",
    "    mean_sampling_list.append(np.mean(energy_list))\n",
    "    std_sampling_list.append(np.std(energy_list))"
   ]
  },
  {
   "cell_type": "code",
   "execution_count": 156,
   "id": "769bb85d-165f-4c6a-ab87-6b16117fb1d4",
   "metadata": {},
   "outputs": [
    {
     "data": {
      "text/plain": [
       "[-0.167936,\n",
       " -0.380272,\n",
       " -0.671568,\n",
       " -1.152736,\n",
       " -1.875664,\n",
       " -2.477488,\n",
       " -2.75408,\n",
       " -2.87696,\n",
       " -2.937392,\n",
       " -2.96784]"
      ]
     },
     "execution_count": 156,
     "metadata": {},
     "output_type": "execute_result"
    }
   ],
   "source": [
    "mean_sampling_list"
   ]
  },
  {
   "cell_type": "code",
   "execution_count": 155,
   "id": "ac169ee6-0408-4a64-97d4-9be7ccffe077",
   "metadata": {},
   "outputs": [
    {
     "data": {
      "text/plain": [
       "[0.3853257062590037,\n",
       " 0.4385560922117033,\n",
       " 0.5435532921213889,\n",
       " 0.7000715637018833,\n",
       " 0.7759548950190339,\n",
       " 0.5716883852729562,\n",
       " 0.3778111612962221,\n",
       " 0.26071846578253716,\n",
       " 0.1822303990447258,\n",
       " 0.12777971043949032]"
      ]
     },
     "execution_count": 155,
     "metadata": {},
     "output_type": "execute_result"
    }
   ],
   "source": [
    "std_sampling_list"
   ]
  },
  {
   "cell_type": "code",
   "execution_count": 157,
   "id": "43da2f42-f31d-4013-a589-3e576f05e477",
   "metadata": {},
   "outputs": [],
   "source": [
    "energy_metropolis_list = [-0.164896,\n",
    "                          -0.3740704,\n",
    "                          -0.6458208,\n",
    "                          -1.1592592,\n",
    "                          -1.8570512,\n",
    "                          -2.450304,\n",
    "                          -2.7503168000000007,\n",
    "                          -2.8719392,\n",
    "                          -2.9364928000000003,\n",
    "                          -2.9658368000000004]"
   ]
  },
  {
   "cell_type": "code",
   "execution_count": 159,
   "id": "bba114e4-ab2a-4b24-b042-6f748902a2be",
   "metadata": {},
   "outputs": [
    {
     "data": {
      "text/plain": [
       "<matplotlib.legend.Legend at 0x7f85a5036520>"
      ]
     },
     "execution_count": 159,
     "metadata": {},
     "output_type": "execute_result"
    },
    {
     "data": {
      "image/png": "[encoded data removed]",
      "text/plain": [
       "<Figure size 432x288 with 1 Axes>"
      ]
     },
     "metadata": {
      "needs_background": "light"
     },
     "output_type": "display_data"
    }
   ],
   "source": [
    "plt.plot(temp_list, mean_sampling_list, 'o', label='ladder')\n",
    "plt.plot(temp_list, energy_metropolis_list, '--', label='metropolis')\n",
    "plt.xlabel('Temperature')\n",
    "plt.ylabel('Energy_per_spin')\n",
    "plt.title('2D Ising model (dims=(5, 5), triangle_grids, h=0, j=1)')\n",
    "plt.legend()"
   ]
  },
  {
   "cell_type": "markdown",
   "id": "74efdea6-1a6b-4f32-b949-498cfb7c4d1e",
   "metadata": {},
   "source": [
    "----------\n",
    "### J < 0"
   ]
  },
  {
   "cell_type": "code",
   "execution_count": 3,
   "id": "37546954-2c24-40b5-a8c1-b8837bbdbbed",
   "metadata": {},
   "outputs": [],
   "source": [
    "beta_list = [0.02 * i for i in range(1, 21)]\n",
    "temp_list = [1 / beta for beta in beta_list]\n",
    "dims, j = (5, 5), -1"
   ]
  },
  {
   "cell_type": "code",
   "execution_count": 4,
   "id": "8f4a9878-3ab1-4b77-9867-a292f68137f5",
   "metadata": {},
   "outputs": [
    {
     "data": {
      "application/vnd.jupyter.widget-view+json": {
       "model_id": "4e1114da13804febb93bb00cc65cc3d7",
       "version_major": 2,
       "version_minor": 0
      },
      "text/plain": [
       "  0%|          | 0/20 [00:00<?, ?it/s]"
      ]
     },
     "metadata": {},
     "output_type": "display_data"
    },
    {
     "data": {
      "application/vnd.jupyter.widget-view+json": {
       "model_id": "a4d5bb3e24874873902ab45553548ea4",
       "version_major": 2,
       "version_minor": 0
      },
      "text/plain": [
       "  0%|          | 0/10000 [00:00<?, ?it/s]"
      ]
     },
     "metadata": {},
     "output_type": "display_data"
    },
    {
     "data": {
      "application/vnd.jupyter.widget-view+json": {
       "model_id": "6ee08b940fab44aca3f5f216be88d8bc",
       "version_major": 2,
       "version_minor": 0
      },
      "text/plain": [
       "  0%|          | 0/10000 [00:00<?, ?it/s]"
      ]
     },
     "metadata": {},
     "output_type": "display_data"
    },
    {
     "name": "stdout",
     "output_type": "stream",
     "text": [
      "iterations are done!\n"
     ]
    },
    {
     "data": {
      "application/vnd.jupyter.widget-view+json": {
       "model_id": "cf084e215ab14a00bd59ec6667205945",
       "version_major": 2,
       "version_minor": 0
      },
      "text/plain": [
       "  0%|          | 0/10000 [00:00<?, ?it/s]"
      ]
     },
     "metadata": {},
     "output_type": "display_data"
    },
    {
     "data": {
      "application/vnd.jupyter.widget-view+json": {
       "model_id": "672a262f988f4d58868a325c748dc5cc",
       "version_major": 2,
       "version_minor": 0
      },
      "text/plain": [
       "  0%|          | 0/10000 [00:00<?, ?it/s]"
      ]
     },
     "metadata": {},
     "output_type": "display_data"
    },
    {
     "name": "stdout",
     "output_type": "stream",
     "text": [
      "iterations are done!\n"
     ]
    },
    {
     "data": {
      "application/vnd.jupyter.widget-view+json": {
       "model_id": "c5eacc0241254bb4ab1986af324b8340",
       "version_major": 2,
       "version_minor": 0
      },
      "text/plain": [
       "  0%|          | 0/10000 [00:00<?, ?it/s]"
      ]
     },
     "metadata": {},
     "output_type": "display_data"
    },
    {
     "data": {
      "application/vnd.jupyter.widget-view+json": {
       "model_id": "5673f7a5f4d74673b48fc49f464e563c",
       "version_major": 2,
       "version_minor": 0
      },
      "text/plain": [
       "  0%|          | 0/10000 [00:00<?, ?it/s]"
      ]
     },
     "metadata": {},
     "output_type": "display_data"
    },
    {
     "name": "stdout",
     "output_type": "stream",
     "text": [
      "iterations are done!\n"
     ]
    },
    {
     "data": {
      "application/vnd.jupyter.widget-view+json": {
       "model_id": "2fc2604d60d44fe88a58e82da6498e4a",
       "version_major": 2,
       "version_minor": 0
      },
      "text/plain": [
       "  0%|          | 0/10000 [00:00<?, ?it/s]"
      ]
     },
     "metadata": {},
     "output_type": "display_data"
    },
    {
     "data": {
      "application/vnd.jupyter.widget-view+json": {
       "model_id": "5117c3db211d468998807e3796bf8aba",
       "version_major": 2,
       "version_minor": 0
      },
      "text/plain": [
       "  0%|          | 0/10000 [00:00<?, ?it/s]"
      ]
     },
     "metadata": {},
     "output_type": "display_data"
    },
    {
     "name": "stdout",
     "output_type": "stream",
     "text": [
      "iterations are done!\n"
     ]
    },
    {
     "data": {
      "application/vnd.jupyter.widget-view+json": {
       "model_id": "2453a223a99441baa3317ec10991bfb1",
       "version_major": 2,
       "version_minor": 0
      },
      "text/plain": [
       "  0%|          | 0/10000 [00:00<?, ?it/s]"
      ]
     },
     "metadata": {},
     "output_type": "display_data"
    },
    {
     "data": {
      "application/vnd.jupyter.widget-view+json": {
       "model_id": "ced9b28f64a942aeb3a0e0667c623146",
       "version_major": 2,
       "version_minor": 0
      },
      "text/plain": [
       "  0%|          | 0/10000 [00:00<?, ?it/s]"
      ]
     },
     "metadata": {},
     "output_type": "display_data"
    },
    {
     "name": "stdout",
     "output_type": "stream",
     "text": [
      "iterations are done!\n"
     ]
    },
    {
     "data": {
      "application/vnd.jupyter.widget-view+json": {
       "model_id": "8b2e7cab33504fc582fa02a013d9a924",
       "version_major": 2,
       "version_minor": 0
      },
      "text/plain": [
       "  0%|          | 0/10000 [00:00<?, ?it/s]"
      ]
     },
     "metadata": {},
     "output_type": "display_data"
    },
    {
     "data": {
      "application/vnd.jupyter.widget-view+json": {
       "model_id": "4db64479141c4a518882797000f01889",
       "version_major": 2,
       "version_minor": 0
      },
      "text/plain": [
       "  0%|          | 0/10000 [00:00<?, ?it/s]"
      ]
     },
     "metadata": {},
     "output_type": "display_data"
    },
    {
     "name": "stdout",
     "output_type": "stream",
     "text": [
      "iterations are done!\n"
     ]
    },
    {
     "data": {
      "application/vnd.jupyter.widget-view+json": {
       "model_id": "8fa134170c6b473b9eb284de41e92102",
       "version_major": 2,
       "version_minor": 0
      },
      "text/plain": [
       "  0%|          | 0/10000 [00:00<?, ?it/s]"
      ]
     },
     "metadata": {},
     "output_type": "display_data"
    },
    {
     "data": {
      "application/vnd.jupyter.widget-view+json": {
       "model_id": "91803fdc5c4645d29f5949d202ab92c5",
       "version_major": 2,
       "version_minor": 0
      },
      "text/plain": [
       "  0%|          | 0/10000 [00:00<?, ?it/s]"
      ]
     },
     "metadata": {},
     "output_type": "display_data"
    },
    {
     "name": "stdout",
     "output_type": "stream",
     "text": [
      "iterations are done!\n"
     ]
    },
    {
     "data": {
      "application/vnd.jupyter.widget-view+json": {
       "model_id": "ae834e79e10a45079344df7cc276f81b",
       "version_major": 2,
       "version_minor": 0
      },
      "text/plain": [
       "  0%|          | 0/10000 [00:00<?, ?it/s]"
      ]
     },
     "metadata": {},
     "output_type": "display_data"
    },
    {
     "data": {
      "application/vnd.jupyter.widget-view+json": {
       "model_id": "13d2a3b557074fed9a0cbf66e9dc36fd",
       "version_major": 2,
       "version_minor": 0
      },
      "text/plain": [
       "  0%|          | 0/10000 [00:00<?, ?it/s]"
      ]
     },
     "metadata": {},
     "output_type": "display_data"
    },
    {
     "name": "stdout",
     "output_type": "stream",
     "text": [
      "iterations are done!\n"
     ]
    },
    {
     "data": {
      "application/vnd.jupyter.widget-view+json": {
       "model_id": "db6794115d6e405fabd5d81b8578048d",
       "version_major": 2,
       "version_minor": 0
      },
      "text/plain": [
       "  0%|          | 0/10000 [00:00<?, ?it/s]"
      ]
     },
     "metadata": {},
     "output_type": "display_data"
    },
    {
     "data": {
      "application/vnd.jupyter.widget-view+json": {
       "model_id": "2eebb96771154c588dc25dd176e78b30",
       "version_major": 2,
       "version_minor": 0
      },
      "text/plain": [
       "  0%|          | 0/10000 [00:00<?, ?it/s]"
      ]
     },
     "metadata": {},
     "output_type": "display_data"
    },
    {
     "name": "stdout",
     "output_type": "stream",
     "text": [
      "iterations are done!\n"
     ]
    },
    {
     "data": {
      "application/vnd.jupyter.widget-view+json": {
       "model_id": "dd9e22854a9d4704b3ebcef4828f445a",
       "version_major": 2,
       "version_minor": 0
      },
      "text/plain": [
       "  0%|          | 0/10000 [00:00<?, ?it/s]"
      ]
     },
     "metadata": {},
     "output_type": "display_data"
    },
    {
     "data": {
      "application/vnd.jupyter.widget-view+json": {
       "model_id": "1a00d462be154b2bad1c792a43e82b4e",
       "version_major": 2,
       "version_minor": 0
      },
      "text/plain": [
       "  0%|          | 0/10000 [00:00<?, ?it/s]"
      ]
     },
     "metadata": {},
     "output_type": "display_data"
    },
    {
     "name": "stdout",
     "output_type": "stream",
     "text": [
      "iterations are done!\n"
     ]
    },
    {
     "data": {
      "application/vnd.jupyter.widget-view+json": {
       "model_id": "6905434f7f8143508a35efbf53acc6f1",
       "version_major": 2,
       "version_minor": 0
      },
      "text/plain": [
       "  0%|          | 0/10000 [00:00<?, ?it/s]"
      ]
     },
     "metadata": {},
     "output_type": "display_data"
    },
    {
     "data": {
      "application/vnd.jupyter.widget-view+json": {
       "model_id": "20f56777c9fc42d28de80c6ea298cade",
       "version_major": 2,
       "version_minor": 0
      },
      "text/plain": [
       "  0%|          | 0/10000 [00:00<?, ?it/s]"
      ]
     },
     "metadata": {},
     "output_type": "display_data"
    },
    {
     "name": "stdout",
     "output_type": "stream",
     "text": [
      "iterations are done!\n"
     ]
    },
    {
     "data": {
      "application/vnd.jupyter.widget-view+json": {
       "model_id": "6ab5a60f8e4b43c0b1f97536c58ca4db",
       "version_major": 2,
       "version_minor": 0
      },
      "text/plain": [
       "  0%|          | 0/10000 [00:00<?, ?it/s]"
      ]
     },
     "metadata": {},
     "output_type": "display_data"
    },
    {
     "data": {
      "application/vnd.jupyter.widget-view+json": {
       "model_id": "6a0da8418bc646779b478fc56c093fbe",
       "version_major": 2,
       "version_minor": 0
      },
      "text/plain": [
       "  0%|          | 0/10000 [00:00<?, ?it/s]"
      ]
     },
     "metadata": {},
     "output_type": "display_data"
    },
    {
     "name": "stdout",
     "output_type": "stream",
     "text": [
      "iterations are done!\n"
     ]
    },
    {
     "data": {
      "application/vnd.jupyter.widget-view+json": {
       "model_id": "add2f25440204ad0a7a20e3ae3db4d5a",
       "version_major": 2,
       "version_minor": 0
      },
      "text/plain": [
       "  0%|          | 0/10000 [00:00<?, ?it/s]"
      ]
     },
     "metadata": {},
     "output_type": "display_data"
    },
    {
     "data": {
      "application/vnd.jupyter.widget-view+json": {
       "model_id": "6bcb457172b046c1b9e62a679c41b87a",
       "version_major": 2,
       "version_minor": 0
      },
      "text/plain": [
       "  0%|          | 0/10000 [00:00<?, ?it/s]"
      ]
     },
     "metadata": {},
     "output_type": "display_data"
    },
    {
     "name": "stdout",
     "output_type": "stream",
     "text": [
      "iterations are done!\n"
     ]
    },
    {
     "data": {
      "application/vnd.jupyter.widget-view+json": {
       "model_id": "14f17c7d7f60489bb10a1a9835b81ac4",
       "version_major": 2,
       "version_minor": 0
      },
      "text/plain": [
       "  0%|          | 0/10000 [00:00<?, ?it/s]"
      ]
     },
     "metadata": {},
     "output_type": "display_data"
    },
    {
     "data": {
      "application/vnd.jupyter.widget-view+json": {
       "model_id": "efbb430686734965b7cb809690160f08",
       "version_major": 2,
       "version_minor": 0
      },
      "text/plain": [
       "  0%|          | 0/10000 [00:00<?, ?it/s]"
      ]
     },
     "metadata": {},
     "output_type": "display_data"
    },
    {
     "name": "stdout",
     "output_type": "stream",
     "text": [
      "iterations are done!\n"
     ]
    },
    {
     "data": {
      "application/vnd.jupyter.widget-view+json": {
       "model_id": "6cd00db73c8a46d5a1b848e6cb407b89",
       "version_major": 2,
       "version_minor": 0
      },
      "text/plain": [
       "  0%|          | 0/10000 [00:00<?, ?it/s]"
      ]
     },
     "metadata": {},
     "output_type": "display_data"
    },
    {
     "data": {
      "application/vnd.jupyter.widget-view+json": {
       "model_id": "2e2c57f3c5174ab497c948d6abd64416",
       "version_major": 2,
       "version_minor": 0
      },
      "text/plain": [
       "  0%|          | 0/10000 [00:00<?, ?it/s]"
      ]
     },
     "metadata": {},
     "output_type": "display_data"
    },
    {
     "name": "stdout",
     "output_type": "stream",
     "text": [
      "iterations are done!\n"
     ]
    },
    {
     "data": {
      "application/vnd.jupyter.widget-view+json": {
       "model_id": "77e8e73ff42544dc9786064572c59b41",
       "version_major": 2,
       "version_minor": 0
      },
      "text/plain": [
       "  0%|          | 0/10000 [00:00<?, ?it/s]"
      ]
     },
     "metadata": {},
     "output_type": "display_data"
    },
    {
     "data": {
      "application/vnd.jupyter.widget-view+json": {
       "model_id": "80a8f18f1c384060be170ecd187f16d1",
       "version_major": 2,
       "version_minor": 0
      },
      "text/plain": [
       "  0%|          | 0/10000 [00:00<?, ?it/s]"
      ]
     },
     "metadata": {},
     "output_type": "display_data"
    },
    {
     "name": "stdout",
     "output_type": "stream",
     "text": [
      "iterations are done!\n"
     ]
    },
    {
     "data": {
      "application/vnd.jupyter.widget-view+json": {
       "model_id": "45a61d1aca794690b9cabae29cc0878e",
       "version_major": 2,
       "version_minor": 0
      },
      "text/plain": [
       "  0%|          | 0/10000 [00:00<?, ?it/s]"
      ]
     },
     "metadata": {},
     "output_type": "display_data"
    },
    {
     "data": {
      "application/vnd.jupyter.widget-view+json": {
       "model_id": "a08960b43afe4465b06735991d46b7e8",
       "version_major": 2,
       "version_minor": 0
      },
      "text/plain": [
       "  0%|          | 0/10000 [00:00<?, ?it/s]"
      ]
     },
     "metadata": {},
     "output_type": "display_data"
    },
    {
     "name": "stdout",
     "output_type": "stream",
     "text": [
      "iterations are done!\n"
     ]
    },
    {
     "data": {
      "application/vnd.jupyter.widget-view+json": {
       "model_id": "f3f188c2318c4e29bf03c39104cfd635",
       "version_major": 2,
       "version_minor": 0
      },
      "text/plain": [
       "  0%|          | 0/10000 [00:00<?, ?it/s]"
      ]
     },
     "metadata": {},
     "output_type": "display_data"
    },
    {
     "data": {
      "application/vnd.jupyter.widget-view+json": {
       "model_id": "2c5c336f886f42bbb50dc0e48fe14388",
       "version_major": 2,
       "version_minor": 0
      },
      "text/plain": [
       "  0%|          | 0/10000 [00:00<?, ?it/s]"
      ]
     },
     "metadata": {},
     "output_type": "display_data"
    },
    {
     "name": "stdout",
     "output_type": "stream",
     "text": [
      "iterations are done!\n"
     ]
    },
    {
     "data": {
      "application/vnd.jupyter.widget-view+json": {
       "model_id": "118879a22fa3495bbe3eb58bdef7bc7f",
       "version_major": 2,
       "version_minor": 0
      },
      "text/plain": [
       "  0%|          | 0/10000 [00:00<?, ?it/s]"
      ]
     },
     "metadata": {},
     "output_type": "display_data"
    },
    {
     "data": {
      "application/vnd.jupyter.widget-view+json": {
       "model_id": "ce76f896205c4b7a861af44dcdadfe18",
       "version_major": 2,
       "version_minor": 0
      },
      "text/plain": [
       "  0%|          | 0/10000 [00:00<?, ?it/s]"
      ]
     },
     "metadata": {},
     "output_type": "display_data"
    },
    {
     "name": "stdout",
     "output_type": "stream",
     "text": [
      "iterations are done!\n"
     ]
    },
    {
     "data": {
      "application/vnd.jupyter.widget-view+json": {
       "model_id": "9ea5510f2300429790adce9b85c8519b",
       "version_major": 2,
       "version_minor": 0
      },
      "text/plain": [
       "  0%|          | 0/10000 [00:00<?, ?it/s]"
      ]
     },
     "metadata": {},
     "output_type": "display_data"
    },
    {
     "data": {
      "application/vnd.jupyter.widget-view+json": {
       "model_id": "738a51c90ee4441abedb72e65b58c0f9",
       "version_major": 2,
       "version_minor": 0
      },
      "text/plain": [
       "  0%|          | 0/10000 [00:00<?, ?it/s]"
      ]
     },
     "metadata": {},
     "output_type": "display_data"
    },
    {
     "name": "stdout",
     "output_type": "stream",
     "text": [
      "iterations are done!\n"
     ]
    }
   ],
   "source": [
    "mean_sampling_list = []\n",
    "std_sampling_list = []\n",
    "for i in trange(20):\n",
    "    beta = beta_list[i]\n",
    "    ising_2d = ISING_2D_ladder(beta=beta, j=j, h=0, dims=dims)\n",
    "    ### Get to the equilibrium state\n",
    "    for _ in trange(10000):\n",
    "        ising_2d.ladder_evolution()\n",
    "    ### Sampling stage\n",
    "    energy_list = []\n",
    "    for i in trange(10000):\n",
    "        ising_2d.ladder_evolution()\n",
    "        energy_list.append(ising_2d.energy_compute_grids())\n",
    "    print(\"iterations are done!\")\n",
    "    mean_sampling_list.append(np.mean(energy_list))\n",
    "    std_sampling_list.append(np.std(energy_list))"
   ]
  },
  {
   "cell_type": "code",
   "execution_count": 5,
   "id": "997e5efd-cf45-46e8-8cf8-e23179f4834a",
   "metadata": {},
   "outputs": [
    {
     "data": {
      "text/plain": [
       "[-0.057328,\n",
       " -0.111408,\n",
       " -0.165216,\n",
       " -0.20220800000000003,\n",
       " -0.25151999999999997,\n",
       " -0.290784,\n",
       " -0.324592,\n",
       " -0.36337600000000003,\n",
       " -0.390032,\n",
       " -0.42904000000000003,\n",
       " -0.454112,\n",
       " -0.483808,\n",
       " -0.5097119999999999,\n",
       " -0.5406719999999999,\n",
       " -0.5612959999999999,\n",
       " -0.581584,\n",
       " -0.5997599999999998,\n",
       " -0.6233279999999999,\n",
       " -0.6419039999999999,\n",
       " -0.6596479999999999]"
      ]
     },
     "execution_count": 5,
     "metadata": {},
     "output_type": "execute_result"
    }
   ],
   "source": [
    "mean_sampling_list"
   ]
  },
  {
   "cell_type": "code",
   "execution_count": 6,
   "id": "210ce8a3-f2fa-4706-a1cd-4142262da8c5",
   "metadata": {},
   "outputs": [
    {
     "data": {
      "text/plain": [
       "[0.3346552560710798,\n",
       " 0.320723833751095,\n",
       " 0.30825391050885304,\n",
       " 0.3005705320486358,\n",
       " 0.28645434121339475,\n",
       " 0.277795077969355,\n",
       " 0.2696902548035431,\n",
       " 0.2578857937615021,\n",
       " 0.2543481059021278,\n",
       " 0.24734922356862168,\n",
       " 0.24027827920142927,\n",
       " 0.23317405330782412,\n",
       " 0.22595521028734877,\n",
       " 0.21757101924658992,\n",
       " 0.21160472675249956,\n",
       " 0.20959096102647173,\n",
       " 0.2023223724653307,\n",
       " 0.1939858871567723,\n",
       " 0.19277233926058998,\n",
       " 0.1850488478645571]"
      ]
     },
     "execution_count": 6,
     "metadata": {},
     "output_type": "execute_result"
    }
   ],
   "source": [
    "std_sampling_list"
   ]
  },
  {
   "cell_type": "code",
   "execution_count": 7,
   "id": "d8fa52bd-294e-440d-8e33-7806f34b5f8b",
   "metadata": {},
   "outputs": [],
   "source": [
    "energy_metropolis_list = [-0.0593264,\n",
    "                          -0.1117728,\n",
    "                          -0.15559360000000003,\n",
    "                          -0.2061952,\n",
    "                          -0.24400640000000004,\n",
    "                          -0.2867968,\n",
    "                          -0.32193440000000006,\n",
    "                          -0.3552624,\n",
    "                          -0.39665120000000004,\n",
    "                          -0.42617279999999996,\n",
    "                          -0.4607104,\n",
    "                          -0.4826992,\n",
    "                          -0.49970399999999987,\n",
    "                          -0.5395984,\n",
    "                          -0.5640528,\n",
    "                          -0.5806271999999999,\n",
    "                          -0.6022255999999999,\n",
    "                          -0.6232991999999998,\n",
    "                          -0.6436031999999999,\n",
    "                          -0.6594736]"
   ]
  },
  {
   "cell_type": "code",
   "execution_count": 8,
   "id": "22754d16-fa69-4204-b158-d54ac71bdfcd",
   "metadata": {},
   "outputs": [
    {
     "data": {
      "text/plain": [
       "<matplotlib.legend.Legend at 0x7f5ac9e39e80>"
      ]
     },
     "execution_count": 8,
     "metadata": {},
     "output_type": "execute_result"
    },
    {
     "data": {
      "image/png": "[encoded data removed]",
      "text/plain": [
       "<Figure size 432x288 with 1 Axes>"
      ]
     },
     "metadata": {
      "needs_background": "light"
     },
     "output_type": "display_data"
    }
   ],
   "source": [
    "plt.plot(temp_list, mean_sampling_list, 'o', label='ladder')\n",
    "plt.plot(temp_list, energy_metropolis_list, '--', label='metropolis')\n",
    "plt.xlabel('Temperature')\n",
    "plt.ylabel('Energy_per_spin')\n",
    "plt.title('2D Ising model (dims=(5, 5), triangle grids, h=0, j=-1')\n",
    "plt.legend()"
   ]
  },
  {
   "cell_type": "code",
   "execution_count": null,
   "id": "724a5132-3f01-44f6-a3ae-35f2bf9e91ad",
   "metadata": {},
   "outputs": [],
   "source": []
  }
 ],
 "metadata": {
  "kernelspec": {
   "display_name": "Python 3 (ipykernel)",
   "language": "python",
   "name": "python3"
  },
  "language_info": {
   "codemirror_mode": {
    "name": "ipython",
    "version": 3
   },
   "file_extension": ".py",
   "mimetype": "text/x-python",
   "name": "python",
   "nbconvert_exporter": "python",
   "pygments_lexer": "ipython3",
   "version": "3.9.10"
  }
 },
 "nbformat": 4,
 "nbformat_minor": 5
}
