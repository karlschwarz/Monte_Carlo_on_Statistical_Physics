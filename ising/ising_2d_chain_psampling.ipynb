{
 "cells": [
  {
   "cell_type": "markdown",
   "id": "97f5832c-b703-4284-b959-3eab5f0dc7d6",
   "metadata": {
    "tags": []
   },
   "source": [
    "# Perfect sampling of 2D Ising Model"
   ]
  },
  {
   "cell_type": "markdown",
   "id": "b7a8ccbd-2fe9-4fc8-9a46-537f3c0467bb",
   "metadata": {},
   "source": [
    "## Hamiltonian\n",
    "\\begin{align}\n",
    "H = -\\sum_{<ij>}J_{ij}S_{i} S_{j} - \\sum_{i} h_{i}S_{i},\n",
    "\\end{align}\n",
    "where we assume $J_{ij} = J$ and $h_{i} = h$."
   ]
  },
  {
   "cell_type": "markdown",
   "id": "121a2aae-bd5b-4519-8123-3621fcfefbe5",
   "metadata": {},
   "source": [
    "----"
   ]
  },
  {
   "cell_type": "markdown",
   "id": "827ffed1-dd77-4563-a2e8-478ad5656d1f",
   "metadata": {},
   "source": [
    "### Perfect Sampling of 2D ISING model"
   ]
  },
  {
   "cell_type": "code",
   "execution_count": 3,
   "id": "9c60d9f1-af92-4cb0-8ed6-7e95d705a90f",
   "metadata": {},
   "outputs": [],
   "source": [
    "import numpy as np\n",
    "import matplotlib.pyplot as plt\n",
    "from tqdm.auto import trange\n",
    "import time"
   ]
  },
  {
   "cell_type": "code",
   "execution_count": 4,
   "id": "d5b1a46f-22bb-4d0f-92f2-9715319743a9",
   "metadata": {},
   "outputs": [],
   "source": [
    "class ISING_2D_psampling:\n",
    "    \n",
    "    def __init__(self, j=1, beta=1, h=1, dims=(10, 10)):\n",
    "        \"\"\"\n",
    "        Args:\n",
    "            nc: (int) size of the cluster.\n",
    "        \"\"\"\n",
    "        self.j = j\n",
    "        self.beta = beta\n",
    "        self.h = h\n",
    "        self.dims = dims\n",
    "        self.grids = (-1) ** np.reshape(np.random.binomial(1, 1/2, dims[0]*dims[1]), dims)\n",
    "        #self.grids = (-1) ** np.zeros(dims)\n",
    "        #self.grids = np.ones(dims)\n",
    "        self.dict_filter = lambda old_dict, keys_set: [old_dict[key] for key in keys_set]\n",
    "        \n",
    "    def neibor_get(self, id_grid):\n",
    "        height, width = self.dims\n",
    "        height_index, width_index = id_grid\n",
    "        l_neibor = (height_index, (width_index - 1) % width)\n",
    "        r_neibor = (height_index, (width_index + 1) % width)\n",
    "        u_neibor = ((height_index - 1) % height, width_index)\n",
    "        d_neibor = ((height_index + 1) % height, width_index)          \n",
    "        ur_neibor = ((height_index - 1) % height, (width_index + 1) % width)\n",
    "        dl_neibor = ((height_index + 1) % height, (width_index - 1) % width)\n",
    "        \n",
    "        return {'l': l_neibor, \n",
    "                'r': r_neibor, \n",
    "                'u': u_neibor, \n",
    "                'd': d_neibor, \n",
    "                'ur': ur_neibor, \n",
    "                'dl': dl_neibor}\n",
    "    \n",
    "    def message_on_node(self, id_node, id_neibors):\n",
    "        def energy_get(spin, id_neibors):\n",
    "            energy = 0\n",
    "            for id_neibor in id_neibors:\n",
    "                energy += -self.j * spin * self.grids[id_neibor[0]][id_neibor[1]]\n",
    "            energy += -self.h * spin\n",
    "            return energy\n",
    "        spin_up, spin_down = 1, -1\n",
    "        energy_up = energy_get(spin_up, id_neibors)\n",
    "        energy_down = -energy_up\n",
    "        #message = np.array([1, np.exp(self.beta * (energy_up - energy_down))])\n",
    "        message = np.array([np.exp(-self.beta * energy_up), np.exp(-self.beta * energy_down)])\n",
    "        energy_list = [energy_up, energy_down]\n",
    "        #message_norm = message / np.sum(message)\n",
    "        #return message_norm\n",
    "        return message\n",
    "    \n",
    "    def message_on_edge(self):\n",
    "        \"\"\"\n",
    "        Args:\n",
    "            edge: (tuple) (node_start, node_end)\n",
    "            \n",
    "        Returns:\n",
    "            message: (np.array) 2x2 matrix\n",
    "        \"\"\"\n",
    "        #row_start_up = [1, np.exp(-2*self.beta*self.j)]\n",
    "        #row_start_down = [np.exp(-2*self.beta*self.j), 1]\n",
    "        row_start_up = [np.exp(self.beta*self.j), np.exp(-1*self.beta*self.j)]\n",
    "        row_start_down = [np.exp(-1*self.beta*self.j), np.exp(self.beta*self.j)]\n",
    "        message = np.array([row_start_up, row_start_down])\n",
    "        return message\n",
    "    \n",
    "    def loop_sampling(self, id_height):\n",
    "        id_end = np.random.randint(self.dims[1])\n",
    "        id_start = (id_end + 1) % self.dims[1]\n",
    "        path_to_left = [id_start, id_end] \n",
    "        path_to_right = [(id_start + i) % self.dims[1] for i in range(self.dims[1])]\n",
    "        assert path_to_right[-1] == id_end, \"Path to right is not right!\"\n",
    "        ### get the message on the edge which is shared by all the other edge\n",
    "        message_edge = self.message_on_edge()\n",
    "        message_on_node = []\n",
    "        dict_filter = lambda old_dict, keys_set: [old_dict[key] for key in keys_set]\n",
    "        for id_width in range(self.dims[1]):  \n",
    "            neibors_node = self.neibor_get((id_height, id_width))\n",
    "            keys_neibors = ('u', 'ur', 'dl', 'd')\n",
    "            neibors_node = dict_filter(neibors_node, keys_neibors)\n",
    "            message_node = self.message_on_node((id_height, id_width), neibors_node)\n",
    "            message_on_node.append(message_node)\n",
    "        z_right = np.sqrt(message_on_node[id_start])\n",
    "        z_left = np.sqrt(message_on_node[id_start])\n",
    "        id_start_right = id_start\n",
    "        while id_start_right != id_end:\n",
    "            id_start_right = (id_start_right + 1) % self.dims[1]\n",
    "            z_right = np.matmul(z_right, message_edge)\n",
    "            if id_start_right == id_end:\n",
    "                z_right *= np.sqrt(message_on_node[id_start_right])\n",
    "            else:\n",
    "                z_right *= message_on_node[id_start_right]\n",
    "        id_start_left = id_start\n",
    "        while id_start_left != id_end:\n",
    "            id_start_left = (id_start_left - 1) % self.dims[1]\n",
    "            z_left = np.matmul(z_left, message_edge)\n",
    "            if id_start_left == id_end:\n",
    "                z_left *= np.sqrt(message_on_node[id_start_left])\n",
    "            else:\n",
    "                z_left *= message_on_node[id_start_left]      \n",
    "        z = z_left * z_right\n",
    "        z_norm = z / np.sum(z)\n",
    "        if np.random.uniform(0, 1) < z_norm[0]:\n",
    "            spin_start = 1\n",
    "        else:\n",
    "            spin_start = -1\n",
    "        self.grids[id_height][id_end] = spin_start\n",
    "        return id_end\n",
    "    \n",
    "    def _loop_sampling_test(self, id_height, id_start):\n",
    "        id_end = (id_start - 1) % self.dims[1]\n",
    "        path_to_left = [id_start, id_end] \n",
    "        path_to_right = [(id_start + i) % self.dims[1] for i in range(self.dims[1])]\n",
    "        assert path_to_right[-1] == id_end, \"Path to right is not right!\"\n",
    "        ### get the message on the edge which is shared by all the other edge\n",
    "        message_edge = self.message_on_edge()\n",
    "        message_on_node = []\n",
    "        dict_filter = lambda old_dict, keys_set: [old_dict[key] for key in keys_set]\n",
    "        energy_on_node = []\n",
    "        for id_width in range(self.dims[1]):  \n",
    "            neibors_node = self.neibor_get((id_height, id_width))\n",
    "            keys_neibors = ('u', 'ur', 'dl', 'd')\n",
    "            neibors_node = dict_filter(neibors_node, keys_neibors)\n",
    "            message_node, energy_list = self.message_on_node((id_height, id_width), neibors_node)\n",
    "            message_on_node.append(message_node)\n",
    "            energy_on_node.append(energy_list)\n",
    "        #print(message_on_node)\n",
    "        z_right = np.sqrt(message_on_node[id_start])\n",
    "        z_left = np.sqrt(message_on_node[id_start])\n",
    "        id_start_right = id_start\n",
    "        while id_start_right != id_end:\n",
    "            id_start_right = (id_start_right + 1) % self.dims[1]\n",
    "            z_right = np.matmul(z_right, message_edge)\n",
    "            #print('z_right', id_start_right, z_right)\n",
    "            if id_start_right == id_end:\n",
    "                z_right *= np.sqrt(message_on_node[id_start_right])\n",
    "            else:\n",
    "                z_right *= message_on_node[id_start_right]\n",
    "        id_start_left = id_start\n",
    "        while id_start_left != id_end:\n",
    "            id_start_left = (id_start_left - 1) % self.dims[1]\n",
    "            z_left = np.matmul(z_left, message_edge)\n",
    "            #print('z_left', id_start_left, z_left)\n",
    "            if id_start_left == id_end:\n",
    "                z_left *= np.sqrt(message_on_node[id_start_left])\n",
    "            else:\n",
    "                z_left *= message_on_node[id_start_left]      \n",
    "        z_vec = z_left * z_right\n",
    "        z = np.sum(z_vec)\n",
    "        z_norm = z_vec / z\n",
    "        \n",
    "        return z_norm, z, energy_on_node\n",
    "    \n",
    "    def _exact_loop_sampling(self, id_height, id_start):\n",
    "        def energy_compute(id_width, grids):\n",
    "            energy_site = 0\n",
    "            id_spin = grids[id_height][id_width]\n",
    "            id_site = (id_height, id_width)\n",
    "            id_neibors_orig = self.neibor_get(id_site)\n",
    "            keys_neibors = ('u', 'd', 'ur', 'dl')\n",
    "            id_neibors = self.dict_filter(id_neibors_orig, keys_neibors)\n",
    "            for neibor in id_neibors:\n",
    "                energy_site += (-self.j * grids[neibor[0]][neibor[1]] * id_spin)\n",
    "            keys_neibors = ('l', 'r')\n",
    "            id_neibors = self.dict_filter(id_neibors_orig, keys_neibors)\n",
    "            for neibor in id_neibors:\n",
    "                energy_site += -1/2 * self.j * grids[neibor[0]][neibor[1]] * id_spin\n",
    "            energy_site += -self.h * id_spin\n",
    "            return energy_site\n",
    "        \n",
    "        def z_site_compute(grids):\n",
    "            energy_full = 0\n",
    "            for id_width in range(self.dims[1]):\n",
    "                energy_full += energy_compute(id_width, grids)\n",
    "            z_part = np.exp(-self.beta * energy_full)\n",
    "            return z_part, energy_full\n",
    "        \n",
    "        def z_part_compute(id_start, spin_start, grids):\n",
    "            num_site = 2 ** (self.dims[1] - 1)\n",
    "            z_part_start = 0\n",
    "            energy_list = []\n",
    "            for i in range(num_site):\n",
    "                site_i = list('0' * self.dims[1] + bin(i)[2:])[1-self.dims[1]:]\n",
    "                site_i.insert(id_start, spin_start)\n",
    "                site_i = np.array(site_i, dtype=np.int32)\n",
    "                site_i = (-1) ** site_i\n",
    "                grids[id_height] = site_i\n",
    "                #print(grids)\n",
    "                z_i, energy_i = z_site_compute(grids)\n",
    "                z_part_start += z_i\n",
    "                energy_list.append(energy_i)\n",
    "            return z_part_start, energy_list\n",
    "        \n",
    "        spin_u, spin_d = '0', '1'\n",
    "        grids = self.grids.copy()\n",
    "        z_part_u, energy_list_u = z_part_compute(id_start, spin_u, grids)\n",
    "        z_part_d, energy_list_d = z_part_compute(id_start, spin_d, grids)\n",
    "        z_start = np.array([z_part_u, z_part_d])\n",
    "        z = np.sum(z_start)\n",
    "        return z_start / z, z, energy_list_u, energy_list_d\n",
    "    \n",
    "    def chain_sampling(self, id_height, id_start):\n",
    "        stack = []\n",
    "        id_end = (id_start - 1) % self.dims[1]\n",
    "        id_start = (id_start + 1) % self.dims[1]\n",
    "        dict_filter = lambda old_dict, keys_set: [old_dict[key] for key in keys_set]\n",
    "        if self.dims[1] > 2:\n",
    "            id_neibors = self.neibor_get((id_height, id_start))\n",
    "            keys_neibors = ('l', 'u', 'ur', 'd', 'dl')\n",
    "            id_neibors = dict_filter(id_neibors, keys_neibors)\n",
    "        else:\n",
    "            id_neibors = self.neibor_get((id_height, id_start))\n",
    "        message_edge = self.message_on_edge()\n",
    "        z_start = self.message_on_node((id_height, id_start), id_neibors)\n",
    "        stack.append(z_start)\n",
    "        while id_start != id_end:\n",
    "            id_start = (id_start + 1) % self.dims[1]\n",
    "            z_start = np.matmul(z_start, message_edge)\n",
    "            if id_start == id_end:\n",
    "                id_neibors = self.neibor_get((id_height, id_start))\n",
    "                keys_neibors = ('r', 'u', 'd', 'ur', 'dl')\n",
    "                id_neibors = dict_filter(id_neibors, keys_neibors)\n",
    "            else:\n",
    "                id_neibors = self.neibor_get((id_height, id_start))\n",
    "                keys_neibors = ('u', 'ur', 'd', 'dl')\n",
    "                id_neibors = dict_filter(id_neibors, keys_neibors)\n",
    "            node_message = self.message_on_node((id_height, id_start), id_neibors)\n",
    "            z_start = z_start * node_message\n",
    "            stack.append(z_start)\n",
    "        z_start = stack.pop()\n",
    "        z_start_norm = z_start / np.sum(z_start)\n",
    "        if np.random.uniform(0, 1) < z_start_norm[0]:\n",
    "            spin_start = 1\n",
    "        else:\n",
    "            spin_start = -1\n",
    "        self.grids[id_height][id_start] = spin_start\n",
    "        \n",
    "        return stack, id_start\n",
    "    \n",
    "    def backtrack_sampling(self, id_height, id_start, stack):\n",
    "        spins_list = []\n",
    "        message_edge = self.message_on_edge()\n",
    "        dict_filter = lambda old_dict, keys_set: [old_dict[key] for key in keys_set]\n",
    "        while len(stack) != 0:\n",
    "            id_start = (id_start - 1) % self.dims[1]   \n",
    "            id_neibors = self.neibor_get((id_height, id_start))\n",
    "            #if len(stack) > 1:\n",
    "            #keys_neibors = ('l', 'u', 'ur', 'd', 'dl')\n",
    "            keys_neibors = ('r')\n",
    "            id_neibors = dict_filter(id_neibors, keys_neibors)\n",
    "            message_node = self.message_on_node((id_height, id_start), id_neibors)\n",
    "            z_start = message_node * stack.pop()\n",
    "            z_norm = z_start / np.sum(z_start)\n",
    "            if np.random.uniform(0, 1) < z_norm[0]:\n",
    "                spin_start = 1\n",
    "            else:\n",
    "                spin_start = -1\n",
    "            self.grids[id_height][id_start] = spin_start\n",
    "            spins_list.append(spin_start)\n",
    "    \n",
    "    def one_row_sampling(self, id_height):\n",
    "        id_start = self.loop_sampling(id_height)\n",
    "        stack, id_start = self.chain_sampling(id_height, id_start)\n",
    "        self.backtrack_sampling(id_height, id_start, stack)\n",
    "        \n",
    "    def chain_evolution(self):\n",
    "        for i in range(self.dims[0]):\n",
    "            self.one_row_sampling(i) \n",
    "        #self.grids = np.transpose(self.grids)\n",
    "        #for i in range(self.dims[1]):\n",
    "        #    self.one_row_sampling(i)\n",
    "        #self.grids = np.transpose(self.grids)\n",
    "        \n",
    "    def tree_create(self):\n",
    "        def neibor_search(id_grid, tree_list):\n",
    "            height, width = id_grid\n",
    "            neibors = []\n",
    "            num_shared = 0\n",
    "            if height < self.dims[0] - 1:\n",
    "                if (height + 1, width) not in tree_list:\n",
    "                    neibors.append((height + 1, width))\n",
    "                else:\n",
    "                    num_shared += 1\n",
    "            if height > 0:\n",
    "                if (height - 1, width) not in tree_list:\n",
    "                    neibors.append((height - 1, width))\n",
    "                else:\n",
    "                    num_shared += 1\n",
    "            if width < self.dims[1] - 1:\n",
    "                if (height, width + 1) not in tree_list:\n",
    "                    neibors.append((height, width + 1))\n",
    "                else:\n",
    "                    num_shared += 1\n",
    "            if width > 0:\n",
    "                if (height, width - 1) not in tree_list:\n",
    "                    neibors.append((height, width - 1))\n",
    "                else:\n",
    "                    num_shared += 1\n",
    "                    \n",
    "            return neibors, num_shared\n",
    "        \n",
    "        tree_list = []\n",
    "        stack = []\n",
    "        height, width = self.dims\n",
    "        height_rand = np.random.randint(0, height)\n",
    "        width_rand = np.random.randint(0, width)\n",
    "        id_start = (height_rand, width_rand)\n",
    "        stack.append(id_start)\n",
    "        while len(tree_list) < self.nc:\n",
    "            node_leaf = stack.pop()\n",
    "            if node_leaf in tree_list:\n",
    "                tree_list.pop()\n",
    "                continue\n",
    "            neibors_leaf, num_shared = neibor_search(node_leaf, tree_list)\n",
    "            if len(neibors_leaf) >= 1 and num_shared < 2:\n",
    "                tree_list.append(node_leaf)\n",
    "                stack.append(node_leaf)\n",
    "                stack.extend(neibors_leaf)\n",
    "            else:\n",
    "                if node_leaf == tree_list[-1]:\n",
    "                    tree_list.pop()\n",
    "        return tree_list\n",
    "    \n",
    "    def tree_viz(self):\n",
    "        zero_one_row = 'o' * self.dims[1] + '\\n'\n",
    "        zeros_grids = zero_one_row * self.dims[0]\n",
    "        for node in self.tree_list:\n",
    "            node_pos = node[0] * (self.dims[1] + 1) + node[1]\n",
    "            zeros_grids = zeros_grids[:node_pos] + 'x' + zeros_grids[node_pos+1:]\n",
    "        print(zeros_grids)\n",
    "        \n",
    "    def spin_viz(self, figsize=(10, 10), save=False, folder_name=None):\n",
    "        fig = plt.figure(figsize=figsize)\n",
    "        x, y = np.meshgrid(np.arange(0, self.dims[0]), np.arange(0, self.dims[1]))\n",
    "        u = np.cos(self.grids*np.pi/2)\n",
    "        v = np.sin(self.grids*np.pi/2)\n",
    "        q = plt.quiver(x, y, u, v)\n",
    "        plt.axis('off')\n",
    "        plt.title('T={:.3f}, spins={}'.format(1/self.beta, self.dims), fontsize=20)\n",
    "        if save and step is not None:\n",
    "            plt.savefig(f'./{folder_name}/config_plot_step_{step}.pdf', dpi=100)\n",
    "            plt.close(fig)\n",
    "\n",
    "    def energy_compute_grids(self):\n",
    "        energy_total = 0\n",
    "        for i in range(self.dims[0]):\n",
    "            for j in range(self.dims[1]):\n",
    "                id_neibors_dict = self.neibor_get((i, j))\n",
    "                id_neibors = id_neibors_dict.values()\n",
    "                energy_ij = 0\n",
    "                for ij in id_neibors:\n",
    "                    energy_ij = -1/2 * self.j * self.grids[ij[0]][ij[1]] * self.grids[i][j]\n",
    "                    energy_total += energy_ij\n",
    "                ### compute the energy of external field\n",
    "                energy_total += -self.h * self.grids[i][j]\n",
    "        energy_per_spin = energy_total / (self.dims[0] * self.dims[1])\n",
    "        return energy_per_spin\n",
    "    \n",
    "    def magnet_grids(self):\n",
    "        magnet_x, magnet_y = 0, 0\n",
    "        for i in range(self.length):\n",
    "            magnet_x += np.sin(self.grids[i])\n",
    "            magnet_y += np.cos(self.grids[i])\n",
    "        return magnet_x, magnet_y"
   ]
  },
  {
   "cell_type": "markdown",
   "id": "e6ee9ea6-b5eb-4baf-b0c1-ed86c48cfe01",
   "metadata": {},
   "source": [
    "### External Field h = 0"
   ]
  },
  {
   "cell_type": "code",
   "execution_count": 192,
   "id": "9a965bca-917f-431d-8531-40deec4afd26",
   "metadata": {},
   "outputs": [],
   "source": [
    "ising_2d = ISING_2D_psampling(beta=100, j=1, h=0, dims=(5, 5))"
   ]
  },
  {
   "cell_type": "code",
   "execution_count": 193,
   "id": "d0b5f0eb-5e2e-43b2-983f-8a4022dad97d",
   "metadata": {},
   "outputs": [
    {
     "data": {
      "image/png": "[encoded data removed]",
      "text/plain": [
       "<Figure size 720x720 with 1 Axes>"
      ]
     },
     "metadata": {
      "needs_background": "light"
     },
     "output_type": "display_data"
    }
   ],
   "source": [
    "ising_2d.spin_viz()"
   ]
  },
  {
   "cell_type": "code",
   "execution_count": 194,
   "id": "cc065c42-639d-464c-888e-135a123595d0",
   "metadata": {},
   "outputs": [
    {
     "name": "stderr",
     "output_type": "stream",
     "text": [
      "/tmp/ipykernel_144/1818059112.py:41: RuntimeWarning: overflow encountered in exp\n",
      "  message = np.array([1, np.exp(self.beta * (energy_up - energy_down))])\n",
      "/tmp/ipykernel_144/1818059112.py:42: RuntimeWarning: invalid value encountered in true_divide\n",
      "  message_norm = message / np.sum(message)\n"
     ]
    }
   ],
   "source": [
    "ising_2d.chain_evolution()"
   ]
  },
  {
   "cell_type": "code",
   "execution_count": 195,
   "id": "dae34765-f97e-4ee5-920b-6cba7034f1f3",
   "metadata": {},
   "outputs": [
    {
     "data": {
      "image/png": "[encoded data removed]",
      "text/plain": [
       "<Figure size 720x720 with 1 Axes>"
      ]
     },
     "metadata": {
      "needs_background": "light"
     },
     "output_type": "display_data"
    }
   ],
   "source": [
    "ising_2d.spin_viz()"
   ]
  },
  {
   "cell_type": "code",
   "execution_count": 196,
   "id": "669af812-eb48-4afa-9287-2eeac6039c4c",
   "metadata": {},
   "outputs": [
    {
     "name": "stdout",
     "output_type": "stream",
     "text": [
      "The energy of the system is: -1.240.\n"
     ]
    }
   ],
   "source": [
    "print(f\"The energy of the system is: {ising_2d.energy_compute_grids():.3f}.\")"
   ]
  },
  {
   "cell_type": "markdown",
   "id": "e54522bd-a297-4194-8538-87f9c78ef822",
   "metadata": {},
   "source": [
    "------"
   ]
  },
  {
   "cell_type": "code",
   "execution_count": 197,
   "id": "68db6b75-61b1-4685-b4b6-4509ded55958",
   "metadata": {},
   "outputs": [],
   "source": [
    "ising_2d = ISING_2D_psampling(beta=1, j=1, h=0, dims=(5, 5))"
   ]
  },
  {
   "cell_type": "code",
   "execution_count": 198,
   "id": "145be194-36c4-4015-82c2-2287661882f8",
   "metadata": {},
   "outputs": [
    {
     "data": {
      "image/png": "[encoded data removed]",
      "text/plain": [
       "<Figure size 720x720 with 1 Axes>"
      ]
     },
     "metadata": {
      "needs_background": "light"
     },
     "output_type": "display_data"
    }
   ],
   "source": [
    "ising_2d.spin_viz()"
   ]
  },
  {
   "cell_type": "code",
   "execution_count": 199,
   "id": "0b6255f2-363b-4b4d-b1fe-4a1cfeb5be89",
   "metadata": {},
   "outputs": [],
   "source": [
    "ising_2d.chain_evolution()"
   ]
  },
  {
   "cell_type": "code",
   "execution_count": 200,
   "id": "ceaa42e3-0a1f-49e1-9885-f538d2fc8eb7",
   "metadata": {},
   "outputs": [
    {
     "data": {
      "image/png": "[encoded data removed]",
      "text/plain": [
       "<Figure size 720x720 with 1 Axes>"
      ]
     },
     "metadata": {
      "needs_background": "light"
     },
     "output_type": "display_data"
    }
   ],
   "source": [
    "ising_2d.spin_viz()"
   ]
  },
  {
   "cell_type": "code",
   "execution_count": 201,
   "id": "edc0e09d-7d9f-4a59-a5f7-f443b5061fdd",
   "metadata": {},
   "outputs": [
    {
     "name": "stdout",
     "output_type": "stream",
     "text": [
      "The energy of the system is: -2.520.\n"
     ]
    }
   ],
   "source": [
    "print(f\"The energy of the system is: {ising_2d.energy_compute_grids():.3f}.\")"
   ]
  },
  {
   "cell_type": "markdown",
   "id": "db7e4d48-9467-4728-bed8-41f6a495751d",
   "metadata": {},
   "source": [
    "------"
   ]
  },
  {
   "cell_type": "markdown",
   "id": "b6d9e768-39df-4fac-a2bf-dcfdddeaed9e",
   "metadata": {},
   "source": [
    "### External Field  h = 1"
   ]
  },
  {
   "cell_type": "code",
   "execution_count": 202,
   "id": "6a907b5d-7c61-4d86-8b57-0940cc55eeb8",
   "metadata": {},
   "outputs": [],
   "source": [
    "ising_2d = ISING_2D_psampling(beta=1, j=1, h=1, dims=(5, 5))"
   ]
  },
  {
   "cell_type": "code",
   "execution_count": 203,
   "id": "ac01505a-1abc-477b-a824-8fc15bce33cb",
   "metadata": {},
   "outputs": [
    {
     "data": {
      "image/png": "[encoded data removed]",
      "text/plain": [
       "<Figure size 720x720 with 1 Axes>"
      ]
     },
     "metadata": {
      "needs_background": "light"
     },
     "output_type": "display_data"
    }
   ],
   "source": [
    "ising_2d.spin_viz()"
   ]
  },
  {
   "cell_type": "code",
   "execution_count": 204,
   "id": "831c8521-7adb-4a86-a4f1-5e25762d8951",
   "metadata": {},
   "outputs": [
    {
     "data": {
      "application/vnd.jupyter.widget-view+json": {
       "model_id": "c3a660ebf5ef46259c6d80907104631b",
       "version_major": 2,
       "version_minor": 0
      },
      "text/plain": [
       "  0%|          | 0/1000 [00:00<?, ?it/s]"
      ]
     },
     "metadata": {},
     "output_type": "display_data"
    }
   ],
   "source": [
    "for _ in trange(1000):\n",
    "    ising_2d.chain_evolution()"
   ]
  },
  {
   "cell_type": "code",
   "execution_count": 205,
   "id": "ccb45736-a43c-4ae7-9c2c-bdcc5dade03b",
   "metadata": {},
   "outputs": [
    {
     "data": {
      "image/png": "[encoded data removed]",
      "text/plain": [
       "<Figure size 720x720 with 1 Axes>"
      ]
     },
     "metadata": {
      "needs_background": "light"
     },
     "output_type": "display_data"
    }
   ],
   "source": [
    "ising_2d.spin_viz()"
   ]
  },
  {
   "cell_type": "code",
   "execution_count": 206,
   "id": "f8f2161a-27e1-4c27-946c-97920949b647",
   "metadata": {},
   "outputs": [
    {
     "name": "stdout",
     "output_type": "stream",
     "text": [
      "The energy of the system is: -4.000.\n"
     ]
    }
   ],
   "source": [
    "print(f\"The energy of the system is: {ising_2d.energy_compute_grids():.3f}.\")"
   ]
  },
  {
   "cell_type": "markdown",
   "id": "8ec77aed-f858-42b0-b7d7-2ee50ec5936f",
   "metadata": {},
   "source": [
    "---\n",
    "### High Temperature "
   ]
  },
  {
   "cell_type": "code",
   "execution_count": 207,
   "id": "5b36b34b-4007-4143-9dfe-37928ec6b8ed",
   "metadata": {},
   "outputs": [],
   "source": [
    "ising_2d = ISING_2D_psampling(beta=0.1, j=1, h=0, dims=(5, 5))"
   ]
  },
  {
   "cell_type": "code",
   "execution_count": 208,
   "id": "8d632f4e-3906-4374-8e17-91138d4e214f",
   "metadata": {},
   "outputs": [
    {
     "data": {
      "image/png": "[encoded data removed]",
      "text/plain": [
       "<Figure size 720x720 with 1 Axes>"
      ]
     },
     "metadata": {
      "needs_background": "light"
     },
     "output_type": "display_data"
    }
   ],
   "source": [
    "ising_2d.spin_viz()"
   ]
  },
  {
   "cell_type": "code",
   "execution_count": 209,
   "id": "a05f5d36-2969-49d7-9c72-a1561960455e",
   "metadata": {},
   "outputs": [
    {
     "data": {
      "application/vnd.jupyter.widget-view+json": {
       "model_id": "6960d68a2a7f4f919374822af47ea663",
       "version_major": 2,
       "version_minor": 0
      },
      "text/plain": [
       "  0%|          | 0/10000 [00:00<?, ?it/s]"
      ]
     },
     "metadata": {},
     "output_type": "display_data"
    }
   ],
   "source": [
    "for _ in trange(10000):\n",
    "    ising_2d.chain_evolution()"
   ]
  },
  {
   "cell_type": "code",
   "execution_count": 210,
   "id": "7637fe96-f0e7-488d-9846-dd7c85203768",
   "metadata": {},
   "outputs": [
    {
     "data": {
      "image/png": "[encoded data removed]",
      "text/plain": [
       "<Figure size 720x720 with 1 Axes>"
      ]
     },
     "metadata": {
      "needs_background": "light"
     },
     "output_type": "display_data"
    }
   ],
   "source": [
    "ising_2d.spin_viz()"
   ]
  },
  {
   "cell_type": "code",
   "execution_count": 211,
   "id": "65a68e10-97a6-4c9e-aa5c-eb5617b1087f",
   "metadata": {},
   "outputs": [
    {
     "name": "stdout",
     "output_type": "stream",
     "text": [
      "The energy of the system is: -0.440.\n"
     ]
    }
   ],
   "source": [
    "print(f\"The energy of the system is: {ising_2d.energy_compute_grids():.3f}.\")"
   ]
  },
  {
   "cell_type": "code",
   "execution_count": 212,
   "id": "f39d80eb-cb0b-4972-a3ad-17ee271a8fad",
   "metadata": {},
   "outputs": [
    {
     "data": {
      "application/vnd.jupyter.widget-view+json": {
       "model_id": "dce3c46779c74377a8af004084ae2f5d",
       "version_major": 2,
       "version_minor": 0
      },
      "text/plain": [
       "  0%|          | 0/10000 [00:00<?, ?it/s]"
      ]
     },
     "metadata": {},
     "output_type": "display_data"
    }
   ],
   "source": [
    "energy_list = []\n",
    "for _ in trange(10000):\n",
    "    energy_list.append(ising_2d.energy_compute_grids())"
   ]
  },
  {
   "cell_type": "code",
   "execution_count": 213,
   "id": "11396200-ef32-4d7b-870d-d7d5acceb5e6",
   "metadata": {},
   "outputs": [
    {
     "data": {
      "text/plain": [
       "1.6653345369377348e-16"
      ]
     },
     "execution_count": 213,
     "metadata": {},
     "output_type": "execute_result"
    }
   ],
   "source": [
    "np.std(energy_list)"
   ]
  },
  {
   "cell_type": "markdown",
   "id": "ea308849-9855-4968-95de-47fe2f3a4f5f",
   "metadata": {},
   "source": [
    "-----------\n",
    "### J > 0"
   ]
  },
  {
   "cell_type": "code",
   "execution_count": 531,
   "id": "886c00ce-b0df-4b74-aa54-15777a5be627",
   "metadata": {},
   "outputs": [],
   "source": [
    "beta_list = [0.05 * i for i in range(1, 11)]\n",
    "temp_list = [1 / beta for beta in beta_list]\n",
    "dims = (5, 5)"
   ]
  },
  {
   "cell_type": "code",
   "execution_count": 536,
   "id": "9451e018-d940-4239-813f-6984b9fae8bb",
   "metadata": {},
   "outputs": [
    {
     "data": {
      "application/vnd.jupyter.widget-view+json": {
       "model_id": "8159119cacfe4398a81a82501622dbce",
       "version_major": 2,
       "version_minor": 0
      },
      "text/plain": [
       "  0%|          | 0/10 [00:00<?, ?it/s]"
      ]
     },
     "metadata": {},
     "output_type": "display_data"
    },
    {
     "data": {
      "application/vnd.jupyter.widget-view+json": {
       "model_id": "e2a451b841504d858f7378a2e258afa0",
       "version_major": 2,
       "version_minor": 0
      },
      "text/plain": [
       "  0%|          | 0/10000 [00:00<?, ?it/s]"
      ]
     },
     "metadata": {},
     "output_type": "display_data"
    },
    {
     "data": {
      "application/vnd.jupyter.widget-view+json": {
       "model_id": "3d98dde8377643a7a10a57a19cab0345",
       "version_major": 2,
       "version_minor": 0
      },
      "text/plain": [
       "  0%|          | 0/10000 [00:00<?, ?it/s]"
      ]
     },
     "metadata": {},
     "output_type": "display_data"
    },
    {
     "name": "stdout",
     "output_type": "stream",
     "text": [
      "iterations are done!\n"
     ]
    },
    {
     "data": {
      "application/vnd.jupyter.widget-view+json": {
       "model_id": "0437c699d4c64ae884b5bd60c2f45125",
       "version_major": 2,
       "version_minor": 0
      },
      "text/plain": [
       "  0%|          | 0/10000 [00:00<?, ?it/s]"
      ]
     },
     "metadata": {},
     "output_type": "display_data"
    },
    {
     "data": {
      "application/vnd.jupyter.widget-view+json": {
       "model_id": "6d97b9a103f146ea87153476bd20f21c",
       "version_major": 2,
       "version_minor": 0
      },
      "text/plain": [
       "  0%|          | 0/10000 [00:00<?, ?it/s]"
      ]
     },
     "metadata": {},
     "output_type": "display_data"
    },
    {
     "name": "stdout",
     "output_type": "stream",
     "text": [
      "iterations are done!\n"
     ]
    },
    {
     "data": {
      "application/vnd.jupyter.widget-view+json": {
       "model_id": "a537421ccf134f96b1cdf7aaccca25ac",
       "version_major": 2,
       "version_minor": 0
      },
      "text/plain": [
       "  0%|          | 0/10000 [00:00<?, ?it/s]"
      ]
     },
     "metadata": {},
     "output_type": "display_data"
    },
    {
     "data": {
      "application/vnd.jupyter.widget-view+json": {
       "model_id": "e408c2598b264d0ab0a09656772c2286",
       "version_major": 2,
       "version_minor": 0
      },
      "text/plain": [
       "  0%|          | 0/10000 [00:00<?, ?it/s]"
      ]
     },
     "metadata": {},
     "output_type": "display_data"
    },
    {
     "name": "stdout",
     "output_type": "stream",
     "text": [
      "iterations are done!\n"
     ]
    },
    {
     "data": {
      "application/vnd.jupyter.widget-view+json": {
       "model_id": "1e1567d0d35a4e54900518d7e5f5ed03",
       "version_major": 2,
       "version_minor": 0
      },
      "text/plain": [
       "  0%|          | 0/10000 [00:00<?, ?it/s]"
      ]
     },
     "metadata": {},
     "output_type": "display_data"
    },
    {
     "data": {
      "application/vnd.jupyter.widget-view+json": {
       "model_id": "200361867723493ea5eddf3f95c6f8dc",
       "version_major": 2,
       "version_minor": 0
      },
      "text/plain": [
       "  0%|          | 0/10000 [00:00<?, ?it/s]"
      ]
     },
     "metadata": {},
     "output_type": "display_data"
    },
    {
     "name": "stdout",
     "output_type": "stream",
     "text": [
      "iterations are done!\n"
     ]
    },
    {
     "data": {
      "application/vnd.jupyter.widget-view+json": {
       "model_id": "04e0cd38c1904f5cb6019614af5992e7",
       "version_major": 2,
       "version_minor": 0
      },
      "text/plain": [
       "  0%|          | 0/10000 [00:00<?, ?it/s]"
      ]
     },
     "metadata": {},
     "output_type": "display_data"
    },
    {
     "data": {
      "application/vnd.jupyter.widget-view+json": {
       "model_id": "7421cb45200d4fba83a22f59e91eaf60",
       "version_major": 2,
       "version_minor": 0
      },
      "text/plain": [
       "  0%|          | 0/10000 [00:00<?, ?it/s]"
      ]
     },
     "metadata": {},
     "output_type": "display_data"
    },
    {
     "name": "stdout",
     "output_type": "stream",
     "text": [
      "iterations are done!\n"
     ]
    },
    {
     "data": {
      "application/vnd.jupyter.widget-view+json": {
       "model_id": "ae0e4271d84a4cd784e8d10c8fb01c17",
       "version_major": 2,
       "version_minor": 0
      },
      "text/plain": [
       "  0%|          | 0/10000 [00:00<?, ?it/s]"
      ]
     },
     "metadata": {},
     "output_type": "display_data"
    },
    {
     "data": {
      "application/vnd.jupyter.widget-view+json": {
       "model_id": "ff9c1449bc8a48d2b2e3f782b22e5d90",
       "version_major": 2,
       "version_minor": 0
      },
      "text/plain": [
       "  0%|          | 0/10000 [00:00<?, ?it/s]"
      ]
     },
     "metadata": {},
     "output_type": "display_data"
    },
    {
     "name": "stdout",
     "output_type": "stream",
     "text": [
      "iterations are done!\n"
     ]
    },
    {
     "data": {
      "application/vnd.jupyter.widget-view+json": {
       "model_id": "55180dd8e1f44c219491ea1c3b1b8d5b",
       "version_major": 2,
       "version_minor": 0
      },
      "text/plain": [
       "  0%|          | 0/10000 [00:00<?, ?it/s]"
      ]
     },
     "metadata": {},
     "output_type": "display_data"
    },
    {
     "data": {
      "application/vnd.jupyter.widget-view+json": {
       "model_id": "207b0c16b765465aaa6a962018aed627",
       "version_major": 2,
       "version_minor": 0
      },
      "text/plain": [
       "  0%|          | 0/10000 [00:00<?, ?it/s]"
      ]
     },
     "metadata": {},
     "output_type": "display_data"
    },
    {
     "name": "stdout",
     "output_type": "stream",
     "text": [
      "iterations are done!\n"
     ]
    },
    {
     "data": {
      "application/vnd.jupyter.widget-view+json": {
       "model_id": "c2444738aa1f478183a8f6f51c6e00e3",
       "version_major": 2,
       "version_minor": 0
      },
      "text/plain": [
       "  0%|          | 0/10000 [00:00<?, ?it/s]"
      ]
     },
     "metadata": {},
     "output_type": "display_data"
    },
    {
     "data": {
      "application/vnd.jupyter.widget-view+json": {
       "model_id": "ae5030adf8434c48971ba19c0876c8bc",
       "version_major": 2,
       "version_minor": 0
      },
      "text/plain": [
       "  0%|          | 0/10000 [00:00<?, ?it/s]"
      ]
     },
     "metadata": {},
     "output_type": "display_data"
    },
    {
     "name": "stdout",
     "output_type": "stream",
     "text": [
      "iterations are done!\n"
     ]
    },
    {
     "data": {
      "application/vnd.jupyter.widget-view+json": {
       "model_id": "1060acd672374ccabf7016bd574c02bb",
       "version_major": 2,
       "version_minor": 0
      },
      "text/plain": [
       "  0%|          | 0/10000 [00:00<?, ?it/s]"
      ]
     },
     "metadata": {},
     "output_type": "display_data"
    },
    {
     "data": {
      "application/vnd.jupyter.widget-view+json": {
       "model_id": "aa0857cf08a04103a2f5de205846654a",
       "version_major": 2,
       "version_minor": 0
      },
      "text/plain": [
       "  0%|          | 0/10000 [00:00<?, ?it/s]"
      ]
     },
     "metadata": {},
     "output_type": "display_data"
    },
    {
     "name": "stdout",
     "output_type": "stream",
     "text": [
      "iterations are done!\n"
     ]
    },
    {
     "data": {
      "application/vnd.jupyter.widget-view+json": {
       "model_id": "888ca8bc7b24425591d03329dad4dd34",
       "version_major": 2,
       "version_minor": 0
      },
      "text/plain": [
       "  0%|          | 0/10000 [00:00<?, ?it/s]"
      ]
     },
     "metadata": {},
     "output_type": "display_data"
    },
    {
     "data": {
      "application/vnd.jupyter.widget-view+json": {
       "model_id": "3621561b15f54f6da66c2412b8a8100d",
       "version_major": 2,
       "version_minor": 0
      },
      "text/plain": [
       "  0%|          | 0/10000 [00:00<?, ?it/s]"
      ]
     },
     "metadata": {},
     "output_type": "display_data"
    },
    {
     "name": "stdout",
     "output_type": "stream",
     "text": [
      "iterations are done!\n"
     ]
    }
   ],
   "source": [
    "mean_sampling_list = []\n",
    "std_sampling_list = []\n",
    "for i in trange(10):\n",
    "    beta = beta_list[i]\n",
    "    ising_2d = ISING_2D_psampling(beta=beta, h=0, dims=dims)\n",
    "    ### Get to the equilibrium state\n",
    "    for _ in trange(10000):\n",
    "        ising_2d.chain_evolution()\n",
    "    ### Sampling stage\n",
    "    energy_list = []\n",
    "    for i in trange(10000):\n",
    "        ising_2d.chain_evolution()\n",
    "        energy_list.append(ising_2d.energy_compute_grids())\n",
    "    print(\"iterations are done!\")\n",
    "    mean_sampling_list.append(np.mean(energy_list))\n",
    "    std_sampling_list.append(np.std(energy_list))"
   ]
  },
  {
   "cell_type": "code",
   "execution_count": 537,
   "id": "2fd772e0-589c-41fa-b357-0874d5eb486f",
   "metadata": {},
   "outputs": [
    {
     "data": {
      "text/plain": [
       "[-0.16776000000000002,\n",
       " -0.36776000000000003,\n",
       " -0.653024,\n",
       " -1.101888,\n",
       " -1.8058559999999997,\n",
       " -2.3997279999999996,\n",
       " -2.721776,\n",
       " -2.867424,\n",
       " -2.9326239999999997,\n",
       " -2.96496]"
      ]
     },
     "execution_count": 537,
     "metadata": {},
     "output_type": "execute_result"
    }
   ],
   "source": [
    "mean_sampling_list"
   ]
  },
  {
   "cell_type": "code",
   "execution_count": 538,
   "id": "e8d3c056-4a8c-4661-adfc-9521fc306f9e",
   "metadata": {},
   "outputs": [
    {
     "data": {
      "text/plain": [
       "[0.383693135721764,\n",
       " 0.43906075023850627,\n",
       " 0.5168315542069776,\n",
       " 0.6969958073446354,\n",
       " 0.7792157770887342,\n",
       " 0.6215551512263413,\n",
       " 0.413151069009872,\n",
       " 0.271313111043311,\n",
       " 0.18710936540964485,\n",
       " 0.13258189318304367]"
      ]
     },
     "execution_count": 538,
     "metadata": {},
     "output_type": "execute_result"
    }
   ],
   "source": [
    "std_sampling_list"
   ]
  },
  {
   "cell_type": "code",
   "execution_count": 539,
   "id": "d21fdcda-14fe-44b9-9bdf-ad6ebd4d0242",
   "metadata": {},
   "outputs": [],
   "source": [
    "energy_metropolis_list = [-0.164896,\n",
    "                          -0.3740704,\n",
    "                          -0.6458208,\n",
    "                          -1.1592592,\n",
    "                          -1.8570512,\n",
    "                          -2.450304,\n",
    "                          -2.7503168000000007,\n",
    "                          -2.8719392,\n",
    "                          -2.9364928000000003,\n",
    "                          -2.9658368000000004]"
   ]
  },
  {
   "cell_type": "code",
   "execution_count": 541,
   "id": "ed801ebf-6d80-446a-9427-5c8e548dee9d",
   "metadata": {},
   "outputs": [
    {
     "data": {
      "text/plain": [
       "<matplotlib.legend.Legend at 0x7f05ce6daee0>"
      ]
     },
     "execution_count": 541,
     "metadata": {},
     "output_type": "execute_result"
    },
    {
     "data": {
      "image/png": "[encoded data removed]",
      "text/plain": [
       "<Figure size 432x288 with 1 Axes>"
      ]
     },
     "metadata": {
      "needs_background": "light"
     },
     "output_type": "display_data"
    }
   ],
   "source": [
    "plt.plot(temp_list, mean_sampling_list, 'o', label='cluster(chain)')\n",
    "plt.plot(temp_list, energy_metropolis_list, '--', label='metropolis')\n",
    "plt.xlabel('Temperature')\n",
    "plt.ylabel('Energy_per_spin')\n",
    "plt.title('2D Ising model (dims=(5, 5))')\n",
    "plt.legend()"
   ]
  },
  {
   "cell_type": "markdown",
   "id": "fc0d55c0-132e-4676-97c1-61fd0fd661bf",
   "metadata": {},
   "source": [
    "### J < 0"
   ]
  },
  {
   "cell_type": "code",
   "execution_count": 5,
   "id": "d091f713-c230-430f-9224-9f8dd477643d",
   "metadata": {},
   "outputs": [],
   "source": [
    "beta_list = [0.02 * i for i in range(1, 21)]\n",
    "temp_list = [1 / beta for beta in beta_list]\n",
    "dims, j = (5, 5), -1"
   ]
  },
  {
   "cell_type": "code",
   "execution_count": 6,
   "id": "b0658793-8467-4e38-ab14-64e4c356c5fb",
   "metadata": {},
   "outputs": [
    {
     "data": {
      "application/vnd.jupyter.widget-view+json": {
       "model_id": "faf67f78b55b4f88855edae81d128008",
       "version_major": 2,
       "version_minor": 0
      },
      "text/plain": [
       "  0%|          | 0/20 [00:00<?, ?it/s]"
      ]
     },
     "metadata": {},
     "output_type": "display_data"
    },
    {
     "data": {
      "application/vnd.jupyter.widget-view+json": {
       "model_id": "f6840a081a5d4b0a9d595b81554b7f11",
       "version_major": 2,
       "version_minor": 0
      },
      "text/plain": [
       "  0%|          | 0/10000 [00:00<?, ?it/s]"
      ]
     },
     "metadata": {},
     "output_type": "display_data"
    },
    {
     "data": {
      "application/vnd.jupyter.widget-view+json": {
       "model_id": "797801b329784f0294fa6a40808baed6",
       "version_major": 2,
       "version_minor": 0
      },
      "text/plain": [
       "  0%|          | 0/10000 [00:00<?, ?it/s]"
      ]
     },
     "metadata": {},
     "output_type": "display_data"
    },
    {
     "name": "stdout",
     "output_type": "stream",
     "text": [
      "iterations are done!\n"
     ]
    },
    {
     "data": {
      "application/vnd.jupyter.widget-view+json": {
       "model_id": "4b78fe7683ee44f6a0fd9e4e80058c85",
       "version_major": 2,
       "version_minor": 0
      },
      "text/plain": [
       "  0%|          | 0/10000 [00:00<?, ?it/s]"
      ]
     },
     "metadata": {},
     "output_type": "display_data"
    },
    {
     "data": {
      "application/vnd.jupyter.widget-view+json": {
       "model_id": "c5527d76c32d451180e5a4d177f174f9",
       "version_major": 2,
       "version_minor": 0
      },
      "text/plain": [
       "  0%|          | 0/10000 [00:00<?, ?it/s]"
      ]
     },
     "metadata": {},
     "output_type": "display_data"
    },
    {
     "name": "stdout",
     "output_type": "stream",
     "text": [
      "iterations are done!\n"
     ]
    },
    {
     "data": {
      "application/vnd.jupyter.widget-view+json": {
       "model_id": "43be5e5f96084ebe9b81971cc1c20f09",
       "version_major": 2,
       "version_minor": 0
      },
      "text/plain": [
       "  0%|          | 0/10000 [00:00<?, ?it/s]"
      ]
     },
     "metadata": {},
     "output_type": "display_data"
    },
    {
     "data": {
      "application/vnd.jupyter.widget-view+json": {
       "model_id": "6f75553d4c4343a393f130db28b11a03",
       "version_major": 2,
       "version_minor": 0
      },
      "text/plain": [
       "  0%|          | 0/10000 [00:00<?, ?it/s]"
      ]
     },
     "metadata": {},
     "output_type": "display_data"
    },
    {
     "name": "stdout",
     "output_type": "stream",
     "text": [
      "iterations are done!\n"
     ]
    },
    {
     "data": {
      "application/vnd.jupyter.widget-view+json": {
       "model_id": "cd0e7712addf4f5ca84490732e36b49f",
       "version_major": 2,
       "version_minor": 0
      },
      "text/plain": [
       "  0%|          | 0/10000 [00:00<?, ?it/s]"
      ]
     },
     "metadata": {},
     "output_type": "display_data"
    },
    {
     "data": {
      "application/vnd.jupyter.widget-view+json": {
       "model_id": "ddcb516db2cc47d18e5522b753536b5c",
       "version_major": 2,
       "version_minor": 0
      },
      "text/plain": [
       "  0%|          | 0/10000 [00:00<?, ?it/s]"
      ]
     },
     "metadata": {},
     "output_type": "display_data"
    },
    {
     "name": "stdout",
     "output_type": "stream",
     "text": [
      "iterations are done!\n"
     ]
    },
    {
     "data": {
      "application/vnd.jupyter.widget-view+json": {
       "model_id": "1c7b279f83be48dd80190b5caa2fa9fd",
       "version_major": 2,
       "version_minor": 0
      },
      "text/plain": [
       "  0%|          | 0/10000 [00:00<?, ?it/s]"
      ]
     },
     "metadata": {},
     "output_type": "display_data"
    },
    {
     "data": {
      "application/vnd.jupyter.widget-view+json": {
       "model_id": "785254bc64d140808e08d8e14bdcaaaa",
       "version_major": 2,
       "version_minor": 0
      },
      "text/plain": [
       "  0%|          | 0/10000 [00:00<?, ?it/s]"
      ]
     },
     "metadata": {},
     "output_type": "display_data"
    },
    {
     "name": "stdout",
     "output_type": "stream",
     "text": [
      "iterations are done!\n"
     ]
    },
    {
     "data": {
      "application/vnd.jupyter.widget-view+json": {
       "model_id": "694eeae9b1f44afbbe9728e65de8947b",
       "version_major": 2,
       "version_minor": 0
      },
      "text/plain": [
       "  0%|          | 0/10000 [00:00<?, ?it/s]"
      ]
     },
     "metadata": {},
     "output_type": "display_data"
    },
    {
     "data": {
      "application/vnd.jupyter.widget-view+json": {
       "model_id": "1b0afbad429c4725ac6525984271fe3d",
       "version_major": 2,
       "version_minor": 0
      },
      "text/plain": [
       "  0%|          | 0/10000 [00:00<?, ?it/s]"
      ]
     },
     "metadata": {},
     "output_type": "display_data"
    },
    {
     "name": "stdout",
     "output_type": "stream",
     "text": [
      "iterations are done!\n"
     ]
    },
    {
     "data": {
      "application/vnd.jupyter.widget-view+json": {
       "model_id": "38b38cb1835741f8983fe025dcc4592f",
       "version_major": 2,
       "version_minor": 0
      },
      "text/plain": [
       "  0%|          | 0/10000 [00:00<?, ?it/s]"
      ]
     },
     "metadata": {},
     "output_type": "display_data"
    },
    {
     "data": {
      "application/vnd.jupyter.widget-view+json": {
       "model_id": "3c699fa6408a43b5b07a59d1da5e2f50",
       "version_major": 2,
       "version_minor": 0
      },
      "text/plain": [
       "  0%|          | 0/10000 [00:00<?, ?it/s]"
      ]
     },
     "metadata": {},
     "output_type": "display_data"
    },
    {
     "name": "stdout",
     "output_type": "stream",
     "text": [
      "iterations are done!\n"
     ]
    },
    {
     "data": {
      "application/vnd.jupyter.widget-view+json": {
       "model_id": "89db79e7610a44719a8e5d526a7c6d97",
       "version_major": 2,
       "version_minor": 0
      },
      "text/plain": [
       "  0%|          | 0/10000 [00:00<?, ?it/s]"
      ]
     },
     "metadata": {},
     "output_type": "display_data"
    },
    {
     "data": {
      "application/vnd.jupyter.widget-view+json": {
       "model_id": "5b9447e8ee2b477b98d17c4e2a7c4318",
       "version_major": 2,
       "version_minor": 0
      },
      "text/plain": [
       "  0%|          | 0/10000 [00:00<?, ?it/s]"
      ]
     },
     "metadata": {},
     "output_type": "display_data"
    },
    {
     "name": "stdout",
     "output_type": "stream",
     "text": [
      "iterations are done!\n"
     ]
    },
    {
     "data": {
      "application/vnd.jupyter.widget-view+json": {
       "model_id": "41be267a1ec1480aadd46f2ec1b4ce7f",
       "version_major": 2,
       "version_minor": 0
      },
      "text/plain": [
       "  0%|          | 0/10000 [00:00<?, ?it/s]"
      ]
     },
     "metadata": {},
     "output_type": "display_data"
    },
    {
     "data": {
      "application/vnd.jupyter.widget-view+json": {
       "model_id": "d485cfb0ec5142d7a7b81299086a186d",
       "version_major": 2,
       "version_minor": 0
      },
      "text/plain": [
       "  0%|          | 0/10000 [00:00<?, ?it/s]"
      ]
     },
     "metadata": {},
     "output_type": "display_data"
    },
    {
     "name": "stdout",
     "output_type": "stream",
     "text": [
      "iterations are done!\n"
     ]
    },
    {
     "data": {
      "application/vnd.jupyter.widget-view+json": {
       "model_id": "acef258ddde74ecdae156f1ca1ea3fae",
       "version_major": 2,
       "version_minor": 0
      },
      "text/plain": [
       "  0%|          | 0/10000 [00:00<?, ?it/s]"
      ]
     },
     "metadata": {},
     "output_type": "display_data"
    },
    {
     "data": {
      "application/vnd.jupyter.widget-view+json": {
       "model_id": "02a34fa998fc412082ee150d0ebadd3c",
       "version_major": 2,
       "version_minor": 0
      },
      "text/plain": [
       "  0%|          | 0/10000 [00:00<?, ?it/s]"
      ]
     },
     "metadata": {},
     "output_type": "display_data"
    },
    {
     "name": "stdout",
     "output_type": "stream",
     "text": [
      "iterations are done!\n"
     ]
    },
    {
     "data": {
      "application/vnd.jupyter.widget-view+json": {
       "model_id": "8c36acff22d74ea386a27278da9ba409",
       "version_major": 2,
       "version_minor": 0
      },
      "text/plain": [
       "  0%|          | 0/10000 [00:00<?, ?it/s]"
      ]
     },
     "metadata": {},
     "output_type": "display_data"
    },
    {
     "data": {
      "application/vnd.jupyter.widget-view+json": {
       "model_id": "241c8a4840d74782bd80915ddbaf0d59",
       "version_major": 2,
       "version_minor": 0
      },
      "text/plain": [
       "  0%|          | 0/10000 [00:00<?, ?it/s]"
      ]
     },
     "metadata": {},
     "output_type": "display_data"
    },
    {
     "name": "stdout",
     "output_type": "stream",
     "text": [
      "iterations are done!\n"
     ]
    },
    {
     "data": {
      "application/vnd.jupyter.widget-view+json": {
       "model_id": "623e45a4c56147d397ffe15dfde81a00",
       "version_major": 2,
       "version_minor": 0
      },
      "text/plain": [
       "  0%|          | 0/10000 [00:00<?, ?it/s]"
      ]
     },
     "metadata": {},
     "output_type": "display_data"
    },
    {
     "data": {
      "application/vnd.jupyter.widget-view+json": {
       "model_id": "c9eace590e1c42918e3eeb5c9e554b5b",
       "version_major": 2,
       "version_minor": 0
      },
      "text/plain": [
       "  0%|          | 0/10000 [00:00<?, ?it/s]"
      ]
     },
     "metadata": {},
     "output_type": "display_data"
    },
    {
     "name": "stdout",
     "output_type": "stream",
     "text": [
      "iterations are done!\n"
     ]
    },
    {
     "data": {
      "application/vnd.jupyter.widget-view+json": {
       "model_id": "bc4094c2c19646ccbeffbabd59c53014",
       "version_major": 2,
       "version_minor": 0
      },
      "text/plain": [
       "  0%|          | 0/10000 [00:00<?, ?it/s]"
      ]
     },
     "metadata": {},
     "output_type": "display_data"
    },
    {
     "data": {
      "application/vnd.jupyter.widget-view+json": {
       "model_id": "1bc1ce250c1a43d185f93ff47916be7f",
       "version_major": 2,
       "version_minor": 0
      },
      "text/plain": [
       "  0%|          | 0/10000 [00:00<?, ?it/s]"
      ]
     },
     "metadata": {},
     "output_type": "display_data"
    },
    {
     "name": "stdout",
     "output_type": "stream",
     "text": [
      "iterations are done!\n"
     ]
    },
    {
     "data": {
      "application/vnd.jupyter.widget-view+json": {
       "model_id": "a7aea64c4bee49059482ed9d263a8d13",
       "version_major": 2,
       "version_minor": 0
      },
      "text/plain": [
       "  0%|          | 0/10000 [00:00<?, ?it/s]"
      ]
     },
     "metadata": {},
     "output_type": "display_data"
    },
    {
     "data": {
      "application/vnd.jupyter.widget-view+json": {
       "model_id": "9e4075dbfc7f40fca32fd1b717bcb7c6",
       "version_major": 2,
       "version_minor": 0
      },
      "text/plain": [
       "  0%|          | 0/10000 [00:00<?, ?it/s]"
      ]
     },
     "metadata": {},
     "output_type": "display_data"
    },
    {
     "name": "stdout",
     "output_type": "stream",
     "text": [
      "iterations are done!\n"
     ]
    },
    {
     "data": {
      "application/vnd.jupyter.widget-view+json": {
       "model_id": "6f0975f43de14ad8b083424a38896986",
       "version_major": 2,
       "version_minor": 0
      },
      "text/plain": [
       "  0%|          | 0/10000 [00:00<?, ?it/s]"
      ]
     },
     "metadata": {},
     "output_type": "display_data"
    },
    {
     "data": {
      "application/vnd.jupyter.widget-view+json": {
       "model_id": "5a8b780ac9e343f5a8c722419bb6cf1b",
       "version_major": 2,
       "version_minor": 0
      },
      "text/plain": [
       "  0%|          | 0/10000 [00:00<?, ?it/s]"
      ]
     },
     "metadata": {},
     "output_type": "display_data"
    },
    {
     "name": "stdout",
     "output_type": "stream",
     "text": [
      "iterations are done!\n"
     ]
    },
    {
     "data": {
      "application/vnd.jupyter.widget-view+json": {
       "model_id": "ffdbbfe12136498ba10951390d361c05",
       "version_major": 2,
       "version_minor": 0
      },
      "text/plain": [
       "  0%|          | 0/10000 [00:00<?, ?it/s]"
      ]
     },
     "metadata": {},
     "output_type": "display_data"
    },
    {
     "data": {
      "application/vnd.jupyter.widget-view+json": {
       "model_id": "67898033bd26497096d8ab5b33739f2c",
       "version_major": 2,
       "version_minor": 0
      },
      "text/plain": [
       "  0%|          | 0/10000 [00:00<?, ?it/s]"
      ]
     },
     "metadata": {},
     "output_type": "display_data"
    },
    {
     "name": "stdout",
     "output_type": "stream",
     "text": [
      "iterations are done!\n"
     ]
    },
    {
     "data": {
      "application/vnd.jupyter.widget-view+json": {
       "model_id": "a7af8b57a82140cfb56b71bb104f3c6e",
       "version_major": 2,
       "version_minor": 0
      },
      "text/plain": [
       "  0%|          | 0/10000 [00:00<?, ?it/s]"
      ]
     },
     "metadata": {},
     "output_type": "display_data"
    },
    {
     "data": {
      "application/vnd.jupyter.widget-view+json": {
       "model_id": "cd931a344ffd4e7b8157a7b4f48090ed",
       "version_major": 2,
       "version_minor": 0
      },
      "text/plain": [
       "  0%|          | 0/10000 [00:00<?, ?it/s]"
      ]
     },
     "metadata": {},
     "output_type": "display_data"
    },
    {
     "name": "stdout",
     "output_type": "stream",
     "text": [
      "iterations are done!\n"
     ]
    },
    {
     "data": {
      "application/vnd.jupyter.widget-view+json": {
       "model_id": "cc574d0e296a4de2b68181c12796282b",
       "version_major": 2,
       "version_minor": 0
      },
      "text/plain": [
       "  0%|          | 0/10000 [00:00<?, ?it/s]"
      ]
     },
     "metadata": {},
     "output_type": "display_data"
    },
    {
     "data": {
      "application/vnd.jupyter.widget-view+json": {
       "model_id": "8cba2fddc1a54235b996d6068c2b310f",
       "version_major": 2,
       "version_minor": 0
      },
      "text/plain": [
       "  0%|          | 0/10000 [00:00<?, ?it/s]"
      ]
     },
     "metadata": {},
     "output_type": "display_data"
    },
    {
     "name": "stdout",
     "output_type": "stream",
     "text": [
      "iterations are done!\n"
     ]
    },
    {
     "data": {
      "application/vnd.jupyter.widget-view+json": {
       "model_id": "44d15073da7b487b8a09456da517e6d7",
       "version_major": 2,
       "version_minor": 0
      },
      "text/plain": [
       "  0%|          | 0/10000 [00:00<?, ?it/s]"
      ]
     },
     "metadata": {},
     "output_type": "display_data"
    },
    {
     "data": {
      "application/vnd.jupyter.widget-view+json": {
       "model_id": "17a9f76c740f4934879571c481e103ba",
       "version_major": 2,
       "version_minor": 0
      },
      "text/plain": [
       "  0%|          | 0/10000 [00:00<?, ?it/s]"
      ]
     },
     "metadata": {},
     "output_type": "display_data"
    },
    {
     "name": "stdout",
     "output_type": "stream",
     "text": [
      "iterations are done!\n"
     ]
    },
    {
     "data": {
      "application/vnd.jupyter.widget-view+json": {
       "model_id": "e3e15b5611c24bcaac0c9b1ebd44030b",
       "version_major": 2,
       "version_minor": 0
      },
      "text/plain": [
       "  0%|          | 0/10000 [00:00<?, ?it/s]"
      ]
     },
     "metadata": {},
     "output_type": "display_data"
    },
    {
     "data": {
      "application/vnd.jupyter.widget-view+json": {
       "model_id": "2afc302f19dd40dbba25d45cb9bc9b4b",
       "version_major": 2,
       "version_minor": 0
      },
      "text/plain": [
       "  0%|          | 0/10000 [00:00<?, ?it/s]"
      ]
     },
     "metadata": {},
     "output_type": "display_data"
    },
    {
     "name": "stdout",
     "output_type": "stream",
     "text": [
      "iterations are done!\n"
     ]
    }
   ],
   "source": [
    "mean_sampling_list = []\n",
    "std_sampling_list = []\n",
    "for i in trange(20):\n",
    "    beta = beta_list[i]\n",
    "    ising_2d = ISING_2D_psampling(beta=beta, j=j, h=0, dims=dims)\n",
    "    ### Get to the equilibrium state\n",
    "    for _ in trange(10000):\n",
    "        ising_2d.chain_evolution()\n",
    "    ### Sampling stage\n",
    "    energy_list = []\n",
    "    for i in trange(10000):\n",
    "        ising_2d.chain_evolution()\n",
    "        energy_list.append(ising_2d.energy_compute_grids())\n",
    "    print(\"iterations are done!\")\n",
    "    mean_sampling_list.append(np.mean(energy_list))\n",
    "    std_sampling_list.append(np.std(energy_list))"
   ]
  },
  {
   "cell_type": "code",
   "execution_count": 7,
   "id": "db7d604a-f921-4c24-b617-c042bfa32baf",
   "metadata": {},
   "outputs": [
    {
     "data": {
      "text/plain": [
       "[-0.05904000000000001,\n",
       " -0.11104000000000001,\n",
       " -0.162912,\n",
       " -0.20542400000000002,\n",
       " -0.24467200000000003,\n",
       " -0.289296,\n",
       " -0.32657600000000003,\n",
       " -0.36264,\n",
       " -0.39779200000000003,\n",
       " -0.42616000000000004,\n",
       " -0.458032,\n",
       " -0.482608,\n",
       " -0.512304,\n",
       " -0.5334079999999999,\n",
       " -0.561248,\n",
       " -0.580368,\n",
       " -0.6036319999999998,\n",
       " -0.6274879999999999,\n",
       " -0.640048,\n",
       " -0.6564479999999999]"
      ]
     },
     "execution_count": 7,
     "metadata": {},
     "output_type": "execute_result"
    }
   ],
   "source": [
    "mean_sampling_list"
   ]
  },
  {
   "cell_type": "code",
   "execution_count": 8,
   "id": "f87074af-b7be-43e7-b1ad-a5694f0edc6b",
   "metadata": {},
   "outputs": [
    {
     "data": {
      "text/plain": [
       "[0.32786490876579033,\n",
       " 0.3183181402308074,\n",
       " 0.3063433372149621,\n",
       " 0.3010956330204741,\n",
       " 0.2885349414126476,\n",
       " 0.2772677846126376,\n",
       " 0.26698725854242555,\n",
       " 0.2625866531261633,\n",
       " 0.24980553383782356,\n",
       " 0.2453649820165869,\n",
       " 0.23679452480156718,\n",
       " 0.23303407119131742,\n",
       " 0.2256956614204181,\n",
       " 0.21895914124785928,\n",
       " 0.21226031776099835,\n",
       " 0.2060551978863916,\n",
       " 0.20415427640879827,\n",
       " 0.1937840288981525,\n",
       " 0.18945985774300583,\n",
       " 0.18577454964553136]"
      ]
     },
     "execution_count": 8,
     "metadata": {},
     "output_type": "execute_result"
    }
   ],
   "source": [
    "std_sampling_list"
   ]
  },
  {
   "cell_type": "code",
   "execution_count": 9,
   "id": "8e94195d-1f07-4dfb-8c73-50c506daf53f",
   "metadata": {},
   "outputs": [],
   "source": [
    "energy_metropolis_list = [-0.0593264,\n",
    "                          -0.1117728,\n",
    "                          -0.15559360000000003,\n",
    "                          -0.2061952,\n",
    "                          -0.24400640000000004,\n",
    "                          -0.2867968,\n",
    "                          -0.32193440000000006,\n",
    "                          -0.3552624,\n",
    "                          -0.39665120000000004,\n",
    "                          -0.42617279999999996,\n",
    "                          -0.4607104,\n",
    "                          -0.4826992,\n",
    "                          -0.49970399999999987,\n",
    "                          -0.5395984,\n",
    "                          -0.5640528,\n",
    "                          -0.5806271999999999,\n",
    "                          -0.6022255999999999,\n",
    "                          -0.6232991999999998,\n",
    "                          -0.6436031999999999,\n",
    "                          -0.6594736]"
   ]
  },
  {
   "cell_type": "code",
   "execution_count": 11,
   "id": "282833fa-25f1-4813-855f-763cc7f1cf7f",
   "metadata": {},
   "outputs": [
    {
     "data": {
      "text/plain": [
       "<matplotlib.legend.Legend at 0x7f4ca60360d0>"
      ]
     },
     "execution_count": 11,
     "metadata": {},
     "output_type": "execute_result"
    },
    {
     "data": {
      "image/png": "[encoded data removed]",
      "text/plain": [
       "<Figure size 432x288 with 1 Axes>"
      ]
     },
     "metadata": {
      "needs_background": "light"
     },
     "output_type": "display_data"
    }
   ],
   "source": [
    "plt.plot(temp_list, mean_sampling_list, 'o', label='cluster(chain)')\n",
    "plt.plot(temp_list, energy_metropolis_list, '--', label='metropolis')\n",
    "plt.xlabel('Temperature')\n",
    "plt.ylabel('Energy_per_spin')\n",
    "plt.title('2D Ising model (dims=(5, 5)), h=0, j=-1')\n",
    "plt.legend()"
   ]
  },
  {
   "cell_type": "code",
   "execution_count": null,
   "id": "bcd2f484-0844-4eed-a222-963a0a3a7ac6",
   "metadata": {},
   "outputs": [],
   "source": []
  }
 ],
 "metadata": {
  "kernelspec": {
   "display_name": "Python 3 (ipykernel)",
   "language": "python",
   "name": "python3"
  },
  "language_info": {
   "codemirror_mode": {
    "name": "ipython",
    "version": 3
   },
   "file_extension": ".py",
   "mimetype": "text/x-python",
   "name": "python",
   "nbconvert_exporter": "python",
   "pygments_lexer": "ipython3",
   "version": "3.9.10"
  }
 },
 "nbformat": 4,
 "nbformat_minor": 5
}
