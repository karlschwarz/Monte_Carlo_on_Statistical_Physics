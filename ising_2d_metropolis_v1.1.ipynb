{
 "cells": [
  {
   "cell_type": "markdown",
   "id": "97f5832c-b703-4284-b959-3eab5f0dc7d6",
   "metadata": {
    "tags": []
   },
   "source": [
    "# Metropolis of 2d Ising model "
   ]
  },
  {
   "cell_type": "code",
   "execution_count": 1,
   "id": "9c60d9f1-af92-4cb0-8ed6-7e95d705a90f",
   "metadata": {},
   "outputs": [],
   "source": [
    "import numpy as np\n",
    "import matplotlib.pyplot as plt\n",
    "from tqdm.auto import trange"
   ]
  },
  {
   "cell_type": "code",
   "execution_count": 2,
   "id": "def6cf98-ed1e-4d84-86f8-42a758b07bb0",
   "metadata": {},
   "outputs": [],
   "source": [
    "from matplotlib import animation"
   ]
  },
  {
   "cell_type": "code",
   "execution_count": 3,
   "id": "352d932b-06c2-472b-998d-71ea96df7a79",
   "metadata": {},
   "outputs": [],
   "source": [
    "import copy\n",
    "import time"
   ]
  },
  {
   "cell_type": "code",
   "execution_count": 4,
   "id": "80a86b98-8eb6-4bf7-a828-f7f18d85bc68",
   "metadata": {},
   "outputs": [],
   "source": [
    "class ISING_2D:\n",
    "    def __init__(self, j=1, beta=1, h=1, dims=(5, 5), delta=1, seed=0):\n",
    "        np.random.seed(seed)\n",
    "        self.dims = dims\n",
    "        self.delta = delta\n",
    "        self.beta = beta\n",
    "        self.j = j\n",
    "        self.h = h\n",
    "        self.grids = (-1) ** np.reshape(np.random.binomial(1, 1/2, dims[0]*dims[1]), dims)\n",
    "    \n",
    "    def neibor_get(self, id_grid):\n",
    "        height, width = self.dims\n",
    "        height_index, width_index = id_grid\n",
    "        l_neibor = (height_index, (width_index - 1) % width)\n",
    "        r_neibor = (height_index, (width_index + 1) % width)\n",
    "        u_neibor = ((height_index - 1) % height, width_index)\n",
    "        d_neibor = ((height_index + 1) % height, width_index)          \n",
    "        ur_neibor = ((height_index - 1) % height, (width_index + 1) % width)\n",
    "        dl_neibor = ((height_index + 1) % height, (width_index - 1) % width)\n",
    "        return [l_neibor, r_neibor, u_neibor, d_neibor, ur_neibor, dl_neibor]\n",
    "\n",
    "    def one_step_mcmc(self):\n",
    "        id_random = np.random.randint(self.dims[0]*self.dims[1])\n",
    "        id_height, id_width = id_random // self.dims[1], id_random % self.dims[1]\n",
    "        spin_old = self.grids[id_height][id_width]\n",
    "        spin_new = spin_old * np.random.choice([-1, 1], 1, p=[self.delta, 1-self.delta])[0]\n",
    "        energy_old = self.energy_compute_one_grid((id_height, id_width), spin_old)\n",
    "        energy_new = self.energy_compute_one_grid((id_height, id_width), spin_new)\n",
    "        energy_delta = energy_new - energy_old\n",
    "        if energy_delta <= 0:\n",
    "            self.grids[id_height][id_width] = spin_new\n",
    "            return energy_new\n",
    "        else:\n",
    "            prob_accept = np.exp(-self.beta * energy_delta)\n",
    "            if np.random.uniform(0, 1) < prob_accept:\n",
    "                self.grids[id_height][id_width] = spin_new\n",
    "                return energy_new\n",
    "            else:\n",
    "                return energy_old\n",
    "            \n",
    "    def mcmc(self, step, show_energy=False, show_plot=False, period=100, store_period=100, energy_accumu=False, folder_name=None):\n",
    "        energy_list, spins_list = [], []\n",
    "        for i in range(step):\n",
    "            self.one_step_mcmc()\n",
    "            energy_total = self.energy_compute_grids()\n",
    "            energy_list.append(energy_total)\n",
    "            print_template = \"Step: {step} Energy: {energy}\\t\"\n",
    "            if show_energy:\n",
    "                print(print_template.format(step=i+1, energy=energy_total))  \n",
    "            if show_plot and i % period == 0:\n",
    "                self.spin_viz(save=True, step=i, folder_name=folder_name)\n",
    "            if i % store_period == 0:\n",
    "                spins_list.append(self.grids.copy())\n",
    "        if energy_accumu:\n",
    "            return np.mean(energy_list), spins_list\n",
    "        else:\n",
    "            return spins_list\n",
    "        \n",
    "    def spin_viz_dynamic(self, spins_list, file_name, figsize=(10, 10)):\n",
    "        fig = plt.figure(figsize=figsize)\n",
    "        x, y = np.meshgrid(np.arange(0, self.dims[0]), np.arange(0, self.dims[1]))\n",
    "        u = np.cos(spins_list[0]*np.pi/2)\n",
    "        v = np.sin(spins_list[0]*np.pi/2)\n",
    "        q = plt.quiver(x, y, u, v)\n",
    "        plt.axis('off')\n",
    "        plt.title(f'T={1/self.beta:.3f}, dims={self.dims}', fontsize=20)            \n",
    "        def update_quiver(num, q):\n",
    "            u = np.cos(spins_list[num+1]*np.pi/2)\n",
    "            v = np.sin(spins_list[num+1]*np.pi/2)\n",
    "            q.set_UVC(u, v)\n",
    "            return q\n",
    "        frames = len(spins_list) - 1\n",
    "        self.anim = animation.FuncAnimation(fig, update_quiver, frames=frames, \n",
    "                                       fargs=(q, ), interval=50, repeat=False)\n",
    "        writergif = animation.PillowWriter(fps=100) \n",
    "        self.anim.save(f'./{file_name}.gif', writer=writergif)\n",
    "        \n",
    "    def spin_viz(self, figsize=(10, 10), save=False, folder_name=None):\n",
    "        fig = plt.figure(figsize=figsize)\n",
    "        x, y = np.meshgrid(np.arange(0, self.dims[0]), np.arange(0, self.dims[1]))\n",
    "        u = np.cos(self.grids*np.pi/2)\n",
    "        v = np.sin(self.grids*np.pi/2)\n",
    "        q = plt.quiver(x, y, u, v)\n",
    "        plt.axis('off')\n",
    "        plt.title('T={:.3f}, spins={}'.format(1/self.beta, self.dims), fontsize=20)\n",
    "        if save and step is not None:\n",
    "            plt.savefig(f'./{folder_name}/config_plot_step_{step}.pdf', dpi=100)\n",
    "            plt.close(fig)\n",
    "            \n",
    "    def energy_compute_grids(self):\n",
    "        energy_total = 0\n",
    "        for i in range(self.dims[0]):\n",
    "            for j in range(self.dims[1]):\n",
    "                id_neibors = self.neibor_get((i, j))\n",
    "                energy_ij = 0\n",
    "                for ij in id_neibors:\n",
    "                    energy_ij = -1/2 * self.j * self.grids[ij[0]][ij[1]] * self.grids[i][j]\n",
    "                    energy_total += energy_ij\n",
    "                ### compute the energy of external field\n",
    "                energy_total += -self.h * self.grids[i][j]\n",
    "        energy_per_spin = energy_total / (self.dims[0] * self.dims[1])\n",
    "        return energy_per_spin\n",
    "\n",
    "    def energy_compute_one_grid(self, id_grid, id_spin):\n",
    "        id_neibors = self.neibor_get(id_grid)\n",
    "        id_energy = 0\n",
    "        for neibor in id_neibors:\n",
    "            id_energy += -self.j * self.grids[neibor[0]][neibor[1]] * id_spin\n",
    "        id_energy += -self.h * id_spin\n",
    "        return id_energy\n",
    "    \n",
    "    def magnet_grids(self):\n",
    "        magnet_x, magnet_y = 0, 0\n",
    "        for i in range(self.length):\n",
    "            magnet_x += np.sin(self.grids[i])\n",
    "            magnet_y += np.cos(self.grids[i])\n",
    "        return magnet_x, magnet_y"
   ]
  },
  {
   "cell_type": "code",
   "execution_count": 5,
   "id": "fee5b6ce-4b9c-4ebf-9660-d6ab4b4aff90",
   "metadata": {},
   "outputs": [],
   "source": [
    "# initialize the 1d xy model\n",
    "dims = (5, 5)\n",
    "ising_2d = ISING_2D(dims=dims, beta=100, j=1, h=0, delta=1)"
   ]
  },
  {
   "cell_type": "code",
   "execution_count": 12,
   "id": "45112d68-eb46-4fab-95e9-938d5024d7a8",
   "metadata": {},
   "outputs": [
    {
     "data": {
      "image/png": "[encoded data removed]",
      "text/plain": [
       "<Figure size 720x720 with 1 Axes>"
      ]
     },
     "metadata": {
      "needs_background": "light"
     },
     "output_type": "display_data"
    }
   ],
   "source": [
    "ising_2d.spin_viz()"
   ]
  },
  {
   "cell_type": "code",
   "execution_count": 13,
   "id": "48454625-2b73-49a7-8c79-1e57b014f206",
   "metadata": {},
   "outputs": [
    {
     "name": "stdout",
     "output_type": "stream",
     "text": [
      "mcmc is done!\n"
     ]
    }
   ],
   "source": [
    "# burning-in stage\n",
    "ising_2d.mcmc(100000, show_energy=False)\n",
    "print('mcmc is done!')"
   ]
  },
  {
   "cell_type": "code",
   "execution_count": 14,
   "id": "a20e9455-bb6b-46bb-9c1f-68882dd53a14",
   "metadata": {},
   "outputs": [
    {
     "data": {
      "image/png": "[encoded data removed]",
      "text/plain": [
       "<Figure size 720x720 with 1 Axes>"
      ]
     },
     "metadata": {
      "needs_background": "light"
     },
     "output_type": "display_data"
    }
   ],
   "source": [
    "ising_2d.spin_viz()"
   ]
  },
  {
   "cell_type": "code",
   "execution_count": 15,
   "id": "47a40839-af08-43ed-8ae6-7e099db9d9e8",
   "metadata": {},
   "outputs": [
    {
     "data": {
      "application/vnd.jupyter.widget-view+json": {
       "model_id": "de4e0841c5a9445a8935576cf7e71f9a",
       "version_major": 2,
       "version_minor": 0
      },
      "text/plain": [
       "  0%|          | 0/100000 [00:00<?, ?it/s]"
      ]
     },
     "metadata": {},
     "output_type": "display_data"
    },
    {
     "name": "stdout",
     "output_type": "stream",
     "text": [
      "iterations are done!\n"
     ]
    }
   ],
   "source": [
    "### sampling stage\n",
    "energy_list = []\n",
    "for i in trange(100000):\n",
    "    ising_2d.one_step_mcmc()\n",
    "    energy_list.append(ising_2d.energy_compute_grids())\n",
    "print(\"iterations are done!\")"
   ]
  },
  {
   "cell_type": "code",
   "execution_count": 16,
   "id": "7f4cd719-b033-4fe7-8f8c-44b1fee954ce",
   "metadata": {},
   "outputs": [
    {
     "data": {
      "text/plain": [
       "-3.0"
      ]
     },
     "execution_count": 16,
     "metadata": {},
     "output_type": "execute_result"
    }
   ],
   "source": [
    "np.mean(energy_list)"
   ]
  },
  {
   "cell_type": "code",
   "execution_count": 17,
   "id": "3b9f3286-e4a5-407b-b2f0-3f45e60eef7f",
   "metadata": {},
   "outputs": [
    {
     "data": {
      "text/plain": [
       "0.0"
      ]
     },
     "execution_count": 17,
     "metadata": {},
     "output_type": "execute_result"
    }
   ],
   "source": [
    "np.std(energy_list)"
   ]
  },
  {
   "cell_type": "code",
   "execution_count": 49,
   "id": "56a7f11e-288b-413d-8baf-67b966586c47",
   "metadata": {},
   "outputs": [
    {
     "data": {
      "text/plain": [
       "[<matplotlib.lines.Line2D at 0x7faacf9b54c0>]"
      ]
     },
     "execution_count": 49,
     "metadata": {},
     "output_type": "execute_result"
    },
    {
     "data": {
      "image/png": "[encoded data removed]",
      "text/plain": [
       "<Figure size 432x288 with 1 Axes>"
      ]
     },
     "metadata": {
      "needs_background": "light"
     },
     "output_type": "display_data"
    }
   ],
   "source": [
    "plt.title('time_series_of_energy')\n",
    "plt.xlabel('iters', fontsize=5)\n",
    "plt.ylabel('energy', fontsize=5)\n",
    "plt.plot(energy_list)"
   ]
  },
  {
   "cell_type": "markdown",
   "id": "8fd60625-597f-43ff-9905-9bd4ba8e91c9",
   "metadata": {
    "tags": []
   },
   "source": [
    "----\n",
    "### High temperature "
   ]
  },
  {
   "cell_type": "code",
   "execution_count": 16,
   "id": "45026179-b489-44bb-b557-3b4cd3364793",
   "metadata": {},
   "outputs": [],
   "source": [
    "# initialize the 1d xy model\n",
    "dims = (5, 5)\n",
    "ising_2d = ISING_2D(dims=dims, beta=1, j=1, h=0, delta=1)"
   ]
  },
  {
   "cell_type": "code",
   "execution_count": 17,
   "id": "cc1c0c41-51e5-4795-a947-3a36242c293f",
   "metadata": {},
   "outputs": [
    {
     "data": {
      "image/png": "[encoded data removed]",
      "text/plain": [
       "<Figure size 720x720 with 1 Axes>"
      ]
     },
     "metadata": {
      "needs_background": "light"
     },
     "output_type": "display_data"
    }
   ],
   "source": [
    "ising_2d.spin_viz()"
   ]
  },
  {
   "cell_type": "code",
   "execution_count": 18,
   "id": "71089f41-fb43-4123-8f52-28addf0982b1",
   "metadata": {},
   "outputs": [
    {
     "name": "stdout",
     "output_type": "stream",
     "text": [
      "mcmc is done!\n"
     ]
    }
   ],
   "source": [
    "# burning-in stage\n",
    "ising_2d.mcmc(100000, show_energy=False)\n",
    "print('mcmc is done!')"
   ]
  },
  {
   "cell_type": "code",
   "execution_count": 19,
   "id": "7b4483b9-694a-46cd-b515-3bd6143dbb3d",
   "metadata": {},
   "outputs": [
    {
     "data": {
      "image/png": "[encoded data removed]",
      "text/plain": [
       "<Figure size 720x720 with 1 Axes>"
      ]
     },
     "metadata": {
      "needs_background": "light"
     },
     "output_type": "display_data"
    }
   ],
   "source": [
    "ising_2d.spin_viz()"
   ]
  },
  {
   "cell_type": "code",
   "execution_count": 20,
   "id": "8cba7404-0194-4451-a7c2-df7070d7bbf4",
   "metadata": {},
   "outputs": [
    {
     "data": {
      "application/vnd.jupyter.widget-view+json": {
       "model_id": "b2abb2f17a0749338f6ef094770d4725",
       "version_major": 2,
       "version_minor": 0
      },
      "text/plain": [
       "  0%|          | 0/100000 [00:00<?, ?it/s]"
      ]
     },
     "metadata": {},
     "output_type": "display_data"
    },
    {
     "name": "stdout",
     "output_type": "stream",
     "text": [
      "iterations are done!\n"
     ]
    }
   ],
   "source": [
    "### sampling stage\n",
    "energy_list = []\n",
    "for i in trange(100000):\n",
    "    ising_2d.one_step_mcmc()\n",
    "    energy_list.append(ising_2d.energy_compute_grids())\n",
    "print(\"iterations are done!\")"
   ]
  },
  {
   "cell_type": "code",
   "execution_count": 21,
   "id": "b9994135-603c-4bb2-bd0a-7572c5c01272",
   "metadata": {},
   "outputs": [
    {
     "data": {
      "text/plain": [
       "-2.9999664"
      ]
     },
     "execution_count": 21,
     "metadata": {},
     "output_type": "execute_result"
    }
   ],
   "source": [
    "np.mean(energy_list)"
   ]
  },
  {
   "cell_type": "code",
   "execution_count": 22,
   "id": "308f4791-e7e4-46d2-b713-09c497b94f54",
   "metadata": {},
   "outputs": [
    {
     "data": {
      "text/plain": [
       "0.004015827566019239"
      ]
     },
     "execution_count": 22,
     "metadata": {},
     "output_type": "execute_result"
    }
   ],
   "source": [
    "np.std(energy_list)"
   ]
  },
  {
   "cell_type": "code",
   "execution_count": 23,
   "id": "8d1a8954-b295-4065-a6af-2e56b4d600cd",
   "metadata": {},
   "outputs": [
    {
     "data": {
      "text/plain": [
       "[<matplotlib.lines.Line2D at 0x7faad4a9b730>]"
      ]
     },
     "execution_count": 23,
     "metadata": {},
     "output_type": "execute_result"
    },
    {
     "data": {
      "image/png": "[encoded data removed]",
      "text/plain": [
       "<Figure size 432x288 with 1 Axes>"
      ]
     },
     "metadata": {
      "needs_background": "light"
     },
     "output_type": "display_data"
    }
   ],
   "source": [
    "plt.title('time_series_of_energy')\n",
    "plt.xlabel('iters', fontsize=5)\n",
    "plt.ylabel('energy', fontsize=5)\n",
    "plt.plot(energy_list)"
   ]
  },
  {
   "cell_type": "markdown",
   "id": "5b8dbca4-bf50-4add-bb85-7fb094e1cf87",
   "metadata": {
    "tags": []
   },
   "source": [
    "---\n",
    "### Create the dynamical image"
   ]
  },
  {
   "cell_type": "code",
   "execution_count": 20,
   "id": "322dcf37-04a4-491c-aee0-7ce35ee910ec",
   "metadata": {},
   "outputs": [],
   "source": [
    "# initialize the 1d xy model\n",
    "dims = (5, 5)\n",
    "ising_2d = ISING_2D(dims=dims, beta=1, j=1, h=0, delta=1)"
   ]
  },
  {
   "cell_type": "code",
   "execution_count": 21,
   "id": "ef63e10d-7ff9-4168-af96-04cdf8bdc0a6",
   "metadata": {},
   "outputs": [
    {
     "name": "stdout",
     "output_type": "stream",
     "text": [
      "mcmc is done!\n"
     ]
    }
   ],
   "source": [
    "# burning-in stage\n",
    "spins_list = ising_2d.mcmc(300, store_period=1, show_energy=False)\n",
    "print('mcmc is done!')"
   ]
  },
  {
   "cell_type": "code",
   "execution_count": 22,
   "id": "7de62040-183e-46f0-9847-fb3d851f81d1",
   "metadata": {},
   "outputs": [
    {
     "data": {
      "image/png": "[encoded data removed]",
      "text/plain": [
       "<Figure size 720x720 with 1 Axes>"
      ]
     },
     "metadata": {
      "needs_background": "light"
     },
     "output_type": "display_data"
    }
   ],
   "source": [
    "ising_2d.spin_viz_dynamic(spins_list, file_name='./2d_ising_metropolis.gif')"
   ]
  },
  {
   "cell_type": "markdown",
   "id": "73ea2c8f-6d82-4bbd-941f-29e80fd56769",
   "metadata": {},
   "source": [
    "-----\n",
    "### External field h = 0"
   ]
  },
  {
   "cell_type": "code",
   "execution_count": 5,
   "id": "5f583456-5574-4bab-bc79-38b1fb581972",
   "metadata": {},
   "outputs": [],
   "source": [
    "beta_list = [0.05 * i for i in range(1, 11)]\n",
    "temp_list = [1 / beta for beta in beta_list]\n",
    "dims = (5, 5)"
   ]
  },
  {
   "cell_type": "code",
   "execution_count": 9,
   "id": "d3e522de-14e9-4ec2-9192-5f1cbad8e481",
   "metadata": {},
   "outputs": [
    {
     "data": {
      "application/vnd.jupyter.widget-view+json": {
       "model_id": "fc879c72f35143419d7512b59b217135",
       "version_major": 2,
       "version_minor": 0
      },
      "text/plain": [
       "  0%|          | 0/10 [00:00<?, ?it/s]"
      ]
     },
     "metadata": {},
     "output_type": "display_data"
    },
    {
     "data": {
      "application/vnd.jupyter.widget-view+json": {
       "model_id": "5337e157334a4e489a963255f62aba13",
       "version_major": 2,
       "version_minor": 0
      },
      "text/plain": [
       "  0%|          | 0/100000 [00:00<?, ?it/s]"
      ]
     },
     "metadata": {},
     "output_type": "display_data"
    },
    {
     "data": {
      "application/vnd.jupyter.widget-view+json": {
       "model_id": "9fc17317c638455088bad978d281b8c0",
       "version_major": 2,
       "version_minor": 0
      },
      "text/plain": [
       "  0%|          | 0/100000 [00:00<?, ?it/s]"
      ]
     },
     "metadata": {},
     "output_type": "display_data"
    },
    {
     "data": {
      "application/vnd.jupyter.widget-view+json": {
       "model_id": "9b4d451c53114cdab73fe2e338cbd92e",
       "version_major": 2,
       "version_minor": 0
      },
      "text/plain": [
       "  0%|          | 0/100000 [00:00<?, ?it/s]"
      ]
     },
     "metadata": {},
     "output_type": "display_data"
    },
    {
     "data": {
      "application/vnd.jupyter.widget-view+json": {
       "model_id": "e3d951eb03ca4fb6aa36c894787a2747",
       "version_major": 2,
       "version_minor": 0
      },
      "text/plain": [
       "  0%|          | 0/100000 [00:00<?, ?it/s]"
      ]
     },
     "metadata": {},
     "output_type": "display_data"
    },
    {
     "data": {
      "application/vnd.jupyter.widget-view+json": {
       "model_id": "8f397bb27abe4d19b73abafe4b63990e",
       "version_major": 2,
       "version_minor": 0
      },
      "text/plain": [
       "  0%|          | 0/100000 [00:00<?, ?it/s]"
      ]
     },
     "metadata": {},
     "output_type": "display_data"
    },
    {
     "data": {
      "application/vnd.jupyter.widget-view+json": {
       "model_id": "529f1fcc97804c0790bfbd2f700deaa0",
       "version_major": 2,
       "version_minor": 0
      },
      "text/plain": [
       "  0%|          | 0/100000 [00:00<?, ?it/s]"
      ]
     },
     "metadata": {},
     "output_type": "display_data"
    },
    {
     "data": {
      "application/vnd.jupyter.widget-view+json": {
       "model_id": "7a96ef9e162f4fc18f7efa00ee07f370",
       "version_major": 2,
       "version_minor": 0
      },
      "text/plain": [
       "  0%|          | 0/100000 [00:00<?, ?it/s]"
      ]
     },
     "metadata": {},
     "output_type": "display_data"
    },
    {
     "data": {
      "application/vnd.jupyter.widget-view+json": {
       "model_id": "2efaace3a3a841afb9d5776a97d79f2e",
       "version_major": 2,
       "version_minor": 0
      },
      "text/plain": [
       "  0%|          | 0/100000 [00:00<?, ?it/s]"
      ]
     },
     "metadata": {},
     "output_type": "display_data"
    },
    {
     "data": {
      "application/vnd.jupyter.widget-view+json": {
       "model_id": "dceb6c64e9bc4fe5989055330e6334b1",
       "version_major": 2,
       "version_minor": 0
      },
      "text/plain": [
       "  0%|          | 0/100000 [00:00<?, ?it/s]"
      ]
     },
     "metadata": {},
     "output_type": "display_data"
    },
    {
     "data": {
      "application/vnd.jupyter.widget-view+json": {
       "model_id": "ff128c42c00f4e188a77baf84ebd7b88",
       "version_major": 2,
       "version_minor": 0
      },
      "text/plain": [
       "  0%|          | 0/100000 [00:00<?, ?it/s]"
      ]
     },
     "metadata": {},
     "output_type": "display_data"
    },
    {
     "data": {
      "application/vnd.jupyter.widget-view+json": {
       "model_id": "68591e4d59a04aadafd08f420300aa95",
       "version_major": 2,
       "version_minor": 0
      },
      "text/plain": [
       "  0%|          | 0/100000 [00:00<?, ?it/s]"
      ]
     },
     "metadata": {},
     "output_type": "display_data"
    },
    {
     "data": {
      "application/vnd.jupyter.widget-view+json": {
       "model_id": "11d44d6e5bc0412585ae17e6ef67ee56",
       "version_major": 2,
       "version_minor": 0
      },
      "text/plain": [
       "  0%|          | 0/100000 [00:00<?, ?it/s]"
      ]
     },
     "metadata": {},
     "output_type": "display_data"
    },
    {
     "data": {
      "application/vnd.jupyter.widget-view+json": {
       "model_id": "00302c951d0049509e841e80aaf14093",
       "version_major": 2,
       "version_minor": 0
      },
      "text/plain": [
       "  0%|          | 0/100000 [00:00<?, ?it/s]"
      ]
     },
     "metadata": {},
     "output_type": "display_data"
    },
    {
     "data": {
      "application/vnd.jupyter.widget-view+json": {
       "model_id": "d8753e9d7c6b4beeb0c69645c6a99b14",
       "version_major": 2,
       "version_minor": 0
      },
      "text/plain": [
       "  0%|          | 0/100000 [00:00<?, ?it/s]"
      ]
     },
     "metadata": {},
     "output_type": "display_data"
    },
    {
     "data": {
      "application/vnd.jupyter.widget-view+json": {
       "model_id": "0c68ef4efa0a4d7a81c0771e301c4d5c",
       "version_major": 2,
       "version_minor": 0
      },
      "text/plain": [
       "  0%|          | 0/100000 [00:00<?, ?it/s]"
      ]
     },
     "metadata": {},
     "output_type": "display_data"
    },
    {
     "data": {
      "application/vnd.jupyter.widget-view+json": {
       "model_id": "b441dc10b2234506bd572e0c19748a97",
       "version_major": 2,
       "version_minor": 0
      },
      "text/plain": [
       "  0%|          | 0/100000 [00:00<?, ?it/s]"
      ]
     },
     "metadata": {},
     "output_type": "display_data"
    },
    {
     "data": {
      "application/vnd.jupyter.widget-view+json": {
       "model_id": "11457834f56145ba95b8cd6ba128ef5c",
       "version_major": 2,
       "version_minor": 0
      },
      "text/plain": [
       "  0%|          | 0/100000 [00:00<?, ?it/s]"
      ]
     },
     "metadata": {},
     "output_type": "display_data"
    },
    {
     "data": {
      "application/vnd.jupyter.widget-view+json": {
       "model_id": "3080dd606eda443e9ac2585105e44e21",
       "version_major": 2,
       "version_minor": 0
      },
      "text/plain": [
       "  0%|          | 0/100000 [00:00<?, ?it/s]"
      ]
     },
     "metadata": {},
     "output_type": "display_data"
    },
    {
     "data": {
      "application/vnd.jupyter.widget-view+json": {
       "model_id": "a837b899cf524736a1608180e32144af",
       "version_major": 2,
       "version_minor": 0
      },
      "text/plain": [
       "  0%|          | 0/100000 [00:00<?, ?it/s]"
      ]
     },
     "metadata": {},
     "output_type": "display_data"
    },
    {
     "data": {
      "application/vnd.jupyter.widget-view+json": {
       "model_id": "5a93faa8c6d54da0a50d1783e6f12367",
       "version_major": 2,
       "version_minor": 0
      },
      "text/plain": [
       "  0%|          | 0/100000 [00:00<?, ?it/s]"
      ]
     },
     "metadata": {},
     "output_type": "display_data"
    },
    {
     "name": "stdout",
     "output_type": "stream",
     "text": [
      "iterations are done!\n",
      "running time is: 1054.581s.\n"
     ]
    }
   ],
   "source": [
    "mean_sampling_list = []\n",
    "std_sampling_list = []\n",
    "time_start = time.time()\n",
    "for i in trange(10):\n",
    "    beta = beta_list[i]\n",
    "    ising_2d = ISING_2D(beta=beta, h=0, dims=dims)\n",
    "    ### Get to the equilibrium state\n",
    "    for _ in trange(100000):\n",
    "        ising_2d.one_step_mcmc()\n",
    "    ### Sampling stage\n",
    "    energy_list = []\n",
    "    for i in trange(100000):\n",
    "        ising_2d.one_step_mcmc()\n",
    "        energy_list.append(ising_2d.energy_compute_grids())\n",
    "    mean_sampling_list.append(np.mean(energy_list))\n",
    "    std_sampling_list.append(np.std(energy_list))\n",
    "print(\"iterations are done!\")\n",
    "time_end = time.time()\n",
    "print(f\"running time is: {(time_end-time_start):.3f}s.\")"
   ]
  },
  {
   "cell_type": "code",
   "execution_count": 10,
   "id": "caedec0c-23d2-473b-b084-5d5708e015ef",
   "metadata": {},
   "outputs": [
    {
     "data": {
      "text/plain": [
       "[-0.16782560000000002,\n",
       " -0.37468799999999997,\n",
       " -0.6611328,\n",
       " -1.1531808000000001,\n",
       " -1.936168,\n",
       " -2.4590144000000005,\n",
       " -2.7541712,\n",
       " -2.8667215999999995,\n",
       " -2.9375264000000003,\n",
       " -2.9661168000000004]"
      ]
     },
     "execution_count": 10,
     "metadata": {},
     "output_type": "execute_result"
    }
   ],
   "source": [
    "mean_sampling_list"
   ]
  },
  {
   "cell_type": "code",
   "execution_count": 11,
   "id": "cdeb6059-7e15-47b9-9936-64cc4a8f29ab",
   "metadata": {},
   "outputs": [
    {
     "data": {
      "text/plain": [
       "[0.3855097923330093,\n",
       " 0.4344349970432861,\n",
       " 0.5374146078812522,\n",
       " 0.7048700720780817,\n",
       " 0.7601797496487261,\n",
       " 0.5982159514695675,\n",
       " 0.3801962560185989,\n",
       " 0.2769986644253723,\n",
       " 0.1795924979030026,\n",
       " 0.13047835359844176]"
      ]
     },
     "execution_count": 11,
     "metadata": {},
     "output_type": "execute_result"
    }
   ],
   "source": [
    "std_sampling_list"
   ]
  },
  {
   "cell_type": "code",
   "execution_count": 13,
   "id": "98a5c874-9acf-4a31-8f42-31b43f20a296",
   "metadata": {},
   "outputs": [
    {
     "data": {
      "text/plain": [
       "Text(0.5, 1.0, '2D Ising model (Dims=(5, 5), triangle grids, h=0)')"
      ]
     },
     "execution_count": 13,
     "metadata": {},
     "output_type": "execute_result"
    },
    {
     "data": {
      "image/png": "[encoded data removed]",
      "text/plain": [
       "<Figure size 432x288 with 1 Axes>"
      ]
     },
     "metadata": {
      "needs_background": "light"
     },
     "output_type": "display_data"
    }
   ],
   "source": [
    "plt.plot(temp_list, mean_sampling_list, '--r', label='metropolis')\n",
    "plt.xlabel('Temperature', fontsize=15)\n",
    "plt.ylabel('Energy_per_spin', fontsize=15)\n",
    "plt.legend()\n",
    "plt.title('2D Ising model (Dims=(5, 5), triangle grids, h=0)')\n",
    "#plt.savefig('./2d_ising_metropolis.pdf', dpi=100)"
   ]
  },
  {
   "cell_type": "markdown",
   "id": "153da034-1c80-4ee2-a0a1-7e0d37b922bb",
   "metadata": {},
   "source": [
    "--------"
   ]
  },
  {
   "cell_type": "markdown",
   "id": "61aa4b61-5695-4ac2-9613-2c46462a5b4d",
   "metadata": {},
   "source": [
    "### J < 0"
   ]
  },
  {
   "cell_type": "code",
   "execution_count": 6,
   "id": "1242ce7c-618f-4e43-976d-1bf25b04b136",
   "metadata": {},
   "outputs": [],
   "source": [
    "beta_list = [0.02 * i for i in range(1, 21)]\n",
    "temp_list = [1 / beta for beta in beta_list]\n",
    "dims, j = (5, 5), -1"
   ]
  },
  {
   "cell_type": "code",
   "execution_count": 7,
   "id": "43a3aa59-47a3-43fa-964f-099af3ee05d5",
   "metadata": {},
   "outputs": [
    {
     "data": {
      "application/vnd.jupyter.widget-view+json": {
       "model_id": "8a3e95283b854d53ae9a098e7f902c8f",
       "version_major": 2,
       "version_minor": 0
      },
      "text/plain": [
       "  0%|          | 0/20 [00:00<?, ?it/s]"
      ]
     },
     "metadata": {},
     "output_type": "display_data"
    },
    {
     "data": {
      "application/vnd.jupyter.widget-view+json": {
       "model_id": "4bcfd3377fd44ec68123027a64819b04",
       "version_major": 2,
       "version_minor": 0
      },
      "text/plain": [
       "  0%|          | 0/100000 [00:00<?, ?it/s]"
      ]
     },
     "metadata": {},
     "output_type": "display_data"
    },
    {
     "data": {
      "application/vnd.jupyter.widget-view+json": {
       "model_id": "8fdfa35907c8489d84afe9873512d009",
       "version_major": 2,
       "version_minor": 0
      },
      "text/plain": [
       "  0%|          | 0/100000 [00:00<?, ?it/s]"
      ]
     },
     "metadata": {},
     "output_type": "display_data"
    },
    {
     "data": {
      "application/vnd.jupyter.widget-view+json": {
       "model_id": "9dfa292f22ee4c5f97bc2897059a9eb9",
       "version_major": 2,
       "version_minor": 0
      },
      "text/plain": [
       "  0%|          | 0/100000 [00:00<?, ?it/s]"
      ]
     },
     "metadata": {},
     "output_type": "display_data"
    },
    {
     "data": {
      "application/vnd.jupyter.widget-view+json": {
       "model_id": "2d736f460b54469aa7b6da2feebbf97a",
       "version_major": 2,
       "version_minor": 0
      },
      "text/plain": [
       "  0%|          | 0/100000 [00:00<?, ?it/s]"
      ]
     },
     "metadata": {},
     "output_type": "display_data"
    },
    {
     "data": {
      "application/vnd.jupyter.widget-view+json": {
       "model_id": "bb0d5f7b996648ca9591137387bc6003",
       "version_major": 2,
       "version_minor": 0
      },
      "text/plain": [
       "  0%|          | 0/100000 [00:00<?, ?it/s]"
      ]
     },
     "metadata": {},
     "output_type": "display_data"
    },
    {
     "data": {
      "application/vnd.jupyter.widget-view+json": {
       "model_id": "921e5f732e5247c1b74f165b90c6a5f9",
       "version_major": 2,
       "version_minor": 0
      },
      "text/plain": [
       "  0%|          | 0/100000 [00:00<?, ?it/s]"
      ]
     },
     "metadata": {},
     "output_type": "display_data"
    },
    {
     "data": {
      "application/vnd.jupyter.widget-view+json": {
       "model_id": "51f839cc9f564fd3bdb8b74d7a4318b8",
       "version_major": 2,
       "version_minor": 0
      },
      "text/plain": [
       "  0%|          | 0/100000 [00:00<?, ?it/s]"
      ]
     },
     "metadata": {},
     "output_type": "display_data"
    },
    {
     "data": {
      "application/vnd.jupyter.widget-view+json": {
       "model_id": "cb64890b22734fa88a3064bb3abe2d94",
       "version_major": 2,
       "version_minor": 0
      },
      "text/plain": [
       "  0%|          | 0/100000 [00:00<?, ?it/s]"
      ]
     },
     "metadata": {},
     "output_type": "display_data"
    },
    {
     "data": {
      "application/vnd.jupyter.widget-view+json": {
       "model_id": "758781a6988c4ab3aa36a1e49fbe8e7a",
       "version_major": 2,
       "version_minor": 0
      },
      "text/plain": [
       "  0%|          | 0/100000 [00:00<?, ?it/s]"
      ]
     },
     "metadata": {},
     "output_type": "display_data"
    },
    {
     "data": {
      "application/vnd.jupyter.widget-view+json": {
       "model_id": "b5dc0d1616a7453790021b9cf05181de",
       "version_major": 2,
       "version_minor": 0
      },
      "text/plain": [
       "  0%|          | 0/100000 [00:00<?, ?it/s]"
      ]
     },
     "metadata": {},
     "output_type": "display_data"
    },
    {
     "data": {
      "application/vnd.jupyter.widget-view+json": {
       "model_id": "aa28239480eb408297ef589b3a4133b6",
       "version_major": 2,
       "version_minor": 0
      },
      "text/plain": [
       "  0%|          | 0/100000 [00:00<?, ?it/s]"
      ]
     },
     "metadata": {},
     "output_type": "display_data"
    },
    {
     "data": {
      "application/vnd.jupyter.widget-view+json": {
       "model_id": "18b5a091f5fa4b4cad5a71d6f16d81b5",
       "version_major": 2,
       "version_minor": 0
      },
      "text/plain": [
       "  0%|          | 0/100000 [00:00<?, ?it/s]"
      ]
     },
     "metadata": {},
     "output_type": "display_data"
    },
    {
     "data": {
      "application/vnd.jupyter.widget-view+json": {
       "model_id": "ca86b78326854faebd55de4368327953",
       "version_major": 2,
       "version_minor": 0
      },
      "text/plain": [
       "  0%|          | 0/100000 [00:00<?, ?it/s]"
      ]
     },
     "metadata": {},
     "output_type": "display_data"
    },
    {
     "data": {
      "application/vnd.jupyter.widget-view+json": {
       "model_id": "bd197308b6594490bd0c79a05093d2a0",
       "version_major": 2,
       "version_minor": 0
      },
      "text/plain": [
       "  0%|          | 0/100000 [00:00<?, ?it/s]"
      ]
     },
     "metadata": {},
     "output_type": "display_data"
    },
    {
     "data": {
      "application/vnd.jupyter.widget-view+json": {
       "model_id": "3f9108bdfcec46c5a1584158c6be9173",
       "version_major": 2,
       "version_minor": 0
      },
      "text/plain": [
       "  0%|          | 0/100000 [00:00<?, ?it/s]"
      ]
     },
     "metadata": {},
     "output_type": "display_data"
    },
    {
     "data": {
      "application/vnd.jupyter.widget-view+json": {
       "model_id": "a3b81a56038d4c6a9d0721bc1be65fcb",
       "version_major": 2,
       "version_minor": 0
      },
      "text/plain": [
       "  0%|          | 0/100000 [00:00<?, ?it/s]"
      ]
     },
     "metadata": {},
     "output_type": "display_data"
    },
    {
     "data": {
      "application/vnd.jupyter.widget-view+json": {
       "model_id": "b303bf5c4bbe468b9ebb037828c72d4f",
       "version_major": 2,
       "version_minor": 0
      },
      "text/plain": [
       "  0%|          | 0/100000 [00:00<?, ?it/s]"
      ]
     },
     "metadata": {},
     "output_type": "display_data"
    },
    {
     "data": {
      "application/vnd.jupyter.widget-view+json": {
       "model_id": "21c31b045d674de48ec646853eff8070",
       "version_major": 2,
       "version_minor": 0
      },
      "text/plain": [
       "  0%|          | 0/100000 [00:00<?, ?it/s]"
      ]
     },
     "metadata": {},
     "output_type": "display_data"
    },
    {
     "data": {
      "application/vnd.jupyter.widget-view+json": {
       "model_id": "ae44bfe02b5544878f9329f1a035fff7",
       "version_major": 2,
       "version_minor": 0
      },
      "text/plain": [
       "  0%|          | 0/100000 [00:00<?, ?it/s]"
      ]
     },
     "metadata": {},
     "output_type": "display_data"
    },
    {
     "data": {
      "application/vnd.jupyter.widget-view+json": {
       "model_id": "3d1926dc568648428612c656feb51808",
       "version_major": 2,
       "version_minor": 0
      },
      "text/plain": [
       "  0%|          | 0/100000 [00:00<?, ?it/s]"
      ]
     },
     "metadata": {},
     "output_type": "display_data"
    },
    {
     "data": {
      "application/vnd.jupyter.widget-view+json": {
       "model_id": "5a060a5a0b8743439f6ea1f971b7718f",
       "version_major": 2,
       "version_minor": 0
      },
      "text/plain": [
       "  0%|          | 0/100000 [00:00<?, ?it/s]"
      ]
     },
     "metadata": {},
     "output_type": "display_data"
    },
    {
     "data": {
      "application/vnd.jupyter.widget-view+json": {
       "model_id": "0879ed94378e4a8f8be10648784a0bbb",
       "version_major": 2,
       "version_minor": 0
      },
      "text/plain": [
       "  0%|          | 0/100000 [00:00<?, ?it/s]"
      ]
     },
     "metadata": {},
     "output_type": "display_data"
    },
    {
     "data": {
      "application/vnd.jupyter.widget-view+json": {
       "model_id": "2f517d96c0e24f81941a07acfb4dc606",
       "version_major": 2,
       "version_minor": 0
      },
      "text/plain": [
       "  0%|          | 0/100000 [00:00<?, ?it/s]"
      ]
     },
     "metadata": {},
     "output_type": "display_data"
    },
    {
     "data": {
      "application/vnd.jupyter.widget-view+json": {
       "model_id": "2dfce2913d664e7795308bc0411b5da1",
       "version_major": 2,
       "version_minor": 0
      },
      "text/plain": [
       "  0%|          | 0/100000 [00:00<?, ?it/s]"
      ]
     },
     "metadata": {},
     "output_type": "display_data"
    },
    {
     "data": {
      "application/vnd.jupyter.widget-view+json": {
       "model_id": "534f141f4e2a4bdf9442353f78f1dffd",
       "version_major": 2,
       "version_minor": 0
      },
      "text/plain": [
       "  0%|          | 0/100000 [00:00<?, ?it/s]"
      ]
     },
     "metadata": {},
     "output_type": "display_data"
    },
    {
     "data": {
      "application/vnd.jupyter.widget-view+json": {
       "model_id": "81af278807c844ffbaee09d08a60d7d7",
       "version_major": 2,
       "version_minor": 0
      },
      "text/plain": [
       "  0%|          | 0/100000 [00:00<?, ?it/s]"
      ]
     },
     "metadata": {},
     "output_type": "display_data"
    },
    {
     "data": {
      "application/vnd.jupyter.widget-view+json": {
       "model_id": "aa6355991f3c450e8e9bbaa535cbd0c8",
       "version_major": 2,
       "version_minor": 0
      },
      "text/plain": [
       "  0%|          | 0/100000 [00:00<?, ?it/s]"
      ]
     },
     "metadata": {},
     "output_type": "display_data"
    },
    {
     "data": {
      "application/vnd.jupyter.widget-view+json": {
       "model_id": "0b200355f591491ebc4f7c684d5737b4",
       "version_major": 2,
       "version_minor": 0
      },
      "text/plain": [
       "  0%|          | 0/100000 [00:00<?, ?it/s]"
      ]
     },
     "metadata": {},
     "output_type": "display_data"
    },
    {
     "data": {
      "application/vnd.jupyter.widget-view+json": {
       "model_id": "a1d94b01026e4079968b46ef5e63329c",
       "version_major": 2,
       "version_minor": 0
      },
      "text/plain": [
       "  0%|          | 0/100000 [00:00<?, ?it/s]"
      ]
     },
     "metadata": {},
     "output_type": "display_data"
    },
    {
     "data": {
      "application/vnd.jupyter.widget-view+json": {
       "model_id": "961e3a4f1af54f8a9cfe085218415468",
       "version_major": 2,
       "version_minor": 0
      },
      "text/plain": [
       "  0%|          | 0/100000 [00:00<?, ?it/s]"
      ]
     },
     "metadata": {},
     "output_type": "display_data"
    },
    {
     "data": {
      "application/vnd.jupyter.widget-view+json": {
       "model_id": "8b8bb195b64441debf53c781933f3869",
       "version_major": 2,
       "version_minor": 0
      },
      "text/plain": [
       "  0%|          | 0/100000 [00:00<?, ?it/s]"
      ]
     },
     "metadata": {},
     "output_type": "display_data"
    },
    {
     "data": {
      "application/vnd.jupyter.widget-view+json": {
       "model_id": "0a75c7051b2e41dda8c2925b95399b32",
       "version_major": 2,
       "version_minor": 0
      },
      "text/plain": [
       "  0%|          | 0/100000 [00:00<?, ?it/s]"
      ]
     },
     "metadata": {},
     "output_type": "display_data"
    },
    {
     "data": {
      "application/vnd.jupyter.widget-view+json": {
       "model_id": "27530ea8193e4fce99e559a9d6f02143",
       "version_major": 2,
       "version_minor": 0
      },
      "text/plain": [
       "  0%|          | 0/100000 [00:00<?, ?it/s]"
      ]
     },
     "metadata": {},
     "output_type": "display_data"
    },
    {
     "data": {
      "application/vnd.jupyter.widget-view+json": {
       "model_id": "e18521f40361498b86d320306ea58b30",
       "version_major": 2,
       "version_minor": 0
      },
      "text/plain": [
       "  0%|          | 0/100000 [00:00<?, ?it/s]"
      ]
     },
     "metadata": {},
     "output_type": "display_data"
    },
    {
     "data": {
      "application/vnd.jupyter.widget-view+json": {
       "model_id": "9d90405952de4a038a447ac033e09e2b",
       "version_major": 2,
       "version_minor": 0
      },
      "text/plain": [
       "  0%|          | 0/100000 [00:00<?, ?it/s]"
      ]
     },
     "metadata": {},
     "output_type": "display_data"
    },
    {
     "data": {
      "application/vnd.jupyter.widget-view+json": {
       "model_id": "5c44cb1c6b724b258205cade1ceb0895",
       "version_major": 2,
       "version_minor": 0
      },
      "text/plain": [
       "  0%|          | 0/100000 [00:00<?, ?it/s]"
      ]
     },
     "metadata": {},
     "output_type": "display_data"
    },
    {
     "data": {
      "application/vnd.jupyter.widget-view+json": {
       "model_id": "447981ab08a24dbfbcc481665e002d78",
       "version_major": 2,
       "version_minor": 0
      },
      "text/plain": [
       "  0%|          | 0/100000 [00:00<?, ?it/s]"
      ]
     },
     "metadata": {},
     "output_type": "display_data"
    },
    {
     "data": {
      "application/vnd.jupyter.widget-view+json": {
       "model_id": "bdb34e4c83b24a7e88b5344ec65d0274",
       "version_major": 2,
       "version_minor": 0
      },
      "text/plain": [
       "  0%|          | 0/100000 [00:00<?, ?it/s]"
      ]
     },
     "metadata": {},
     "output_type": "display_data"
    },
    {
     "data": {
      "application/vnd.jupyter.widget-view+json": {
       "model_id": "e20bf5f3f0444ba8898ee51fdd681274",
       "version_major": 2,
       "version_minor": 0
      },
      "text/plain": [
       "  0%|          | 0/100000 [00:00<?, ?it/s]"
      ]
     },
     "metadata": {},
     "output_type": "display_data"
    },
    {
     "data": {
      "application/vnd.jupyter.widget-view+json": {
       "model_id": "32f4c4e9b9e140d5bfceb2764ae3aeaf",
       "version_major": 2,
       "version_minor": 0
      },
      "text/plain": [
       "  0%|          | 0/100000 [00:00<?, ?it/s]"
      ]
     },
     "metadata": {},
     "output_type": "display_data"
    },
    {
     "name": "stdout",
     "output_type": "stream",
     "text": [
      "iterations are done!\n",
      "running time is: 1489.554s.\n"
     ]
    }
   ],
   "source": [
    "mean_sampling_list = []\n",
    "std_sampling_list = []\n",
    "time_start = time.time()\n",
    "for i in trange(20):\n",
    "    beta = beta_list[i]\n",
    "    ising_2d = ISING_2D(beta=beta, j=j, h=0, dims=dims)\n",
    "    ### Get to the equilibrium state\n",
    "    for _ in trange(100000):\n",
    "        ising_2d.one_step_mcmc()\n",
    "    ### Sampling stage\n",
    "    energy_list = []\n",
    "    for i in trange(100000):\n",
    "        ising_2d.one_step_mcmc()\n",
    "        energy_list.append(ising_2d.energy_compute_grids())\n",
    "    mean_sampling_list.append(np.mean(energy_list))\n",
    "    std_sampling_list.append(np.std(energy_list))\n",
    "print(\"iterations are done!\")\n",
    "time_end = time.time()\n",
    "print(f\"running time is: {(time_end-time_start):.3f}s.\")"
   ]
  },
  {
   "cell_type": "code",
   "execution_count": 8,
   "id": "82564a3e-1a82-4c44-898c-d95de9a4a190",
   "metadata": {},
   "outputs": [
    {
     "data": {
      "text/plain": [
       "[-0.0593264,\n",
       " -0.1117728,\n",
       " -0.15559360000000003,\n",
       " -0.2061952,\n",
       " -0.24400640000000004,\n",
       " -0.2867968,\n",
       " -0.32193440000000006,\n",
       " -0.3552624,\n",
       " -0.39665120000000004,\n",
       " -0.42617279999999996,\n",
       " -0.4607104,\n",
       " -0.4826992,\n",
       " -0.49970399999999987,\n",
       " -0.5395984,\n",
       " -0.5640528,\n",
       " -0.5806271999999999,\n",
       " -0.6022255999999999,\n",
       " -0.6232991999999998,\n",
       " -0.6436031999999999,\n",
       " -0.6594736]"
      ]
     },
     "execution_count": 8,
     "metadata": {},
     "output_type": "execute_result"
    }
   ],
   "source": [
    "mean_sampling_list"
   ]
  },
  {
   "cell_type": "code",
   "execution_count": 9,
   "id": "a817721f-1f02-4aaf-b0c5-4db637e46592",
   "metadata": {},
   "outputs": [
    {
     "data": {
      "text/plain": [
       "[0.3331521127999041,\n",
       " 0.3192982699297946,\n",
       " 0.3096002707347653,\n",
       " 0.30051053142437456,\n",
       " 0.2879027835208267,\n",
       " 0.2814679440180711,\n",
       " 0.26981090062604957,\n",
       " 0.2651559298719152,\n",
       " 0.25469049754272344,\n",
       " 0.24521959248836545,\n",
       " 0.23797144226112507,\n",
       " 0.23048778344927523,\n",
       " 0.22861637820593694,\n",
       " 0.2195795954032159,\n",
       " 0.21267505451312338,\n",
       " 0.2097135346613566,\n",
       " 0.20473914795329204,\n",
       " 0.1955167800454989,\n",
       " 0.19291865889477874,\n",
       " 0.1880903051808891]"
      ]
     },
     "execution_count": 9,
     "metadata": {},
     "output_type": "execute_result"
    }
   ],
   "source": [
    "std_sampling_list"
   ]
  },
  {
   "cell_type": "code",
   "execution_count": 11,
   "id": "83678ec0-b4cc-4961-b4bf-bd7c6037c3ac",
   "metadata": {},
   "outputs": [
    {
     "data": {
      "text/plain": [
       "Text(0.5, 1.0, '2D Ising model (Dims=(5, 5), triangle grids, h=0, j=-1)')"
      ]
     },
     "execution_count": 11,
     "metadata": {},
     "output_type": "execute_result"
    },
    {
     "data": {
      "image/png": "[encoded data removed]",
      "text/plain": [
       "<Figure size 432x288 with 1 Axes>"
      ]
     },
     "metadata": {
      "needs_background": "light"
     },
     "output_type": "display_data"
    }
   ],
   "source": [
    "plt.plot(temp_list, mean_sampling_list, '--r', label='metropolis')\n",
    "#plt.plot(temp_list, energy_psampling_list, 'o', label='cluster(chain)')\n",
    "plt.xlabel('Temperature', fontsize=15)\n",
    "plt.ylabel('Energy_per_spin', fontsize=15)\n",
    "plt.legend()\n",
    "plt.title('2D Ising model (Dims=(5, 5), triangle grids, h=0, j=-1)')\n",
    "#plt.savefig('./2d_ising_cluster_chain.pdf', dpi=100)"
   ]
  },
  {
   "cell_type": "code",
   "execution_count": null,
   "id": "8c4c5f54-6150-4493-865a-e517689a7524",
   "metadata": {},
   "outputs": [],
   "source": []
  }
 ],
 "metadata": {
  "kernelspec": {
   "display_name": "Python 3 (ipykernel)",
   "language": "python",
   "name": "python3"
  },
  "language_info": {
   "codemirror_mode": {
    "name": "ipython",
    "version": 3
   },
   "file_extension": ".py",
   "mimetype": "text/x-python",
   "name": "python",
   "nbconvert_exporter": "python",
   "pygments_lexer": "ipython3",
   "version": "3.9.10"
  }
 },
 "nbformat": 4,
 "nbformat_minor": 5
}
