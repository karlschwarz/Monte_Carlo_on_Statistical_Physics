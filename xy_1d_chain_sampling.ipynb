{
 "cells": [
  {
   "cell_type": "markdown",
   "id": "97f5832c-b703-4284-b959-3eab5f0dc7d6",
   "metadata": {
    "tags": []
   },
   "source": [
    "# Perfect sampling on 1d XY model "
   ]
  },
  {
   "cell_type": "markdown",
   "id": "b7a8ccbd-2fe9-4fc8-9a46-537f3c0467bb",
   "metadata": {},
   "source": [
    "## Hamiltonian\n",
    "\\begin{align}\n",
    "H = -\\sum_{<ij>}J_{ij}S_{i}\\cdot S_{j} = -J\\sum_{i=1}^{N-1}\\cos{(\\theta_{i}-\\theta_{i+1})}，\n",
    "\\end{align}\n",
    "where $N$ is the number of spins and we assume $J_{ij} = J$."
   ]
  },
  {
   "cell_type": "markdown",
   "id": "2b62e708-eeaf-4c84-8bb8-396f07dc38f1",
   "metadata": {},
   "source": [
    "## 1. Free bounday condition\n",
    "\n",
    "### Partion function：\n",
    "\\begin{align}\n",
    "Z = (2\\pi)^{N}[I_{0}(\\beta)]^{N-1}\n",
    "\\end{align}\n",
    "\n",
    "### $Z_{1}$:\n",
    "\\begin{align}\n",
    "Z_{1}(\\theta_{1}) &= \\int_{-\\pi}^{\\pi}d\\theta_{2}\\cdots d\\theta_{N}\\exp{[-J\\beta(\\cos{(\\theta_{1} - \\theta_{2})} + \\cos{(\\theta_{2} - \\theta_{3})} + \\cdots + \\cos{(\\theta_{N-1} - \\theta_{N})})]} \\\\\n",
    "&=(2\\pi)^{N-2}[I_{0}(-J\\beta)]^{N-2}\\int_{-\\pi}^{\\pi}d\\theta_{2}\\exp{[-J\\beta\\cos{(\\theta_{1}-\\theta_{2}})]}, \n",
    "\\end{align}\n",
    "then we get\n",
    "\\begin{align}\n",
    "P(\\theta_{1}) = \\frac{Z_{1}(\\theta_{1})}{Z} = \\frac{\\int_{-\\pi}^{\\pi}d\\theta\\exp{[-J\\beta\\cos{(\\theta_{1}-\\theta})]}}{(2\\pi)^{2} I_{0}(-J\\beta)}\n",
    "\\end{align}"
   ]
  },
  {
   "cell_type": "markdown",
   "id": "ed30c228-3375-474d-805e-0846bbfb756b",
   "metadata": {},
   "source": [
    "### $Z_{2}(\\theta_{1}, \\theta_{2})$:\n",
    "\\begin{align*}\n",
    "Z_{2}(\\theta_{1}, \\theta_{2}) &= \\int_{-\\pi}^{\\pi}d\\theta_{3}\\cdots d\\theta_{N}\\exp{[-J\\beta(\\cos{(\\theta_{1} - \\theta_{2})} + \\cos{(\\theta_{2} - \\theta_{3})} + \\cdots + \\cos{(\\theta_{N-1} - \\theta_{N})})]} \\\\\n",
    "&=\\exp{[-J\\beta\\cos{(\\theta_{1}-\\theta_{2})}]}(2\\pi)^{N-3}[I_{0}(-J\\beta)]^{N-3}\\int_{-\\pi}^{\\pi}d\\theta\\exp{[-J\\beta\\cos{(\\theta_{2}-\\theta})]},\n",
    "\\end{align*}\n",
    "then we get\n",
    "\\begin{align}\n",
    "P(\\theta_{2}|\\theta_{1}) &= \\frac{Z_{2}(\\theta_{1}, \\theta_{2})}{Z_{1}(\\theta_{1})}\\\\\n",
    "&=\\frac{\\exp{[-J\\beta\\cos{(\\theta_{1}-\\theta_{2})}]}\\int_{-\\pi}^{\\pi}d\\theta\\exp{[-J\\beta\\cos{(\\theta_{2}-\\theta})]}}{2\\pi I_{0}(-J\\beta)\\int_{-\\pi}^{\\pi}d\\theta\\exp{[-J\\beta\\cos{(\\theta_{1}-\\theta})]}}\n",
    "\\end{align}"
   ]
  },
  {
   "cell_type": "markdown",
   "id": "52e44c14-e6c3-43f6-8756-27313a9e530a",
   "metadata": {},
   "source": [
    "### $Z_{k}(\\theta_{1}, \\cdots, \\theta_{k})$\n",
    "we can get general result by mathematical induction\n",
    "\\begin{align*}\n",
    "Z_{k}(\\theta_{1}, \\cdots, \\theta_{k}) &= \\int_{-\\pi}^{\\pi}d\\theta_{k+1}\\cdots d\\theta_{N}\\exp{[-J\\beta(\\cos{(\\theta_{1} - \\theta_{2})} + \\cos{(\\theta_{2} - \\theta_{3})} + \\cdots + \\cos{(\\theta_{N-1} - \\theta_{N})})]} \\\\\n",
    "&= \\Pi_{i=1}^{k-1}\\exp{[-J\\beta\\cos{(\\theta_{i}-\\theta_{i+1})}]}(2\\pi)^{N-(k+1)}[I_{0}(-J\\beta)]^{N-(k+1)}\\int_{-\\pi}^{\\pi}d\\theta\\exp{[-J\\beta\\cos{(\\theta_{k}-\\theta})]},\n",
    "\\end{align*}\n",
    "so we have\n",
    "\\begin{align*}\n",
    "P(\\theta_{k}|\\theta_{k-1},\\cdots,\\theta_{1}) = \\frac{\\exp{[-J\\beta\\cos{(\\theta_{k-1}-\\theta_{k})}]}\\int_{-\\pi}^{\\pi}d\\theta\\exp{[-J\\beta\\cos{(\\theta_{k}-\\theta})]}}{2\\pi I_{0}(-J\\beta)\\int_{-\\pi}^{\\pi}d\\theta\\exp{[-J\\beta\\cos{(\\theta_{k-1}-\\theta})]}}\n",
    "\\end{align*}"
   ]
  },
  {
   "cell_type": "markdown",
   "id": "b30c2e63-9cfd-437c-9377-b3aba377a049",
   "metadata": {
    "tags": []
   },
   "source": [
    "### So the perfect sampling of the 1D XY model (free boundary condition) is as follows,\n",
    "#### 1. Sample $\\theta_{1}$ from \n",
    "\\begin{align}\n",
    "P(\\theta_{1}) =\\frac{\\int_{-\\pi}^{\\pi}d\\theta\\exp{[-J\\beta\\cos{(\\theta_{1}-\\theta})]}}{(2\\pi)^{2} I_{0}(-J\\beta)}\n",
    "\\end{align}\n",
    "\n",
    "#### 2. Sample $\\theta_{k}$ from the following distribution recursively:\n",
    "\\begin{align}\n",
    "P(\\theta_{k}|\\theta_{k-1}, \\cdots, \\theta_{1}) = \\frac{\\exp{[-J\\beta\\cos{(\\theta_{k-1}-\\theta_{k})}]}\\int_{-\\pi}^{\\pi}d\\theta\\exp{[-J\\beta\\cos{(\\theta_{k}-\\theta})]}}{2\\pi I_{0}(-J\\beta)\\int_{-\\pi}^{\\pi}d\\theta\\exp{[-J\\beta\\cos{(\\theta_{k-1}-\\theta})]}}\n",
    "\\end{align}"
   ]
  },
  {
   "cell_type": "markdown",
   "id": "121a2aae-bd5b-4519-8123-3621fcfefbe5",
   "metadata": {},
   "source": [
    "----"
   ]
  },
  {
   "cell_type": "markdown",
   "id": "827ffed1-dd77-4563-a2e8-478ad5656d1f",
   "metadata": {},
   "source": [
    "### Chain Sampling of 1D XY Model"
   ]
  },
  {
   "cell_type": "code",
   "execution_count": 2,
   "id": "9c60d9f1-af92-4cb0-8ed6-7e95d705a90f",
   "metadata": {},
   "outputs": [],
   "source": [
    "import numpy as np\n",
    "import matplotlib.pyplot as plt\n",
    "from tqdm.auto import trange"
   ]
  },
  {
   "cell_type": "code",
   "execution_count": 11,
   "id": "d01694ae-1a6b-49aa-8259-d889f693fdfd",
   "metadata": {},
   "outputs": [],
   "source": [
    "from math import cos, exp, pi\n",
    "from scipy.integrate import quad"
   ]
  },
  {
   "cell_type": "code",
   "execution_count": 12,
   "id": "73a63287-7e90-4140-9ae2-a667e98450bf",
   "metadata": {},
   "outputs": [],
   "source": [
    "from scipy.special import iv\n",
    "from scipy.integrate import quad"
   ]
  },
  {
   "cell_type": "code",
   "execution_count": 190,
   "id": "4bf1e92d-f355-4a32-8f2e-a3637caf4038",
   "metadata": {},
   "outputs": [],
   "source": [
    "class XY_1d_chain_sampling:\n",
    "    \n",
    "    def __init__(self, j=1, beta=1, length=10):\n",
    "        self.j = j\n",
    "        self.beta = beta\n",
    "        self.length = length\n",
    "        self.grids = np.zeros(length)\n",
    "        self.I0_beta = iv(0, -self.beta * self.j)\n",
    "        \n",
    "    def I_beta_estimator(self, theta):\n",
    "        I_theta_k = lambda x: exp(-self.j * self.beta * cos(theta - x))\n",
    "        return I_theta_k\n",
    "    \n",
    "    def pdf_theta_1(self, theta):\n",
    "        z = ((2*pi)**2) * self.I0_beta\n",
    "        I_theta_k = lambda x: exp(-self.j * self.beta * cos(theta - x))\n",
    "        z_theta = quad(I_theta_k, -pi, pi)\n",
    "        return z_theta[0] / z\n",
    "    \n",
    "    def pdf_theta_ij(self, theta_i, theta_j):\n",
    "        zz_ij = lambda x: exp(-self.j * self.beta * (cos(theta_i - x) + cos(theta_i - theta_j)))\n",
    "        z_ij = quad(zz_ij, -pi, pi)\n",
    "        zz_j = lambda x: 2 * pi * self.I0_beta * exp(-self.j * self.beta * cos(theta_j - x))\n",
    "        z_j = quad(zz_j, -pi, pi)\n",
    "        return z_ij[0] / z_j[0]\n",
    "        \n",
    "    def sample_theta_i(self, theta_j):\n",
    "        f_theta = np.random.uniform(0, 1)\n",
    "        pdf_theta_i = lambda theta_i: self.pdf_theta_ij(theta_i, theta_j)\n",
    "        cdf_theta_i = lambda theta: quad(pdf_theta_i, -pi, theta)\n",
    "        theta_sample = self.shooting(f_theta, cdf_theta_i)\n",
    "        \n",
    "        return theta_sample\n",
    "    \n",
    "    def shooting(self, f_tg, cdf, err_thold=1e-5):\n",
    "        theta_left, theta_right = -pi, pi\n",
    "        while True: \n",
    "            theta_mid = (theta_left + theta_right) / 2.0\n",
    "            if cdf(theta_mid)[0] < f_tg - err_thold:\n",
    "                theta_left = theta_mid\n",
    "            elif cdf(theta_mid)[0] > f_tg + err_thold:\n",
    "                theta_right = theta_mid\n",
    "            else:\n",
    "                return theta_mid\n",
    "        \n",
    "    def sample_theta(self):\n",
    "        f_theta = np.random.uniform(0, 1)\n",
    "        cdf_theta = lambda theta: quad(self.pdf_theta_1, -pi, theta)\n",
    "        theta_sample = self.shooting(f_theta, cdf_theta)\n",
    "        \n",
    "        return theta_sample\n",
    "    \n",
    "    def sample_chain(self):\n",
    "        self.grids[0] = self.sample_theta()\n",
    "        for i in range(self.length-1):\n",
    "            self.grids[i] = self.sample_theta_i(self.grids[i-1])\n",
    "        print(\"sampling is done!\")\n",
    "        \n",
    "    def spin_viz(self, figsize=(12, 3), save=False, folder_name=None):\n",
    "        fig = plt.figure(figsize=figsize)\n",
    "        x, y = np.meshgrid(np.arange(0, self.length), 0)\n",
    "        u = np.cos(self.grids)\n",
    "        v = np.sin(self.grids)\n",
    "        q = plt.quiver(x, y, u, v, scale=20, width=0.01, headlength=3, headwidth=2, headaxislength=3, minshaft=3)\n",
    "        plt.axis('off')\n",
    "        plt.title('T={:.3f}, spins={}'.format(1/self.beta, self.length), fontsize=10)\n",
    "        if save and step is not None:\n",
    "            plt.savefig(f'./{folder_name}/config_plot_step_{step}.pdf', dpi=100)\n",
    "            plt.close(fig)\n",
    "            \n",
    "    def energy_compute_grids(self):\n",
    "        energy_total = 0\n",
    "        for i in range(self.length-1):\n",
    "            energy_i = -self.j * np.cos(self.grids[i] - self.grids[i+1])\n",
    "            energy_total += energy_i\n",
    "        return energy_total"
   ]
  },
  {
   "cell_type": "code",
   "execution_count": 191,
   "id": "9a965bca-917f-431d-8531-40deec4afd26",
   "metadata": {},
   "outputs": [],
   "source": [
    "xy_1d = XY_1d_chain_sampling(beta=20, length=20)"
   ]
  },
  {
   "cell_type": "code",
   "execution_count": 192,
   "id": "76ca6f47-4be0-4cc8-a0d8-4c8e3841e12c",
   "metadata": {},
   "outputs": [],
   "source": [
    "theta_j = xy_1d.sample_theta()"
   ]
  },
  {
   "cell_type": "code",
   "execution_count": 193,
   "id": "3ba45eaf-1fcd-450d-8cc2-188fb0918a35",
   "metadata": {},
   "outputs": [
    {
     "name": "stdout",
     "output_type": "stream",
     "text": [
      "sampling is done!\n"
     ]
    }
   ],
   "source": [
    "xy_1d.sample_chain()"
   ]
  },
  {
   "cell_type": "code",
   "execution_count": 194,
   "id": "dae34765-f97e-4ee5-920b-6cba7034f1f3",
   "metadata": {},
   "outputs": [
    {
     "data": {
      "image/png": "[encoded data removed]",
      "text/plain": [
       "<Figure size 864x216 with 1 Axes>"
      ]
     },
     "metadata": {
      "needs_background": "light"
     },
     "output_type": "display_data"
    }
   ],
   "source": [
    "xy_1d.spin_viz()"
   ]
  },
  {
   "cell_type": "code",
   "execution_count": 195,
   "id": "669af812-eb48-4afa-9287-2eeac6039c4c",
   "metadata": {},
   "outputs": [
    {
     "name": "stdout",
     "output_type": "stream",
     "text": [
      "The energy of the system is: 16.207.\n"
     ]
    }
   ],
   "source": [
    "print(f\"The energy of the system is: {xy_1d.energy_compute_grids():.3f}.\")"
   ]
  },
  {
   "cell_type": "code",
   "execution_count": null,
   "id": "dbb39093-b352-4854-ad83-0e3809c69d8e",
   "metadata": {},
   "outputs": [],
   "source": []
  }
 ],
 "metadata": {
  "kernelspec": {
   "display_name": "Python 3 (ipykernel)",
   "language": "python",
   "name": "python3"
  },
  "language_info": {
   "codemirror_mode": {
    "name": "ipython",
    "version": 3
   },
   "file_extension": ".py",
   "mimetype": "text/x-python",
   "name": "python",
   "nbconvert_exporter": "python",
   "pygments_lexer": "ipython3",
   "version": "3.9.7"
  }
 },
 "nbformat": 4,
 "nbformat_minor": 5
}
