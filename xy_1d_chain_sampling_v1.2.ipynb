{
 "cells": [
  {
   "cell_type": "markdown",
   "id": "97f5832c-b703-4284-b959-3eab5f0dc7d6",
   "metadata": {
    "tags": []
   },
   "source": [
    "# Perfect sampling on 1d XY model "
   ]
  },
  {
   "cell_type": "markdown",
   "id": "b7a8ccbd-2fe9-4fc8-9a46-537f3c0467bb",
   "metadata": {},
   "source": [
    "## Hamiltonian\n",
    "\\begin{align}\n",
    "H = -\\sum_{<ij>}J_{ij}S_{i}\\cdot S_{j} = -J\\sum_{i=1}^{N-1}\\cos{(\\theta_{i}-\\theta_{i+1})}，\n",
    "\\end{align}\n",
    "where $N$ is the number of spins and we assume $J_{ij} = J$."
   ]
  },
  {
   "cell_type": "markdown",
   "id": "2b62e708-eeaf-4c84-8bb8-396f07dc38f1",
   "metadata": {},
   "source": [
    "## 1. Free bounday condition\n",
    "\n",
    "### Partition function：\n",
    "\\begin{align}\n",
    "Z = (2\\pi)^{N}[I_{0}(\\beta J)]^{N-1}\n",
    "\\end{align}\n",
    "\n",
    "### $Z_{1}$:\n",
    "\\begin{align}\n",
    "Z_{1}(\\theta_{1}) &= \\int_{-\\pi}^{\\pi}d\\theta_{2}\\cdots d\\theta_{N}\\exp{[\\beta J(\\cos{(\\theta_{1} - \\theta_{2})} + \\cos{(\\theta_{2} - \\theta_{3})} + \\cdots + \\cos{(\\theta_{N-1} - \\theta_{N})})]}\\\\\n",
    "&=(2\\pi)^{N-2}[I_{0}(\\beta J)]^{N-2}\\int_{-\\pi}^{\\pi}d\\theta_{2}\\exp{[\\beta J\\cos{(\\theta_{1}-\\theta_{2}})]}, \n",
    "\\end{align}\n",
    "then we get\n",
    "\\begin{align}\n",
    "P(\\theta_{1}) &= \\frac{Z_{1}(\\theta_{1})}{Z} = \\frac{\\int_{-\\pi}^{\\pi}d\\theta\\exp{[\\beta J\\cos{(\\theta_{1}-\\theta})]}}{(2\\pi)^{2} I_{0}(\\beta J)}\\\\\n",
    "&=\\frac{1}{2\\pi}.\n",
    "\\end{align}"
   ]
  },
  {
   "cell_type": "markdown",
   "id": "ed30c228-3375-474d-805e-0846bbfb756b",
   "metadata": {},
   "source": [
    "### $Z_{2}(\\theta_{1}, \\theta_{2})$:\n",
    "\\begin{align*}\n",
    "Z_{2}(\\theta_{1}, \\theta_{2}) &= \\int_{-\\pi}^{\\pi}d\\theta_{3}\\cdots d\\theta_{N}\\exp{[\\beta J(\\cos{(\\theta_{1} - \\theta_{2})} + \\cos{(\\theta_{2} - \\theta_{3})} + \\cdots + \\cos{(\\theta_{N-1} - \\theta_{N})})]} \\\\\n",
    "&=\\exp{[\\beta J\\cos{(\\theta_{1}-\\theta_{2})}]}(2\\pi)^{N-3}[I_{0}(\\beta J)]^{N-3}\\int_{-\\pi}^{\\pi}d\\theta\\exp{[\\beta J\\cos{(\\theta_{2}-\\theta})]},\n",
    "\\end{align*}\n",
    "then we get\n",
    "\\begin{align}\n",
    "P(\\theta_{2}|\\theta_{1}) &= \\frac{Z_{2}(\\theta_{1}, \\theta_{2})}{Z_{1}(\\theta_{1})}\\\\\n",
    "&=\\frac{\\exp{[\\beta J\\cos{(\\theta_{1}-\\theta_{2})}]}\\int_{-\\pi}^{\\pi}d\\theta\\exp{[\\beta J\\cos{(\\theta_{2}-\\theta})]}}{2\\pi I_{0}(\\beta J)\\int_{-\\pi}^{\\pi}d\\theta\\exp{[\\beta J\\cos{(\\theta_{1}-\\theta})]}} \\\\\n",
    "&=\\frac{\\exp{[\\beta J\\cos{(\\theta_{1}-\\theta_{2})}]}}{2\\pi I_{0}(\\beta J)}\n",
    "\\end{align}"
   ]
  },
  {
   "cell_type": "markdown",
   "id": "52e44c14-e6c3-43f6-8756-27313a9e530a",
   "metadata": {},
   "source": [
    "### $Z_{k}(\\theta_{1}, \\cdots, \\theta_{k})$\n",
    "we can get general result by mathematical induction\n",
    "\\begin{align*}\n",
    "Z_{k}(\\theta_{1}, \\cdots, \\theta_{k}) &= \\int_{-\\pi}^{\\pi}d\\theta_{k+1}\\cdots d\\theta_{N}\\exp{[\\beta J(\\cos{(\\theta_{1} - \\theta_{2})} + \\cos{(\\theta_{2} - \\theta_{3})} + \\cdots + \\cos{(\\theta_{N-1} - \\theta_{N})})]} \\\\\n",
    "&= \\Pi_{i=1}^{k-1}\\exp{[\\beta J\\cos{(\\theta_{i}-\\theta_{i+1})}]}(2\\pi)^{N-(k+1)}[I_{0}(-J\\beta)]^{N-(k+1)}\\int_{-\\pi}^{\\pi}d\\theta\\exp{[\\beta J\\cos{(\\theta_{k}-\\theta})]},\n",
    "\\end{align*}\n",
    "so we have\n",
    "\\begin{align*}\n",
    "P(\\theta_{k}|\\theta_{k-1},\\cdots,\\theta_{1}) &= \\frac{\\exp{[\\beta J\\cos{(\\theta_{k-1}-\\theta_{k})}]}\\int_{-\\pi}^{\\pi}d\\theta\\exp{[\\beta J\\cos{(\\theta_{k}-\\theta})]}}{2\\pi I_{0}(\\beta J)\\int_{-\\pi}^{\\pi}d\\theta\\exp{[\\beta J\\cos{(\\theta_{k-1}-\\theta})]}} \\\\\n",
    "&=\\frac{\\exp{[\\beta J\\cos{(\\theta_{k-1}-\\theta_{k})}]}}{2\\pi I_{0}(\\beta J)}\n",
    "\\end{align*}"
   ]
  },
  {
   "cell_type": "markdown",
   "id": "b30c2e63-9cfd-437c-9377-b3aba377a049",
   "metadata": {
    "tags": []
   },
   "source": [
    "### So the perfect sampling of the 1D XY model (free boundary condition) is as follows,\n",
    "#### 1. Sample $\\theta_{1}$ from \n",
    "\\begin{align}\n",
    "P(\\theta_{1}) = \\frac{1}{2\\pi},\n",
    "\\end{align}\n",
    "\n",
    "#### 2. Sample $\\theta_{k}$ from the following distribution recursively:\n",
    "\\begin{align}\n",
    "P(\\theta_{k}|\\theta_{k-1}, \\cdots, \\theta_{1}) = \\frac{\\exp{[\\beta J\\cos{(\\theta_{k-1}-\\theta_{k})}]}}{2\\pi I_{0}(\\beta J)}.\n",
    "\\end{align}"
   ]
  },
  {
   "cell_type": "markdown",
   "id": "121a2aae-bd5b-4519-8123-3621fcfefbe5",
   "metadata": {},
   "source": [
    "----"
   ]
  },
  {
   "cell_type": "markdown",
   "id": "827ffed1-dd77-4563-a2e8-478ad5656d1f",
   "metadata": {},
   "source": [
    "### Chain Sampling of 1D XY Model"
   ]
  },
  {
   "cell_type": "code",
   "execution_count": 1,
   "id": "9c60d9f1-af92-4cb0-8ed6-7e95d705a90f",
   "metadata": {},
   "outputs": [],
   "source": [
    "import numpy as np\n",
    "import matplotlib.pyplot as plt\n",
    "from tqdm.auto import trange\n",
    "import time"
   ]
  },
  {
   "cell_type": "code",
   "execution_count": 2,
   "id": "d01694ae-1a6b-49aa-8259-d889f693fdfd",
   "metadata": {},
   "outputs": [],
   "source": [
    "from math import cos, exp, pi\n",
    "from scipy.integrate import quad"
   ]
  },
  {
   "cell_type": "code",
   "execution_count": 3,
   "id": "73a63287-7e90-4140-9ae2-a667e98450bf",
   "metadata": {},
   "outputs": [],
   "source": [
    "from scipy.special import iv\n",
    "from scipy.integrate import quad"
   ]
  },
  {
   "cell_type": "code",
   "execution_count": 4,
   "id": "7d0051ec-210e-4f87-acc5-1ad718c064f4",
   "metadata": {},
   "outputs": [],
   "source": [
    "from sympy.solvers import solve\n",
    "from sympy import Symbol"
   ]
  },
  {
   "cell_type": "code",
   "execution_count": 5,
   "id": "eea625cf-fceb-437d-bc8b-dcb02569769f",
   "metadata": {},
   "outputs": [],
   "source": [
    "import timeout_decorator"
   ]
  },
  {
   "cell_type": "code",
   "execution_count": 23,
   "id": "4bf1e92d-f355-4a32-8f2e-a3637caf4038",
   "metadata": {},
   "outputs": [],
   "source": [
    "class XY_1d_chain_sampling:\n",
    "    \n",
    "    def __init__(self, j=1, beta=1, length=10, n=500, err_thold=1e-10):\n",
    "        self.j = j\n",
    "        self.beta = beta\n",
    "        self.length = length\n",
    "        self.grids = np.zeros(length)\n",
    "        self.I0_beta = iv(0, self.beta * self.j)\n",
    "        self.err_thold = err_thold\n",
    "        self.n = n\n",
    "        self.aux_init()\n",
    "        \n",
    "    def aux_init(self):\n",
    "        self.aux_vec = np.zeros(self.n)\n",
    "        bj = self.beta * self.j\n",
    "        for i in range(self.n):\n",
    "            self.aux_vec[i] = iv(i+1, bj) / (np.pi * self.I0_beta * (i+1))\n",
    "    \n",
    "    def cdf_theta_i(self, theta_i, theta_j):\n",
    "        n_vec = np.arange(1, self.n+1)\n",
    "        aux_vec_x = np.sin(n_vec * (theta_i - theta_j)) + ((-1) ** n_vec) * np.sin(n_vec * theta_j)\n",
    "        F_i = self.aux_vec.dot(aux_vec_x) + 1/2 + theta_i / (2 * pi)   \n",
    "        return F_i\n",
    "    \n",
    "    def cdf_theta_i_create(self, theta_j):\n",
    "        cdf_theta_i = lambda theta_i: self.cdf_theta_i(theta_i, theta_j)\n",
    "        return cdf_theta_i\n",
    "        \n",
    "    def sample_theta_i(self, theta_j):\n",
    "        f_theta = np.random.uniform(0, 1)\n",
    "        cdf_theta_i = self.cdf_theta_i_create(theta_j)\n",
    "        theta_sample = self.shooting(f_theta, cdf_theta_i)\n",
    "        \n",
    "        return theta_sample\n",
    "    \n",
    "    #def _sample_theta_i(self, theta_j):\n",
    "    #    def cdf_theta_i(theta_i, theta_j):\n",
    "    #        n_vec = np.arange(1, self.n+1)\n",
    "    #        aux_vec_x = np.sin(n_vec * (theta_i - theta_j)) + ((-1) ** n_vec) * np.sin(n_vec * theta_j)\n",
    "    #        F_i = self.aux_vec.dot(aux_vec_x) + 1/2 + theta_i / (2 * pi)   \n",
    "    #        return F_i\n",
    "    #    f_theta = np.random.uniform(0, 1)\n",
    "    #    theta_i = Symbol('theta_i')        \n",
    "    #    cdf_theta_i = cdf_theta_i(theta_i, theta_j)\n",
    "    #    cdf_theta_i_equ = cdf_theta_i - f_theta\n",
    "    #    theta_sample = solve(cdf_theta_i_equ, theta_i)\n",
    "        \n",
    "    #    return theta_sample\n",
    "    \n",
    "    def shooting(self, f_tg, cdf):\n",
    "        theta_left, theta_right = -pi, pi\n",
    "        while True: \n",
    "            theta_mid = (theta_left + theta_right) / 2.0\n",
    "            if cdf(theta_mid) < f_tg - self.err_thold:\n",
    "                theta_left = theta_mid\n",
    "            elif cdf(theta_mid) > f_tg + self.err_thold:\n",
    "                theta_right = theta_mid\n",
    "            else:\n",
    "                return theta_mid\n",
    "        \n",
    "    def sample_theta(self):\n",
    "        theta_sample = np.random.uniform(-pi, pi)\n",
    "        return theta_sample\n",
    "    \n",
    "    def sample_chain(self):\n",
    "        self.grids[0] = self.sample_theta()\n",
    "        for i in range(1, self.length):\n",
    "            self.grids[i] = self.sample_theta_i(self.grids[i-1])\n",
    "        #print(\"sampling is done!\")\n",
    "        \n",
    "    def spin_viz(self, figsize=(12, 3), save=False, folder_name=None):\n",
    "        fig = plt.figure(figsize=figsize)\n",
    "        x, y = np.meshgrid(np.arange(0, self.length), 0)\n",
    "        u = np.cos(self.grids)\n",
    "        v = np.sin(self.grids)\n",
    "        q = plt.quiver(x, y, u, v, scale=20, width=0.01, headlength=3, headwidth=2, headaxislength=3, minshaft=3)\n",
    "        plt.axis('off')\n",
    "        plt.title('T={:.3f}, spins={}'.format(1/self.beta, self.length), fontsize=20)\n",
    "        if save and step is not None:\n",
    "            plt.savefig(f'./{folder_name}/config_plot_step_{step}.pdf', dpi=100)\n",
    "            plt.close(fig)\n",
    "            \n",
    "    def energy_compute_grids(self):\n",
    "        energy_total = 0\n",
    "        for i in range(self.length-1):\n",
    "            energy_i = -self.j * np.cos(self.grids[i] - self.grids[i+1])\n",
    "            energy_total += energy_i\n",
    "        return energy_total\n",
    "    \n",
    "    def magnet_grids(self):\n",
    "        magnet_x, magnet_y = 0, 0\n",
    "        for i in range(self.length):\n",
    "            magnet_x += np.sin(self.grids[i])\n",
    "            magnet_y += np.cos(self.grids[i])\n",
    "        return magnet_x, magnet_y"
   ]
  },
  {
   "cell_type": "code",
   "execution_count": 22,
   "id": "9a965bca-917f-431d-8531-40deec4afd26",
   "metadata": {},
   "outputs": [],
   "source": [
    "xy_1d = XY_1d_chain_sampling(beta=10, j=1, length=10, err_thold=1e-10, n=500)"
   ]
  },
  {
   "cell_type": "code",
   "execution_count": 24,
   "id": "c0bd0de1-791b-4788-8d96-d798a800c26a",
   "metadata": {},
   "outputs": [],
   "source": [
    "xy_1d.sample_chain()"
   ]
  },
  {
   "cell_type": "code",
   "execution_count": 26,
   "id": "dae34765-f97e-4ee5-920b-6cba7034f1f3",
   "metadata": {},
   "outputs": [
    {
     "data": {
      "image/png": "[encoded data removed]",
      "text/plain": [
       "<Figure size 864x216 with 1 Axes>"
      ]
     },
     "metadata": {
      "needs_background": "light"
     },
     "output_type": "display_data"
    }
   ],
   "source": [
    "xy_1d.spin_viz()"
   ]
  },
  {
   "cell_type": "code",
   "execution_count": 14,
   "id": "669af812-eb48-4afa-9287-2eeac6039c4c",
   "metadata": {},
   "outputs": [
    {
     "name": "stdout",
     "output_type": "stream",
     "text": [
      "The energy of the system is: -7.201.\n"
     ]
    }
   ],
   "source": [
    "print(f\"The energy of the system is: {xy_1d.energy_compute_grids():.3f}.\")"
   ]
  },
  {
   "cell_type": "markdown",
   "id": "e54522bd-a297-4194-8538-87f9c78ef822",
   "metadata": {},
   "source": [
    "------"
   ]
  },
  {
   "cell_type": "code",
   "execution_count": 225,
   "id": "68db6b75-61b1-4685-b4b6-4509ded55958",
   "metadata": {},
   "outputs": [],
   "source": [
    "xy_1d = XY_1d_chain_sampling(beta=600, j=1, length=10, err_thold=1e-10, n=500)"
   ]
  },
  {
   "cell_type": "code",
   "execution_count": 226,
   "id": "e765a43a-04a6-4eaf-874f-0ca9d995fffd",
   "metadata": {},
   "outputs": [
    {
     "data": {
      "application/vnd.jupyter.widget-view+json": {
       "model_id": "e9224790cd174a4497d922f1e0afd0f3",
       "version_major": 2,
       "version_minor": 0
      },
      "text/plain": [
       "  0%|          | 0/1000 [00:00<?, ?it/s]"
      ]
     },
     "metadata": {},
     "output_type": "display_data"
    },
    {
     "name": "stdout",
     "output_type": "stream",
     "text": [
      "iterations are done!\n"
     ]
    }
   ],
   "source": [
    "### sampling stage\n",
    "energy_list = []\n",
    "for i in trange(1000):\n",
    "    xy_1d.sample_chain()\n",
    "    energy_list.append(xy_1d.energy_compute_grids())\n",
    "print(\"iterations are done!\")"
   ]
  },
  {
   "cell_type": "code",
   "execution_count": 227,
   "id": "5412cab6-5feb-4611-a59b-48628b9a85e0",
   "metadata": {},
   "outputs": [
    {
     "data": {
      "text/plain": [
       "-8.986127919443597"
      ]
     },
     "execution_count": 227,
     "metadata": {},
     "output_type": "execute_result"
    }
   ],
   "source": [
    "np.mean(energy_list)"
   ]
  },
  {
   "cell_type": "code",
   "execution_count": 228,
   "id": "01d14219-6043-4b5c-bb8b-a57c714155c3",
   "metadata": {},
   "outputs": [
    {
     "data": {
      "text/plain": [
       "0.011413505066775867"
      ]
     },
     "execution_count": 228,
     "metadata": {},
     "output_type": "execute_result"
    }
   ],
   "source": [
    "np.std(energy_list)"
   ]
  },
  {
   "cell_type": "code",
   "execution_count": 229,
   "id": "0d670643-57d2-41c4-9722-492530d4f1cc",
   "metadata": {},
   "outputs": [],
   "source": [
    "beta_list = [i * 100 for i in range(5, 0, -1)]"
   ]
  },
  {
   "cell_type": "code",
   "execution_count": 232,
   "id": "c69b6507-ffd0-4915-a262-dc4e3e1a3c86",
   "metadata": {},
   "outputs": [
    {
     "data": {
      "application/vnd.jupyter.widget-view+json": {
       "model_id": "df032b7c72524388b8f5cff250d1e00c",
       "version_major": 2,
       "version_minor": 0
      },
      "text/plain": [
       "  0%|          | 0/5 [00:00<?, ?it/s]"
      ]
     },
     "metadata": {},
     "output_type": "display_data"
    },
    {
     "data": {
      "application/vnd.jupyter.widget-view+json": {
       "model_id": "b6c7f241f0414efc8dca648f59e78670",
       "version_major": 2,
       "version_minor": 0
      },
      "text/plain": [
       "  0%|          | 0/10000 [00:00<?, ?it/s]"
      ]
     },
     "metadata": {},
     "output_type": "display_data"
    },
    {
     "name": "stdout",
     "output_type": "stream",
     "text": [
      "iterations are done!\n"
     ]
    },
    {
     "data": {
      "application/vnd.jupyter.widget-view+json": {
       "model_id": "75ae58585ca1413e8b904bd53ef310bc",
       "version_major": 2,
       "version_minor": 0
      },
      "text/plain": [
       "  0%|          | 0/10000 [00:00<?, ?it/s]"
      ]
     },
     "metadata": {},
     "output_type": "display_data"
    },
    {
     "name": "stdout",
     "output_type": "stream",
     "text": [
      "iterations are done!\n"
     ]
    },
    {
     "data": {
      "application/vnd.jupyter.widget-view+json": {
       "model_id": "e553edfbf253458c831c06ae9e7b7c3c",
       "version_major": 2,
       "version_minor": 0
      },
      "text/plain": [
       "  0%|          | 0/10000 [00:00<?, ?it/s]"
      ]
     },
     "metadata": {},
     "output_type": "display_data"
    },
    {
     "name": "stdout",
     "output_type": "stream",
     "text": [
      "iterations are done!\n"
     ]
    },
    {
     "data": {
      "application/vnd.jupyter.widget-view+json": {
       "model_id": "e94205808c7c4cb99b72c54cc655cff3",
       "version_major": 2,
       "version_minor": 0
      },
      "text/plain": [
       "  0%|          | 0/10000 [00:00<?, ?it/s]"
      ]
     },
     "metadata": {},
     "output_type": "display_data"
    },
    {
     "name": "stdout",
     "output_type": "stream",
     "text": [
      "iterations are done!\n"
     ]
    },
    {
     "data": {
      "application/vnd.jupyter.widget-view+json": {
       "model_id": "059a1297d0e3415c84ff0ef9e3c01246",
       "version_major": 2,
       "version_minor": 0
      },
      "text/plain": [
       "  0%|          | 0/10000 [00:00<?, ?it/s]"
      ]
     },
     "metadata": {},
     "output_type": "display_data"
    },
    {
     "name": "stdout",
     "output_type": "stream",
     "text": [
      "iterations are done!\n"
     ]
    }
   ],
   "source": [
    "mean_sampling_list = []\n",
    "std_sampling_list = []\n",
    "for i in trange(5):\n",
    "    beta = beta_list[i]\n",
    "    length = 10\n",
    "    xy_1d = XY_1d_chain_sampling(beta=beta, j=1, length=10, err_thold=1e-10, n=500)\n",
    "    # firing stage\n",
    "    ### sampling stage\n",
    "    energy_list = []\n",
    "    for i in trange(10000):\n",
    "        xy_1d.sample_chain()\n",
    "        energy_list.append(xy_1d.energy_compute_grids())\n",
    "    print(\"iterations are done!\")\n",
    "    mean_sampling_list.append(np.mean(energy_list))\n",
    "    std_sampling_list.append(np.std(energy_list))"
   ]
  },
  {
   "cell_type": "code",
   "execution_count": 233,
   "id": "0f3f4240-b6ba-424f-bad7-5155302871a6",
   "metadata": {},
   "outputs": [
    {
     "data": {
      "text/plain": [
       "[-8.982870416533498,\n",
       " -8.979101665691132,\n",
       " -8.972049695276205,\n",
       " -8.957356562339559,\n",
       " -8.916173201876314]"
      ]
     },
     "execution_count": 233,
     "metadata": {},
     "output_type": "execute_result"
    }
   ],
   "source": [
    "mean_sampling_list"
   ]
  },
  {
   "cell_type": "markdown",
   "id": "05005b1e-a531-433e-8be5-221b89574e12",
   "metadata": {},
   "source": [
    "### low temperature limit (size = 20)"
   ]
  },
  {
   "cell_type": "code",
   "execution_count": 220,
   "id": "25bf6b8b-5503-475a-b932-19b1b7524125",
   "metadata": {},
   "outputs": [],
   "source": [
    "xy_1d = XY_1d_chain_sampling(beta=100, j=1, length=20, err_thold=1e-10, n=500)"
   ]
  },
  {
   "cell_type": "code",
   "execution_count": 224,
   "id": "adfa2dc4-04c4-4586-ae1f-14cc99aea0e0",
   "metadata": {},
   "outputs": [
    {
     "data": {
      "application/vnd.jupyter.widget-view+json": {
       "model_id": "ab7b7012d4a84c10867fb35503acce00",
       "version_major": 2,
       "version_minor": 0
      },
      "text/plain": [
       "  0%|          | 0/5000 [00:00<?, ?it/s]"
      ]
     },
     "metadata": {},
     "output_type": "display_data"
    },
    {
     "name": "stdout",
     "output_type": "stream",
     "text": [
      "iterations are done!\n"
     ]
    }
   ],
   "source": [
    "### sampling stage\n",
    "energy_list = []\n",
    "for i in trange(5000):\n",
    "    xy_1d.sample_chain()\n",
    "    energy_list.append(xy_1d.energy_compute_grids())\n",
    "print(\"iterations are done!\")"
   ]
  },
  {
   "cell_type": "code",
   "execution_count": 222,
   "id": "0de53998-9e9a-4206-9266-a888777b5bf8",
   "metadata": {},
   "outputs": [
    {
     "data": {
      "text/plain": [
       "-8.912329020226176"
      ]
     },
     "execution_count": 222,
     "metadata": {},
     "output_type": "execute_result"
    }
   ],
   "source": [
    "np.mean(energy_list)"
   ]
  },
  {
   "cell_type": "code",
   "execution_count": 223,
   "id": "0b9161ad-3fc6-4171-8a27-225379f8d5aa",
   "metadata": {},
   "outputs": [
    {
     "data": {
      "text/plain": [
       "0.07145655639864504"
      ]
     },
     "execution_count": 223,
     "metadata": {},
     "output_type": "execute_result"
    }
   ],
   "source": [
    "np.std(energy_list)"
   ]
  },
  {
   "cell_type": "code",
   "execution_count": 27,
   "id": "ad2d5486-397f-4db7-a4c1-fd831f45255d",
   "metadata": {},
   "outputs": [
    {
     "data": {
      "image/png": "[encoded data removed]",
      "text/plain": [
       "<Figure size 864x216 with 1 Axes>"
      ]
     },
     "metadata": {
      "needs_background": "light"
     },
     "output_type": "display_data"
    }
   ],
   "source": [
    "xy_1d.spin_viz()"
   ]
  },
  {
   "cell_type": "code",
   "execution_count": 28,
   "id": "6c3c333e-5688-42fe-b9fa-172643159086",
   "metadata": {},
   "outputs": [
    {
     "name": "stdout",
     "output_type": "stream",
     "text": [
      "The energy of the system is: -18.871.\n"
     ]
    }
   ],
   "source": [
    "print(f\"The energy of the system is: {xy_1d.energy_compute_grids():.3f}.\")"
   ]
  },
  {
   "cell_type": "markdown",
   "id": "31e5bbce-af6b-4f4a-9d91-7a5c31cc6262",
   "metadata": {},
   "source": [
    "### low temperature limit (size = 10)"
   ]
  },
  {
   "cell_type": "code",
   "execution_count": 29,
   "id": "1689427a-c358-4f41-a9e1-4583cd6c5f97",
   "metadata": {},
   "outputs": [],
   "source": [
    "xy_1d = XY_1d_chain_sampling(beta=100, j=1, length=10)"
   ]
  },
  {
   "cell_type": "code",
   "execution_count": 30,
   "id": "5d749d1f-34ac-4684-81e9-7e93a735a997",
   "metadata": {},
   "outputs": [
    {
     "name": "stdout",
     "output_type": "stream",
     "text": [
      "sampling is done!\n"
     ]
    }
   ],
   "source": [
    "xy_1d.sample_chain()"
   ]
  },
  {
   "cell_type": "code",
   "execution_count": 31,
   "id": "e2322dc4-20e6-4c6c-aa3a-14a66a62c522",
   "metadata": {},
   "outputs": [
    {
     "data": {
      "image/png": "[encoded data removed]",
      "text/plain": [
       "<Figure size 864x216 with 1 Axes>"
      ]
     },
     "metadata": {
      "needs_background": "light"
     },
     "output_type": "display_data"
    }
   ],
   "source": [
    "xy_1d.spin_viz()"
   ]
  },
  {
   "cell_type": "code",
   "execution_count": 32,
   "id": "9153ac2f-7050-4701-8555-d7bf80e66b10",
   "metadata": {},
   "outputs": [
    {
     "name": "stdout",
     "output_type": "stream",
     "text": [
      "The energy of the system is: -8.931.\n"
     ]
    }
   ],
   "source": [
    "print(f\"The energy of the system is: {xy_1d.energy_compute_grids():.3f}.\")"
   ]
  },
  {
   "cell_type": "markdown",
   "id": "249d5748-49d1-4996-ae71-24671be22257",
   "metadata": {},
   "source": [
    "### low temperature limit (size = 5)"
   ]
  },
  {
   "cell_type": "code",
   "execution_count": 33,
   "id": "a31651f2-36a6-4dc5-b82d-12070752a887",
   "metadata": {},
   "outputs": [],
   "source": [
    "xy_1d = XY_1d_chain_sampling(beta=100, j=1, length=5)"
   ]
  },
  {
   "cell_type": "code",
   "execution_count": 34,
   "id": "97020d5e-87f5-431d-baaa-b855c6763b7b",
   "metadata": {},
   "outputs": [
    {
     "name": "stdout",
     "output_type": "stream",
     "text": [
      "sampling is done!\n"
     ]
    }
   ],
   "source": [
    "xy_1d.sample_chain()"
   ]
  },
  {
   "cell_type": "code",
   "execution_count": 35,
   "id": "09ae8d30-6e48-4e8b-b5de-2b9b948afc76",
   "metadata": {},
   "outputs": [
    {
     "data": {
      "image/png": "[encoded data removed]",
      "text/plain": [
       "<Figure size 864x216 with 1 Axes>"
      ]
     },
     "metadata": {
      "needs_background": "light"
     },
     "output_type": "display_data"
    }
   ],
   "source": [
    "xy_1d.spin_viz()"
   ]
  },
  {
   "cell_type": "code",
   "execution_count": 36,
   "id": "796c4984-e1f0-49c9-a336-22f3b8b9f8a2",
   "metadata": {},
   "outputs": [
    {
     "name": "stdout",
     "output_type": "stream",
     "text": [
      "The energy of the system is: -3.977.\n"
     ]
    }
   ],
   "source": [
    "print(f\"The energy of the system is: {xy_1d.energy_compute_grids():.3f}.\")"
   ]
  },
  {
   "cell_type": "markdown",
   "id": "57b09ad4-f77d-4dee-a1cc-274fdc71e443",
   "metadata": {},
   "source": [
    "### Beta = 200"
   ]
  },
  {
   "cell_type": "code",
   "execution_count": 41,
   "id": "8b01859c-d61d-4b32-8aab-d73d5ee39f25",
   "metadata": {},
   "outputs": [],
   "source": [
    "# initialize the 1d xy model\n",
    "xy_1d = XY_1d_chain_sampling(beta=200, j=1, length=10)"
   ]
  },
  {
   "cell_type": "code",
   "execution_count": 42,
   "id": "77a39066-8e22-48dc-9a52-aeb5c465ea91",
   "metadata": {},
   "outputs": [
    {
     "name": "stdout",
     "output_type": "stream",
     "text": [
      "sampling is done!\n"
     ]
    }
   ],
   "source": [
    "time_start = time.time()\n",
    "xy_1d.sample_chain()\n",
    "time_end = time.time()\n",
    "print('it costs us: {time_end - time_start}.')"
   ]
  },
  {
   "cell_type": "code",
   "execution_count": 43,
   "id": "87ed2f5a-bec8-4696-a931-4ead5310874e",
   "metadata": {},
   "outputs": [
    {
     "data": {
      "image/png": "[encoded data removed]",
      "text/plain": [
       "<Figure size 864x216 with 1 Axes>"
      ]
     },
     "metadata": {
      "needs_background": "light"
     },
     "output_type": "display_data"
    }
   ],
   "source": [
    "xy_1d.spin_viz()"
   ]
  },
  {
   "cell_type": "code",
   "execution_count": 44,
   "id": "3bbd9ef6-3c53-4e25-8e55-e317a60124df",
   "metadata": {},
   "outputs": [
    {
     "name": "stdout",
     "output_type": "stream",
     "text": [
      "The energy of the system is: -8.958.\n"
     ]
    }
   ],
   "source": [
    "print(f\"The energy of the system is: {xy_1d.energy_compute_grids():.3f}.\")"
   ]
  },
  {
   "cell_type": "code",
   "execution_count": 53,
   "id": "3495b25c-ba7a-46d2-90e3-b013f2105318",
   "metadata": {},
   "outputs": [],
   "source": [
    "# initialize the 1d xy model\n",
    "xy_1d = XY_1d_chain_sampling(beta=350, j=1, length=10)"
   ]
  },
  {
   "cell_type": "code",
   "execution_count": 55,
   "id": "9039dbb5-484f-4efb-9df3-72b86896381c",
   "metadata": {},
   "outputs": [
    {
     "name": "stdout",
     "output_type": "stream",
     "text": [
      "sampling is done!\n",
      "it costs us: 108.03134369850159.\n"
     ]
    }
   ],
   "source": [
    "time_start = time.time()\n",
    "xy_1d.sample_chain()\n",
    "time_end = time.time()\n",
    "print(f'it costs us: {time_end - time_start}.')"
   ]
  },
  {
   "cell_type": "code",
   "execution_count": 56,
   "id": "d154ef03-c341-4a92-96d6-6170d2e94e79",
   "metadata": {},
   "outputs": [
    {
     "data": {
      "image/png": "[encoded data removed]",
      "text/plain": [
       "<Figure size 864x216 with 1 Axes>"
      ]
     },
     "metadata": {
      "needs_background": "light"
     },
     "output_type": "display_data"
    }
   ],
   "source": [
    "xy_1d.spin_viz()"
   ]
  },
  {
   "cell_type": "markdown",
   "id": "edf90705-fef6-4f65-9725-632141675ecd",
   "metadata": {},
   "source": [
    "-------\n",
    "### Compute the Energy of the system at different temperatures"
   ]
  },
  {
   "cell_type": "code",
   "execution_count": 27,
   "id": "dac869e7-5341-413f-9e7e-d2dfeeea6a21",
   "metadata": {},
   "outputs": [],
   "source": [
    "temp_list = [0.1 + 0.5 * i for i in range(10)]\n",
    "beta_list = [1 / temp for temp in temp_list]\n",
    "length = 5"
   ]
  },
  {
   "cell_type": "code",
   "execution_count": 28,
   "id": "0ca6deb2-cc58-4818-a3b9-be83b0b32fba",
   "metadata": {},
   "outputs": [
    {
     "data": {
      "application/vnd.jupyter.widget-view+json": {
       "model_id": "468b9027ee594fa690490644dc951f23",
       "version_major": 2,
       "version_minor": 0
      },
      "text/plain": [
       "  0%|          | 0/10 [00:00<?, ?it/s]"
      ]
     },
     "metadata": {},
     "output_type": "display_data"
    },
    {
     "data": {
      "application/vnd.jupyter.widget-view+json": {
       "model_id": "e609f5e41f8d46c58b38157ab37cfd97",
       "version_major": 2,
       "version_minor": 0
      },
      "text/plain": [
       "  0%|          | 0/10000 [00:00<?, ?it/s]"
      ]
     },
     "metadata": {},
     "output_type": "display_data"
    },
    {
     "name": "stdout",
     "output_type": "stream",
     "text": [
      "iterations of beta=10.0 are done!\n"
     ]
    },
    {
     "data": {
      "application/vnd.jupyter.widget-view+json": {
       "model_id": "99bc2e381e974e799207044eb05fa9e4",
       "version_major": 2,
       "version_minor": 0
      },
      "text/plain": [
       "  0%|          | 0/10000 [00:00<?, ?it/s]"
      ]
     },
     "metadata": {},
     "output_type": "display_data"
    },
    {
     "name": "stdout",
     "output_type": "stream",
     "text": [
      "iterations of beta=1.6666666666666667 are done!\n"
     ]
    },
    {
     "data": {
      "application/vnd.jupyter.widget-view+json": {
       "model_id": "4d6f6808cd82453d8b91b351f4ff5bd0",
       "version_major": 2,
       "version_minor": 0
      },
      "text/plain": [
       "  0%|          | 0/10000 [00:00<?, ?it/s]"
      ]
     },
     "metadata": {},
     "output_type": "display_data"
    },
    {
     "name": "stdout",
     "output_type": "stream",
     "text": [
      "iterations of beta=0.9090909090909091 are done!\n"
     ]
    },
    {
     "data": {
      "application/vnd.jupyter.widget-view+json": {
       "model_id": "7a4a829ee25a449189fd4c9367c9859b",
       "version_major": 2,
       "version_minor": 0
      },
      "text/plain": [
       "  0%|          | 0/10000 [00:00<?, ?it/s]"
      ]
     },
     "metadata": {},
     "output_type": "display_data"
    },
    {
     "name": "stdout",
     "output_type": "stream",
     "text": [
      "iterations of beta=0.625 are done!\n"
     ]
    },
    {
     "data": {
      "application/vnd.jupyter.widget-view+json": {
       "model_id": "26ead33818ca4b53b2284e956171aba6",
       "version_major": 2,
       "version_minor": 0
      },
      "text/plain": [
       "  0%|          | 0/10000 [00:00<?, ?it/s]"
      ]
     },
     "metadata": {},
     "output_type": "display_data"
    },
    {
     "name": "stdout",
     "output_type": "stream",
     "text": [
      "iterations of beta=0.47619047619047616 are done!\n"
     ]
    },
    {
     "data": {
      "application/vnd.jupyter.widget-view+json": {
       "model_id": "a6b6d0a27f3347d9a7e5c89605f83ab8",
       "version_major": 2,
       "version_minor": 0
      },
      "text/plain": [
       "  0%|          | 0/10000 [00:00<?, ?it/s]"
      ]
     },
     "metadata": {},
     "output_type": "display_data"
    },
    {
     "name": "stdout",
     "output_type": "stream",
     "text": [
      "iterations of beta=0.3846153846153846 are done!\n"
     ]
    },
    {
     "data": {
      "application/vnd.jupyter.widget-view+json": {
       "model_id": "6f530f7d3fb34764a3106ecdef38e81e",
       "version_major": 2,
       "version_minor": 0
      },
      "text/plain": [
       "  0%|          | 0/10000 [00:00<?, ?it/s]"
      ]
     },
     "metadata": {},
     "output_type": "display_data"
    },
    {
     "name": "stdout",
     "output_type": "stream",
     "text": [
      "iterations of beta=0.3225806451612903 are done!\n"
     ]
    },
    {
     "data": {
      "application/vnd.jupyter.widget-view+json": {
       "model_id": "35f3347fc7bc4c06bd866977ee7f635c",
       "version_major": 2,
       "version_minor": 0
      },
      "text/plain": [
       "  0%|          | 0/10000 [00:00<?, ?it/s]"
      ]
     },
     "metadata": {},
     "output_type": "display_data"
    },
    {
     "name": "stdout",
     "output_type": "stream",
     "text": [
      "iterations of beta=0.2777777777777778 are done!\n"
     ]
    },
    {
     "data": {
      "application/vnd.jupyter.widget-view+json": {
       "model_id": "1d277b026f604112a90c76d52cf45c92",
       "version_major": 2,
       "version_minor": 0
      },
      "text/plain": [
       "  0%|          | 0/10000 [00:00<?, ?it/s]"
      ]
     },
     "metadata": {},
     "output_type": "display_data"
    },
    {
     "name": "stdout",
     "output_type": "stream",
     "text": [
      "iterations of beta=0.24390243902439027 are done!\n"
     ]
    },
    {
     "data": {
      "application/vnd.jupyter.widget-view+json": {
       "model_id": "7d41fc0b64b14e49aaa5ba6c3012471b",
       "version_major": 2,
       "version_minor": 0
      },
      "text/plain": [
       "  0%|          | 0/10000 [00:00<?, ?it/s]"
      ]
     },
     "metadata": {},
     "output_type": "display_data"
    },
    {
     "name": "stdout",
     "output_type": "stream",
     "text": [
      "iterations of beta=0.2173913043478261 are done!\n"
     ]
    }
   ],
   "source": [
    "energy_mean_list, energy_std_list = [], []\n",
    "for i in trange(10):\n",
    "    beta = beta_list[i]\n",
    "    xy_1d = XY_1d_chain_sampling(beta=beta, j=1, length=length, err_thold=1e-15, n=500)\n",
    "    energy_list = []\n",
    "    for i in trange(10000):\n",
    "        xy_1d.sample_chain()\n",
    "        energy_list.append(xy_1d.energy_compute_grids() / length)\n",
    "    energy_mean_list.append(np.mean(energy_list))\n",
    "    energy_std_list.append(np.std(energy_list))\n",
    "    print(f\"iterations of beta={beta} are done!\")"
   ]
  },
  {
   "cell_type": "code",
   "execution_count": 29,
   "id": "c213b05e-ccbe-459a-bffb-165155d61ff5",
   "metadata": {},
   "outputs": [
    {
     "data": {
      "text/plain": [
       "[-0.758574747702075,\n",
       " -0.5040699045179287,\n",
       " -0.3271703671076833,\n",
       " -0.23785818287632532,\n",
       " -0.1835510434168017,\n",
       " -0.15253556531141002,\n",
       " -0.1247792394078079,\n",
       " -0.10931781259435704,\n",
       " -0.10041976197875697,\n",
       " -0.08946341572242628]"
      ]
     },
     "execution_count": 29,
     "metadata": {},
     "output_type": "execute_result"
    }
   ],
   "source": [
    "energy_mean_list"
   ]
  },
  {
   "cell_type": "code",
   "execution_count": 30,
   "id": "5f065ab3-5689-41fa-a3fd-10428cbc43c8",
   "metadata": {},
   "outputs": [
    {
     "data": {
      "text/plain": [
       "[0.029273270051512316,\n",
       " 0.1874473914281641,\n",
       " 0.24567489957188254,\n",
       " 0.26706932103145803,\n",
       " 0.26976978569696597,\n",
       " 0.27429085113533463,\n",
       " 0.279309906437383,\n",
       " 0.27727278642847875,\n",
       " 0.2786340536018883,\n",
       " 0.28168315284415396]"
      ]
     },
     "execution_count": 30,
     "metadata": {},
     "output_type": "execute_result"
    }
   ],
   "source": [
    "energy_std_list"
   ]
  },
  {
   "cell_type": "markdown",
   "id": "31109956-0361-4435-9e59-fb236f187312",
   "metadata": {},
   "source": [
    "-----\n",
    "### Size = 20"
   ]
  },
  {
   "cell_type": "code",
   "execution_count": 32,
   "id": "2d35a70b-48ec-48f6-b3da-71246d5be466",
   "metadata": {},
   "outputs": [],
   "source": [
    "temp_list = [0.1 + 0.5 * i for i in range(10)]\n",
    "beta_list = [1 / temp for temp in temp_list]\n",
    "length = 20"
   ]
  },
  {
   "cell_type": "code",
   "execution_count": null,
   "id": "4459bd57-c64b-44f8-bdd5-ffc66ad5bd1e",
   "metadata": {},
   "outputs": [],
   "source": [
    "energy_mean_list, energy_std_list = [], []\n",
    "for i in trange(10):\n",
    "    beta = beta_list[i]\n",
    "    xy_1d = XY_1d_chain_sampling(beta=beta, j=1, length=length, err_thold=1e-15, n=500)\n",
    "    energy_list = []\n",
    "    for i in trange(5000):\n",
    "        xy_1d.sample_chain()\n",
    "        energy_list.append(xy_1d.energy_compute_grids() / length)\n",
    "    energy_mean_list.append(np.mean(energy_list))\n",
    "    energy_std_list.append(np.std(energy_list))\n",
    "    print(f\"iterations of beta={beta} are done!\")"
   ]
  },
  {
   "cell_type": "code",
   "execution_count": 36,
   "id": "1447f94d-140b-425c-a91d-fe976f029663",
   "metadata": {},
   "outputs": [],
   "source": [
    "def energy_by_z(beta, j, size):\n",
    "    energy = -(size - 1) * j / iv(0, beta*j) * iv(-1, beta*j) \n",
    "    energy_per_spin = energy / size\n",
    "    return energy_per_spin"
   ]
  },
  {
   "cell_type": "code",
   "execution_count": 37,
   "id": "de089f54-2400-4e00-8735-dcbf24780137",
   "metadata": {},
   "outputs": [],
   "source": [
    "energy_z_list = []\n",
    "for beta in beta_list:\n",
    "    energy_z_list.append(energy_by_z(beta, 1, length))"
   ]
  },
  {
   "cell_type": "code",
   "execution_count": 39,
   "id": "01db6c5d-8283-4ae1-b852-6ba0b49f6ffe",
   "metadata": {},
   "outputs": [
    {
     "data": {
      "text/plain": [
       "[-0.9012997436467048,\n",
       " -0.6019912931431447,\n",
       " -0.3972737702528436,\n",
       " -0.2823090762247251,\n",
       " -0.22002074450645215,\n",
       " -0.17812211175626178,\n",
       " -0.15111263960841284,\n",
       " -0.13151942270130962,\n",
       " -0.11302896369241253,\n",
       " -0.10149725938429828]"
      ]
     },
     "execution_count": 39,
     "metadata": {},
     "output_type": "execute_result"
    }
   ],
   "source": [
    "energy_mean_list"
   ]
  },
  {
   "cell_type": "code",
   "execution_count": 38,
   "id": "4f91014b-f6b9-4284-94e6-0a612909cace",
   "metadata": {},
   "outputs": [
    {
     "data": {
      "text/plain": [
       "<matplotlib.legend.Legend at 0x7f89e1bd7ac0>"
      ]
     },
     "execution_count": 38,
     "metadata": {},
     "output_type": "execute_result"
    },
    {
     "data": {
      "image/png": "[encoded data removed]",
      "text/plain": [
       "<Figure size 432x288 with 1 Axes>"
      ]
     },
     "metadata": {
      "needs_background": "light"
     },
     "output_type": "display_data"
    }
   ],
   "source": [
    "plt.plot(energy_z_list, '--', label='z')\n",
    "plt.plot(energy_mean_list, 'o', label='metropolis')\n",
    "plt.xlabel('Temperature')\n",
    "plt.ylabel('Energy_per_spin')\n",
    "plt.title('1D XY model (size=20)')\n",
    "plt.legend()"
   ]
  },
  {
   "cell_type": "code",
   "execution_count": null,
   "id": "284e8d6c-45c2-4675-b0e0-def4ea6bef69",
   "metadata": {},
   "outputs": [],
   "source": []
  }
 ],
 "metadata": {
  "kernelspec": {
   "display_name": "Python 3 (ipykernel)",
   "language": "python",
   "name": "python3"
  },
  "language_info": {
   "codemirror_mode": {
    "name": "ipython",
    "version": 3
   },
   "file_extension": ".py",
   "mimetype": "text/x-python",
   "name": "python",
   "nbconvert_exporter": "python",
   "pygments_lexer": "ipython3",
   "version": "3.9.7"
  }
 },
 "nbformat": 4,
 "nbformat_minor": 5
}
