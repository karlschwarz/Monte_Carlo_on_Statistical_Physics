{
 "cells": [
  {
   "cell_type": "markdown",
   "id": "92f5893c-cbba-4ab4-b3a2-4865a613ac20",
   "metadata": {},
   "source": [
    "# Accelerate the Metropolis Process by Numba\n",
    "\n",
    "### 25.811s for 1E6 MC Steps on ISing Model with 10x10 Grids "
   ]
  },
  {
   "cell_type": "code",
   "execution_count": 1,
   "id": "d3d4a2cc-4034-4b73-a07d-f14f72b8fcbd",
   "metadata": {},
   "outputs": [],
   "source": [
    "import numpy as np\n",
    "import matplotlib.pyplot as plt\n",
    "from tqdm.auto import trange"
   ]
  },
  {
   "cell_type": "code",
   "execution_count": 2,
   "id": "3046a8ec-ea05-4de9-8d38-ebdddcd17a8f",
   "metadata": {},
   "outputs": [],
   "source": [
    "import copy\n",
    "import time"
   ]
  },
  {
   "cell_type": "code",
   "execution_count": 3,
   "id": "7da351dd-794a-4857-a7b8-46d7be00035f",
   "metadata": {},
   "outputs": [],
   "source": [
    "import numba as nb"
   ]
  },
  {
   "cell_type": "code",
   "execution_count": 4,
   "id": "039be9e4-8b0d-440b-8e8f-f17abae78e0c",
   "metadata": {},
   "outputs": [],
   "source": [
    "### fix the random seed\n",
    "seed = 0\n",
    "np.random.seed(seed)"
   ]
  },
  {
   "cell_type": "markdown",
   "id": "800937b3-d8fd-4c69-b7bf-76573a7ca076",
   "metadata": {},
   "source": [
    "-----------"
   ]
  },
  {
   "cell_type": "code",
   "execution_count": 5,
   "id": "a13d0419-3d22-4b2d-a319-1eb28374d9e8",
   "metadata": {},
   "outputs": [],
   "source": [
    "global grids, dims, beta, j, h, delta"
   ]
  },
  {
   "cell_type": "code",
   "execution_count": 6,
   "id": "f87e1652-129d-4726-93b2-7302cade6324",
   "metadata": {},
   "outputs": [],
   "source": [
    "def parameters_init(dims_init, beta_init, j_init, h_init):\n",
    "    global grids, dims, beta, j, h\n",
    "    dims = (nb.int8(dims_init[0]), nb.int8(dims_init[1]))\n",
    "    beta, j, h = nb.int8(beta_init), nb.int8(j_init), nb.int8(h_init)\n",
    "    grids = np.reshape(np.random.choice([nb.int8(-1), nb.int8(1)], \n",
    "                                         size=dims_init[0]*dims_init[1]), dims_init)"
   ]
  },
  {
   "cell_type": "code",
   "execution_count": 7,
   "id": "35b13aeb-bd44-4711-8d57-5e8d09e3d301",
   "metadata": {},
   "outputs": [],
   "source": [
    "### initialize the parameters\n",
    "dims_init = (10, 10)\n",
    "beta_init, j_init, h_init = 1, 1, 0"
   ]
  },
  {
   "cell_type": "code",
   "execution_count": 8,
   "id": "98a4c3fb-fe41-4e62-a4f3-c0e0ef5f7eac",
   "metadata": {},
   "outputs": [],
   "source": [
    "parameters_init(dims_init, beta_init, j_init, h_init)"
   ]
  },
  {
   "cell_type": "markdown",
   "id": "d5b6e29c-b0bd-42d1-b13c-aaebf0c60453",
   "metadata": {},
   "source": [
    "--------------"
   ]
  },
  {
   "cell_type": "code",
   "execution_count": 9,
   "id": "5eba9066-5b34-4690-9a78-66590a932933",
   "metadata": {},
   "outputs": [],
   "source": [
    "types_neibor_get = nb.types.UniTuple(nb.types.UniTuple(nb.int8, 2), 6)(nb.types.UniTuple(nb.int8, 2))\n",
    "@nb.cfunc(types_neibor_get)\n",
    "def neibor_get(id_grid):\n",
    "    height, width = dims\n",
    "    height_index, width_index = id_grid\n",
    "    l_neibor = (height_index, (width_index - 1) % width)\n",
    "    r_neibor = (height_index, (width_index + 1) % width)\n",
    "    u_neibor = ((height_index - 1) % height, width_index)\n",
    "    d_neibor = ((height_index + 1) % height, width_index)          \n",
    "    ur_neibor = ((height_index - 1) % height, (width_index + 1) % width)\n",
    "    dl_neibor = ((height_index + 1) % height, (width_index - 1) % width)\n",
    "    return (l_neibor, r_neibor, u_neibor, d_neibor, ur_neibor, dl_neibor)"
   ]
  },
  {
   "cell_type": "code",
   "execution_count": 10,
   "id": "7299c81a-8b59-4d99-a156-e214b0e5474a",
   "metadata": {},
   "outputs": [],
   "source": [
    "types_energy_compute_one_grid = nb.int32(nb.int8[:, :], nb.types.UniTuple(nb.int8, 2), nb.int8)\n",
    "@nb.njit(types_energy_compute_one_grid)\n",
    "def energy_compute_one_grid(grids, id_grid, id_spin):\n",
    "    energy_one_site = 0\n",
    "    id_neibors = neibor_get(id_grid)\n",
    "    for neibor in id_neibors:\n",
    "        energy_one_site += -j * grids[neibor[0]][neibor[1]] * id_spin\n",
    "    energy_one_site += -h * id_spin\n",
    "    return energy_one_site"
   ]
  },
  {
   "cell_type": "code",
   "execution_count": 11,
   "id": "e7219b50-296d-4407-a2e2-c241097b579b",
   "metadata": {},
   "outputs": [],
   "source": [
    "@nb.njit(nb.float32(nb.int8[:, :]))\n",
    "def energy_compute_grids(grids):\n",
    "    energy_total = 0\n",
    "    for ii in range(dims[0]):\n",
    "        for jj in range(dims[1]):\n",
    "            id_neibors = neibor_get((nb.int8(ii), nb.int8(jj)))\n",
    "            for ij in id_neibors:\n",
    "                energy_ij = -1/2 * j * grids[ij[0]][ij[1]] * grids[ii][jj]\n",
    "                energy_total += energy_ij\n",
    "            ### compute the energy of external field\n",
    "            energy_total += -h * grids[ii][jj]\n",
    "    energy_per_spin = energy_total / (dims[0] * dims[1])\n",
    "    return energy_per_spin"
   ]
  },
  {
   "cell_type": "code",
   "execution_count": 12,
   "id": "f146ace6-2de5-4e0e-a4e0-b4548da2a6ee",
   "metadata": {},
   "outputs": [],
   "source": [
    "@nb.njit(nb.float32(nb.int8[:, :]))\n",
    "def magnet_grids(grids):\n",
    "    m = 0\n",
    "    for ii in range(dims[0]*dims[1]):\n",
    "        row_grids, col_grids = ii // dims[1], ii % dims[1] \n",
    "        m += grids[row_grids][col_grids]\n",
    "    m_avg = m / (dims[0] * dims[1])\n",
    "    return m_avg"
   ]
  },
  {
   "cell_type": "code",
   "execution_count": 13,
   "id": "3eddfd51-b12a-4ef0-bdb8-d1b89130b2df",
   "metadata": {},
   "outputs": [],
   "source": [
    "@nb.njit(nb.int8[:, :](nb.int8[:, :]))\n",
    "def one_site_mcmc(grids):\n",
    "    id_random = np.random.randint(dims[0]*dims[1])\n",
    "    id_height, id_width = nb.int8(id_random // dims[1]), nb.int8(id_random % dims[1])\n",
    "    spin_old = grids[id_height][id_width]\n",
    "    spin_new = nb.int8(-1 * spin_old)\n",
    "    energy_old = energy_compute_one_grid(grids, (id_height, id_width), spin_old)\n",
    "    energy_new = energy_compute_one_grid(grids, (id_height, id_width), spin_new)\n",
    "    energy_delta = energy_new - energy_old\n",
    "    if energy_delta <= 0:\n",
    "        grids[id_height][id_width] = spin_new\n",
    "    else:\n",
    "        prob_accept = np.exp(-beta * energy_delta)\n",
    "        if np.random.random() < prob_accept:\n",
    "            grids[id_height][id_width] = spin_new\n",
    "    return grids"
   ]
  },
  {
   "cell_type": "code",
   "execution_count": 14,
   "id": "16f87d9f-1535-4d81-aad2-93ec75ca2499",
   "metadata": {
    "tags": []
   },
   "outputs": [],
   "source": [
    "@nb.njit(nb.int8[:, :](nb.int8[:, :]))\n",
    "def one_step_mcmc(grids):\n",
    "    for _ in range(dims[0]*dims[1]):\n",
    "        grids = one_site_mcmc(grids)\n",
    "    return grids"
   ]
  },
  {
   "cell_type": "code",
   "execution_count": 15,
   "id": "0946b8c8-97f1-42f0-a4a5-eda4a6daeb67",
   "metadata": {},
   "outputs": [],
   "source": [
    "@nb.njit(nb.float32[:](nb.int8[:, :], nb.int32))\n",
    "def mcmc(grids, steps):\n",
    "    energy_history = np.zeros(steps, dtype=np.float32)\n",
    "    for i in range(steps):\n",
    "        grids = one_step_mcmc(grids)\n",
    "        energy_per_spin = energy_compute_grids(grids)\n",
    "        energy_history[i] = energy_per_spin\n",
    "    return energy_history"
   ]
  },
  {
   "cell_type": "code",
   "execution_count": 16,
   "id": "117e338f-b0bd-4eb8-87b3-0a58f785e04e",
   "metadata": {},
   "outputs": [],
   "source": [
    "def spin_viz(figsize=(10, 10), save=False, folder_name=None):\n",
    "    fig = plt.figure(figsize=figsize)\n",
    "    x, y = np.meshgrid(np.arange(0, dims[0]), np.arange(0, dims[1]))\n",
    "    u = np.cos(grids*np.pi/2)\n",
    "    v = np.sin(grids*np.pi/2)\n",
    "    q = plt.quiver(x, y, u, v)\n",
    "    plt.axis('off')\n",
    "    plt.title('T={:.3f}, spins={}'.format(1/beta, dims), fontsize=20)\n",
    "    if save and step is not None:\n",
    "        plt.savefig(f'./{folder_name}/config_plot_step_{step}.pdf', dpi=100)\n",
    "        plt.close(fig)"
   ]
  },
  {
   "cell_type": "code",
   "execution_count": 17,
   "id": "0c3888a1-bafc-4c43-9106-b6bfce011324",
   "metadata": {},
   "outputs": [],
   "source": [
    "def spin_viz_dynamic(self, spins_list, file_name, figsize=(10, 10)):\n",
    "    fig = plt.figure(figsize=figsize)\n",
    "    x, y = np.meshgrid(np.arange(0, dims[0]), np.arange(0, dims[1]))\n",
    "    u = np.cos(spins_list[0]*np.pi/2)\n",
    "    v = np.sin(spins_list[0]*np.pi/2)\n",
    "    q = plt.quiver(x, y, u, v)\n",
    "    plt.axis('off')\n",
    "    plt.title(f'T={1/beta:.3f}, dims={dims}', fontsize=20)            \n",
    "    def update_quiver(num, q):\n",
    "        u = np.cos(spins_list[num+1]*np.pi/2)\n",
    "        v = np.sin(spins_list[num+1]*np.pi/2)\n",
    "        q.set_UVC(u, v)\n",
    "        return q\n",
    "    frames = len(spins_list) - 1\n",
    "    anim = animation.FuncAnimation(fig, update_quiver, frames=frames, \n",
    "                                   fargs=(q, ), interval=50, repeat=False)\n",
    "    writergif = animation.PillowWriter(fps=100) \n",
    "    anim.save(f'./{file_name}.gif', writer=writergif)"
   ]
  },
  {
   "cell_type": "markdown",
   "id": "f7e1858c-59b2-4920-a7ad-fb1b84d487d7",
   "metadata": {},
   "source": [
    "--------"
   ]
  },
  {
   "cell_type": "code",
   "execution_count": 18,
   "id": "ebc5a6ea-f4ce-42d5-a3a8-85b59f69ae77",
   "metadata": {},
   "outputs": [
    {
     "data": {
      "text/plain": [
       "array([[-1,  1,  1, -1,  1,  1,  1,  1,  1,  1],\n",
       "       [ 1, -1, -1,  1, -1, -1, -1, -1, -1,  1],\n",
       "       [-1,  1,  1, -1, -1,  1,  1,  1,  1, -1],\n",
       "       [ 1, -1,  1, -1,  1,  1, -1,  1,  1, -1],\n",
       "       [-1,  1, -1,  1,  1,  1,  1,  1, -1,  1],\n",
       "       [-1,  1,  1,  1,  1, -1,  1, -1, -1,  1],\n",
       "       [ 1, -1,  1, -1,  1, -1, -1, -1, -1, -1],\n",
       "       [ 1,  1, -1, -1, -1,  1,  1, -1,  1, -1],\n",
       "       [-1,  1, -1,  1,  1,  1,  1,  1,  1, -1],\n",
       "       [ 1,  1, -1, -1,  1, -1, -1,  1,  1, -1]], dtype=int8)"
      ]
     },
     "execution_count": 18,
     "metadata": {},
     "output_type": "execute_result"
    }
   ],
   "source": [
    "grids"
   ]
  },
  {
   "cell_type": "code",
   "execution_count": 19,
   "id": "98665908-cbf4-457e-8d53-2b3971b4be31",
   "metadata": {},
   "outputs": [
    {
     "data": {
      "image/png": "[encoded data removed]",
      "text/plain": [
       "<Figure size 720x720 with 1 Axes>"
      ]
     },
     "metadata": {
      "needs_background": "light"
     },
     "output_type": "display_data"
    }
   ],
   "source": [
    "spin_viz()"
   ]
  },
  {
   "cell_type": "code",
   "execution_count": 20,
   "id": "49c14e54-4f2d-4363-8ce8-8ea976e94a4f",
   "metadata": {},
   "outputs": [
    {
     "name": "stdout",
     "output_type": "stream",
     "text": [
      "Time used for 1E6 steps is: 25.811068534851074.\n"
     ]
    }
   ],
   "source": [
    "time_start = time.time()\n",
    "energy_history = mcmc(grids, 1000000)\n",
    "time_end = time.time()\n",
    "print(f\"Time used for 1E6 steps is: {time_end-time_start}.\")"
   ]
  },
  {
   "cell_type": "code",
   "execution_count": null,
   "id": "85874c8c-e3f6-4db8-af51-646364bef236",
   "metadata": {},
   "outputs": [],
   "source": [
    "plt.plot(energy_history[:4000], '-r')\n",
    "plt.xlabel(\"MC steps\", fontsize=15)\n",
    "plt.ylabel(\"Energy_Per_Spin\")"
   ]
  },
  {
   "cell_type": "code",
   "execution_count": 22,
   "id": "f4854504-86f8-4ae7-9b58-bb6805f9854a",
   "metadata": {},
   "outputs": [
    {
     "data": {
      "image/png": "[encoded data removed]",
      "text/plain": [
       "<Figure size 720x720 with 1 Axes>"
      ]
     },
     "metadata": {
      "needs_background": "light"
     },
     "output_type": "display_data"
    }
   ],
   "source": [
    "spin_viz()"
   ]
  },
  {
   "cell_type": "markdown",
   "id": "eea71280-0be9-418b-ad29-b95dbf87a5ad",
   "metadata": {},
   "source": [
    "----"
   ]
  },
  {
   "cell_type": "code",
   "execution_count": null,
   "id": "85413dd8-a35e-4070-9aa1-2c572b56d742",
   "metadata": {},
   "outputs": [],
   "source": []
  }
 ],
 "metadata": {
  "kernelspec": {
   "display_name": "Python 3 (ipykernel)",
   "language": "python",
   "name": "python3"
  },
  "language_info": {
   "codemirror_mode": {
    "name": "ipython",
    "version": 3
   },
   "file_extension": ".py",
   "mimetype": "text/x-python",
   "name": "python",
   "nbconvert_exporter": "python",
   "pygments_lexer": "ipython3",
   "version": "3.9.10"
  }
 },
 "nbformat": 4,
 "nbformat_minor": 5
}
