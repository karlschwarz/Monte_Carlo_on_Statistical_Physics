{
 "cells": [
  {
   "cell_type": "markdown",
   "id": "5d35b836-5328-4744-9b2f-8c6aebbcfe4c",
   "metadata": {},
   "source": [
    "# Estimation of Autocorrelation Function \n",
    "\n",
    "## (2d Ising model on Square Lattice)"
   ]
  },
  {
   "cell_type": "code",
   "execution_count": 1,
   "id": "8ae5030b-dde4-4917-ad46-78433133e95c",
   "metadata": {},
   "outputs": [],
   "source": [
    "import numpy as np\n",
    "import numba as nb"
   ]
  },
  {
   "cell_type": "code",
   "execution_count": 2,
   "id": "b3d57783-ab70-476f-8783-78a004130bf1",
   "metadata": {},
   "outputs": [],
   "source": [
    "import csv\n",
    "import pickle\n",
    "import time\n",
    "from tqdm.auto import trange"
   ]
  },
  {
   "cell_type": "code",
   "execution_count": 3,
   "id": "9e91ea08-44ab-4791-bd72-994434ca7a70",
   "metadata": {},
   "outputs": [],
   "source": [
    "import matplotlib.pyplot as plt"
   ]
  },
  {
   "cell_type": "code",
   "execution_count": 4,
   "id": "3a347563-5814-4982-abaa-d418339f059e",
   "metadata": {},
   "outputs": [],
   "source": [
    "types_corr_k_steps_est = nb.types.Tuple((nb.float64, nb.float64, nb.float64[:]))(nb.float32[:], nb.int64)\n",
    "@nb.cfunc(types_corr_k_steps_est, parallel=True)\n",
    "def corr_k_step_est(sample_array, k_steps_max):\n",
    "    \"\"\"\n",
    "    Args:\n",
    "        mc_list: (np.array)\n",
    "        k_steps: (int)\n",
    "    Return:\n",
    "        corr_coef: (float)\n",
    "    \"\"\"\n",
    "    sample_len = len(sample_array)\n",
    "    num_i_steps = sample_len - k_steps_max\n",
    "    q_mean = np.mean(sample_array[:num_i_steps])\n",
    "    q_square_mean = np.mean(np.square(sample_array[:num_i_steps]))\n",
    "    qqk_sum = np.zeros(k_steps_max)\n",
    "    for i in range(num_i_steps):\n",
    "        samples_k_sub = sample_array[i:i+k_steps_max+1]\n",
    "        for j in range(1, k_steps_max+1):\n",
    "            qqk_sum[j-1] += (samples_k_sub[0] * samples_k_sub[j])\n",
    "    qqk_array = qqk_sum / num_i_steps\n",
    "    return (q_mean, q_square_mean, qqk_array)"
   ]
  },
  {
   "cell_type": "code",
   "execution_count": 5,
   "id": "d23c1422-aa79-42a3-ab45-43bafa684145",
   "metadata": {},
   "outputs": [],
   "source": [
    "@nb.njit(parallel=True)\n",
    "def autocorr_mc(mc_array, k_steps_max):\n",
    "    m_times = mc_array.shape[0]\n",
    "    qqk_mean_mc, qqk_mean_std_mc = np.zeros(k_steps_max), np.zeros(k_steps_max)\n",
    "    q_mean_array, q_square_mean_array, qqk_double_array = np.zeros(m_times), np.zeros(m_times), np.zeros((m_times, k_steps_max))\n",
    "    for i in range(m_times):\n",
    "        q_mean, q_square_mean, qqk_array = corr_k_step_est(mc_array[i], k_steps_max)\n",
    "        q_mean_array[i] = q_mean\n",
    "        q_square_mean_array[i] = q_square_mean\n",
    "        qqk_double_array[i] = qqk_array\n",
    "    for i in range(k_steps_max):\n",
    "        qqk_mean_mc_i = np.mean(qqk_double_array[:, i])\n",
    "        qqk_mean_std_mc_i = np.std(qqk_double_array[:, i])\n",
    "        qqk_mean_mc[i] = qqk_mean_mc_i\n",
    "        qqk_mean_std_mc[i] = qqk_mean_std_mc_i / np.sqrt(m_times)\n",
    "    ####################################################\n",
    "    q_mean_mc = np.mean(q_mean_array)\n",
    "    q_mean_std_mc = np.std(q_mean_array) / np.sqrt(m_times)\n",
    "    q_square_mean_mc = np.mean(q_square_mean_array)\n",
    "    q_square_mean_std_mc = np.std(q_square_mean_array) / np.sqrt(m_times)\n",
    "    ####################################################\n",
    "    q_mean = (q_mean_mc, q_mean_std_mc)\n",
    "    q_square_mean = (q_square_mean_mc, q_square_mean_std_mc)\n",
    "    qqk_mean = (qqk_mean_mc, qqk_mean_std_mc)\n",
    "    ####################################################\n",
    "    autocorr_mc = (qqk_mean_mc - q_mean_mc ** 2) / (q_square_mean_mc - q_mean_mc ** 2) \n",
    "    return autocorr_mc, q_mean, q_square_mean, qqk_mean"
   ]
  },
  {
   "cell_type": "markdown",
   "id": "d2731367-75ad-4785-abd2-4d349e098e4a",
   "metadata": {},
   "source": [
    "-----------\n",
    "### 4 x 4 Square 2D Ising Model"
   ]
  },
  {
   "cell_type": "code",
   "execution_count": 7,
   "id": "bdbf0ef1-0e8e-4a26-8da9-9e4350215fa3",
   "metadata": {},
   "outputs": [],
   "source": [
    "with open('./data_2d_ising/m_ising2d_square_size_4', 'rb') as file:\n",
    "    m_2dising_4_j_pos = pickle.load(file)"
   ]
  },
  {
   "cell_type": "code",
   "execution_count": 8,
   "id": "e500b04e-5641-4f12-8dc2-b6c8b9ffe24b",
   "metadata": {},
   "outputs": [],
   "source": [
    "m_abs_2dising_4_j_pos = np.abs(m_2dising_4_j_pos)"
   ]
  },
  {
   "cell_type": "code",
   "execution_count": 9,
   "id": "f3691318-b6b6-4d06-94ea-f8a644b768d1",
   "metadata": {},
   "outputs": [],
   "source": [
    "m_abs_2dising_4_j_pos = m_abs_2dising_4_j_pos.reshape((10000, 2500))"
   ]
  },
  {
   "cell_type": "code",
   "execution_count": 10,
   "id": "0b88f995-499a-418e-ba3d-c32927d9b416",
   "metadata": {},
   "outputs": [
    {
     "name": "stdout",
     "output_type": "stream",
     "text": [
      "142.908695936203\n"
     ]
    }
   ],
   "source": [
    "time_start = time.time()\n",
    "m_4_autocorr_mc, _, _, _ = autocorr_mc(m_abs_2dising_4_j_pos, 250)\n",
    "time_end = time.time()\n",
    "print(time_end-time_start)"
   ]
  },
  {
   "cell_type": "code",
   "execution_count": 11,
   "id": "3b35fe04-bda5-46ab-8d49-b25d23eab1b4",
   "metadata": {},
   "outputs": [
    {
     "data": {
      "text/plain": [
       "<matplotlib.legend.Legend at 0x7f71321c6970>"
      ]
     },
     "execution_count": 11,
     "metadata": {},
     "output_type": "execute_result"
    },
    {
     "data": {
      "image/png": "[encoded data removed]",
      "text/plain": [
       "<Figure size 432x288 with 1 Axes>"
      ]
     },
     "metadata": {
      "needs_background": "light"
     },
     "output_type": "display_data"
    }
   ],
   "source": [
    "#plt.plot(np.log10(m_10_autocorr_mc), '-o')\n",
    "plt.plot(m_4_autocorr_mc, '-o', label='size=4')\n",
    "plt.yscale(\"log\")\n",
    "plt.ylim(10 ** (-2.5), 1)\n",
    "plt.xlabel(r'$\\tau$ [MC steps]', fontsize=15)\n",
    "plt.ylabel(r'$A_{|M|}$', fontsize=15)\n",
    "plt.legend()"
   ]
  },
  {
   "cell_type": "markdown",
   "id": "58ae708d-6727-4c46-9dd3-822f8e5506e2",
   "metadata": {
    "tags": []
   },
   "source": [
    "-----------\n",
    "### 8 x 8 Square 2D Ising Model"
   ]
  },
  {
   "cell_type": "code",
   "execution_count": 15,
   "id": "0e726f47-7c03-48a1-b13f-4f1c3f1b783e",
   "metadata": {},
   "outputs": [],
   "source": [
    "with open('./data_2d_ising/m_ising2d_square_size_8', 'rb') as file:\n",
    "    m_2dising_8_j_pos = pickle.load(file)"
   ]
  },
  {
   "cell_type": "code",
   "execution_count": 16,
   "id": "a1c64b3f-d9b3-4d35-99e7-715fe051e0db",
   "metadata": {},
   "outputs": [],
   "source": [
    "m_abs_2dising_8_j_pos = np.abs(m_2dising_8_j_pos)"
   ]
  },
  {
   "cell_type": "code",
   "execution_count": 17,
   "id": "99b6fcbd-36f7-46a0-b088-4c168d92877f",
   "metadata": {},
   "outputs": [],
   "source": [
    "m_abs_2dising_8_j_pos = m_abs_2dising_8_j_pos.reshape((10000, 2500))"
   ]
  },
  {
   "cell_type": "code",
   "execution_count": 18,
   "id": "7fd00898-bbe2-4b37-a8db-554b4c191f9c",
   "metadata": {},
   "outputs": [
    {
     "name": "stdout",
     "output_type": "stream",
     "text": [
      "130.64985060691833\n"
     ]
    }
   ],
   "source": [
    "time_start = time.time()\n",
    "m_8_autocorr_mc, _, _, _ = autocorr_mc(m_abs_2dising_8_j_pos, 250)\n",
    "time_end = time.time()\n",
    "print(time_end-time_start)"
   ]
  },
  {
   "cell_type": "code",
   "execution_count": 19,
   "id": "e1254f92-1a22-47d9-94ed-87008168c1cf",
   "metadata": {},
   "outputs": [
    {
     "data": {
      "text/plain": [
       "<matplotlib.legend.Legend at 0x7f70fd73e910>"
      ]
     },
     "execution_count": 19,
     "metadata": {},
     "output_type": "execute_result"
    },
    {
     "data": {
      "image/png": "[encoded data removed]",
      "text/plain": [
       "<Figure size 432x288 with 1 Axes>"
      ]
     },
     "metadata": {
      "needs_background": "light"
     },
     "output_type": "display_data"
    }
   ],
   "source": [
    "#plt.plot(np.log10(m_10_autocorr_mc), '-o')\n",
    "plt.plot(m_8_autocorr_mc, '-o', label='size=8')\n",
    "plt.yscale(\"log\")\n",
    "plt.ylim(10 ** (-2.5), 1)\n",
    "plt.xlabel(r'$\\tau$ [MC steps]', fontsize=15)\n",
    "plt.ylabel(r'$A_{|M|}$', fontsize=15)\n",
    "plt.legend()"
   ]
  },
  {
   "cell_type": "markdown",
   "id": "bbaca771-38f6-4238-ab13-8db5c5526ad0",
   "metadata": {},
   "source": [
    "-----------\n",
    "### 16 x 16 Square 2D Ising Model"
   ]
  },
  {
   "cell_type": "code",
   "execution_count": 20,
   "id": "eb682936-24f9-4e58-ae30-9876b46212f9",
   "metadata": {},
   "outputs": [],
   "source": [
    "with open('./data_2d_ising/m_ising2d_square_size_16', 'rb') as file:\n",
    "    m_2dising_16_j_pos = pickle.load(file)"
   ]
  },
  {
   "cell_type": "code",
   "execution_count": 21,
   "id": "c9fb0509-3a4e-4a63-88aa-f95620066570",
   "metadata": {},
   "outputs": [],
   "source": [
    "m_abs_2dising_16_j_pos = np.abs(m_2dising_16_j_pos)"
   ]
  },
  {
   "cell_type": "code",
   "execution_count": 22,
   "id": "644b9c45-c59c-4647-af4a-860229e1b994",
   "metadata": {},
   "outputs": [],
   "source": [
    "m_abs_2dising_16_j_pos = m_abs_2dising_16_j_pos.reshape((10000, 2500))"
   ]
  },
  {
   "cell_type": "code",
   "execution_count": 23,
   "id": "aa9b9b6a-a68f-417c-ac93-2acca2d3a295",
   "metadata": {},
   "outputs": [
    {
     "name": "stdout",
     "output_type": "stream",
     "text": [
      "131.414644241333\n"
     ]
    }
   ],
   "source": [
    "time_start = time.time()\n",
    "m_16_autocorr_mc, _, _, _ = autocorr_mc(m_abs_2dising_16_j_pos, 250)\n",
    "time_end = time.time()\n",
    "print(time_end-time_start)"
   ]
  },
  {
   "cell_type": "code",
   "execution_count": 24,
   "id": "ceed3a7c-38c8-4307-a17b-ca2c7aa61e51",
   "metadata": {},
   "outputs": [
    {
     "data": {
      "text/plain": [
       "<matplotlib.legend.Legend at 0x7f70fd6a45e0>"
      ]
     },
     "execution_count": 24,
     "metadata": {},
     "output_type": "execute_result"
    },
    {
     "data": {
      "image/png": "[encoded data removed]",
      "text/plain": [
       "<Figure size 432x288 with 1 Axes>"
      ]
     },
     "metadata": {
      "needs_background": "light"
     },
     "output_type": "display_data"
    }
   ],
   "source": [
    "#plt.plot(np.log10(m_10_autocorr_mc), '-o')\n",
    "plt.plot(m_16_autocorr_mc, '-o', label='size=16')\n",
    "plt.yscale(\"log\")\n",
    "plt.ylim(10 ** (-2.5), 1)\n",
    "plt.xlabel(r'$\\tau$ [MC steps]', fontsize=15)\n",
    "plt.ylabel(r'$A_{|M|}$', fontsize=15)\n",
    "plt.legend()"
   ]
  },
  {
   "cell_type": "markdown",
   "id": "f626947f-d89b-4535-a5d3-dd942a51123e",
   "metadata": {},
   "source": [
    "-----------\n",
    "### 32 x 32 Square 2D Ising Model"
   ]
  },
  {
   "cell_type": "code",
   "execution_count": 25,
   "id": "d182780d-eb24-45a9-ac70-fb24e1e2d7ef",
   "metadata": {},
   "outputs": [],
   "source": [
    "with open('./data_2d_ising/m_ising2d_square_size_32', 'rb') as file:\n",
    "    m_2dising_32_j_pos = pickle.load(file)"
   ]
  },
  {
   "cell_type": "code",
   "execution_count": 26,
   "id": "d6c51ac8-390b-49be-a0b5-e6ffcd99ad45",
   "metadata": {},
   "outputs": [],
   "source": [
    "m_abs_2dising_32_j_pos = np.abs(m_2dising_32_j_pos)"
   ]
  },
  {
   "cell_type": "code",
   "execution_count": 27,
   "id": "cd8f8700-3a76-4960-8970-0e0cd348a41d",
   "metadata": {},
   "outputs": [],
   "source": [
    "m_abs_2dising_32_j_pos = m_abs_2dising_32_j_pos.reshape((10000, 2500))"
   ]
  },
  {
   "cell_type": "code",
   "execution_count": 28,
   "id": "bf7a8624-1777-451b-8b6b-60097f18c241",
   "metadata": {},
   "outputs": [
    {
     "name": "stdout",
     "output_type": "stream",
     "text": [
      "106.58283758163452\n"
     ]
    }
   ],
   "source": [
    "time_start = time.time()\n",
    "m_32_autocorr_mc, _, _, _ = autocorr_mc(m_abs_2dising_32_j_pos, 250)\n",
    "time_end = time.time()\n",
    "print(time_end-time_start)"
   ]
  },
  {
   "cell_type": "code",
   "execution_count": 29,
   "id": "20da1d72-60e6-4dd4-a122-a532d7e6f7bd",
   "metadata": {},
   "outputs": [
    {
     "data": {
      "text/plain": [
       "<matplotlib.legend.Legend at 0x7f70fd621c40>"
      ]
     },
     "execution_count": 29,
     "metadata": {},
     "output_type": "execute_result"
    },
    {
     "data": {
      "image/png": "[encoded data removed]",
      "text/plain": [
       "<Figure size 432x288 with 1 Axes>"
      ]
     },
     "metadata": {
      "needs_background": "light"
     },
     "output_type": "display_data"
    }
   ],
   "source": [
    "#plt.plot(np.log10(m_10_autocorr_mc), '-o')\n",
    "plt.plot(m_32_autocorr_mc, '-o', label='size=32')\n",
    "plt.yscale(\"log\")\n",
    "plt.ylim(10 ** (-2), 1)\n",
    "plt.xlabel(r'$\\tau$ [MC steps]', fontsize=15)\n",
    "plt.ylabel(r'$A_{|M|}$', fontsize=15)\n",
    "plt.legend()"
   ]
  },
  {
   "cell_type": "markdown",
   "id": "6a8d08f3-91a8-4139-88f1-d6699c11b1ca",
   "metadata": {},
   "source": [
    "--------------\n",
    "#### Summary"
   ]
  },
  {
   "cell_type": "code",
   "execution_count": 32,
   "id": "e1fc154e-ad4b-4c85-a160-8606fe0c9d8a",
   "metadata": {},
   "outputs": [
    {
     "data": {
      "text/plain": [
       "<matplotlib.legend.Legend at 0x7f70fcb0a580>"
      ]
     },
     "execution_count": 32,
     "metadata": {},
     "output_type": "execute_result"
    },
    {
     "data": {
      "image/png": "[encoded data removed]",
      "text/plain": [
       "<Figure size 432x288 with 1 Axes>"
      ]
     },
     "metadata": {
      "needs_background": "light"
     },
     "output_type": "display_data"
    }
   ],
   "source": [
    "#plt.plot(np.log10(m_10_autocorr_mc), '-o')\n",
    "plt.plot(m_4_autocorr_mc, '-o', label='size=4')\n",
    "plt.plot(m_8_autocorr_mc, '-o', label='size=8')\n",
    "plt.plot(m_16_autocorr_mc, '-o', label='size=16')\n",
    "plt.plot(m_32_autocorr_mc, '-o', label='size=32')\n",
    "plt.yscale(\"log\")\n",
    "plt.ylim(10 ** (-2.4), 1)\n",
    "plt.xlabel(r'$\\tau$ [MC steps]', fontsize=15)\n",
    "plt.ylabel(r'$A_{|M|}$', fontsize=15)\n",
    "plt.title(\"Ising model on Square Lattice (J>0)\")\n",
    "plt.legend()"
   ]
  },
  {
   "cell_type": "code",
   "execution_count": null,
   "id": "dda6abcd-3d5d-4425-9020-c98a86a48d63",
   "metadata": {},
   "outputs": [],
   "source": []
  }
 ],
 "metadata": {
  "kernelspec": {
   "display_name": "Python 3 (ipykernel)",
   "language": "python",
   "name": "python3"
  },
  "language_info": {
   "codemirror_mode": {
    "name": "ipython",
    "version": 3
   },
   "file_extension": ".py",
   "mimetype": "text/x-python",
   "name": "python",
   "nbconvert_exporter": "python",
   "pygments_lexer": "ipython3",
   "version": "3.9.10"
  }
 },
 "nbformat": 4,
 "nbformat_minor": 5
}
